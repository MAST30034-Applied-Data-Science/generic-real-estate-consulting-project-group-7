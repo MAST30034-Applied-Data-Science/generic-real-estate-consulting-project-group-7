{
 "cells": [
  {
   "cell_type": "code",
   "execution_count": 3,
   "id": "a11e4e00",
   "metadata": {},
   "outputs": [],
   "source": [
    "from bs4 import BeautifulSoup\n",
    "import requests\n",
    "import unicodedata\n",
    "from csv import writer\n",
    "import re\n",
    "import pandas as pd\n",
    "import numpy as np\n",
    "import json\n",
    "\n",
    "\n",
    "#spark session\n",
    "from pyspark.sql import SparkSession\n",
    "from functools import reduce\n",
    "from pyspark.sql import DataFrame\n",
    "from pyspark.sql import functions as F\n",
    "\n",
    "\n",
    "import os\n",
    "import re \n",
    "\n",
    "#folium\n",
    "import geopandas as gpd\n",
    "import re\n",
    "import folium"
   ]
  },
  {
   "cell_type": "code",
   "execution_count": 4,
   "id": "31eec2b2",
   "metadata": {},
   "outputs": [],
   "source": [
    "\n",
    "output_dir = '../../data/curated/domain-website-data'\n",
    "\n",
    "if not os.path.exists(output_dir):\n",
    "    os.makedirs(output_dir)"
   ]
  },
  {
   "cell_type": "code",
   "execution_count": 5,
   "id": "577b8732",
   "metadata": {
    "scrolled": true
   },
   "outputs": [
    {
     "name": "stdout",
     "output_type": "stream",
     "text": [
      "22/09/25 01:44:22 WARN Utils: Your hostname, haixindeMacBook-Pro.local resolves to a loopback address: 127.0.0.1; using 10.0.0.14 instead (on interface en0)\n",
      "22/09/25 01:44:22 WARN Utils: Set SPARK_LOCAL_IP if you need to bind to another address\n"
     ]
    },
    {
     "name": "stderr",
     "output_type": "stream",
     "text": [
      "Setting default log level to \"WARN\".\n",
      "To adjust logging level use sc.setLogLevel(newLevel). For SparkR, use setLogLevel(newLevel).\n"
     ]
    },
    {
     "name": "stdout",
     "output_type": "stream",
     "text": [
      "22/09/25 01:44:23 WARN NativeCodeLoader: Unable to load native-hadoop library for your platform... using builtin-java classes where applicable\n",
      "22/09/25 01:44:24 WARN Utils: Service 'SparkUI' could not bind on port 4040. Attempting port 4041.\n"
     ]
    },
    {
     "name": "stderr",
     "output_type": "stream",
     "text": [
      "                                                                                \r"
     ]
    }
   ],
   "source": [
    "# Create a spark session\n",
    "\n",
    "spark = (\n",
    "    SparkSession.builder.appName(\"MAST30034 Project 2\")\n",
    "    .config(\"spark.sql.repl.eagerEval.enabled\", True) \n",
    "    .config(\"spark.sql.parquet.cacheMetadata\", \"true\")\n",
    "    .getOrCreate()\n",
    ")\n",
    "\n",
    "# read in the parquet\n",
    "domain = spark.read.parquet('../../data/raw/domain-website-data')\n"
   ]
  },
  {
   "cell_type": "code",
   "execution_count": 6,
   "id": "5ce2666c",
   "metadata": {},
   "outputs": [
    {
     "name": "stderr",
     "output_type": "stream",
     "text": [
      "                                                                                \r"
     ]
    }
   ],
   "source": [
    "# drop NSW\n",
    "domain = domain.filter(F.col('state') == 'VIC')\n",
    "\n",
    "# drop column with too many missing values\n",
    "domain = domain.drop('land_size','land_unit','is_rural','is_retirement').toPandas()\n",
    "\n",
    "# filter property type, remove 'cat spcae' and 'Acreage / Semi-Rural'\n",
    "selected_property_type = ['Apartment / Unit / Flat', 'Studio', 'Townhouse',\n",
    "       'House', 'New House & Land', 'Semi-Detached', 'Villa', 'Terrace',\n",
    "       'Acreage / Semi-Rural', 'New Apartments / Off the Plan', 'Duplex',\n",
    "       'Unknown', 'Farm', 'Penthouse', 'Rural']\n",
    "\n",
    "domain= domain.loc[domain['property_type'].isin(selected_property_type)]"
   ]
  },
  {
   "cell_type": "code",
   "execution_count": 7,
   "id": "486ff41d",
   "metadata": {},
   "outputs": [],
   "source": [
    "#remove instance with 'carpark' in street name\n",
    "def carpark_flag(s):\n",
    "    pattern = re.compile('carpark|CP|car park|carspace')\n",
    "    match = re.match(pattern,s)\n",
    "    #o for non carpark, 1 for carpark\n",
    "    if match is None:\n",
    "        return 0\n",
    "    else:\n",
    "        return 1"
   ]
  },
  {
   "cell_type": "code",
   "execution_count": 8,
   "id": "691ddb70",
   "metadata": {},
   "outputs": [],
   "source": [
    "def get_rent(s):\n",
    "    pattern = re.compile('^( )*([0-9]*)( )*')\n",
    "    num = re.sub('(,)?', '',s)\n",
    "    num = re.sub('[^0-9]+', ' ',num)\n",
    "    match = re.match(pattern,num)[0].replace(\" \", \"\")\n",
    "\n",
    "    if match !='':\n",
    "        return match\n",
    "    else:\n",
    "        return 0"
   ]
  },
  {
   "cell_type": "code",
   "execution_count": 9,
   "id": "454185d4",
   "metadata": {},
   "outputs": [],
   "source": [
    "domain['street'] = domain['street'].str.lower()\n",
    "domain['carpark_flag'] = [carpark_flag(i) for i in domain['street']]\n",
    "domain['price_rent'] = [float(get_rent(i)) for i in domain['price']]\n",
    "domain['coordinate'] = domain[['latitude','longitude']].values.tolist()"
   ]
  },
  {
   "cell_type": "code",
   "execution_count": 10,
   "id": "30023a2b",
   "metadata": {},
   "outputs": [],
   "source": [
    "# exclude instance with no street name\n",
    "domain = domain[(domain.street != 'nan')]\n",
    "\n",
    "# exclude car park instance\n",
    "domain = domain[(domain.carpark_flag != 1) & (domain.price_rent > 40)]\n",
    "\n",
    "# remove property without bathroom or bedroom\n",
    "domain = domain[(domain.bedrooms != 0) & (domain.bathrooms != 0)]\n",
    "\n",
    "# remove property greater than 4000 pw\n",
    "domain = domain[(domain.price_rent < 4000)]\n",
    "\n",
    "# remove property outside VIC\n",
    "domain = domain[(domain.state == 'VIC')]\n",
    "\n",
    "#remove duplicate property\n",
    "domain = domain.drop_duplicates(subset='url', keep=\"first\")"
   ]
  },
  {
   "cell_type": "code",
   "execution_count": 11,
   "id": "d598706a",
   "metadata": {},
   "outputs": [],
   "source": [
    "'''\n",
    "\n",
    "remove postcode not within metro melbourne\n",
    "\n",
    "\n",
    "'''\n",
    "metro_list = [i for i in range(3000,3212)]+[3335,3336,3338]+[i for i in range(3427,3430)]\\\n",
    "                +[i for i in range(3750,3756)]+[i for i in range(3759,3762)]\\\n",
    "                +[i for i in range(3765,3776)] +[i for i in range(3781,3788)]\\\n",
    "                +[i for i in range(3788,3816)] +[i for i in range(3910,3921)]\\\n",
    "                +[i for i in range(3926,3945)] +[i for i in range(3975,3979)] +[3980] #308 postcodes\n",
    "\n",
    "domain_spk = spark.createDataFrame(domain)\n",
    "domain_spk = domain_spk.filter(domain_spk.postcode.isin(metro_list))"
   ]
  },
  {
   "cell_type": "code",
   "execution_count": 12,
   "id": "66771472",
   "metadata": {},
   "outputs": [],
   "source": [
    "count_agg = domain_spk.groupby('postcode').count()\\\n",
    "            .withColumnRenamed(\"postcode\",\"postcode_1\")\\\n",
    "            .withColumnRenamed(\"count\",\"postcode_property_count\") #233 postcodes"
   ]
  },
  {
   "cell_type": "code",
   "execution_count": 13,
   "id": "07e88389",
   "metadata": {},
   "outputs": [
    {
     "name": "stderr",
     "output_type": "stream",
     "text": [
      "                                                                                \r"
     ]
    },
    {
     "data": {
      "text/plain": [
       "180"
      ]
     },
     "execution_count": 13,
     "metadata": {},
     "output_type": "execute_result"
    }
   ],
   "source": [
    "'''\n",
    "\n",
    "add count by postcode \n",
    "\n",
    "remove postcode with less than 10 property\n",
    "\n",
    "'''\n",
    "\n",
    "count_agg = domain_spk.groupby('postcode').count()\\\n",
    "            .withColumnRenamed(\"postcode\",\"postcode_1\")\\\n",
    "            .withColumnRenamed(\"count\",\"postcode_property_count\")\n",
    "domain_spk = domain_spk.join(count_agg,domain_spk.postcode == count_agg.postcode_1,\"inner\").drop('postcode_1')\n",
    "\n",
    "# remove postcode with less than 10 property\n",
    "domain_spk = domain_spk.filter((F.col('postcode_property_count') > 10))\n",
    "domain_spk.groupby('postcode').count().count() #180 postcodes remains"
   ]
  },
  {
   "cell_type": "code",
   "execution_count": 14,
   "id": "13ea398b",
   "metadata": {},
   "outputs": [
    {
     "name": "stderr",
     "output_type": "stream",
     "text": [
      "\r",
      "[Stage 12:===========================================>              (6 + 2) / 8]\r",
      "\r",
      "                                                                                \r"
     ]
    },
    {
     "data": {
      "text/html": [
       "<div>\n",
       "<style scoped>\n",
       "    .dataframe tbody tr th:only-of-type {\n",
       "        vertical-align: middle;\n",
       "    }\n",
       "\n",
       "    .dataframe tbody tr th {\n",
       "        vertical-align: top;\n",
       "    }\n",
       "\n",
       "    .dataframe thead th {\n",
       "        text-align: right;\n",
       "    }\n",
       "</style>\n",
       "<table border=\"1\" class=\"dataframe\">\n",
       "  <thead>\n",
       "    <tr style=\"text-align: right;\">\n",
       "      <th></th>\n",
       "      <th>property_id</th>\n",
       "      <th>street</th>\n",
       "      <th>suburb</th>\n",
       "      <th>postcode</th>\n",
       "      <th>latitude</th>\n",
       "      <th>longitude</th>\n",
       "      <th>price</th>\n",
       "      <th>bedrooms</th>\n",
       "      <th>bathrooms</th>\n",
       "      <th>parking</th>\n",
       "      <th>property_type</th>\n",
       "      <th>url</th>\n",
       "      <th>price_rent</th>\n",
       "      <th>coordinate</th>\n",
       "      <th>postcode_property_count</th>\n",
       "    </tr>\n",
       "  </thead>\n",
       "  <tbody>\n",
       "    <tr>\n",
       "      <th>0</th>\n",
       "      <td>15949214</td>\n",
       "      <td>33 cindia crescent</td>\n",
       "      <td>TARNEIT</td>\n",
       "      <td>3029</td>\n",
       "      <td>-37.836800</td>\n",
       "      <td>144.681992</td>\n",
       "      <td>$410</td>\n",
       "      <td>3</td>\n",
       "      <td>2</td>\n",
       "      <td>2</td>\n",
       "      <td>House</td>\n",
       "      <td>https://www.domain.com.au/33-cindia-crescent-t...</td>\n",
       "      <td>410.0</td>\n",
       "      <td>[-37.8368, 144.681992]</td>\n",
       "      <td>264</td>\n",
       "    </tr>\n",
       "    <tr>\n",
       "      <th>1</th>\n",
       "      <td>15919137</td>\n",
       "      <td>3 loire close</td>\n",
       "      <td>HOPPERS CROSSING</td>\n",
       "      <td>3029</td>\n",
       "      <td>-37.858776</td>\n",
       "      <td>144.670990</td>\n",
       "      <td>$420</td>\n",
       "      <td>4</td>\n",
       "      <td>2</td>\n",
       "      <td>2</td>\n",
       "      <td>House</td>\n",
       "      <td>https://www.domain.com.au/3-loire-close-hopper...</td>\n",
       "      <td>420.0</td>\n",
       "      <td>[-37.8587761, 144.67099]</td>\n",
       "      <td>264</td>\n",
       "    </tr>\n",
       "    <tr>\n",
       "      <th>2</th>\n",
       "      <td>15598556</td>\n",
       "      <td>5 toscana</td>\n",
       "      <td>TRUGANINA</td>\n",
       "      <td>3029</td>\n",
       "      <td>-37.831726</td>\n",
       "      <td>144.721200</td>\n",
       "      <td>$440</td>\n",
       "      <td>4</td>\n",
       "      <td>2</td>\n",
       "      <td>2</td>\n",
       "      <td>New House &amp; Land</td>\n",
       "      <td>https://www.domain.com.au/5-toscana-truganina-...</td>\n",
       "      <td>440.0</td>\n",
       "      <td>[-37.8317261, 144.7212]</td>\n",
       "      <td>264</td>\n",
       "    </tr>\n",
       "    <tr>\n",
       "      <th>3</th>\n",
       "      <td>15513398</td>\n",
       "      <td>12 sussex court</td>\n",
       "      <td>TARNEIT</td>\n",
       "      <td>3029</td>\n",
       "      <td>-37.850758</td>\n",
       "      <td>144.712234</td>\n",
       "      <td>$415 per week</td>\n",
       "      <td>3</td>\n",
       "      <td>3</td>\n",
       "      <td>1</td>\n",
       "      <td>House</td>\n",
       "      <td>https://www.domain.com.au/12-sussex-court-tarn...</td>\n",
       "      <td>415.0</td>\n",
       "      <td>[-37.8507576, 144.712234]</td>\n",
       "      <td>264</td>\n",
       "    </tr>\n",
       "    <tr>\n",
       "      <th>4</th>\n",
       "      <td>15500954</td>\n",
       "      <td>4a craig close</td>\n",
       "      <td>TRUGANINA</td>\n",
       "      <td>3029</td>\n",
       "      <td>-37.843980</td>\n",
       "      <td>144.717514</td>\n",
       "      <td>$410 per week</td>\n",
       "      <td>3</td>\n",
       "      <td>2</td>\n",
       "      <td>1</td>\n",
       "      <td>House</td>\n",
       "      <td>https://www.domain.com.au/4a-craig-close-truga...</td>\n",
       "      <td>410.0</td>\n",
       "      <td>[-37.84398, 144.717514]</td>\n",
       "      <td>264</td>\n",
       "    </tr>\n",
       "    <tr>\n",
       "      <th>...</th>\n",
       "      <td>...</td>\n",
       "      <td>...</td>\n",
       "      <td>...</td>\n",
       "      <td>...</td>\n",
       "      <td>...</td>\n",
       "      <td>...</td>\n",
       "      <td>...</td>\n",
       "      <td>...</td>\n",
       "      <td>...</td>\n",
       "      <td>...</td>\n",
       "      <td>...</td>\n",
       "      <td>...</td>\n",
       "      <td>...</td>\n",
       "      <td>...</td>\n",
       "      <td>...</td>\n",
       "    </tr>\n",
       "    <tr>\n",
       "      <th>12122</th>\n",
       "      <td>16059419</td>\n",
       "      <td>15/26 green island avenue</td>\n",
       "      <td>MOUNT MARTHA</td>\n",
       "      <td>3934</td>\n",
       "      <td>-38.248100</td>\n",
       "      <td>145.041611</td>\n",
       "      <td>$625 per week</td>\n",
       "      <td>3</td>\n",
       "      <td>2</td>\n",
       "      <td>2</td>\n",
       "      <td>Townhouse</td>\n",
       "      <td>https://www.domain.com.au/15-26-green-island-a...</td>\n",
       "      <td>625.0</td>\n",
       "      <td>[-38.2481, 145.041611]</td>\n",
       "      <td>13</td>\n",
       "    </tr>\n",
       "    <tr>\n",
       "      <th>12123</th>\n",
       "      <td>16047477</td>\n",
       "      <td>8 raymond street</td>\n",
       "      <td>MOUNT MARTHA</td>\n",
       "      <td>3934</td>\n",
       "      <td>-38.285440</td>\n",
       "      <td>144.995331</td>\n",
       "      <td>$720 weekly</td>\n",
       "      <td>4</td>\n",
       "      <td>2</td>\n",
       "      <td>2</td>\n",
       "      <td>House</td>\n",
       "      <td>https://www.domain.com.au/8-raymond-street-mou...</td>\n",
       "      <td>720.0</td>\n",
       "      <td>[-38.28544, 144.995331]</td>\n",
       "      <td>13</td>\n",
       "    </tr>\n",
       "    <tr>\n",
       "      <th>12124</th>\n",
       "      <td>16034036</td>\n",
       "      <td>15 whitsunday ct</td>\n",
       "      <td>MOUNT MARTHA</td>\n",
       "      <td>3934</td>\n",
       "      <td>-38.250070</td>\n",
       "      <td>145.052078</td>\n",
       "      <td>$700 weekly</td>\n",
       "      <td>4</td>\n",
       "      <td>2</td>\n",
       "      <td>2</td>\n",
       "      <td>House</td>\n",
       "      <td>https://www.domain.com.au/15-whitsunday-ct-mou...</td>\n",
       "      <td>700.0</td>\n",
       "      <td>[-38.25007, 145.052078]</td>\n",
       "      <td>13</td>\n",
       "    </tr>\n",
       "    <tr>\n",
       "      <th>12125</th>\n",
       "      <td>15957808</td>\n",
       "      <td>107 forest dr</td>\n",
       "      <td>MOUNT MARTHA</td>\n",
       "      <td>3934</td>\n",
       "      <td>-38.290226</td>\n",
       "      <td>145.016418</td>\n",
       "      <td>$870 weekly</td>\n",
       "      <td>3</td>\n",
       "      <td>2</td>\n",
       "      <td>2</td>\n",
       "      <td>House</td>\n",
       "      <td>https://www.domain.com.au/107-forest-dr-mount-...</td>\n",
       "      <td>870.0</td>\n",
       "      <td>[-38.290226, 145.016418]</td>\n",
       "      <td>13</td>\n",
       "    </tr>\n",
       "    <tr>\n",
       "      <th>12126</th>\n",
       "      <td>15912517</td>\n",
       "      <td>2 pleasant view court</td>\n",
       "      <td>MOUNT MARTHA</td>\n",
       "      <td>3934</td>\n",
       "      <td>-38.271950</td>\n",
       "      <td>145.003632</td>\n",
       "      <td>$1200.00</td>\n",
       "      <td>4</td>\n",
       "      <td>3</td>\n",
       "      <td>2</td>\n",
       "      <td>House</td>\n",
       "      <td>https://www.domain.com.au/2-pleasant-view-cour...</td>\n",
       "      <td>1200.0</td>\n",
       "      <td>[-38.27195, 145.003632]</td>\n",
       "      <td>13</td>\n",
       "    </tr>\n",
       "  </tbody>\n",
       "</table>\n",
       "<p>12127 rows × 15 columns</p>\n",
       "</div>"
      ],
      "text/plain": [
       "       property_id                     street            suburb  postcode  \\\n",
       "0         15949214         33 cindia crescent           TARNEIT      3029   \n",
       "1         15919137              3 loire close  HOPPERS CROSSING      3029   \n",
       "2         15598556                  5 toscana         TRUGANINA      3029   \n",
       "3         15513398            12 sussex court           TARNEIT      3029   \n",
       "4         15500954             4a craig close         TRUGANINA      3029   \n",
       "...            ...                        ...               ...       ...   \n",
       "12122     16059419  15/26 green island avenue      MOUNT MARTHA      3934   \n",
       "12123     16047477           8 raymond street      MOUNT MARTHA      3934   \n",
       "12124     16034036           15 whitsunday ct      MOUNT MARTHA      3934   \n",
       "12125     15957808              107 forest dr      MOUNT MARTHA      3934   \n",
       "12126     15912517      2 pleasant view court      MOUNT MARTHA      3934   \n",
       "\n",
       "        latitude   longitude          price  bedrooms  bathrooms  parking  \\\n",
       "0     -37.836800  144.681992           $410         3          2        2   \n",
       "1     -37.858776  144.670990           $420         4          2        2   \n",
       "2     -37.831726  144.721200           $440         4          2        2   \n",
       "3     -37.850758  144.712234  $415 per week         3          3        1   \n",
       "4     -37.843980  144.717514  $410 per week         3          2        1   \n",
       "...          ...         ...            ...       ...        ...      ...   \n",
       "12122 -38.248100  145.041611  $625 per week         3          2        2   \n",
       "12123 -38.285440  144.995331    $720 weekly         4          2        2   \n",
       "12124 -38.250070  145.052078    $700 weekly         4          2        2   \n",
       "12125 -38.290226  145.016418    $870 weekly         3          2        2   \n",
       "12126 -38.271950  145.003632       $1200.00         4          3        2   \n",
       "\n",
       "          property_type                                                url  \\\n",
       "0                 House  https://www.domain.com.au/33-cindia-crescent-t...   \n",
       "1                 House  https://www.domain.com.au/3-loire-close-hopper...   \n",
       "2      New House & Land  https://www.domain.com.au/5-toscana-truganina-...   \n",
       "3                 House  https://www.domain.com.au/12-sussex-court-tarn...   \n",
       "4                 House  https://www.domain.com.au/4a-craig-close-truga...   \n",
       "...                 ...                                                ...   \n",
       "12122         Townhouse  https://www.domain.com.au/15-26-green-island-a...   \n",
       "12123             House  https://www.domain.com.au/8-raymond-street-mou...   \n",
       "12124             House  https://www.domain.com.au/15-whitsunday-ct-mou...   \n",
       "12125             House  https://www.domain.com.au/107-forest-dr-mount-...   \n",
       "12126             House  https://www.domain.com.au/2-pleasant-view-cour...   \n",
       "\n",
       "       price_rent                 coordinate  postcode_property_count  \n",
       "0           410.0     [-37.8368, 144.681992]                      264  \n",
       "1           420.0   [-37.8587761, 144.67099]                      264  \n",
       "2           440.0    [-37.8317261, 144.7212]                      264  \n",
       "3           415.0  [-37.8507576, 144.712234]                      264  \n",
       "4           410.0    [-37.84398, 144.717514]                      264  \n",
       "...           ...                        ...                      ...  \n",
       "12122       625.0     [-38.2481, 145.041611]                       13  \n",
       "12123       720.0    [-38.28544, 144.995331]                       13  \n",
       "12124       700.0    [-38.25007, 145.052078]                       13  \n",
       "12125       870.0   [-38.290226, 145.016418]                       13  \n",
       "12126      1200.0    [-38.27195, 145.003632]                       13  \n",
       "\n",
       "[12127 rows x 15 columns]"
      ]
     },
     "execution_count": 14,
     "metadata": {},
     "output_type": "execute_result"
    }
   ],
   "source": [
    "domain = domain_spk.toPandas()\n",
    "domain = domain.drop(columns = ['carpark_flag','state'])\n",
    "domain"
   ]
  },
  {
   "cell_type": "code",
   "execution_count": 16,
   "id": "58a8c988",
   "metadata": {},
   "outputs": [],
   "source": [
    "# output cleaned domain dataset\n",
    "output_dir = '../../data/curated/domain-website-data/'\n",
    "filename = 'domain_preprocessed.csv'\n",
    "output_dir_full = f'{output_dir}{filename}'\n",
    "domain.to_csv(output_dir_full)"
   ]
  },
  {
   "cell_type": "code",
   "execution_count": null,
   "id": "2d39f671",
   "metadata": {},
   "outputs": [],
   "source": []
  },
  {
   "cell_type": "code",
   "execution_count": null,
   "id": "5646c32c",
   "metadata": {},
   "outputs": [],
   "source": []
  },
  {
   "cell_type": "code",
   "execution_count": null,
   "id": "9f3385fd",
   "metadata": {},
   "outputs": [],
   "source": []
  },
  {
   "cell_type": "code",
   "execution_count": null,
   "id": "8c7846f1",
   "metadata": {},
   "outputs": [],
   "source": []
  },
  {
   "cell_type": "code",
   "execution_count": 700,
   "id": "ea6462b4",
   "metadata": {},
   "outputs": [
    {
     "name": "stderr",
     "output_type": "stream",
     "text": [
      "/Library/Frameworks/Python.framework/Versions/3.10/lib/python3.10/site-packages/seaborn/distributions.py:2619: FutureWarning: `distplot` is a deprecated function and will be removed in a future version. Please adapt your code to use either `displot` (a figure-level function with similar flexibility) or `histplot` (an axes-level function for histograms).\n",
      "  warnings.warn(msg, FutureWarning)\n"
     ]
    },
    {
     "name": "stdout",
     "output_type": "stream",
     "text": [
      "The price_rent skewness is 4.47\n"
     ]
    },
    {
     "data": {
      "image/png": "[encoded data removed]",
      "text/plain": [
       "<Figure size 432x288 with 1 Axes>"
      ]
     },
     "metadata": {
      "needs_background": "light"
     },
     "output_type": "display_data"
    },
    {
     "data": {
      "image/png": "[encoded data removed]",
      "text/plain": [
       "<Figure size 432x288 with 1 Axes>"
      ]
     },
     "metadata": {
      "needs_background": "light"
     },
     "output_type": "display_data"
    },
    {
     "data": {
      "image/png": "[encoded data removed]",
      "text/plain": [
       "<Figure size 432x288 with 1 Axes>"
      ]
     },
     "metadata": {
      "needs_background": "light"
     },
     "output_type": "display_data"
    }
   ],
   "source": [
    "# see where properties are distributed\n",
    "domain = domain_spk.toPandas()\n",
    "domain.hist(column='postcode_property_count',bins=100)\n",
    "domain['postcode_property_count'].describe()\n",
    "\n",
    "\n",
    "\n",
    "# plot price against normal distribution to see skewness\n",
    "import seaborn as sns\n",
    "from scipy import stats\n",
    "\n",
    "# plot rental price to see outliers\n",
    "domain.hist(column='price_rent',bins=100)\n",
    "\n",
    "# info about rental price\n",
    "domain['price_rent'].describe()\n",
    "\n",
    "def skew_distribution(data, col='price_rent'):\n",
    "    fig, ax1 = plt.subplots()\n",
    "    sns.distplot(data[col], ax=ax1, fit=stats.norm)\n",
    "    (mu, sigma) = stats.norm.fit(data[col])\n",
    "    ax1.set(title='Normal distribution ($\\mu=$ {:.2f} and $\\sigma=$ {:.2f} )'.format(mu, sigma))\n",
    "\n",
    "    fig, ax2 = plt.subplots()\n",
    "    stats.probplot(data[col], plot=plt)\n",
    "\n",
    "    print('The {} skewness is {:.2f}'.format(col, stats.skew(data[col])))\n",
    "    \n",
    "skew_distribution(domain, col='price_rent')\n"
   ]
  },
  {
   "cell_type": "code",
   "execution_count": null,
   "id": "5a08c83b",
   "metadata": {},
   "outputs": [],
   "source": []
  }
 ],
 "metadata": {
  "kernelspec": {
   "display_name": "Python 3 (ipykernel)",
   "language": "python",
   "name": "python3"
  },
  "language_info": {
   "codemirror_mode": {
    "name": "ipython",
    "version": 3
   },
   "file_extension": ".py",
   "mimetype": "text/x-python",
   "name": "python",
   "nbconvert_exporter": "python",
   "pygments_lexer": "ipython3",
   "version": "3.10.5"
  }
 },
 "nbformat": 4,
 "nbformat_minor": 5
}
