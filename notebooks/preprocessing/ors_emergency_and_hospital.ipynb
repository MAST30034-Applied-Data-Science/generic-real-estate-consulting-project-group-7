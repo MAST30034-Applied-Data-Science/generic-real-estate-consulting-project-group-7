{
 "cells": [
  {
   "cell_type": "code",
   "execution_count": 14,
   "id": "58bf743a",
   "metadata": {},
   "outputs": [],
   "source": [
    "import openrouteservice\n",
    "from bs4 import BeautifulSoup\n",
    "import requests\n",
    "import unicodedata\n",
    "from csv import writer\n",
    "import re\n",
    "import pandas as pd\n",
    "import numpy as np\n",
    "import json\n",
    "\n",
    "\n",
    "#spark session\n",
    "from pyspark.sql import SparkSession\n",
    "from functools import reduce\n",
    "from pyspark.sql import DataFrame\n",
    "from pyspark.sql import functions as F\n",
    "\n",
    "\n",
    "import os\n",
    "import re \n",
    "import time\n",
    "\n",
    "#folium\n",
    "import geopandas as gpd\n",
    "import re\n",
    "import folium"
   ]
  },
  {
   "cell_type": "code",
   "execution_count": 15,
   "id": "98b309ed",
   "metadata": {},
   "outputs": [],
   "source": [
    "\n",
    "output_dir = '../../data/raw/ors-data/'\n",
    "\n",
    "\n",
    "\n"
   ]
  },
  {
   "cell_type": "code",
   "execution_count": 16,
   "id": "bba26ee1",
   "metadata": {},
   "outputs": [],
   "source": [
    "# use your own key\n",
    "client = openrouteservice.Client(key='your_key') # Provide your personal API key"
   ]
  },
  {
   "cell_type": "code",
   "execution_count": 17,
   "id": "56856970",
   "metadata": {},
   "outputs": [],
   "source": [
    "# read files\n",
    "domain = pd.read_csv('../../data/curated/domain-website-data/domain_preprocessed.csv')\n",
    "\n",
    "# external datasets\n",
    "hospitals = pd.read_csv('../../data/raw/external-data/hospital.csv')\n",
    "care_facility = pd.read_csv('../../data/raw/external-data/care_facility.csv')\n",
    "emergency = pd.read_csv('../../data/raw/external-data/emergency_service.csv')\n",
    "\n",
    "\n",
    "# file with postcode centroid coordinates\n",
    "centroid = pd.read_csv('../../data/raw/external-data/postcode_centroid.csv')\n"
   ]
  },
  {
   "cell_type": "code",
   "execution_count": 18,
   "id": "4832c224",
   "metadata": {},
   "outputs": [],
   "source": [
    "#postcode with properties\n",
    "postcode_list = list(domain['postcode'].unique())\n",
    "\n",
    "# remove external data not in domain postcode list\n",
    "hospitals= hospitals.loc[hospitals['postcode'].isin(postcode_list)].reset_index().drop(columns = ['Unnamed: 0'])\n",
    "care_facility= care_facility.loc[care_facility['postcode'].isin(postcode_list)].reset_index().drop(columns = ['Unnamed: 0'])\n",
    "emergency= emergency.loc[emergency['postcode'].isin(postcode_list)].reset_index().drop(columns = ['Unnamed: 0'])"
   ]
  },
  {
   "cell_type": "code",
   "execution_count": 6,
   "id": "d45f368c",
   "metadata": {},
   "outputs": [
    {
     "name": "stderr",
     "output_type": "stream",
     "text": [
      "/Library/Frameworks/Python.framework/Versions/3.10/lib/python3.10/site-packages/openrouteservice/client.py:211: UserWarning: Rate limit exceeded. Retrying for the 1st time.\n",
      "  warnings.warn('Rate limit exceeded. Retrying for the {0}{1} time.'.format(retry_counter + 1,\n",
      "/Library/Frameworks/Python.framework/Versions/3.10/lib/python3.10/site-packages/openrouteservice/client.py:211: UserWarning: Rate limit exceeded. Retrying for the 2nd time.\n",
      "  warnings.warn('Rate limit exceeded. Retrying for the {0}{1} time.'.format(retry_counter + 1,\n",
      "/Library/Frameworks/Python.framework/Versions/3.10/lib/python3.10/site-packages/openrouteservice/client.py:211: UserWarning: Rate limit exceeded. Retrying for the 3rd time.\n",
      "  warnings.warn('Rate limit exceeded. Retrying for the {0}{1} time.'.format(retry_counter + 1,\n",
      "/Library/Frameworks/Python.framework/Versions/3.10/lib/python3.10/site-packages/openrouteservice/client.py:211: UserWarning: Rate limit exceeded. Retrying for the 4th time.\n",
      "  warnings.warn('Rate limit exceeded. Retrying for the {0}{1} time.'.format(retry_counter + 1,\n",
      "/Library/Frameworks/Python.framework/Versions/3.10/lib/python3.10/site-packages/openrouteservice/client.py:211: UserWarning: Rate limit exceeded. Retrying for the 5th time.\n",
      "  warnings.warn('Rate limit exceeded. Retrying for the {0}{1} time.'.format(retry_counter + 1,\n",
      "/Library/Frameworks/Python.framework/Versions/3.10/lib/python3.10/site-packages/openrouteservice/client.py:211: UserWarning: Rate limit exceeded. Retrying for the 6th time.\n",
      "  warnings.warn('Rate limit exceeded. Retrying for the {0}{1} time.'.format(retry_counter + 1,\n",
      "/Library/Frameworks/Python.framework/Versions/3.10/lib/python3.10/site-packages/openrouteservice/client.py:211: UserWarning: Rate limit exceeded. Retrying for the 7th time.\n",
      "  warnings.warn('Rate limit exceeded. Retrying for the {0}{1} time.'.format(retry_counter + 1,\n"
     ]
    }
   ],
   "source": [
    "\"\"\"\n",
    "\n",
    "\n",
    "hospital\n",
    "\n",
    "\n",
    "\"\"\"\n",
    "\n",
    "dic_hospital = {'distance': [], 'duration': []}\n",
    "count = 0\n",
    "\n",
    "for i in range(len(hospitals)):\n",
    "    if count/10 == 0:\n",
    "            time.sleep(5)\n",
    "    current_postcode = hospitals['postcode'][i]\n",
    "    txt = hospitals['geometry'][i]\n",
    "    current_point_txt = re.search(\"\\((.*?)\\)\",txt)[0]\n",
    "    current_point = eval(current_point_txt.replace(\" \", \",\"))\n",
    "    postcode_centroid = eval(centroid[centroid.POSTCODE == current_postcode]['centroid'].values[0])\n",
    "    route = client.directions(\n",
    "                coordinates= [postcode_centroid, current_point],\n",
    "                profile='driving-car',\n",
    "                format='geojson',\n",
    "                radiuses = 1000,\n",
    "            )\n",
    "    distance = route['features'][0]['properties']['segments'][0]['distance']\n",
    "    duration = route['features'][0]['properties']['segments'][0]['duration']\n",
    "    dic_hospital['distance'].append(distance)\n",
    "    dic_hospital['duration'].append(duration)\n",
    "    count += 1"
   ]
  },
  {
   "cell_type": "code",
   "execution_count": 8,
   "id": "7fa11619",
   "metadata": {},
   "outputs": [],
   "source": [
    "# add distance and duration column to hospital df\n",
    "hospitals['distance'] = dic_hospital['distance']\n",
    "hospitals['durations'] = dic_hospital['duration']"
   ]
  },
  {
   "cell_type": "code",
   "execution_count": 33,
   "id": "489a20e1",
   "metadata": {},
   "outputs": [],
   "source": [
    "# choose hopistal with shortest duration by postcode\n",
    "code_selected = list(hospitals.groupby('postcode').min('duration')['code'])\n",
    "hospitals_filtered= hospitals[hospitals.code.isin(code_selected)]"
   ]
  },
  {
   "cell_type": "code",
   "execution_count": 34,
   "id": "ed495627",
   "metadata": {},
   "outputs": [],
   "source": [
    "# output directory\n",
    "output_dir = '../../data/raw/ors-data/'\n",
    "\n",
    "# output file\n",
    "filename = 'hospital_by_postcode.csv'\n",
    "output_dir_full = f'{output_dir}{filename}'\n",
    "hospitals_filtered.to_csv(output_dir_full)\n",
    "\n"
   ]
  },
  {
   "cell_type": "code",
   "execution_count": null,
   "id": "ffa0a6c4",
   "metadata": {},
   "outputs": [],
   "source": []
  },
  {
   "cell_type": "code",
   "execution_count": null,
   "id": "ca302bb2",
   "metadata": {},
   "outputs": [],
   "source": []
  },
  {
   "cell_type": "code",
   "execution_count": null,
   "id": "a81dea03",
   "metadata": {},
   "outputs": [],
   "source": []
  },
  {
   "cell_type": "code",
   "execution_count": 19,
   "id": "ab18b8ce",
   "metadata": {},
   "outputs": [
    {
     "name": "stderr",
     "output_type": "stream",
     "text": [
      "/Library/Frameworks/Python.framework/Versions/3.10/lib/python3.10/site-packages/openrouteservice/client.py:211: UserWarning: Rate limit exceeded. Retrying for the 1st time.\n",
      "  warnings.warn('Rate limit exceeded. Retrying for the {0}{1} time.'.format(retry_counter + 1,\n",
      "/Library/Frameworks/Python.framework/Versions/3.10/lib/python3.10/site-packages/openrouteservice/client.py:211: UserWarning: Rate limit exceeded. Retrying for the 2nd time.\n",
      "  warnings.warn('Rate limit exceeded. Retrying for the {0}{1} time.'.format(retry_counter + 1,\n",
      "/Library/Frameworks/Python.framework/Versions/3.10/lib/python3.10/site-packages/openrouteservice/client.py:211: UserWarning: Rate limit exceeded. Retrying for the 3rd time.\n",
      "  warnings.warn('Rate limit exceeded. Retrying for the {0}{1} time.'.format(retry_counter + 1,\n",
      "/Library/Frameworks/Python.framework/Versions/3.10/lib/python3.10/site-packages/openrouteservice/client.py:211: UserWarning: Rate limit exceeded. Retrying for the 4th time.\n",
      "  warnings.warn('Rate limit exceeded. Retrying for the {0}{1} time.'.format(retry_counter + 1,\n",
      "/Library/Frameworks/Python.framework/Versions/3.10/lib/python3.10/site-packages/openrouteservice/client.py:211: UserWarning: Rate limit exceeded. Retrying for the 5th time.\n",
      "  warnings.warn('Rate limit exceeded. Retrying for the {0}{1} time.'.format(retry_counter + 1,\n",
      "/Library/Frameworks/Python.framework/Versions/3.10/lib/python3.10/site-packages/openrouteservice/client.py:211: UserWarning: Rate limit exceeded. Retrying for the 6th time.\n",
      "  warnings.warn('Rate limit exceeded. Retrying for the {0}{1} time.'.format(retry_counter + 1,\n",
      "/Library/Frameworks/Python.framework/Versions/3.10/lib/python3.10/site-packages/openrouteservice/client.py:211: UserWarning: Rate limit exceeded. Retrying for the 7th time.\n",
      "  warnings.warn('Rate limit exceeded. Retrying for the {0}{1} time.'.format(retry_counter + 1,\n",
      "/Library/Frameworks/Python.framework/Versions/3.10/lib/python3.10/site-packages/openrouteservice/client.py:211: UserWarning: Rate limit exceeded. Retrying for the 8th time.\n",
      "  warnings.warn('Rate limit exceeded. Retrying for the {0}{1} time.'.format(retry_counter + 1,\n",
      "/Library/Frameworks/Python.framework/Versions/3.10/lib/python3.10/site-packages/openrouteservice/client.py:211: UserWarning: Rate limit exceeded. Retrying for the 9th time.\n",
      "  warnings.warn('Rate limit exceeded. Retrying for the {0}{1} time.'.format(retry_counter + 1,\n"
     ]
    }
   ],
   "source": [
    "'''\n",
    "\n",
    "\n",
    "emergency\n",
    "\n",
    "\n",
    "'''\n",
    "\n",
    "# create dictionary to store\n",
    "emergency_facility = {'distance': [], 'duration': []}\n",
    "count = 0\n",
    "\n",
    "for i in range(len(emergency)):\n",
    "    if count/5 == 0:\n",
    "            time.sleep(10)\n",
    "            \n",
    "    current_postcode = emergency['postcode'][i]\n",
    "    # geometry location coordinates in string\n",
    "    txt = emergency['geometry'][i]\n",
    "    #find the coordinates\n",
    "    current_point_txt = re.search(\"\\((.*?)\\)\",txt)[0]\n",
    "    # convert to tuple\n",
    "    current_point = eval(current_point_txt.replace(\" \", \",\"))\n",
    "    postcode_centroid = eval(centroid[centroid.POSTCODE == current_postcode]['centroid'].values[0])\n",
    "    route = client.directions(\n",
    "                coordinates= [postcode_centroid, current_point],\n",
    "                profile='driving-car',\n",
    "                format='geojson',\n",
    "                radiuses = 1000,\n",
    "            )\n",
    "    distance = route['features'][0]['properties']['segments'][0]['distance']\n",
    "    duration = route['features'][0]['properties']['segments'][0]['duration']\n",
    "    emergency_facility['distance'].append(distance)\n",
    "    emergency_facility['duration'].append(duration)\n",
    "    count += 1"
   ]
  },
  {
   "cell_type": "code",
   "execution_count": 20,
   "id": "4b3bc274",
   "metadata": {},
   "outputs": [],
   "source": [
    "# add distance and duration column to care facility df\n",
    "emergency['distance'] = emergency_facility['distance']\n",
    "emergency['durations'] = emergency_facility['duration']\n"
   ]
  },
  {
   "cell_type": "code",
   "execution_count": 25,
   "id": "315c27d6",
   "metadata": {},
   "outputs": [],
   "source": [
    "emergency = emergency.drop(columns = ['index']).reset_index()"
   ]
  },
  {
   "cell_type": "code",
   "execution_count": 28,
   "id": "d8e2bbc7",
   "metadata": {},
   "outputs": [],
   "source": [
    "# choose care_facility with shortest duration by postcode\n",
    "code_selected = list(emergency.groupby('postcode').min('duration')['index'])\n",
    "emergency_filtered = emergency[emergency.index.isin(code_selected)]"
   ]
  },
  {
   "cell_type": "code",
   "execution_count": 32,
   "id": "e6b55eed",
   "metadata": {},
   "outputs": [],
   "source": [
    "# output directory\n",
    "output_dir = '../../data/raw/ors-data/'\n",
    "\n",
    "# output\n",
    "filename = 'emergency_by_postcode.csv'\n",
    "output_dir_full = f'{output_dir}{filename}'\n",
    "emergency_filtered.to_csv(output_dir_full)\n",
    "\n",
    "\n"
   ]
  },
  {
   "cell_type": "code",
   "execution_count": null,
   "id": "abe902f7",
   "metadata": {},
   "outputs": [],
   "source": []
  }
 ],
 "metadata": {
  "kernelspec": {
   "display_name": "Python 3.9.12 64-bit",
   "language": "python",
   "name": "python3"
  },
  "language_info": {
   "codemirror_mode": {
    "name": "ipython",
    "version": 3
   },
   "file_extension": ".py",
   "mimetype": "text/x-python",
   "name": "python",
   "nbconvert_exporter": "python",
   "pygments_lexer": "ipython3",
   "version": "3.9.12"
  },
  "vscode": {
   "interpreter": {
    "hash": "bbee7842ce8ba476870a006d5d5b68f11cea175afb0fea017b7f81beccf88892"
   }
  }
 },
 "nbformat": 4,
 "nbformat_minor": 5
}
