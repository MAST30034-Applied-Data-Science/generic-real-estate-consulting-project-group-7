{
 "cells": [
  {
   "cell_type": "code",
   "execution_count": 1,
   "id": "2e44d823",
   "metadata": {},
   "outputs": [],
   "source": [
    "import pandas as pd\n",
    "import re"
   ]
  },
  {
   "cell_type": "code",
   "execution_count": 2,
   "id": "d4d5b371",
   "metadata": {},
   "outputs": [],
   "source": [
    "# read in te data from raw/external-data folder\n",
    "df_high_school_rank = pd.read_csv('../../data/raw/external-data/school_clean.csv')\n",
    "df_primary_school_rank = pd.read_csv('../../data/external-raw-data/primary_school_rank.csv')"
   ]
  },
  {
   "cell_type": "code",
   "execution_count": 4,
   "id": "fe5f2344",
   "metadata": {},
   "outputs": [],
   "source": [
    "# unified the type of the column postcode(originally exsits 1 column of float, and others are all strings)\n",
    "df_high_school_rank = df_high_school_rank.astype({'postcode': str})"
   ]
  },
  {
   "cell_type": "code",
   "execution_count": 5,
   "id": "e15b11ad",
   "metadata": {},
   "outputs": [],
   "source": [
    "# filter out the schools with not found or nan in postcode column\n",
    "for i in range(0, len(df_high_school_rank)):\n",
    "    if df_high_school_rank['postcode'][i].isnumeric():\n",
    "        continue\n",
    "    else:\n",
    "        df_high_school_rank.drop(i, inplace=True)"
   ]
  },
  {
   "cell_type": "code",
   "execution_count": 6,
   "id": "52bf1aa2",
   "metadata": {},
   "outputs": [],
   "source": [
    "# create two dictionary to store how many schools in each postcode\n",
    "high_dic_postcode = df_high_school_rank.groupby('postcode').count().to_dict()['School']\n",
    "primary_dic_postcode = df_primary_school_rank.groupby('Postcode').count().to_dict()['School name']"
   ]
  },
  {
   "cell_type": "code",
   "execution_count": 7,
   "id": "1715a49f",
   "metadata": {},
   "outputs": [],
   "source": [
    "# get the list postcode\n",
    "high_lst_postcode = sorted(list(set(df_high_school_rank['postcode'])))\n",
    "primary_lst_postcode = sorted(list(set(df_primary_school_rank['Postcode'])))"
   ]
  },
  {
   "cell_type": "code",
   "execution_count": 8,
   "id": "f7bc2fc0",
   "metadata": {},
   "outputs": [],
   "source": [
    "# sort the dataframes by poscode to reduce the number of comparision\n",
    "df_sorted_high_school_rank = df_high_school_rank.sort_values(by=['postcode'], ascending=True, ignore_index = True)\n",
    "df_sorted_primary_school_rank = df_primary_school_rank.sort_values(by=['Postcode'], ascending=True, ignore_index = True)"
   ]
  },
  {
   "cell_type": "code",
   "execution_count": 9,
   "id": "94a145f1",
   "metadata": {},
   "outputs": [],
   "source": [
    "# create one dataframe and one for primary school to store the result: how many schools has the rank in each level\n",
    "headers = [\"POSTCODE\", \"1-10\", \"11-50\", \"51-100\", \"101-150\", \"150+\"]\n",
    "high_school = pd.DataFrame(columns = headers, index=range(len(high_lst_postcode)))\n",
    "primary_school = pd.DataFrame(columns = headers, index=range(len(primary_lst_postcode)))"
   ]
  },
  {
   "cell_type": "code",
   "execution_count": 10,
   "id": "aac7bb7d",
   "metadata": {},
   "outputs": [],
   "source": [
    "# define a fuction to fill in the dataframe\n",
    "def education_resource(df_school, dic_postcode, empty_df):\n",
    "    \n",
    "    # index indicates which row is up to\n",
    "    index = 0\n",
    "    \n",
    "    for j in range(0, len(dic_postcode.keys())):\n",
    "        \n",
    "        # get the postcode for this suburb\n",
    "        postcode = list(dic_postcode.keys())[j]\n",
    "        empty_df.loc[j][\"POSTCODE\"] = postcode\n",
    "        \n",
    "        # for each suburb, initialise the number of school in each level by 0\n",
    "        empty_df.loc[j][\"1-10\"] = 0\n",
    "        empty_df.loc[j][\"11-50\"] = 0 \n",
    "        empty_df.loc[j][\"51-100\"] = 0 \n",
    "        empty_df.loc[j][\"101-150\"] = 0\n",
    "        empty_df.loc[j][\"150+\"] = 0 \n",
    "        \n",
    "        # count is the total number of schools in this suburb\n",
    "        count = dic_postcode[postcode]\n",
    "        \n",
    "        # for each school in this suburb, check its rank and increase the number of school in the corresponding level\n",
    "        for i in range(index, index+count):\n",
    "            if df_school.loc[i]['rank'] <= 10:\n",
    "                empty_df.loc[j][\"1-10\"] += 1\n",
    "            if (df_school.loc[i]['rank'] > 10) & (df_school.loc[i]['rank'] <= 50):\n",
    "                empty_df.loc[j][\"11-50\"] += 1\n",
    "            if (df_school.loc[i]['rank'] > 50) & (df_school.loc[i]['rank'] <= 100):\n",
    "                empty_df.loc[j][\"51-100\"] += 1  \n",
    "            if (df_school.loc[i]['rank'] > 100) & (df_school.loc[i]['rank'] <= 150):\n",
    "                empty_df.loc[j][\"101-150\"] += 1\n",
    "            if (df_school.loc[i]['rank'] > 150):    \n",
    "                empty_df.loc[j][\"150+\"] += 1\n",
    "                \n",
    "        # update the position pointer\n",
    "        index = index+count\n",
    "    return"
   ]
  },
  {
   "cell_type": "code",
   "execution_count": 11,
   "id": "e06381f9",
   "metadata": {
    "scrolled": true
   },
   "outputs": [],
   "source": [
    "# use fuction to fill the dataframes\n",
    "education_resource(df_sorted_high_school_rank, high_dic_postcode, high_school)\n",
    "education_resource(df_sorted_primary_school_rank, primary_dic_postcode, primary_school)"
   ]
  },
  {
   "cell_type": "code",
   "execution_count": 14,
   "id": "01a58131",
   "metadata": {},
   "outputs": [],
   "source": [
    "high_school.to_csv('../../data/raw/external-data/postcode_high_school.csv', index=False)\n",
    "primary_school.to_csv('../../data/raw/external-data/postcode_primary_school.csv', index=False)"
   ]
  },
  {
   "cell_type": "code",
   "execution_count": null,
   "id": "27653472",
   "metadata": {},
   "outputs": [],
   "source": []
  }
 ],
 "metadata": {
  "kernelspec": {
   "display_name": "Python 3 (ipykernel)",
   "language": "python",
   "name": "python3"
  },
  "language_info": {
   "codemirror_mode": {
    "name": "ipython",
    "version": 3
   },
   "file_extension": ".py",
   "mimetype": "text/x-python",
   "name": "python",
   "nbconvert_exporter": "python",
   "pygments_lexer": "ipython3",
   "version": "3.10.5"
  }
 },
 "nbformat": 4,
 "nbformat_minor": 5
}
