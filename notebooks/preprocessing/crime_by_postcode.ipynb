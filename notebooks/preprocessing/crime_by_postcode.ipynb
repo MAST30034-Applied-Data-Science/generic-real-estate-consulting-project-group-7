{
 "cells": [
  {
   "cell_type": "code",
   "execution_count": 4,
   "id": "0f182824",
   "metadata": {},
   "outputs": [],
   "source": [
    "#import pandas\n",
    "import pandas as pd\n",
    "\n",
    "#import the col function\n",
    "from pyspark.sql.functions import col"
   ]
  },
  {
   "cell_type": "code",
   "execution_count": 5,
   "id": "8cade905",
   "metadata": {},
   "outputs": [],
   "source": [
    "# Read xlsx file into DataFrame df\n",
    "xls = pd.ExcelFile('../../data/external-raw-data/crime_by_LGA.xlsx')\n",
    "df = pd.read_excel(xls, 'Table 01')"
   ]
  },
  {
   "cell_type": "code",
   "execution_count": 6,
   "id": "fbfe0b12",
   "metadata": {},
   "outputs": [],
   "source": [
    "# Preprocessing for crime data file\n",
    "# Change the Local Government Area column of crime data to UPPER case for merge\n",
    "df['Local Government Area'] = df['Local Government Area'].str.upper()\n",
    "\n",
    "# Only remain the 2022 data\n",
    "df = df[df['Year'] == 2022]\n",
    "\n",
    "# Only remain the useful column which are Local Government Area, Incidents Recorded and Rate per 100,000 population\n",
    "df_select = df[[\"Local Government Area\", \"Incidents Recorded\",\"Rate per 100,000 population\"]]"
   ]
  },
  {
   "cell_type": "code",
   "execution_count": 9,
   "id": "ce4bcbc2",
   "metadata": {},
   "outputs": [
    {
     "name": "stderr",
     "output_type": "stream",
     "text": [
      "Downloading...\n",
      "From: https://drive.google.com/uc?id=1phfJSEVdWOdt8PQGtw_QmWkT2uYLk_j1\n",
      "To: /Users/yinanli/Documents/GitHub/generic-real-estate-consulting-project-group-7/data/external-raw-data/lga_postcode_table.xlsx\n",
      "100%|█████████████████████████████████████████| 101k/101k [00:00<00:00, 605kB/s]\n"
     ]
    },
    {
     "data": {
      "text/plain": [
       "'../../data/external-raw-data/lga_postcode_table.xlsx'"
      ]
     },
     "execution_count": 9,
     "metadata": {},
     "output_type": "execute_result"
    }
   ],
   "source": [
    "# download lga convert postcode table\n",
    "# ref: https://greenash.net.au/thoughts/2014/07/australian-lga-to-postcode-mappings-with-postgis-and-intersects/\n",
    "import gdown\n",
    "url_convert = 'https://drive.google.com/uc?id=1phfJSEVdWOdt8PQGtw_QmWkT2uYLk_j1'\n",
    "output_convert = '../../data/external-raw-data/lga_postcode_table.xlsx'\n",
    "gdown.download(url_convert, output_convert, quiet=False)"
   ]
  },
  {
   "cell_type": "code",
   "execution_count": 10,
   "id": "fa31b2a6",
   "metadata": {},
   "outputs": [],
   "source": [
    "# Read xlsx file into DataFrame df\n",
    "xls_convert = pd.ExcelFile('../../data/external-raw-data/lga_postcode_table.xlsx')\n",
    "df_convert = pd.read_excel(xls_convert, 'lga_postcode_mappings')"
   ]
  },
  {
   "cell_type": "code",
   "execution_count": 11,
   "id": "b1ad1f5a",
   "metadata": {},
   "outputs": [],
   "source": [
    "# Only remain the data of Victoria\n",
    "df_convert = df_convert[df_convert['State'] =='Victoria']\n",
    "df_convert = df_convert[df_convert['Postcode']< 4000]\n",
    "df_convert = df_convert[df_convert['Postcode']>= 3000]\n",
    "\n",
    "# Change the LGA region column of convertion file to UPPER case for merge\n",
    "df_convert['LGA region'] = df_convert['LGA region'].str.upper().str.strip()\n",
    "df_convert.reset_index()"
   ]
  },
  {
   "cell_type": "code",
   "execution_count": 13,
   "id": "81146924",
   "metadata": {},
   "outputs": [
    {
     "name": "stderr",
     "output_type": "stream",
     "text": [
      "/var/folders/7v/v1gh4ksn641cv86zx_w_yd840000gp/T/ipykernel_87185/224504681.py:2: SettingWithCopyWarning: \n",
      "A value is trying to be set on a copy of a slice from a DataFrame.\n",
      "Try using .loc[row_indexer,col_indexer] = value instead\n",
      "\n",
      "See the caveats in the documentation: https://pandas.pydata.org/pandas-docs/stable/user_guide/indexing.html#returning-a-view-versus-a-copy\n",
      "  df_select.loc[:,\"Local Government Area\"] = df_select[\"Local Government Area\"].astype(str).str.strip()\n"
     ]
    }
   ],
   "source": [
    "# make sure Local Government Area and LGA region are the same data type\n",
    "df_select.loc[:,\"Local Government Area\"] = df_select[\"Local Government Area\"].astype(str).str.strip()\n",
    "df_convert.loc[:,\"LGA region\"] = df_convert[\"LGA region\"].astype(str).str.strip()\n",
    "\n",
    "# inner merge by Local Government Area and LGA region\n",
    "df = df_convert.merge(df_select, left_on='LGA region', right_on='Local Government Area', how='inner')"
   ]
  },
  {
   "cell_type": "code",
   "execution_count": 14,
   "id": "473f70d1",
   "metadata": {},
   "outputs": [],
   "source": [
    "# Only remain the postcode and criminal rate columns\n",
    "df = df[[\"Postcode\", \"Rate per 100,000 population\"]]"
   ]
  },
  {
   "cell_type": "code",
   "execution_count": 15,
   "id": "aab67519",
   "metadata": {},
   "outputs": [
    {
     "data": {
      "text/html": [
       "<div>\n",
       "<style scoped>\n",
       "    .dataframe tbody tr th:only-of-type {\n",
       "        vertical-align: middle;\n",
       "    }\n",
       "\n",
       "    .dataframe tbody tr th {\n",
       "        vertical-align: top;\n",
       "    }\n",
       "\n",
       "    .dataframe thead th {\n",
       "        text-align: right;\n",
       "    }\n",
       "</style>\n",
       "<table border=\"1\" class=\"dataframe\">\n",
       "  <thead>\n",
       "    <tr style=\"text-align: right;\">\n",
       "      <th></th>\n",
       "      <th>Postcode</th>\n",
       "      <th>Rate per 100,000 population</th>\n",
       "    </tr>\n",
       "  </thead>\n",
       "  <tbody>\n",
       "    <tr>\n",
       "      <th>0</th>\n",
       "      <td>3678</td>\n",
       "      <td>2827.301615</td>\n",
       "    </tr>\n",
       "    <tr>\n",
       "      <th>1</th>\n",
       "      <td>3691</td>\n",
       "      <td>2827.301615</td>\n",
       "    </tr>\n",
       "    <tr>\n",
       "      <th>2</th>\n",
       "      <td>3695</td>\n",
       "      <td>2827.301615</td>\n",
       "    </tr>\n",
       "    <tr>\n",
       "      <th>3</th>\n",
       "      <td>3697</td>\n",
       "      <td>2827.301615</td>\n",
       "    </tr>\n",
       "    <tr>\n",
       "      <th>4</th>\n",
       "      <td>3698</td>\n",
       "      <td>2827.301615</td>\n",
       "    </tr>\n",
       "    <tr>\n",
       "      <th>...</th>\n",
       "      <td>...</td>\n",
       "      <td>...</td>\n",
       "    </tr>\n",
       "    <tr>\n",
       "      <th>1488</th>\n",
       "      <td>3490</td>\n",
       "      <td>4788.492747</td>\n",
       "    </tr>\n",
       "    <tr>\n",
       "      <th>1489</th>\n",
       "      <td>3491</td>\n",
       "      <td>4788.492747</td>\n",
       "    </tr>\n",
       "    <tr>\n",
       "      <th>1490</th>\n",
       "      <td>3507</td>\n",
       "      <td>4788.492747</td>\n",
       "    </tr>\n",
       "    <tr>\n",
       "      <th>1491</th>\n",
       "      <td>3531</td>\n",
       "      <td>4788.492747</td>\n",
       "    </tr>\n",
       "    <tr>\n",
       "      <th>1492</th>\n",
       "      <td>3533</td>\n",
       "      <td>4788.492747</td>\n",
       "    </tr>\n",
       "  </tbody>\n",
       "</table>\n",
       "<p>1493 rows × 2 columns</p>\n",
       "</div>"
      ],
      "text/plain": [
       "      Postcode  Rate per 100,000 population\n",
       "0         3678                  2827.301615\n",
       "1         3691                  2827.301615\n",
       "2         3695                  2827.301615\n",
       "3         3697                  2827.301615\n",
       "4         3698                  2827.301615\n",
       "...        ...                          ...\n",
       "1488      3490                  4788.492747\n",
       "1489      3491                  4788.492747\n",
       "1490      3507                  4788.492747\n",
       "1491      3531                  4788.492747\n",
       "1492      3533                  4788.492747\n",
       "\n",
       "[1493 rows x 2 columns]"
      ]
     },
     "execution_count": 15,
     "metadata": {},
     "output_type": "execute_result"
    }
   ],
   "source": [
    "df"
   ]
  },
  {
   "cell_type": "code",
   "execution_count": 16,
   "id": "470e4d08",
   "metadata": {},
   "outputs": [
    {
     "data": {
      "text/plain": [
       "<AxesSubplot:>"
      ]
     },
     "execution_count": 16,
     "metadata": {},
     "output_type": "execute_result"
    },
    {
     "data": {
      "image/png": "[encoded data removed]",
      "text/plain": [
       "<Figure size 432x288 with 1 Axes>"
      ]
     },
     "metadata": {
      "needs_background": "light"
     },
     "output_type": "display_data"
    }
   ],
   "source": [
    "# draw the boxplot to see the skew to consider group by method\n",
    "df.boxplot(column=['Rate per 100,000 population'])\n",
    "\n",
    "# calculate the mean of the criminal rate column\n",
    "df['Rate per 100,000 population'].mean()\n",
    "\n",
    "# we decide use median to group by by postcode\n",
    "df = df.groupby('Postcode')['Rate per 100,000 population'].median()"
   ]
  },
  {
   "cell_type": "code",
   "execution_count": 23,
   "id": "671b3fd6",
   "metadata": {},
   "outputs": [],
   "source": [
    "# Save to csv\n",
    "df.to_csv(\"../../data/raw/external-data/criminal.csv\")"
   ]
  },
  {
   "cell_type": "code",
   "execution_count": null,
   "id": "d030dea9",
   "metadata": {},
   "outputs": [],
   "source": []
  }
 ],
 "metadata": {
  "kernelspec": {
   "display_name": "Python 3 (ipykernel)",
   "language": "python",
   "name": "python3"
  },
  "language_info": {
   "codemirror_mode": {
    "name": "ipython",
    "version": 3
   },
   "file_extension": ".py",
   "mimetype": "text/x-python",
   "name": "python",
   "nbconvert_exporter": "python",
   "pygments_lexer": "ipython3",
   "version": "3.10.5"
  }
 },
 "nbformat": 4,
 "nbformat_minor": 5
}
