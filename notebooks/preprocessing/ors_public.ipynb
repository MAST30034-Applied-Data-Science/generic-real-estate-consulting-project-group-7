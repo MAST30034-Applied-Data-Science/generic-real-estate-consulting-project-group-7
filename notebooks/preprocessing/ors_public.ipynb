{
 "cells": [
  {
   "cell_type": "code",
   "execution_count": 1,
   "id": "f792219b",
   "metadata": {},
   "outputs": [],
   "source": [
    "import pandas as pd\n",
    "import folium\n",
    "import time\n",
    "import re"
   ]
  },
  {
   "cell_type": "code",
   "execution_count": 5,
   "id": "e3699d52",
   "metadata": {},
   "outputs": [],
   "source": [
    "df_all_centroid = pd.read_csv('../../data/raw/external-data/postcode_centroid.csv')"
   ]
  },
  {
   "cell_type": "code",
   "execution_count": 6,
   "id": "969bcdc1",
   "metadata": {},
   "outputs": [],
   "source": [
    "df_public_service = pd.read_csv(\"../../data/raw/external-data/public_service.csv\")"
   ]
  },
  {
   "cell_type": "code",
   "execution_count": 4,
   "id": "92a3c3ef",
   "metadata": {},
   "outputs": [],
   "source": [
    "# extract latitude and longitude from the geometry column using regular expression\n",
    "loc = {\"LATITUDE\":[], \"LONGITUDE\":[]}\n",
    "for i in range(0, len(df_public_service)):\n",
    "    lon = float(re.findall(r\"\\d+\\.?\\d*\", df_public_service['geometry'][i])[0])\n",
    "    lat = float(re.findall(r\"\\d+\\.?\\d*\", df_public_service['geometry'][i])[1])\n",
    "    loc[\"LATITUDE\"].append(-lat)\n",
    "    loc[\"LONGITUDE\"].append(lon)"
   ]
  },
  {
   "cell_type": "code",
   "execution_count": 5,
   "id": "4ac9e819",
   "metadata": {},
   "outputs": [],
   "source": [
    "# create two coloumns for latitude and longitude\n",
    "df_public_service['LATITUDE'] = loc[\"LATITUDE\"]\n",
    "df_public_service['LONGITUDE'] = loc[\"LONGITUDE\"]"
   ]
  },
  {
   "cell_type": "code",
   "execution_count": 6,
   "id": "7edc466e",
   "metadata": {},
   "outputs": [],
   "source": [
    "import openrouteservice as ors\n",
    "client = ors.Client(key='your_key') # Provide your personal API key"
   ]
  },
  {
   "cell_type": "code",
   "execution_count": 7,
   "id": "99a527f8",
   "metadata": {},
   "outputs": [],
   "source": [
    "def nearest(df_all_property, df_facility, index):\n",
    "    i = index\n",
    "    \n",
    "    # get the postcode find all facilities in this postcode\n",
    "    postcode = df_all_property['POSTCODE'][i]\n",
    "    facility = df_facility.loc[df_facility['postcode'] == postcode].to_dict()\n",
    "\n",
    "    # get the longitude and latitude of the these facilities\n",
    "    lat = list(facility[\"LATITUDE\"].values())\n",
    "    lon = list(facility[\"LONGITUDE\"].values())\n",
    "   \n",
    "    # if there is no facility in this suburb, early return none\n",
    "    if len(lat) == 0:\n",
    "        return (postcode, 'none', 'none', 'none', 'none')\n",
    " \n",
    "    # create a list of location, put the centroid of this suburb as the first element\n",
    "    loc = [list(eval(df_all_property['centroid'][i]))]\n",
    "        \n",
    "        \n",
    "    # append the loctations of the facilities in this suburb to the list of location\n",
    "    for j in range(0, len(lat)):\n",
    "        loc.append([lon[j], lat[j]])\n",
    "        \n",
    "\n",
    "    # get the driving distance and duration between the suburb centroid and each facility\n",
    "    matrix = client.distance_matrix(\n",
    "    locations = loc,\n",
    "    sources = list(range(1, len(loc))),\n",
    "    destinations = [0],\n",
    "    metrics=['distance', 'duration'],\n",
    "    )\n",
    "    \n",
    "    #get the shortest duration among all facilities\n",
    "    nearest_distance = min(matrix['distances'])[0]\n",
    "    nearest_duration = min(matrix['durations'])[0]                                                    \n",
    "     \n",
    "    # get the name and the longitude and latitude of that facility with shortest duration\n",
    "    index = matrix['durations'].index(min(matrix['durations']))\n",
    "    nearest_name = list(facility['NAME'].values())[index]\n",
    "    nearest_latlon = loc[index + 1] \n",
    "\n",
    "    return (postcode, nearest_name, nearest_distance, nearest_duration, nearest_latlon)\n"
   ]
  },
  {
   "cell_type": "code",
   "execution_count": 8,
   "id": "645e2468",
   "metadata": {},
   "outputs": [],
   "source": [
    "# create a dictionary of public_service to store the information\n",
    "public_service = {\"postcode\":[], \"nearest_latlon\":[], \"nearest_name\":[],\n",
    "                 \"nearest_duration\":[], \"nearest_distance\":[]}"
   ]
  },
  {
   "cell_type": "code",
   "execution_count": 9,
   "id": "5d6c4bb3",
   "metadata": {},
   "outputs": [
    {
     "name": "stderr",
     "output_type": "stream",
     "text": [
      "/Users/zongchaoxie/opt/anaconda3/lib/python3.9/site-packages/openrouteservice/client.py:211: UserWarning: Rate limit exceeded. Retrying for the 1st time.\n",
      "  warnings.warn('Rate limit exceeded. Retrying for the {0}{1} time.'.format(retry_counter + 1,\n",
      "/Users/zongchaoxie/opt/anaconda3/lib/python3.9/site-packages/openrouteservice/client.py:211: UserWarning: Rate limit exceeded. Retrying for the 2nd time.\n",
      "  warnings.warn('Rate limit exceeded. Retrying for the {0}{1} time.'.format(retry_counter + 1,\n",
      "/Users/zongchaoxie/opt/anaconda3/lib/python3.9/site-packages/openrouteservice/client.py:211: UserWarning: Rate limit exceeded. Retrying for the 3rd time.\n",
      "  warnings.warn('Rate limit exceeded. Retrying for the {0}{1} time.'.format(retry_counter + 1,\n",
      "/Users/zongchaoxie/opt/anaconda3/lib/python3.9/site-packages/openrouteservice/client.py:211: UserWarning: Rate limit exceeded. Retrying for the 4th time.\n",
      "  warnings.warn('Rate limit exceeded. Retrying for the {0}{1} time.'.format(retry_counter + 1,\n",
      "/Users/zongchaoxie/opt/anaconda3/lib/python3.9/site-packages/openrouteservice/client.py:211: UserWarning: Rate limit exceeded. Retrying for the 5th time.\n",
      "  warnings.warn('Rate limit exceeded. Retrying for the {0}{1} time.'.format(retry_counter + 1,\n"
     ]
    }
   ],
   "source": [
    "for i in range(0, len(df_all_centroid)):   \n",
    "    \n",
    "    # sleep 10 seconds each 20 postcode to avoid timeout error\n",
    "    if isinstance(i % 20, int) and (i % 20 == 0):\n",
    "        time.sleep(10) \n",
    "    \n",
    "    # get the information of the nearest facility (shortest driving duration) in each postcode\n",
    "    # using the nearest fuction\n",
    "    result = nearest(df_all_centroid, df_public_service, i)\n",
    "    \n",
    "    # append the result to the dictionary\n",
    "    public_service[\"nearest_name\"].append(result[1])\n",
    "    public_service[\"nearest_distance\"].append(result[2])\n",
    "    public_service[\"nearest_duration\"].append(result[3])\n",
    "    public_service[\"postcode\"].append(result[0])\n",
    "    public_service[\"nearest_latlon\"].append(result[4])"
   ]
  },
  {
   "cell_type": "code",
   "execution_count": 10,
   "id": "57dbdcbb",
   "metadata": {},
   "outputs": [],
   "source": [
    "# build a dataframe using the dictionary\n",
    "postcode_nearest_public_service = pd.DataFrame(public_service)"
   ]
  },
  {
   "cell_type": "code",
   "execution_count": 12,
   "id": "acc7139d",
   "metadata": {},
   "outputs": [],
   "source": [
    "# save the data\n",
    "postcode_nearest_public_service.to_csv(\"../data/raw/ors-data/public_by_postcode.csv\")"
   ]
  }
 ],
 "metadata": {
  "kernelspec": {
   "display_name": "Python 3.9.12 64-bit",
   "language": "python",
   "name": "python3"
  },
  "language_info": {
   "codemirror_mode": {
    "name": "ipython",
    "version": 3
   },
   "file_extension": ".py",
   "mimetype": "text/x-python",
   "name": "python",
   "nbconvert_exporter": "python",
   "pygments_lexer": "ipython3",
   "version": "3.9.12"
  },
  "vscode": {
   "interpreter": {
    "hash": "bbee7842ce8ba476870a006d5d5b68f11cea175afb0fea017b7f81beccf88892"
   }
  }
 },
 "nbformat": 4,
 "nbformat_minor": 5
}
