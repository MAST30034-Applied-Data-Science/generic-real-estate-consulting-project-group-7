{
 "cells": [
  {
   "cell_type": "markdown",
   "metadata": {},
   "source": [
    "## Add Path"
   ]
  },
  {
   "cell_type": "code",
   "execution_count": 2,
   "metadata": {},
   "outputs": [
    {
     "name": "stdout",
     "output_type": "stream",
     "text": [
      "Already Create Paths\n",
      "Already Create Paths\n"
     ]
    }
   ],
   "source": [
    "OUTPUT_RELATIVE_PATH = '../../data/'\n",
    "\n",
    "def create_path():\n",
    "    \"\"\"\n",
    "     This function aims to create path\n",
    "     \"\"\"\n",
    "    path = [\"curated/ors-data\", \"raw/ors-data\"]\n",
    "    for target_dir in path:\n",
    "        if not os.path.exists(OUTPUT_RELATIVE_PATH + target_dir):\n",
    "            os.makedirs(OUTPUT_RELATIVE_PATH + target_dir)\n",
    "        print('Already Create Paths')\n",
    "    \n",
    "create_path()"
   ]
  },
  {
   "cell_type": "markdown",
   "metadata": {},
   "source": [
    "## Download all preprocessing Data"
   ]
  },
  {
   "cell_type": "code",
   "execution_count": 1,
   "metadata": {},
   "outputs": [],
   "source": [
    "# change directory\n",
    "import os\n",
    "\n",
    "os.chdir('../../scripts/preprocessing/')"
   ]
  },
  {
   "cell_type": "code",
   "execution_count": 8,
   "metadata": {},
   "outputs": [
    {
     "name": "stderr",
     "output_type": "stream",
     "text": [
      "                                                                                \r"
     ]
    },
    {
     "data": {
      "text/plain": [
       "()"
      ]
     },
     "execution_count": 8,
     "metadata": {},
     "output_type": "execute_result"
    }
   ],
   "source": [
    "# download pre-external data\n",
    "from domain_preprocessing import *\n",
    "\n",
    "domain_preprocessing()"
   ]
  },
  {
   "cell_type": "code",
   "execution_count": 2,
   "metadata": {},
   "outputs": [],
   "source": [
    "from external_preprocessing import *\n",
    "\n",
    "preprocessing.preprocessing_all()"
   ]
  },
  {
   "cell_type": "code",
   "execution_count": 2,
   "metadata": {},
   "outputs": [
    {
     "data": {
      "text/plain": [
       "()"
      ]
     },
     "execution_count": 2,
     "metadata": {},
     "output_type": "execute_result"
    }
   ],
   "source": [
    "from external_preprocessing import *\n",
    "\n",
    "school_output()"
   ]
  },
  {
   "cell_type": "markdown",
   "metadata": {},
   "source": [
    "## Join External Features"
   ]
  },
  {
   "cell_type": "code",
   "execution_count": null,
   "metadata": {},
   "outputs": [],
   "source": []
  }
 ],
 "metadata": {
  "kernelspec": {
   "display_name": "Python 3.10.4 ('ADS')",
   "language": "python",
   "name": "python3"
  },
  "language_info": {
   "codemirror_mode": {
    "name": "ipython",
    "version": 3
   },
   "file_extension": ".py",
   "mimetype": "text/x-python",
   "name": "python",
   "nbconvert_exporter": "python",
   "pygments_lexer": "ipython3",
   "version": "3.10.4"
  },
  "orig_nbformat": 4,
  "vscode": {
   "interpreter": {
    "hash": "183132b451050d377b0440a650259019ec3f60ba0d844e8e7e0c0f7121c63925"
   }
  }
 },
 "nbformat": 4,
 "nbformat_minor": 2
}
