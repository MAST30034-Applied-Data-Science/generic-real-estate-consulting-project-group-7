{
 "cells": [
  {
   "cell_type": "markdown",
   "metadata": {},
   "source": []
  },
  {
   "cell_type": "code",
   "execution_count": null,
   "metadata": {},
   "outputs": [],
   "source": []
  },
  {
   "cell_type": "code",
   "execution_count": null,
   "metadata": {},
   "outputs": [],
   "source": []
  },
  {
   "cell_type": "code",
   "execution_count": null,
   "metadata": {},
   "outputs": [],
   "source": []
  },
  {
   "cell_type": "code",
   "execution_count": 1,
   "metadata": {},
   "outputs": [],
   "source": [
    "import os\n",
    "os.chdir('../scripts')\n",
    "\n",
    "from scrape_domain import *\n",
    "from constants import *\n",
    "from utils import *"
   ]
  },
  {
   "cell_type": "code",
   "execution_count": 2,
   "metadata": {},
   "outputs": [
    {
     "name": "stderr",
     "output_type": "stream",
     "text": [
      "0it [00:00, ?it/s]/20 [00:00<?, ?it/s]\n",
      "  5%|▌         | 1/20 [00:00<00:04,  4.02it/s]"
     ]
    },
    {
     "name": "stdout",
     "output_type": "stream",
     "text": [
      "0\n"
     ]
    },
    {
     "name": "stderr",
     "output_type": "stream",
     "text": [
      "100%|██████████| 11/11 [00:04<00:00,  2.33it/s]\n",
      " 10%|█         | 2/20 [00:05<00:56,  3.12s/it]"
     ]
    },
    {
     "name": "stdout",
     "output_type": "stream",
     "text": [
      "218\n"
     ]
    },
    {
     "name": "stderr",
     "output_type": "stream",
     "text": [
      "100%|██████████| 8/8 [00:04<00:00,  1.88it/s]\n",
      " 15%|█▌        | 3/20 [00:09<01:04,  3.78s/it]"
     ]
    },
    {
     "name": "stdout",
     "output_type": "stream",
     "text": [
      "158\n"
     ]
    },
    {
     "name": "stderr",
     "output_type": "stream",
     "text": [
      "100%|██████████| 6/6 [00:02<00:00,  2.55it/s]\n",
      " 20%|██        | 4/20 [00:12<00:54,  3.43s/it]"
     ]
    },
    {
     "name": "stdout",
     "output_type": "stream",
     "text": [
      "111\n"
     ]
    },
    {
     "name": "stderr",
     "output_type": "stream",
     "text": [
      "100%|██████████| 5/5 [00:02<00:00,  1.99it/s]\n",
      " 25%|██▌       | 5/20 [00:15<00:48,  3.24s/it]"
     ]
    },
    {
     "name": "stdout",
     "output_type": "stream",
     "text": [
      "84\n"
     ]
    },
    {
     "name": "stderr",
     "output_type": "stream",
     "text": [
      "100%|██████████| 5/5 [00:02<00:00,  1.85it/s]\n",
      " 30%|███       | 6/20 [00:18<00:44,  3.18s/it]"
     ]
    },
    {
     "name": "stdout",
     "output_type": "stream",
     "text": [
      "81\n"
     ]
    },
    {
     "name": "stderr",
     "output_type": "stream",
     "text": [
      "100%|██████████| 2/2 [00:00<00:00,  3.70it/s]\n",
      " 35%|███▌      | 7/20 [00:19<00:32,  2.53s/it]"
     ]
    },
    {
     "name": "stdout",
     "output_type": "stream",
     "text": [
      "24\n"
     ]
    },
    {
     "name": "stderr",
     "output_type": "stream",
     "text": [
      "100%|██████████| 4/4 [00:02<00:00,  1.88it/s]\n",
      " 40%|████      | 8/20 [00:22<00:31,  2.63s/it]"
     ]
    },
    {
     "name": "stdout",
     "output_type": "stream",
     "text": [
      "61\n"
     ]
    },
    {
     "name": "stderr",
     "output_type": "stream",
     "text": [
      "100%|██████████| 7/7 [00:04<00:00,  1.71it/s]\n",
      " 45%|████▌     | 9/20 [00:28<00:38,  3.54s/it]"
     ]
    },
    {
     "name": "stdout",
     "output_type": "stream",
     "text": [
      "126\n"
     ]
    },
    {
     "name": "stderr",
     "output_type": "stream",
     "text": [
      "100%|██████████| 3/3 [00:01<00:00,  2.85it/s]\n",
      " 50%|█████     | 10/20 [00:29<00:29,  2.92s/it]"
     ]
    },
    {
     "name": "stdout",
     "output_type": "stream",
     "text": [
      "42\n"
     ]
    },
    {
     "name": "stderr",
     "output_type": "stream",
     "text": [
      "100%|██████████| 4/4 [00:02<00:00,  1.67it/s]\n",
      " 55%|█████▌    | 11/20 [00:32<00:25,  2.86s/it]"
     ]
    },
    {
     "name": "stdout",
     "output_type": "stream",
     "text": [
      "61\n"
     ]
    },
    {
     "name": "stderr",
     "output_type": "stream",
     "text": [
      "100%|██████████| 3/3 [00:01<00:00,  2.84it/s]\n",
      " 60%|██████    | 12/20 [00:34<00:19,  2.44s/it]"
     ]
    },
    {
     "name": "stdout",
     "output_type": "stream",
     "text": [
      "49\n"
     ]
    },
    {
     "name": "stderr",
     "output_type": "stream",
     "text": [
      "100%|██████████| 2/2 [00:00<00:00,  2.29it/s]\n",
      " 65%|██████▌   | 13/20 [00:35<00:15,  2.16s/it]"
     ]
    },
    {
     "name": "stdout",
     "output_type": "stream",
     "text": [
      "29\n"
     ]
    },
    {
     "name": "stderr",
     "output_type": "stream",
     "text": [
      "100%|██████████| 2/2 [00:00<00:00,  2.60it/s]\n",
      " 70%|███████   | 14/20 [00:37<00:11,  1.97s/it]"
     ]
    },
    {
     "name": "stdout",
     "output_type": "stream",
     "text": [
      "23\n"
     ]
    },
    {
     "name": "stderr",
     "output_type": "stream",
     "text": [
      "100%|██████████| 3/3 [00:02<00:00,  1.14it/s]\n",
      " 75%|███████▌  | 15/20 [00:40<00:11,  2.29s/it]"
     ]
    },
    {
     "name": "stdout",
     "output_type": "stream",
     "text": [
      "59\n"
     ]
    },
    {
     "name": "stderr",
     "output_type": "stream",
     "text": [
      "100%|██████████| 2/2 [00:00<00:00,  2.37it/s]\n",
      " 80%|████████  | 16/20 [00:41<00:08,  2.04s/it]"
     ]
    },
    {
     "name": "stdout",
     "output_type": "stream",
     "text": [
      "25\n"
     ]
    },
    {
     "name": "stderr",
     "output_type": "stream",
     "text": [
      "100%|██████████| 3/3 [00:01<00:00,  1.88it/s]\n",
      " 85%|████████▌ | 17/20 [00:43<00:06,  2.06s/it]"
     ]
    },
    {
     "name": "stdout",
     "output_type": "stream",
     "text": [
      "56\n"
     ]
    },
    {
     "name": "stderr",
     "output_type": "stream",
     "text": [
      "100%|██████████| 1/1 [00:00<00:00,  3.29it/s]\n",
      " 90%|█████████ | 18/20 [00:44<00:03,  1.62s/it]"
     ]
    },
    {
     "name": "stdout",
     "output_type": "stream",
     "text": [
      "10\n"
     ]
    },
    {
     "name": "stderr",
     "output_type": "stream",
     "text": [
      "100%|██████████| 1/1 [00:00<00:00,  2.55it/s]\n",
      " 95%|█████████▌| 19/20 [00:45<00:01,  1.38s/it]"
     ]
    },
    {
     "name": "stdout",
     "output_type": "stream",
     "text": [
      "20\n"
     ]
    },
    {
     "name": "stderr",
     "output_type": "stream",
     "text": [
      "100%|██████████| 1/1 [00:00<00:00,  2.36it/s]\n",
      "100%|██████████| 20/20 [00:45<00:00,  2.29s/it]"
     ]
    },
    {
     "name": "stdout",
     "output_type": "stream",
     "text": [
      "3\n"
     ]
    },
    {
     "name": "stderr",
     "output_type": "stream",
     "text": [
      "\n"
     ]
    }
   ],
   "source": [
    "vic_postcodes = constants.postcodes['VIC_sample']\n",
    "\n",
    "domain_links = set()\n",
    "\n",
    "for i in tqdm(range(len(vic_postcodes))):\n",
    "    current_links = domain_property_links(vic_postcodes[i])\n",
    "    domain_links = domain_links | current_links\n",
    "    \n",
    "    print(len(current_links))"
   ]
  },
  {
   "cell_type": "code",
   "execution_count": 3,
   "metadata": {},
   "outputs": [
    {
     "data": {
      "text/plain": [
       "1240"
      ]
     },
     "execution_count": 3,
     "metadata": {},
     "output_type": "execute_result"
    }
   ],
   "source": [
    "len(domain_links)"
   ]
  },
  {
   "cell_type": "code",
   "execution_count": 5,
   "metadata": {},
   "outputs": [
    {
     "data": {
      "text/html": [
       "<div>\n",
       "<style scoped>\n",
       "    .dataframe tbody tr th:only-of-type {\n",
       "        vertical-align: middle;\n",
       "    }\n",
       "\n",
       "    .dataframe tbody tr th {\n",
       "        vertical-align: top;\n",
       "    }\n",
       "\n",
       "    .dataframe thead th {\n",
       "        text-align: right;\n",
       "    }\n",
       "</style>\n",
       "<table border=\"1\" class=\"dataframe\">\n",
       "  <thead>\n",
       "    <tr style=\"text-align: right;\">\n",
       "      <th></th>\n",
       "      <th>rentalMethod</th>\n",
       "      <th>address</th>\n",
       "      <th>suburb</th>\n",
       "      <th>bedrooms</th>\n",
       "      <th>bathrooms</th>\n",
       "      <th>parking</th>\n",
       "      <th>postcode</th>\n",
       "      <th>state</th>\n",
       "      <th>primaryPropertyType</th>\n",
       "      <th>secondaryPropertyType</th>\n",
       "      <th>agency</th>\n",
       "      <th>latitude</th>\n",
       "      <th>longitude</th>\n",
       "      <th>nearBySchools</th>\n",
       "    </tr>\n",
       "  </thead>\n",
       "  <tbody>\n",
       "    <tr>\n",
       "      <th>0</th>\n",
       "      <td>rent</td>\n",
       "      <td>3/177 Kent Street, Richmond VIC 3121</td>\n",
       "      <td>Richmond</td>\n",
       "      <td>2</td>\n",
       "      <td>1</td>\n",
       "      <td>2</td>\n",
       "      <td>3121</td>\n",
       "      <td>VIC</td>\n",
       "      <td>Townhouse/Villa</td>\n",
       "      <td>Townhouse</td>\n",
       "      <td>Biggin &amp; Scott Richmond</td>\n",
       "      <td>-37.815157</td>\n",
       "      <td>145.008321</td>\n",
       "      <td>[Trinity Catholic School, Yarra Primary School...</td>\n",
       "    </tr>\n",
       "    <tr>\n",
       "      <th>0</th>\n",
       "      <td>rent</td>\n",
       "      <td>105/85 Maling Road, Canterbury VIC 3126</td>\n",
       "      <td>Canterbury</td>\n",
       "      <td>2</td>\n",
       "      <td>2</td>\n",
       "      <td>1</td>\n",
       "      <td>3126</td>\n",
       "      <td>VIC</td>\n",
       "      <td>Apartment</td>\n",
       "      <td>Apartment / Unit / Flat</td>\n",
       "      <td>Kay &amp; Burton Hawthorn</td>\n",
       "      <td>-37.825228</td>\n",
       "      <td>145.080488</td>\n",
       "      <td>[Strathcona Baptist Girls' Grammar, Strathcona...</td>\n",
       "    </tr>\n",
       "    <tr>\n",
       "      <th>0</th>\n",
       "      <td>rent</td>\n",
       "      <td>14/781 Whitehorse Road, Mont Albert VIC 3127</td>\n",
       "      <td>Mont Albert</td>\n",
       "      <td>2</td>\n",
       "      <td>1</td>\n",
       "      <td>1</td>\n",
       "      <td>3127</td>\n",
       "      <td>VIC</td>\n",
       "      <td>Apartment</td>\n",
       "      <td>Apartment / Unit / Flat</td>\n",
       "      <td>Fletchers Balwyn North</td>\n",
       "      <td>-37.816093</td>\n",
       "      <td>145.109739</td>\n",
       "      <td>[Mont Albert Primary School, Box Hill Senior S...</td>\n",
       "    </tr>\n",
       "    <tr>\n",
       "      <th>0</th>\n",
       "      <td>rent</td>\n",
       "      <td>107/386 Burwood Highway, Burwood VIC 3125</td>\n",
       "      <td>Burwood</td>\n",
       "      <td>1</td>\n",
       "      <td>1</td>\n",
       "      <td>0</td>\n",
       "      <td>3125</td>\n",
       "      <td>VIC</td>\n",
       "      <td>Apartment</td>\n",
       "      <td>Apartment / Unit / Flat</td>\n",
       "      <td>Student Housing Australia</td>\n",
       "      <td>-37.852240</td>\n",
       "      <td>145.130557</td>\n",
       "      <td>[St Scholastica's School, Mount Scopus Memoria...</td>\n",
       "    </tr>\n",
       "    <tr>\n",
       "      <th>0</th>\n",
       "      <td>rent</td>\n",
       "      <td>3/1 Brookfield Court, Hawthorn East VIC 3123</td>\n",
       "      <td>Hawthorn East</td>\n",
       "      <td>1</td>\n",
       "      <td>1</td>\n",
       "      <td>0</td>\n",
       "      <td>3123</td>\n",
       "      <td>VIC</td>\n",
       "      <td>House</td>\n",
       "      <td>House</td>\n",
       "      <td>Greg Hocking Persichetti</td>\n",
       "      <td>-37.834406</td>\n",
       "      <td>145.054312</td>\n",
       "      <td>[Camberwell Primary School, SEDA College (Vict...</td>\n",
       "    </tr>\n",
       "    <tr>\n",
       "      <th>...</th>\n",
       "      <td>...</td>\n",
       "      <td>...</td>\n",
       "      <td>...</td>\n",
       "      <td>...</td>\n",
       "      <td>...</td>\n",
       "      <td>...</td>\n",
       "      <td>...</td>\n",
       "      <td>...</td>\n",
       "      <td>...</td>\n",
       "      <td>...</td>\n",
       "      <td>...</td>\n",
       "      <td>...</td>\n",
       "      <td>...</td>\n",
       "      <td>...</td>\n",
       "    </tr>\n",
       "    <tr>\n",
       "      <th>0</th>\n",
       "      <td>rent</td>\n",
       "      <td>3/12 Starcross Avenue, Croydon VIC 3136</td>\n",
       "      <td>Croydon</td>\n",
       "      <td>4</td>\n",
       "      <td>2</td>\n",
       "      <td>2</td>\n",
       "      <td>3136</td>\n",
       "      <td>VIC</td>\n",
       "      <td>Townhouse/Villa</td>\n",
       "      <td>Townhouse</td>\n",
       "      <td>Jellis Craig Whitehorse</td>\n",
       "      <td>-37.799255</td>\n",
       "      <td>145.275262</td>\n",
       "      <td>[Sacred Heart School, Croydon Community School...</td>\n",
       "    </tr>\n",
       "    <tr>\n",
       "      <th>0</th>\n",
       "      <td>rent</td>\n",
       "      <td>G07/5-7 Browns Avenue, Ringwood VIC 3134</td>\n",
       "      <td>Ringwood</td>\n",
       "      <td>2</td>\n",
       "      <td>1</td>\n",
       "      <td>1</td>\n",
       "      <td>3134</td>\n",
       "      <td>VIC</td>\n",
       "      <td>Apartment</td>\n",
       "      <td>Apartment / Unit / Flat</td>\n",
       "      <td>Ray White Ferntree Gully</td>\n",
       "      <td>-37.812506</td>\n",
       "      <td>145.223957</td>\n",
       "      <td>[Our Lady of Perpetual Help School, Indie Scho...</td>\n",
       "    </tr>\n",
       "    <tr>\n",
       "      <th>0</th>\n",
       "      <td>rent</td>\n",
       "      <td>30/523 Burwood Rd, Hawthorn VIC 3122</td>\n",
       "      <td>Hawthorn</td>\n",
       "      <td>2</td>\n",
       "      <td>2</td>\n",
       "      <td>1</td>\n",
       "      <td>3122</td>\n",
       "      <td>VIC</td>\n",
       "      <td>Apartment</td>\n",
       "      <td>Apartment / Unit / Flat</td>\n",
       "      <td>Ray White Ferntree Gully</td>\n",
       "      <td>-37.822961</td>\n",
       "      <td>145.041354</td>\n",
       "      <td>[Swinburne Senior Secondary College, Glenferri...</td>\n",
       "    </tr>\n",
       "    <tr>\n",
       "      <th>0</th>\n",
       "      <td>rent</td>\n",
       "      <td>2/48 Arlington St, Ringwood VIC 3134</td>\n",
       "      <td>Ringwood</td>\n",
       "      <td>2</td>\n",
       "      <td>2</td>\n",
       "      <td>1</td>\n",
       "      <td>3134</td>\n",
       "      <td>VIC</td>\n",
       "      <td>Townhouse/Villa</td>\n",
       "      <td>Townhouse</td>\n",
       "      <td>Weare Partners Property Group Pty Ltd</td>\n",
       "      <td>-37.819108</td>\n",
       "      <td>145.221627</td>\n",
       "      <td>[Our Lady of Perpetual Help School, St Mary’s ...</td>\n",
       "    </tr>\n",
       "    <tr>\n",
       "      <th>0</th>\n",
       "      <td>rent</td>\n",
       "      <td>1/485 Middleborough Road, Box Hill North VIC 3129</td>\n",
       "      <td>Box Hill North</td>\n",
       "      <td>3</td>\n",
       "      <td>2</td>\n",
       "      <td>1</td>\n",
       "      <td>3129</td>\n",
       "      <td>VIC</td>\n",
       "      <td>Townhouse/Villa</td>\n",
       "      <td>Townhouse</td>\n",
       "      <td>Philip Webb Mitcham</td>\n",
       "      <td>-37.811751</td>\n",
       "      <td>145.139865</td>\n",
       "      <td>[Blackburn High School, SEDA College (Victoria...</td>\n",
       "    </tr>\n",
       "  </tbody>\n",
       "</table>\n",
       "<p>1240 rows × 14 columns</p>\n",
       "</div>"
      ],
      "text/plain": [
       "   rentalMethod                                            address  \\\n",
       "0          rent               3/177 Kent Street, Richmond VIC 3121   \n",
       "0          rent            105/85 Maling Road, Canterbury VIC 3126   \n",
       "0          rent       14/781 Whitehorse Road, Mont Albert VIC 3127   \n",
       "0          rent          107/386 Burwood Highway, Burwood VIC 3125   \n",
       "0          rent       3/1 Brookfield Court, Hawthorn East VIC 3123   \n",
       "..          ...                                                ...   \n",
       "0          rent            3/12 Starcross Avenue, Croydon VIC 3136   \n",
       "0          rent           G07/5-7 Browns Avenue, Ringwood VIC 3134   \n",
       "0          rent               30/523 Burwood Rd, Hawthorn VIC 3122   \n",
       "0          rent               2/48 Arlington St, Ringwood VIC 3134   \n",
       "0          rent  1/485 Middleborough Road, Box Hill North VIC 3129   \n",
       "\n",
       "            suburb bedrooms bathrooms parking postcode state  \\\n",
       "0         Richmond        2         1       2     3121   VIC   \n",
       "0       Canterbury        2         2       1     3126   VIC   \n",
       "0      Mont Albert        2         1       1     3127   VIC   \n",
       "0          Burwood        1         1       0     3125   VIC   \n",
       "0    Hawthorn East        1         1       0     3123   VIC   \n",
       "..             ...      ...       ...     ...      ...   ...   \n",
       "0          Croydon        4         2       2     3136   VIC   \n",
       "0         Ringwood        2         1       1     3134   VIC   \n",
       "0         Hawthorn        2         2       1     3122   VIC   \n",
       "0         Ringwood        2         2       1     3134   VIC   \n",
       "0   Box Hill North        3         2       1     3129   VIC   \n",
       "\n",
       "   primaryPropertyType    secondaryPropertyType  \\\n",
       "0      Townhouse/Villa                Townhouse   \n",
       "0            Apartment  Apartment / Unit / Flat   \n",
       "0            Apartment  Apartment / Unit / Flat   \n",
       "0            Apartment  Apartment / Unit / Flat   \n",
       "0                House                    House   \n",
       "..                 ...                      ...   \n",
       "0      Townhouse/Villa                Townhouse   \n",
       "0            Apartment  Apartment / Unit / Flat   \n",
       "0            Apartment  Apartment / Unit / Flat   \n",
       "0      Townhouse/Villa                Townhouse   \n",
       "0      Townhouse/Villa                Townhouse   \n",
       "\n",
       "                                   agency   latitude   longitude  \\\n",
       "0                 Biggin & Scott Richmond -37.815157  145.008321   \n",
       "0                   Kay & Burton Hawthorn -37.825228  145.080488   \n",
       "0                  Fletchers Balwyn North -37.816093  145.109739   \n",
       "0               Student Housing Australia -37.852240  145.130557   \n",
       "0                Greg Hocking Persichetti -37.834406  145.054312   \n",
       "..                                    ...        ...         ...   \n",
       "0                 Jellis Craig Whitehorse -37.799255  145.275262   \n",
       "0                Ray White Ferntree Gully -37.812506  145.223957   \n",
       "0                Ray White Ferntree Gully -37.822961  145.041354   \n",
       "0   Weare Partners Property Group Pty Ltd -37.819108  145.221627   \n",
       "0                     Philip Webb Mitcham -37.811751  145.139865   \n",
       "\n",
       "                                        nearBySchools  \n",
       "0   [Trinity Catholic School, Yarra Primary School...  \n",
       "0   [Strathcona Baptist Girls' Grammar, Strathcona...  \n",
       "0   [Mont Albert Primary School, Box Hill Senior S...  \n",
       "0   [St Scholastica's School, Mount Scopus Memoria...  \n",
       "0   [Camberwell Primary School, SEDA College (Vict...  \n",
       "..                                                ...  \n",
       "0   [Sacred Heart School, Croydon Community School...  \n",
       "0   [Our Lady of Perpetual Help School, Indie Scho...  \n",
       "0   [Swinburne Senior Secondary College, Glenferri...  \n",
       "0   [Our Lady of Perpetual Help School, St Mary’s ...  \n",
       "0   [Blackburn High School, SEDA College (Victoria...  \n",
       "\n",
       "[1240 rows x 14 columns]"
      ]
     },
     "execution_count": 5,
     "metadata": {},
     "output_type": "execute_result"
    }
   ],
   "source": [
    "domain_properties_info(domain_links)"
   ]
  },
  {
   "cell_type": "code",
   "execution_count": null,
   "metadata": {},
   "outputs": [],
   "source": []
  },
  {
   "cell_type": "code",
   "execution_count": null,
   "metadata": {},
   "outputs": [],
   "source": []
  },
  {
   "cell_type": "code",
   "execution_count": null,
   "metadata": {},
   "outputs": [],
   "source": []
  },
  {
   "cell_type": "code",
   "execution_count": null,
   "metadata": {},
   "outputs": [],
   "source": []
  },
  {
   "cell_type": "code",
   "execution_count": null,
   "metadata": {},
   "outputs": [],
   "source": []
  }
 ],
 "metadata": {
  "kernelspec": {
   "display_name": "Python 3.10.4 ('ADS')",
   "language": "python",
   "name": "python3"
  },
  "language_info": {
   "codemirror_mode": {
    "name": "ipython",
    "version": 3
   },
   "file_extension": ".py",
   "mimetype": "text/x-python",
   "name": "python",
   "nbconvert_exporter": "python",
   "pygments_lexer": "ipython3",
   "version": "3.10.4"
  },
  "orig_nbformat": 4,
  "vscode": {
   "interpreter": {
    "hash": "183132b451050d377b0440a650259019ec3f60ba0d844e8e7e0c0f7121c63925"
   }
  }
 },
 "nbformat": 4,
 "nbformat_minor": 2
}
