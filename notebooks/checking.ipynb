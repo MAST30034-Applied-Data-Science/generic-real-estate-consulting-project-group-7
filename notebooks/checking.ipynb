{
 "cells": [
  {
   "cell_type": "code",
   "execution_count": null,
   "metadata": {},
   "outputs": [],
   "source": []
  },
  {
   "cell_type": "code",
   "execution_count": null,
   "metadata": {},
   "outputs": [],
   "source": []
  },
  {
   "cell_type": "code",
   "execution_count": null,
   "metadata": {},
   "outputs": [],
   "source": []
  },
  {
   "cell_type": "code",
   "execution_count": 1,
   "metadata": {},
   "outputs": [],
   "source": [
    "import os\n",
    "os.chdir('../scripts')\n",
    "\n",
    "from scrape_domain import *\n",
    "from constants import *\n",
    "from utils import *"
   ]
  },
  {
   "cell_type": "code",
   "execution_count": 2,
   "metadata": {},
   "outputs": [
    {
     "name": "stderr",
     "output_type": "stream",
     "text": [
      "100%|██████████| 30/30 [00:18<00:00,  1.58it/s]\n",
      "  5%|▌         | 1/20 [00:21<06:47, 21.43s/it]"
     ]
    },
    {
     "name": "stdout",
     "output_type": "stream",
     "text": [
      "587\n"
     ]
    },
    {
     "name": "stderr",
     "output_type": "stream",
     "text": [
      "0it [00:00, ?it/s]\n",
      " 10%|█         | 2/20 [00:21<02:40,  8.94s/it]"
     ]
    },
    {
     "name": "stdout",
     "output_type": "stream",
     "text": [
      "0\n"
     ]
    },
    {
     "name": "stderr",
     "output_type": "stream",
     "text": [
      "100%|██████████| 3/3 [00:03<00:00,  1.02s/it]\n",
      " 15%|█▌        | 3/20 [00:25<01:49,  6.43s/it]"
     ]
    },
    {
     "name": "stdout",
     "output_type": "stream",
     "text": [
      "47\n"
     ]
    },
    {
     "name": "stderr",
     "output_type": "stream",
     "text": [
      "100%|██████████| 4/4 [00:02<00:00,  1.52it/s]\n",
      " 20%|██        | 4/20 [00:28<01:24,  5.29s/it]"
     ]
    },
    {
     "name": "stdout",
     "output_type": "stream",
     "text": [
      "77\n"
     ]
    },
    {
     "name": "stderr",
     "output_type": "stream",
     "text": [
      "100%|██████████| 5/5 [00:03<00:00,  1.60it/s]\n",
      " 25%|██▌       | 5/20 [00:32<01:10,  4.69s/it]"
     ]
    },
    {
     "name": "stdout",
     "output_type": "stream",
     "text": [
      "89\n"
     ]
    },
    {
     "name": "stderr",
     "output_type": "stream",
     "text": [
      "0it [00:00, ?it/s]\n",
      " 30%|███       | 6/20 [00:32<00:44,  3.21s/it]"
     ]
    },
    {
     "name": "stdout",
     "output_type": "stream",
     "text": [
      "0\n"
     ]
    },
    {
     "name": "stderr",
     "output_type": "stream",
     "text": [
      "100%|██████████| 11/11 [00:07<00:00,  1.55it/s]\n",
      " 35%|███▌      | 7/20 [00:40<01:02,  4.77s/it]"
     ]
    },
    {
     "name": "stdout",
     "output_type": "stream",
     "text": [
      "218\n"
     ]
    },
    {
     "name": "stderr",
     "output_type": "stream",
     "text": [
      "0it [00:00, ?it/s]\n",
      " 40%|████      | 8/20 [00:41<00:41,  3.44s/it]"
     ]
    },
    {
     "name": "stdout",
     "output_type": "stream",
     "text": [
      "0\n"
     ]
    },
    {
     "name": "stderr",
     "output_type": "stream",
     "text": [
      "100%|██████████| 7/7 [00:03<00:00,  1.80it/s]\n",
      " 45%|████▌     | 9/20 [00:45<00:41,  3.80s/it]"
     ]
    },
    {
     "name": "stdout",
     "output_type": "stream",
     "text": [
      "140\n"
     ]
    },
    {
     "name": "stderr",
     "output_type": "stream",
     "text": [
      "0it [00:00, ?it/s]\n",
      " 50%|█████     | 10/20 [00:46<00:27,  2.73s/it]"
     ]
    },
    {
     "name": "stdout",
     "output_type": "stream",
     "text": [
      "0\n"
     ]
    },
    {
     "name": "stderr",
     "output_type": "stream",
     "text": [
      "0it [00:00, ?it/s]\n",
      " 55%|█████▌    | 11/20 [00:46<00:17,  2.00s/it]"
     ]
    },
    {
     "name": "stdout",
     "output_type": "stream",
     "text": [
      "0\n"
     ]
    },
    {
     "name": "stderr",
     "output_type": "stream",
     "text": [
      "100%|██████████| 10/10 [00:05<00:00,  1.88it/s]\n",
      " 60%|██████    | 12/20 [00:52<00:26,  3.27s/it]"
     ]
    },
    {
     "name": "stdout",
     "output_type": "stream",
     "text": [
      "198\n"
     ]
    },
    {
     "name": "stderr",
     "output_type": "stream",
     "text": [
      "100%|██████████| 7/7 [00:03<00:00,  2.31it/s]\n",
      " 65%|██████▌   | 13/20 [00:56<00:23,  3.33s/it]"
     ]
    },
    {
     "name": "stdout",
     "output_type": "stream",
     "text": [
      "125\n"
     ]
    },
    {
     "name": "stderr",
     "output_type": "stream",
     "text": [
      "100%|██████████| 5/5 [00:04<00:00,  1.12it/s]\n",
      " 70%|███████   | 14/20 [01:01<00:23,  3.84s/it]"
     ]
    },
    {
     "name": "stdout",
     "output_type": "stream",
     "text": [
      "82\n"
     ]
    },
    {
     "name": "stderr",
     "output_type": "stream",
     "text": [
      "0it [00:00, ?it/s]\n",
      " 75%|███████▌  | 15/20 [01:01<00:13,  2.76s/it]"
     ]
    },
    {
     "name": "stdout",
     "output_type": "stream",
     "text": [
      "0\n"
     ]
    },
    {
     "name": "stderr",
     "output_type": "stream",
     "text": [
      "100%|██████████| 4/4 [00:02<00:00,  1.97it/s]\n",
      " 80%|████████  | 16/20 [01:03<00:10,  2.68s/it]"
     ]
    },
    {
     "name": "stdout",
     "output_type": "stream",
     "text": [
      "80\n"
     ]
    },
    {
     "name": "stderr",
     "output_type": "stream",
     "text": [
      "100%|██████████| 4/4 [00:02<00:00,  1.57it/s]\n",
      " 85%|████████▌ | 17/20 [01:06<00:08,  2.77s/it]"
     ]
    },
    {
     "name": "stdout",
     "output_type": "stream",
     "text": [
      "70\n"
     ]
    },
    {
     "name": "stderr",
     "output_type": "stream",
     "text": [
      "0it [00:00, ?it/s]\n",
      " 90%|█████████ | 18/20 [01:07<00:04,  2.10s/it]"
     ]
    },
    {
     "name": "stdout",
     "output_type": "stream",
     "text": [
      "0\n"
     ]
    },
    {
     "name": "stderr",
     "output_type": "stream",
     "text": [
      "100%|██████████| 3/3 [00:02<00:00,  1.32it/s]\n",
      " 95%|█████████▌| 19/20 [01:10<00:02,  2.30s/it]"
     ]
    },
    {
     "name": "stdout",
     "output_type": "stream",
     "text": [
      "56\n"
     ]
    },
    {
     "name": "stderr",
     "output_type": "stream",
     "text": [
      "100%|██████████| 2/2 [00:01<00:00,  1.98it/s]\n",
      "100%|██████████| 20/20 [01:11<00:00,  3.58s/it]"
     ]
    },
    {
     "name": "stdout",
     "output_type": "stream",
     "text": [
      "27\n"
     ]
    },
    {
     "name": "stderr",
     "output_type": "stream",
     "text": [
      "\n"
     ]
    }
   ],
   "source": [
    "vic_postcodes = constants.postcodes['VIC_sample']\n",
    "\n",
    "domain_links = set()\n",
    "\n",
    "for i in tqdm(range(len(vic_postcodes))):\n",
    "    current_links = domain_property_links(vic_postcodes[i])\n",
    "    domain_links = domain_links | current_links\n",
    "    \n",
    "    print(len(current_links))"
   ]
  },
  {
   "cell_type": "code",
   "execution_count": 3,
   "metadata": {},
   "outputs": [
    {
     "data": {
      "text/plain": [
       "1796"
      ]
     },
     "execution_count": 3,
     "metadata": {},
     "output_type": "execute_result"
    }
   ],
   "source": [
    "len(domain_links)"
   ]
  },
  {
   "cell_type": "code",
   "execution_count": 4,
   "metadata": {},
   "outputs": [
    {
     "data": {
      "text/html": [
       "<div>\n",
       "<style scoped>\n",
       "    .dataframe tbody tr th:only-of-type {\n",
       "        vertical-align: middle;\n",
       "    }\n",
       "\n",
       "    .dataframe tbody tr th {\n",
       "        vertical-align: top;\n",
       "    }\n",
       "\n",
       "    .dataframe thead th {\n",
       "        text-align: right;\n",
       "    }\n",
       "</style>\n",
       "<table border=\"1\" class=\"dataframe\">\n",
       "  <thead>\n",
       "    <tr style=\"text-align: right;\">\n",
       "      <th></th>\n",
       "      <th>rentalMethod</th>\n",
       "      <th>address</th>\n",
       "      <th>suburb</th>\n",
       "      <th>bedrooms</th>\n",
       "      <th>bathrooms</th>\n",
       "      <th>parking</th>\n",
       "      <th>postcode</th>\n",
       "      <th>state</th>\n",
       "      <th>primaryPropertyType</th>\n",
       "      <th>secondaryPropertyType</th>\n",
       "      <th>agency</th>\n",
       "      <th>latitude</th>\n",
       "      <th>longitude</th>\n",
       "      <th>nearBySchools</th>\n",
       "    </tr>\n",
       "  </thead>\n",
       "  <tbody>\n",
       "    <tr>\n",
       "      <th>0</th>\n",
       "      <td>rent</td>\n",
       "      <td>3813/628 Flinders Street, Docklands VIC 3008</td>\n",
       "      <td>Docklands</td>\n",
       "      <td>2</td>\n",
       "      <td>1</td>\n",
       "      <td>0</td>\n",
       "      <td>3008</td>\n",
       "      <td>VIC</td>\n",
       "      <td>Apartment</td>\n",
       "      <td>Apartment / Unit / Flat</td>\n",
       "      <td>APG ESTATE</td>\n",
       "      <td>-37.820969</td>\n",
       "      <td>144.953252</td>\n",
       "      <td>[Hester Hornbrook Academy - City Campus, Eltha...</td>\n",
       "    </tr>\n",
       "    <tr>\n",
       "      <th>0</th>\n",
       "      <td>rent</td>\n",
       "      <td>3813/70 Southbank Bvd, Southbank VIC 3006</td>\n",
       "      <td>Southbank</td>\n",
       "      <td>2</td>\n",
       "      <td>2</td>\n",
       "      <td>1</td>\n",
       "      <td>3006</td>\n",
       "      <td>VIC</td>\n",
       "      <td>Apartment</td>\n",
       "      <td>Apartment / Unit / Flat</td>\n",
       "      <td>Cubbi</td>\n",
       "      <td>-37.823242</td>\n",
       "      <td>144.964066</td>\n",
       "      <td>[Victorian College Of The Arts Secondary Schoo...</td>\n",
       "    </tr>\n",
       "    <tr>\n",
       "      <th>0</th>\n",
       "      <td>rent</td>\n",
       "      <td>907/2 Glenti Place, Docklands VIC 3008</td>\n",
       "      <td>Docklands</td>\n",
       "      <td>3</td>\n",
       "      <td>2</td>\n",
       "      <td>2</td>\n",
       "      <td>3008</td>\n",
       "      <td>VIC</td>\n",
       "      <td>Apartment</td>\n",
       "      <td>Apartment / Unit / Flat</td>\n",
       "      <td>Lucas Real Estate</td>\n",
       "      <td>-37.815405</td>\n",
       "      <td>144.939092</td>\n",
       "      <td>[Docklands Primary School, Haileybury Girls Co...</td>\n",
       "    </tr>\n",
       "    <tr>\n",
       "      <th>0</th>\n",
       "      <td>rent</td>\n",
       "      <td>1403/225 Elizabeth Street, Melbourne VIC 3000</td>\n",
       "      <td>Melbourne</td>\n",
       "      <td>2</td>\n",
       "      <td>1</td>\n",
       "      <td>0</td>\n",
       "      <td>3000</td>\n",
       "      <td>VIC</td>\n",
       "      <td>Apartment</td>\n",
       "      <td>Apartment / Unit / Flat</td>\n",
       "      <td>Ray White Southbank &amp; Port Phillip</td>\n",
       "      <td>-37.813231</td>\n",
       "      <td>144.962317</td>\n",
       "      <td>[Eltham College - Lonsdale Street Campus, Ozfo...</td>\n",
       "    </tr>\n",
       "    <tr>\n",
       "      <th>0</th>\n",
       "      <td>rent</td>\n",
       "      <td>7/11-15 Basil Street, Newport VIC 3015</td>\n",
       "      <td>Newport</td>\n",
       "      <td>3</td>\n",
       "      <td>3</td>\n",
       "      <td>1</td>\n",
       "      <td>3015</td>\n",
       "      <td>VIC</td>\n",
       "      <td>Townhouse/Villa</td>\n",
       "      <td>Townhouse</td>\n",
       "      <td>Jellis Craig Inner West</td>\n",
       "      <td>-37.846291</td>\n",
       "      <td>144.865838</td>\n",
       "      <td>[Newport Gardens Primary School, Bayside P-12 ...</td>\n",
       "    </tr>\n",
       "    <tr>\n",
       "      <th>...</th>\n",
       "      <td>...</td>\n",
       "      <td>...</td>\n",
       "      <td>...</td>\n",
       "      <td>...</td>\n",
       "      <td>...</td>\n",
       "      <td>...</td>\n",
       "      <td>...</td>\n",
       "      <td>...</td>\n",
       "      <td>...</td>\n",
       "      <td>...</td>\n",
       "      <td>...</td>\n",
       "      <td>...</td>\n",
       "      <td>...</td>\n",
       "      <td>...</td>\n",
       "    </tr>\n",
       "    <tr>\n",
       "      <th>0</th>\n",
       "      <td>rent</td>\n",
       "      <td>11 Avoca Street, Yarraville VIC 3013</td>\n",
       "      <td>Yarraville</td>\n",
       "      <td>3</td>\n",
       "      <td>1</td>\n",
       "      <td>0</td>\n",
       "      <td>3013</td>\n",
       "      <td>VIC</td>\n",
       "      <td>House</td>\n",
       "      <td>House</td>\n",
       "      <td>Jas Stephens Real Estate Yarraville</td>\n",
       "      <td>-37.814113</td>\n",
       "      <td>144.889218</td>\n",
       "      <td>[St Augustine's School, Yarraville West Primar...</td>\n",
       "    </tr>\n",
       "    <tr>\n",
       "      <th>0</th>\n",
       "      <td>rent</td>\n",
       "      <td>2/49 Hyde Street, Footscray VIC 3011</td>\n",
       "      <td>Footscray</td>\n",
       "      <td>2</td>\n",
       "      <td>1</td>\n",
       "      <td>1</td>\n",
       "      <td>3011</td>\n",
       "      <td>VIC</td>\n",
       "      <td>Apartment</td>\n",
       "      <td>Apartment / Unit / Flat</td>\n",
       "      <td>hockingstuart Yarraville</td>\n",
       "      <td>-37.820539</td>\n",
       "      <td>144.896651</td>\n",
       "      <td>[St Augustine's School, Yarraville Special Dev...</td>\n",
       "    </tr>\n",
       "    <tr>\n",
       "      <th>0</th>\n",
       "      <td>rent</td>\n",
       "      <td>216/9 The Arcade, Docklands VIC 3008</td>\n",
       "      <td>Docklands</td>\n",
       "      <td>2</td>\n",
       "      <td>1</td>\n",
       "      <td>1</td>\n",
       "      <td>3008</td>\n",
       "      <td>VIC</td>\n",
       "      <td>Apartment</td>\n",
       "      <td>Apartment / Unit / Flat</td>\n",
       "      <td>Barry Plant Docklands</td>\n",
       "      <td>-37.812559</td>\n",
       "      <td>144.937831</td>\n",
       "      <td>[Docklands Primary School, Haileybury Girls Co...</td>\n",
       "    </tr>\n",
       "    <tr>\n",
       "      <th>0</th>\n",
       "      <td>rent</td>\n",
       "      <td>1213/60 Kavanagh Street, Southbank VIC 3006</td>\n",
       "      <td>Southbank</td>\n",
       "      <td>2</td>\n",
       "      <td>2</td>\n",
       "      <td>0</td>\n",
       "      <td>3006</td>\n",
       "      <td>VIC</td>\n",
       "      <td>Apartment</td>\n",
       "      <td>Apartment / Unit / Flat</td>\n",
       "      <td>MICM Real Estate</td>\n",
       "      <td>-37.824096</td>\n",
       "      <td>144.963679</td>\n",
       "      <td>[Victorian College Of The Arts Secondary Schoo...</td>\n",
       "    </tr>\n",
       "    <tr>\n",
       "      <th>0</th>\n",
       "      <td>rent</td>\n",
       "      <td>46 Mirls Street, Newport VIC 3015</td>\n",
       "      <td>Newport</td>\n",
       "      <td>2</td>\n",
       "      <td>1</td>\n",
       "      <td>2</td>\n",
       "      <td>3015</td>\n",
       "      <td>VIC</td>\n",
       "      <td>House</td>\n",
       "      <td>House</td>\n",
       "      <td>Raine &amp; Horne Williamstown</td>\n",
       "      <td>-37.843402</td>\n",
       "      <td>144.879902</td>\n",
       "      <td>[Sacred Heart School, Newport Lakes Primary Sc...</td>\n",
       "    </tr>\n",
       "  </tbody>\n",
       "</table>\n",
       "<p>1796 rows × 14 columns</p>\n",
       "</div>"
      ],
      "text/plain": [
       "   rentalMethod                                        address      suburb  \\\n",
       "0          rent   3813/628 Flinders Street, Docklands VIC 3008   Docklands   \n",
       "0          rent      3813/70 Southbank Bvd, Southbank VIC 3006   Southbank   \n",
       "0          rent         907/2 Glenti Place, Docklands VIC 3008   Docklands   \n",
       "0          rent  1403/225 Elizabeth Street, Melbourne VIC 3000   Melbourne   \n",
       "0          rent         7/11-15 Basil Street, Newport VIC 3015     Newport   \n",
       "..          ...                                            ...         ...   \n",
       "0          rent           11 Avoca Street, Yarraville VIC 3013  Yarraville   \n",
       "0          rent           2/49 Hyde Street, Footscray VIC 3011   Footscray   \n",
       "0          rent           216/9 The Arcade, Docklands VIC 3008   Docklands   \n",
       "0          rent    1213/60 Kavanagh Street, Southbank VIC 3006   Southbank   \n",
       "0          rent              46 Mirls Street, Newport VIC 3015     Newport   \n",
       "\n",
       "   bedrooms bathrooms parking postcode state primaryPropertyType  \\\n",
       "0         2         1       0     3008   VIC           Apartment   \n",
       "0         2         2       1     3006   VIC           Apartment   \n",
       "0         3         2       2     3008   VIC           Apartment   \n",
       "0         2         1       0     3000   VIC           Apartment   \n",
       "0         3         3       1     3015   VIC     Townhouse/Villa   \n",
       "..      ...       ...     ...      ...   ...                 ...   \n",
       "0         3         1       0     3013   VIC               House   \n",
       "0         2         1       1     3011   VIC           Apartment   \n",
       "0         2         1       1     3008   VIC           Apartment   \n",
       "0         2         2       0     3006   VIC           Apartment   \n",
       "0         2         1       2     3015   VIC               House   \n",
       "\n",
       "      secondaryPropertyType                               agency   latitude  \\\n",
       "0   Apartment / Unit / Flat                           APG ESTATE -37.820969   \n",
       "0   Apartment / Unit / Flat                                Cubbi -37.823242   \n",
       "0   Apartment / Unit / Flat                    Lucas Real Estate -37.815405   \n",
       "0   Apartment / Unit / Flat   Ray White Southbank & Port Phillip -37.813231   \n",
       "0                 Townhouse              Jellis Craig Inner West -37.846291   \n",
       "..                      ...                                  ...        ...   \n",
       "0                     House  Jas Stephens Real Estate Yarraville -37.814113   \n",
       "0   Apartment / Unit / Flat             hockingstuart Yarraville -37.820539   \n",
       "0   Apartment / Unit / Flat                Barry Plant Docklands -37.812559   \n",
       "0   Apartment / Unit / Flat                     MICM Real Estate -37.824096   \n",
       "0                     House           Raine & Horne Williamstown -37.843402   \n",
       "\n",
       "     longitude                                      nearBySchools  \n",
       "0   144.953252  [Hester Hornbrook Academy - City Campus, Eltha...  \n",
       "0   144.964066  [Victorian College Of The Arts Secondary Schoo...  \n",
       "0   144.939092  [Docklands Primary School, Haileybury Girls Co...  \n",
       "0   144.962317  [Eltham College - Lonsdale Street Campus, Ozfo...  \n",
       "0   144.865838  [Newport Gardens Primary School, Bayside P-12 ...  \n",
       "..         ...                                                ...  \n",
       "0   144.889218  [St Augustine's School, Yarraville West Primar...  \n",
       "0   144.896651  [St Augustine's School, Yarraville Special Dev...  \n",
       "0   144.937831  [Docklands Primary School, Haileybury Girls Co...  \n",
       "0   144.963679  [Victorian College Of The Arts Secondary Schoo...  \n",
       "0   144.879902  [Sacred Heart School, Newport Lakes Primary Sc...  \n",
       "\n",
       "[1796 rows x 14 columns]"
      ]
     },
     "execution_count": 4,
     "metadata": {},
     "output_type": "execute_result"
    }
   ],
   "source": [
    "domain_properties_info(domain_links)"
   ]
  },
  {
   "cell_type": "code",
   "execution_count": null,
   "metadata": {},
   "outputs": [],
   "source": []
  }
 ],
 "metadata": {
  "kernelspec": {
   "display_name": "Python 3.10.4 ('ADS')",
   "language": "python",
   "name": "python3"
  },
  "language_info": {
   "codemirror_mode": {
    "name": "ipython",
    "version": 3
   },
   "file_extension": ".py",
   "mimetype": "text/x-python",
   "name": "python",
   "nbconvert_exporter": "python",
   "pygments_lexer": "ipython3",
   "version": "3.10.4"
  },
  "orig_nbformat": 4,
  "vscode": {
   "interpreter": {
    "hash": "183132b451050d377b0440a650259019ec3f60ba0d844e8e7e0c0f7121c63925"
   }
  }
 },
 "nbformat": 4,
 "nbformat_minor": 2
}
