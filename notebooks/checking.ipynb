{
 "cells": [
  {
   "cell_type": "code",
   "execution_count": null,
   "metadata": {},
   "outputs": [],
   "source": []
  },
  {
   "cell_type": "code",
   "execution_count": null,
   "metadata": {},
   "outputs": [],
   "source": []
  },
  {
   "cell_type": "code",
   "execution_count": null,
   "metadata": {},
   "outputs": [],
   "source": []
  },
  {
   "cell_type": "code",
   "execution_count": 1,
   "metadata": {},
   "outputs": [],
   "source": [
    "import os\n",
    "os.chdir('../scripts')\n",
    "\n",
    "from scrape_domain import *\n",
    "from constants import *\n",
    "from utils import *"
   ]
  },
  {
   "cell_type": "code",
   "execution_count": 2,
   "metadata": {},
   "outputs": [
    {
     "name": "stderr",
     "output_type": "stream",
     "text": [
      "0it [00:00, ?it/s]/20 [00:00<?, ?it/s]\n",
      "  5%|▌         | 1/20 [00:00<00:06,  3.01it/s]"
     ]
    },
    {
     "name": "stdout",
     "output_type": "stream",
     "text": [
      "0\n"
     ]
    },
    {
     "name": "stderr",
     "output_type": "stream",
     "text": [
      "0it [00:00, ?it/s]\n",
      " 10%|█         | 2/20 [00:00<00:05,  3.16it/s]"
     ]
    },
    {
     "name": "stdout",
     "output_type": "stream",
     "text": [
      "0\n"
     ]
    },
    {
     "name": "stderr",
     "output_type": "stream",
     "text": [
      "0it [00:00, ?it/s]\n",
      " 15%|█▌        | 3/20 [00:00<00:04,  3.71it/s]"
     ]
    },
    {
     "name": "stdout",
     "output_type": "stream",
     "text": [
      "0\n"
     ]
    },
    {
     "name": "stderr",
     "output_type": "stream",
     "text": [
      "0it [00:00, ?it/s]\n",
      " 20%|██        | 4/20 [00:01<00:04,  3.83it/s]"
     ]
    },
    {
     "name": "stdout",
     "output_type": "stream",
     "text": [
      "0\n"
     ]
    },
    {
     "name": "stderr",
     "output_type": "stream",
     "text": [
      "0it [00:00, ?it/s]\n",
      " 25%|██▌       | 5/20 [00:01<00:03,  4.20it/s]"
     ]
    },
    {
     "name": "stdout",
     "output_type": "stream",
     "text": [
      "0\n"
     ]
    },
    {
     "name": "stderr",
     "output_type": "stream",
     "text": [
      "100%|██████████| 1/1 [00:00<00:00,  1.95it/s]\n",
      " 30%|███       | 6/20 [00:02<00:06,  2.31it/s]"
     ]
    },
    {
     "name": "stdout",
     "output_type": "stream",
     "text": [
      "9\n"
     ]
    },
    {
     "name": "stderr",
     "output_type": "stream",
     "text": [
      "0it [00:00, ?it/s]\n",
      " 35%|███▌      | 7/20 [00:02<00:04,  2.67it/s]"
     ]
    },
    {
     "name": "stdout",
     "output_type": "stream",
     "text": [
      "0\n"
     ]
    },
    {
     "name": "stderr",
     "output_type": "stream",
     "text": [
      "100%|██████████| 5/5 [00:03<00:00,  1.26it/s]\n",
      " 40%|████      | 8/20 [00:06<00:20,  1.68s/it]"
     ]
    },
    {
     "name": "stdout",
     "output_type": "stream",
     "text": [
      "83\n"
     ]
    },
    {
     "name": "stderr",
     "output_type": "stream",
     "text": [
      "100%|██████████| 2/2 [00:00<00:00,  2.61it/s]\n",
      " 45%|████▌     | 9/20 [00:10<00:23,  2.16s/it]"
     ]
    },
    {
     "name": "stdout",
     "output_type": "stream",
     "text": [
      "22\n"
     ]
    },
    {
     "name": "stderr",
     "output_type": "stream",
     "text": [
      "100%|██████████| 7/7 [00:04<00:00,  1.56it/s]\n",
      " 50%|█████     | 10/20 [00:15<00:30,  3.07s/it]"
     ]
    },
    {
     "name": "stdout",
     "output_type": "stream",
     "text": [
      "126\n"
     ]
    },
    {
     "name": "stderr",
     "output_type": "stream",
     "text": [
      "100%|██████████| 2/2 [00:00<00:00,  2.49it/s]\n",
      " 55%|█████▌    | 11/20 [00:16<00:23,  2.61s/it]"
     ]
    },
    {
     "name": "stdout",
     "output_type": "stream",
     "text": [
      "25\n"
     ]
    },
    {
     "name": "stderr",
     "output_type": "stream",
     "text": [
      "100%|██████████| 4/4 [00:03<00:00,  1.27it/s]\n",
      " 60%|██████    | 12/20 [00:20<00:23,  2.90s/it]"
     ]
    },
    {
     "name": "stdout",
     "output_type": "stream",
     "text": [
      "63\n"
     ]
    },
    {
     "name": "stderr",
     "output_type": "stream",
     "text": [
      "100%|██████████| 4/4 [00:02<00:00,  1.87it/s]\n",
      " 65%|██████▌   | 13/20 [00:22<00:19,  2.81s/it]"
     ]
    },
    {
     "name": "stdout",
     "output_type": "stream",
     "text": [
      "67\n"
     ]
    },
    {
     "name": "stderr",
     "output_type": "stream",
     "text": [
      "100%|██████████| 1/1 [00:00<00:00,  2.73it/s]\n",
      " 70%|███████   | 14/20 [00:23<00:13,  2.24s/it]"
     ]
    },
    {
     "name": "stdout",
     "output_type": "stream",
     "text": [
      "18\n"
     ]
    },
    {
     "name": "stderr",
     "output_type": "stream",
     "text": [
      "100%|██████████| 2/2 [00:00<00:00,  2.69it/s]\n",
      " 75%|███████▌  | 15/20 [00:24<00:09,  1.90s/it]"
     ]
    },
    {
     "name": "stdout",
     "output_type": "stream",
     "text": [
      "39\n"
     ]
    },
    {
     "name": "stderr",
     "output_type": "stream",
     "text": [
      "100%|██████████| 5/5 [00:02<00:00,  1.75it/s]\n",
      " 80%|████████  | 16/20 [00:28<00:09,  2.30s/it]"
     ]
    },
    {
     "name": "stdout",
     "output_type": "stream",
     "text": [
      "100\n"
     ]
    },
    {
     "name": "stderr",
     "output_type": "stream",
     "text": [
      "100%|██████████| 4/4 [00:02<00:00,  1.55it/s]\n",
      " 85%|████████▌ | 17/20 [00:31<00:07,  2.59s/it]"
     ]
    },
    {
     "name": "stdout",
     "output_type": "stream",
     "text": [
      "67\n"
     ]
    },
    {
     "name": "stderr",
     "output_type": "stream",
     "text": [
      "100%|██████████| 7/7 [00:03<00:00,  2.01it/s]\n",
      " 90%|█████████ | 18/20 [00:35<00:06,  3.14s/it]"
     ]
    },
    {
     "name": "stdout",
     "output_type": "stream",
     "text": [
      "131\n"
     ]
    },
    {
     "name": "stderr",
     "output_type": "stream",
     "text": [
      "100%|██████████| 5/5 [00:02<00:00,  1.94it/s]\n",
      " 95%|█████████▌| 19/20 [00:38<00:03,  3.10s/it]"
     ]
    },
    {
     "name": "stdout",
     "output_type": "stream",
     "text": [
      "96\n"
     ]
    },
    {
     "name": "stderr",
     "output_type": "stream",
     "text": [
      "0it [00:00, ?it/s]\n",
      "100%|██████████| 20/20 [00:39<00:00,  1.96s/it]"
     ]
    },
    {
     "name": "stdout",
     "output_type": "stream",
     "text": [
      "0\n"
     ]
    },
    {
     "name": "stderr",
     "output_type": "stream",
     "text": [
      "\n"
     ]
    }
   ],
   "source": [
    "vic_postcodes = constants.postcodes['VIC_sample']\n",
    "\n",
    "domain_links = set()\n",
    "\n",
    "for i in tqdm(range(len(vic_postcodes))):\n",
    "    current_links = domain_property_links(vic_postcodes[i])\n",
    "    domain_links = domain_links | current_links\n",
    "    \n",
    "    print(len(current_links))"
   ]
  },
  {
   "cell_type": "code",
   "execution_count": 3,
   "metadata": {},
   "outputs": [
    {
     "data": {
      "text/plain": [
       "846"
      ]
     },
     "execution_count": 3,
     "metadata": {},
     "output_type": "execute_result"
    }
   ],
   "source": [
    "len(domain_links)"
   ]
  },
  {
   "cell_type": "code",
   "execution_count": 4,
   "metadata": {},
   "outputs": [
    {
     "data": {
      "text/html": [
       "<div>\n",
       "<style scoped>\n",
       "    .dataframe tbody tr th:only-of-type {\n",
       "        vertical-align: middle;\n",
       "    }\n",
       "\n",
       "    .dataframe tbody tr th {\n",
       "        vertical-align: top;\n",
       "    }\n",
       "\n",
       "    .dataframe thead th {\n",
       "        text-align: right;\n",
       "    }\n",
       "</style>\n",
       "<table border=\"1\" class=\"dataframe\">\n",
       "  <thead>\n",
       "    <tr style=\"text-align: right;\">\n",
       "      <th></th>\n",
       "      <th>rentalMethod</th>\n",
       "      <th>address</th>\n",
       "      <th>suburb</th>\n",
       "      <th>bedrooms</th>\n",
       "      <th>bathrooms</th>\n",
       "      <th>parking</th>\n",
       "      <th>postcode</th>\n",
       "      <th>state</th>\n",
       "      <th>primaryPropertyType</th>\n",
       "      <th>secondaryPropertyType</th>\n",
       "      <th>agency</th>\n",
       "      <th>latitude</th>\n",
       "      <th>longitude</th>\n",
       "      <th>nearBySchools</th>\n",
       "    </tr>\n",
       "  </thead>\n",
       "  <tbody>\n",
       "    <tr>\n",
       "      <th>0</th>\n",
       "      <td>rent</td>\n",
       "      <td>1002/7 Trickett Street, Surfers Paradise QLD 4217</td>\n",
       "      <td>Surfers Paradise</td>\n",
       "      <td>1</td>\n",
       "      <td>1</td>\n",
       "      <td>1</td>\n",
       "      <td>4217</td>\n",
       "      <td>QLD</td>\n",
       "      <td>Apartment</td>\n",
       "      <td>Apartment / Unit / Flat</td>\n",
       "      <td>Ocean Blue Realty</td>\n",
       "      <td>-28.003839</td>\n",
       "      <td>153.430744</td>\n",
       "      <td>[Surfers Paradise State School, The Southport ...</td>\n",
       "    </tr>\n",
       "    <tr>\n",
       "      <th>0</th>\n",
       "      <td>rent</td>\n",
       "      <td>24 Driver Court, Mermaid Waters QLD 4218</td>\n",
       "      <td>Mermaid Waters</td>\n",
       "      <td>5</td>\n",
       "      <td>3</td>\n",
       "      <td>2</td>\n",
       "      <td>4218</td>\n",
       "      <td>QLD</td>\n",
       "      <td>House</td>\n",
       "      <td>House</td>\n",
       "      <td>LJ Hooker Property Hub</td>\n",
       "      <td>-28.056635</td>\n",
       "      <td>153.430951</td>\n",
       "      <td>[Miami State School, Miami State High School, ...</td>\n",
       "    </tr>\n",
       "    <tr>\n",
       "      <th>0</th>\n",
       "      <td>rent</td>\n",
       "      <td>1/25 Hilda Street, Mermaid Beach QLD 4218</td>\n",
       "      <td>Mermaid Beach</td>\n",
       "      <td>3</td>\n",
       "      <td>2</td>\n",
       "      <td>2</td>\n",
       "      <td>4218</td>\n",
       "      <td>QLD</td>\n",
       "      <td>Townhouse/Villa</td>\n",
       "      <td>Townhouse</td>\n",
       "      <td>Ray White Mermaid Waters</td>\n",
       "      <td>-28.047145</td>\n",
       "      <td>153.436664</td>\n",
       "      <td>[Broadbeach State School, Miami State High Sch...</td>\n",
       "    </tr>\n",
       "    <tr>\n",
       "      <th>0</th>\n",
       "      <td>rent</td>\n",
       "      <td>14 The Strand, Nerang QLD 4211</td>\n",
       "      <td>Nerang</td>\n",
       "      <td>4</td>\n",
       "      <td>2</td>\n",
       "      <td>3</td>\n",
       "      <td>4211</td>\n",
       "      <td>QLD</td>\n",
       "      <td>House</td>\n",
       "      <td>House</td>\n",
       "      <td>LJ Hooker Nerang</td>\n",
       "      <td>-28.005312</td>\n",
       "      <td>153.330272</td>\n",
       "      <td>[Nerang State High School, William Duncan Stat...</td>\n",
       "    </tr>\n",
       "    <tr>\n",
       "      <th>0</th>\n",
       "      <td>rent</td>\n",
       "      <td>14/3508 Main Beach Parade, Main Beach QLD 4217</td>\n",
       "      <td>Main Beach</td>\n",
       "      <td>2</td>\n",
       "      <td>2</td>\n",
       "      <td>1</td>\n",
       "      <td>4217</td>\n",
       "      <td>QLD</td>\n",
       "      <td>Apartment</td>\n",
       "      <td>Apartment / Unit / Flat</td>\n",
       "      <td>Ray White Surfers Paradise</td>\n",
       "      <td>-27.983231</td>\n",
       "      <td>153.428831</td>\n",
       "      <td>[The Southport School, Men of Business Academy...</td>\n",
       "    </tr>\n",
       "    <tr>\n",
       "      <th>...</th>\n",
       "      <td>...</td>\n",
       "      <td>...</td>\n",
       "      <td>...</td>\n",
       "      <td>...</td>\n",
       "      <td>...</td>\n",
       "      <td>...</td>\n",
       "      <td>...</td>\n",
       "      <td>...</td>\n",
       "      <td>...</td>\n",
       "      <td>...</td>\n",
       "      <td>...</td>\n",
       "      <td>...</td>\n",
       "      <td>...</td>\n",
       "      <td>...</td>\n",
       "    </tr>\n",
       "    <tr>\n",
       "      <th>0</th>\n",
       "      <td>rent</td>\n",
       "      <td>6/13 Galloway Drive, Ashmore QLD 4214</td>\n",
       "      <td>Ashmore</td>\n",
       "      <td>2</td>\n",
       "      <td>1</td>\n",
       "      <td>1</td>\n",
       "      <td>4214</td>\n",
       "      <td>QLD</td>\n",
       "      <td>Any</td>\n",
       "      <td>Duplex</td>\n",
       "      <td>Harcourts Innovations</td>\n",
       "      <td>-27.989520</td>\n",
       "      <td>153.368127</td>\n",
       "      <td>[Trinity Lutheran College (Cotlew Street Campu...</td>\n",
       "    </tr>\n",
       "    <tr>\n",
       "      <th>0</th>\n",
       "      <td>rent</td>\n",
       "      <td>17/4 Thornton St, Surfers Paradise QLD 4217</td>\n",
       "      <td>Surfers Paradise</td>\n",
       "      <td>2</td>\n",
       "      <td>2</td>\n",
       "      <td>1</td>\n",
       "      <td>4217</td>\n",
       "      <td>QLD</td>\n",
       "      <td>Apartment</td>\n",
       "      <td>Apartment / Unit / Flat</td>\n",
       "      <td>Accor Realty</td>\n",
       "      <td>-28.010952</td>\n",
       "      <td>153.431558</td>\n",
       "      <td>[Surfers Paradise State School, Merrimac State...</td>\n",
       "    </tr>\n",
       "    <tr>\n",
       "      <th>0</th>\n",
       "      <td>rent</td>\n",
       "      <td>65 Orlando Drive, Coomera QLD 4209</td>\n",
       "      <td>Coomera</td>\n",
       "      <td>4</td>\n",
       "      <td>2</td>\n",
       "      <td>2</td>\n",
       "      <td>4209</td>\n",
       "      <td>QLD</td>\n",
       "      <td>House</td>\n",
       "      <td>House</td>\n",
       "      <td>The Onsite Manager</td>\n",
       "      <td>-27.841110</td>\n",
       "      <td>153.333404</td>\n",
       "      <td>[Picnic Creek State School, St Joseph's Colleg...</td>\n",
       "    </tr>\n",
       "    <tr>\n",
       "      <th>0</th>\n",
       "      <td>rent</td>\n",
       "      <td>ID:3900528/25 East Quay Drive, Biggera Waters ...</td>\n",
       "      <td>Biggera Waters</td>\n",
       "      <td>2</td>\n",
       "      <td>2</td>\n",
       "      <td>1</td>\n",
       "      <td>4216</td>\n",
       "      <td>QLD</td>\n",
       "      <td>Apartment</td>\n",
       "      <td>Apartment / Unit / Flat</td>\n",
       "      <td>The Onsite Manager</td>\n",
       "      <td>-27.925482</td>\n",
       "      <td>153.386710</td>\n",
       "      <td>[Coombabah State High School, Biggera Waters S...</td>\n",
       "    </tr>\n",
       "    <tr>\n",
       "      <th>0</th>\n",
       "      <td>rent</td>\n",
       "      <td>114 Coomera Springs Boulevard, Upper Coomera Q...</td>\n",
       "      <td>Upper Coomera</td>\n",
       "      <td>4</td>\n",
       "      <td>2</td>\n",
       "      <td>2</td>\n",
       "      <td>4209</td>\n",
       "      <td>QLD</td>\n",
       "      <td>House</td>\n",
       "      <td>House</td>\n",
       "      <td>Astute Realty</td>\n",
       "      <td>-27.845757</td>\n",
       "      <td>153.291022</td>\n",
       "      <td>[Coomera Springs State School, Assisi Catholic...</td>\n",
       "    </tr>\n",
       "  </tbody>\n",
       "</table>\n",
       "<p>845 rows × 14 columns</p>\n",
       "</div>"
      ],
      "text/plain": [
       "   rentalMethod                                            address  \\\n",
       "0          rent  1002/7 Trickett Street, Surfers Paradise QLD 4217   \n",
       "0          rent           24 Driver Court, Mermaid Waters QLD 4218   \n",
       "0          rent          1/25 Hilda Street, Mermaid Beach QLD 4218   \n",
       "0          rent                     14 The Strand, Nerang QLD 4211   \n",
       "0          rent     14/3508 Main Beach Parade, Main Beach QLD 4217   \n",
       "..          ...                                                ...   \n",
       "0          rent              6/13 Galloway Drive, Ashmore QLD 4214   \n",
       "0          rent        17/4 Thornton St, Surfers Paradise QLD 4217   \n",
       "0          rent                 65 Orlando Drive, Coomera QLD 4209   \n",
       "0          rent  ID:3900528/25 East Quay Drive, Biggera Waters ...   \n",
       "0          rent  114 Coomera Springs Boulevard, Upper Coomera Q...   \n",
       "\n",
       "              suburb bedrooms bathrooms parking postcode state  \\\n",
       "0   Surfers Paradise        1         1       1     4217   QLD   \n",
       "0     Mermaid Waters        5         3       2     4218   QLD   \n",
       "0      Mermaid Beach        3         2       2     4218   QLD   \n",
       "0             Nerang        4         2       3     4211   QLD   \n",
       "0         Main Beach        2         2       1     4217   QLD   \n",
       "..               ...      ...       ...     ...      ...   ...   \n",
       "0            Ashmore        2         1       1     4214   QLD   \n",
       "0   Surfers Paradise        2         2       1     4217   QLD   \n",
       "0            Coomera        4         2       2     4209   QLD   \n",
       "0     Biggera Waters        2         2       1     4216   QLD   \n",
       "0      Upper Coomera        4         2       2     4209   QLD   \n",
       "\n",
       "   primaryPropertyType    secondaryPropertyType                      agency  \\\n",
       "0            Apartment  Apartment / Unit / Flat           Ocean Blue Realty   \n",
       "0                House                    House      LJ Hooker Property Hub   \n",
       "0      Townhouse/Villa                Townhouse    Ray White Mermaid Waters   \n",
       "0                House                    House            LJ Hooker Nerang   \n",
       "0            Apartment  Apartment / Unit / Flat  Ray White Surfers Paradise   \n",
       "..                 ...                      ...                         ...   \n",
       "0                  Any                   Duplex       Harcourts Innovations   \n",
       "0            Apartment  Apartment / Unit / Flat                Accor Realty   \n",
       "0                House                    House          The Onsite Manager   \n",
       "0            Apartment  Apartment / Unit / Flat          The Onsite Manager   \n",
       "0                House                    House               Astute Realty   \n",
       "\n",
       "     latitude   longitude                                      nearBySchools  \n",
       "0  -28.003839  153.430744  [Surfers Paradise State School, The Southport ...  \n",
       "0  -28.056635  153.430951  [Miami State School, Miami State High School, ...  \n",
       "0  -28.047145  153.436664  [Broadbeach State School, Miami State High Sch...  \n",
       "0  -28.005312  153.330272  [Nerang State High School, William Duncan Stat...  \n",
       "0  -27.983231  153.428831  [The Southport School, Men of Business Academy...  \n",
       "..        ...         ...                                                ...  \n",
       "0  -27.989520  153.368127  [Trinity Lutheran College (Cotlew Street Campu...  \n",
       "0  -28.010952  153.431558  [Surfers Paradise State School, Merrimac State...  \n",
       "0  -27.841110  153.333404  [Picnic Creek State School, St Joseph's Colleg...  \n",
       "0  -27.925482  153.386710  [Coombabah State High School, Biggera Waters S...  \n",
       "0  -27.845757  153.291022  [Coomera Springs State School, Assisi Catholic...  \n",
       "\n",
       "[845 rows x 14 columns]"
      ]
     },
     "execution_count": 4,
     "metadata": {},
     "output_type": "execute_result"
    }
   ],
   "source": [
    "domain_properties_info(domain_links)"
   ]
  },
  {
   "cell_type": "code",
   "execution_count": null,
   "metadata": {},
   "outputs": [],
   "source": []
  },
  {
   "cell_type": "code",
   "execution_count": null,
   "metadata": {},
   "outputs": [],
   "source": []
  },
  {
   "cell_type": "code",
   "execution_count": null,
   "metadata": {},
   "outputs": [],
   "source": []
  },
  {
   "cell_type": "code",
   "execution_count": null,
   "metadata": {},
   "outputs": [],
   "source": []
  },
  {
   "cell_type": "code",
   "execution_count": null,
   "metadata": {},
   "outputs": [],
   "source": []
  },
  {
   "cell_type": "code",
   "execution_count": 5,
   "metadata": {},
   "outputs": [],
   "source": [
    "# df = pd.read_parquet('../data/domain_samples.parquet')"
   ]
  },
  {
   "cell_type": "code",
   "execution_count": 6,
   "metadata": {},
   "outputs": [],
   "source": [
    "# df.info()"
   ]
  },
  {
   "cell_type": "code",
   "execution_count": null,
   "metadata": {},
   "outputs": [],
   "source": []
  },
  {
   "cell_type": "markdown",
   "metadata": {},
   "source": [
    "# import required libraries\n",
    "from pyspark.sql import SparkSession, functions as F\n",
    "from pyspark.sql.functions import col, isnan, when, count, mean, udf, split, unix_timestamp, from_unixtime\n",
    "from pyspark.sql.types import StringType, IntegerType, FloatType\n",
    "\n",
    "# init SparkSession class\n",
    "spark = (\n",
    "    # if available consider use yarn master node\n",
    "    SparkSession.builder.master(\"local[*]\") \n",
    "    \n",
    "    # spark executor env configuration\n",
    "    .config(\"spark.executor.memory\", \"8g\")\n",
    "    .config(\"spark.driver.memory\", \"16g\")\n",
    "    .config(\"spark.executor.cores\", \"2\")\n",
    "    .config(\"spark.executor.instances\", \"6\")\n",
    "    .config(\"spark.sql.session.timeZone\", \"Etc/UTC\")\n",
    "    \n",
    "    # jvm memory configuration\n",
    "    .config(\"spark.memory.offHeap.enabled\", \"true\")\n",
    "    .config(\"spark.memory.offHeap.size\", \"8g\")\n",
    "    \n",
    "    # parquet file load configuration\n",
    "    .config(\"spark.sql.repl.eagerEval.enabled\", 'true')\n",
    "    .config(\"spark.sql.parquet.cacheMetadata\", 'true')\n",
    "    \n",
    "    # build the session\n",
    "    .appName(\"Pyspark Start Template\") # change app name here\n",
    "    .getOrCreate()\n",
    ")\n",
    "\n",
    "# change default log level\n",
    "spark.sparkContext.setLogLevel('ERROR')\n",
    "\n",
    "import matplotlib.pyplot as plt\n",
    "import os"
   ]
  },
  {
   "cell_type": "code",
   "execution_count": 7,
   "metadata": {},
   "outputs": [],
   "source": [
    "# sdf = spark.read.parquet('../data/domain_samples.parquet', headers = True)\n",
    "# sdf.limit(5)"
   ]
  },
  {
   "cell_type": "code",
   "execution_count": 8,
   "metadata": {},
   "outputs": [],
   "source": [
    "# print((sdf.count(), len(sdf.columns)))"
   ]
  },
  {
   "cell_type": "code",
   "execution_count": 9,
   "metadata": {},
   "outputs": [],
   "source": [
    "# sdf.printSchema()"
   ]
  },
  {
   "cell_type": "code",
   "execution_count": null,
   "metadata": {},
   "outputs": [],
   "source": []
  }
 ],
 "metadata": {
  "kernelspec": {
   "display_name": "Python 3.10.4 ('ADS')",
   "language": "python",
   "name": "python3"
  },
  "language_info": {
   "codemirror_mode": {
    "name": "ipython",
    "version": 3
   },
   "file_extension": ".py",
   "mimetype": "text/x-python",
   "name": "python",
   "nbconvert_exporter": "python",
   "pygments_lexer": "ipython3",
   "version": "3.10.4"
  },
  "orig_nbformat": 4,
  "vscode": {
   "interpreter": {
    "hash": "183132b451050d377b0440a650259019ec3f60ba0d844e8e7e0c0f7121c63925"
   }
  }
 },
 "nbformat": 4,
 "nbformat_minor": 2
}
