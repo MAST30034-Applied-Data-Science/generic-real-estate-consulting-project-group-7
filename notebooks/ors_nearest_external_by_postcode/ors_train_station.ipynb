{
 "cells": [
  {
   "cell_type": "code",
   "execution_count": 4,
   "id": "1d79996e",
   "metadata": {},
   "outputs": [],
   "source": [
    "import pandas as pd\n",
    "import folium\n",
    "import time"
   ]
  },
  {
   "cell_type": "code",
   "execution_count": 5,
   "id": "18cb3d7b",
   "metadata": {},
   "outputs": [],
   "source": [
    "df_all_centroid = pd.read_csv('../data/raw/postcode_centroid.csv')"
   ]
  },
  {
   "cell_type": "code",
   "execution_count": 6,
   "id": "ca78e3cf",
   "metadata": {
    "scrolled": true
   },
   "outputs": [],
   "source": [
    "df_train_postcode = pd.read_csv(\"../data/raw/external-data/train_station.csv\")"
   ]
  },
  {
   "cell_type": "code",
   "execution_count": 61,
   "id": "4781dbb5",
   "metadata": {},
   "outputs": [],
   "source": [
    "import openrouteservice as ors\n",
    "client = ors.Client(key='5b3ce3597851110001cf62487134eb4caf4944e29142669d2da70f9b')"
   ]
  },
  {
   "cell_type": "code",
   "execution_count": 58,
   "id": "67c4d623",
   "metadata": {},
   "outputs": [],
   "source": [
    "# define a fuction to find the information of the nearest facility (shortest driving duration) in each postcode\n",
    "def nearest(df_all_property, df_facility, index):\n",
    "    i = index\n",
    "    \n",
    "    # get the postcode find all facilities in this postcode\n",
    "    postcode = df_all_property['POSTCODE'][i]\n",
    "    facility = df_facility.loc[df_facility['postcode'] == postcode].to_dict()\n",
    "    \n",
    "    # get the longitude and latitude of the these facilities\n",
    "    lat = list(facility[\"LATITUDE\"].values())\n",
    "    lon = list(facility[\"LONGITUDE\"].values())\n",
    "    \n",
    "    # if there is no facility in this suburb, early return none\n",
    "    if len(lat) == 0:\n",
    "        return (postcode, 'none', 'none', 'none', 'none')\n",
    " \n",
    "    # create a list of location, put the centroid of this suburb as the first element\n",
    "    loc = [list(eval(df_all_property['centroid'][i]))]\n",
    "   \n",
    "        \n",
    "    # append the loctations of the facilities in this suburb to the list of location\n",
    "    for j in range(0, len(lat)):\n",
    "        loc.append([lon[j], lat[j]])\n",
    "        \n",
    "        \n",
    "    #get the driving distance and duration between the suburb centroid and each facility\n",
    "    matrix = client.distance_matrix(\n",
    "    locations = loc,\n",
    "    sources = list(range(1, len(loc))),\n",
    "    destinations = [0],\n",
    "    metrics=['distance', 'duration'],\n",
    "    )\n",
    "    \n",
    "    #get the shortest duration among all facilities\n",
    "    nearest_distance = min(matrix['distances'])[0]\n",
    "    nearest_duration = min(matrix['durations'])[0]                                                    \n",
    "    \n",
    "    # get the name and the longitude and latitude of that facility with shortest duration\n",
    "    index = matrix['durations'].index(min(matrix['durations']))\n",
    "    nearest_name = list(facility['STOP_NAME'].values())[index]\n",
    "    nearest_latlon = loc[index + 1] \n",
    "    \n",
    "    return (postcode, nearest_name, nearest_distance, nearest_duration, nearest_latlon)\n"
   ]
  },
  {
   "cell_type": "code",
   "execution_count": 62,
   "id": "fea15266",
   "metadata": {},
   "outputs": [],
   "source": [
    "# create a dictionary of train_station to store the information\n",
    "train_station = {\"postcode\":[], \"lst_nearest_latlon\":[], \"nearest_station_name\":[],\n",
    "                 \"nearest_duration\":[], \"nearest_distance\":[]}"
   ]
  },
  {
   "cell_type": "code",
   "execution_count": 63,
   "id": "482a3fa2",
   "metadata": {
    "scrolled": true
   },
   "outputs": [
    {
     "name": "stderr",
     "output_type": "stream",
     "text": [
      "/Users/zongchaoxie/opt/anaconda3/lib/python3.9/site-packages/openrouteservice/client.py:211: UserWarning: Rate limit exceeded. Retrying for the 1st time.\n",
      "  warnings.warn('Rate limit exceeded. Retrying for the {0}{1} time.'.format(retry_counter + 1,\n",
      "/Users/zongchaoxie/opt/anaconda3/lib/python3.9/site-packages/openrouteservice/client.py:211: UserWarning: Rate limit exceeded. Retrying for the 2nd time.\n",
      "  warnings.warn('Rate limit exceeded. Retrying for the {0}{1} time.'.format(retry_counter + 1,\n",
      "/Users/zongchaoxie/opt/anaconda3/lib/python3.9/site-packages/openrouteservice/client.py:211: UserWarning: Rate limit exceeded. Retrying for the 3rd time.\n",
      "  warnings.warn('Rate limit exceeded. Retrying for the {0}{1} time.'.format(retry_counter + 1,\n",
      "/Users/zongchaoxie/opt/anaconda3/lib/python3.9/site-packages/openrouteservice/client.py:211: UserWarning: Rate limit exceeded. Retrying for the 4th time.\n",
      "  warnings.warn('Rate limit exceeded. Retrying for the {0}{1} time.'.format(retry_counter + 1,\n",
      "/Users/zongchaoxie/opt/anaconda3/lib/python3.9/site-packages/openrouteservice/client.py:211: UserWarning: Rate limit exceeded. Retrying for the 5th time.\n",
      "  warnings.warn('Rate limit exceeded. Retrying for the {0}{1} time.'.format(retry_counter + 1,\n",
      "/Users/zongchaoxie/opt/anaconda3/lib/python3.9/site-packages/openrouteservice/client.py:211: UserWarning: Rate limit exceeded. Retrying for the 6th time.\n",
      "  warnings.warn('Rate limit exceeded. Retrying for the {0}{1} time.'.format(retry_counter + 1,\n",
      "/Users/zongchaoxie/opt/anaconda3/lib/python3.9/site-packages/openrouteservice/client.py:211: UserWarning: Rate limit exceeded. Retrying for the 7th time.\n",
      "  warnings.warn('Rate limit exceeded. Retrying for the {0}{1} time.'.format(retry_counter + 1,\n",
      "/Users/zongchaoxie/opt/anaconda3/lib/python3.9/site-packages/openrouteservice/client.py:211: UserWarning: Rate limit exceeded. Retrying for the 8th time.\n",
      "  warnings.warn('Rate limit exceeded. Retrying for the {0}{1} time.'.format(retry_counter + 1,\n"
     ]
    }
   ],
   "source": [
    "for i in range(0, len(df_all_centroid)):   \n",
    "    \n",
    "    # sleep 10 seconds each 20 postcode to avoid timeout error\n",
    "    if isinstance(i % 20, int) and (i % 20 == 0):\n",
    "        time.sleep(10) \n",
    "    \n",
    "    # get the information of the nearest facility (shortest driving duration) in each postcode\n",
    "    # using the nearest fuction\n",
    "    result = nearest(df_all_centroid, df_train_postcode, i)\n",
    "    \n",
    "    # append the result to the dictionary\n",
    "    train_station[\"nearest_station_name\"].append(result[1])\n",
    "    train_station[\"nearest_distance\"].append(result[2])\n",
    "    train_station[\"nearest_duration\"].append(result[3])\n",
    "    train_station[\"postcode\"].append(result[0])\n",
    "    train_station[\"lst_nearest_latlon\"].append(result[4])\n",
    "    \n",
    "\n"
   ]
  },
  {
   "cell_type": "code",
   "execution_count": 64,
   "id": "731aab7c",
   "metadata": {},
   "outputs": [
    {
     "data": {
      "text/plain": [
       "180"
      ]
     },
     "execution_count": 64,
     "metadata": {},
     "output_type": "execute_result"
    }
   ],
   "source": [
    "len(train_station[\"nearest_duration\"])"
   ]
  },
  {
   "cell_type": "code",
   "execution_count": 65,
   "id": "79682147",
   "metadata": {},
   "outputs": [
    {
     "data": {
      "text/html": [
       "<div>\n",
       "<style scoped>\n",
       "    .dataframe tbody tr th:only-of-type {\n",
       "        vertical-align: middle;\n",
       "    }\n",
       "\n",
       "    .dataframe tbody tr th {\n",
       "        vertical-align: top;\n",
       "    }\n",
       "\n",
       "    .dataframe thead th {\n",
       "        text-align: right;\n",
       "    }\n",
       "</style>\n",
       "<table border=\"1\" class=\"dataframe\">\n",
       "  <thead>\n",
       "    <tr style=\"text-align: right;\">\n",
       "      <th></th>\n",
       "      <th>postcode</th>\n",
       "      <th>lst_nearest_latlon</th>\n",
       "      <th>nearest_station_name</th>\n",
       "      <th>nearest_duration</th>\n",
       "      <th>nearest_distance</th>\n",
       "    </tr>\n",
       "  </thead>\n",
       "  <tbody>\n",
       "    <tr>\n",
       "      <th>0</th>\n",
       "      <td>3131</td>\n",
       "      <td>[145.175237, -37.820428]</td>\n",
       "      <td>Nunawading Railway Station (Nunawading)</td>\n",
       "      <td>185.57</td>\n",
       "      <td>1194.72</td>\n",
       "    </tr>\n",
       "    <tr>\n",
       "      <th>1</th>\n",
       "      <td>3939</td>\n",
       "      <td>none</td>\n",
       "      <td>none</td>\n",
       "      <td>none</td>\n",
       "      <td>none</td>\n",
       "    </tr>\n",
       "    <tr>\n",
       "      <th>2</th>\n",
       "      <td>3429</td>\n",
       "      <td>[144.727319, -37.579091]</td>\n",
       "      <td>Sunbury Railway Station (Sunbury)</td>\n",
       "      <td>325.36</td>\n",
       "      <td>3607.43</td>\n",
       "    </tr>\n",
       "    <tr>\n",
       "      <th>3</th>\n",
       "      <td>3144</td>\n",
       "      <td>[145.041734, -37.849366]</td>\n",
       "      <td>Tooronga Railway Station (Malvern)</td>\n",
       "      <td>144.09</td>\n",
       "      <td>1286.4</td>\n",
       "    </tr>\n",
       "    <tr>\n",
       "      <th>4</th>\n",
       "      <td>3338</td>\n",
       "      <td>none</td>\n",
       "      <td>none</td>\n",
       "      <td>none</td>\n",
       "      <td>none</td>\n",
       "    </tr>\n",
       "    <tr>\n",
       "      <th>...</th>\n",
       "      <td>...</td>\n",
       "      <td>...</td>\n",
       "      <td>...</td>\n",
       "      <td>...</td>\n",
       "      <td>...</td>\n",
       "    </tr>\n",
       "    <tr>\n",
       "      <th>175</th>\n",
       "      <td>3003</td>\n",
       "      <td>[144.94257, -37.807419]</td>\n",
       "      <td>North Melbourne Railway Station (West Melbourne)</td>\n",
       "      <td>347.54</td>\n",
       "      <td>2836.96</td>\n",
       "    </tr>\n",
       "    <tr>\n",
       "      <th>176</th>\n",
       "      <td>3008</td>\n",
       "      <td>[144.951411, -37.817936]</td>\n",
       "      <td>Southern Cross Railway Station (Melbourne City)</td>\n",
       "      <td>230.16</td>\n",
       "      <td>1665.71</td>\n",
       "    </tr>\n",
       "    <tr>\n",
       "      <th>177</th>\n",
       "      <td>3207</td>\n",
       "      <td>none</td>\n",
       "      <td>none</td>\n",
       "      <td>none</td>\n",
       "      <td>none</td>\n",
       "    </tr>\n",
       "    <tr>\n",
       "      <th>178</th>\n",
       "      <td>3032</td>\n",
       "      <td>[144.921821, -37.775306]</td>\n",
       "      <td>Ascot Vale Railway Station (Ascot Vale)</td>\n",
       "      <td>365.14</td>\n",
       "      <td>2639.08</td>\n",
       "    </tr>\n",
       "    <tr>\n",
       "      <th>179</th>\n",
       "      <td>3031</td>\n",
       "      <td>[144.928978, -37.787328]</td>\n",
       "      <td>Newmarket Railway Station (Flemington)</td>\n",
       "      <td>220.67</td>\n",
       "      <td>1691.33</td>\n",
       "    </tr>\n",
       "  </tbody>\n",
       "</table>\n",
       "<p>180 rows × 5 columns</p>\n",
       "</div>"
      ],
      "text/plain": [
       "     postcode        lst_nearest_latlon  \\\n",
       "0        3131  [145.175237, -37.820428]   \n",
       "1        3939                      none   \n",
       "2        3429  [144.727319, -37.579091]   \n",
       "3        3144  [145.041734, -37.849366]   \n",
       "4        3338                      none   \n",
       "..        ...                       ...   \n",
       "175      3003   [144.94257, -37.807419]   \n",
       "176      3008  [144.951411, -37.817936]   \n",
       "177      3207                      none   \n",
       "178      3032  [144.921821, -37.775306]   \n",
       "179      3031  [144.928978, -37.787328]   \n",
       "\n",
       "                                 nearest_station_name nearest_duration  \\\n",
       "0             Nunawading Railway Station (Nunawading)           185.57   \n",
       "1                                                none             none   \n",
       "2                   Sunbury Railway Station (Sunbury)           325.36   \n",
       "3                  Tooronga Railway Station (Malvern)           144.09   \n",
       "4                                                none             none   \n",
       "..                                                ...              ...   \n",
       "175  North Melbourne Railway Station (West Melbourne)           347.54   \n",
       "176   Southern Cross Railway Station (Melbourne City)           230.16   \n",
       "177                                              none             none   \n",
       "178           Ascot Vale Railway Station (Ascot Vale)           365.14   \n",
       "179            Newmarket Railway Station (Flemington)           220.67   \n",
       "\n",
       "    nearest_distance  \n",
       "0            1194.72  \n",
       "1               none  \n",
       "2            3607.43  \n",
       "3             1286.4  \n",
       "4               none  \n",
       "..               ...  \n",
       "175          2836.96  \n",
       "176          1665.71  \n",
       "177             none  \n",
       "178          2639.08  \n",
       "179          1691.33  \n",
       "\n",
       "[180 rows x 5 columns]"
      ]
     },
     "execution_count": 65,
     "metadata": {},
     "output_type": "execute_result"
    }
   ],
   "source": [
    "pd.DataFrame(train_station)"
   ]
  },
  {
   "cell_type": "code",
   "execution_count": 66,
   "id": "1ee401ba",
   "metadata": {},
   "outputs": [],
   "source": [
    "# build a dataframe using the dictionary\n",
    "postcode_nearest_train = pd.DataFrame(train_station)"
   ]
  },
  {
   "cell_type": "code",
   "execution_count": 67,
   "id": "841b148f",
   "metadata": {},
   "outputs": [],
   "source": [
    "# save the data\n",
    "postcode_nearest_train.to_csv(\"../data/raw/ors-data/postcode_nearest_train.csv\")"
   ]
  },
  {
   "cell_type": "code",
   "execution_count": null,
   "id": "b2829a9f",
   "metadata": {},
   "outputs": [],
   "source": []
  },
  {
   "cell_type": "code",
   "execution_count": null,
   "id": "f25356c1",
   "metadata": {},
   "outputs": [],
   "source": []
  },
  {
   "cell_type": "code",
   "execution_count": null,
   "id": "518d4fbb",
   "metadata": {},
   "outputs": [],
   "source": []
  },
  {
   "cell_type": "code",
   "execution_count": null,
   "id": "5311d8d6",
   "metadata": {},
   "outputs": [],
   "source": []
  },
  {
   "cell_type": "code",
   "execution_count": null,
   "id": "59d9fb49",
   "metadata": {},
   "outputs": [],
   "source": []
  }
 ],
 "metadata": {
  "kernelspec": {
   "display_name": "Python 3 (ipykernel)",
   "language": "python",
   "name": "python3"
  },
  "language_info": {
   "codemirror_mode": {
    "name": "ipython",
    "version": 3
   },
   "file_extension": ".py",
   "mimetype": "text/x-python",
   "name": "python",
   "nbconvert_exporter": "python",
   "pygments_lexer": "ipython3",
   "version": "3.9.7"
  }
 },
 "nbformat": 4,
 "nbformat_minor": 5
}
