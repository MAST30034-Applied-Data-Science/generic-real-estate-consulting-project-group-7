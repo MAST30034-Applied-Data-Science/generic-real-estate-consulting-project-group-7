{
 "cells": [
  {
   "cell_type": "code",
   "execution_count": 2,
   "id": "7470fe63",
   "metadata": {},
   "outputs": [],
   "source": [
    "import pandas as pd\n",
    "import unicodedata\n",
    "from bs4 import BeautifulSoup\n",
    "import requests\n",
    "from csv import writer\n",
    "import re\n",
    "from selenium import webdriver\n",
    "from bs4 import BeautifulSoup\n",
    "import pandas as pd"
   ]
  },
  {
   "cell_type": "code",
   "execution_count": 3,
   "id": "0e3da87f",
   "metadata": {},
   "outputs": [
    {
     "name": "stderr",
     "output_type": "stream",
     "text": [
      "/var/folders/g8/7k8r16bd1777rydq47tft1240000gn/T/ipykernel_58417/4265619102.py:1: DeprecationWarning: executable_path has been deprecated, please pass in a Service object\n",
      "  driver = webdriver.Chrome(\"../../chromedriver\")\n"
     ]
    }
   ],
   "source": [
    "driver = webdriver.Chrome(\"../../chromedriver\")"
   ]
  },
  {
   "cell_type": "code",
   "execution_count": 10,
   "id": "482f5cda",
   "metadata": {},
   "outputs": [],
   "source": [
    "# some codes are from: \n",
    "# https://medium.com/analytics-vidhya/how-to-scrape-a-table-from-website-using-python-ce90d0cfb607\n",
    "\n",
    "# home url of top scores\n",
    "home_url = 'https://www.australia-shoppings.com/malls-centres/victoria'\n",
    "\n",
    "#create a datafram to store the data\n",
    "#headers = [\"shopping_center\", \"address\"]\n",
    "#shopping_centers = pd.DataFrame(columns = headers)\n",
    "shopping_center = []\n",
    "addresses = []\n",
    "page = requests.get(home_url)\n",
    "soup = BeautifulSoup(page.text, 'lxml')\n",
    "    \n",
    "#for each page find the table\n",
    "table = soup.find('ul',  attrs={'class': 'malls-list'})\n",
    "    \n",
    "# Create a for loop to scrap each row from the table\n",
    "for j in table.find_all('li')[0:]:\n",
    "    name = j.find('h3').text\n",
    "    address = j.find('p').text\n",
    "    length = len(shopping_centers)\n",
    "    shopping_center.append(name)\n",
    "    addresses.append(address)\n",
    "        "
   ]
  },
  {
   "cell_type": "code",
   "execution_count": 11,
   "id": "492ab19e",
   "metadata": {},
   "outputs": [],
   "source": [
    "shopping_centers = pd.DataFrame()\n",
    "  \n",
    "# append columns to an empty DataFrame\n",
    "shopping_centers['Name'] = shopping_center\n",
    "  \n",
    "shopping_centers['Adress'] = addresses\n",
    "\n",
    "  "
   ]
  },
  {
   "cell_type": "code",
   "execution_count": 12,
   "id": "613ee92f",
   "metadata": {},
   "outputs": [
    {
     "data": {
      "text/html": [
       "<div>\n",
       "<style scoped>\n",
       "    .dataframe tbody tr th:only-of-type {\n",
       "        vertical-align: middle;\n",
       "    }\n",
       "\n",
       "    .dataframe tbody tr th {\n",
       "        vertical-align: top;\n",
       "    }\n",
       "\n",
       "    .dataframe thead th {\n",
       "        text-align: right;\n",
       "    }\n",
       "</style>\n",
       "<table border=\"1\" class=\"dataframe\">\n",
       "  <thead>\n",
       "    <tr style=\"text-align: right;\">\n",
       "      <th></th>\n",
       "      <th>Name</th>\n",
       "      <th>Adress</th>\n",
       "    </tr>\n",
       "  </thead>\n",
       "  <tbody>\n",
       "    <tr>\n",
       "      <th>0</th>\n",
       "      <td>206 Bourke Street</td>\n",
       "      <td>Victoria, Melbourne, GPS: -37.812733, 144.9669...</td>\n",
       "    </tr>\n",
       "    <tr>\n",
       "      <th>1</th>\n",
       "      <td>Acland Court Shopping Centre</td>\n",
       "      <td>Victoria, St Kilda, GPS: -37.868967, 144.98061...</td>\n",
       "    </tr>\n",
       "    <tr>\n",
       "      <th>2</th>\n",
       "      <td>Altona Gate Shopping Centre</td>\n",
       "      <td>Victoria, Melbourne, GPS: -37.828989, 144.8462...</td>\n",
       "    </tr>\n",
       "    <tr>\n",
       "      <th>3</th>\n",
       "      <td>Balnarring Village Shopping Centre</td>\n",
       "      <td>Victoria, Balnarring, GPS: -38.373199, 145.125...</td>\n",
       "    </tr>\n",
       "    <tr>\n",
       "      <th>4</th>\n",
       "      <td>Barkly Square</td>\n",
       "      <td>Victoria, Brunswick, GPS: -37.775695, 144.9620...</td>\n",
       "    </tr>\n",
       "    <tr>\n",
       "      <th>...</th>\n",
       "      <td>...</td>\n",
       "      <td>...</td>\n",
       "    </tr>\n",
       "    <tr>\n",
       "      <th>186</th>\n",
       "      <td>Wodonga Plaza</td>\n",
       "      <td>Victoria, Wodonga, GPS: -36.121153, 146.881917...</td>\n",
       "    </tr>\n",
       "    <tr>\n",
       "      <th>187</th>\n",
       "      <td>Woodgrove Shopping Centre</td>\n",
       "      <td>Victoria, Melton, GPS: -37.686167, 144.56127 |...</td>\n",
       "    </tr>\n",
       "    <tr>\n",
       "      <th>188</th>\n",
       "      <td>Woolworths Whitebox Rise Wodonga</td>\n",
       "      <td>Victoria, Wodonga, GPS: -36.139008, 146.892456...</td>\n",
       "    </tr>\n",
       "    <tr>\n",
       "      <th>189</th>\n",
       "      <td>Wyndham Vale Square Shopping Centre</td>\n",
       "      <td>Victoria, Wyndham Vale, GPS: -37.888057, 144.6...</td>\n",
       "    </tr>\n",
       "    <tr>\n",
       "      <th>190</th>\n",
       "      <td>Wyndham Village Shopping Centre</td>\n",
       "      <td>Victoria, Tarneit, GPS: -37.849333, 144.704302...</td>\n",
       "    </tr>\n",
       "  </tbody>\n",
       "</table>\n",
       "<p>191 rows × 2 columns</p>\n",
       "</div>"
      ],
      "text/plain": [
       "                                    Name  \\\n",
       "0                      206 Bourke Street   \n",
       "1           Acland Court Shopping Centre   \n",
       "2            Altona Gate Shopping Centre   \n",
       "3     Balnarring Village Shopping Centre   \n",
       "4                          Barkly Square   \n",
       "..                                   ...   \n",
       "186                        Wodonga Plaza   \n",
       "187            Woodgrove Shopping Centre   \n",
       "188     Woolworths Whitebox Rise Wodonga   \n",
       "189  Wyndham Vale Square Shopping Centre   \n",
       "190      Wyndham Village Shopping Centre   \n",
       "\n",
       "                                                Adress  \n",
       "0    Victoria, Melbourne, GPS: -37.812733, 144.9669...  \n",
       "1    Victoria, St Kilda, GPS: -37.868967, 144.98061...  \n",
       "2    Victoria, Melbourne, GPS: -37.828989, 144.8462...  \n",
       "3    Victoria, Balnarring, GPS: -38.373199, 145.125...  \n",
       "4    Victoria, Brunswick, GPS: -37.775695, 144.9620...  \n",
       "..                                                 ...  \n",
       "186  Victoria, Wodonga, GPS: -36.121153, 146.881917...  \n",
       "187  Victoria, Melton, GPS: -37.686167, 144.56127 |...  \n",
       "188  Victoria, Wodonga, GPS: -36.139008, 146.892456...  \n",
       "189  Victoria, Wyndham Vale, GPS: -37.888057, 144.6...  \n",
       "190  Victoria, Tarneit, GPS: -37.849333, 144.704302...  \n",
       "\n",
       "[191 rows x 2 columns]"
      ]
     },
     "execution_count": 12,
     "metadata": {},
     "output_type": "execute_result"
    }
   ],
   "source": [
    "shopping_centers"
   ]
  },
  {
   "cell_type": "code",
   "execution_count": 13,
   "id": "4930f56c",
   "metadata": {},
   "outputs": [],
   "source": [
    "shopping_centers.to_csv('../data/raw/shopping_centers.csv', index=False)"
   ]
  },
  {
   "cell_type": "code",
   "execution_count": null,
   "id": "e8810f2f",
   "metadata": {},
   "outputs": [],
   "source": []
  }
 ],
 "metadata": {
  "kernelspec": {
   "display_name": "Python 3 (ipykernel)",
   "language": "python",
   "name": "python3"
  },
  "language_info": {
   "codemirror_mode": {
    "name": "ipython",
    "version": 3
   },
   "file_extension": ".py",
   "mimetype": "text/x-python",
   "name": "python",
   "nbconvert_exporter": "python",
   "pygments_lexer": "ipython3",
   "version": "3.9.7"
  }
 },
 "nbformat": 4,
 "nbformat_minor": 5
}
