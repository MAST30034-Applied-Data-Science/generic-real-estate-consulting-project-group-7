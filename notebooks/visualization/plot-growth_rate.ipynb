version https://git-lfs.github.com/spec/v1
oid sha256:b733d58596ecaa847eb9c435035e83074ecdf7bb77dec25101cae091f0bcf61b
size 27318843
