version https://git-lfs.github.com/spec/v1
oid sha256:fe0ec9383ee19a3a358b32d2219a3a4cff1f613c448ffa2fdadf79f494472100
size 18817116
