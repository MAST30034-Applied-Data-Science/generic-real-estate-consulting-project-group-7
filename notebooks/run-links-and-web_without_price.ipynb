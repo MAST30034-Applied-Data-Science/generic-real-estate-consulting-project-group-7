{
 "cells": [
  {
   "cell_type": "code",
   "execution_count": null,
   "metadata": {},
   "outputs": [],
   "source": []
  },
  {
   "cell_type": "code",
   "execution_count": null,
   "metadata": {},
   "outputs": [],
   "source": []
  },
  {
   "cell_type": "code",
   "execution_count": null,
   "metadata": {},
   "outputs": [],
   "source": []
  },
  {
   "cell_type": "code",
   "execution_count": 4,
   "metadata": {},
   "outputs": [],
   "source": [
    "import os\n",
    "os.chdir('../scripts')\n",
    "\n",
    "from scrape_domain import *\n",
    "from constants import *\n",
    "from utils import *"
   ]
  },
  {
   "cell_type": "code",
   "execution_count": 2,
   "metadata": {},
   "outputs": [
    {
     "name": "stderr",
     "output_type": "stream",
     "text": [
      "100%|██████████| 30/30 [00:15<00:00,  1.92it/s]\n",
      "  0%|          | 1/1000 [00:16<4:28:34, 16.13s/it]"
     ]
    },
    {
     "name": "stdout",
     "output_type": "stream",
     "text": [
      "588\n"
     ]
    },
    {
     "name": "stderr",
     "output_type": "stream",
     "text": [
      "0it [00:00, ?it/s]\n",
      "  0%|          | 2/1000 [00:16<1:52:16,  6.75s/it]"
     ]
    },
    {
     "name": "stdout",
     "output_type": "stream",
     "text": [
      "0\n"
     ]
    },
    {
     "name": "stderr",
     "output_type": "stream",
     "text": [
      "100%|██████████| 3/3 [00:01<00:00,  2.06it/s]\n",
      "  0%|          | 3/1000 [00:18<1:14:46,  4.50s/it]"
     ]
    },
    {
     "name": "stdout",
     "output_type": "stream",
     "text": [
      "47\n"
     ]
    },
    {
     "name": "stderr",
     "output_type": "stream",
     "text": [
      "100%|██████████| 4/4 [00:02<00:00,  1.88it/s]\n",
      "  0%|          | 4/1000 [00:20<1:02:34,  3.77s/it]"
     ]
    },
    {
     "name": "stdout",
     "output_type": "stream",
     "text": [
      "78\n"
     ]
    },
    {
     "name": "stderr",
     "output_type": "stream",
     "text": [
      "100%|██████████| 5/5 [00:01<00:00,  2.60it/s]\n",
      "  0%|          | 5/1000 [00:23<55:25,  3.34s/it]  "
     ]
    },
    {
     "name": "stdout",
     "output_type": "stream",
     "text": [
      "88\n"
     ]
    },
    {
     "name": "stderr",
     "output_type": "stream",
     "text": [
      "0it [00:00, ?it/s]\n",
      "  1%|          | 6/1000 [00:23<37:31,  2.27s/it]"
     ]
    },
    {
     "name": "stdout",
     "output_type": "stream",
     "text": [
      "0\n"
     ]
    },
    {
     "name": "stderr",
     "output_type": "stream",
     "text": [
      "100%|██████████| 11/11 [00:05<00:00,  1.98it/s]\n",
      "  1%|          | 7/1000 [00:29<58:58,  3.56s/it]"
     ]
    },
    {
     "name": "stdout",
     "output_type": "stream",
     "text": [
      "218\n"
     ]
    },
    {
     "name": "stderr",
     "output_type": "stream",
     "text": [
      "0it [00:00, ?it/s]\n",
      "  1%|          | 8/1000 [00:30<41:45,  2.53s/it]"
     ]
    },
    {
     "name": "stdout",
     "output_type": "stream",
     "text": [
      "0\n"
     ]
    },
    {
     "name": "stderr",
     "output_type": "stream",
     "text": [
      "100%|██████████| 8/8 [00:04<00:00,  1.95it/s]\n",
      "  1%|          | 9/1000 [00:34<51:41,  3.13s/it]"
     ]
    },
    {
     "name": "stdout",
     "output_type": "stream",
     "text": [
      "141\n"
     ]
    },
    {
     "name": "stderr",
     "output_type": "stream",
     "text": [
      "0it [00:00, ?it/s]\n",
      "  1%|          | 10/1000 [00:34<36:55,  2.24s/it]"
     ]
    },
    {
     "name": "stdout",
     "output_type": "stream",
     "text": [
      "0\n"
     ]
    },
    {
     "name": "stderr",
     "output_type": "stream",
     "text": [
      "0it [00:00, ?it/s]\n",
      "  1%|          | 11/1000 [00:35<27:16,  1.65s/it]"
     ]
    },
    {
     "name": "stdout",
     "output_type": "stream",
     "text": [
      "0\n"
     ]
    },
    {
     "name": "stderr",
     "output_type": "stream",
     "text": [
      "100%|██████████| 10/10 [00:06<00:00,  1.55it/s]\n",
      "  1%|          | 12/1000 [00:42<54:18,  3.30s/it]"
     ]
    },
    {
     "name": "stdout",
     "output_type": "stream",
     "text": [
      "199\n"
     ]
    },
    {
     "name": "stderr",
     "output_type": "stream",
     "text": [
      "100%|██████████| 7/7 [00:03<00:00,  1.91it/s]\n",
      "  1%|▏         | 13/1000 [00:46<58:13,  3.54s/it]"
     ]
    },
    {
     "name": "stdout",
     "output_type": "stream",
     "text": [
      "125\n"
     ]
    },
    {
     "name": "stderr",
     "output_type": "stream",
     "text": [
      "100%|██████████| 5/5 [00:02<00:00,  2.11it/s]\n",
      "  1%|▏         | 14/1000 [00:48<54:08,  3.29s/it]"
     ]
    },
    {
     "name": "stdout",
     "output_type": "stream",
     "text": [
      "81\n"
     ]
    },
    {
     "name": "stderr",
     "output_type": "stream",
     "text": [
      "0it [00:00, ?it/s]\n",
      "  2%|▏         | 15/1000 [00:49<38:41,  2.36s/it]"
     ]
    },
    {
     "name": "stdout",
     "output_type": "stream",
     "text": [
      "0\n"
     ]
    },
    {
     "name": "stderr",
     "output_type": "stream",
     "text": [
      "100%|██████████| 4/4 [00:01<00:00,  2.43it/s]\n",
      "  2%|▏         | 16/1000 [00:51<37:30,  2.29s/it]"
     ]
    },
    {
     "name": "stdout",
     "output_type": "stream",
     "text": [
      "79\n"
     ]
    },
    {
     "name": "stderr",
     "output_type": "stream",
     "text": [
      "100%|██████████| 4/4 [00:01<00:00,  2.23it/s]\n",
      "  2%|▏         | 17/1000 [00:53<37:02,  2.26s/it]"
     ]
    },
    {
     "name": "stdout",
     "output_type": "stream",
     "text": [
      "70\n"
     ]
    },
    {
     "name": "stderr",
     "output_type": "stream",
     "text": [
      "0it [00:00, ?it/s]\n",
      "  2%|▏         | 18/1000 [00:53<27:23,  1.67s/it]"
     ]
    },
    {
     "name": "stdout",
     "output_type": "stream",
     "text": [
      "0\n"
     ]
    },
    {
     "name": "stderr",
     "output_type": "stream",
     "text": [
      "100%|██████████| 3/3 [00:02<00:00,  1.48it/s]\n",
      "  2%|▏         | 19/1000 [00:56<31:18,  1.91s/it]"
     ]
    },
    {
     "name": "stdout",
     "output_type": "stream",
     "text": [
      "56\n"
     ]
    },
    {
     "name": "stderr",
     "output_type": "stream",
     "text": [
      "100%|██████████| 2/2 [00:00<00:00,  2.27it/s]\n",
      "  2%|▏         | 20/1000 [00:57<29:44,  1.82s/it]"
     ]
    },
    {
     "name": "stdout",
     "output_type": "stream",
     "text": [
      "27\n"
     ]
    },
    {
     "name": "stderr",
     "output_type": "stream",
     "text": [
      "100%|██████████| 7/7 [00:03<00:00,  1.75it/s]\n",
      "  2%|▏         | 21/1000 [01:02<43:20,  2.66s/it]"
     ]
    },
    {
     "name": "stdout",
     "output_type": "stream",
     "text": [
      "123\n"
     ]
    },
    {
     "name": "stderr",
     "output_type": "stream",
     "text": [
      "100%|██████████| 7/7 [00:03<00:00,  2.00it/s]\n",
      "  2%|▏         | 22/1000 [01:06<49:12,  3.02s/it]"
     ]
    },
    {
     "name": "stdout",
     "output_type": "stream",
     "text": [
      "133\n"
     ]
    },
    {
     "name": "stderr",
     "output_type": "stream",
     "text": [
      "100%|██████████| 1/1 [00:00<00:00,  1.72it/s]\n",
      "  2%|▏         | 23/1000 [01:07<38:49,  2.38s/it]"
     ]
    },
    {
     "name": "stdout",
     "output_type": "stream",
     "text": [
      "17\n"
     ]
    },
    {
     "name": "stderr",
     "output_type": "stream",
     "text": [
      "100%|██████████| 6/6 [00:02<00:00,  2.09it/s]\n",
      "  2%|▏         | 24/1000 [01:10<42:53,  2.64s/it]"
     ]
    },
    {
     "name": "stdout",
     "output_type": "stream",
     "text": [
      "101\n"
     ]
    },
    {
     "name": "stderr",
     "output_type": "stream",
     "text": [
      "100%|██████████| 7/7 [00:03<00:00,  1.82it/s]\n",
      "  2%|▎         | 25/1000 [01:15<53:36,  3.30s/it]"
     ]
    },
    {
     "name": "stdout",
     "output_type": "stream",
     "text": [
      "121\n"
     ]
    },
    {
     "name": "stderr",
     "output_type": "stream",
     "text": [
      "100%|██████████| 3/3 [00:01<00:00,  2.84it/s]\n",
      "  3%|▎         | 26/1000 [01:16<44:52,  2.76s/it]"
     ]
    },
    {
     "name": "stdout",
     "output_type": "stream",
     "text": [
      "42\n"
     ]
    },
    {
     "name": "stderr",
     "output_type": "stream",
     "text": [
      "100%|██████████| 1/1 [00:00<00:00,  2.70it/s]\n",
      "  3%|▎         | 27/1000 [01:17<34:53,  2.15s/it]"
     ]
    },
    {
     "name": "stdout",
     "output_type": "stream",
     "text": [
      "9\n"
     ]
    },
    {
     "name": "stderr",
     "output_type": "stream",
     "text": [
      "100%|██████████| 2/2 [00:01<00:00,  1.73it/s]\n",
      "  3%|▎         | 28/1000 [01:19<31:40,  1.96s/it]"
     ]
    },
    {
     "name": "stdout",
     "output_type": "stream",
     "text": [
      "21\n"
     ]
    },
    {
     "name": "stderr",
     "output_type": "stream",
     "text": [
      "100%|██████████| 5/5 [00:03<00:00,  1.40it/s]\n",
      "  3%|▎         | 29/1000 [01:23<41:35,  2.57s/it]"
     ]
    },
    {
     "name": "stdout",
     "output_type": "stream",
     "text": [
      "89\n"
     ]
    },
    {
     "name": "stderr",
     "output_type": "stream",
     "text": [
      "100%|██████████| 13/13 [00:06<00:00,  2.01it/s]\n",
      "  3%|▎         | 30/1000 [01:30<1:03:14,  3.91s/it]"
     ]
    },
    {
     "name": "stdout",
     "output_type": "stream",
     "text": [
      "252\n"
     ]
    },
    {
     "name": "stderr",
     "output_type": "stream",
     "text": [
      "100%|██████████| 14/14 [00:07<00:00,  1.89it/s]\n",
      "  3%|▎         | 31/1000 [01:38<1:22:35,  5.11s/it]"
     ]
    },
    {
     "name": "stdout",
     "output_type": "stream",
     "text": [
      "271\n"
     ]
    },
    {
     "name": "stderr",
     "output_type": "stream",
     "text": [
      "100%|██████████| 6/6 [00:02<00:00,  2.34it/s]\n",
      "  3%|▎         | 32/1000 [01:40<1:11:59,  4.46s/it]"
     ]
    },
    {
     "name": "stdout",
     "output_type": "stream",
     "text": [
      "119\n"
     ]
    },
    {
     "name": "stderr",
     "output_type": "stream",
     "text": [
      "100%|██████████| 7/7 [00:03<00:00,  2.14it/s]\n",
      "  3%|▎         | 33/1000 [01:44<1:07:50,  4.21s/it]"
     ]
    },
    {
     "name": "stdout",
     "output_type": "stream",
     "text": [
      "137\n"
     ]
    },
    {
     "name": "stderr",
     "output_type": "stream",
     "text": [
      "100%|██████████| 2/2 [00:01<00:00,  1.99it/s]\n",
      "  3%|▎         | 34/1000 [01:46<54:29,  3.38s/it]  "
     ]
    },
    {
     "name": "stdout",
     "output_type": "stream",
     "text": [
      "24\n"
     ]
    },
    {
     "name": "stderr",
     "output_type": "stream",
     "text": [
      "100%|██████████| 2/2 [00:00<00:00,  3.09it/s]\n",
      "  4%|▎         | 35/1000 [01:47<43:41,  2.72s/it]"
     ]
    },
    {
     "name": "stdout",
     "output_type": "stream",
     "text": [
      "28\n"
     ]
    },
    {
     "name": "stderr",
     "output_type": "stream",
     "text": [
      "0it [00:00, ?it/s]\n",
      "  4%|▎         | 36/1000 [01:47<31:28,  1.96s/it]"
     ]
    },
    {
     "name": "stdout",
     "output_type": "stream",
     "text": [
      "0\n"
     ]
    },
    {
     "name": "stderr",
     "output_type": "stream",
     "text": [
      "100%|██████████| 1/1 [00:00<00:00,  2.95it/s]\n",
      "  4%|▎         | 37/1000 [01:48<26:42,  1.66s/it]"
     ]
    },
    {
     "name": "stdout",
     "output_type": "stream",
     "text": [
      "4\n"
     ]
    },
    {
     "name": "stderr",
     "output_type": "stream",
     "text": [
      "100%|██████████| 3/3 [00:01<00:00,  2.14it/s]\n",
      "  4%|▍         | 38/1000 [01:50<27:38,  1.72s/it]"
     ]
    },
    {
     "name": "stdout",
     "output_type": "stream",
     "text": [
      "44\n"
     ]
    },
    {
     "name": "stderr",
     "output_type": "stream",
     "text": [
      "100%|██████████| 1/1 [00:00<00:00,  3.23it/s]\n",
      "  4%|▍         | 39/1000 [01:50<22:53,  1.43s/it]"
     ]
    },
    {
     "name": "stdout",
     "output_type": "stream",
     "text": [
      "15\n"
     ]
    },
    {
     "name": "stderr",
     "output_type": "stream",
     "text": [
      "100%|██████████| 5/5 [00:02<00:00,  1.75it/s]\n",
      "  4%|▍         | 40/1000 [01:54<31:32,  1.97s/it]"
     ]
    },
    {
     "name": "stdout",
     "output_type": "stream",
     "text": [
      "81\n"
     ]
    },
    {
     "name": "stderr",
     "output_type": "stream",
     "text": [
      "100%|██████████| 6/6 [00:03<00:00,  1.82it/s]\n",
      "  4%|▍         | 41/1000 [01:58<40:32,  2.54s/it]"
     ]
    },
    {
     "name": "stdout",
     "output_type": "stream",
     "text": [
      "111\n"
     ]
    },
    {
     "name": "stderr",
     "output_type": "stream",
     "text": [
      "100%|██████████| 2/2 [00:01<00:00,  1.88it/s]\n",
      "  4%|▍         | 42/1000 [01:59<36:15,  2.27s/it]"
     ]
    },
    {
     "name": "stdout",
     "output_type": "stream",
     "text": [
      "34\n"
     ]
    },
    {
     "name": "stderr",
     "output_type": "stream",
     "text": [
      "100%|██████████| 3/3 [00:01<00:00,  1.75it/s]\n",
      "  4%|▍         | 43/1000 [02:01<35:50,  2.25s/it]"
     ]
    },
    {
     "name": "stdout",
     "output_type": "stream",
     "text": [
      "44\n"
     ]
    },
    {
     "name": "stderr",
     "output_type": "stream",
     "text": [
      "100%|██████████| 3/3 [00:01<00:00,  2.13it/s]\n",
      "  4%|▍         | 44/1000 [02:03<34:35,  2.17s/it]"
     ]
    },
    {
     "name": "stdout",
     "output_type": "stream",
     "text": [
      "43\n"
     ]
    },
    {
     "name": "stderr",
     "output_type": "stream",
     "text": [
      "100%|██████████| 5/5 [00:02<00:00,  1.73it/s]\n",
      "  4%|▍         | 45/1000 [02:07<40:19,  2.53s/it]"
     ]
    },
    {
     "name": "stdout",
     "output_type": "stream",
     "text": [
      "92\n"
     ]
    },
    {
     "name": "stderr",
     "output_type": "stream",
     "text": [
      "0it [00:00, ?it/s]\n",
      "  5%|▍         | 46/1000 [02:07<29:26,  1.85s/it]"
     ]
    },
    {
     "name": "stdout",
     "output_type": "stream",
     "text": [
      "0\n"
     ]
    },
    {
     "name": "stderr",
     "output_type": "stream",
     "text": [
      "100%|██████████| 8/8 [00:03<00:00,  2.35it/s]\n",
      "  5%|▍         | 47/1000 [02:12<43:13,  2.72s/it]"
     ]
    },
    {
     "name": "stdout",
     "output_type": "stream",
     "text": [
      "142\n"
     ]
    },
    {
     "name": "stderr",
     "output_type": "stream",
     "text": [
      "100%|██████████| 3/3 [00:01<00:00,  2.45it/s]\n",
      "  5%|▍         | 48/1000 [02:13<37:52,  2.39s/it]"
     ]
    },
    {
     "name": "stdout",
     "output_type": "stream",
     "text": [
      "56\n"
     ]
    },
    {
     "name": "stderr",
     "output_type": "stream",
     "text": [
      "100%|██████████| 2/2 [00:01<00:00,  1.88it/s]\n",
      "  5%|▍         | 49/1000 [02:15<34:59,  2.21s/it]"
     ]
    },
    {
     "name": "stdout",
     "output_type": "stream",
     "text": [
      "21\n"
     ]
    },
    {
     "name": "stderr",
     "output_type": "stream",
     "text": [
      "100%|██████████| 1/1 [00:00<00:00,  2.32it/s]\n",
      "  5%|▌         | 50/1000 [02:16<28:40,  1.81s/it]"
     ]
    },
    {
     "name": "stdout",
     "output_type": "stream",
     "text": [
      "13\n"
     ]
    },
    {
     "name": "stderr",
     "output_type": "stream",
     "text": [
      "0it [00:00, ?it/s]\n",
      "  5%|▌         | 51/1000 [02:16<20:55,  1.32s/it]"
     ]
    },
    {
     "name": "stdout",
     "output_type": "stream",
     "text": [
      "0\n"
     ]
    },
    {
     "name": "stderr",
     "output_type": "stream",
     "text": [
      "100%|██████████| 6/6 [00:02<00:00,  2.19it/s]\n",
      "  5%|▌         | 52/1000 [02:19<29:39,  1.88s/it]"
     ]
    },
    {
     "name": "stdout",
     "output_type": "stream",
     "text": [
      "115\n"
     ]
    },
    {
     "name": "stderr",
     "output_type": "stream",
     "text": [
      "100%|██████████| 3/3 [00:01<00:00,  2.42it/s]\n",
      "  5%|▌         | 53/1000 [02:21<29:14,  1.85s/it]"
     ]
    },
    {
     "name": "stdout",
     "output_type": "stream",
     "text": [
      "43\n"
     ]
    },
    {
     "name": "stderr",
     "output_type": "stream",
     "text": [
      "100%|██████████| 9/9 [00:04<00:00,  1.98it/s]\n",
      "  5%|▌         | 54/1000 [02:26<44:21,  2.81s/it]"
     ]
    },
    {
     "name": "stdout",
     "output_type": "stream",
     "text": [
      "161\n"
     ]
    },
    {
     "name": "stderr",
     "output_type": "stream",
     "text": [
      "100%|██████████| 3/3 [00:01<00:00,  1.91it/s]\n",
      "  6%|▌         | 55/1000 [02:28<40:39,  2.58s/it]"
     ]
    },
    {
     "name": "stdout",
     "output_type": "stream",
     "text": [
      "53\n"
     ]
    },
    {
     "name": "stderr",
     "output_type": "stream",
     "text": [
      "100%|██████████| 5/5 [00:02<00:00,  2.31it/s]\n",
      "  6%|▌         | 56/1000 [02:31<40:23,  2.57s/it]"
     ]
    },
    {
     "name": "stdout",
     "output_type": "stream",
     "text": [
      "92\n"
     ]
    },
    {
     "name": "stderr",
     "output_type": "stream",
     "text": [
      "100%|██████████| 8/8 [00:03<00:00,  2.33it/s]\n",
      "  6%|▌         | 57/1000 [02:35<46:33,  2.96s/it]"
     ]
    },
    {
     "name": "stdout",
     "output_type": "stream",
     "text": [
      "144\n"
     ]
    },
    {
     "name": "stderr",
     "output_type": "stream",
     "text": [
      "100%|██████████| 5/5 [00:02<00:00,  2.00it/s]\n",
      "  6%|▌         | 58/1000 [02:38<46:47,  2.98s/it]"
     ]
    },
    {
     "name": "stdout",
     "output_type": "stream",
     "text": [
      "87\n"
     ]
    },
    {
     "name": "stderr",
     "output_type": "stream",
     "text": [
      "100%|██████████| 6/6 [00:02<00:00,  2.38it/s]\n",
      "  6%|▌         | 59/1000 [02:41<46:51,  2.99s/it]"
     ]
    },
    {
     "name": "stdout",
     "output_type": "stream",
     "text": [
      "116\n"
     ]
    },
    {
     "name": "stderr",
     "output_type": "stream",
     "text": [
      "100%|██████████| 1/1 [00:00<00:00,  2.85it/s]\n",
      "  6%|▌         | 60/1000 [02:42<36:35,  2.34s/it]"
     ]
    },
    {
     "name": "stdout",
     "output_type": "stream",
     "text": [
      "17\n"
     ]
    },
    {
     "name": "stderr",
     "output_type": "stream",
     "text": [
      "100%|██████████| 2/2 [00:01<00:00,  1.50it/s]\n",
      "  6%|▌         | 61/1000 [02:43<33:42,  2.15s/it]"
     ]
    },
    {
     "name": "stdout",
     "output_type": "stream",
     "text": [
      "35\n"
     ]
    },
    {
     "name": "stderr",
     "output_type": "stream",
     "text": [
      "100%|██████████| 1/1 [00:00<00:00,  1.51it/s]\n",
      "  6%|▌         | 62/1000 [02:44<28:01,  1.79s/it]"
     ]
    },
    {
     "name": "stdout",
     "output_type": "stream",
     "text": [
      "6\n"
     ]
    },
    {
     "name": "stderr",
     "output_type": "stream",
     "text": [
      "0it [00:00, ?it/s]\n",
      "  6%|▋         | 63/1000 [02:44<20:39,  1.32s/it]"
     ]
    },
    {
     "name": "stdout",
     "output_type": "stream",
     "text": [
      "0\n"
     ]
    },
    {
     "name": "stderr",
     "output_type": "stream",
     "text": [
      "100%|██████████| 1/1 [00:00<00:00,  2.33it/s]\n",
      "  6%|▋         | 64/1000 [02:45<17:26,  1.12s/it]"
     ]
    },
    {
     "name": "stdout",
     "output_type": "stream",
     "text": [
      "1\n"
     ]
    },
    {
     "name": "stderr",
     "output_type": "stream",
     "text": [
      "100%|██████████| 10/10 [00:06<00:00,  1.49it/s]\n",
      "  6%|▋         | 65/1000 [02:52<45:46,  2.94s/it]"
     ]
    },
    {
     "name": "stdout",
     "output_type": "stream",
     "text": [
      "190\n"
     ]
    },
    {
     "name": "stderr",
     "output_type": "stream",
     "text": [
      "100%|██████████| 3/3 [00:01<00:00,  1.91it/s]\n",
      "  7%|▋         | 66/1000 [02:54<41:25,  2.66s/it]"
     ]
    },
    {
     "name": "stdout",
     "output_type": "stream",
     "text": [
      "60\n"
     ]
    },
    {
     "name": "stderr",
     "output_type": "stream",
     "text": [
      "100%|██████████| 3/3 [00:01<00:00,  2.97it/s]\n",
      "  7%|▋         | 67/1000 [02:56<35:19,  2.27s/it]"
     ]
    },
    {
     "name": "stdout",
     "output_type": "stream",
     "text": [
      "51\n"
     ]
    },
    {
     "name": "stderr",
     "output_type": "stream",
     "text": [
      "100%|██████████| 3/3 [00:01<00:00,  1.73it/s]\n",
      "  7%|▋         | 68/1000 [02:58<34:56,  2.25s/it]"
     ]
    },
    {
     "name": "stdout",
     "output_type": "stream",
     "text": [
      "50\n"
     ]
    },
    {
     "name": "stderr",
     "output_type": "stream",
     "text": [
      "100%|██████████| 5/5 [00:02<00:00,  2.26it/s]\n",
      "  7%|▋         | 69/1000 [03:01<37:00,  2.39s/it]"
     ]
    },
    {
     "name": "stdout",
     "output_type": "stream",
     "text": [
      "86\n"
     ]
    },
    {
     "name": "stderr",
     "output_type": "stream",
     "text": [
      "0it [00:00, ?it/s]\n",
      "  7%|▋         | 70/1000 [03:01<26:51,  1.73s/it]"
     ]
    },
    {
     "name": "stdout",
     "output_type": "stream",
     "text": [
      "0\n"
     ]
    },
    {
     "name": "stderr",
     "output_type": "stream",
     "text": [
      "100%|██████████| 6/6 [00:03<00:00,  1.95it/s]\n",
      "  7%|▋         | 71/1000 [03:04<34:48,  2.25s/it]"
     ]
    },
    {
     "name": "stdout",
     "output_type": "stream",
     "text": [
      "107\n"
     ]
    },
    {
     "name": "stderr",
     "output_type": "stream",
     "text": [
      "100%|██████████| 4/4 [00:01<00:00,  2.51it/s]\n",
      "  7%|▋         | 72/1000 [03:07<39:12,  2.53s/it]"
     ]
    },
    {
     "name": "stdout",
     "output_type": "stream",
     "text": [
      "65\n"
     ]
    },
    {
     "name": "stderr",
     "output_type": "stream",
     "text": [
      "100%|██████████| 7/7 [00:02<00:00,  2.37it/s]\n",
      "  7%|▋         | 73/1000 [03:11<43:42,  2.83s/it]"
     ]
    },
    {
     "name": "stdout",
     "output_type": "stream",
     "text": [
      "133\n"
     ]
    },
    {
     "name": "stderr",
     "output_type": "stream",
     "text": [
      "100%|██████████| 9/9 [00:05<00:00,  1.74it/s]\n",
      "  7%|▋         | 74/1000 [03:17<57:52,  3.75s/it]"
     ]
    },
    {
     "name": "stdout",
     "output_type": "stream",
     "text": [
      "177\n"
     ]
    },
    {
     "name": "stderr",
     "output_type": "stream",
     "text": [
      "100%|██████████| 3/3 [00:01<00:00,  2.54it/s]\n",
      "  8%|▊         | 75/1000 [03:18<47:55,  3.11s/it]"
     ]
    },
    {
     "name": "stdout",
     "output_type": "stream",
     "text": [
      "53\n"
     ]
    },
    {
     "name": "stderr",
     "output_type": "stream",
     "text": [
      "100%|██████████| 2/2 [00:01<00:00,  1.92it/s]\n",
      "  8%|▊         | 76/1000 [03:20<40:36,  2.64s/it]"
     ]
    },
    {
     "name": "stdout",
     "output_type": "stream",
     "text": [
      "34\n"
     ]
    },
    {
     "name": "stderr",
     "output_type": "stream",
     "text": [
      "100%|██████████| 3/3 [00:01<00:00,  2.94it/s]\n",
      "  8%|▊         | 77/1000 [03:21<34:56,  2.27s/it]"
     ]
    },
    {
     "name": "stdout",
     "output_type": "stream",
     "text": [
      "52\n"
     ]
    },
    {
     "name": "stderr",
     "output_type": "stream",
     "text": [
      "0it [00:00, ?it/s]\n",
      "  8%|▊         | 78/1000 [03:22<25:19,  1.65s/it]"
     ]
    },
    {
     "name": "stdout",
     "output_type": "stream",
     "text": [
      "0\n"
     ]
    },
    {
     "name": "stderr",
     "output_type": "stream",
     "text": [
      "100%|██████████| 3/3 [00:01<00:00,  2.59it/s]\n",
      "  8%|▊         | 79/1000 [03:23<25:02,  1.63s/it]"
     ]
    },
    {
     "name": "stdout",
     "output_type": "stream",
     "text": [
      "58\n"
     ]
    },
    {
     "name": "stderr",
     "output_type": "stream",
     "text": [
      "100%|██████████| 3/3 [00:01<00:00,  2.12it/s]\n",
      "  8%|▊         | 80/1000 [03:25<26:19,  1.72s/it]"
     ]
    },
    {
     "name": "stdout",
     "output_type": "stream",
     "text": [
      "57\n"
     ]
    },
    {
     "name": "stderr",
     "output_type": "stream",
     "text": [
      "0it [00:00, ?it/s]\n",
      "  8%|▊         | 81/1000 [03:26<20:27,  1.34s/it]"
     ]
    },
    {
     "name": "stdout",
     "output_type": "stream",
     "text": [
      "0\n"
     ]
    },
    {
     "name": "stderr",
     "output_type": "stream",
     "text": [
      "100%|██████████| 3/3 [00:01<00:00,  1.77it/s]\n",
      "  8%|▊         | 82/1000 [03:28<23:38,  1.54s/it]"
     ]
    },
    {
     "name": "stdout",
     "output_type": "stream",
     "text": [
      "50\n"
     ]
    },
    {
     "name": "stderr",
     "output_type": "stream",
     "text": [
      "100%|██████████| 2/2 [00:00<00:00,  2.39it/s]\n",
      "  8%|▊         | 83/1000 [03:29<22:53,  1.50s/it]"
     ]
    },
    {
     "name": "stdout",
     "output_type": "stream",
     "text": [
      "33\n"
     ]
    },
    {
     "name": "stderr",
     "output_type": "stream",
     "text": [
      "100%|██████████| 6/6 [00:02<00:00,  2.02it/s]\n",
      "  8%|▊         | 84/1000 [03:32<31:19,  2.05s/it]"
     ]
    },
    {
     "name": "stdout",
     "output_type": "stream",
     "text": [
      "115\n"
     ]
    },
    {
     "name": "stderr",
     "output_type": "stream",
     "text": [
      "100%|██████████| 4/4 [00:03<00:00,  1.22it/s]\n",
      "  8%|▊         | 85/1000 [03:36<38:36,  2.53s/it]"
     ]
    },
    {
     "name": "stdout",
     "output_type": "stream",
     "text": [
      "65\n"
     ]
    },
    {
     "name": "stderr",
     "output_type": "stream",
     "text": [
      "100%|██████████| 3/3 [00:02<00:00,  1.33it/s]\n",
      "  9%|▊         | 86/1000 [03:39<39:27,  2.59s/it]"
     ]
    },
    {
     "name": "stdout",
     "output_type": "stream",
     "text": [
      "50\n"
     ]
    },
    {
     "name": "stderr",
     "output_type": "stream",
     "text": [
      "0it [00:00, ?it/s]\n",
      "  9%|▊         | 87/1000 [03:39<30:01,  1.97s/it]"
     ]
    },
    {
     "name": "stdout",
     "output_type": "stream",
     "text": [
      "0\n"
     ]
    },
    {
     "name": "stderr",
     "output_type": "stream",
     "text": [
      "100%|██████████| 1/1 [00:00<00:00,  1.59it/s]\n",
      "  9%|▉         | 88/1000 [03:40<25:33,  1.68s/it]"
     ]
    },
    {
     "name": "stdout",
     "output_type": "stream",
     "text": [
      "17\n"
     ]
    },
    {
     "name": "stderr",
     "output_type": "stream",
     "text": [
      "100%|██████████| 2/2 [00:01<00:00,  1.32it/s]\n",
      "  9%|▉         | 89/1000 [03:42<27:08,  1.79s/it]"
     ]
    },
    {
     "name": "stdout",
     "output_type": "stream",
     "text": [
      "34\n"
     ]
    },
    {
     "name": "stderr",
     "output_type": "stream",
     "text": [
      "100%|██████████| 1/1 [00:00<00:00,  2.29it/s]\n",
      "  9%|▉         | 90/1000 [03:43<22:21,  1.47s/it]"
     ]
    },
    {
     "name": "stdout",
     "output_type": "stream",
     "text": [
      "9\n"
     ]
    },
    {
     "name": "stderr",
     "output_type": "stream",
     "text": [
      "100%|██████████| 1/1 [00:00<00:00,  1.63it/s]\n",
      "  9%|▉         | 91/1000 [03:44<19:39,  1.30s/it]"
     ]
    },
    {
     "name": "stdout",
     "output_type": "stream",
     "text": [
      "1\n"
     ]
    },
    {
     "name": "stderr",
     "output_type": "stream",
     "text": [
      "0it [00:00, ?it/s]\n",
      "  9%|▉         | 92/1000 [03:44<15:27,  1.02s/it]"
     ]
    },
    {
     "name": "stdout",
     "output_type": "stream",
     "text": [
      "0\n"
     ]
    },
    {
     "name": "stderr",
     "output_type": "stream",
     "text": [
      "0it [00:00, ?it/s]\n",
      "  9%|▉         | 93/1000 [03:45<12:07,  1.25it/s]"
     ]
    },
    {
     "name": "stdout",
     "output_type": "stream",
     "text": [
      "0\n"
     ]
    },
    {
     "name": "stderr",
     "output_type": "stream",
     "text": [
      "100%|██████████| 1/1 [00:00<00:00,  2.07it/s]\n",
      "  9%|▉         | 94/1000 [03:45<11:52,  1.27it/s]"
     ]
    },
    {
     "name": "stdout",
     "output_type": "stream",
     "text": [
      "5\n"
     ]
    },
    {
     "name": "stderr",
     "output_type": "stream",
     "text": [
      "100%|██████████| 1/1 [00:00<00:00,  4.38it/s]\n",
      " 10%|▉         | 95/1000 [03:46<11:30,  1.31it/s]"
     ]
    },
    {
     "name": "stdout",
     "output_type": "stream",
     "text": [
      "7\n"
     ]
    },
    {
     "name": "stderr",
     "output_type": "stream",
     "text": [
      "100%|██████████| 1/1 [00:00<00:00,  3.65it/s]\n",
      " 10%|▉         | 96/1000 [03:47<11:20,  1.33it/s]"
     ]
    },
    {
     "name": "stdout",
     "output_type": "stream",
     "text": [
      "14\n"
     ]
    },
    {
     "name": "stderr",
     "output_type": "stream",
     "text": [
      "0it [00:00, ?it/s]\n",
      " 10%|▉         | 97/1000 [03:47<09:35,  1.57it/s]"
     ]
    },
    {
     "name": "stdout",
     "output_type": "stream",
     "text": [
      "0\n"
     ]
    },
    {
     "name": "stderr",
     "output_type": "stream",
     "text": [
      "0it [00:00, ?it/s]\n",
      " 10%|▉         | 98/1000 [03:47<08:08,  1.85it/s]"
     ]
    },
    {
     "name": "stdout",
     "output_type": "stream",
     "text": [
      "0\n"
     ]
    },
    {
     "name": "stderr",
     "output_type": "stream",
     "text": [
      "0it [00:00, ?it/s]\n",
      " 10%|▉         | 99/1000 [03:48<06:44,  2.23it/s]"
     ]
    },
    {
     "name": "stdout",
     "output_type": "stream",
     "text": [
      "0\n"
     ]
    },
    {
     "name": "stderr",
     "output_type": "stream",
     "text": [
      "100%|██████████| 1/1 [00:00<00:00,  4.10it/s]\n",
      " 10%|█         | 100/1000 [03:48<06:58,  2.15it/s]"
     ]
    },
    {
     "name": "stdout",
     "output_type": "stream",
     "text": [
      "3\n"
     ]
    },
    {
     "name": "stderr",
     "output_type": "stream",
     "text": [
      "0it [00:00, ?it/s]\n",
      " 10%|█         | 101/1000 [03:48<06:00,  2.49it/s]"
     ]
    },
    {
     "name": "stdout",
     "output_type": "stream",
     "text": [
      "0\n"
     ]
    },
    {
     "name": "stderr",
     "output_type": "stream",
     "text": [
      "100%|██████████| 5/5 [00:03<00:00,  1.62it/s]\n",
      " 10%|█         | 102/1000 [03:52<19:53,  1.33s/it]"
     ]
    },
    {
     "name": "stdout",
     "output_type": "stream",
     "text": [
      "97\n"
     ]
    },
    {
     "name": "stderr",
     "output_type": "stream",
     "text": [
      "100%|██████████| 1/1 [00:00<00:00,  2.22it/s]\n",
      " 10%|█         | 103/1000 [03:53<18:29,  1.24s/it]"
     ]
    },
    {
     "name": "stdout",
     "output_type": "stream",
     "text": [
      "18\n"
     ]
    },
    {
     "name": "stderr",
     "output_type": "stream",
     "text": [
      "100%|██████████| 3/3 [00:01<00:00,  2.31it/s]\n",
      " 10%|█         | 104/1000 [03:55<20:15,  1.36s/it]"
     ]
    },
    {
     "name": "stdout",
     "output_type": "stream",
     "text": [
      "42\n"
     ]
    },
    {
     "name": "stderr",
     "output_type": "stream",
     "text": [
      "100%|██████████| 3/3 [00:01<00:00,  1.75it/s]\n",
      " 10%|█         | 105/1000 [03:57<24:15,  1.63s/it]"
     ]
    },
    {
     "name": "stdout",
     "output_type": "stream",
     "text": [
      "43\n"
     ]
    },
    {
     "name": "stderr",
     "output_type": "stream",
     "text": [
      "100%|██████████| 2/2 [00:00<00:00,  2.65it/s]\n",
      " 11%|█         | 106/1000 [03:58<22:05,  1.48s/it]"
     ]
    },
    {
     "name": "stdout",
     "output_type": "stream",
     "text": [
      "25\n"
     ]
    },
    {
     "name": "stderr",
     "output_type": "stream",
     "text": [
      "100%|██████████| 2/2 [00:01<00:00,  1.34it/s]\n",
      " 11%|█         | 107/1000 [04:00<23:34,  1.58s/it]"
     ]
    },
    {
     "name": "stdout",
     "output_type": "stream",
     "text": [
      "23\n"
     ]
    },
    {
     "name": "stderr",
     "output_type": "stream",
     "text": [
      "100%|██████████| 1/1 [00:01<00:00,  1.46s/it]\n",
      " 11%|█         | 108/1000 [04:02<24:24,  1.64s/it]"
     ]
    },
    {
     "name": "stdout",
     "output_type": "stream",
     "text": [
      "16\n"
     ]
    },
    {
     "name": "stderr",
     "output_type": "stream",
     "text": [
      "100%|██████████| 4/4 [00:02<00:00,  1.95it/s]\n",
      " 11%|█         | 109/1000 [04:04<28:04,  1.89s/it]"
     ]
    },
    {
     "name": "stdout",
     "output_type": "stream",
     "text": [
      "78\n"
     ]
    },
    {
     "name": "stderr",
     "output_type": "stream",
     "text": [
      "100%|██████████| 3/3 [00:01<00:00,  1.66it/s]\n",
      " 11%|█         | 110/1000 [04:07<30:29,  2.06s/it]"
     ]
    },
    {
     "name": "stdout",
     "output_type": "stream",
     "text": [
      "51\n"
     ]
    },
    {
     "name": "stderr",
     "output_type": "stream",
     "text": [
      "0it [00:00, ?it/s]\n",
      " 11%|█         | 111/1000 [04:07<22:16,  1.50s/it]"
     ]
    },
    {
     "name": "stdout",
     "output_type": "stream",
     "text": [
      "0\n"
     ]
    },
    {
     "name": "stderr",
     "output_type": "stream",
     "text": [
      "100%|██████████| 1/1 [00:00<00:00,  2.00it/s]\n",
      " 11%|█         | 112/1000 [04:08<19:05,  1.29s/it]"
     ]
    },
    {
     "name": "stdout",
     "output_type": "stream",
     "text": [
      "17\n"
     ]
    },
    {
     "name": "stderr",
     "output_type": "stream",
     "text": [
      "0it [00:00, ?it/s]\n",
      " 11%|█▏        | 113/1000 [04:08<15:41,  1.06s/it]"
     ]
    },
    {
     "name": "stdout",
     "output_type": "stream",
     "text": [
      "0\n"
     ]
    },
    {
     "name": "stderr",
     "output_type": "stream",
     "text": [
      "100%|██████████| 1/1 [00:00<00:00,  3.35it/s]\n",
      " 11%|█▏        | 114/1000 [04:09<16:03,  1.09s/it]"
     ]
    },
    {
     "name": "stdout",
     "output_type": "stream",
     "text": [
      "5\n"
     ]
    },
    {
     "name": "stderr",
     "output_type": "stream",
     "text": [
      "100%|██████████| 1/1 [00:00<00:00,  2.39it/s]\n",
      " 12%|█▏        | 115/1000 [04:11<19:23,  1.31s/it]"
     ]
    },
    {
     "name": "stdout",
     "output_type": "stream",
     "text": [
      "1\n"
     ]
    },
    {
     "name": "stderr",
     "output_type": "stream",
     "text": [
      "100%|██████████| 1/1 [00:00<00:00,  3.66it/s]\n",
      " 12%|█▏        | 116/1000 [04:12<17:14,  1.17s/it]"
     ]
    },
    {
     "name": "stdout",
     "output_type": "stream",
     "text": [
      "1\n"
     ]
    },
    {
     "name": "stderr",
     "output_type": "stream",
     "text": [
      "100%|██████████| 1/1 [00:00<00:00,  2.34it/s]\n",
      " 12%|█▏        | 117/1000 [04:13<16:08,  1.10s/it]"
     ]
    },
    {
     "name": "stdout",
     "output_type": "stream",
     "text": [
      "12\n"
     ]
    },
    {
     "name": "stderr",
     "output_type": "stream",
     "text": [
      "0it [00:00, ?it/s]\n",
      " 12%|█▏        | 118/1000 [04:13<12:03,  1.22it/s]"
     ]
    },
    {
     "name": "stdout",
     "output_type": "stream",
     "text": [
      "0\n"
     ]
    },
    {
     "name": "stderr",
     "output_type": "stream",
     "text": [
      "0it [00:00, ?it/s]\n",
      " 12%|█▏        | 119/1000 [04:13<09:26,  1.56it/s]"
     ]
    },
    {
     "name": "stdout",
     "output_type": "stream",
     "text": [
      "0\n"
     ]
    },
    {
     "name": "stderr",
     "output_type": "stream",
     "text": [
      "0it [00:00, ?it/s]\n",
      " 12%|█▏        | 120/1000 [04:13<07:49,  1.87it/s]"
     ]
    },
    {
     "name": "stdout",
     "output_type": "stream",
     "text": [
      "0\n"
     ]
    },
    {
     "name": "stderr",
     "output_type": "stream",
     "text": [
      "0it [00:00, ?it/s]\n",
      " 12%|█▏        | 121/1000 [04:14<06:39,  2.20it/s]"
     ]
    },
    {
     "name": "stdout",
     "output_type": "stream",
     "text": [
      "0\n"
     ]
    },
    {
     "name": "stderr",
     "output_type": "stream",
     "text": [
      "100%|██████████| 11/11 [00:05<00:00,  1.98it/s]\n",
      " 12%|█▏        | 122/1000 [04:20<30:54,  2.11s/it]"
     ]
    },
    {
     "name": "stdout",
     "output_type": "stream",
     "text": [
      "218\n"
     ]
    },
    {
     "name": "stderr",
     "output_type": "stream",
     "text": [
      "100%|██████████| 8/8 [00:03<00:00,  2.42it/s]\n",
      " 12%|█▏        | 123/1000 [04:24<38:37,  2.64s/it]"
     ]
    },
    {
     "name": "stdout",
     "output_type": "stream",
     "text": [
      "158\n"
     ]
    },
    {
     "name": "stderr",
     "output_type": "stream",
     "text": [
      "100%|██████████| 6/6 [00:02<00:00,  2.05it/s]\n",
      " 12%|█▏        | 124/1000 [04:27<41:57,  2.87s/it]"
     ]
    },
    {
     "name": "stdout",
     "output_type": "stream",
     "text": [
      "111\n"
     ]
    },
    {
     "name": "stderr",
     "output_type": "stream",
     "text": [
      "100%|██████████| 5/5 [00:03<00:00,  1.45it/s]\n",
      " 12%|█▎        | 125/1000 [04:31<46:38,  3.20s/it]"
     ]
    },
    {
     "name": "stdout",
     "output_type": "stream",
     "text": [
      "84\n"
     ]
    },
    {
     "name": "stderr",
     "output_type": "stream",
     "text": [
      "100%|██████████| 5/5 [00:02<00:00,  1.75it/s]\n",
      " 13%|█▎        | 126/1000 [04:34<47:50,  3.28s/it]"
     ]
    },
    {
     "name": "stdout",
     "output_type": "stream",
     "text": [
      "81\n"
     ]
    },
    {
     "name": "stderr",
     "output_type": "stream",
     "text": [
      "100%|██████████| 2/2 [00:01<00:00,  1.89it/s]\n",
      " 13%|█▎        | 127/1000 [04:36<40:52,  2.81s/it]"
     ]
    },
    {
     "name": "stdout",
     "output_type": "stream",
     "text": [
      "24\n"
     ]
    },
    {
     "name": "stderr",
     "output_type": "stream",
     "text": [
      "100%|██████████| 4/4 [00:02<00:00,  1.81it/s]\n",
      " 13%|█▎        | 128/1000 [04:39<41:47,  2.88s/it]"
     ]
    },
    {
     "name": "stdout",
     "output_type": "stream",
     "text": [
      "61\n"
     ]
    },
    {
     "name": "stderr",
     "output_type": "stream",
     "text": [
      "100%|██████████| 7/7 [00:03<00:00,  2.18it/s]\n",
      " 13%|█▎        | 129/1000 [04:43<45:34,  3.14s/it]"
     ]
    },
    {
     "name": "stdout",
     "output_type": "stream",
     "text": [
      "126\n"
     ]
    },
    {
     "name": "stderr",
     "output_type": "stream",
     "text": [
      "100%|██████████| 3/3 [00:01<00:00,  2.43it/s]\n",
      " 13%|█▎        | 130/1000 [04:45<39:03,  2.69s/it]"
     ]
    },
    {
     "name": "stdout",
     "output_type": "stream",
     "text": [
      "42\n"
     ]
    },
    {
     "name": "stderr",
     "output_type": "stream",
     "text": [
      "100%|██████████| 4/4 [00:01<00:00,  2.39it/s]\n",
      " 13%|█▎        | 131/1000 [04:47<36:15,  2.50s/it]"
     ]
    },
    {
     "name": "stdout",
     "output_type": "stream",
     "text": [
      "61\n"
     ]
    },
    {
     "name": "stderr",
     "output_type": "stream",
     "text": [
      "100%|██████████| 3/3 [00:01<00:00,  2.67it/s]\n",
      " 13%|█▎        | 132/1000 [04:49<36:07,  2.50s/it]"
     ]
    },
    {
     "name": "stdout",
     "output_type": "stream",
     "text": [
      "49\n"
     ]
    },
    {
     "name": "stderr",
     "output_type": "stream",
     "text": [
      "100%|██████████| 2/2 [00:01<00:00,  1.47it/s]\n",
      " 13%|█▎        | 133/1000 [04:51<32:47,  2.27s/it]"
     ]
    },
    {
     "name": "stdout",
     "output_type": "stream",
     "text": [
      "29\n"
     ]
    },
    {
     "name": "stderr",
     "output_type": "stream",
     "text": [
      "100%|██████████| 2/2 [00:00<00:00,  2.75it/s]\n",
      " 13%|█▎        | 134/1000 [04:52<29:19,  2.03s/it]"
     ]
    },
    {
     "name": "stdout",
     "output_type": "stream",
     "text": [
      "23\n"
     ]
    },
    {
     "name": "stderr",
     "output_type": "stream",
     "text": [
      "100%|██████████| 3/3 [00:01<00:00,  1.74it/s]\n",
      " 14%|█▎        | 135/1000 [04:55<30:34,  2.12s/it]"
     ]
    },
    {
     "name": "stdout",
     "output_type": "stream",
     "text": [
      "59\n"
     ]
    },
    {
     "name": "stderr",
     "output_type": "stream",
     "text": [
      "100%|██████████| 2/2 [00:00<00:00,  2.41it/s]\n",
      " 14%|█▎        | 136/1000 [04:56<26:23,  1.83s/it]"
     ]
    },
    {
     "name": "stdout",
     "output_type": "stream",
     "text": [
      "25\n"
     ]
    },
    {
     "name": "stderr",
     "output_type": "stream",
     "text": [
      "100%|██████████| 3/3 [00:01<00:00,  2.54it/s]\n",
      " 14%|█▎        | 137/1000 [04:57<25:22,  1.76s/it]"
     ]
    },
    {
     "name": "stdout",
     "output_type": "stream",
     "text": [
      "56\n"
     ]
    },
    {
     "name": "stderr",
     "output_type": "stream",
     "text": [
      "100%|██████████| 1/1 [00:00<00:00,  1.86it/s]\n",
      " 14%|█▍        | 138/1000 [04:59<22:13,  1.55s/it]"
     ]
    },
    {
     "name": "stdout",
     "output_type": "stream",
     "text": [
      "10\n"
     ]
    },
    {
     "name": "stderr",
     "output_type": "stream",
     "text": [
      "100%|██████████| 1/1 [00:00<00:00,  1.74it/s]\n",
      " 14%|█▍        | 139/1000 [04:59<19:27,  1.36s/it]"
     ]
    },
    {
     "name": "stdout",
     "output_type": "stream",
     "text": [
      "20\n"
     ]
    },
    {
     "name": "stderr",
     "output_type": "stream",
     "text": [
      "100%|██████████| 1/1 [00:00<00:00,  3.87it/s]\n",
      " 14%|█▍        | 140/1000 [05:00<15:55,  1.11s/it]"
     ]
    },
    {
     "name": "stdout",
     "output_type": "stream",
     "text": [
      "3\n"
     ]
    },
    {
     "name": "stderr",
     "output_type": "stream",
     "text": [
      "100%|██████████| 1/1 [00:00<00:00,  1.62it/s]\n",
      " 14%|█▍        | 141/1000 [05:01<14:59,  1.05s/it]"
     ]
    },
    {
     "name": "stdout",
     "output_type": "stream",
     "text": [
      "11\n"
     ]
    },
    {
     "name": "stderr",
     "output_type": "stream",
     "text": [
      "100%|██████████| 13/13 [00:06<00:00,  1.88it/s]\n",
      " 14%|█▍        | 142/1000 [05:08<41:51,  2.93s/it]"
     ]
    },
    {
     "name": "stdout",
     "output_type": "stream",
     "text": [
      "252\n"
     ]
    },
    {
     "name": "stderr",
     "output_type": "stream",
     "text": [
      "100%|██████████| 4/4 [00:03<00:00,  1.14it/s]\n",
      " 14%|█▍        | 143/1000 [05:12<46:23,  3.25s/it]"
     ]
    },
    {
     "name": "stdout",
     "output_type": "stream",
     "text": [
      "76\n"
     ]
    },
    {
     "name": "stderr",
     "output_type": "stream",
     "text": [
      "100%|██████████| 2/2 [00:01<00:00,  1.14it/s]\n",
      " 14%|█▍        | 144/1000 [05:14<41:34,  2.91s/it]"
     ]
    },
    {
     "name": "stdout",
     "output_type": "stream",
     "text": [
      "39\n"
     ]
    },
    {
     "name": "stderr",
     "output_type": "stream",
     "text": [
      "100%|██████████| 2/2 [00:00<00:00,  2.50it/s]\n",
      " 14%|█▍        | 145/1000 [05:15<34:09,  2.40s/it]"
     ]
    },
    {
     "name": "stdout",
     "output_type": "stream",
     "text": [
      "32\n"
     ]
    },
    {
     "name": "stderr",
     "output_type": "stream",
     "text": [
      "100%|██████████| 5/5 [00:02<00:00,  1.71it/s]\n",
      " 15%|█▍        | 146/1000 [05:19<38:52,  2.73s/it]"
     ]
    },
    {
     "name": "stdout",
     "output_type": "stream",
     "text": [
      "89\n"
     ]
    },
    {
     "name": "stderr",
     "output_type": "stream",
     "text": [
      "100%|██████████| 5/5 [00:02<00:00,  2.12it/s]\n",
      " 15%|█▍        | 147/1000 [05:22<39:57,  2.81s/it]"
     ]
    },
    {
     "name": "stdout",
     "output_type": "stream",
     "text": [
      "86\n"
     ]
    },
    {
     "name": "stderr",
     "output_type": "stream",
     "text": [
      "100%|██████████| 2/2 [00:01<00:00,  1.85it/s]\n",
      " 15%|█▍        | 148/1000 [05:24<35:00,  2.47s/it]"
     ]
    },
    {
     "name": "stdout",
     "output_type": "stream",
     "text": [
      "34\n"
     ]
    },
    {
     "name": "stderr",
     "output_type": "stream",
     "text": [
      "100%|██████████| 2/2 [00:00<00:00,  2.45it/s]\n",
      " 15%|█▍        | 149/1000 [05:25<29:54,  2.11s/it]"
     ]
    },
    {
     "name": "stdout",
     "output_type": "stream",
     "text": [
      "28\n"
     ]
    },
    {
     "name": "stderr",
     "output_type": "stream",
     "text": [
      "100%|██████████| 3/3 [00:01<00:00,  2.10it/s]\n",
      " 15%|█▌        | 150/1000 [05:27<28:41,  2.03s/it]"
     ]
    },
    {
     "name": "stdout",
     "output_type": "stream",
     "text": [
      "56\n"
     ]
    },
    {
     "name": "stderr",
     "output_type": "stream",
     "text": [
      "100%|██████████| 5/5 [00:02<00:00,  1.78it/s]\n",
      " 15%|█▌        | 151/1000 [05:30<34:12,  2.42s/it]"
     ]
    },
    {
     "name": "stdout",
     "output_type": "stream",
     "text": [
      "82\n"
     ]
    },
    {
     "name": "stderr",
     "output_type": "stream",
     "text": [
      "100%|██████████| 2/2 [00:01<00:00,  1.73it/s]\n",
      " 15%|█▌        | 152/1000 [05:32<30:50,  2.18s/it]"
     ]
    },
    {
     "name": "stdout",
     "output_type": "stream",
     "text": [
      "30\n"
     ]
    },
    {
     "name": "stderr",
     "output_type": "stream",
     "text": [
      "100%|██████████| 3/3 [00:01<00:00,  2.31it/s]\n",
      " 15%|█▌        | 153/1000 [05:34<29:29,  2.09s/it]"
     ]
    },
    {
     "name": "stdout",
     "output_type": "stream",
     "text": [
      "50\n"
     ]
    },
    {
     "name": "stderr",
     "output_type": "stream",
     "text": [
      "100%|██████████| 1/1 [00:00<00:00,  1.37it/s]\n",
      " 15%|█▌        | 154/1000 [05:35<25:36,  1.82s/it]"
     ]
    },
    {
     "name": "stdout",
     "output_type": "stream",
     "text": [
      "19\n"
     ]
    },
    {
     "name": "stderr",
     "output_type": "stream",
     "text": [
      "100%|██████████| 1/1 [00:00<00:00,  3.00it/s]\n",
      " 16%|█▌        | 155/1000 [05:35<20:29,  1.45s/it]"
     ]
    },
    {
     "name": "stdout",
     "output_type": "stream",
     "text": [
      "1\n"
     ]
    },
    {
     "name": "stderr",
     "output_type": "stream",
     "text": [
      "100%|██████████| 2/2 [00:00<00:00,  3.00it/s]\n",
      " 16%|█▌        | 156/1000 [05:36<18:48,  1.34s/it]"
     ]
    },
    {
     "name": "stdout",
     "output_type": "stream",
     "text": [
      "28\n"
     ]
    },
    {
     "name": "stderr",
     "output_type": "stream",
     "text": [
      "100%|██████████| 2/2 [00:00<00:00,  2.80it/s]\n",
      " 16%|█▌        | 157/1000 [05:38<18:02,  1.28s/it]"
     ]
    },
    {
     "name": "stdout",
     "output_type": "stream",
     "text": [
      "25\n"
     ]
    },
    {
     "name": "stderr",
     "output_type": "stream",
     "text": [
      "0it [00:00, ?it/s]\n",
      " 16%|█▌        | 158/1000 [05:38<13:20,  1.05it/s]"
     ]
    },
    {
     "name": "stdout",
     "output_type": "stream",
     "text": [
      "0\n"
     ]
    },
    {
     "name": "stderr",
     "output_type": "stream",
     "text": [
      "100%|██████████| 1/1 [00:00<00:00,  3.34it/s]\n",
      " 16%|█▌        | 159/1000 [05:39<12:55,  1.08it/s]"
     ]
    },
    {
     "name": "stdout",
     "output_type": "stream",
     "text": [
      "2\n"
     ]
    },
    {
     "name": "stderr",
     "output_type": "stream",
     "text": [
      "100%|██████████| 1/1 [00:00<00:00,  1.97it/s]\n",
      " 16%|█▌        | 160/1000 [05:39<12:11,  1.15it/s]"
     ]
    },
    {
     "name": "stdout",
     "output_type": "stream",
     "text": [
      "1\n"
     ]
    },
    {
     "name": "stderr",
     "output_type": "stream",
     "text": [
      "100%|██████████| 1/1 [00:00<00:00,  5.41it/s]\n",
      " 16%|█▌        | 161/1000 [05:40<10:22,  1.35it/s]"
     ]
    },
    {
     "name": "stdout",
     "output_type": "stream",
     "text": [
      "1\n"
     ]
    },
    {
     "name": "stderr",
     "output_type": "stream",
     "text": [
      "100%|██████████| 5/5 [00:02<00:00,  2.48it/s]\n",
      " 16%|█▌        | 162/1000 [05:43<19:07,  1.37s/it]"
     ]
    },
    {
     "name": "stdout",
     "output_type": "stream",
     "text": [
      "88\n"
     ]
    },
    {
     "name": "stderr",
     "output_type": "stream",
     "text": [
      "100%|██████████| 4/4 [00:02<00:00,  1.60it/s]\n",
      " 16%|█▋        | 163/1000 [05:46<25:33,  1.83s/it]"
     ]
    },
    {
     "name": "stdout",
     "output_type": "stream",
     "text": [
      "63\n"
     ]
    },
    {
     "name": "stderr",
     "output_type": "stream",
     "text": [
      "100%|██████████| 7/7 [00:04<00:00,  1.52it/s]\n",
      " 16%|█▋        | 164/1000 [05:51<38:35,  2.77s/it]"
     ]
    },
    {
     "name": "stdout",
     "output_type": "stream",
     "text": [
      "136\n"
     ]
    },
    {
     "name": "stderr",
     "output_type": "stream",
     "text": [
      "0it [00:00, ?it/s]\n",
      " 16%|█▋        | 165/1000 [05:51<28:00,  2.01s/it]"
     ]
    },
    {
     "name": "stdout",
     "output_type": "stream",
     "text": [
      "0\n"
     ]
    },
    {
     "name": "stderr",
     "output_type": "stream",
     "text": [
      "100%|██████████| 4/4 [00:01<00:00,  2.07it/s]\n",
      " 17%|█▋        | 166/1000 [05:53<30:06,  2.17s/it]"
     ]
    },
    {
     "name": "stdout",
     "output_type": "stream",
     "text": [
      "74\n"
     ]
    },
    {
     "name": "stderr",
     "output_type": "stream",
     "text": [
      "100%|██████████| 5/5 [00:02<00:00,  1.87it/s]\n",
      " 17%|█▋        | 167/1000 [05:56<33:52,  2.44s/it]"
     ]
    },
    {
     "name": "stdout",
     "output_type": "stream",
     "text": [
      "81\n"
     ]
    },
    {
     "name": "stderr",
     "output_type": "stream",
     "text": [
      "100%|██████████| 1/1 [00:00<00:00,  2.63it/s]\n",
      " 17%|█▋        | 168/1000 [05:57<26:37,  1.92s/it]"
     ]
    },
    {
     "name": "stdout",
     "output_type": "stream",
     "text": [
      "18\n"
     ]
    },
    {
     "name": "stderr",
     "output_type": "stream",
     "text": [
      "100%|██████████| 6/6 [00:03<00:00,  1.97it/s]\n",
      " 17%|█▋        | 169/1000 [06:01<33:45,  2.44s/it]"
     ]
    },
    {
     "name": "stdout",
     "output_type": "stream",
     "text": [
      "116\n"
     ]
    },
    {
     "name": "stderr",
     "output_type": "stream",
     "text": [
      "100%|██████████| 3/3 [00:02<00:00,  1.24it/s]\n",
      " 17%|█▋        | 170/1000 [06:04<35:52,  2.59s/it]"
     ]
    },
    {
     "name": "stdout",
     "output_type": "stream",
     "text": [
      "41\n"
     ]
    },
    {
     "name": "stderr",
     "output_type": "stream",
     "text": [
      "100%|██████████| 2/2 [00:00<00:00,  2.09it/s]\n",
      " 17%|█▋        | 171/1000 [06:05<30:48,  2.23s/it]"
     ]
    },
    {
     "name": "stdout",
     "output_type": "stream",
     "text": [
      "26\n"
     ]
    },
    {
     "name": "stderr",
     "output_type": "stream",
     "text": [
      "100%|██████████| 3/3 [00:01<00:00,  1.54it/s]\n",
      " 17%|█▋        | 172/1000 [06:08<31:34,  2.29s/it]"
     ]
    },
    {
     "name": "stdout",
     "output_type": "stream",
     "text": [
      "49\n"
     ]
    },
    {
     "name": "stderr",
     "output_type": "stream",
     "text": [
      "100%|██████████| 1/1 [00:00<00:00,  1.22it/s]\n",
      " 17%|█▋        | 173/1000 [06:09<27:20,  1.98s/it]"
     ]
    },
    {
     "name": "stdout",
     "output_type": "stream",
     "text": [
      "12\n"
     ]
    },
    {
     "name": "stderr",
     "output_type": "stream",
     "text": [
      "100%|██████████| 1/1 [00:00<00:00,  1.38it/s]\n",
      " 17%|█▋        | 174/1000 [06:10<24:07,  1.75s/it]"
     ]
    },
    {
     "name": "stdout",
     "output_type": "stream",
     "text": [
      "20\n"
     ]
    },
    {
     "name": "stderr",
     "output_type": "stream",
     "text": [
      "100%|██████████| 4/4 [00:02<00:00,  1.85it/s]\n",
      " 18%|█▊        | 175/1000 [06:14<31:23,  2.28s/it]"
     ]
    },
    {
     "name": "stdout",
     "output_type": "stream",
     "text": [
      "77\n"
     ]
    },
    {
     "name": "stderr",
     "output_type": "stream",
     "text": [
      "100%|██████████| 7/7 [00:03<00:00,  2.18it/s]\n",
      " 18%|█▊        | 176/1000 [06:17<36:37,  2.67s/it]"
     ]
    },
    {
     "name": "stdout",
     "output_type": "stream",
     "text": [
      "137\n"
     ]
    },
    {
     "name": "stderr",
     "output_type": "stream",
     "text": [
      "0it [00:00, ?it/s]\n",
      " 18%|█▊        | 177/1000 [06:17<26:31,  1.93s/it]"
     ]
    },
    {
     "name": "stdout",
     "output_type": "stream",
     "text": [
      "0\n"
     ]
    },
    {
     "name": "stderr",
     "output_type": "stream",
     "text": [
      "100%|██████████| 2/2 [00:00<00:00,  2.68it/s]\n",
      " 18%|█▊        | 178/1000 [06:18<23:08,  1.69s/it]"
     ]
    },
    {
     "name": "stdout",
     "output_type": "stream",
     "text": [
      "26\n"
     ]
    },
    {
     "name": "stderr",
     "output_type": "stream",
     "text": [
      "100%|██████████| 1/1 [00:00<00:00,  1.83it/s]\n",
      " 18%|█▊        | 179/1000 [06:20<20:50,  1.52s/it]"
     ]
    },
    {
     "name": "stdout",
     "output_type": "stream",
     "text": [
      "19\n"
     ]
    },
    {
     "name": "stderr",
     "output_type": "stream",
     "text": [
      "100%|██████████| 1/1 [00:00<00:00,  3.77it/s]\n",
      " 18%|█▊        | 180/1000 [06:20<16:49,  1.23s/it]"
     ]
    },
    {
     "name": "stdout",
     "output_type": "stream",
     "text": [
      "7\n"
     ]
    },
    {
     "name": "stderr",
     "output_type": "stream",
     "text": [
      "100%|██████████| 1/1 [00:00<00:00,  3.04it/s]\n",
      " 18%|█▊        | 181/1000 [06:21<14:32,  1.07s/it]"
     ]
    },
    {
     "name": "stdout",
     "output_type": "stream",
     "text": [
      "6\n"
     ]
    },
    {
     "name": "stderr",
     "output_type": "stream",
     "text": [
      "100%|██████████| 10/10 [00:04<00:00,  2.13it/s]\n",
      " 18%|█▊        | 182/1000 [06:26<31:21,  2.30s/it]"
     ]
    },
    {
     "name": "stdout",
     "output_type": "stream",
     "text": [
      "184\n"
     ]
    },
    {
     "name": "stderr",
     "output_type": "stream",
     "text": [
      "100%|██████████| 11/11 [00:05<00:00,  2.16it/s]\n",
      " 18%|█▊        | 183/1000 [06:32<44:50,  3.29s/it]"
     ]
    },
    {
     "name": "stdout",
     "output_type": "stream",
     "text": [
      "204\n"
     ]
    },
    {
     "name": "stderr",
     "output_type": "stream",
     "text": [
      "100%|██████████| 7/7 [00:03<00:00,  1.96it/s]\n",
      " 18%|█▊        | 184/1000 [06:36<47:34,  3.50s/it]"
     ]
    },
    {
     "name": "stdout",
     "output_type": "stream",
     "text": [
      "125\n"
     ]
    },
    {
     "name": "stderr",
     "output_type": "stream",
     "text": [
      "100%|██████████| 6/6 [00:02<00:00,  2.48it/s]\n",
      " 18%|█▊        | 185/1000 [06:39<47:38,  3.51s/it]"
     ]
    },
    {
     "name": "stdout",
     "output_type": "stream",
     "text": [
      "111\n"
     ]
    },
    {
     "name": "stderr",
     "output_type": "stream",
     "text": [
      "100%|██████████| 3/3 [00:01<00:00,  1.53it/s]\n",
      " 19%|█▊        | 186/1000 [06:41<42:58,  3.17s/it]"
     ]
    },
    {
     "name": "stdout",
     "output_type": "stream",
     "text": [
      "53\n"
     ]
    },
    {
     "name": "stderr",
     "output_type": "stream",
     "text": [
      "100%|██████████| 6/6 [00:03<00:00,  1.86it/s]\n",
      " 19%|█▊        | 187/1000 [06:45<46:03,  3.40s/it]"
     ]
    },
    {
     "name": "stdout",
     "output_type": "stream",
     "text": [
      "106\n"
     ]
    },
    {
     "name": "stderr",
     "output_type": "stream",
     "text": [
      "100%|██████████| 3/3 [00:01<00:00,  1.85it/s]\n",
      " 19%|█▉        | 188/1000 [06:48<40:46,  3.01s/it]"
     ]
    },
    {
     "name": "stdout",
     "output_type": "stream",
     "text": [
      "51\n"
     ]
    },
    {
     "name": "stderr",
     "output_type": "stream",
     "text": [
      "100%|██████████| 3/3 [00:00<00:00,  3.12it/s]\n",
      " 19%|█▉        | 189/1000 [06:49<36:15,  2.68s/it]"
     ]
    },
    {
     "name": "stdout",
     "output_type": "stream",
     "text": [
      "42\n"
     ]
    },
    {
     "name": "stderr",
     "output_type": "stream",
     "text": [
      "100%|██████████| 1/1 [00:01<00:00,  1.02s/it]\n",
      " 19%|█▉        | 190/1000 [06:52<35:20,  2.62s/it]"
     ]
    },
    {
     "name": "stdout",
     "output_type": "stream",
     "text": [
      "20\n"
     ]
    },
    {
     "name": "stderr",
     "output_type": "stream",
     "text": [
      "100%|██████████| 2/2 [00:00<00:00,  2.20it/s]\n",
      " 19%|█▉        | 191/1000 [06:53<30:19,  2.25s/it]"
     ]
    },
    {
     "name": "stdout",
     "output_type": "stream",
     "text": [
      "28\n"
     ]
    },
    {
     "name": "stderr",
     "output_type": "stream",
     "text": [
      "100%|██████████| 1/1 [00:00<00:00,  3.02it/s]\n",
      " 19%|█▉        | 192/1000 [06:54<24:22,  1.81s/it]"
     ]
    },
    {
     "name": "stdout",
     "output_type": "stream",
     "text": [
      "18\n"
     ]
    },
    {
     "name": "stderr",
     "output_type": "stream",
     "text": [
      "100%|██████████| 3/3 [00:01<00:00,  2.37it/s]\n",
      " 19%|█▉        | 193/1000 [06:56<24:25,  1.82s/it]"
     ]
    },
    {
     "name": "stdout",
     "output_type": "stream",
     "text": [
      "59\n"
     ]
    },
    {
     "name": "stderr",
     "output_type": "stream",
     "text": [
      "100%|██████████| 2/2 [00:01<00:00,  1.79it/s]\n",
      " 19%|█▉        | 194/1000 [06:58<23:40,  1.76s/it]"
     ]
    },
    {
     "name": "stdout",
     "output_type": "stream",
     "text": [
      "25\n"
     ]
    },
    {
     "name": "stderr",
     "output_type": "stream",
     "text": [
      "100%|██████████| 3/3 [00:01<00:00,  2.77it/s]\n",
      " 20%|█▉        | 195/1000 [06:59<22:28,  1.68s/it]"
     ]
    },
    {
     "name": "stdout",
     "output_type": "stream",
     "text": [
      "41\n"
     ]
    },
    {
     "name": "stderr",
     "output_type": "stream",
     "text": [
      "100%|██████████| 3/3 [00:01<00:00,  2.01it/s]\n",
      " 20%|█▉        | 196/1000 [07:01<25:22,  1.89s/it]"
     ]
    },
    {
     "name": "stdout",
     "output_type": "stream",
     "text": [
      "54\n"
     ]
    },
    {
     "name": "stderr",
     "output_type": "stream",
     "text": [
      "100%|██████████| 2/2 [00:00<00:00,  2.34it/s]\n",
      " 20%|█▉        | 197/1000 [07:03<22:59,  1.72s/it]"
     ]
    },
    {
     "name": "stdout",
     "output_type": "stream",
     "text": [
      "28\n"
     ]
    },
    {
     "name": "stderr",
     "output_type": "stream",
     "text": [
      "100%|██████████| 2/2 [00:01<00:00,  1.04it/s]\n",
      " 20%|█▉        | 198/1000 [07:05<26:36,  1.99s/it]"
     ]
    },
    {
     "name": "stdout",
     "output_type": "stream",
     "text": [
      "22\n"
     ]
    },
    {
     "name": "stderr",
     "output_type": "stream",
     "text": [
      "100%|██████████| 2/2 [00:00<00:00,  2.67it/s]\n",
      " 20%|█▉        | 199/1000 [07:06<23:04,  1.73s/it]"
     ]
    },
    {
     "name": "stdout",
     "output_type": "stream",
     "text": [
      "30\n"
     ]
    },
    {
     "name": "stderr",
     "output_type": "stream",
     "text": [
      "100%|██████████| 6/6 [00:03<00:00,  1.69it/s]\n",
      " 20%|██        | 200/1000 [07:11<33:51,  2.54s/it]"
     ]
    },
    {
     "name": "stdout",
     "output_type": "stream",
     "text": [
      "103\n"
     ]
    },
    {
     "name": "stderr",
     "output_type": "stream",
     "text": [
      "100%|██████████| 1/1 [00:00<00:00,  3.29it/s]\n",
      " 20%|██        | 201/1000 [07:12<26:59,  2.03s/it]"
     ]
    },
    {
     "name": "stdout",
     "output_type": "stream",
     "text": [
      "14\n"
     ]
    },
    {
     "name": "stderr",
     "output_type": "stream",
     "text": [
      "100%|██████████| 1/1 [00:00<00:00,  2.66it/s]\n",
      " 20%|██        | 202/1000 [07:13<23:19,  1.75s/it]"
     ]
    },
    {
     "name": "stdout",
     "output_type": "stream",
     "text": [
      "19\n"
     ]
    },
    {
     "name": "stderr",
     "output_type": "stream",
     "text": [
      "100%|██████████| 1/1 [00:00<00:00,  2.38it/s]\n",
      " 20%|██        | 203/1000 [07:14<19:58,  1.50s/it]"
     ]
    },
    {
     "name": "stdout",
     "output_type": "stream",
     "text": [
      "4\n"
     ]
    },
    {
     "name": "stderr",
     "output_type": "stream",
     "text": [
      "0it [00:00, ?it/s]\n",
      " 20%|██        | 204/1000 [07:14<14:42,  1.11s/it]"
     ]
    },
    {
     "name": "stdout",
     "output_type": "stream",
     "text": [
      "0\n"
     ]
    },
    {
     "name": "stderr",
     "output_type": "stream",
     "text": [
      "100%|██████████| 6/6 [00:02<00:00,  2.60it/s]\n",
      " 20%|██        | 205/1000 [07:17<21:36,  1.63s/it]"
     ]
    },
    {
     "name": "stdout",
     "output_type": "stream",
     "text": [
      "116\n"
     ]
    },
    {
     "name": "stderr",
     "output_type": "stream",
     "text": [
      "100%|██████████| 4/4 [00:02<00:00,  1.87it/s]\n",
      " 21%|██        | 206/1000 [07:19<25:32,  1.93s/it]"
     ]
    },
    {
     "name": "stdout",
     "output_type": "stream",
     "text": [
      "76\n"
     ]
    },
    {
     "name": "stderr",
     "output_type": "stream",
     "text": [
      "100%|██████████| 2/2 [00:00<00:00,  2.86it/s]\n",
      " 21%|██        | 207/1000 [07:21<22:40,  1.72s/it]"
     ]
    },
    {
     "name": "stdout",
     "output_type": "stream",
     "text": [
      "30\n"
     ]
    },
    {
     "name": "stderr",
     "output_type": "stream",
     "text": [
      "100%|██████████| 4/4 [00:01<00:00,  2.05it/s]\n",
      " 21%|██        | 208/1000 [07:23<25:38,  1.94s/it]"
     ]
    },
    {
     "name": "stdout",
     "output_type": "stream",
     "text": [
      "63\n"
     ]
    },
    {
     "name": "stderr",
     "output_type": "stream",
     "text": [
      "0it [00:00, ?it/s]\n",
      " 21%|██        | 209/1000 [07:23<19:02,  1.44s/it]"
     ]
    },
    {
     "name": "stdout",
     "output_type": "stream",
     "text": [
      "0\n"
     ]
    },
    {
     "name": "stderr",
     "output_type": "stream",
     "text": [
      "0it [00:00, ?it/s]\n",
      " 21%|██        | 210/1000 [07:24<14:11,  1.08s/it]"
     ]
    },
    {
     "name": "stdout",
     "output_type": "stream",
     "text": [
      "0\n"
     ]
    },
    {
     "name": "stderr",
     "output_type": "stream",
     "text": [
      "0it [00:00, ?it/s]\n",
      " 21%|██        | 211/1000 [07:24<11:00,  1.20it/s]"
     ]
    },
    {
     "name": "stdout",
     "output_type": "stream",
     "text": [
      "0\n"
     ]
    },
    {
     "name": "stderr",
     "output_type": "stream",
     "text": [
      "100%|██████████| 1/1 [00:00<00:00,  3.20it/s]\n",
      " 21%|██        | 212/1000 [07:25<10:30,  1.25it/s]"
     ]
    },
    {
     "name": "stdout",
     "output_type": "stream",
     "text": [
      "1\n"
     ]
    },
    {
     "name": "stderr",
     "output_type": "stream",
     "text": [
      "100%|██████████| 2/2 [00:00<00:00,  2.85it/s]\n",
      " 21%|██▏       | 213/1000 [07:26<12:42,  1.03it/s]"
     ]
    },
    {
     "name": "stdout",
     "output_type": "stream",
     "text": [
      "34\n"
     ]
    },
    {
     "name": "stderr",
     "output_type": "stream",
     "text": [
      "100%|██████████| 1/1 [00:00<00:00,  2.67it/s]\n",
      " 21%|██▏       | 214/1000 [07:27<11:29,  1.14it/s]"
     ]
    },
    {
     "name": "stdout",
     "output_type": "stream",
     "text": [
      "4\n"
     ]
    },
    {
     "name": "stderr",
     "output_type": "stream",
     "text": [
      "100%|██████████| 2/2 [00:01<00:00,  1.11it/s]\n",
      " 22%|██▏       | 215/1000 [07:29<17:50,  1.36s/it]"
     ]
    },
    {
     "name": "stdout",
     "output_type": "stream",
     "text": [
      "37\n"
     ]
    },
    {
     "name": "stderr",
     "output_type": "stream",
     "text": [
      "100%|██████████| 3/3 [00:01<00:00,  2.33it/s]\n",
      " 22%|██▏       | 216/1000 [07:31<20:12,  1.55s/it]"
     ]
    },
    {
     "name": "stdout",
     "output_type": "stream",
     "text": [
      "42\n"
     ]
    },
    {
     "name": "stderr",
     "output_type": "stream",
     "text": [
      "100%|██████████| 7/7 [00:03<00:00,  1.99it/s]\n",
      " 22%|██▏       | 217/1000 [07:35<29:33,  2.27s/it]"
     ]
    },
    {
     "name": "stdout",
     "output_type": "stream",
     "text": [
      "125\n"
     ]
    },
    {
     "name": "stderr",
     "output_type": "stream",
     "text": [
      "100%|██████████| 4/4 [00:02<00:00,  1.89it/s]\n",
      " 22%|██▏       | 218/1000 [07:37<30:12,  2.32s/it]"
     ]
    },
    {
     "name": "stdout",
     "output_type": "stream",
     "text": [
      "80\n"
     ]
    },
    {
     "name": "stderr",
     "output_type": "stream",
     "text": [
      "100%|██████████| 3/3 [00:01<00:00,  2.22it/s]\n",
      " 22%|██▏       | 219/1000 [07:39<28:08,  2.16s/it]"
     ]
    },
    {
     "name": "stdout",
     "output_type": "stream",
     "text": [
      "55\n"
     ]
    },
    {
     "name": "stderr",
     "output_type": "stream",
     "text": [
      "100%|██████████| 2/2 [00:00<00:00,  2.19it/s]\n",
      " 22%|██▏       | 220/1000 [07:41<25:04,  1.93s/it]"
     ]
    },
    {
     "name": "stdout",
     "output_type": "stream",
     "text": [
      "25\n"
     ]
    },
    {
     "name": "stderr",
     "output_type": "stream",
     "text": [
      "100%|██████████| 4/4 [00:01<00:00,  2.09it/s]\n",
      " 22%|██▏       | 221/1000 [07:43<27:13,  2.10s/it]"
     ]
    },
    {
     "name": "stdout",
     "output_type": "stream",
     "text": [
      "78\n"
     ]
    },
    {
     "name": "stderr",
     "output_type": "stream",
     "text": [
      "0it [00:00, ?it/s]\n",
      " 22%|██▏       | 222/1000 [07:43<19:52,  1.53s/it]"
     ]
    },
    {
     "name": "stdout",
     "output_type": "stream",
     "text": [
      "0\n"
     ]
    },
    {
     "name": "stderr",
     "output_type": "stream",
     "text": [
      "100%|██████████| 2/2 [00:00<00:00,  2.69it/s]\n",
      " 22%|██▏       | 223/1000 [07:44<18:06,  1.40s/it]"
     ]
    },
    {
     "name": "stdout",
     "output_type": "stream",
     "text": [
      "28\n"
     ]
    },
    {
     "name": "stderr",
     "output_type": "stream",
     "text": [
      "100%|██████████| 3/3 [00:01<00:00,  2.14it/s]\n",
      " 22%|██▏       | 224/1000 [07:46<19:46,  1.53s/it]"
     ]
    },
    {
     "name": "stdout",
     "output_type": "stream",
     "text": [
      "46\n"
     ]
    },
    {
     "name": "stderr",
     "output_type": "stream",
     "text": [
      "100%|██████████| 1/1 [00:00<00:00,  2.42it/s]\n",
      " 22%|██▎       | 225/1000 [07:48<18:56,  1.47s/it]"
     ]
    },
    {
     "name": "stdout",
     "output_type": "stream",
     "text": [
      "11\n"
     ]
    },
    {
     "name": "stderr",
     "output_type": "stream",
     "text": [
      "100%|██████████| 1/1 [00:00<00:00,  1.14it/s]\n",
      " 23%|██▎       | 226/1000 [07:50<21:51,  1.69s/it]"
     ]
    },
    {
     "name": "stdout",
     "output_type": "stream",
     "text": [
      "11\n"
     ]
    },
    {
     "name": "stderr",
     "output_type": "stream",
     "text": [
      "100%|██████████| 2/2 [00:01<00:00,  1.98it/s]\n",
      " 23%|██▎       | 227/1000 [07:51<21:34,  1.67s/it]"
     ]
    },
    {
     "name": "stdout",
     "output_type": "stream",
     "text": [
      "36\n"
     ]
    },
    {
     "name": "stderr",
     "output_type": "stream",
     "text": [
      "100%|██████████| 1/1 [00:00<00:00,  2.47it/s]\n",
      " 23%|██▎       | 228/1000 [07:53<21:51,  1.70s/it]"
     ]
    },
    {
     "name": "stdout",
     "output_type": "stream",
     "text": [
      "20\n"
     ]
    },
    {
     "name": "stderr",
     "output_type": "stream",
     "text": [
      "100%|██████████| 2/2 [00:01<00:00,  1.87it/s]\n",
      " 23%|██▎       | 229/1000 [07:56<24:12,  1.88s/it]"
     ]
    },
    {
     "name": "stdout",
     "output_type": "stream",
     "text": [
      "23\n"
     ]
    },
    {
     "name": "stderr",
     "output_type": "stream",
     "text": [
      "0it [00:00, ?it/s]\n",
      " 23%|██▎       | 230/1000 [07:56<18:18,  1.43s/it]"
     ]
    },
    {
     "name": "stdout",
     "output_type": "stream",
     "text": [
      "0\n"
     ]
    },
    {
     "name": "stderr",
     "output_type": "stream",
     "text": [
      "100%|██████████| 1/1 [00:00<00:00,  2.36it/s]\n",
      " 23%|██▎       | 231/1000 [07:57<15:20,  1.20s/it]"
     ]
    },
    {
     "name": "stdout",
     "output_type": "stream",
     "text": [
      "2\n"
     ]
    },
    {
     "name": "stderr",
     "output_type": "stream",
     "text": [
      "0it [00:00, ?it/s]\n",
      " 23%|██▎       | 232/1000 [07:57<12:07,  1.06it/s]"
     ]
    },
    {
     "name": "stdout",
     "output_type": "stream",
     "text": [
      "0\n"
     ]
    },
    {
     "name": "stderr",
     "output_type": "stream",
     "text": [
      "0it [00:00, ?it/s]\n",
      " 23%|██▎       | 233/1000 [07:58<12:16,  1.04it/s]"
     ]
    },
    {
     "name": "stdout",
     "output_type": "stream",
     "text": [
      "0\n"
     ]
    },
    {
     "name": "stderr",
     "output_type": "stream",
     "text": [
      "100%|██████████| 1/1 [00:00<00:00,  3.44it/s]\n",
      " 23%|██▎       | 234/1000 [07:59<10:56,  1.17it/s]"
     ]
    },
    {
     "name": "stdout",
     "output_type": "stream",
     "text": [
      "10\n"
     ]
    },
    {
     "name": "stderr",
     "output_type": "stream",
     "text": [
      "0it [00:00, ?it/s]\n",
      " 24%|██▎       | 235/1000 [07:59<10:17,  1.24it/s]"
     ]
    },
    {
     "name": "stdout",
     "output_type": "stream",
     "text": [
      "0\n"
     ]
    },
    {
     "name": "stderr",
     "output_type": "stream",
     "text": [
      "0it [00:00, ?it/s]\n",
      " 24%|██▎       | 236/1000 [07:59<08:00,  1.59it/s]"
     ]
    },
    {
     "name": "stdout",
     "output_type": "stream",
     "text": [
      "0\n"
     ]
    },
    {
     "name": "stderr",
     "output_type": "stream",
     "text": [
      "100%|██████████| 1/1 [00:00<00:00,  3.53it/s]\n",
      " 24%|██▎       | 237/1000 [08:01<09:57,  1.28it/s]"
     ]
    },
    {
     "name": "stdout",
     "output_type": "stream",
     "text": [
      "1\n"
     ]
    },
    {
     "name": "stderr",
     "output_type": "stream",
     "text": [
      "0it [00:00, ?it/s]\n",
      " 24%|██▍       | 238/1000 [08:01<07:51,  1.62it/s]"
     ]
    },
    {
     "name": "stdout",
     "output_type": "stream",
     "text": [
      "0\n"
     ]
    },
    {
     "name": "stderr",
     "output_type": "stream",
     "text": [
      "0it [00:00, ?it/s]\n",
      " 24%|██▍       | 239/1000 [08:01<06:11,  2.05it/s]"
     ]
    },
    {
     "name": "stdout",
     "output_type": "stream",
     "text": [
      "0\n"
     ]
    },
    {
     "name": "stderr",
     "output_type": "stream",
     "text": [
      "100%|██████████| 1/1 [00:00<00:00,  2.07it/s]\n",
      " 24%|██▍       | 240/1000 [08:02<07:17,  1.74it/s]"
     ]
    },
    {
     "name": "stdout",
     "output_type": "stream",
     "text": [
      "1\n"
     ]
    },
    {
     "name": "stderr",
     "output_type": "stream",
     "text": [
      "100%|██████████| 1/1 [00:00<00:00,  5.07it/s]\n",
      " 24%|██▍       | 241/1000 [08:02<06:41,  1.89it/s]"
     ]
    },
    {
     "name": "stdout",
     "output_type": "stream",
     "text": [
      "1\n"
     ]
    },
    {
     "name": "stderr",
     "output_type": "stream",
     "text": [
      "100%|██████████| 1/1 [00:00<00:00,  2.95it/s]\n",
      " 24%|██▍       | 242/1000 [08:03<06:54,  1.83it/s]"
     ]
    },
    {
     "name": "stdout",
     "output_type": "stream",
     "text": [
      "3\n"
     ]
    },
    {
     "name": "stderr",
     "output_type": "stream",
     "text": [
      "100%|██████████| 1/1 [00:00<00:00,  4.59it/s]\n",
      " 24%|██▍       | 243/1000 [08:03<07:05,  1.78it/s]"
     ]
    },
    {
     "name": "stdout",
     "output_type": "stream",
     "text": [
      "1\n"
     ]
    },
    {
     "name": "stderr",
     "output_type": "stream",
     "text": [
      "0it [00:00, ?it/s]\n",
      " 24%|██▍       | 244/1000 [08:04<05:56,  2.12it/s]"
     ]
    },
    {
     "name": "stdout",
     "output_type": "stream",
     "text": [
      "0\n"
     ]
    },
    {
     "name": "stderr",
     "output_type": "stream",
     "text": [
      "0it [00:00, ?it/s]\n",
      " 24%|██▍       | 245/1000 [08:04<04:55,  2.55it/s]"
     ]
    },
    {
     "name": "stdout",
     "output_type": "stream",
     "text": [
      "0\n"
     ]
    },
    {
     "name": "stderr",
     "output_type": "stream",
     "text": [
      "0it [00:00, ?it/s]\n",
      " 25%|██▍       | 246/1000 [08:05<06:07,  2.05it/s]"
     ]
    },
    {
     "name": "stdout",
     "output_type": "stream",
     "text": [
      "0\n"
     ]
    },
    {
     "name": "stderr",
     "output_type": "stream",
     "text": [
      "0it [00:00, ?it/s]\n",
      " 25%|██▍       | 247/1000 [08:05<05:03,  2.48it/s]"
     ]
    },
    {
     "name": "stdout",
     "output_type": "stream",
     "text": [
      "0\n"
     ]
    },
    {
     "name": "stderr",
     "output_type": "stream",
     "text": [
      "0it [00:00, ?it/s]\n",
      " 25%|██▍       | 248/1000 [08:05<04:10,  3.00it/s]"
     ]
    },
    {
     "name": "stdout",
     "output_type": "stream",
     "text": [
      "0\n"
     ]
    },
    {
     "name": "stderr",
     "output_type": "stream",
     "text": [
      "0it [00:00, ?it/s]\n",
      " 25%|██▍       | 249/1000 [08:05<04:00,  3.12it/s]"
     ]
    },
    {
     "name": "stdout",
     "output_type": "stream",
     "text": [
      "0\n"
     ]
    },
    {
     "name": "stderr",
     "output_type": "stream",
     "text": [
      "100%|██████████| 1/1 [00:00<00:00,  2.79it/s]\n",
      " 25%|██▌       | 250/1000 [08:06<05:12,  2.40it/s]"
     ]
    },
    {
     "name": "stdout",
     "output_type": "stream",
     "text": [
      "2\n"
     ]
    },
    {
     "name": "stderr",
     "output_type": "stream",
     "text": [
      "100%|██████████| 1/1 [00:00<00:00,  3.96it/s]\n",
      " 25%|██▌       | 251/1000 [08:06<05:47,  2.16it/s]"
     ]
    },
    {
     "name": "stdout",
     "output_type": "stream",
     "text": [
      "8\n"
     ]
    },
    {
     "name": "stderr",
     "output_type": "stream",
     "text": [
      "100%|██████████| 1/1 [00:00<00:00,  3.48it/s]\n",
      " 25%|██▌       | 252/1000 [08:07<06:00,  2.07it/s]"
     ]
    },
    {
     "name": "stdout",
     "output_type": "stream",
     "text": [
      "1\n"
     ]
    },
    {
     "name": "stderr",
     "output_type": "stream",
     "text": [
      "0it [00:00, ?it/s]\n",
      " 25%|██▌       | 253/1000 [08:07<04:52,  2.55it/s]"
     ]
    },
    {
     "name": "stdout",
     "output_type": "stream",
     "text": [
      "0\n"
     ]
    },
    {
     "name": "stderr",
     "output_type": "stream",
     "text": [
      "0it [00:00, ?it/s]\n",
      " 25%|██▌       | 254/1000 [08:07<04:22,  2.84it/s]"
     ]
    },
    {
     "name": "stdout",
     "output_type": "stream",
     "text": [
      "0\n"
     ]
    },
    {
     "name": "stderr",
     "output_type": "stream",
     "text": [
      "0it [00:00, ?it/s]\n",
      " 26%|██▌       | 255/1000 [08:08<04:13,  2.94it/s]"
     ]
    },
    {
     "name": "stdout",
     "output_type": "stream",
     "text": [
      "0\n"
     ]
    },
    {
     "name": "stderr",
     "output_type": "stream",
     "text": [
      "0it [00:00, ?it/s]\n",
      " 26%|██▌       | 256/1000 [08:08<03:40,  3.38it/s]"
     ]
    },
    {
     "name": "stdout",
     "output_type": "stream",
     "text": [
      "0\n"
     ]
    },
    {
     "name": "stderr",
     "output_type": "stream",
     "text": [
      "0it [00:00, ?it/s]\n",
      " 26%|██▌       | 257/1000 [08:08<03:16,  3.79it/s]"
     ]
    },
    {
     "name": "stdout",
     "output_type": "stream",
     "text": [
      "0\n"
     ]
    },
    {
     "name": "stderr",
     "output_type": "stream",
     "text": [
      "0it [00:00, ?it/s]\n",
      " 26%|██▌       | 258/1000 [08:08<03:16,  3.77it/s]"
     ]
    },
    {
     "name": "stdout",
     "output_type": "stream",
     "text": [
      "0\n"
     ]
    },
    {
     "name": "stderr",
     "output_type": "stream",
     "text": [
      "0it [00:00, ?it/s]\n",
      " 26%|██▌       | 259/1000 [08:10<07:20,  1.68it/s]"
     ]
    },
    {
     "name": "stdout",
     "output_type": "stream",
     "text": [
      "0\n"
     ]
    },
    {
     "name": "stderr",
     "output_type": "stream",
     "text": [
      "0it [00:00, ?it/s]\n",
      " 26%|██▌       | 260/1000 [08:10<06:00,  2.06it/s]"
     ]
    },
    {
     "name": "stdout",
     "output_type": "stream",
     "text": [
      "0\n"
     ]
    },
    {
     "name": "stderr",
     "output_type": "stream",
     "text": [
      "100%|██████████| 1/1 [00:00<00:00,  4.24it/s]\n",
      " 26%|██▌       | 261/1000 [08:11<06:57,  1.77it/s]"
     ]
    },
    {
     "name": "stdout",
     "output_type": "stream",
     "text": [
      "1\n"
     ]
    },
    {
     "name": "stderr",
     "output_type": "stream",
     "text": [
      "0it [00:00, ?it/s]\n",
      " 26%|██▌       | 262/1000 [08:11<05:46,  2.13it/s]"
     ]
    },
    {
     "name": "stdout",
     "output_type": "stream",
     "text": [
      "0\n"
     ]
    },
    {
     "name": "stderr",
     "output_type": "stream",
     "text": [
      "0it [00:00, ?it/s]\n",
      " 26%|██▋       | 263/1000 [08:11<04:43,  2.60it/s]"
     ]
    },
    {
     "name": "stdout",
     "output_type": "stream",
     "text": [
      "0\n"
     ]
    },
    {
     "name": "stderr",
     "output_type": "stream",
     "text": [
      "0it [00:00, ?it/s]\n",
      " 26%|██▋       | 264/1000 [08:11<04:16,  2.87it/s]"
     ]
    },
    {
     "name": "stdout",
     "output_type": "stream",
     "text": [
      "0\n"
     ]
    },
    {
     "name": "stderr",
     "output_type": "stream",
     "text": [
      "100%|██████████| 1/1 [00:00<00:00,  3.68it/s]\n",
      " 26%|██▋       | 265/1000 [08:12<05:28,  2.24it/s]"
     ]
    },
    {
     "name": "stdout",
     "output_type": "stream",
     "text": [
      "1\n"
     ]
    },
    {
     "name": "stderr",
     "output_type": "stream",
     "text": [
      "0it [00:00, ?it/s]\n",
      " 27%|██▋       | 266/1000 [08:12<04:54,  2.49it/s]"
     ]
    },
    {
     "name": "stdout",
     "output_type": "stream",
     "text": [
      "0\n"
     ]
    },
    {
     "name": "stderr",
     "output_type": "stream",
     "text": [
      "0it [00:00, ?it/s]\n",
      " 27%|██▋       | 267/1000 [08:13<04:15,  2.87it/s]"
     ]
    },
    {
     "name": "stdout",
     "output_type": "stream",
     "text": [
      "0\n"
     ]
    },
    {
     "name": "stderr",
     "output_type": "stream",
     "text": [
      "0it [00:00, ?it/s]\n",
      " 27%|██▋       | 268/1000 [08:13<03:44,  3.25it/s]"
     ]
    },
    {
     "name": "stdout",
     "output_type": "stream",
     "text": [
      "0\n"
     ]
    },
    {
     "name": "stderr",
     "output_type": "stream",
     "text": [
      "100%|██████████| 1/1 [00:00<00:00,  5.00it/s]\n",
      " 27%|██▋       | 269/1000 [08:13<04:23,  2.77it/s]"
     ]
    },
    {
     "name": "stdout",
     "output_type": "stream",
     "text": [
      "1\n"
     ]
    },
    {
     "name": "stderr",
     "output_type": "stream",
     "text": [
      "100%|██████████| 1/1 [00:00<00:00,  4.81it/s]\n",
      " 27%|██▋       | 270/1000 [08:14<04:39,  2.62it/s]"
     ]
    },
    {
     "name": "stdout",
     "output_type": "stream",
     "text": [
      "1\n"
     ]
    },
    {
     "name": "stderr",
     "output_type": "stream",
     "text": [
      "100%|██████████| 1/1 [00:00<00:00,  4.73it/s]\n",
      " 27%|██▋       | 271/1000 [08:15<06:43,  1.81it/s]"
     ]
    },
    {
     "name": "stdout",
     "output_type": "stream",
     "text": [
      "2\n"
     ]
    },
    {
     "name": "stderr",
     "output_type": "stream",
     "text": [
      "0it [00:00, ?it/s]\n",
      " 27%|██▋       | 272/1000 [08:15<05:38,  2.15it/s]"
     ]
    },
    {
     "name": "stdout",
     "output_type": "stream",
     "text": [
      "0\n"
     ]
    },
    {
     "name": "stderr",
     "output_type": "stream",
     "text": [
      "100%|██████████| 1/1 [00:00<00:00,  3.25it/s]\n",
      " 27%|██▋       | 273/1000 [08:15<05:57,  2.04it/s]"
     ]
    },
    {
     "name": "stdout",
     "output_type": "stream",
     "text": [
      "1\n"
     ]
    },
    {
     "name": "stderr",
     "output_type": "stream",
     "text": [
      "100%|██████████| 1/1 [00:00<00:00,  3.86it/s]\n",
      " 27%|██▋       | 274/1000 [08:16<06:03,  1.99it/s]"
     ]
    },
    {
     "name": "stdout",
     "output_type": "stream",
     "text": [
      "1\n"
     ]
    },
    {
     "name": "stderr",
     "output_type": "stream",
     "text": [
      "0it [00:00, ?it/s]\n",
      " 28%|██▊       | 275/1000 [08:16<05:03,  2.39it/s]"
     ]
    },
    {
     "name": "stdout",
     "output_type": "stream",
     "text": [
      "0\n"
     ]
    },
    {
     "name": "stderr",
     "output_type": "stream",
     "text": [
      "0it [00:00, ?it/s]\n",
      " 28%|██▊       | 276/1000 [08:16<04:25,  2.73it/s]"
     ]
    },
    {
     "name": "stdout",
     "output_type": "stream",
     "text": [
      "0\n"
     ]
    },
    {
     "name": "stderr",
     "output_type": "stream",
     "text": [
      "0it [00:00, ?it/s]\n",
      " 28%|██▊       | 277/1000 [08:17<04:27,  2.70it/s]"
     ]
    },
    {
     "name": "stdout",
     "output_type": "stream",
     "text": [
      "0\n"
     ]
    },
    {
     "name": "stderr",
     "output_type": "stream",
     "text": [
      "100%|██████████| 1/1 [00:00<00:00,  2.95it/s]\n",
      " 28%|██▊       | 278/1000 [08:17<05:08,  2.34it/s]"
     ]
    },
    {
     "name": "stdout",
     "output_type": "stream",
     "text": [
      "1\n"
     ]
    },
    {
     "name": "stderr",
     "output_type": "stream",
     "text": [
      "0it [00:00, ?it/s]\n",
      " 28%|██▊       | 279/1000 [08:18<04:48,  2.50it/s]"
     ]
    },
    {
     "name": "stdout",
     "output_type": "stream",
     "text": [
      "0\n"
     ]
    },
    {
     "name": "stderr",
     "output_type": "stream",
     "text": [
      "0it [00:00, ?it/s]\n",
      " 28%|██▊       | 280/1000 [08:18<04:24,  2.72it/s]"
     ]
    },
    {
     "name": "stdout",
     "output_type": "stream",
     "text": [
      "0\n"
     ]
    },
    {
     "name": "stderr",
     "output_type": "stream",
     "text": [
      "100%|██████████| 2/2 [00:01<00:00,  1.99it/s]\n",
      " 28%|██▊       | 281/1000 [08:19<08:07,  1.47it/s]"
     ]
    },
    {
     "name": "stdout",
     "output_type": "stream",
     "text": [
      "40\n"
     ]
    },
    {
     "name": "stderr",
     "output_type": "stream",
     "text": [
      "0it [00:00, ?it/s]\n",
      " 28%|██▊       | 282/1000 [08:20<07:47,  1.54it/s]"
     ]
    },
    {
     "name": "stdout",
     "output_type": "stream",
     "text": [
      "0\n"
     ]
    },
    {
     "name": "stderr",
     "output_type": "stream",
     "text": [
      "0it [00:00, ?it/s]\n",
      " 28%|██▊       | 283/1000 [08:21<07:07,  1.68it/s]"
     ]
    },
    {
     "name": "stdout",
     "output_type": "stream",
     "text": [
      "0\n"
     ]
    },
    {
     "name": "stderr",
     "output_type": "stream",
     "text": [
      "0it [00:00, ?it/s]\n",
      " 28%|██▊       | 284/1000 [08:21<06:24,  1.86it/s]"
     ]
    },
    {
     "name": "stdout",
     "output_type": "stream",
     "text": [
      "0\n"
     ]
    },
    {
     "name": "stderr",
     "output_type": "stream",
     "text": [
      "100%|██████████| 1/1 [00:00<00:00,  3.62it/s]\n",
      " 28%|██▊       | 285/1000 [08:22<06:48,  1.75it/s]"
     ]
    },
    {
     "name": "stdout",
     "output_type": "stream",
     "text": [
      "3\n"
     ]
    },
    {
     "name": "stderr",
     "output_type": "stream",
     "text": [
      "0it [00:00, ?it/s]\n",
      " 29%|██▊       | 286/1000 [08:22<06:27,  1.84it/s]"
     ]
    },
    {
     "name": "stdout",
     "output_type": "stream",
     "text": [
      "0\n"
     ]
    },
    {
     "name": "stderr",
     "output_type": "stream",
     "text": [
      "0it [00:00, ?it/s]\n",
      " 29%|██▊       | 287/1000 [08:22<05:10,  2.30it/s]"
     ]
    },
    {
     "name": "stdout",
     "output_type": "stream",
     "text": [
      "0\n"
     ]
    },
    {
     "name": "stderr",
     "output_type": "stream",
     "text": [
      "100%|██████████| 1/1 [00:00<00:00,  1.62it/s]\n",
      " 29%|██▉       | 288/1000 [08:23<07:22,  1.61it/s]"
     ]
    },
    {
     "name": "stdout",
     "output_type": "stream",
     "text": [
      "2\n"
     ]
    },
    {
     "name": "stderr",
     "output_type": "stream",
     "text": [
      "0it [00:00, ?it/s]\n",
      " 29%|██▉       | 289/1000 [08:23<05:48,  2.04it/s]"
     ]
    },
    {
     "name": "stdout",
     "output_type": "stream",
     "text": [
      "0\n"
     ]
    },
    {
     "name": "stderr",
     "output_type": "stream",
     "text": [
      "100%|██████████| 1/1 [00:00<00:00,  4.50it/s]\n",
      " 29%|██▉       | 290/1000 [08:24<06:15,  1.89it/s]"
     ]
    },
    {
     "name": "stdout",
     "output_type": "stream",
     "text": [
      "1\n"
     ]
    },
    {
     "name": "stderr",
     "output_type": "stream",
     "text": [
      "0it [00:00, ?it/s]\n",
      " 29%|██▉       | 291/1000 [08:24<05:01,  2.35it/s]"
     ]
    },
    {
     "name": "stdout",
     "output_type": "stream",
     "text": [
      "0\n"
     ]
    },
    {
     "name": "stderr",
     "output_type": "stream",
     "text": [
      "0it [00:00, ?it/s]\n",
      " 29%|██▉       | 292/1000 [08:25<04:20,  2.71it/s]"
     ]
    },
    {
     "name": "stdout",
     "output_type": "stream",
     "text": [
      "0\n"
     ]
    },
    {
     "name": "stderr",
     "output_type": "stream",
     "text": [
      "0it [00:00, ?it/s]\n",
      " 29%|██▉       | 293/1000 [08:25<03:57,  2.98it/s]"
     ]
    },
    {
     "name": "stdout",
     "output_type": "stream",
     "text": [
      "0\n"
     ]
    },
    {
     "name": "stderr",
     "output_type": "stream",
     "text": [
      "0it [00:00, ?it/s]\n",
      " 29%|██▉       | 294/1000 [08:25<05:08,  2.29it/s]"
     ]
    },
    {
     "name": "stdout",
     "output_type": "stream",
     "text": [
      "0\n"
     ]
    },
    {
     "name": "stderr",
     "output_type": "stream",
     "text": [
      "0it [00:00, ?it/s]\n",
      " 30%|██▉       | 295/1000 [08:26<04:13,  2.78it/s]"
     ]
    },
    {
     "name": "stdout",
     "output_type": "stream",
     "text": [
      "0\n"
     ]
    },
    {
     "name": "stderr",
     "output_type": "stream",
     "text": [
      "0it [00:00, ?it/s]\n",
      " 30%|██▉       | 296/1000 [08:26<03:41,  3.18it/s]"
     ]
    },
    {
     "name": "stdout",
     "output_type": "stream",
     "text": [
      "0\n"
     ]
    },
    {
     "name": "stderr",
     "output_type": "stream",
     "text": [
      "0it [00:00, ?it/s]\n",
      " 30%|██▉       | 297/1000 [08:26<03:24,  3.44it/s]"
     ]
    },
    {
     "name": "stdout",
     "output_type": "stream",
     "text": [
      "0\n"
     ]
    },
    {
     "name": "stderr",
     "output_type": "stream",
     "text": [
      "0it [00:00, ?it/s]\n",
      " 30%|██▉       | 298/1000 [08:27<03:57,  2.95it/s]"
     ]
    },
    {
     "name": "stdout",
     "output_type": "stream",
     "text": [
      "0\n"
     ]
    },
    {
     "name": "stderr",
     "output_type": "stream",
     "text": [
      "0it [00:00, ?it/s]\n",
      " 30%|██▉       | 299/1000 [08:27<03:57,  2.96it/s]"
     ]
    },
    {
     "name": "stdout",
     "output_type": "stream",
     "text": [
      "0\n"
     ]
    },
    {
     "name": "stderr",
     "output_type": "stream",
     "text": [
      "0it [00:00, ?it/s]\n",
      " 30%|███       | 300/1000 [08:27<03:23,  3.44it/s]"
     ]
    },
    {
     "name": "stdout",
     "output_type": "stream",
     "text": [
      "0\n"
     ]
    },
    {
     "name": "stderr",
     "output_type": "stream",
     "text": [
      "100%|██████████| 1/1 [00:00<00:00,  3.53it/s]\n",
      " 30%|███       | 301/1000 [08:28<05:47,  2.01it/s]"
     ]
    },
    {
     "name": "stdout",
     "output_type": "stream",
     "text": [
      "11\n"
     ]
    },
    {
     "name": "stderr",
     "output_type": "stream",
     "text": [
      "0it [00:00, ?it/s]\n",
      " 30%|███       | 302/1000 [08:29<06:27,  1.80it/s]"
     ]
    },
    {
     "name": "stdout",
     "output_type": "stream",
     "text": [
      "0\n"
     ]
    },
    {
     "name": "stderr",
     "output_type": "stream",
     "text": [
      "100%|██████████| 1/1 [00:00<00:00,  3.64it/s]\n",
      " 30%|███       | 303/1000 [08:29<06:54,  1.68it/s]"
     ]
    },
    {
     "name": "stdout",
     "output_type": "stream",
     "text": [
      "1\n"
     ]
    },
    {
     "name": "stderr",
     "output_type": "stream",
     "text": [
      "0it [00:00, ?it/s]\n",
      " 30%|███       | 304/1000 [08:30<05:45,  2.02it/s]"
     ]
    },
    {
     "name": "stdout",
     "output_type": "stream",
     "text": [
      "0\n"
     ]
    },
    {
     "name": "stderr",
     "output_type": "stream",
     "text": [
      "0it [00:00, ?it/s]\n",
      " 30%|███       | 305/1000 [08:30<04:41,  2.46it/s]"
     ]
    },
    {
     "name": "stdout",
     "output_type": "stream",
     "text": [
      "0\n"
     ]
    },
    {
     "name": "stderr",
     "output_type": "stream",
     "text": [
      "100%|██████████| 1/1 [00:00<00:00,  1.26it/s]\n",
      " 31%|███       | 306/1000 [08:31<07:31,  1.54it/s]"
     ]
    },
    {
     "name": "stdout",
     "output_type": "stream",
     "text": [
      "20\n"
     ]
    },
    {
     "name": "stderr",
     "output_type": "stream",
     "text": [
      "0it [00:00, ?it/s]\n",
      " 31%|███       | 307/1000 [08:31<05:51,  1.97it/s]"
     ]
    },
    {
     "name": "stdout",
     "output_type": "stream",
     "text": [
      "0\n"
     ]
    },
    {
     "name": "stderr",
     "output_type": "stream",
     "text": [
      "0it [00:00, ?it/s]\n",
      " 31%|███       | 308/1000 [08:31<04:45,  2.42it/s]"
     ]
    },
    {
     "name": "stdout",
     "output_type": "stream",
     "text": [
      "0\n"
     ]
    },
    {
     "name": "stderr",
     "output_type": "stream",
     "text": [
      "0it [00:00, ?it/s]\n",
      " 31%|███       | 309/1000 [08:32<04:16,  2.69it/s]"
     ]
    },
    {
     "name": "stdout",
     "output_type": "stream",
     "text": [
      "0\n"
     ]
    },
    {
     "name": "stderr",
     "output_type": "stream",
     "text": [
      "0it [00:00, ?it/s]\n",
      " 31%|███       | 310/1000 [08:32<05:31,  2.08it/s]"
     ]
    },
    {
     "name": "stdout",
     "output_type": "stream",
     "text": [
      "0\n"
     ]
    },
    {
     "name": "stderr",
     "output_type": "stream",
     "text": [
      "0it [00:00, ?it/s]\n",
      " 31%|███       | 311/1000 [08:33<05:07,  2.24it/s]"
     ]
    },
    {
     "name": "stdout",
     "output_type": "stream",
     "text": [
      "0\n"
     ]
    },
    {
     "name": "stderr",
     "output_type": "stream",
     "text": [
      "0it [00:00, ?it/s]\n",
      " 31%|███       | 312/1000 [08:33<04:36,  2.49it/s]"
     ]
    },
    {
     "name": "stdout",
     "output_type": "stream",
     "text": [
      "0\n"
     ]
    },
    {
     "name": "stderr",
     "output_type": "stream",
     "text": [
      "0it [00:00, ?it/s]\n",
      " 31%|███▏      | 313/1000 [08:33<04:09,  2.76it/s]"
     ]
    },
    {
     "name": "stdout",
     "output_type": "stream",
     "text": [
      "0\n"
     ]
    },
    {
     "name": "stderr",
     "output_type": "stream",
     "text": [
      "0it [00:00, ?it/s]\n",
      " 31%|███▏      | 314/1000 [08:34<03:38,  3.15it/s]"
     ]
    },
    {
     "name": "stdout",
     "output_type": "stream",
     "text": [
      "0\n"
     ]
    },
    {
     "name": "stderr",
     "output_type": "stream",
     "text": [
      "0it [00:00, ?it/s]\n",
      " 32%|███▏      | 315/1000 [08:34<03:08,  3.63it/s]"
     ]
    },
    {
     "name": "stdout",
     "output_type": "stream",
     "text": [
      "0\n"
     ]
    },
    {
     "name": "stderr",
     "output_type": "stream",
     "text": [
      "100%|██████████| 1/1 [00:00<00:00,  3.19it/s]\n",
      " 32%|███▏      | 316/1000 [08:34<04:12,  2.71it/s]"
     ]
    },
    {
     "name": "stdout",
     "output_type": "stream",
     "text": [
      "4\n"
     ]
    },
    {
     "name": "stderr",
     "output_type": "stream",
     "text": [
      "0it [00:00, ?it/s]\n",
      " 32%|███▏      | 317/1000 [08:35<03:39,  3.11it/s]"
     ]
    },
    {
     "name": "stdout",
     "output_type": "stream",
     "text": [
      "0\n"
     ]
    },
    {
     "name": "stderr",
     "output_type": "stream",
     "text": [
      "0it [00:00, ?it/s]\n",
      " 32%|███▏      | 318/1000 [08:35<03:26,  3.30it/s]"
     ]
    },
    {
     "name": "stdout",
     "output_type": "stream",
     "text": [
      "0\n"
     ]
    },
    {
     "name": "stderr",
     "output_type": "stream",
     "text": [
      "100%|██████████| 1/1 [00:00<00:00,  4.64it/s]\n",
      " 32%|███▏      | 319/1000 [08:35<03:48,  2.98it/s]"
     ]
    },
    {
     "name": "stdout",
     "output_type": "stream",
     "text": [
      "1\n"
     ]
    },
    {
     "name": "stderr",
     "output_type": "stream",
     "text": [
      "0it [00:00, ?it/s]\n",
      " 32%|███▏      | 320/1000 [08:35<03:15,  3.47it/s]"
     ]
    },
    {
     "name": "stdout",
     "output_type": "stream",
     "text": [
      "0\n"
     ]
    },
    {
     "name": "stderr",
     "output_type": "stream",
     "text": [
      "0it [00:00, ?it/s]\n",
      " 32%|███▏      | 321/1000 [08:36<03:45,  3.02it/s]"
     ]
    },
    {
     "name": "stdout",
     "output_type": "stream",
     "text": [
      "0\n"
     ]
    },
    {
     "name": "stderr",
     "output_type": "stream",
     "text": [
      "0it [00:00, ?it/s]\n",
      " 32%|███▏      | 322/1000 [08:36<03:28,  3.25it/s]"
     ]
    },
    {
     "name": "stdout",
     "output_type": "stream",
     "text": [
      "0\n"
     ]
    },
    {
     "name": "stderr",
     "output_type": "stream",
     "text": [
      "0it [00:00, ?it/s]\n",
      " 32%|███▏      | 323/1000 [08:36<03:05,  3.65it/s]"
     ]
    },
    {
     "name": "stdout",
     "output_type": "stream",
     "text": [
      "0\n"
     ]
    },
    {
     "name": "stderr",
     "output_type": "stream",
     "text": [
      "0it [00:00, ?it/s]\n",
      " 32%|███▏      | 324/1000 [08:37<02:58,  3.78it/s]"
     ]
    },
    {
     "name": "stdout",
     "output_type": "stream",
     "text": [
      "0\n"
     ]
    },
    {
     "name": "stderr",
     "output_type": "stream",
     "text": [
      "100%|██████████| 1/1 [00:00<00:00,  5.57it/s]\n",
      " 32%|███▎      | 325/1000 [08:37<04:13,  2.66it/s]"
     ]
    },
    {
     "name": "stdout",
     "output_type": "stream",
     "text": [
      "1\n"
     ]
    },
    {
     "name": "stderr",
     "output_type": "stream",
     "text": [
      "0it [00:00, ?it/s]\n",
      " 33%|███▎      | 326/1000 [08:37<03:48,  2.95it/s]"
     ]
    },
    {
     "name": "stdout",
     "output_type": "stream",
     "text": [
      "0\n"
     ]
    },
    {
     "name": "stderr",
     "output_type": "stream",
     "text": [
      "0it [00:00, ?it/s]\n",
      " 33%|███▎      | 327/1000 [08:38<03:40,  3.05it/s]"
     ]
    },
    {
     "name": "stdout",
     "output_type": "stream",
     "text": [
      "0\n"
     ]
    },
    {
     "name": "stderr",
     "output_type": "stream",
     "text": [
      "0it [00:00, ?it/s]\n",
      " 33%|███▎      | 328/1000 [08:38<03:14,  3.45it/s]"
     ]
    },
    {
     "name": "stdout",
     "output_type": "stream",
     "text": [
      "0\n"
     ]
    },
    {
     "name": "stderr",
     "output_type": "stream",
     "text": [
      "0it [00:00, ?it/s]\n",
      " 33%|███▎      | 329/1000 [08:38<02:50,  3.94it/s]"
     ]
    },
    {
     "name": "stdout",
     "output_type": "stream",
     "text": [
      "0\n"
     ]
    },
    {
     "name": "stderr",
     "output_type": "stream",
     "text": [
      "100%|██████████| 1/1 [00:00<00:00,  3.65it/s]\n",
      " 33%|███▎      | 330/1000 [08:39<03:37,  3.08it/s]"
     ]
    },
    {
     "name": "stdout",
     "output_type": "stream",
     "text": [
      "1\n"
     ]
    },
    {
     "name": "stderr",
     "output_type": "stream",
     "text": [
      "0it [00:00, ?it/s]\n",
      " 33%|███▎      | 331/1000 [08:39<03:08,  3.55it/s]"
     ]
    },
    {
     "name": "stdout",
     "output_type": "stream",
     "text": [
      "0\n"
     ]
    },
    {
     "name": "stderr",
     "output_type": "stream",
     "text": [
      "100%|██████████| 1/1 [00:00<00:00,  4.68it/s]\n",
      " 33%|███▎      | 332/1000 [08:39<03:41,  3.02it/s]"
     ]
    },
    {
     "name": "stdout",
     "output_type": "stream",
     "text": [
      "2\n"
     ]
    },
    {
     "name": "stderr",
     "output_type": "stream",
     "text": [
      "100%|██████████| 1/1 [00:00<00:00,  1.96it/s]\n",
      " 33%|███▎      | 333/1000 [08:40<06:06,  1.82it/s]"
     ]
    },
    {
     "name": "stdout",
     "output_type": "stream",
     "text": [
      "1\n"
     ]
    },
    {
     "name": "stderr",
     "output_type": "stream",
     "text": [
      "0it [00:00, ?it/s]\n",
      " 33%|███▎      | 334/1000 [08:41<05:56,  1.87it/s]"
     ]
    },
    {
     "name": "stdout",
     "output_type": "stream",
     "text": [
      "0\n"
     ]
    },
    {
     "name": "stderr",
     "output_type": "stream",
     "text": [
      "0it [00:00, ?it/s]\n",
      " 34%|███▎      | 335/1000 [08:41<05:10,  2.15it/s]"
     ]
    },
    {
     "name": "stdout",
     "output_type": "stream",
     "text": [
      "0\n"
     ]
    },
    {
     "name": "stderr",
     "output_type": "stream",
     "text": [
      "100%|██████████| 4/4 [00:02<00:00,  1.76it/s]\n",
      " 34%|███▎      | 336/1000 [08:44<12:45,  1.15s/it]"
     ]
    },
    {
     "name": "stdout",
     "output_type": "stream",
     "text": [
      "64\n"
     ]
    },
    {
     "name": "stderr",
     "output_type": "stream",
     "text": [
      "100%|██████████| 4/4 [00:02<00:00,  1.72it/s]\n",
      " 34%|███▎      | 337/1000 [08:48<21:15,  1.92s/it]"
     ]
    },
    {
     "name": "stdout",
     "output_type": "stream",
     "text": [
      "67\n"
     ]
    },
    {
     "name": "stderr",
     "output_type": "stream",
     "text": [
      "100%|██████████| 4/4 [00:02<00:00,  1.78it/s]\n",
      " 34%|███▍      | 338/1000 [08:51<25:13,  2.29s/it]"
     ]
    },
    {
     "name": "stdout",
     "output_type": "stream",
     "text": [
      "80\n"
     ]
    },
    {
     "name": "stderr",
     "output_type": "stream",
     "text": [
      "100%|██████████| 7/7 [00:04<00:00,  1.49it/s]\n",
      " 34%|███▍      | 339/1000 [08:56<34:32,  3.14s/it]"
     ]
    },
    {
     "name": "stdout",
     "output_type": "stream",
     "text": [
      "126\n"
     ]
    },
    {
     "name": "stderr",
     "output_type": "stream",
     "text": [
      "0it [00:00, ?it/s]\n",
      " 34%|███▍      | 340/1000 [08:56<24:44,  2.25s/it]"
     ]
    },
    {
     "name": "stdout",
     "output_type": "stream",
     "text": [
      "0\n"
     ]
    },
    {
     "name": "stderr",
     "output_type": "stream",
     "text": [
      "100%|██████████| 2/2 [00:01<00:00,  1.41it/s]\n",
      " 34%|███▍      | 341/1000 [08:58<23:41,  2.16s/it]"
     ]
    },
    {
     "name": "stdout",
     "output_type": "stream",
     "text": [
      "38\n"
     ]
    },
    {
     "name": "stderr",
     "output_type": "stream",
     "text": [
      "100%|██████████| 1/1 [00:00<00:00,  4.89it/s]\n",
      " 34%|███▍      | 342/1000 [08:58<18:00,  1.64s/it]"
     ]
    },
    {
     "name": "stdout",
     "output_type": "stream",
     "text": [
      "1\n"
     ]
    },
    {
     "name": "stderr",
     "output_type": "stream",
     "text": [
      "100%|██████████| 1/1 [00:00<00:00,  2.31it/s]\n",
      " 34%|███▍      | 343/1000 [08:59<14:42,  1.34s/it]"
     ]
    },
    {
     "name": "stdout",
     "output_type": "stream",
     "text": [
      "2\n"
     ]
    },
    {
     "name": "stderr",
     "output_type": "stream",
     "text": [
      "0it [00:00, ?it/s]\n",
      " 34%|███▍      | 344/1000 [09:00<12:18,  1.13s/it]"
     ]
    },
    {
     "name": "stdout",
     "output_type": "stream",
     "text": [
      "0\n"
     ]
    },
    {
     "name": "stderr",
     "output_type": "stream",
     "text": [
      "0it [00:00, ?it/s]\n",
      " 34%|███▍      | 345/1000 [09:00<09:20,  1.17it/s]"
     ]
    },
    {
     "name": "stdout",
     "output_type": "stream",
     "text": [
      "0\n"
     ]
    },
    {
     "name": "stderr",
     "output_type": "stream",
     "text": [
      "100%|██████████| 1/1 [00:00<00:00,  1.33it/s]\n",
      " 35%|███▍      | 346/1000 [09:01<09:46,  1.12it/s]"
     ]
    },
    {
     "name": "stdout",
     "output_type": "stream",
     "text": [
      "1\n"
     ]
    },
    {
     "name": "stderr",
     "output_type": "stream",
     "text": [
      "0it [00:00, ?it/s]\n",
      " 35%|███▍      | 347/1000 [09:01<07:37,  1.43it/s]"
     ]
    },
    {
     "name": "stdout",
     "output_type": "stream",
     "text": [
      "0\n"
     ]
    },
    {
     "name": "stderr",
     "output_type": "stream",
     "text": [
      "0it [00:00, ?it/s]\n",
      " 35%|███▍      | 348/1000 [09:02<07:13,  1.50it/s]"
     ]
    },
    {
     "name": "stdout",
     "output_type": "stream",
     "text": [
      "0\n"
     ]
    },
    {
     "name": "stderr",
     "output_type": "stream",
     "text": [
      "0it [00:00, ?it/s]\n",
      " 35%|███▍      | 349/1000 [09:02<05:57,  1.82it/s]"
     ]
    },
    {
     "name": "stdout",
     "output_type": "stream",
     "text": [
      "0\n"
     ]
    },
    {
     "name": "stderr",
     "output_type": "stream",
     "text": [
      "0it [00:00, ?it/s]\n",
      " 35%|███▌      | 350/1000 [09:02<04:53,  2.22it/s]"
     ]
    },
    {
     "name": "stdout",
     "output_type": "stream",
     "text": [
      "0\n"
     ]
    },
    {
     "name": "stderr",
     "output_type": "stream",
     "text": [
      "100%|██████████| 9/9 [00:04<00:00,  1.92it/s]\n",
      " 35%|███▌      | 351/1000 [09:07<20:04,  1.86s/it]"
     ]
    },
    {
     "name": "stdout",
     "output_type": "stream",
     "text": [
      "164\n"
     ]
    },
    {
     "name": "stderr",
     "output_type": "stream",
     "text": [
      "100%|██████████| 1/1 [00:00<00:00,  2.86it/s]\n",
      " 35%|███▌      | 352/1000 [09:08<16:33,  1.53s/it]"
     ]
    },
    {
     "name": "stdout",
     "output_type": "stream",
     "text": [
      "7\n"
     ]
    },
    {
     "name": "stderr",
     "output_type": "stream",
     "text": [
      "100%|██████████| 1/1 [00:00<00:00,  1.05it/s]\n",
      " 35%|███▌      | 353/1000 [09:09<16:03,  1.49s/it]"
     ]
    },
    {
     "name": "stdout",
     "output_type": "stream",
     "text": [
      "15\n"
     ]
    },
    {
     "name": "stderr",
     "output_type": "stream",
     "text": [
      "0it [00:00, ?it/s]\n",
      " 35%|███▌      | 354/1000 [09:10<11:48,  1.10s/it]"
     ]
    },
    {
     "name": "stdout",
     "output_type": "stream",
     "text": [
      "0\n"
     ]
    },
    {
     "name": "stderr",
     "output_type": "stream",
     "text": [
      "0it [00:00, ?it/s]\n",
      " 36%|███▌      | 355/1000 [09:10<08:57,  1.20it/s]"
     ]
    },
    {
     "name": "stdout",
     "output_type": "stream",
     "text": [
      "0\n"
     ]
    },
    {
     "name": "stderr",
     "output_type": "stream",
     "text": [
      "100%|██████████| 2/2 [00:00<00:00,  2.20it/s]\n",
      " 36%|███▌      | 356/1000 [09:12<12:31,  1.17s/it]"
     ]
    },
    {
     "name": "stdout",
     "output_type": "stream",
     "text": [
      "25\n"
     ]
    },
    {
     "name": "stderr",
     "output_type": "stream",
     "text": [
      "100%|██████████| 2/2 [00:01<00:00,  1.98it/s]\n",
      " 36%|███▌      | 357/1000 [09:13<13:22,  1.25s/it]"
     ]
    },
    {
     "name": "stdout",
     "output_type": "stream",
     "text": [
      "25\n"
     ]
    },
    {
     "name": "stderr",
     "output_type": "stream",
     "text": [
      "100%|██████████| 1/1 [00:00<00:00,  3.40it/s]\n",
      " 36%|███▌      | 358/1000 [09:14<11:08,  1.04s/it]"
     ]
    },
    {
     "name": "stdout",
     "output_type": "stream",
     "text": [
      "2\n"
     ]
    },
    {
     "name": "stderr",
     "output_type": "stream",
     "text": [
      "100%|██████████| 2/2 [00:00<00:00,  2.22it/s]\n",
      " 36%|███▌      | 359/1000 [09:15<11:54,  1.11s/it]"
     ]
    },
    {
     "name": "stdout",
     "output_type": "stream",
     "text": [
      "26\n"
     ]
    },
    {
     "name": "stderr",
     "output_type": "stream",
     "text": [
      "0it [00:00, ?it/s]\n",
      " 36%|███▌      | 360/1000 [09:15<09:24,  1.13it/s]"
     ]
    },
    {
     "name": "stdout",
     "output_type": "stream",
     "text": [
      "0\n"
     ]
    },
    {
     "name": "stderr",
     "output_type": "stream",
     "text": [
      "0it [00:00, ?it/s]\n",
      " 36%|███▌      | 361/1000 [09:16<08:02,  1.32it/s]"
     ]
    },
    {
     "name": "stdout",
     "output_type": "stream",
     "text": [
      "0\n"
     ]
    },
    {
     "name": "stderr",
     "output_type": "stream",
     "text": [
      "100%|██████████| 1/1 [00:00<00:00,  5.90it/s]\n",
      " 36%|███▌      | 362/1000 [09:16<07:07,  1.49it/s]"
     ]
    },
    {
     "name": "stdout",
     "output_type": "stream",
     "text": [
      "1\n"
     ]
    },
    {
     "name": "stderr",
     "output_type": "stream",
     "text": [
      "0it [00:00, ?it/s]\n",
      " 36%|███▋      | 363/1000 [09:17<05:42,  1.86it/s]"
     ]
    },
    {
     "name": "stdout",
     "output_type": "stream",
     "text": [
      "0\n"
     ]
    },
    {
     "name": "stderr",
     "output_type": "stream",
     "text": [
      "100%|██████████| 1/1 [00:00<00:00,  2.25it/s]\n",
      " 36%|███▋      | 364/1000 [09:17<06:17,  1.69it/s]"
     ]
    },
    {
     "name": "stdout",
     "output_type": "stream",
     "text": [
      "7\n"
     ]
    },
    {
     "name": "stderr",
     "output_type": "stream",
     "text": [
      "0it [00:00, ?it/s]\n",
      " 36%|███▋      | 365/1000 [09:18<05:24,  1.95it/s]"
     ]
    },
    {
     "name": "stdout",
     "output_type": "stream",
     "text": [
      "0\n"
     ]
    },
    {
     "name": "stderr",
     "output_type": "stream",
     "text": [
      "0it [00:00, ?it/s]\n",
      " 37%|███▋      | 366/1000 [09:18<04:22,  2.42it/s]"
     ]
    },
    {
     "name": "stdout",
     "output_type": "stream",
     "text": [
      "0\n"
     ]
    },
    {
     "name": "stderr",
     "output_type": "stream",
     "text": [
      "0it [00:00, ?it/s]\n",
      " 37%|███▋      | 367/1000 [09:18<04:20,  2.43it/s]"
     ]
    },
    {
     "name": "stdout",
     "output_type": "stream",
     "text": [
      "0\n"
     ]
    },
    {
     "name": "stderr",
     "output_type": "stream",
     "text": [
      "0it [00:00, ?it/s]\n",
      " 37%|███▋      | 368/1000 [09:19<04:24,  2.39it/s]"
     ]
    },
    {
     "name": "stdout",
     "output_type": "stream",
     "text": [
      "0\n"
     ]
    },
    {
     "name": "stderr",
     "output_type": "stream",
     "text": [
      "0it [00:00, ?it/s]\n",
      " 37%|███▋      | 369/1000 [09:19<03:45,  2.80it/s]"
     ]
    },
    {
     "name": "stdout",
     "output_type": "stream",
     "text": [
      "0\n"
     ]
    },
    {
     "name": "stderr",
     "output_type": "stream",
     "text": [
      "0it [00:00, ?it/s]\n",
      " 37%|███▋      | 370/1000 [09:19<03:52,  2.71it/s]"
     ]
    },
    {
     "name": "stdout",
     "output_type": "stream",
     "text": [
      "0\n"
     ]
    },
    {
     "name": "stderr",
     "output_type": "stream",
     "text": [
      "0it [00:00, ?it/s]\n",
      " 37%|███▋      | 371/1000 [09:20<03:51,  2.71it/s]"
     ]
    },
    {
     "name": "stdout",
     "output_type": "stream",
     "text": [
      "0\n"
     ]
    },
    {
     "name": "stderr",
     "output_type": "stream",
     "text": [
      "0it [00:00, ?it/s]\n",
      " 37%|███▋      | 372/1000 [09:20<03:32,  2.96it/s]"
     ]
    },
    {
     "name": "stdout",
     "output_type": "stream",
     "text": [
      "0\n"
     ]
    },
    {
     "name": "stderr",
     "output_type": "stream",
     "text": [
      "0it [00:00, ?it/s]\n",
      " 37%|███▋      | 373/1000 [09:20<03:08,  3.33it/s]"
     ]
    },
    {
     "name": "stdout",
     "output_type": "stream",
     "text": [
      "0\n"
     ]
    },
    {
     "name": "stderr",
     "output_type": "stream",
     "text": [
      "100%|██████████| 1/1 [00:00<00:00,  4.21it/s]\n",
      " 37%|███▋      | 374/1000 [09:21<04:09,  2.51it/s]"
     ]
    },
    {
     "name": "stdout",
     "output_type": "stream",
     "text": [
      "1\n"
     ]
    },
    {
     "name": "stderr",
     "output_type": "stream",
     "text": [
      "100%|██████████| 1/1 [00:00<00:00,  4.37it/s]\n",
      " 38%|███▊      | 375/1000 [09:21<04:41,  2.22it/s]"
     ]
    },
    {
     "name": "stdout",
     "output_type": "stream",
     "text": [
      "1\n"
     ]
    },
    {
     "name": "stderr",
     "output_type": "stream",
     "text": [
      "0it [00:00, ?it/s]\n",
      " 38%|███▊      | 376/1000 [09:22<04:34,  2.27it/s]"
     ]
    },
    {
     "name": "stdout",
     "output_type": "stream",
     "text": [
      "0\n"
     ]
    },
    {
     "name": "stderr",
     "output_type": "stream",
     "text": [
      "0it [00:00, ?it/s]\n",
      " 38%|███▊      | 377/1000 [09:22<04:00,  2.59it/s]"
     ]
    },
    {
     "name": "stdout",
     "output_type": "stream",
     "text": [
      "0\n"
     ]
    },
    {
     "name": "stderr",
     "output_type": "stream",
     "text": [
      "100%|██████████| 1/1 [00:00<00:00,  1.97it/s]\n",
      " 38%|███▊      | 378/1000 [09:23<05:34,  1.86it/s]"
     ]
    },
    {
     "name": "stdout",
     "output_type": "stream",
     "text": [
      "11\n"
     ]
    },
    {
     "name": "stderr",
     "output_type": "stream",
     "text": [
      "0it [00:00, ?it/s]\n",
      " 38%|███▊      | 379/1000 [09:23<04:47,  2.16it/s]"
     ]
    },
    {
     "name": "stdout",
     "output_type": "stream",
     "text": [
      "0\n"
     ]
    },
    {
     "name": "stderr",
     "output_type": "stream",
     "text": [
      "0it [00:00, ?it/s]\n",
      " 38%|███▊      | 380/1000 [09:23<04:12,  2.46it/s]"
     ]
    },
    {
     "name": "stdout",
     "output_type": "stream",
     "text": [
      "0\n"
     ]
    },
    {
     "name": "stderr",
     "output_type": "stream",
     "text": [
      "100%|██████████| 1/1 [00:00<00:00,  3.22it/s]\n",
      " 38%|███▊      | 381/1000 [09:24<04:40,  2.20it/s]"
     ]
    },
    {
     "name": "stdout",
     "output_type": "stream",
     "text": [
      "7\n"
     ]
    },
    {
     "name": "stderr",
     "output_type": "stream",
     "text": [
      "0it [00:00, ?it/s]\n",
      " 38%|███▊      | 382/1000 [09:25<05:05,  2.02it/s]"
     ]
    },
    {
     "name": "stdout",
     "output_type": "stream",
     "text": [
      "0\n"
     ]
    },
    {
     "name": "stderr",
     "output_type": "stream",
     "text": [
      "0it [00:00, ?it/s]\n",
      " 38%|███▊      | 383/1000 [09:25<04:08,  2.48it/s]"
     ]
    },
    {
     "name": "stdout",
     "output_type": "stream",
     "text": [
      "0\n"
     ]
    },
    {
     "name": "stderr",
     "output_type": "stream",
     "text": [
      "0it [00:00, ?it/s]\n",
      " 38%|███▊      | 384/1000 [09:25<04:56,  2.08it/s]"
     ]
    },
    {
     "name": "stdout",
     "output_type": "stream",
     "text": [
      "0\n"
     ]
    },
    {
     "name": "stderr",
     "output_type": "stream",
     "text": [
      "0it [00:00, ?it/s]\n",
      " 38%|███▊      | 385/1000 [09:26<04:15,  2.40it/s]"
     ]
    },
    {
     "name": "stdout",
     "output_type": "stream",
     "text": [
      "0\n"
     ]
    },
    {
     "name": "stderr",
     "output_type": "stream",
     "text": [
      "0it [00:00, ?it/s]\n",
      " 39%|███▊      | 386/1000 [09:26<03:39,  2.79it/s]"
     ]
    },
    {
     "name": "stdout",
     "output_type": "stream",
     "text": [
      "0\n"
     ]
    },
    {
     "name": "stderr",
     "output_type": "stream",
     "text": [
      "0it [00:00, ?it/s]\n",
      " 39%|███▊      | 387/1000 [09:26<03:14,  3.15it/s]"
     ]
    },
    {
     "name": "stdout",
     "output_type": "stream",
     "text": [
      "0\n"
     ]
    },
    {
     "name": "stderr",
     "output_type": "stream",
     "text": [
      "0it [00:00, ?it/s]\n",
      " 39%|███▉      | 388/1000 [09:26<02:58,  3.43it/s]"
     ]
    },
    {
     "name": "stdout",
     "output_type": "stream",
     "text": [
      "0\n"
     ]
    },
    {
     "name": "stderr",
     "output_type": "stream",
     "text": [
      "0it [00:00, ?it/s]\n",
      " 39%|███▉      | 389/1000 [09:27<02:55,  3.48it/s]"
     ]
    },
    {
     "name": "stdout",
     "output_type": "stream",
     "text": [
      "0\n"
     ]
    },
    {
     "name": "stderr",
     "output_type": "stream",
     "text": [
      "0it [00:00, ?it/s]\n",
      " 39%|███▉      | 390/1000 [09:27<02:38,  3.84it/s]"
     ]
    },
    {
     "name": "stdout",
     "output_type": "stream",
     "text": [
      "0\n"
     ]
    },
    {
     "name": "stderr",
     "output_type": "stream",
     "text": [
      "100%|██████████| 1/1 [00:00<00:00,  3.52it/s]\n",
      " 39%|███▉      | 391/1000 [09:27<03:28,  2.92it/s]"
     ]
    },
    {
     "name": "stdout",
     "output_type": "stream",
     "text": [
      "1\n"
     ]
    },
    {
     "name": "stderr",
     "output_type": "stream",
     "text": [
      "0it [00:00, ?it/s]\n",
      " 39%|███▉      | 392/1000 [09:28<03:31,  2.87it/s]"
     ]
    },
    {
     "name": "stdout",
     "output_type": "stream",
     "text": [
      "0\n"
     ]
    },
    {
     "name": "stderr",
     "output_type": "stream",
     "text": [
      "0it [00:00, ?it/s]\n",
      " 39%|███▉      | 393/1000 [09:28<03:24,  2.97it/s]"
     ]
    },
    {
     "name": "stdout",
     "output_type": "stream",
     "text": [
      "0\n"
     ]
    },
    {
     "name": "stderr",
     "output_type": "stream",
     "text": [
      "100%|██████████| 1/1 [00:00<00:00,  3.35it/s]\n",
      " 39%|███▉      | 394/1000 [09:29<03:56,  2.56it/s]"
     ]
    },
    {
     "name": "stdout",
     "output_type": "stream",
     "text": [
      "2\n"
     ]
    },
    {
     "name": "stderr",
     "output_type": "stream",
     "text": [
      "0it [00:00, ?it/s]\n",
      " 40%|███▉      | 395/1000 [09:29<03:32,  2.85it/s]"
     ]
    },
    {
     "name": "stdout",
     "output_type": "stream",
     "text": [
      "0\n"
     ]
    },
    {
     "name": "stderr",
     "output_type": "stream",
     "text": [
      "0it [00:00, ?it/s]\n",
      " 40%|███▉      | 396/1000 [09:29<03:33,  2.83it/s]"
     ]
    },
    {
     "name": "stdout",
     "output_type": "stream",
     "text": [
      "0\n"
     ]
    },
    {
     "name": "stderr",
     "output_type": "stream",
     "text": [
      "100%|██████████| 1/1 [00:00<00:00,  4.27it/s]\n",
      " 40%|███▉      | 397/1000 [09:30<04:43,  2.12it/s]"
     ]
    },
    {
     "name": "stdout",
     "output_type": "stream",
     "text": [
      "1\n"
     ]
    },
    {
     "name": "stderr",
     "output_type": "stream",
     "text": [
      "0it [00:00, ?it/s]\n",
      " 40%|███▉      | 398/1000 [09:30<03:59,  2.51it/s]"
     ]
    },
    {
     "name": "stdout",
     "output_type": "stream",
     "text": [
      "0\n"
     ]
    },
    {
     "name": "stderr",
     "output_type": "stream",
     "text": [
      "0it [00:00, ?it/s]\n",
      " 40%|███▉      | 399/1000 [09:30<03:30,  2.86it/s]"
     ]
    },
    {
     "name": "stdout",
     "output_type": "stream",
     "text": [
      "0\n"
     ]
    },
    {
     "name": "stderr",
     "output_type": "stream",
     "text": [
      "0it [00:00, ?it/s]\n",
      " 40%|████      | 400/1000 [09:31<02:59,  3.35it/s]"
     ]
    },
    {
     "name": "stdout",
     "output_type": "stream",
     "text": [
      "0\n"
     ]
    },
    {
     "name": "stderr",
     "output_type": "stream",
     "text": [
      "100%|██████████| 3/3 [00:01<00:00,  1.92it/s]\n",
      " 40%|████      | 401/1000 [09:33<07:47,  1.28it/s]"
     ]
    },
    {
     "name": "stdout",
     "output_type": "stream",
     "text": [
      "46\n"
     ]
    },
    {
     "name": "stderr",
     "output_type": "stream",
     "text": [
      "0it [00:00, ?it/s]\n",
      " 40%|████      | 402/1000 [09:33<06:07,  1.63it/s]"
     ]
    },
    {
     "name": "stdout",
     "output_type": "stream",
     "text": [
      "0\n"
     ]
    },
    {
     "name": "stderr",
     "output_type": "stream",
     "text": [
      "0it [00:00, ?it/s]\n",
      " 40%|████      | 403/1000 [09:33<05:17,  1.88it/s]"
     ]
    },
    {
     "name": "stdout",
     "output_type": "stream",
     "text": [
      "0\n"
     ]
    },
    {
     "name": "stderr",
     "output_type": "stream",
     "text": [
      "0it [00:00, ?it/s]\n",
      " 40%|████      | 404/1000 [09:33<04:29,  2.21it/s]"
     ]
    },
    {
     "name": "stdout",
     "output_type": "stream",
     "text": [
      "0\n"
     ]
    },
    {
     "name": "stderr",
     "output_type": "stream",
     "text": [
      "0it [00:00, ?it/s]\n",
      " 40%|████      | 405/1000 [09:34<03:55,  2.53it/s]"
     ]
    },
    {
     "name": "stdout",
     "output_type": "stream",
     "text": [
      "0\n"
     ]
    },
    {
     "name": "stderr",
     "output_type": "stream",
     "text": [
      "0it [00:00, ?it/s]\n",
      " 41%|████      | 406/1000 [09:34<03:19,  2.97it/s]"
     ]
    },
    {
     "name": "stdout",
     "output_type": "stream",
     "text": [
      "0\n"
     ]
    },
    {
     "name": "stderr",
     "output_type": "stream",
     "text": [
      "0it [00:00, ?it/s]\n",
      " 41%|████      | 407/1000 [09:34<03:42,  2.67it/s]"
     ]
    },
    {
     "name": "stdout",
     "output_type": "stream",
     "text": [
      "0\n"
     ]
    },
    {
     "name": "stderr",
     "output_type": "stream",
     "text": [
      "0it [00:00, ?it/s]\n",
      " 41%|████      | 408/1000 [09:35<04:16,  2.31it/s]"
     ]
    },
    {
     "name": "stdout",
     "output_type": "stream",
     "text": [
      "0\n"
     ]
    },
    {
     "name": "stderr",
     "output_type": "stream",
     "text": [
      "0it [00:00, ?it/s]\n",
      " 41%|████      | 409/1000 [09:35<04:31,  2.18it/s]"
     ]
    },
    {
     "name": "stdout",
     "output_type": "stream",
     "text": [
      "0\n"
     ]
    },
    {
     "name": "stderr",
     "output_type": "stream",
     "text": [
      "100%|██████████| 1/1 [00:00<00:00,  3.88it/s]\n",
      " 41%|████      | 410/1000 [09:36<04:49,  2.04it/s]"
     ]
    },
    {
     "name": "stdout",
     "output_type": "stream",
     "text": [
      "1\n"
     ]
    },
    {
     "name": "stderr",
     "output_type": "stream",
     "text": [
      "0it [00:00, ?it/s]\n",
      " 41%|████      | 411/1000 [09:36<03:59,  2.46it/s]"
     ]
    },
    {
     "name": "stdout",
     "output_type": "stream",
     "text": [
      "0\n"
     ]
    },
    {
     "name": "stderr",
     "output_type": "stream",
     "text": [
      "0it [00:00, ?it/s]\n",
      " 41%|████      | 412/1000 [09:36<03:22,  2.90it/s]"
     ]
    },
    {
     "name": "stdout",
     "output_type": "stream",
     "text": [
      "0\n"
     ]
    },
    {
     "name": "stderr",
     "output_type": "stream",
     "text": [
      "0it [00:00, ?it/s]\n",
      " 41%|████▏     | 413/1000 [09:37<03:12,  3.05it/s]"
     ]
    },
    {
     "name": "stdout",
     "output_type": "stream",
     "text": [
      "0\n"
     ]
    },
    {
     "name": "stderr",
     "output_type": "stream",
     "text": [
      "0it [00:00, ?it/s]\n",
      " 41%|████▏     | 414/1000 [09:37<02:50,  3.44it/s]"
     ]
    },
    {
     "name": "stdout",
     "output_type": "stream",
     "text": [
      "0\n"
     ]
    },
    {
     "name": "stderr",
     "output_type": "stream",
     "text": [
      "0it [00:00, ?it/s]\n",
      " 42%|████▏     | 415/1000 [09:37<03:51,  2.53it/s]"
     ]
    },
    {
     "name": "stdout",
     "output_type": "stream",
     "text": [
      "0\n"
     ]
    },
    {
     "name": "stderr",
     "output_type": "stream",
     "text": [
      "0it [00:00, ?it/s]\n",
      " 42%|████▏     | 416/1000 [09:38<03:16,  2.97it/s]"
     ]
    },
    {
     "name": "stdout",
     "output_type": "stream",
     "text": [
      "0\n"
     ]
    },
    {
     "name": "stderr",
     "output_type": "stream",
     "text": [
      "0it [00:00, ?it/s]\n",
      " 42%|████▏     | 417/1000 [09:38<03:01,  3.20it/s]"
     ]
    },
    {
     "name": "stdout",
     "output_type": "stream",
     "text": [
      "0\n"
     ]
    },
    {
     "name": "stderr",
     "output_type": "stream",
     "text": [
      "0it [00:00, ?it/s]\n",
      " 42%|████▏     | 418/1000 [09:38<02:38,  3.68it/s]"
     ]
    },
    {
     "name": "stdout",
     "output_type": "stream",
     "text": [
      "0\n"
     ]
    },
    {
     "name": "stderr",
     "output_type": "stream",
     "text": [
      "100%|██████████| 1/1 [00:00<00:00,  3.78it/s]\n",
      " 42%|████▏     | 419/1000 [09:39<03:29,  2.78it/s]"
     ]
    },
    {
     "name": "stdout",
     "output_type": "stream",
     "text": [
      "1\n"
     ]
    },
    {
     "name": "stderr",
     "output_type": "stream",
     "text": [
      "0it [00:00, ?it/s]\n",
      " 42%|████▏     | 420/1000 [09:39<03:06,  3.11it/s]"
     ]
    },
    {
     "name": "stdout",
     "output_type": "stream",
     "text": [
      "0\n"
     ]
    },
    {
     "name": "stderr",
     "output_type": "stream",
     "text": [
      "0it [00:00, ?it/s]\n",
      " 42%|████▏     | 421/1000 [09:40<04:04,  2.36it/s]"
     ]
    },
    {
     "name": "stdout",
     "output_type": "stream",
     "text": [
      "0\n"
     ]
    },
    {
     "name": "stderr",
     "output_type": "stream",
     "text": [
      "0it [00:00, ?it/s]\n",
      " 42%|████▏     | 422/1000 [09:40<04:08,  2.32it/s]"
     ]
    },
    {
     "name": "stdout",
     "output_type": "stream",
     "text": [
      "0\n"
     ]
    },
    {
     "name": "stderr",
     "output_type": "stream",
     "text": [
      "0it [00:00, ?it/s]\n",
      " 42%|████▏     | 423/1000 [09:40<03:27,  2.78it/s]"
     ]
    },
    {
     "name": "stdout",
     "output_type": "stream",
     "text": [
      "0\n"
     ]
    },
    {
     "name": "stderr",
     "output_type": "stream",
     "text": [
      "0it [00:00, ?it/s]\n",
      " 42%|████▏     | 424/1000 [09:41<05:27,  1.76it/s]"
     ]
    },
    {
     "name": "stdout",
     "output_type": "stream",
     "text": [
      "0\n"
     ]
    },
    {
     "name": "stderr",
     "output_type": "stream",
     "text": [
      "0it [00:00, ?it/s]\n",
      " 42%|████▎     | 425/1000 [09:41<04:21,  2.20it/s]"
     ]
    },
    {
     "name": "stdout",
     "output_type": "stream",
     "text": [
      "0\n"
     ]
    },
    {
     "name": "stderr",
     "output_type": "stream",
     "text": [
      "0it [00:00, ?it/s]\n",
      " 43%|████▎     | 426/1000 [09:42<03:35,  2.66it/s]"
     ]
    },
    {
     "name": "stdout",
     "output_type": "stream",
     "text": [
      "0\n"
     ]
    },
    {
     "name": "stderr",
     "output_type": "stream",
     "text": [
      "0it [00:00, ?it/s]\n",
      " 43%|████▎     | 427/1000 [09:42<03:05,  3.08it/s]"
     ]
    },
    {
     "name": "stdout",
     "output_type": "stream",
     "text": [
      "0\n"
     ]
    },
    {
     "name": "stderr",
     "output_type": "stream",
     "text": [
      "100%|██████████| 1/1 [00:00<00:00,  1.74it/s]\n",
      " 43%|████▎     | 428/1000 [09:43<04:44,  2.01it/s]"
     ]
    },
    {
     "name": "stdout",
     "output_type": "stream",
     "text": [
      "7\n"
     ]
    },
    {
     "name": "stderr",
     "output_type": "stream",
     "text": [
      "100%|██████████| 1/1 [00:00<00:00,  2.82it/s]\n",
      " 43%|████▎     | 429/1000 [09:43<04:56,  1.93it/s]"
     ]
    },
    {
     "name": "stdout",
     "output_type": "stream",
     "text": [
      "1\n"
     ]
    },
    {
     "name": "stderr",
     "output_type": "stream",
     "text": [
      "100%|██████████| 2/2 [00:00<00:00,  2.72it/s]\n",
      " 43%|████▎     | 430/1000 [09:44<06:33,  1.45it/s]"
     ]
    },
    {
     "name": "stdout",
     "output_type": "stream",
     "text": [
      "35\n"
     ]
    },
    {
     "name": "stderr",
     "output_type": "stream",
     "text": [
      "0it [00:00, ?it/s]\n",
      " 43%|████▎     | 431/1000 [09:45<05:18,  1.78it/s]"
     ]
    },
    {
     "name": "stdout",
     "output_type": "stream",
     "text": [
      "0\n"
     ]
    },
    {
     "name": "stderr",
     "output_type": "stream",
     "text": [
      "100%|██████████| 1/1 [00:00<00:00,  4.48it/s]\n",
      " 43%|████▎     | 432/1000 [09:45<04:57,  1.91it/s]"
     ]
    },
    {
     "name": "stdout",
     "output_type": "stream",
     "text": [
      "2\n"
     ]
    },
    {
     "name": "stderr",
     "output_type": "stream",
     "text": [
      "0it [00:00, ?it/s]\n",
      " 43%|████▎     | 433/1000 [09:45<04:07,  2.29it/s]"
     ]
    },
    {
     "name": "stdout",
     "output_type": "stream",
     "text": [
      "0\n"
     ]
    },
    {
     "name": "stderr",
     "output_type": "stream",
     "text": [
      "100%|██████████| 1/1 [00:00<00:00,  3.77it/s]\n",
      " 43%|████▎     | 434/1000 [09:46<04:22,  2.16it/s]"
     ]
    },
    {
     "name": "stdout",
     "output_type": "stream",
     "text": [
      "1\n"
     ]
    },
    {
     "name": "stderr",
     "output_type": "stream",
     "text": [
      "100%|██████████| 1/1 [00:00<00:00,  1.61it/s]\n",
      " 44%|████▎     | 435/1000 [09:47<05:32,  1.70it/s]"
     ]
    },
    {
     "name": "stdout",
     "output_type": "stream",
     "text": [
      "4\n"
     ]
    },
    {
     "name": "stderr",
     "output_type": "stream",
     "text": [
      "100%|██████████| 1/1 [00:00<00:00,  1.91it/s]\n",
      " 44%|████▎     | 436/1000 [09:49<09:52,  1.05s/it]"
     ]
    },
    {
     "name": "stdout",
     "output_type": "stream",
     "text": [
      "3\n"
     ]
    },
    {
     "name": "stderr",
     "output_type": "stream",
     "text": [
      "0it [00:00, ?it/s]\n",
      " 44%|████▎     | 437/1000 [09:49<07:28,  1.25it/s]"
     ]
    },
    {
     "name": "stdout",
     "output_type": "stream",
     "text": [
      "0\n"
     ]
    },
    {
     "name": "stderr",
     "output_type": "stream",
     "text": [
      "100%|██████████| 1/1 [00:01<00:00,  1.13s/it]\n",
      " 44%|████▍     | 438/1000 [09:51<11:42,  1.25s/it]"
     ]
    },
    {
     "name": "stdout",
     "output_type": "stream",
     "text": [
      "17\n"
     ]
    },
    {
     "name": "stderr",
     "output_type": "stream",
     "text": [
      "100%|██████████| 1/1 [00:00<00:00,  2.47it/s]\n",
      " 44%|████▍     | 439/1000 [09:52<10:22,  1.11s/it]"
     ]
    },
    {
     "name": "stdout",
     "output_type": "stream",
     "text": [
      "3\n"
     ]
    },
    {
     "name": "stderr",
     "output_type": "stream",
     "text": [
      "0it [00:00, ?it/s]\n",
      " 44%|████▍     | 440/1000 [09:52<07:52,  1.19it/s]"
     ]
    },
    {
     "name": "stdout",
     "output_type": "stream",
     "text": [
      "0\n"
     ]
    },
    {
     "name": "stderr",
     "output_type": "stream",
     "text": [
      "0it [00:00, ?it/s]\n",
      " 44%|████▍     | 441/1000 [09:53<07:26,  1.25it/s]"
     ]
    },
    {
     "name": "stdout",
     "output_type": "stream",
     "text": [
      "0\n"
     ]
    },
    {
     "name": "stderr",
     "output_type": "stream",
     "text": [
      "100%|██████████| 1/1 [00:00<00:00,  4.19it/s]\n",
      " 44%|████▍     | 442/1000 [09:54<06:22,  1.46it/s]"
     ]
    },
    {
     "name": "stdout",
     "output_type": "stream",
     "text": [
      "1\n"
     ]
    },
    {
     "name": "stderr",
     "output_type": "stream",
     "text": [
      "100%|██████████| 1/1 [00:00<00:00,  3.19it/s]\n",
      " 44%|████▍     | 443/1000 [09:55<07:32,  1.23it/s]"
     ]
    },
    {
     "name": "stdout",
     "output_type": "stream",
     "text": [
      "11\n"
     ]
    },
    {
     "name": "stderr",
     "output_type": "stream",
     "text": [
      "0it [00:00, ?it/s]\n",
      " 44%|████▍     | 444/1000 [09:55<05:43,  1.62it/s]"
     ]
    },
    {
     "name": "stdout",
     "output_type": "stream",
     "text": [
      "0\n"
     ]
    },
    {
     "name": "stderr",
     "output_type": "stream",
     "text": [
      "100%|██████████| 1/1 [00:00<00:00,  3.26it/s]\n",
      " 44%|████▍     | 445/1000 [09:55<05:50,  1.58it/s]"
     ]
    },
    {
     "name": "stdout",
     "output_type": "stream",
     "text": [
      "13\n"
     ]
    },
    {
     "name": "stderr",
     "output_type": "stream",
     "text": [
      "0it [00:00, ?it/s]\n",
      " 45%|████▍     | 446/1000 [09:56<04:33,  2.02it/s]"
     ]
    },
    {
     "name": "stdout",
     "output_type": "stream",
     "text": [
      "0\n"
     ]
    },
    {
     "name": "stderr",
     "output_type": "stream",
     "text": [
      "0it [00:00, ?it/s]\n",
      " 45%|████▍     | 447/1000 [09:56<04:00,  2.30it/s]"
     ]
    },
    {
     "name": "stdout",
     "output_type": "stream",
     "text": [
      "0\n"
     ]
    },
    {
     "name": "stderr",
     "output_type": "stream",
     "text": [
      "100%|██████████| 1/1 [00:00<00:00,  5.70it/s]\n",
      " 45%|████▍     | 448/1000 [09:56<03:48,  2.41it/s]"
     ]
    },
    {
     "name": "stdout",
     "output_type": "stream",
     "text": [
      "1\n"
     ]
    },
    {
     "name": "stderr",
     "output_type": "stream",
     "text": [
      "0it [00:00, ?it/s]\n",
      " 45%|████▍     | 449/1000 [09:56<03:08,  2.93it/s]"
     ]
    },
    {
     "name": "stdout",
     "output_type": "stream",
     "text": [
      "0\n"
     ]
    },
    {
     "name": "stderr",
     "output_type": "stream",
     "text": [
      "0it [00:00, ?it/s]\n",
      " 45%|████▌     | 450/1000 [09:57<03:31,  2.60it/s]"
     ]
    },
    {
     "name": "stdout",
     "output_type": "stream",
     "text": [
      "0\n"
     ]
    },
    {
     "name": "stderr",
     "output_type": "stream",
     "text": [
      "100%|██████████| 1/1 [00:00<00:00,  3.81it/s]\n",
      " 45%|████▌     | 451/1000 [09:58<04:10,  2.19it/s]"
     ]
    },
    {
     "name": "stdout",
     "output_type": "stream",
     "text": [
      "6\n"
     ]
    },
    {
     "name": "stderr",
     "output_type": "stream",
     "text": [
      "100%|██████████| 1/1 [00:00<00:00,  3.28it/s]\n",
      " 45%|████▌     | 452/1000 [09:58<04:24,  2.07it/s]"
     ]
    },
    {
     "name": "stdout",
     "output_type": "stream",
     "text": [
      "5\n"
     ]
    },
    {
     "name": "stderr",
     "output_type": "stream",
     "text": [
      "0it [00:00, ?it/s]\n",
      " 45%|████▌     | 453/1000 [09:58<03:51,  2.36it/s]"
     ]
    },
    {
     "name": "stdout",
     "output_type": "stream",
     "text": [
      "0\n"
     ]
    },
    {
     "name": "stderr",
     "output_type": "stream",
     "text": [
      "0it [00:00, ?it/s]\n",
      " 45%|████▌     | 454/1000 [09:59<03:18,  2.75it/s]"
     ]
    },
    {
     "name": "stdout",
     "output_type": "stream",
     "text": [
      "0\n"
     ]
    },
    {
     "name": "stderr",
     "output_type": "stream",
     "text": [
      "0it [00:00, ?it/s]\n",
      " 46%|████▌     | 455/1000 [09:59<02:55,  3.11it/s]"
     ]
    },
    {
     "name": "stdout",
     "output_type": "stream",
     "text": [
      "0\n"
     ]
    },
    {
     "name": "stderr",
     "output_type": "stream",
     "text": [
      "0it [00:00, ?it/s]\n",
      " 46%|████▌     | 456/1000 [09:59<02:36,  3.48it/s]"
     ]
    },
    {
     "name": "stdout",
     "output_type": "stream",
     "text": [
      "0\n"
     ]
    },
    {
     "name": "stderr",
     "output_type": "stream",
     "text": [
      "0it [00:00, ?it/s]\n",
      " 46%|████▌     | 457/1000 [09:59<02:42,  3.34it/s]"
     ]
    },
    {
     "name": "stdout",
     "output_type": "stream",
     "text": [
      "0\n"
     ]
    },
    {
     "name": "stderr",
     "output_type": "stream",
     "text": [
      "0it [00:00, ?it/s]\n",
      " 46%|████▌     | 458/1000 [10:00<02:26,  3.71it/s]"
     ]
    },
    {
     "name": "stdout",
     "output_type": "stream",
     "text": [
      "0\n"
     ]
    },
    {
     "name": "stderr",
     "output_type": "stream",
     "text": [
      "100%|██████████| 1/1 [00:00<00:00,  4.58it/s]\n",
      " 46%|████▌     | 459/1000 [10:00<03:05,  2.92it/s]"
     ]
    },
    {
     "name": "stdout",
     "output_type": "stream",
     "text": [
      "1\n"
     ]
    },
    {
     "name": "stderr",
     "output_type": "stream",
     "text": [
      "0it [00:00, ?it/s]\n",
      " 46%|████▌     | 460/1000 [10:01<05:06,  1.76it/s]"
     ]
    },
    {
     "name": "stdout",
     "output_type": "stream",
     "text": [
      "0\n"
     ]
    },
    {
     "name": "stderr",
     "output_type": "stream",
     "text": [
      "100%|██████████| 1/1 [00:00<00:00,  4.58it/s]\n",
      " 46%|████▌     | 461/1000 [10:02<04:52,  1.84it/s]"
     ]
    },
    {
     "name": "stdout",
     "output_type": "stream",
     "text": [
      "4\n"
     ]
    },
    {
     "name": "stderr",
     "output_type": "stream",
     "text": [
      "100%|██████████| 1/1 [00:00<00:00,  4.99it/s]\n",
      " 46%|████▌     | 462/1000 [10:02<05:00,  1.79it/s]"
     ]
    },
    {
     "name": "stdout",
     "output_type": "stream",
     "text": [
      "3\n"
     ]
    },
    {
     "name": "stderr",
     "output_type": "stream",
     "text": [
      "0it [00:00, ?it/s]\n",
      " 46%|████▋     | 463/1000 [10:02<04:06,  2.18it/s]"
     ]
    },
    {
     "name": "stdout",
     "output_type": "stream",
     "text": [
      "0\n"
     ]
    },
    {
     "name": "stderr",
     "output_type": "stream",
     "text": [
      "100%|██████████| 1/1 [00:00<00:00,  2.52it/s]\n",
      " 46%|████▋     | 464/1000 [10:03<04:34,  1.95it/s]"
     ]
    },
    {
     "name": "stdout",
     "output_type": "stream",
     "text": [
      "2\n"
     ]
    },
    {
     "name": "stderr",
     "output_type": "stream",
     "text": [
      "0it [00:00, ?it/s]\n",
      " 46%|████▋     | 465/1000 [10:03<03:43,  2.39it/s]"
     ]
    },
    {
     "name": "stdout",
     "output_type": "stream",
     "text": [
      "0\n"
     ]
    },
    {
     "name": "stderr",
     "output_type": "stream",
     "text": [
      "100%|██████████| 1/1 [00:00<00:00,  2.42it/s]\n",
      " 47%|████▋     | 466/1000 [10:04<04:54,  1.81it/s]"
     ]
    },
    {
     "name": "stdout",
     "output_type": "stream",
     "text": [
      "12\n"
     ]
    },
    {
     "name": "stderr",
     "output_type": "stream",
     "text": [
      "0it [00:00, ?it/s]\n",
      " 47%|████▋     | 467/1000 [10:04<04:10,  2.13it/s]"
     ]
    },
    {
     "name": "stdout",
     "output_type": "stream",
     "text": [
      "0\n"
     ]
    },
    {
     "name": "stderr",
     "output_type": "stream",
     "text": [
      "0it [00:00, ?it/s]\n",
      " 47%|████▋     | 468/1000 [10:05<03:27,  2.56it/s]"
     ]
    },
    {
     "name": "stdout",
     "output_type": "stream",
     "text": [
      "0\n"
     ]
    },
    {
     "name": "stderr",
     "output_type": "stream",
     "text": [
      "0it [00:00, ?it/s]\n",
      " 47%|████▋     | 469/1000 [10:05<02:52,  3.08it/s]"
     ]
    },
    {
     "name": "stdout",
     "output_type": "stream",
     "text": [
      "0\n"
     ]
    },
    {
     "name": "stderr",
     "output_type": "stream",
     "text": [
      "0it [00:00, ?it/s]\n",
      " 47%|████▋     | 470/1000 [10:05<02:46,  3.19it/s]"
     ]
    },
    {
     "name": "stdout",
     "output_type": "stream",
     "text": [
      "0\n"
     ]
    },
    {
     "name": "stderr",
     "output_type": "stream",
     "text": [
      "0it [00:00, ?it/s]\n",
      " 47%|████▋     | 471/1000 [10:05<02:36,  3.38it/s]"
     ]
    },
    {
     "name": "stdout",
     "output_type": "stream",
     "text": [
      "0\n"
     ]
    },
    {
     "name": "stderr",
     "output_type": "stream",
     "text": [
      "0it [00:00, ?it/s]\n",
      " 47%|████▋     | 472/1000 [10:06<02:53,  3.04it/s]"
     ]
    },
    {
     "name": "stdout",
     "output_type": "stream",
     "text": [
      "0\n"
     ]
    },
    {
     "name": "stderr",
     "output_type": "stream",
     "text": [
      "0it [00:00, ?it/s]\n",
      " 47%|████▋     | 473/1000 [10:06<02:48,  3.13it/s]"
     ]
    },
    {
     "name": "stdout",
     "output_type": "stream",
     "text": [
      "0\n"
     ]
    },
    {
     "name": "stderr",
     "output_type": "stream",
     "text": [
      "0it [00:00, ?it/s]\n",
      " 47%|████▋     | 474/1000 [10:06<02:51,  3.06it/s]"
     ]
    },
    {
     "name": "stdout",
     "output_type": "stream",
     "text": [
      "0\n"
     ]
    },
    {
     "name": "stderr",
     "output_type": "stream",
     "text": [
      "0it [00:00, ?it/s]\n",
      " 48%|████▊     | 475/1000 [10:07<02:39,  3.29it/s]"
     ]
    },
    {
     "name": "stdout",
     "output_type": "stream",
     "text": [
      "0\n"
     ]
    },
    {
     "name": "stderr",
     "output_type": "stream",
     "text": [
      "0it [00:00, ?it/s]\n",
      " 48%|████▊     | 476/1000 [10:07<02:26,  3.58it/s]"
     ]
    },
    {
     "name": "stdout",
     "output_type": "stream",
     "text": [
      "0\n"
     ]
    },
    {
     "name": "stderr",
     "output_type": "stream",
     "text": [
      "0it [00:00, ?it/s]\n",
      " 48%|████▊     | 477/1000 [10:07<02:17,  3.79it/s]"
     ]
    },
    {
     "name": "stdout",
     "output_type": "stream",
     "text": [
      "0\n"
     ]
    },
    {
     "name": "stderr",
     "output_type": "stream",
     "text": [
      "0it [00:00, ?it/s]\n",
      " 48%|████▊     | 478/1000 [10:08<02:47,  3.11it/s]"
     ]
    },
    {
     "name": "stdout",
     "output_type": "stream",
     "text": [
      "0\n"
     ]
    },
    {
     "name": "stderr",
     "output_type": "stream",
     "text": [
      "100%|██████████| 1/1 [00:00<00:00,  4.77it/s]\n",
      " 48%|████▊     | 479/1000 [10:09<04:52,  1.78it/s]"
     ]
    },
    {
     "name": "stdout",
     "output_type": "stream",
     "text": [
      "2\n"
     ]
    },
    {
     "name": "stderr",
     "output_type": "stream",
     "text": [
      "0it [00:00, ?it/s]\n",
      " 48%|████▊     | 480/1000 [10:09<04:29,  1.93it/s]"
     ]
    },
    {
     "name": "stdout",
     "output_type": "stream",
     "text": [
      "0\n"
     ]
    },
    {
     "name": "stderr",
     "output_type": "stream",
     "text": [
      "100%|██████████| 1/1 [00:00<00:00,  2.47it/s]\n",
      " 48%|████▊     | 481/1000 [10:10<04:50,  1.79it/s]"
     ]
    },
    {
     "name": "stdout",
     "output_type": "stream",
     "text": [
      "1\n"
     ]
    },
    {
     "name": "stderr",
     "output_type": "stream",
     "text": [
      "0it [00:00, ?it/s]\n",
      " 48%|████▊     | 482/1000 [10:10<04:59,  1.73it/s]"
     ]
    },
    {
     "name": "stdout",
     "output_type": "stream",
     "text": [
      "0\n"
     ]
    },
    {
     "name": "stderr",
     "output_type": "stream",
     "text": [
      "100%|██████████| 1/1 [00:00<00:00,  3.68it/s]\n",
      " 48%|████▊     | 483/1000 [10:11<04:50,  1.78it/s]"
     ]
    },
    {
     "name": "stdout",
     "output_type": "stream",
     "text": [
      "1\n"
     ]
    },
    {
     "name": "stderr",
     "output_type": "stream",
     "text": [
      "0it [00:00, ?it/s]\n",
      " 48%|████▊     | 484/1000 [10:11<04:47,  1.79it/s]"
     ]
    },
    {
     "name": "stdout",
     "output_type": "stream",
     "text": [
      "0\n"
     ]
    },
    {
     "name": "stderr",
     "output_type": "stream",
     "text": [
      "0it [00:00, ?it/s]\n",
      " 48%|████▊     | 485/1000 [10:12<03:59,  2.15it/s]"
     ]
    },
    {
     "name": "stdout",
     "output_type": "stream",
     "text": [
      "0\n"
     ]
    },
    {
     "name": "stderr",
     "output_type": "stream",
     "text": [
      "0it [00:00, ?it/s]\n",
      " 49%|████▊     | 486/1000 [10:12<03:27,  2.47it/s]"
     ]
    },
    {
     "name": "stdout",
     "output_type": "stream",
     "text": [
      "0\n"
     ]
    },
    {
     "name": "stderr",
     "output_type": "stream",
     "text": [
      "0it [00:00, ?it/s]\n",
      " 49%|████▊     | 487/1000 [10:12<03:09,  2.71it/s]"
     ]
    },
    {
     "name": "stdout",
     "output_type": "stream",
     "text": [
      "0\n"
     ]
    },
    {
     "name": "stderr",
     "output_type": "stream",
     "text": [
      "0it [00:00, ?it/s]\n",
      " 49%|████▉     | 488/1000 [10:13<03:18,  2.57it/s]"
     ]
    },
    {
     "name": "stdout",
     "output_type": "stream",
     "text": [
      "0\n"
     ]
    },
    {
     "name": "stderr",
     "output_type": "stream",
     "text": [
      "0it [00:00, ?it/s]\n",
      " 49%|████▉     | 489/1000 [10:13<02:46,  3.07it/s]"
     ]
    },
    {
     "name": "stdout",
     "output_type": "stream",
     "text": [
      "0\n"
     ]
    },
    {
     "name": "stderr",
     "output_type": "stream",
     "text": [
      "0it [00:00, ?it/s]\n",
      " 49%|████▉     | 490/1000 [10:13<02:26,  3.49it/s]"
     ]
    },
    {
     "name": "stdout",
     "output_type": "stream",
     "text": [
      "0\n"
     ]
    },
    {
     "name": "stderr",
     "output_type": "stream",
     "text": [
      "100%|██████████| 1/1 [00:00<00:00,  3.49it/s]\n",
      " 49%|████▉     | 491/1000 [10:14<03:25,  2.47it/s]"
     ]
    },
    {
     "name": "stdout",
     "output_type": "stream",
     "text": [
      "1\n"
     ]
    },
    {
     "name": "stderr",
     "output_type": "stream",
     "text": [
      "0it [00:00, ?it/s]\n",
      " 49%|████▉     | 492/1000 [10:14<03:40,  2.30it/s]"
     ]
    },
    {
     "name": "stdout",
     "output_type": "stream",
     "text": [
      "0\n"
     ]
    },
    {
     "name": "stderr",
     "output_type": "stream",
     "text": [
      "0it [00:00, ?it/s]\n",
      " 49%|████▉     | 493/1000 [10:15<03:53,  2.17it/s]"
     ]
    },
    {
     "name": "stdout",
     "output_type": "stream",
     "text": [
      "0\n"
     ]
    },
    {
     "name": "stderr",
     "output_type": "stream",
     "text": [
      "0it [00:00, ?it/s]\n",
      " 49%|████▉     | 494/1000 [10:15<03:12,  2.63it/s]"
     ]
    },
    {
     "name": "stdout",
     "output_type": "stream",
     "text": [
      "0\n"
     ]
    },
    {
     "name": "stderr",
     "output_type": "stream",
     "text": [
      "0it [00:00, ?it/s]\n"
     ]
    },
    {
     "name": "stdout",
     "output_type": "stream",
     "text": [
      "0"
     ]
    },
    {
     "name": "stderr",
     "output_type": "stream",
     "text": [
      " 50%|████▉     | 495/1000 [10:15<02:44,  3.06it/s]"
     ]
    },
    {
     "name": "stdout",
     "output_type": "stream",
     "text": [
      "\n"
     ]
    },
    {
     "name": "stderr",
     "output_type": "stream",
     "text": [
      "0it [00:00, ?it/s]\n",
      " 50%|████▉     | 496/1000 [10:16<03:11,  2.63it/s]"
     ]
    },
    {
     "name": "stdout",
     "output_type": "stream",
     "text": [
      "0\n"
     ]
    },
    {
     "name": "stderr",
     "output_type": "stream",
     "text": [
      "100%|██████████| 1/1 [00:00<00:00,  3.46it/s]\n",
      " 50%|████▉     | 497/1000 [10:16<03:59,  2.10it/s]"
     ]
    },
    {
     "name": "stdout",
     "output_type": "stream",
     "text": [
      "7\n"
     ]
    },
    {
     "name": "stderr",
     "output_type": "stream",
     "text": [
      "0it [00:00, ?it/s]\n",
      " 50%|████▉     | 498/1000 [10:17<03:33,  2.35it/s]"
     ]
    },
    {
     "name": "stdout",
     "output_type": "stream",
     "text": [
      "0\n"
     ]
    },
    {
     "name": "stderr",
     "output_type": "stream",
     "text": [
      "100%|██████████| 1/1 [00:01<00:00,  1.85s/it]\n",
      " 50%|████▉     | 499/1000 [10:19<07:53,  1.06it/s]"
     ]
    },
    {
     "name": "stdout",
     "output_type": "stream",
     "text": [
      "7\n"
     ]
    },
    {
     "name": "stderr",
     "output_type": "stream",
     "text": [
      "0it [00:00, ?it/s]\n",
      " 50%|█████     | 500/1000 [10:19<06:24,  1.30it/s]"
     ]
    },
    {
     "name": "stdout",
     "output_type": "stream",
     "text": [
      "0\n"
     ]
    },
    {
     "name": "stderr",
     "output_type": "stream",
     "text": [
      "100%|██████████| 4/4 [00:01<00:00,  2.50it/s]\n",
      " 50%|█████     | 501/1000 [10:21<09:59,  1.20s/it]"
     ]
    },
    {
     "name": "stdout",
     "output_type": "stream",
     "text": [
      "78\n"
     ]
    },
    {
     "name": "stderr",
     "output_type": "stream",
     "text": [
      "100%|██████████| 1/1 [00:00<00:00,  1.64it/s]\n",
      " 50%|█████     | 502/1000 [10:23<12:09,  1.47s/it]"
     ]
    },
    {
     "name": "stdout",
     "output_type": "stream",
     "text": [
      "1\n"
     ]
    },
    {
     "name": "stderr",
     "output_type": "stream",
     "text": [
      "0it [00:00, ?it/s]\n",
      " 50%|█████     | 503/1000 [10:24<08:57,  1.08s/it]"
     ]
    },
    {
     "name": "stdout",
     "output_type": "stream",
     "text": [
      "0\n"
     ]
    },
    {
     "name": "stderr",
     "output_type": "stream",
     "text": [
      "0it [00:00, ?it/s]\n",
      " 50%|█████     | 504/1000 [10:24<07:32,  1.10it/s]"
     ]
    },
    {
     "name": "stdout",
     "output_type": "stream",
     "text": [
      "0\n"
     ]
    },
    {
     "name": "stderr",
     "output_type": "stream",
     "text": [
      "0it [00:00, ?it/s]\n",
      " 50%|█████     | 505/1000 [10:25<06:32,  1.26it/s]"
     ]
    },
    {
     "name": "stdout",
     "output_type": "stream",
     "text": [
      "0\n"
     ]
    },
    {
     "name": "stderr",
     "output_type": "stream",
     "text": [
      "0it [00:00, ?it/s]\n",
      " 51%|█████     | 506/1000 [10:25<05:12,  1.58it/s]"
     ]
    },
    {
     "name": "stdout",
     "output_type": "stream",
     "text": [
      "0\n"
     ]
    },
    {
     "name": "stderr",
     "output_type": "stream",
     "text": [
      "0it [00:00, ?it/s]\n",
      " 51%|█████     | 507/1000 [10:25<04:08,  1.98it/s]"
     ]
    },
    {
     "name": "stdout",
     "output_type": "stream",
     "text": [
      "0\n"
     ]
    },
    {
     "name": "stderr",
     "output_type": "stream",
     "text": [
      "0it [00:00, ?it/s]\n",
      " 51%|█████     | 508/1000 [10:25<03:29,  2.35it/s]"
     ]
    },
    {
     "name": "stdout",
     "output_type": "stream",
     "text": [
      "0\n"
     ]
    },
    {
     "name": "stderr",
     "output_type": "stream",
     "text": [
      "0it [00:00, ?it/s]\n",
      " 51%|█████     | 509/1000 [10:26<03:48,  2.15it/s]"
     ]
    },
    {
     "name": "stdout",
     "output_type": "stream",
     "text": [
      "0\n"
     ]
    },
    {
     "name": "stderr",
     "output_type": "stream",
     "text": [
      "0it [00:00, ?it/s]\n",
      " 51%|█████     | 510/1000 [10:26<03:52,  2.11it/s]"
     ]
    },
    {
     "name": "stdout",
     "output_type": "stream",
     "text": [
      "0\n"
     ]
    },
    {
     "name": "stderr",
     "output_type": "stream",
     "text": [
      "0it [00:00, ?it/s]\n",
      " 51%|█████     | 511/1000 [10:27<03:06,  2.62it/s]"
     ]
    },
    {
     "name": "stdout",
     "output_type": "stream",
     "text": [
      "0\n"
     ]
    },
    {
     "name": "stderr",
     "output_type": "stream",
     "text": [
      "0it [00:00, ?it/s]\n",
      " 51%|█████     | 512/1000 [10:27<02:43,  2.98it/s]"
     ]
    },
    {
     "name": "stdout",
     "output_type": "stream",
     "text": [
      "0\n"
     ]
    },
    {
     "name": "stderr",
     "output_type": "stream",
     "text": [
      "0it [00:00, ?it/s]\n",
      " 51%|█████▏    | 513/1000 [10:27<02:56,  2.76it/s]"
     ]
    },
    {
     "name": "stdout",
     "output_type": "stream",
     "text": [
      "0\n"
     ]
    },
    {
     "name": "stderr",
     "output_type": "stream",
     "text": [
      "0it [00:00, ?it/s]\n",
      " 51%|█████▏    | 514/1000 [10:27<02:29,  3.26it/s]"
     ]
    },
    {
     "name": "stdout",
     "output_type": "stream",
     "text": [
      "0\n"
     ]
    },
    {
     "name": "stderr",
     "output_type": "stream",
     "text": [
      "0it [00:00, ?it/s]\n",
      " 52%|█████▏    | 515/1000 [10:28<02:12,  3.65it/s]"
     ]
    },
    {
     "name": "stdout",
     "output_type": "stream",
     "text": [
      "0\n"
     ]
    },
    {
     "name": "stderr",
     "output_type": "stream",
     "text": [
      "0it [00:00, ?it/s]\n",
      " 52%|█████▏    | 516/1000 [10:28<02:04,  3.88it/s]"
     ]
    },
    {
     "name": "stdout",
     "output_type": "stream",
     "text": [
      "0\n"
     ]
    },
    {
     "name": "stderr",
     "output_type": "stream",
     "text": [
      "0it [00:00, ?it/s]\n",
      " 52%|█████▏    | 517/1000 [10:28<02:08,  3.76it/s]"
     ]
    },
    {
     "name": "stdout",
     "output_type": "stream",
     "text": [
      "0\n"
     ]
    },
    {
     "name": "stderr",
     "output_type": "stream",
     "text": [
      "100%|██████████| 1/1 [00:00<00:00,  1.24it/s]\n",
      " 52%|█████▏    | 518/1000 [10:29<04:04,  1.97it/s]"
     ]
    },
    {
     "name": "stdout",
     "output_type": "stream",
     "text": [
      "1\n"
     ]
    },
    {
     "name": "stderr",
     "output_type": "stream",
     "text": [
      "0it [00:00, ?it/s]\n",
      " 52%|█████▏    | 519/1000 [10:29<03:18,  2.42it/s]"
     ]
    },
    {
     "name": "stdout",
     "output_type": "stream",
     "text": [
      "0\n"
     ]
    },
    {
     "name": "stderr",
     "output_type": "stream",
     "text": [
      "0it [00:00, ?it/s]\n",
      " 52%|█████▏    | 520/1000 [10:30<02:49,  2.83it/s]"
     ]
    },
    {
     "name": "stdout",
     "output_type": "stream",
     "text": [
      "0\n"
     ]
    },
    {
     "name": "stderr",
     "output_type": "stream",
     "text": [
      "0it [00:00, ?it/s]\n",
      " 52%|█████▏    | 521/1000 [10:30<02:33,  3.13it/s]"
     ]
    },
    {
     "name": "stdout",
     "output_type": "stream",
     "text": [
      "0\n"
     ]
    },
    {
     "name": "stderr",
     "output_type": "stream",
     "text": [
      "0it [00:00, ?it/s]\n",
      " 52%|█████▏    | 522/1000 [10:30<02:12,  3.61it/s]"
     ]
    },
    {
     "name": "stdout",
     "output_type": "stream",
     "text": [
      "0\n"
     ]
    },
    {
     "name": "stderr",
     "output_type": "stream",
     "text": [
      "0it [00:00, ?it/s]\n",
      " 52%|█████▏    | 523/1000 [10:31<03:56,  2.02it/s]"
     ]
    },
    {
     "name": "stdout",
     "output_type": "stream",
     "text": [
      "0\n"
     ]
    },
    {
     "name": "stderr",
     "output_type": "stream",
     "text": [
      "100%|██████████| 1/1 [00:00<00:00,  2.73it/s]\n",
      " 52%|█████▏    | 524/1000 [10:32<04:17,  1.85it/s]"
     ]
    },
    {
     "name": "stdout",
     "output_type": "stream",
     "text": [
      "3\n"
     ]
    },
    {
     "name": "stderr",
     "output_type": "stream",
     "text": [
      "0it [00:00, ?it/s]\n",
      " 52%|█████▎    | 525/1000 [10:32<03:35,  2.20it/s]"
     ]
    },
    {
     "name": "stdout",
     "output_type": "stream",
     "text": [
      "0\n"
     ]
    },
    {
     "name": "stderr",
     "output_type": "stream",
     "text": [
      "100%|██████████| 1/1 [00:00<00:00,  3.69it/s]\n",
      " 53%|█████▎    | 526/1000 [10:32<03:45,  2.10it/s]"
     ]
    },
    {
     "name": "stdout",
     "output_type": "stream",
     "text": [
      "2\n"
     ]
    },
    {
     "name": "stderr",
     "output_type": "stream",
     "text": [
      "0it [00:00, ?it/s]\n",
      " 53%|█████▎    | 527/1000 [10:33<03:03,  2.58it/s]"
     ]
    },
    {
     "name": "stdout",
     "output_type": "stream",
     "text": [
      "0\n"
     ]
    },
    {
     "name": "stderr",
     "output_type": "stream",
     "text": [
      "0it [00:00, ?it/s]\n",
      " 53%|█████▎    | 528/1000 [10:33<02:39,  2.96it/s]"
     ]
    },
    {
     "name": "stdout",
     "output_type": "stream",
     "text": [
      "0\n"
     ]
    },
    {
     "name": "stderr",
     "output_type": "stream",
     "text": [
      "0it [00:00, ?it/s]\n",
      " 53%|█████▎    | 529/1000 [10:33<02:52,  2.73it/s]"
     ]
    },
    {
     "name": "stdout",
     "output_type": "stream",
     "text": [
      "0\n"
     ]
    },
    {
     "name": "stderr",
     "output_type": "stream",
     "text": [
      "0it [00:00, ?it/s]\n",
      " 53%|█████▎    | 530/1000 [10:34<02:58,  2.64it/s]"
     ]
    },
    {
     "name": "stdout",
     "output_type": "stream",
     "text": [
      "0\n"
     ]
    },
    {
     "name": "stderr",
     "output_type": "stream",
     "text": [
      "0it [00:00, ?it/s]\n",
      " 53%|█████▎    | 531/1000 [10:34<02:33,  3.05it/s]"
     ]
    },
    {
     "name": "stdout",
     "output_type": "stream",
     "text": [
      "0\n"
     ]
    },
    {
     "name": "stderr",
     "output_type": "stream",
     "text": [
      "0it [00:00, ?it/s]\n",
      " 53%|█████▎    | 532/1000 [10:34<02:14,  3.48it/s]"
     ]
    },
    {
     "name": "stdout",
     "output_type": "stream",
     "text": [
      "0\n"
     ]
    },
    {
     "name": "stderr",
     "output_type": "stream",
     "text": [
      "0it [00:00, ?it/s]\n",
      " 53%|█████▎    | 533/1000 [10:34<01:57,  3.96it/s]"
     ]
    },
    {
     "name": "stdout",
     "output_type": "stream",
     "text": [
      "0\n"
     ]
    },
    {
     "name": "stderr",
     "output_type": "stream",
     "text": [
      "0it [00:00, ?it/s]\n",
      " 53%|█████▎    | 534/1000 [10:35<01:59,  3.90it/s]"
     ]
    },
    {
     "name": "stdout",
     "output_type": "stream",
     "text": [
      "0\n"
     ]
    },
    {
     "name": "stderr",
     "output_type": "stream",
     "text": [
      "0it [00:00, ?it/s]\n",
      " 54%|█████▎    | 535/1000 [10:35<02:00,  3.85it/s]"
     ]
    },
    {
     "name": "stdout",
     "output_type": "stream",
     "text": [
      "0\n"
     ]
    },
    {
     "name": "stderr",
     "output_type": "stream",
     "text": [
      "0it [00:00, ?it/s]\n",
      " 54%|█████▎    | 536/1000 [10:35<01:54,  4.07it/s]"
     ]
    },
    {
     "name": "stdout",
     "output_type": "stream",
     "text": [
      "0\n"
     ]
    },
    {
     "name": "stderr",
     "output_type": "stream",
     "text": [
      "0it [00:00, ?it/s]\n",
      " 54%|█████▎    | 537/1000 [10:35<01:45,  4.39it/s]"
     ]
    },
    {
     "name": "stdout",
     "output_type": "stream",
     "text": [
      "0\n"
     ]
    },
    {
     "name": "stderr",
     "output_type": "stream",
     "text": [
      "100%|██████████| 1/1 [00:00<00:00,  3.74it/s]\n",
      " 54%|█████▍    | 538/1000 [10:36<02:23,  3.21it/s]"
     ]
    },
    {
     "name": "stdout",
     "output_type": "stream",
     "text": [
      "3\n"
     ]
    },
    {
     "name": "stderr",
     "output_type": "stream",
     "text": [
      "0it [00:00, ?it/s]\n",
      " 54%|█████▍    | 539/1000 [10:36<02:13,  3.46it/s]"
     ]
    },
    {
     "name": "stdout",
     "output_type": "stream",
     "text": [
      "0\n"
     ]
    },
    {
     "name": "stderr",
     "output_type": "stream",
     "text": [
      "0it [00:00, ?it/s]\n",
      " 54%|█████▍    | 540/1000 [10:37<03:00,  2.55it/s]"
     ]
    },
    {
     "name": "stdout",
     "output_type": "stream",
     "text": [
      "0\n"
     ]
    },
    {
     "name": "stderr",
     "output_type": "stream",
     "text": [
      "100%|██████████| 1/1 [00:00<00:00,  1.17it/s]\n",
      " 54%|█████▍    | 541/1000 [10:38<04:56,  1.55it/s]"
     ]
    },
    {
     "name": "stdout",
     "output_type": "stream",
     "text": [
      "1\n"
     ]
    },
    {
     "name": "stderr",
     "output_type": "stream",
     "text": [
      "0it [00:00, ?it/s]\n",
      " 54%|█████▍    | 542/1000 [10:38<03:52,  1.97it/s]"
     ]
    },
    {
     "name": "stdout",
     "output_type": "stream",
     "text": [
      "0\n"
     ]
    },
    {
     "name": "stderr",
     "output_type": "stream",
     "text": [
      "0it [00:00, ?it/s]\n",
      " 54%|█████▍    | 543/1000 [10:39<04:20,  1.75it/s]"
     ]
    },
    {
     "name": "stdout",
     "output_type": "stream",
     "text": [
      "0\n"
     ]
    },
    {
     "name": "stderr",
     "output_type": "stream",
     "text": [
      "0it [00:00, ?it/s]\n",
      " 54%|█████▍    | 544/1000 [10:39<03:31,  2.16it/s]"
     ]
    },
    {
     "name": "stdout",
     "output_type": "stream",
     "text": [
      "0\n"
     ]
    },
    {
     "name": "stderr",
     "output_type": "stream",
     "text": [
      "0it [00:00, ?it/s]\n",
      " 55%|█████▍    | 545/1000 [10:39<02:55,  2.59it/s]"
     ]
    },
    {
     "name": "stdout",
     "output_type": "stream",
     "text": [
      "0\n"
     ]
    },
    {
     "name": "stderr",
     "output_type": "stream",
     "text": [
      "0it [00:00, ?it/s]\n",
      " 55%|█████▍    | 546/1000 [10:39<02:29,  3.04it/s]"
     ]
    },
    {
     "name": "stdout",
     "output_type": "stream",
     "text": [
      "0\n"
     ]
    },
    {
     "name": "stderr",
     "output_type": "stream",
     "text": [
      "0it [00:00, ?it/s]\n",
      " 55%|█████▍    | 547/1000 [10:40<02:38,  2.85it/s]"
     ]
    },
    {
     "name": "stdout",
     "output_type": "stream",
     "text": [
      "0\n"
     ]
    },
    {
     "name": "stderr",
     "output_type": "stream",
     "text": [
      "0it [00:00, ?it/s]\n",
      " 55%|█████▍    | 548/1000 [10:40<02:25,  3.10it/s]"
     ]
    },
    {
     "name": "stdout",
     "output_type": "stream",
     "text": [
      "0\n"
     ]
    },
    {
     "name": "stderr",
     "output_type": "stream",
     "text": [
      "0it [00:00, ?it/s]\n",
      " 55%|█████▍    | 549/1000 [10:40<02:30,  3.00it/s]"
     ]
    },
    {
     "name": "stdout",
     "output_type": "stream",
     "text": [
      "0\n"
     ]
    },
    {
     "name": "stderr",
     "output_type": "stream",
     "text": [
      "0it [00:00, ?it/s]\n",
      " 55%|█████▌    | 550/1000 [10:41<02:26,  3.08it/s]"
     ]
    },
    {
     "name": "stdout",
     "output_type": "stream",
     "text": [
      "0\n"
     ]
    },
    {
     "name": "stderr",
     "output_type": "stream",
     "text": [
      "100%|██████████| 8/8 [00:03<00:00,  2.23it/s]\n",
      " 55%|█████▌    | 551/1000 [10:45<12:16,  1.64s/it]"
     ]
    },
    {
     "name": "stdout",
     "output_type": "stream",
     "text": [
      "152\n"
     ]
    },
    {
     "name": "stderr",
     "output_type": "stream",
     "text": [
      "100%|██████████| 2/2 [00:01<00:00,  2.00it/s]\n",
      " 55%|█████▌    | 552/1000 [10:47<11:55,  1.60s/it]"
     ]
    },
    {
     "name": "stdout",
     "output_type": "stream",
     "text": [
      "25\n"
     ]
    },
    {
     "name": "stderr",
     "output_type": "stream",
     "text": [
      "0it [00:00, ?it/s]\n",
      " 55%|█████▌    | 553/1000 [10:47<08:46,  1.18s/it]"
     ]
    },
    {
     "name": "stdout",
     "output_type": "stream",
     "text": [
      "0\n"
     ]
    },
    {
     "name": "stderr",
     "output_type": "stream",
     "text": [
      "0it [00:00, ?it/s]\n",
      " 55%|█████▌    | 554/1000 [10:47<06:59,  1.06it/s]"
     ]
    },
    {
     "name": "stdout",
     "output_type": "stream",
     "text": [
      "0\n"
     ]
    },
    {
     "name": "stderr",
     "output_type": "stream",
     "text": [
      "0it [00:00, ?it/s]\n",
      " 56%|█████▌    | 555/1000 [10:48<06:02,  1.23it/s]"
     ]
    },
    {
     "name": "stdout",
     "output_type": "stream",
     "text": [
      "0\n"
     ]
    },
    {
     "name": "stderr",
     "output_type": "stream",
     "text": [
      "100%|██████████| 2/2 [00:00<00:00,  2.23it/s]\n",
      " 56%|█████▌    | 556/1000 [10:49<07:10,  1.03it/s]"
     ]
    },
    {
     "name": "stdout",
     "output_type": "stream",
     "text": [
      "23\n"
     ]
    },
    {
     "name": "stderr",
     "output_type": "stream",
     "text": [
      "100%|██████████| 1/1 [00:00<00:00,  2.49it/s]\n",
      " 56%|█████▌    | 557/1000 [10:50<06:39,  1.11it/s]"
     ]
    },
    {
     "name": "stdout",
     "output_type": "stream",
     "text": [
      "15\n"
     ]
    },
    {
     "name": "stderr",
     "output_type": "stream",
     "text": [
      "0it [00:00, ?it/s]\n",
      " 56%|█████▌    | 558/1000 [10:50<05:10,  1.43it/s]"
     ]
    },
    {
     "name": "stdout",
     "output_type": "stream",
     "text": [
      "0\n"
     ]
    },
    {
     "name": "stderr",
     "output_type": "stream",
     "text": [
      "0it [00:00, ?it/s]\n",
      " 56%|█████▌    | 559/1000 [10:51<04:10,  1.76it/s]"
     ]
    },
    {
     "name": "stdout",
     "output_type": "stream",
     "text": [
      "0\n"
     ]
    },
    {
     "name": "stderr",
     "output_type": "stream",
     "text": [
      "0it [00:00, ?it/s]\n",
      " 56%|█████▌    | 560/1000 [10:51<04:10,  1.76it/s]"
     ]
    },
    {
     "name": "stdout",
     "output_type": "stream",
     "text": [
      "0\n"
     ]
    },
    {
     "name": "stderr",
     "output_type": "stream",
     "text": [
      "0it [00:00, ?it/s]\n",
      " 56%|█████▌    | 561/1000 [10:51<03:36,  2.03it/s]"
     ]
    },
    {
     "name": "stdout",
     "output_type": "stream",
     "text": [
      "0\n"
     ]
    },
    {
     "name": "stderr",
     "output_type": "stream",
     "text": [
      "0it [00:00, ?it/s]\n",
      " 56%|█████▌    | 562/1000 [10:52<04:04,  1.79it/s]"
     ]
    },
    {
     "name": "stdout",
     "output_type": "stream",
     "text": [
      "0\n"
     ]
    },
    {
     "name": "stderr",
     "output_type": "stream",
     "text": [
      "100%|██████████| 1/1 [00:00<00:00,  3.80it/s]\n",
      " 56%|█████▋    | 563/1000 [10:53<05:23,  1.35it/s]"
     ]
    },
    {
     "name": "stdout",
     "output_type": "stream",
     "text": [
      "1\n"
     ]
    },
    {
     "name": "stderr",
     "output_type": "stream",
     "text": [
      "0it [00:00, ?it/s]\n",
      " 56%|█████▋    | 564/1000 [10:54<04:16,  1.70it/s]"
     ]
    },
    {
     "name": "stdout",
     "output_type": "stream",
     "text": [
      "0\n"
     ]
    },
    {
     "name": "stderr",
     "output_type": "stream",
     "text": [
      "100%|██████████| 2/2 [00:01<00:00,  1.08it/s]\n",
      " 56%|█████▋    | 565/1000 [10:56<07:52,  1.09s/it]"
     ]
    },
    {
     "name": "stdout",
     "output_type": "stream",
     "text": [
      "23\n"
     ]
    },
    {
     "name": "stderr",
     "output_type": "stream",
     "text": [
      "0it [00:00, ?it/s]\n",
      " 57%|█████▋    | 566/1000 [10:56<05:55,  1.22it/s]"
     ]
    },
    {
     "name": "stdout",
     "output_type": "stream",
     "text": [
      "0\n"
     ]
    },
    {
     "name": "stderr",
     "output_type": "stream",
     "text": [
      "0it [00:00, ?it/s]\n",
      " 57%|█████▋    | 567/1000 [10:56<04:38,  1.56it/s]"
     ]
    },
    {
     "name": "stdout",
     "output_type": "stream",
     "text": [
      "0\n"
     ]
    },
    {
     "name": "stderr",
     "output_type": "stream",
     "text": [
      "0it [00:00, ?it/s]\n",
      " 57%|█████▋    | 568/1000 [10:56<03:38,  1.98it/s]"
     ]
    },
    {
     "name": "stdout",
     "output_type": "stream",
     "text": [
      "0\n"
     ]
    },
    {
     "name": "stderr",
     "output_type": "stream",
     "text": [
      "100%|██████████| 1/1 [00:00<00:00,  4.08it/s]\n",
      " 57%|█████▋    | 569/1000 [10:57<03:31,  2.04it/s]"
     ]
    },
    {
     "name": "stdout",
     "output_type": "stream",
     "text": [
      "1\n"
     ]
    },
    {
     "name": "stderr",
     "output_type": "stream",
     "text": [
      "0it [00:00, ?it/s]\n",
      " 57%|█████▋    | 570/1000 [10:57<02:48,  2.56it/s]"
     ]
    },
    {
     "name": "stdout",
     "output_type": "stream",
     "text": [
      "0\n"
     ]
    },
    {
     "name": "stderr",
     "output_type": "stream",
     "text": [
      "0it [00:00, ?it/s]\n",
      " 57%|█████▋    | 571/1000 [10:58<03:22,  2.12it/s]"
     ]
    },
    {
     "name": "stdout",
     "output_type": "stream",
     "text": [
      "0\n"
     ]
    },
    {
     "name": "stderr",
     "output_type": "stream",
     "text": [
      "0it [00:00, ?it/s]\n",
      " 57%|█████▋    | 572/1000 [10:58<02:46,  2.57it/s]"
     ]
    },
    {
     "name": "stdout",
     "output_type": "stream",
     "text": [
      "0\n"
     ]
    },
    {
     "name": "stderr",
     "output_type": "stream",
     "text": [
      "0it [00:00, ?it/s]\n",
      " 57%|█████▋    | 573/1000 [10:58<02:33,  2.79it/s]"
     ]
    },
    {
     "name": "stdout",
     "output_type": "stream",
     "text": [
      "0\n"
     ]
    },
    {
     "name": "stderr",
     "output_type": "stream",
     "text": [
      "0it [00:00, ?it/s]\n",
      " 57%|█████▋    | 574/1000 [10:59<03:11,  2.22it/s]"
     ]
    },
    {
     "name": "stdout",
     "output_type": "stream",
     "text": [
      "0\n"
     ]
    },
    {
     "name": "stderr",
     "output_type": "stream",
     "text": [
      "0it [00:00, ?it/s]\n",
      " 57%|█████▊    | 575/1000 [10:59<02:45,  2.56it/s]"
     ]
    },
    {
     "name": "stdout",
     "output_type": "stream",
     "text": [
      "0\n"
     ]
    },
    {
     "name": "stderr",
     "output_type": "stream",
     "text": [
      "100%|██████████| 1/1 [00:00<00:00,  4.04it/s]\n",
      " 58%|█████▊    | 576/1000 [11:00<03:12,  2.20it/s]"
     ]
    },
    {
     "name": "stdout",
     "output_type": "stream",
     "text": [
      "1\n"
     ]
    },
    {
     "name": "stderr",
     "output_type": "stream",
     "text": [
      "0it [00:00, ?it/s]\n",
      " 58%|█████▊    | 577/1000 [11:00<03:46,  1.87it/s]"
     ]
    },
    {
     "name": "stdout",
     "output_type": "stream",
     "text": [
      "0\n"
     ]
    },
    {
     "name": "stderr",
     "output_type": "stream",
     "text": [
      "0it [00:00, ?it/s]\n",
      " 58%|█████▊    | 578/1000 [11:01<03:47,  1.86it/s]"
     ]
    },
    {
     "name": "stdout",
     "output_type": "stream",
     "text": [
      "0\n"
     ]
    },
    {
     "name": "stderr",
     "output_type": "stream",
     "text": [
      "0it [00:00, ?it/s]\n",
      " 58%|█████▊    | 579/1000 [11:01<03:27,  2.03it/s]"
     ]
    },
    {
     "name": "stdout",
     "output_type": "stream",
     "text": [
      "0\n"
     ]
    },
    {
     "name": "stderr",
     "output_type": "stream",
     "text": [
      "100%|██████████| 1/1 [00:00<00:00,  2.72it/s]\n",
      " 58%|█████▊    | 580/1000 [11:02<04:12,  1.66it/s]"
     ]
    },
    {
     "name": "stdout",
     "output_type": "stream",
     "text": [
      "2\n"
     ]
    },
    {
     "name": "stderr",
     "output_type": "stream",
     "text": [
      "0it [00:00, ?it/s]\n",
      " 58%|█████▊    | 581/1000 [11:02<03:23,  2.06it/s]"
     ]
    },
    {
     "name": "stdout",
     "output_type": "stream",
     "text": [
      "0\n"
     ]
    },
    {
     "name": "stderr",
     "output_type": "stream",
     "text": [
      "0it [00:00, ?it/s]\n",
      " 58%|█████▊    | 582/1000 [11:03<02:56,  2.37it/s]"
     ]
    },
    {
     "name": "stdout",
     "output_type": "stream",
     "text": [
      "0\n"
     ]
    },
    {
     "name": "stderr",
     "output_type": "stream",
     "text": [
      "0it [00:00, ?it/s]\n",
      " 58%|█████▊    | 583/1000 [11:03<02:54,  2.39it/s]"
     ]
    },
    {
     "name": "stdout",
     "output_type": "stream",
     "text": [
      "0\n"
     ]
    },
    {
     "name": "stderr",
     "output_type": "stream",
     "text": [
      "0it [00:00, ?it/s]\n",
      " 58%|█████▊    | 584/1000 [11:03<02:27,  2.82it/s]"
     ]
    },
    {
     "name": "stdout",
     "output_type": "stream",
     "text": [
      "0\n"
     ]
    },
    {
     "name": "stderr",
     "output_type": "stream",
     "text": [
      "0it [00:00, ?it/s]\n",
      " 58%|█████▊    | 585/1000 [11:04<02:21,  2.94it/s]"
     ]
    },
    {
     "name": "stdout",
     "output_type": "stream",
     "text": [
      "0\n"
     ]
    },
    {
     "name": "stderr",
     "output_type": "stream",
     "text": [
      "100%|██████████| 1/1 [00:00<00:00,  2.49it/s]\n",
      " 59%|█████▊    | 586/1000 [11:05<04:42,  1.46it/s]"
     ]
    },
    {
     "name": "stdout",
     "output_type": "stream",
     "text": [
      "15\n"
     ]
    },
    {
     "name": "stderr",
     "output_type": "stream",
     "text": [
      "0it [00:00, ?it/s]\n",
      " 59%|█████▊    | 587/1000 [11:06<04:09,  1.66it/s]"
     ]
    },
    {
     "name": "stdout",
     "output_type": "stream",
     "text": [
      "0\n"
     ]
    },
    {
     "name": "stderr",
     "output_type": "stream",
     "text": [
      "0it [00:00, ?it/s]\n",
      " 59%|█████▉    | 588/1000 [11:06<03:25,  2.00it/s]"
     ]
    },
    {
     "name": "stdout",
     "output_type": "stream",
     "text": [
      "0\n"
     ]
    },
    {
     "name": "stderr",
     "output_type": "stream",
     "text": [
      "0it [00:00, ?it/s]\n",
      " 59%|█████▉    | 589/1000 [11:06<02:45,  2.49it/s]"
     ]
    },
    {
     "name": "stdout",
     "output_type": "stream",
     "text": [
      "0\n"
     ]
    },
    {
     "name": "stderr",
     "output_type": "stream",
     "text": [
      "0it [00:00, ?it/s]\n",
      " 59%|█████▉    | 590/1000 [11:06<02:29,  2.74it/s]"
     ]
    },
    {
     "name": "stdout",
     "output_type": "stream",
     "text": [
      "0\n"
     ]
    },
    {
     "name": "stderr",
     "output_type": "stream",
     "text": [
      "0it [00:00, ?it/s]\n",
      " 59%|█████▉    | 591/1000 [11:06<02:05,  3.26it/s]"
     ]
    },
    {
     "name": "stdout",
     "output_type": "stream",
     "text": [
      "0\n"
     ]
    },
    {
     "name": "stderr",
     "output_type": "stream",
     "text": [
      "0it [00:00, ?it/s]\n",
      " 59%|█████▉    | 592/1000 [11:07<01:58,  3.44it/s]"
     ]
    },
    {
     "name": "stdout",
     "output_type": "stream",
     "text": [
      "0\n"
     ]
    },
    {
     "name": "stderr",
     "output_type": "stream",
     "text": [
      "0it [00:00, ?it/s]\n",
      " 59%|█████▉    | 593/1000 [11:07<01:51,  3.66it/s]"
     ]
    },
    {
     "name": "stdout",
     "output_type": "stream",
     "text": [
      "0\n"
     ]
    },
    {
     "name": "stderr",
     "output_type": "stream",
     "text": [
      "0it [00:00, ?it/s]\n",
      " 59%|█████▉    | 594/1000 [11:07<02:20,  2.89it/s]"
     ]
    },
    {
     "name": "stdout",
     "output_type": "stream",
     "text": [
      "0\n"
     ]
    },
    {
     "name": "stderr",
     "output_type": "stream",
     "text": [
      "0it [00:00, ?it/s]\n",
      " 60%|█████▉    | 595/1000 [11:08<02:06,  3.20it/s]"
     ]
    },
    {
     "name": "stdout",
     "output_type": "stream",
     "text": [
      "0\n"
     ]
    },
    {
     "name": "stderr",
     "output_type": "stream",
     "text": [
      "0it [00:00, ?it/s]\n",
      " 60%|█████▉    | 596/1000 [11:08<03:00,  2.24it/s]"
     ]
    },
    {
     "name": "stdout",
     "output_type": "stream",
     "text": [
      "0\n"
     ]
    },
    {
     "name": "stderr",
     "output_type": "stream",
     "text": [
      "0it [00:00, ?it/s]\n",
      " 60%|█████▉    | 597/1000 [11:09<02:28,  2.71it/s]"
     ]
    },
    {
     "name": "stdout",
     "output_type": "stream",
     "text": [
      "0\n"
     ]
    },
    {
     "name": "stderr",
     "output_type": "stream",
     "text": [
      "0it [00:00, ?it/s]\n",
      " 60%|█████▉    | 598/1000 [11:09<02:28,  2.70it/s]"
     ]
    },
    {
     "name": "stdout",
     "output_type": "stream",
     "text": [
      "0\n"
     ]
    },
    {
     "name": "stderr",
     "output_type": "stream",
     "text": [
      "0it [00:00, ?it/s]\n",
      " 60%|█████▉    | 599/1000 [11:10<02:59,  2.23it/s]"
     ]
    },
    {
     "name": "stdout",
     "output_type": "stream",
     "text": [
      "0\n"
     ]
    },
    {
     "name": "stderr",
     "output_type": "stream",
     "text": [
      "0it [00:00, ?it/s]\n",
      " 60%|██████    | 600/1000 [11:10<02:29,  2.67it/s]"
     ]
    },
    {
     "name": "stdout",
     "output_type": "stream",
     "text": [
      "0\n"
     ]
    },
    {
     "name": "stderr",
     "output_type": "stream",
     "text": [
      "0it [00:00, ?it/s]\n",
      " 60%|██████    | 601/1000 [11:10<02:13,  2.99it/s]"
     ]
    },
    {
     "name": "stdout",
     "output_type": "stream",
     "text": [
      "0\n"
     ]
    },
    {
     "name": "stderr",
     "output_type": "stream",
     "text": [
      "0it [00:00, ?it/s]\n",
      " 60%|██████    | 602/1000 [11:10<02:03,  3.21it/s]"
     ]
    },
    {
     "name": "stdout",
     "output_type": "stream",
     "text": [
      "0\n"
     ]
    },
    {
     "name": "stderr",
     "output_type": "stream",
     "text": [
      "0it [00:00, ?it/s]\n",
      " 60%|██████    | 603/1000 [11:11<02:16,  2.92it/s]"
     ]
    },
    {
     "name": "stdout",
     "output_type": "stream",
     "text": [
      "0\n"
     ]
    },
    {
     "name": "stderr",
     "output_type": "stream",
     "text": [
      "0it [00:00, ?it/s]\n",
      " 60%|██████    | 604/1000 [11:11<02:14,  2.95it/s]"
     ]
    },
    {
     "name": "stdout",
     "output_type": "stream",
     "text": [
      "0\n"
     ]
    },
    {
     "name": "stderr",
     "output_type": "stream",
     "text": [
      "0it [00:00, ?it/s]\n",
      " 60%|██████    | 605/1000 [11:11<01:59,  3.31it/s]"
     ]
    },
    {
     "name": "stdout",
     "output_type": "stream",
     "text": [
      "0\n"
     ]
    },
    {
     "name": "stderr",
     "output_type": "stream",
     "text": [
      "0it [00:00, ?it/s]\n",
      " 61%|██████    | 606/1000 [11:11<01:44,  3.76it/s]"
     ]
    },
    {
     "name": "stdout",
     "output_type": "stream",
     "text": [
      "0\n"
     ]
    },
    {
     "name": "stderr",
     "output_type": "stream",
     "text": [
      "0it [00:00, ?it/s]\n",
      " 61%|██████    | 607/1000 [11:12<01:42,  3.84it/s]"
     ]
    },
    {
     "name": "stdout",
     "output_type": "stream",
     "text": [
      "0\n"
     ]
    },
    {
     "name": "stderr",
     "output_type": "stream",
     "text": [
      "0it [00:00, ?it/s]\n",
      " 61%|██████    | 608/1000 [11:12<02:04,  3.14it/s]"
     ]
    },
    {
     "name": "stdout",
     "output_type": "stream",
     "text": [
      "0\n"
     ]
    },
    {
     "name": "stderr",
     "output_type": "stream",
     "text": [
      "0it [00:00, ?it/s]\n",
      " 61%|██████    | 609/1000 [11:13<02:12,  2.95it/s]"
     ]
    },
    {
     "name": "stdout",
     "output_type": "stream",
     "text": [
      "0\n"
     ]
    },
    {
     "name": "stderr",
     "output_type": "stream",
     "text": [
      "0it [00:00, ?it/s]\n",
      " 61%|██████    | 610/1000 [11:13<02:15,  2.88it/s]"
     ]
    },
    {
     "name": "stdout",
     "output_type": "stream",
     "text": [
      "0\n"
     ]
    },
    {
     "name": "stderr",
     "output_type": "stream",
     "text": [
      "0it [00:00, ?it/s]\n",
      " 61%|██████    | 611/1000 [11:13<02:02,  3.17it/s]"
     ]
    },
    {
     "name": "stdout",
     "output_type": "stream",
     "text": [
      "0\n"
     ]
    },
    {
     "name": "stderr",
     "output_type": "stream",
     "text": [
      "0it [00:00, ?it/s]\n",
      " 61%|██████    | 612/1000 [11:14<02:19,  2.78it/s]"
     ]
    },
    {
     "name": "stdout",
     "output_type": "stream",
     "text": [
      "0\n"
     ]
    },
    {
     "name": "stderr",
     "output_type": "stream",
     "text": [
      "0it [00:00, ?it/s]\n",
      " 61%|██████▏   | 613/1000 [11:14<02:10,  2.96it/s]"
     ]
    },
    {
     "name": "stdout",
     "output_type": "stream",
     "text": [
      "0\n"
     ]
    },
    {
     "name": "stderr",
     "output_type": "stream",
     "text": [
      "0it [00:00, ?it/s]\n",
      " 61%|██████▏   | 614/1000 [11:14<01:52,  3.43it/s]"
     ]
    },
    {
     "name": "stdout",
     "output_type": "stream",
     "text": [
      "0\n"
     ]
    },
    {
     "name": "stderr",
     "output_type": "stream",
     "text": [
      "0it [00:00, ?it/s]\n",
      " 62%|██████▏   | 615/1000 [11:14<01:44,  3.69it/s]"
     ]
    },
    {
     "name": "stdout",
     "output_type": "stream",
     "text": [
      "0\n"
     ]
    },
    {
     "name": "stderr",
     "output_type": "stream",
     "text": [
      "0it [00:00, ?it/s]\n",
      " 62%|██████▏   | 616/1000 [11:15<01:39,  3.86it/s]"
     ]
    },
    {
     "name": "stdout",
     "output_type": "stream",
     "text": [
      "0\n"
     ]
    },
    {
     "name": "stderr",
     "output_type": "stream",
     "text": [
      "100%|██████████| 1/1 [00:00<00:00,  4.81it/s]\n",
      " 62%|██████▏   | 617/1000 [11:16<03:10,  2.01it/s]"
     ]
    },
    {
     "name": "stdout",
     "output_type": "stream",
     "text": [
      "1\n"
     ]
    },
    {
     "name": "stderr",
     "output_type": "stream",
     "text": [
      "0it [00:00, ?it/s]\n",
      " 62%|██████▏   | 618/1000 [11:16<02:42,  2.35it/s]"
     ]
    },
    {
     "name": "stdout",
     "output_type": "stream",
     "text": [
      "0\n"
     ]
    },
    {
     "name": "stderr",
     "output_type": "stream",
     "text": [
      "100%|██████████| 1/1 [00:00<00:00,  4.52it/s]\n",
      " 62%|██████▏   | 619/1000 [11:16<02:44,  2.32it/s]"
     ]
    },
    {
     "name": "stdout",
     "output_type": "stream",
     "text": [
      "1\n"
     ]
    },
    {
     "name": "stderr",
     "output_type": "stream",
     "text": [
      "0it [00:00, ?it/s]\n",
      " 62%|██████▏   | 620/1000 [11:17<02:24,  2.63it/s]"
     ]
    },
    {
     "name": "stdout",
     "output_type": "stream",
     "text": [
      "0\n"
     ]
    },
    {
     "name": "stderr",
     "output_type": "stream",
     "text": [
      "100%|██████████| 1/1 [00:00<00:00,  4.62it/s]\n",
      " 62%|██████▏   | 621/1000 [11:17<02:31,  2.51it/s]"
     ]
    },
    {
     "name": "stdout",
     "output_type": "stream",
     "text": [
      "1\n"
     ]
    },
    {
     "name": "stderr",
     "output_type": "stream",
     "text": [
      "100%|██████████| 1/1 [00:00<00:00,  5.01it/s]\n",
      " 62%|██████▏   | 622/1000 [11:17<02:39,  2.37it/s]"
     ]
    },
    {
     "name": "stdout",
     "output_type": "stream",
     "text": [
      "2\n"
     ]
    },
    {
     "name": "stderr",
     "output_type": "stream",
     "text": [
      "0it [00:00, ?it/s]\n",
      " 62%|██████▏   | 623/1000 [11:18<02:20,  2.68it/s]"
     ]
    },
    {
     "name": "stdout",
     "output_type": "stream",
     "text": [
      "0\n"
     ]
    },
    {
     "name": "stderr",
     "output_type": "stream",
     "text": [
      "0it [00:00, ?it/s]\n"
     ]
    },
    {
     "name": "stdout",
     "output_type": "stream",
     "text": [
      "0"
     ]
    },
    {
     "name": "stderr",
     "output_type": "stream",
     "text": [
      " 62%|██████▏   | 624/1000 [11:18<02:00,  3.11it/s]"
     ]
    },
    {
     "name": "stdout",
     "output_type": "stream",
     "text": [
      "\n"
     ]
    },
    {
     "name": "stderr",
     "output_type": "stream",
     "text": [
      "0it [00:00, ?it/s]\n",
      " 62%|██████▎   | 625/1000 [11:18<02:05,  2.99it/s]"
     ]
    },
    {
     "name": "stdout",
     "output_type": "stream",
     "text": [
      "0\n"
     ]
    },
    {
     "name": "stderr",
     "output_type": "stream",
     "text": [
      "0it [00:00, ?it/s]\n",
      " 63%|██████▎   | 626/1000 [11:18<01:47,  3.48it/s]"
     ]
    },
    {
     "name": "stdout",
     "output_type": "stream",
     "text": [
      "0\n"
     ]
    },
    {
     "name": "stderr",
     "output_type": "stream",
     "text": [
      "0it [00:00, ?it/s]\n",
      " 63%|██████▎   | 627/1000 [11:19<01:52,  3.32it/s]"
     ]
    },
    {
     "name": "stdout",
     "output_type": "stream",
     "text": [
      "0\n"
     ]
    },
    {
     "name": "stderr",
     "output_type": "stream",
     "text": [
      "0it [00:00, ?it/s]\n",
      " 63%|██████▎   | 628/1000 [11:19<02:00,  3.08it/s]"
     ]
    },
    {
     "name": "stdout",
     "output_type": "stream",
     "text": [
      "0\n"
     ]
    },
    {
     "name": "stderr",
     "output_type": "stream",
     "text": [
      "0it [00:00, ?it/s]\n",
      " 63%|██████▎   | 629/1000 [11:19<01:45,  3.51it/s]"
     ]
    },
    {
     "name": "stdout",
     "output_type": "stream",
     "text": [
      "0\n"
     ]
    },
    {
     "name": "stderr",
     "output_type": "stream",
     "text": [
      "100%|██████████| 1/1 [00:00<00:00,  1.22it/s]\n",
      " 63%|██████▎   | 630/1000 [11:21<03:50,  1.61it/s]"
     ]
    },
    {
     "name": "stdout",
     "output_type": "stream",
     "text": [
      "12\n"
     ]
    },
    {
     "name": "stderr",
     "output_type": "stream",
     "text": [
      "100%|██████████| 4/4 [00:01<00:00,  2.85it/s]\n",
      " 63%|██████▎   | 631/1000 [11:23<06:02,  1.02it/s]"
     ]
    },
    {
     "name": "stdout",
     "output_type": "stream",
     "text": [
      "62\n"
     ]
    },
    {
     "name": "stderr",
     "output_type": "stream",
     "text": [
      "100%|██████████| 1/1 [00:00<00:00,  3.42it/s]\n",
      " 63%|██████▎   | 632/1000 [11:23<05:27,  1.12it/s]"
     ]
    },
    {
     "name": "stdout",
     "output_type": "stream",
     "text": [
      "7\n"
     ]
    },
    {
     "name": "stderr",
     "output_type": "stream",
     "text": [
      "0it [00:00, ?it/s]\n",
      " 63%|██████▎   | 633/1000 [11:23<04:09,  1.47it/s]"
     ]
    },
    {
     "name": "stdout",
     "output_type": "stream",
     "text": [
      "0\n"
     ]
    },
    {
     "name": "stderr",
     "output_type": "stream",
     "text": [
      "0it [00:00, ?it/s]\n",
      " 63%|██████▎   | 634/1000 [11:24<03:20,  1.82it/s]"
     ]
    },
    {
     "name": "stdout",
     "output_type": "stream",
     "text": [
      "0\n"
     ]
    },
    {
     "name": "stderr",
     "output_type": "stream",
     "text": [
      "100%|██████████| 1/1 [00:00<00:00,  3.39it/s]\n",
      " 64%|██████▎   | 635/1000 [11:24<03:22,  1.81it/s]"
     ]
    },
    {
     "name": "stdout",
     "output_type": "stream",
     "text": [
      "2\n"
     ]
    },
    {
     "name": "stderr",
     "output_type": "stream",
     "text": [
      "0it [00:00, ?it/s]\n",
      " 64%|██████▎   | 636/1000 [11:25<02:48,  2.16it/s]"
     ]
    },
    {
     "name": "stdout",
     "output_type": "stream",
     "text": [
      "0\n"
     ]
    },
    {
     "name": "stderr",
     "output_type": "stream",
     "text": [
      "0it [00:00, ?it/s]\n",
      " 64%|██████▎   | 637/1000 [11:25<02:42,  2.23it/s]"
     ]
    },
    {
     "name": "stdout",
     "output_type": "stream",
     "text": [
      "0\n"
     ]
    },
    {
     "name": "stderr",
     "output_type": "stream",
     "text": [
      "0it [00:00, ?it/s]\n",
      " 64%|██████▍   | 638/1000 [11:25<02:42,  2.23it/s]"
     ]
    },
    {
     "name": "stdout",
     "output_type": "stream",
     "text": [
      "0\n"
     ]
    },
    {
     "name": "stderr",
     "output_type": "stream",
     "text": [
      "0it [00:00, ?it/s]\n",
      " 64%|██████▍   | 639/1000 [11:26<02:14,  2.68it/s]"
     ]
    },
    {
     "name": "stdout",
     "output_type": "stream",
     "text": [
      "0\n"
     ]
    },
    {
     "name": "stderr",
     "output_type": "stream",
     "text": [
      "0it [00:00, ?it/s]\n",
      " 64%|██████▍   | 640/1000 [11:26<02:59,  2.01it/s]"
     ]
    },
    {
     "name": "stdout",
     "output_type": "stream",
     "text": [
      "0\n"
     ]
    },
    {
     "name": "stderr",
     "output_type": "stream",
     "text": [
      "0it [00:00, ?it/s]\n",
      " 64%|██████▍   | 641/1000 [11:27<02:27,  2.43it/s]"
     ]
    },
    {
     "name": "stdout",
     "output_type": "stream",
     "text": [
      "0\n"
     ]
    },
    {
     "name": "stderr",
     "output_type": "stream",
     "text": [
      "100%|██████████| 1/1 [00:00<00:00,  4.32it/s]\n",
      " 64%|██████▍   | 642/1000 [11:27<02:59,  2.00it/s]"
     ]
    },
    {
     "name": "stdout",
     "output_type": "stream",
     "text": [
      "2\n"
     ]
    },
    {
     "name": "stderr",
     "output_type": "stream",
     "text": [
      "0it [00:00, ?it/s]\n",
      " 64%|██████▍   | 643/1000 [11:27<02:24,  2.47it/s]"
     ]
    },
    {
     "name": "stdout",
     "output_type": "stream",
     "text": [
      "0\n"
     ]
    },
    {
     "name": "stderr",
     "output_type": "stream",
     "text": [
      "0it [00:00, ?it/s]\n",
      " 64%|██████▍   | 644/1000 [11:28<02:06,  2.82it/s]"
     ]
    },
    {
     "name": "stdout",
     "output_type": "stream",
     "text": [
      "0\n"
     ]
    },
    {
     "name": "stderr",
     "output_type": "stream",
     "text": [
      "100%|██████████| 1/1 [00:00<00:00,  3.29it/s]\n",
      " 64%|██████▍   | 645/1000 [11:28<02:46,  2.13it/s]"
     ]
    },
    {
     "name": "stdout",
     "output_type": "stream",
     "text": [
      "10\n"
     ]
    },
    {
     "name": "stderr",
     "output_type": "stream",
     "text": [
      "0it [00:00, ?it/s]\n",
      " 65%|██████▍   | 646/1000 [11:29<02:31,  2.34it/s]"
     ]
    },
    {
     "name": "stdout",
     "output_type": "stream",
     "text": [
      "0\n"
     ]
    },
    {
     "name": "stderr",
     "output_type": "stream",
     "text": [
      "0it [00:00, ?it/s]\n",
      " 65%|██████▍   | 647/1000 [11:29<02:05,  2.81it/s]"
     ]
    },
    {
     "name": "stdout",
     "output_type": "stream",
     "text": [
      "0\n"
     ]
    },
    {
     "name": "stderr",
     "output_type": "stream",
     "text": [
      "0it [00:00, ?it/s]\n",
      " 65%|██████▍   | 648/1000 [11:29<02:13,  2.64it/s]"
     ]
    },
    {
     "name": "stdout",
     "output_type": "stream",
     "text": [
      "0\n"
     ]
    },
    {
     "name": "stderr",
     "output_type": "stream",
     "text": [
      "0it [00:00, ?it/s]\n",
      " 65%|██████▍   | 649/1000 [11:30<01:52,  3.11it/s]"
     ]
    },
    {
     "name": "stdout",
     "output_type": "stream",
     "text": [
      "0\n"
     ]
    },
    {
     "name": "stderr",
     "output_type": "stream",
     "text": [
      "0it [00:00, ?it/s]\n",
      " 65%|██████▌   | 650/1000 [11:30<01:44,  3.36it/s]"
     ]
    },
    {
     "name": "stdout",
     "output_type": "stream",
     "text": [
      "0\n"
     ]
    },
    {
     "name": "stderr",
     "output_type": "stream",
     "text": [
      "0it [00:00, ?it/s]\n",
      " 65%|██████▌   | 651/1000 [11:30<01:31,  3.82it/s]"
     ]
    },
    {
     "name": "stdout",
     "output_type": "stream",
     "text": [
      "0\n"
     ]
    },
    {
     "name": "stderr",
     "output_type": "stream",
     "text": [
      "0it [00:00, ?it/s]\n",
      " 65%|██████▌   | 652/1000 [11:30<01:28,  3.94it/s]"
     ]
    },
    {
     "name": "stdout",
     "output_type": "stream",
     "text": [
      "0\n"
     ]
    },
    {
     "name": "stderr",
     "output_type": "stream",
     "text": [
      "0it [00:00, ?it/s]\n",
      " 65%|██████▌   | 653/1000 [11:30<01:28,  3.93it/s]"
     ]
    },
    {
     "name": "stdout",
     "output_type": "stream",
     "text": [
      "0\n"
     ]
    },
    {
     "name": "stderr",
     "output_type": "stream",
     "text": [
      "0it [00:00, ?it/s]\n",
      " 65%|██████▌   | 654/1000 [11:31<01:19,  4.36it/s]"
     ]
    },
    {
     "name": "stdout",
     "output_type": "stream",
     "text": [
      "0\n"
     ]
    },
    {
     "name": "stderr",
     "output_type": "stream",
     "text": [
      "0it [00:00, ?it/s]\n",
      " 66%|██████▌   | 655/1000 [11:31<01:26,  4.00it/s]"
     ]
    },
    {
     "name": "stdout",
     "output_type": "stream",
     "text": [
      "0\n"
     ]
    },
    {
     "name": "stderr",
     "output_type": "stream",
     "text": [
      "0it [00:00, ?it/s]\n",
      " 66%|██████▌   | 656/1000 [11:31<01:21,  4.22it/s]"
     ]
    },
    {
     "name": "stdout",
     "output_type": "stream",
     "text": [
      "0\n"
     ]
    },
    {
     "name": "stderr",
     "output_type": "stream",
     "text": [
      "0it [00:00, ?it/s]\n",
      " 66%|██████▌   | 657/1000 [11:31<01:16,  4.49it/s]"
     ]
    },
    {
     "name": "stdout",
     "output_type": "stream",
     "text": [
      "0\n"
     ]
    },
    {
     "name": "stderr",
     "output_type": "stream",
     "text": [
      "0it [00:00, ?it/s]\n",
      " 66%|██████▌   | 658/1000 [11:32<01:16,  4.46it/s]"
     ]
    },
    {
     "name": "stdout",
     "output_type": "stream",
     "text": [
      "0\n"
     ]
    },
    {
     "name": "stderr",
     "output_type": "stream",
     "text": [
      "100%|██████████| 1/1 [00:00<00:00,  4.01it/s]\n",
      " 66%|██████▌   | 659/1000 [11:32<02:13,  2.56it/s]"
     ]
    },
    {
     "name": "stdout",
     "output_type": "stream",
     "text": [
      "6\n"
     ]
    },
    {
     "name": "stderr",
     "output_type": "stream",
     "text": [
      "100%|██████████| 1/1 [00:00<00:00,  4.74it/s]\n",
      " 66%|██████▌   | 660/1000 [11:33<02:16,  2.50it/s]"
     ]
    },
    {
     "name": "stdout",
     "output_type": "stream",
     "text": [
      "1\n"
     ]
    },
    {
     "name": "stderr",
     "output_type": "stream",
     "text": [
      "100%|██████████| 1/1 [00:00<00:00,  2.64it/s]\n",
      " 66%|██████▌   | 661/1000 [11:33<02:42,  2.08it/s]"
     ]
    },
    {
     "name": "stdout",
     "output_type": "stream",
     "text": [
      "11\n"
     ]
    },
    {
     "name": "stderr",
     "output_type": "stream",
     "text": [
      "0it [00:00, ?it/s]\n",
      " 66%|██████▌   | 662/1000 [11:34<02:19,  2.42it/s]"
     ]
    },
    {
     "name": "stdout",
     "output_type": "stream",
     "text": [
      "0\n"
     ]
    },
    {
     "name": "stderr",
     "output_type": "stream",
     "text": [
      "0it [00:00, ?it/s]\n",
      " 66%|██████▋   | 663/1000 [11:34<01:57,  2.87it/s]"
     ]
    },
    {
     "name": "stdout",
     "output_type": "stream",
     "text": [
      "0\n"
     ]
    },
    {
     "name": "stderr",
     "output_type": "stream",
     "text": [
      "0it [00:00, ?it/s]\n",
      " 66%|██████▋   | 664/1000 [11:34<01:47,  3.11it/s]"
     ]
    },
    {
     "name": "stdout",
     "output_type": "stream",
     "text": [
      "0\n"
     ]
    },
    {
     "name": "stderr",
     "output_type": "stream",
     "text": [
      "0it [00:00, ?it/s]\n",
      " 66%|██████▋   | 665/1000 [11:34<01:33,  3.58it/s]"
     ]
    },
    {
     "name": "stdout",
     "output_type": "stream",
     "text": [
      "0\n"
     ]
    },
    {
     "name": "stderr",
     "output_type": "stream",
     "text": [
      "0it [00:00, ?it/s]\n",
      " 67%|██████▋   | 666/1000 [11:35<01:39,  3.35it/s]"
     ]
    },
    {
     "name": "stdout",
     "output_type": "stream",
     "text": [
      "0\n"
     ]
    },
    {
     "name": "stderr",
     "output_type": "stream",
     "text": [
      "0it [00:00, ?it/s]\n",
      " 67%|██████▋   | 667/1000 [11:35<01:44,  3.18it/s]"
     ]
    },
    {
     "name": "stdout",
     "output_type": "stream",
     "text": [
      "0\n"
     ]
    },
    {
     "name": "stderr",
     "output_type": "stream",
     "text": [
      "0it [00:00, ?it/s]\n",
      " 67%|██████▋   | 668/1000 [11:35<01:40,  3.31it/s]"
     ]
    },
    {
     "name": "stdout",
     "output_type": "stream",
     "text": [
      "0\n"
     ]
    },
    {
     "name": "stderr",
     "output_type": "stream",
     "text": [
      "0it [00:00, ?it/s]\n",
      " 67%|██████▋   | 669/1000 [11:36<01:33,  3.56it/s]"
     ]
    },
    {
     "name": "stdout",
     "output_type": "stream",
     "text": [
      "0\n"
     ]
    },
    {
     "name": "stderr",
     "output_type": "stream",
     "text": [
      "0it [00:00, ?it/s]\n",
      " 67%|██████▋   | 670/1000 [11:36<01:27,  3.79it/s]"
     ]
    },
    {
     "name": "stdout",
     "output_type": "stream",
     "text": [
      "0\n"
     ]
    },
    {
     "name": "stderr",
     "output_type": "stream",
     "text": [
      "100%|██████████| 1/1 [00:01<00:00,  1.37s/it]\n",
      " 67%|██████▋   | 671/1000 [11:37<03:45,  1.46it/s]"
     ]
    },
    {
     "name": "stdout",
     "output_type": "stream",
     "text": [
      "1\n"
     ]
    },
    {
     "name": "stderr",
     "output_type": "stream",
     "text": [
      "0it [00:00, ?it/s]\n",
      " 67%|██████▋   | 672/1000 [11:38<02:57,  1.84it/s]"
     ]
    },
    {
     "name": "stdout",
     "output_type": "stream",
     "text": [
      "0\n"
     ]
    },
    {
     "name": "stderr",
     "output_type": "stream",
     "text": [
      "100%|██████████| 1/1 [00:00<00:00,  2.45it/s]\n",
      " 67%|██████▋   | 673/1000 [11:38<03:18,  1.65it/s]"
     ]
    },
    {
     "name": "stdout",
     "output_type": "stream",
     "text": [
      "14\n"
     ]
    },
    {
     "name": "stderr",
     "output_type": "stream",
     "text": [
      "0it [00:00, ?it/s]\n",
      " 67%|██████▋   | 674/1000 [11:39<02:51,  1.90it/s]"
     ]
    },
    {
     "name": "stdout",
     "output_type": "stream",
     "text": [
      "0\n"
     ]
    },
    {
     "name": "stderr",
     "output_type": "stream",
     "text": [
      "0it [00:00, ?it/s]\n",
      " 68%|██████▊   | 675/1000 [11:39<02:41,  2.02it/s]"
     ]
    },
    {
     "name": "stdout",
     "output_type": "stream",
     "text": [
      "0\n"
     ]
    },
    {
     "name": "stderr",
     "output_type": "stream",
     "text": [
      "0it [00:00, ?it/s]\n",
      " 68%|██████▊   | 676/1000 [11:40<02:53,  1.87it/s]"
     ]
    },
    {
     "name": "stdout",
     "output_type": "stream",
     "text": [
      "0\n"
     ]
    },
    {
     "name": "stderr",
     "output_type": "stream",
     "text": [
      "0it [00:00, ?it/s]\n",
      " 68%|██████▊   | 677/1000 [11:40<02:42,  1.99it/s]"
     ]
    },
    {
     "name": "stdout",
     "output_type": "stream",
     "text": [
      "0\n"
     ]
    },
    {
     "name": "stderr",
     "output_type": "stream",
     "text": [
      "100%|██████████| 1/1 [00:01<00:00,  1.53s/it]\n",
      " 68%|██████▊   | 678/1000 [11:42<05:03,  1.06it/s]"
     ]
    },
    {
     "name": "stdout",
     "output_type": "stream",
     "text": [
      "16\n"
     ]
    },
    {
     "name": "stderr",
     "output_type": "stream",
     "text": [
      "0it [00:00, ?it/s]\n",
      " 68%|██████▊   | 679/1000 [11:42<03:50,  1.39it/s]"
     ]
    },
    {
     "name": "stdout",
     "output_type": "stream",
     "text": [
      "0\n"
     ]
    },
    {
     "name": "stderr",
     "output_type": "stream",
     "text": [
      "0it [00:00, ?it/s]\n",
      " 68%|██████▊   | 680/1000 [11:43<03:14,  1.64it/s]"
     ]
    },
    {
     "name": "stdout",
     "output_type": "stream",
     "text": [
      "0\n"
     ]
    },
    {
     "name": "stderr",
     "output_type": "stream",
     "text": [
      "0it [00:00, ?it/s]\n",
      " 68%|██████▊   | 681/1000 [11:43<02:42,  1.96it/s]"
     ]
    },
    {
     "name": "stdout",
     "output_type": "stream",
     "text": [
      "0\n"
     ]
    },
    {
     "name": "stderr",
     "output_type": "stream",
     "text": [
      "0it [00:00, ?it/s]\n",
      " 68%|██████▊   | 682/1000 [11:43<02:19,  2.27it/s]"
     ]
    },
    {
     "name": "stdout",
     "output_type": "stream",
     "text": [
      "0\n"
     ]
    },
    {
     "name": "stderr",
     "output_type": "stream",
     "text": [
      "0it [00:00, ?it/s]\n",
      " 68%|██████▊   | 683/1000 [11:44<03:31,  1.50it/s]"
     ]
    },
    {
     "name": "stdout",
     "output_type": "stream",
     "text": [
      "0\n"
     ]
    },
    {
     "name": "stderr",
     "output_type": "stream",
     "text": [
      "100%|██████████| 1/1 [00:00<00:00,  1.59it/s]\n",
      " 68%|██████▊   | 684/1000 [11:46<04:10,  1.26it/s]"
     ]
    },
    {
     "name": "stdout",
     "output_type": "stream",
     "text": [
      "1\n"
     ]
    },
    {
     "name": "stderr",
     "output_type": "stream",
     "text": [
      "0it [00:00, ?it/s]\n",
      " 68%|██████▊   | 685/1000 [11:46<03:47,  1.39it/s]"
     ]
    },
    {
     "name": "stdout",
     "output_type": "stream",
     "text": [
      "0\n"
     ]
    },
    {
     "name": "stderr",
     "output_type": "stream",
     "text": [
      "100%|██████████| 1/1 [00:00<00:00,  1.46it/s]\n",
      " 69%|██████▊   | 686/1000 [11:47<04:06,  1.27it/s]"
     ]
    },
    {
     "name": "stdout",
     "output_type": "stream",
     "text": [
      "5\n"
     ]
    },
    {
     "name": "stderr",
     "output_type": "stream",
     "text": [
      "0it [00:00, ?it/s]\n",
      " 69%|██████▊   | 687/1000 [11:47<03:07,  1.67it/s]"
     ]
    },
    {
     "name": "stdout",
     "output_type": "stream",
     "text": [
      "0\n"
     ]
    },
    {
     "name": "stderr",
     "output_type": "stream",
     "text": [
      "0it [00:00, ?it/s]\n",
      " 69%|██████▉   | 688/1000 [11:48<03:10,  1.64it/s]"
     ]
    },
    {
     "name": "stdout",
     "output_type": "stream",
     "text": [
      "0\n"
     ]
    },
    {
     "name": "stderr",
     "output_type": "stream",
     "text": [
      "0it [00:00, ?it/s]\n",
      " 69%|██████▉   | 689/1000 [11:50<04:47,  1.08it/s]"
     ]
    },
    {
     "name": "stdout",
     "output_type": "stream",
     "text": [
      "0\n"
     ]
    },
    {
     "name": "stderr",
     "output_type": "stream",
     "text": [
      "0it [00:00, ?it/s]\n",
      " 69%|██████▉   | 690/1000 [11:50<03:54,  1.32it/s]"
     ]
    },
    {
     "name": "stdout",
     "output_type": "stream",
     "text": [
      "0\n"
     ]
    },
    {
     "name": "stderr",
     "output_type": "stream",
     "text": [
      "100%|██████████| 2/2 [00:01<00:00,  1.81it/s]\n",
      " 69%|██████▉   | 691/1000 [11:52<05:23,  1.05s/it]"
     ]
    },
    {
     "name": "stdout",
     "output_type": "stream",
     "text": [
      "36\n"
     ]
    },
    {
     "name": "stderr",
     "output_type": "stream",
     "text": [
      "100%|██████████| 1/1 [00:00<00:00,  4.18it/s]\n",
      " 69%|██████▉   | 692/1000 [11:52<04:32,  1.13it/s]"
     ]
    },
    {
     "name": "stdout",
     "output_type": "stream",
     "text": [
      "6\n"
     ]
    },
    {
     "name": "stderr",
     "output_type": "stream",
     "text": [
      "0it [00:00, ?it/s]\n",
      " 69%|██████▉   | 693/1000 [11:53<04:11,  1.22it/s]"
     ]
    },
    {
     "name": "stdout",
     "output_type": "stream",
     "text": [
      "0\n"
     ]
    },
    {
     "name": "stderr",
     "output_type": "stream",
     "text": [
      "0it [00:00, ?it/s]\n",
      " 69%|██████▉   | 694/1000 [11:53<03:42,  1.38it/s]"
     ]
    },
    {
     "name": "stdout",
     "output_type": "stream",
     "text": [
      "0\n"
     ]
    },
    {
     "name": "stderr",
     "output_type": "stream",
     "text": [
      "0it [00:00, ?it/s]\n",
      " 70%|██████▉   | 695/1000 [11:54<03:23,  1.50it/s]"
     ]
    },
    {
     "name": "stdout",
     "output_type": "stream",
     "text": [
      "0\n"
     ]
    },
    {
     "name": "stderr",
     "output_type": "stream",
     "text": [
      "0it [00:00, ?it/s]\n",
      " 70%|██████▉   | 696/1000 [11:55<03:53,  1.30it/s]"
     ]
    },
    {
     "name": "stdout",
     "output_type": "stream",
     "text": [
      "0\n"
     ]
    },
    {
     "name": "stderr",
     "output_type": "stream",
     "text": [
      "0it [00:00, ?it/s]\n",
      " 70%|██████▉   | 697/1000 [11:55<03:15,  1.55it/s]"
     ]
    },
    {
     "name": "stdout",
     "output_type": "stream",
     "text": [
      "0\n"
     ]
    },
    {
     "name": "stderr",
     "output_type": "stream",
     "text": [
      "0it [00:00, ?it/s]\n",
      " 70%|██████▉   | 698/1000 [11:56<02:59,  1.68it/s]"
     ]
    },
    {
     "name": "stdout",
     "output_type": "stream",
     "text": [
      "0\n"
     ]
    },
    {
     "name": "stderr",
     "output_type": "stream",
     "text": [
      "100%|██████████| 1/1 [00:00<00:00,  1.62it/s]\n",
      " 70%|██████▉   | 699/1000 [11:57<04:05,  1.23it/s]"
     ]
    },
    {
     "name": "stdout",
     "output_type": "stream",
     "text": [
      "2\n"
     ]
    },
    {
     "name": "stderr",
     "output_type": "stream",
     "text": [
      "100%|██████████| 1/1 [00:00<00:00,  1.88it/s]\n",
      " 70%|███████   | 700/1000 [11:58<04:52,  1.03it/s]"
     ]
    },
    {
     "name": "stdout",
     "output_type": "stream",
     "text": [
      "1\n"
     ]
    },
    {
     "name": "stderr",
     "output_type": "stream",
     "text": [
      "100%|██████████| 1/1 [00:00<00:00,  3.21it/s]\n",
      " 70%|███████   | 701/1000 [11:59<04:07,  1.21it/s]"
     ]
    },
    {
     "name": "stdout",
     "output_type": "stream",
     "text": [
      "1\n"
     ]
    },
    {
     "name": "stderr",
     "output_type": "stream",
     "text": [
      "100%|██████████| 1/1 [00:00<00:00,  3.52it/s]\n",
      " 70%|███████   | 702/1000 [11:59<03:35,  1.38it/s]"
     ]
    },
    {
     "name": "stdout",
     "output_type": "stream",
     "text": [
      "1\n"
     ]
    },
    {
     "name": "stderr",
     "output_type": "stream",
     "text": [
      "0it [00:00, ?it/s]\n",
      " 70%|███████   | 703/1000 [12:00<02:47,  1.77it/s]"
     ]
    },
    {
     "name": "stdout",
     "output_type": "stream",
     "text": [
      "0\n"
     ]
    },
    {
     "name": "stderr",
     "output_type": "stream",
     "text": [
      "0it [00:00, ?it/s]\n",
      " 70%|███████   | 704/1000 [12:00<02:16,  2.17it/s]"
     ]
    },
    {
     "name": "stdout",
     "output_type": "stream",
     "text": [
      "0\n"
     ]
    },
    {
     "name": "stderr",
     "output_type": "stream",
     "text": [
      "0it [00:00, ?it/s]\n",
      " 70%|███████   | 705/1000 [12:00<02:13,  2.21it/s]"
     ]
    },
    {
     "name": "stdout",
     "output_type": "stream",
     "text": [
      "0\n"
     ]
    },
    {
     "name": "stderr",
     "output_type": "stream",
     "text": [
      "0it [00:00, ?it/s]\n",
      " 71%|███████   | 706/1000 [12:00<01:49,  2.70it/s]"
     ]
    },
    {
     "name": "stdout",
     "output_type": "stream",
     "text": [
      "0\n"
     ]
    },
    {
     "name": "stderr",
     "output_type": "stream",
     "text": [
      "0it [00:00, ?it/s]\n",
      " 71%|███████   | 707/1000 [12:01<01:30,  3.23it/s]"
     ]
    },
    {
     "name": "stdout",
     "output_type": "stream",
     "text": [
      "0\n"
     ]
    },
    {
     "name": "stderr",
     "output_type": "stream",
     "text": [
      "100%|██████████| 1/1 [00:00<00:00,  3.07it/s]\n",
      " 71%|███████   | 708/1000 [12:01<02:14,  2.17it/s]"
     ]
    },
    {
     "name": "stdout",
     "output_type": "stream",
     "text": [
      "2\n"
     ]
    },
    {
     "name": "stderr",
     "output_type": "stream",
     "text": [
      "0it [00:00, ?it/s]\n",
      " 71%|███████   | 709/1000 [12:02<01:52,  2.58it/s]"
     ]
    },
    {
     "name": "stdout",
     "output_type": "stream",
     "text": [
      "0\n"
     ]
    },
    {
     "name": "stderr",
     "output_type": "stream",
     "text": [
      "0it [00:00, ?it/s]\n",
      " 71%|███████   | 710/1000 [12:02<01:37,  2.97it/s]"
     ]
    },
    {
     "name": "stdout",
     "output_type": "stream",
     "text": [
      "0\n"
     ]
    },
    {
     "name": "stderr",
     "output_type": "stream",
     "text": [
      "0it [00:00, ?it/s]\n",
      " 71%|███████   | 711/1000 [12:02<01:25,  3.38it/s]"
     ]
    },
    {
     "name": "stdout",
     "output_type": "stream",
     "text": [
      "0\n"
     ]
    },
    {
     "name": "stderr",
     "output_type": "stream",
     "text": [
      "100%|██████████| 1/1 [00:00<00:00,  1.22it/s]\n",
      " 71%|███████   | 712/1000 [12:04<03:12,  1.49it/s]"
     ]
    },
    {
     "name": "stdout",
     "output_type": "stream",
     "text": [
      "1\n"
     ]
    },
    {
     "name": "stderr",
     "output_type": "stream",
     "text": [
      "0it [00:00, ?it/s]\n",
      " 71%|███████▏  | 713/1000 [12:04<02:37,  1.83it/s]"
     ]
    },
    {
     "name": "stdout",
     "output_type": "stream",
     "text": [
      "0\n"
     ]
    },
    {
     "name": "stderr",
     "output_type": "stream",
     "text": [
      "100%|██████████| 1/1 [00:00<00:00,  3.99it/s]\n",
      " 71%|███████▏  | 714/1000 [12:04<02:34,  1.85it/s]"
     ]
    },
    {
     "name": "stdout",
     "output_type": "stream",
     "text": [
      "2\n"
     ]
    },
    {
     "name": "stderr",
     "output_type": "stream",
     "text": [
      "100%|██████████| 1/1 [00:00<00:00,  1.76it/s]\n",
      " 72%|███████▏  | 715/1000 [12:05<03:09,  1.51it/s]"
     ]
    },
    {
     "name": "stdout",
     "output_type": "stream",
     "text": [
      "1\n"
     ]
    },
    {
     "name": "stderr",
     "output_type": "stream",
     "text": [
      "0it [00:00, ?it/s]\n",
      " 72%|███████▏  | 716/1000 [12:06<02:46,  1.70it/s]"
     ]
    },
    {
     "name": "stdout",
     "output_type": "stream",
     "text": [
      "0\n"
     ]
    },
    {
     "name": "stderr",
     "output_type": "stream",
     "text": [
      "0it [00:00, ?it/s]\n",
      " 72%|███████▏  | 717/1000 [12:06<02:13,  2.12it/s]"
     ]
    },
    {
     "name": "stdout",
     "output_type": "stream",
     "text": [
      "0\n"
     ]
    },
    {
     "name": "stderr",
     "output_type": "stream",
     "text": [
      "100%|██████████| 1/1 [00:00<00:00,  5.32it/s]\n",
      " 72%|███████▏  | 718/1000 [12:06<02:12,  2.13it/s]"
     ]
    },
    {
     "name": "stdout",
     "output_type": "stream",
     "text": [
      "2\n"
     ]
    },
    {
     "name": "stderr",
     "output_type": "stream",
     "text": [
      "0it [00:00, ?it/s]\n",
      " 72%|███████▏  | 719/1000 [12:07<01:55,  2.42it/s]"
     ]
    },
    {
     "name": "stdout",
     "output_type": "stream",
     "text": [
      "0\n"
     ]
    },
    {
     "name": "stderr",
     "output_type": "stream",
     "text": [
      "0it [00:00, ?it/s]\n",
      " 72%|███████▏  | 720/1000 [12:07<01:40,  2.78it/s]"
     ]
    },
    {
     "name": "stdout",
     "output_type": "stream",
     "text": [
      "0\n"
     ]
    },
    {
     "name": "stderr",
     "output_type": "stream",
     "text": [
      "0it [00:00, ?it/s]\n",
      " 72%|███████▏  | 721/1000 [12:07<01:52,  2.48it/s]"
     ]
    },
    {
     "name": "stdout",
     "output_type": "stream",
     "text": [
      "0\n"
     ]
    },
    {
     "name": "stderr",
     "output_type": "stream",
     "text": [
      "0it [00:00, ?it/s]\n",
      " 72%|███████▏  | 722/1000 [12:08<01:51,  2.50it/s]"
     ]
    },
    {
     "name": "stdout",
     "output_type": "stream",
     "text": [
      "0\n"
     ]
    },
    {
     "name": "stderr",
     "output_type": "stream",
     "text": [
      "100%|██████████| 1/1 [00:00<00:00,  2.84it/s]\n",
      " 72%|███████▏  | 723/1000 [12:08<02:09,  2.13it/s]"
     ]
    },
    {
     "name": "stdout",
     "output_type": "stream",
     "text": [
      "4\n"
     ]
    },
    {
     "name": "stderr",
     "output_type": "stream",
     "text": [
      "100%|██████████| 1/1 [00:00<00:00,  2.57it/s]\n",
      " 72%|███████▏  | 724/1000 [12:09<02:30,  1.83it/s]"
     ]
    },
    {
     "name": "stdout",
     "output_type": "stream",
     "text": [
      "4\n"
     ]
    },
    {
     "name": "stderr",
     "output_type": "stream",
     "text": [
      "0it [00:00, ?it/s]\n",
      " 72%|███████▎  | 725/1000 [12:10<02:27,  1.86it/s]"
     ]
    },
    {
     "name": "stdout",
     "output_type": "stream",
     "text": [
      "0\n"
     ]
    },
    {
     "name": "stderr",
     "output_type": "stream",
     "text": [
      "0it [00:00, ?it/s]\n",
      " 73%|███████▎  | 726/1000 [12:10<02:16,  2.01it/s]"
     ]
    },
    {
     "name": "stdout",
     "output_type": "stream",
     "text": [
      "0\n"
     ]
    },
    {
     "name": "stderr",
     "output_type": "stream",
     "text": [
      "100%|██████████| 1/1 [00:02<00:00,  2.08s/it]\n",
      " 73%|███████▎  | 727/1000 [12:12<04:48,  1.06s/it]"
     ]
    },
    {
     "name": "stdout",
     "output_type": "stream",
     "text": [
      "3\n"
     ]
    },
    {
     "name": "stderr",
     "output_type": "stream",
     "text": [
      "0it [00:00, ?it/s]\n",
      " 73%|███████▎  | 728/1000 [12:13<03:45,  1.20it/s]"
     ]
    },
    {
     "name": "stdout",
     "output_type": "stream",
     "text": [
      "0\n"
     ]
    },
    {
     "name": "stderr",
     "output_type": "stream",
     "text": [
      "100%|██████████| 1/1 [00:00<00:00,  3.75it/s]\n",
      " 73%|███████▎  | 729/1000 [12:13<03:40,  1.23it/s]"
     ]
    },
    {
     "name": "stdout",
     "output_type": "stream",
     "text": [
      "1\n"
     ]
    },
    {
     "name": "stderr",
     "output_type": "stream",
     "text": [
      "0it [00:00, ?it/s]\n",
      " 73%|███████▎  | 730/1000 [12:14<02:47,  1.61it/s]"
     ]
    },
    {
     "name": "stdout",
     "output_type": "stream",
     "text": [
      "0\n"
     ]
    },
    {
     "name": "stderr",
     "output_type": "stream",
     "text": [
      "100%|██████████| 2/2 [00:00<00:00,  3.19it/s]\n",
      " 73%|███████▎  | 731/1000 [12:15<03:59,  1.12it/s]"
     ]
    },
    {
     "name": "stdout",
     "output_type": "stream",
     "text": [
      "23\n"
     ]
    },
    {
     "name": "stderr",
     "output_type": "stream",
     "text": [
      "0it [00:00, ?it/s]\n",
      " 73%|███████▎  | 732/1000 [12:15<03:09,  1.41it/s]"
     ]
    },
    {
     "name": "stdout",
     "output_type": "stream",
     "text": [
      "0\n"
     ]
    },
    {
     "name": "stderr",
     "output_type": "stream",
     "text": [
      "0it [00:00, ?it/s]\n",
      " 73%|███████▎  | 733/1000 [12:16<02:35,  1.72it/s]"
     ]
    },
    {
     "name": "stdout",
     "output_type": "stream",
     "text": [
      "0\n"
     ]
    },
    {
     "name": "stderr",
     "output_type": "stream",
     "text": [
      "0it [00:00, ?it/s]\n",
      " 73%|███████▎  | 734/1000 [12:16<02:23,  1.86it/s]"
     ]
    },
    {
     "name": "stdout",
     "output_type": "stream",
     "text": [
      "0\n"
     ]
    },
    {
     "name": "stderr",
     "output_type": "stream",
     "text": [
      "0it [00:00, ?it/s]\n",
      " 74%|███████▎  | 735/1000 [12:17<02:19,  1.90it/s]"
     ]
    },
    {
     "name": "stdout",
     "output_type": "stream",
     "text": [
      "0\n"
     ]
    },
    {
     "name": "stderr",
     "output_type": "stream",
     "text": [
      "0it [00:00, ?it/s]\n",
      " 74%|███████▎  | 736/1000 [12:17<01:52,  2.35it/s]"
     ]
    },
    {
     "name": "stdout",
     "output_type": "stream",
     "text": [
      "0\n"
     ]
    },
    {
     "name": "stderr",
     "output_type": "stream",
     "text": [
      "0it [00:00, ?it/s]\n",
      " 74%|███████▎  | 737/1000 [12:17<01:35,  2.75it/s]"
     ]
    },
    {
     "name": "stdout",
     "output_type": "stream",
     "text": [
      "0\n"
     ]
    },
    {
     "name": "stderr",
     "output_type": "stream",
     "text": [
      "100%|██████████| 1/1 [00:00<00:00,  3.01it/s]\n",
      " 74%|███████▍  | 738/1000 [12:18<02:42,  1.61it/s]"
     ]
    },
    {
     "name": "stdout",
     "output_type": "stream",
     "text": [
      "19\n"
     ]
    },
    {
     "name": "stderr",
     "output_type": "stream",
     "text": [
      "0it [00:00, ?it/s]\n",
      " 74%|███████▍  | 739/1000 [12:19<02:16,  1.91it/s]"
     ]
    },
    {
     "name": "stdout",
     "output_type": "stream",
     "text": [
      "0\n"
     ]
    },
    {
     "name": "stderr",
     "output_type": "stream",
     "text": [
      "0it [00:00, ?it/s]\n",
      " 74%|███████▍  | 740/1000 [12:19<02:00,  2.15it/s]"
     ]
    },
    {
     "name": "stdout",
     "output_type": "stream",
     "text": [
      "0\n"
     ]
    },
    {
     "name": "stderr",
     "output_type": "stream",
     "text": [
      "0it [00:00, ?it/s]\n",
      " 74%|███████▍  | 741/1000 [12:19<01:39,  2.62it/s]"
     ]
    },
    {
     "name": "stdout",
     "output_type": "stream",
     "text": [
      "0\n"
     ]
    },
    {
     "name": "stderr",
     "output_type": "stream",
     "text": [
      "100%|██████████| 1/1 [00:00<00:00,  1.75it/s]\n",
      " 74%|███████▍  | 742/1000 [12:21<03:02,  1.41it/s]"
     ]
    },
    {
     "name": "stdout",
     "output_type": "stream",
     "text": [
      "3\n"
     ]
    },
    {
     "name": "stderr",
     "output_type": "stream",
     "text": [
      "0it [00:00, ?it/s]\n",
      " 74%|███████▍  | 743/1000 [12:21<02:20,  1.83it/s]"
     ]
    },
    {
     "name": "stdout",
     "output_type": "stream",
     "text": [
      "0\n"
     ]
    },
    {
     "name": "stderr",
     "output_type": "stream",
     "text": [
      "0it [00:00, ?it/s]\n",
      " 74%|███████▍  | 744/1000 [12:21<01:53,  2.25it/s]"
     ]
    },
    {
     "name": "stdout",
     "output_type": "stream",
     "text": [
      "0\n"
     ]
    },
    {
     "name": "stderr",
     "output_type": "stream",
     "text": [
      "100%|██████████| 1/1 [00:00<00:00,  4.17it/s]\n",
      " 74%|███████▍  | 745/1000 [12:22<02:11,  1.93it/s]"
     ]
    },
    {
     "name": "stdout",
     "output_type": "stream",
     "text": [
      "1\n"
     ]
    },
    {
     "name": "stderr",
     "output_type": "stream",
     "text": [
      "0it [00:00, ?it/s]\n",
      " 75%|███████▍  | 746/1000 [12:22<01:45,  2.41it/s]"
     ]
    },
    {
     "name": "stdout",
     "output_type": "stream",
     "text": [
      "0\n"
     ]
    },
    {
     "name": "stderr",
     "output_type": "stream",
     "text": [
      "0it [00:00, ?it/s]\n",
      " 75%|███████▍  | 747/1000 [12:22<01:39,  2.53it/s]"
     ]
    },
    {
     "name": "stdout",
     "output_type": "stream",
     "text": [
      "0\n"
     ]
    },
    {
     "name": "stderr",
     "output_type": "stream",
     "text": [
      "100%|██████████| 1/1 [00:00<00:00,  1.37it/s]\n",
      " 75%|███████▍  | 748/1000 [12:23<02:40,  1.57it/s]"
     ]
    },
    {
     "name": "stdout",
     "output_type": "stream",
     "text": [
      "7\n"
     ]
    },
    {
     "name": "stderr",
     "output_type": "stream",
     "text": [
      "0it [00:00, ?it/s]\n",
      " 75%|███████▍  | 749/1000 [12:24<02:08,  1.96it/s]"
     ]
    },
    {
     "name": "stdout",
     "output_type": "stream",
     "text": [
      "0\n"
     ]
    },
    {
     "name": "stderr",
     "output_type": "stream",
     "text": [
      "0it [00:00, ?it/s]\n",
      " 75%|███████▌  | 750/1000 [12:24<01:56,  2.15it/s]"
     ]
    },
    {
     "name": "stdout",
     "output_type": "stream",
     "text": [
      "0\n"
     ]
    },
    {
     "name": "stderr",
     "output_type": "stream",
     "text": [
      "100%|██████████| 2/2 [00:01<00:00,  1.72it/s]\n",
      " 75%|███████▌  | 751/1000 [12:25<03:18,  1.26it/s]"
     ]
    },
    {
     "name": "stdout",
     "output_type": "stream",
     "text": [
      "34\n"
     ]
    },
    {
     "name": "stderr",
     "output_type": "stream",
     "text": [
      "0it [00:00, ?it/s]\n",
      " 75%|███████▌  | 752/1000 [12:27<04:03,  1.02it/s]"
     ]
    },
    {
     "name": "stdout",
     "output_type": "stream",
     "text": [
      "0\n"
     ]
    },
    {
     "name": "stderr",
     "output_type": "stream",
     "text": [
      "100%|██████████| 2/2 [00:00<00:00,  2.25it/s]\n",
      " 75%|███████▌  | 753/1000 [12:28<04:26,  1.08s/it]"
     ]
    },
    {
     "name": "stdout",
     "output_type": "stream",
     "text": [
      "23\n"
     ]
    },
    {
     "name": "stderr",
     "output_type": "stream",
     "text": [
      "100%|██████████| 1/1 [00:01<00:00,  1.21s/it]\n",
      " 75%|███████▌  | 754/1000 [12:30<04:55,  1.20s/it]"
     ]
    },
    {
     "name": "stdout",
     "output_type": "stream",
     "text": [
      "10\n"
     ]
    },
    {
     "name": "stderr",
     "output_type": "stream",
     "text": [
      "100%|██████████| 4/4 [00:02<00:00,  1.80it/s]\n",
      " 76%|███████▌  | 755/1000 [12:32<06:48,  1.67s/it]"
     ]
    },
    {
     "name": "stdout",
     "output_type": "stream",
     "text": [
      "75\n"
     ]
    },
    {
     "name": "stderr",
     "output_type": "stream",
     "text": [
      "100%|██████████| 1/1 [00:00<00:00,  3.59it/s]\n",
      " 76%|███████▌  | 756/1000 [12:33<05:22,  1.32s/it]"
     ]
    },
    {
     "name": "stdout",
     "output_type": "stream",
     "text": [
      "1\n"
     ]
    },
    {
     "name": "stderr",
     "output_type": "stream",
     "text": [
      "100%|██████████| 2/2 [00:00<00:00,  2.19it/s]\n",
      " 76%|███████▌  | 757/1000 [12:35<06:37,  1.64s/it]"
     ]
    },
    {
     "name": "stdout",
     "output_type": "stream",
     "text": [
      "32\n"
     ]
    },
    {
     "name": "stderr",
     "output_type": "stream",
     "text": [
      "100%|██████████| 1/1 [00:00<00:00,  2.93it/s]\n",
      " 76%|███████▌  | 758/1000 [12:36<05:18,  1.32s/it]"
     ]
    },
    {
     "name": "stdout",
     "output_type": "stream",
     "text": [
      "1\n"
     ]
    },
    {
     "name": "stderr",
     "output_type": "stream",
     "text": [
      "100%|██████████| 1/1 [00:00<00:00,  4.08it/s]\n",
      " 76%|███████▌  | 759/1000 [12:36<04:19,  1.08s/it]"
     ]
    },
    {
     "name": "stdout",
     "output_type": "stream",
     "text": [
      "1\n"
     ]
    },
    {
     "name": "stderr",
     "output_type": "stream",
     "text": [
      "100%|██████████| 1/1 [00:00<00:00,  5.36it/s]\n",
      " 76%|███████▌  | 760/1000 [12:37<03:32,  1.13it/s]"
     ]
    },
    {
     "name": "stdout",
     "output_type": "stream",
     "text": [
      "1\n"
     ]
    },
    {
     "name": "stderr",
     "output_type": "stream",
     "text": [
      "0it [00:00, ?it/s]\n",
      " 76%|███████▌  | 761/1000 [12:37<02:44,  1.46it/s]"
     ]
    },
    {
     "name": "stdout",
     "output_type": "stream",
     "text": [
      "0\n"
     ]
    },
    {
     "name": "stderr",
     "output_type": "stream",
     "text": [
      "0it [00:00, ?it/s]\n",
      " 76%|███████▌  | 762/1000 [12:39<03:57,  1.00it/s]"
     ]
    },
    {
     "name": "stdout",
     "output_type": "stream",
     "text": [
      "0\n"
     ]
    },
    {
     "name": "stderr",
     "output_type": "stream",
     "text": [
      "100%|██████████| 1/1 [00:00<00:00,  4.86it/s]\n",
      " 76%|███████▋  | 763/1000 [12:39<03:15,  1.21it/s]"
     ]
    },
    {
     "name": "stdout",
     "output_type": "stream",
     "text": [
      "1\n"
     ]
    },
    {
     "name": "stderr",
     "output_type": "stream",
     "text": [
      "0it [00:00, ?it/s]\n",
      " 76%|███████▋  | 764/1000 [12:40<03:11,  1.23it/s]"
     ]
    },
    {
     "name": "stdout",
     "output_type": "stream",
     "text": [
      "0\n"
     ]
    },
    {
     "name": "stderr",
     "output_type": "stream",
     "text": [
      "100%|██████████| 1/1 [00:00<00:00,  3.28it/s]\n",
      " 76%|███████▋  | 765/1000 [12:41<03:21,  1.17it/s]"
     ]
    },
    {
     "name": "stdout",
     "output_type": "stream",
     "text": [
      "14\n"
     ]
    },
    {
     "name": "stderr",
     "output_type": "stream",
     "text": [
      "100%|██████████| 1/1 [00:00<00:00,  5.03it/s]\n",
      " 77%|███████▋  | 766/1000 [12:41<02:54,  1.34it/s]"
     ]
    },
    {
     "name": "stdout",
     "output_type": "stream",
     "text": [
      "4\n"
     ]
    },
    {
     "name": "stderr",
     "output_type": "stream",
     "text": [
      "0it [00:00, ?it/s]\n",
      " 77%|███████▋  | 767/1000 [12:42<02:20,  1.66it/s]"
     ]
    },
    {
     "name": "stdout",
     "output_type": "stream",
     "text": [
      "0\n"
     ]
    },
    {
     "name": "stderr",
     "output_type": "stream",
     "text": [
      "100%|██████████| 1/1 [00:00<00:00,  3.70it/s]\n",
      " 77%|███████▋  | 768/1000 [12:42<02:23,  1.62it/s]"
     ]
    },
    {
     "name": "stdout",
     "output_type": "stream",
     "text": [
      "1\n"
     ]
    },
    {
     "name": "stderr",
     "output_type": "stream",
     "text": [
      "0it [00:00, ?it/s]\n",
      " 77%|███████▋  | 769/1000 [12:43<02:07,  1.82it/s]"
     ]
    },
    {
     "name": "stdout",
     "output_type": "stream",
     "text": [
      "0\n"
     ]
    },
    {
     "name": "stderr",
     "output_type": "stream",
     "text": [
      "0it [00:00, ?it/s]\n",
      " 77%|███████▋  | 770/1000 [12:43<02:07,  1.81it/s]"
     ]
    },
    {
     "name": "stdout",
     "output_type": "stream",
     "text": [
      "0\n"
     ]
    },
    {
     "name": "stderr",
     "output_type": "stream",
     "text": [
      "0it [00:00, ?it/s]\n",
      " 77%|███████▋  | 771/1000 [12:44<01:44,  2.18it/s]"
     ]
    },
    {
     "name": "stdout",
     "output_type": "stream",
     "text": [
      "0\n"
     ]
    },
    {
     "name": "stderr",
     "output_type": "stream",
     "text": [
      "0it [00:00, ?it/s]\n",
      " 77%|███████▋  | 772/1000 [12:44<01:26,  2.63it/s]"
     ]
    },
    {
     "name": "stdout",
     "output_type": "stream",
     "text": [
      "0\n"
     ]
    },
    {
     "name": "stderr",
     "output_type": "stream",
     "text": [
      "0it [00:00, ?it/s]\n",
      " 77%|███████▋  | 773/1000 [12:44<01:15,  3.00it/s]"
     ]
    },
    {
     "name": "stdout",
     "output_type": "stream",
     "text": [
      "0\n"
     ]
    },
    {
     "name": "stderr",
     "output_type": "stream",
     "text": [
      "0it [00:00, ?it/s]\n",
      " 77%|███████▋  | 774/1000 [12:44<01:14,  3.05it/s]"
     ]
    },
    {
     "name": "stdout",
     "output_type": "stream",
     "text": [
      "0\n"
     ]
    },
    {
     "name": "stderr",
     "output_type": "stream",
     "text": [
      "0it [00:00, ?it/s]\n",
      " 78%|███████▊  | 775/1000 [12:45<01:05,  3.43it/s]"
     ]
    },
    {
     "name": "stdout",
     "output_type": "stream",
     "text": [
      "0\n"
     ]
    },
    {
     "name": "stderr",
     "output_type": "stream",
     "text": [
      "100%|██████████| 1/1 [00:00<00:00,  3.70it/s]\n",
      " 78%|███████▊  | 776/1000 [12:46<01:55,  1.94it/s]"
     ]
    },
    {
     "name": "stdout",
     "output_type": "stream",
     "text": [
      "1\n"
     ]
    },
    {
     "name": "stderr",
     "output_type": "stream",
     "text": [
      "0it [00:00, ?it/s]\n",
      " 78%|███████▊  | 777/1000 [12:46<01:33,  2.39it/s]"
     ]
    },
    {
     "name": "stdout",
     "output_type": "stream",
     "text": [
      "0\n"
     ]
    },
    {
     "name": "stderr",
     "output_type": "stream",
     "text": [
      "0it [00:00, ?it/s]\n",
      " 78%|███████▊  | 778/1000 [12:46<01:19,  2.81it/s]"
     ]
    },
    {
     "name": "stdout",
     "output_type": "stream",
     "text": [
      "0\n"
     ]
    },
    {
     "name": "stderr",
     "output_type": "stream",
     "text": [
      "0it [00:00, ?it/s]\n",
      " 78%|███████▊  | 779/1000 [12:46<01:12,  3.04it/s]"
     ]
    },
    {
     "name": "stdout",
     "output_type": "stream",
     "text": [
      "0\n"
     ]
    },
    {
     "name": "stderr",
     "output_type": "stream",
     "text": [
      "100%|██████████| 1/1 [00:00<00:00,  2.50it/s]\n",
      " 78%|███████▊  | 780/1000 [12:47<01:34,  2.34it/s]"
     ]
    },
    {
     "name": "stdout",
     "output_type": "stream",
     "text": [
      "1\n"
     ]
    },
    {
     "name": "stderr",
     "output_type": "stream",
     "text": [
      "0it [00:00, ?it/s]\n",
      " 78%|███████▊  | 781/1000 [12:47<01:34,  2.32it/s]"
     ]
    },
    {
     "name": "stdout",
     "output_type": "stream",
     "text": [
      "0\n"
     ]
    },
    {
     "name": "stderr",
     "output_type": "stream",
     "text": [
      "0it [00:00, ?it/s]\n",
      " 78%|███████▊  | 782/1000 [12:48<01:24,  2.58it/s]"
     ]
    },
    {
     "name": "stdout",
     "output_type": "stream",
     "text": [
      "0\n"
     ]
    },
    {
     "name": "stderr",
     "output_type": "stream",
     "text": [
      "0it [00:00, ?it/s]\n",
      " 78%|███████▊  | 783/1000 [12:48<01:15,  2.88it/s]"
     ]
    },
    {
     "name": "stdout",
     "output_type": "stream",
     "text": [
      "0\n"
     ]
    },
    {
     "name": "stderr",
     "output_type": "stream",
     "text": [
      "100%|██████████| 1/1 [00:00<00:00,  5.40it/s]\n",
      " 78%|███████▊  | 784/1000 [12:48<01:22,  2.61it/s]"
     ]
    },
    {
     "name": "stdout",
     "output_type": "stream",
     "text": [
      "1\n"
     ]
    },
    {
     "name": "stderr",
     "output_type": "stream",
     "text": [
      "0it [00:00, ?it/s]\n",
      " 78%|███████▊  | 785/1000 [12:49<01:10,  3.06it/s]"
     ]
    },
    {
     "name": "stdout",
     "output_type": "stream",
     "text": [
      "0\n"
     ]
    },
    {
     "name": "stderr",
     "output_type": "stream",
     "text": [
      "0it [00:00, ?it/s]\n",
      " 79%|███████▊  | 786/1000 [12:49<01:02,  3.43it/s]"
     ]
    },
    {
     "name": "stdout",
     "output_type": "stream",
     "text": [
      "0\n"
     ]
    },
    {
     "name": "stderr",
     "output_type": "stream",
     "text": [
      "0it [00:00, ?it/s]\n",
      " 79%|███████▊  | 787/1000 [12:49<00:55,  3.83it/s]"
     ]
    },
    {
     "name": "stdout",
     "output_type": "stream",
     "text": [
      "0\n"
     ]
    },
    {
     "name": "stderr",
     "output_type": "stream",
     "text": [
      "0it [00:00, ?it/s]\n",
      " 79%|███████▉  | 788/1000 [12:49<01:11,  2.98it/s]"
     ]
    },
    {
     "name": "stdout",
     "output_type": "stream",
     "text": [
      "0\n"
     ]
    },
    {
     "name": "stderr",
     "output_type": "stream",
     "text": [
      "100%|██████████| 1/1 [00:00<00:00,  2.32it/s]\n",
      " 79%|███████▉  | 789/1000 [12:50<01:32,  2.28it/s]"
     ]
    },
    {
     "name": "stdout",
     "output_type": "stream",
     "text": [
      "1\n"
     ]
    },
    {
     "name": "stderr",
     "output_type": "stream",
     "text": [
      "0it [00:00, ?it/s]\n",
      " 79%|███████▉  | 790/1000 [12:50<01:28,  2.37it/s]"
     ]
    },
    {
     "name": "stdout",
     "output_type": "stream",
     "text": [
      "0\n"
     ]
    },
    {
     "name": "stderr",
     "output_type": "stream",
     "text": [
      "0it [00:00, ?it/s]\n",
      " 79%|███████▉  | 791/1000 [12:51<01:24,  2.47it/s]"
     ]
    },
    {
     "name": "stdout",
     "output_type": "stream",
     "text": [
      "0\n"
     ]
    },
    {
     "name": "stderr",
     "output_type": "stream",
     "text": [
      "100%|██████████| 1/1 [00:00<00:00,  2.28it/s]\n",
      " 79%|███████▉  | 792/1000 [12:52<01:43,  2.01it/s]"
     ]
    },
    {
     "name": "stdout",
     "output_type": "stream",
     "text": [
      "1\n"
     ]
    },
    {
     "name": "stderr",
     "output_type": "stream",
     "text": [
      "0it [00:00, ?it/s]\n",
      " 79%|███████▉  | 793/1000 [12:52<01:31,  2.26it/s]"
     ]
    },
    {
     "name": "stdout",
     "output_type": "stream",
     "text": [
      "0\n"
     ]
    },
    {
     "name": "stderr",
     "output_type": "stream",
     "text": [
      "0it [00:00, ?it/s]\n",
      " 79%|███████▉  | 794/1000 [12:52<01:15,  2.74it/s]"
     ]
    },
    {
     "name": "stdout",
     "output_type": "stream",
     "text": [
      "0\n"
     ]
    },
    {
     "name": "stderr",
     "output_type": "stream",
     "text": [
      "0it [00:00, ?it/s]\n",
      " 80%|███████▉  | 795/1000 [12:52<01:05,  3.15it/s]"
     ]
    },
    {
     "name": "stdout",
     "output_type": "stream",
     "text": [
      "0\n"
     ]
    },
    {
     "name": "stderr",
     "output_type": "stream",
     "text": [
      "100%|██████████| 1/1 [00:00<00:00,  4.23it/s]\n",
      " 80%|███████▉  | 796/1000 [12:53<01:29,  2.29it/s]"
     ]
    },
    {
     "name": "stdout",
     "output_type": "stream",
     "text": [
      "1\n"
     ]
    },
    {
     "name": "stderr",
     "output_type": "stream",
     "text": [
      "100%|██████████| 1/1 [00:00<00:00,  2.98it/s]\n",
      " 80%|███████▉  | 797/1000 [12:54<01:42,  1.98it/s]"
     ]
    },
    {
     "name": "stdout",
     "output_type": "stream",
     "text": [
      "2\n"
     ]
    },
    {
     "name": "stderr",
     "output_type": "stream",
     "text": [
      "100%|██████████| 1/1 [00:00<00:00,  3.95it/s]\n",
      " 80%|███████▉  | 798/1000 [12:54<01:50,  1.83it/s]"
     ]
    },
    {
     "name": "stdout",
     "output_type": "stream",
     "text": [
      "1\n"
     ]
    },
    {
     "name": "stderr",
     "output_type": "stream",
     "text": [
      "0it [00:00, ?it/s]\n",
      " 80%|███████▉  | 799/1000 [12:54<01:27,  2.29it/s]"
     ]
    },
    {
     "name": "stdout",
     "output_type": "stream",
     "text": [
      "0\n"
     ]
    },
    {
     "name": "stderr",
     "output_type": "stream",
     "text": [
      "100%|██████████| 1/1 [00:00<00:00,  4.60it/s]\n",
      " 80%|████████  | 800/1000 [12:55<01:27,  2.28it/s]"
     ]
    },
    {
     "name": "stdout",
     "output_type": "stream",
     "text": [
      "1\n"
     ]
    },
    {
     "name": "stderr",
     "output_type": "stream",
     "text": [
      "0it [00:00, ?it/s]\n",
      " 80%|████████  | 801/1000 [12:55<01:11,  2.76it/s]"
     ]
    },
    {
     "name": "stdout",
     "output_type": "stream",
     "text": [
      "0\n"
     ]
    },
    {
     "name": "stderr",
     "output_type": "stream",
     "text": [
      "0it [00:00, ?it/s]\n",
      " 80%|████████  | 802/1000 [12:55<01:01,  3.19it/s]"
     ]
    },
    {
     "name": "stdout",
     "output_type": "stream",
     "text": [
      "0\n"
     ]
    },
    {
     "name": "stderr",
     "output_type": "stream",
     "text": [
      "100%|██████████| 1/1 [00:00<00:00,  2.12it/s]\n",
      " 80%|████████  | 803/1000 [12:56<01:52,  1.74it/s]"
     ]
    },
    {
     "name": "stdout",
     "output_type": "stream",
     "text": [
      "20\n"
     ]
    },
    {
     "name": "stderr",
     "output_type": "stream",
     "text": [
      "100%|██████████| 1/1 [00:02<00:00,  2.02s/it]\n",
      " 80%|████████  | 804/1000 [12:59<03:34,  1.09s/it]"
     ]
    },
    {
     "name": "stdout",
     "output_type": "stream",
     "text": [
      "14\n"
     ]
    },
    {
     "name": "stderr",
     "output_type": "stream",
     "text": [
      "100%|██████████| 1/1 [00:00<00:00,  3.52it/s]\n",
      " 80%|████████  | 805/1000 [12:59<03:06,  1.05it/s]"
     ]
    },
    {
     "name": "stdout",
     "output_type": "stream",
     "text": [
      "1\n"
     ]
    },
    {
     "name": "stderr",
     "output_type": "stream",
     "text": [
      "100%|██████████| 3/3 [00:01<00:00,  2.05it/s]\n",
      " 81%|████████  | 806/1000 [13:01<04:04,  1.26s/it]"
     ]
    },
    {
     "name": "stdout",
     "output_type": "stream",
     "text": [
      "57\n"
     ]
    },
    {
     "name": "stderr",
     "output_type": "stream",
     "text": [
      "100%|██████████| 4/4 [00:02<00:00,  1.52it/s]\n",
      " 81%|████████  | 807/1000 [13:05<05:51,  1.82s/it]"
     ]
    },
    {
     "name": "stdout",
     "output_type": "stream",
     "text": [
      "68\n"
     ]
    },
    {
     "name": "stderr",
     "output_type": "stream",
     "text": [
      "100%|██████████| 1/1 [00:00<00:00,  3.55it/s]\n",
      " 81%|████████  | 808/1000 [13:05<04:49,  1.51s/it]"
     ]
    },
    {
     "name": "stdout",
     "output_type": "stream",
     "text": [
      "10\n"
     ]
    },
    {
     "name": "stderr",
     "output_type": "stream",
     "text": [
      "100%|██████████| 1/1 [00:00<00:00,  4.93it/s]\n",
      " 81%|████████  | 809/1000 [13:06<03:55,  1.23s/it]"
     ]
    },
    {
     "name": "stdout",
     "output_type": "stream",
     "text": [
      "1\n"
     ]
    },
    {
     "name": "stderr",
     "output_type": "stream",
     "text": [
      "100%|██████████| 3/3 [00:01<00:00,  2.38it/s]\n",
      " 81%|████████  | 810/1000 [13:08<04:19,  1.37s/it]"
     ]
    },
    {
     "name": "stdout",
     "output_type": "stream",
     "text": [
      "44\n"
     ]
    },
    {
     "name": "stderr",
     "output_type": "stream",
     "text": [
      "100%|██████████| 4/4 [00:01<00:00,  2.05it/s]\n",
      " 81%|████████  | 811/1000 [13:10<05:21,  1.70s/it]"
     ]
    },
    {
     "name": "stdout",
     "output_type": "stream",
     "text": [
      "64\n"
     ]
    },
    {
     "name": "stderr",
     "output_type": "stream",
     "text": [
      "0it [00:00, ?it/s]\n",
      " 81%|████████  | 812/1000 [13:10<03:56,  1.26s/it]"
     ]
    },
    {
     "name": "stdout",
     "output_type": "stream",
     "text": [
      "0\n"
     ]
    },
    {
     "name": "stderr",
     "output_type": "stream",
     "text": [
      "0it [00:00, ?it/s]\n",
      " 81%|████████▏ | 813/1000 [13:11<02:59,  1.04it/s]"
     ]
    },
    {
     "name": "stdout",
     "output_type": "stream",
     "text": [
      "0\n"
     ]
    },
    {
     "name": "stderr",
     "output_type": "stream",
     "text": [
      "0it [00:00, ?it/s]\n",
      " 81%|████████▏ | 814/1000 [13:11<02:16,  1.36it/s]"
     ]
    },
    {
     "name": "stdout",
     "output_type": "stream",
     "text": [
      "0\n"
     ]
    },
    {
     "name": "stderr",
     "output_type": "stream",
     "text": [
      "100%|██████████| 1/1 [00:00<00:00,  2.21it/s]\n",
      " 82%|████████▏ | 815/1000 [13:11<02:14,  1.37it/s]"
     ]
    },
    {
     "name": "stdout",
     "output_type": "stream",
     "text": [
      "1\n"
     ]
    },
    {
     "name": "stderr",
     "output_type": "stream",
     "text": [
      "100%|██████████| 1/1 [00:00<00:00,  3.48it/s]\n",
      " 82%|████████▏ | 816/1000 [13:12<02:05,  1.47it/s]"
     ]
    },
    {
     "name": "stdout",
     "output_type": "stream",
     "text": [
      "2\n"
     ]
    },
    {
     "name": "stderr",
     "output_type": "stream",
     "text": [
      "100%|██████████| 1/1 [00:00<00:00,  4.25it/s]\n",
      " 82%|████████▏ | 817/1000 [13:13<01:59,  1.53it/s]"
     ]
    },
    {
     "name": "stdout",
     "output_type": "stream",
     "text": [
      "4\n"
     ]
    },
    {
     "name": "stderr",
     "output_type": "stream",
     "text": [
      "0it [00:00, ?it/s]\n",
      " 82%|████████▏ | 818/1000 [13:13<01:38,  1.84it/s]"
     ]
    },
    {
     "name": "stdout",
     "output_type": "stream",
     "text": [
      "0\n"
     ]
    },
    {
     "name": "stderr",
     "output_type": "stream",
     "text": [
      "100%|██████████| 2/2 [00:00<00:00,  2.47it/s]\n",
      " 82%|████████▏ | 819/1000 [13:15<02:39,  1.13it/s]"
     ]
    },
    {
     "name": "stdout",
     "output_type": "stream",
     "text": [
      "27\n"
     ]
    },
    {
     "name": "stderr",
     "output_type": "stream",
     "text": [
      "0it [00:00, ?it/s]\n",
      " 82%|████████▏ | 820/1000 [13:15<02:02,  1.47it/s]"
     ]
    },
    {
     "name": "stdout",
     "output_type": "stream",
     "text": [
      "0\n"
     ]
    },
    {
     "name": "stderr",
     "output_type": "stream",
     "text": [
      "100%|██████████| 2/2 [00:01<00:00,  1.90it/s]\n",
      " 82%|████████▏ | 821/1000 [13:16<02:40,  1.11it/s]"
     ]
    },
    {
     "name": "stdout",
     "output_type": "stream",
     "text": [
      "38\n"
     ]
    },
    {
     "name": "stderr",
     "output_type": "stream",
     "text": [
      "0it [00:00, ?it/s]\n",
      " 82%|████████▏ | 822/1000 [13:16<02:05,  1.42it/s]"
     ]
    },
    {
     "name": "stdout",
     "output_type": "stream",
     "text": [
      "0\n"
     ]
    },
    {
     "name": "stderr",
     "output_type": "stream",
     "text": [
      "0it [00:00, ?it/s]\n",
      " 82%|████████▏ | 823/1000 [13:17<01:58,  1.49it/s]"
     ]
    },
    {
     "name": "stdout",
     "output_type": "stream",
     "text": [
      "0\n"
     ]
    },
    {
     "name": "stderr",
     "output_type": "stream",
     "text": [
      "0it [00:00, ?it/s]\n",
      " 82%|████████▏ | 824/1000 [13:17<01:45,  1.66it/s]"
     ]
    },
    {
     "name": "stdout",
     "output_type": "stream",
     "text": [
      "0\n"
     ]
    },
    {
     "name": "stderr",
     "output_type": "stream",
     "text": [
      "100%|██████████| 1/1 [00:00<00:00,  3.48it/s]\n",
      " 82%|████████▎ | 825/1000 [13:18<02:01,  1.44it/s]"
     ]
    },
    {
     "name": "stdout",
     "output_type": "stream",
     "text": [
      "4\n"
     ]
    },
    {
     "name": "stderr",
     "output_type": "stream",
     "text": [
      "100%|██████████| 2/2 [00:00<00:00,  2.39it/s]\n",
      " 83%|████████▎ | 826/1000 [13:20<02:42,  1.07it/s]"
     ]
    },
    {
     "name": "stdout",
     "output_type": "stream",
     "text": [
      "25\n"
     ]
    },
    {
     "name": "stderr",
     "output_type": "stream",
     "text": [
      "0it [00:00, ?it/s]\n",
      " 83%|████████▎ | 827/1000 [13:20<02:05,  1.38it/s]"
     ]
    },
    {
     "name": "stdout",
     "output_type": "stream",
     "text": [
      "0\n"
     ]
    },
    {
     "name": "stderr",
     "output_type": "stream",
     "text": [
      "0it [00:00, ?it/s]\n",
      " 83%|████████▎ | 828/1000 [13:20<01:35,  1.79it/s]"
     ]
    },
    {
     "name": "stdout",
     "output_type": "stream",
     "text": [
      "0\n"
     ]
    },
    {
     "name": "stderr",
     "output_type": "stream",
     "text": [
      "0it [00:00, ?it/s]\n",
      " 83%|████████▎ | 829/1000 [13:20<01:17,  2.22it/s]"
     ]
    },
    {
     "name": "stdout",
     "output_type": "stream",
     "text": [
      "0\n"
     ]
    },
    {
     "name": "stderr",
     "output_type": "stream",
     "text": [
      "0it [00:00, ?it/s]\n",
      " 83%|████████▎ | 830/1000 [13:21<01:27,  1.95it/s]"
     ]
    },
    {
     "name": "stdout",
     "output_type": "stream",
     "text": [
      "0\n"
     ]
    },
    {
     "name": "stderr",
     "output_type": "stream",
     "text": [
      "0it [00:00, ?it/s]\n",
      " 83%|████████▎ | 831/1000 [13:21<01:16,  2.21it/s]"
     ]
    },
    {
     "name": "stdout",
     "output_type": "stream",
     "text": [
      "0\n"
     ]
    },
    {
     "name": "stderr",
     "output_type": "stream",
     "text": [
      "0it [00:00, ?it/s]\n",
      " 83%|████████▎ | 832/1000 [13:22<01:09,  2.42it/s]"
     ]
    },
    {
     "name": "stdout",
     "output_type": "stream",
     "text": [
      "0\n"
     ]
    },
    {
     "name": "stderr",
     "output_type": "stream",
     "text": [
      "0it [00:00, ?it/s]\n",
      " 83%|████████▎ | 833/1000 [13:22<00:58,  2.83it/s]"
     ]
    },
    {
     "name": "stdout",
     "output_type": "stream",
     "text": [
      "0\n"
     ]
    },
    {
     "name": "stderr",
     "output_type": "stream",
     "text": [
      "0it [00:00, ?it/s]\n",
      " 83%|████████▎ | 834/1000 [13:22<00:49,  3.35it/s]"
     ]
    },
    {
     "name": "stdout",
     "output_type": "stream",
     "text": [
      "0\n"
     ]
    },
    {
     "name": "stderr",
     "output_type": "stream",
     "text": [
      "0it [00:00, ?it/s]\n",
      " 84%|████████▎ | 835/1000 [13:23<00:52,  3.12it/s]"
     ]
    },
    {
     "name": "stdout",
     "output_type": "stream",
     "text": [
      "0\n"
     ]
    },
    {
     "name": "stderr",
     "output_type": "stream",
     "text": [
      "0it [00:00, ?it/s]\n",
      " 84%|████████▎ | 836/1000 [13:23<00:49,  3.30it/s]"
     ]
    },
    {
     "name": "stdout",
     "output_type": "stream",
     "text": [
      "0\n"
     ]
    },
    {
     "name": "stderr",
     "output_type": "stream",
     "text": [
      "0it [00:00, ?it/s]\n",
      " 84%|████████▎ | 837/1000 [13:23<00:50,  3.24it/s]"
     ]
    },
    {
     "name": "stdout",
     "output_type": "stream",
     "text": [
      "0\n"
     ]
    },
    {
     "name": "stderr",
     "output_type": "stream",
     "text": [
      "0it [00:00, ?it/s]\n",
      " 84%|████████▍ | 838/1000 [13:23<00:43,  3.70it/s]"
     ]
    },
    {
     "name": "stdout",
     "output_type": "stream",
     "text": [
      "0\n"
     ]
    },
    {
     "name": "stderr",
     "output_type": "stream",
     "text": [
      "0it [00:00, ?it/s]\n"
     ]
    },
    {
     "name": "stdout",
     "output_type": "stream",
     "text": [
      "0"
     ]
    },
    {
     "name": "stderr",
     "output_type": "stream",
     "text": [
      " 84%|████████▍ | 839/1000 [13:24<00:40,  4.01it/s]"
     ]
    },
    {
     "name": "stdout",
     "output_type": "stream",
     "text": [
      "\n"
     ]
    },
    {
     "name": "stderr",
     "output_type": "stream",
     "text": [
      "0it [00:00, ?it/s]\n",
      " 84%|████████▍ | 840/1000 [13:24<00:51,  3.13it/s]"
     ]
    },
    {
     "name": "stdout",
     "output_type": "stream",
     "text": [
      "0\n"
     ]
    },
    {
     "name": "stderr",
     "output_type": "stream",
     "text": [
      "100%|██████████| 3/3 [00:01<00:00,  2.41it/s]\n",
      " 84%|████████▍ | 841/1000 [13:26<01:52,  1.41it/s]"
     ]
    },
    {
     "name": "stdout",
     "output_type": "stream",
     "text": [
      "56\n"
     ]
    },
    {
     "name": "stderr",
     "output_type": "stream",
     "text": [
      "0it [00:00, ?it/s]\n",
      " 84%|████████▍ | 842/1000 [13:26<01:49,  1.44it/s]"
     ]
    },
    {
     "name": "stdout",
     "output_type": "stream",
     "text": [
      "0\n"
     ]
    },
    {
     "name": "stderr",
     "output_type": "stream",
     "text": [
      "100%|██████████| 1/1 [00:00<00:00,  4.67it/s]\n",
      " 84%|████████▍ | 843/1000 [13:27<01:41,  1.55it/s]"
     ]
    },
    {
     "name": "stdout",
     "output_type": "stream",
     "text": [
      "6\n"
     ]
    },
    {
     "name": "stderr",
     "output_type": "stream",
     "text": [
      "0it [00:00, ?it/s]\n",
      " 84%|████████▍ | 844/1000 [13:27<01:18,  1.99it/s]"
     ]
    },
    {
     "name": "stdout",
     "output_type": "stream",
     "text": [
      "0\n"
     ]
    },
    {
     "name": "stderr",
     "output_type": "stream",
     "text": [
      "100%|██████████| 3/3 [00:01<00:00,  2.63it/s]\n",
      " 84%|████████▍ | 845/1000 [13:29<02:15,  1.15it/s]"
     ]
    },
    {
     "name": "stdout",
     "output_type": "stream",
     "text": [
      "52\n"
     ]
    },
    {
     "name": "stderr",
     "output_type": "stream",
     "text": [
      "0it [00:00, ?it/s]\n",
      " 85%|████████▍ | 846/1000 [13:29<01:44,  1.47it/s]"
     ]
    },
    {
     "name": "stdout",
     "output_type": "stream",
     "text": [
      "0\n"
     ]
    },
    {
     "name": "stderr",
     "output_type": "stream",
     "text": [
      "0it [00:00, ?it/s]\n",
      " 85%|████████▍ | 847/1000 [13:29<01:25,  1.79it/s]"
     ]
    },
    {
     "name": "stdout",
     "output_type": "stream",
     "text": [
      "0\n"
     ]
    },
    {
     "name": "stderr",
     "output_type": "stream",
     "text": [
      "100%|██████████| 1/1 [00:00<00:00,  3.96it/s]\n",
      " 85%|████████▍ | 848/1000 [13:30<01:19,  1.90it/s]"
     ]
    },
    {
     "name": "stdout",
     "output_type": "stream",
     "text": [
      "1\n"
     ]
    },
    {
     "name": "stderr",
     "output_type": "stream",
     "text": [
      "0it [00:00, ?it/s]\n",
      " 85%|████████▍ | 849/1000 [13:30<01:03,  2.36it/s]"
     ]
    },
    {
     "name": "stdout",
     "output_type": "stream",
     "text": [
      "0\n"
     ]
    },
    {
     "name": "stderr",
     "output_type": "stream",
     "text": [
      "0it [00:00, ?it/s]\n",
      " 85%|████████▌ | 850/1000 [13:30<00:55,  2.72it/s]"
     ]
    },
    {
     "name": "stdout",
     "output_type": "stream",
     "text": [
      "0\n"
     ]
    },
    {
     "name": "stderr",
     "output_type": "stream",
     "text": [
      "100%|██████████| 1/1 [00:00<00:00,  1.37it/s]\n",
      " 85%|████████▌ | 851/1000 [13:31<01:25,  1.75it/s]"
     ]
    },
    {
     "name": "stdout",
     "output_type": "stream",
     "text": [
      "16\n"
     ]
    },
    {
     "name": "stderr",
     "output_type": "stream",
     "text": [
      "100%|██████████| 1/1 [00:00<00:00,  4.53it/s]\n",
      " 85%|████████▌ | 852/1000 [13:32<01:29,  1.65it/s]"
     ]
    },
    {
     "name": "stdout",
     "output_type": "stream",
     "text": [
      "4\n"
     ]
    },
    {
     "name": "stderr",
     "output_type": "stream",
     "text": [
      "0it [00:00, ?it/s]\n",
      " 85%|████████▌ | 853/1000 [13:32<01:12,  2.01it/s]"
     ]
    },
    {
     "name": "stdout",
     "output_type": "stream",
     "text": [
      "0\n"
     ]
    },
    {
     "name": "stderr",
     "output_type": "stream",
     "text": [
      "0it [00:00, ?it/s]\n",
      " 85%|████████▌ | 854/1000 [13:32<01:00,  2.41it/s]"
     ]
    },
    {
     "name": "stdout",
     "output_type": "stream",
     "text": [
      "0\n"
     ]
    },
    {
     "name": "stderr",
     "output_type": "stream",
     "text": [
      "0it [00:00, ?it/s]\n",
      " 86%|████████▌ | 855/1000 [13:33<00:56,  2.56it/s]"
     ]
    },
    {
     "name": "stdout",
     "output_type": "stream",
     "text": [
      "0\n"
     ]
    },
    {
     "name": "stderr",
     "output_type": "stream",
     "text": [
      "0it [00:00, ?it/s]\n",
      " 86%|████████▌ | 856/1000 [13:33<00:58,  2.48it/s]"
     ]
    },
    {
     "name": "stdout",
     "output_type": "stream",
     "text": [
      "0\n"
     ]
    },
    {
     "name": "stderr",
     "output_type": "stream",
     "text": [
      "100%|██████████| 1/1 [00:00<00:00,  5.32it/s]\n",
      " 86%|████████▌ | 857/1000 [13:33<00:58,  2.45it/s]"
     ]
    },
    {
     "name": "stdout",
     "output_type": "stream",
     "text": [
      "1\n"
     ]
    },
    {
     "name": "stderr",
     "output_type": "stream",
     "text": [
      "0it [00:00, ?it/s]\n",
      " 86%|████████▌ | 858/1000 [13:34<00:51,  2.73it/s]"
     ]
    },
    {
     "name": "stdout",
     "output_type": "stream",
     "text": [
      "0\n"
     ]
    },
    {
     "name": "stderr",
     "output_type": "stream",
     "text": [
      "100%|██████████| 1/1 [00:00<00:00,  3.78it/s]\n",
      " 86%|████████▌ | 859/1000 [13:34<00:57,  2.44it/s]"
     ]
    },
    {
     "name": "stdout",
     "output_type": "stream",
     "text": [
      "1\n"
     ]
    },
    {
     "name": "stderr",
     "output_type": "stream",
     "text": [
      "0it [00:00, ?it/s]\n",
      " 86%|████████▌ | 860/1000 [13:34<00:47,  2.92it/s]"
     ]
    },
    {
     "name": "stdout",
     "output_type": "stream",
     "text": [
      "0\n"
     ]
    },
    {
     "name": "stderr",
     "output_type": "stream",
     "text": [
      "100%|██████████| 1/1 [00:00<00:00,  3.33it/s]\n",
      " 86%|████████▌ | 861/1000 [13:35<00:56,  2.45it/s]"
     ]
    },
    {
     "name": "stdout",
     "output_type": "stream",
     "text": [
      "4\n"
     ]
    },
    {
     "name": "stderr",
     "output_type": "stream",
     "text": [
      "0it [00:00, ?it/s]\n",
      " 86%|████████▌ | 862/1000 [13:36<01:26,  1.60it/s]"
     ]
    },
    {
     "name": "stdout",
     "output_type": "stream",
     "text": [
      "0\n"
     ]
    },
    {
     "name": "stderr",
     "output_type": "stream",
     "text": [
      "100%|██████████| 1/1 [00:01<00:00,  1.37s/it]\n",
      " 86%|████████▋ | 863/1000 [13:38<02:11,  1.04it/s]"
     ]
    },
    {
     "name": "stdout",
     "output_type": "stream",
     "text": [
      "1\n"
     ]
    },
    {
     "name": "stderr",
     "output_type": "stream",
     "text": [
      "0it [00:00, ?it/s]\n",
      " 86%|████████▋ | 864/1000 [13:38<01:42,  1.33it/s]"
     ]
    },
    {
     "name": "stdout",
     "output_type": "stream",
     "text": [
      "0\n"
     ]
    },
    {
     "name": "stderr",
     "output_type": "stream",
     "text": [
      "0it [00:00, ?it/s]\n",
      " 86%|████████▋ | 865/1000 [13:38<01:24,  1.61it/s]"
     ]
    },
    {
     "name": "stdout",
     "output_type": "stream",
     "text": [
      "0\n"
     ]
    },
    {
     "name": "stderr",
     "output_type": "stream",
     "text": [
      "100%|██████████| 1/1 [00:00<00:00,  3.34it/s]\n",
      " 87%|████████▋ | 866/1000 [13:41<02:34,  1.16s/it]"
     ]
    },
    {
     "name": "stdout",
     "output_type": "stream",
     "text": [
      "1\n"
     ]
    },
    {
     "name": "stderr",
     "output_type": "stream",
     "text": [
      "0it [00:00, ?it/s]\n",
      " 87%|████████▋ | 867/1000 [13:41<02:05,  1.06it/s]"
     ]
    },
    {
     "name": "stdout",
     "output_type": "stream",
     "text": [
      "0\n"
     ]
    },
    {
     "name": "stderr",
     "output_type": "stream",
     "text": [
      "0it [00:00, ?it/s]\n",
      " 87%|████████▋ | 868/1000 [13:42<01:38,  1.33it/s]"
     ]
    },
    {
     "name": "stdout",
     "output_type": "stream",
     "text": [
      "0\n"
     ]
    },
    {
     "name": "stderr",
     "output_type": "stream",
     "text": [
      "0it [00:00, ?it/s]\n",
      " 87%|████████▋ | 869/1000 [13:42<01:23,  1.57it/s]"
     ]
    },
    {
     "name": "stdout",
     "output_type": "stream",
     "text": [
      "0\n"
     ]
    },
    {
     "name": "stderr",
     "output_type": "stream",
     "text": [
      "100%|██████████| 1/1 [00:00<00:00,  2.43it/s]\n",
      " 87%|████████▋ | 870/1000 [13:43<01:33,  1.39it/s]"
     ]
    },
    {
     "name": "stdout",
     "output_type": "stream",
     "text": [
      "1\n"
     ]
    },
    {
     "name": "stderr",
     "output_type": "stream",
     "text": [
      "0it [00:00, ?it/s]\n",
      " 87%|████████▋ | 871/1000 [13:43<01:16,  1.69it/s]"
     ]
    },
    {
     "name": "stdout",
     "output_type": "stream",
     "text": [
      "0\n"
     ]
    },
    {
     "name": "stderr",
     "output_type": "stream",
     "text": [
      "100%|██████████| 1/1 [00:00<00:00,  3.60it/s]\n",
      " 87%|████████▋ | 872/1000 [13:44<01:24,  1.52it/s]"
     ]
    },
    {
     "name": "stdout",
     "output_type": "stream",
     "text": [
      "2\n"
     ]
    },
    {
     "name": "stderr",
     "output_type": "stream",
     "text": [
      "0it [00:00, ?it/s]\n",
      " 87%|████████▋ | 873/1000 [13:44<01:15,  1.68it/s]"
     ]
    },
    {
     "name": "stdout",
     "output_type": "stream",
     "text": [
      "0\n"
     ]
    },
    {
     "name": "stderr",
     "output_type": "stream",
     "text": [
      "0it [00:00, ?it/s]\n",
      " 87%|████████▋ | 874/1000 [13:45<01:02,  2.03it/s]"
     ]
    },
    {
     "name": "stdout",
     "output_type": "stream",
     "text": [
      "0\n"
     ]
    },
    {
     "name": "stderr",
     "output_type": "stream",
     "text": [
      "0it [00:00, ?it/s]\n",
      " 88%|████████▊ | 875/1000 [13:45<00:54,  2.30it/s]"
     ]
    },
    {
     "name": "stdout",
     "output_type": "stream",
     "text": [
      "0\n"
     ]
    },
    {
     "name": "stderr",
     "output_type": "stream",
     "text": [
      "100%|██████████| 2/2 [00:00<00:00,  2.77it/s]\n",
      " 88%|████████▊ | 876/1000 [13:46<01:22,  1.50it/s]"
     ]
    },
    {
     "name": "stdout",
     "output_type": "stream",
     "text": [
      "21\n"
     ]
    },
    {
     "name": "stderr",
     "output_type": "stream",
     "text": [
      "0it [00:00, ?it/s]\n",
      " 88%|████████▊ | 877/1000 [13:46<01:07,  1.84it/s]"
     ]
    },
    {
     "name": "stdout",
     "output_type": "stream",
     "text": [
      "0\n"
     ]
    },
    {
     "name": "stderr",
     "output_type": "stream",
     "text": [
      "0it [00:00, ?it/s]\n",
      " 88%|████████▊ | 878/1000 [13:47<00:52,  2.30it/s]"
     ]
    },
    {
     "name": "stdout",
     "output_type": "stream",
     "text": [
      "0\n"
     ]
    },
    {
     "name": "stderr",
     "output_type": "stream",
     "text": [
      "0it [00:00, ?it/s]\n",
      " 88%|████████▊ | 879/1000 [13:47<00:50,  2.38it/s]"
     ]
    },
    {
     "name": "stdout",
     "output_type": "stream",
     "text": [
      "0\n"
     ]
    },
    {
     "name": "stderr",
     "output_type": "stream",
     "text": [
      "0it [00:00, ?it/s]\n",
      " 88%|████████▊ | 880/1000 [13:47<00:45,  2.62it/s]"
     ]
    },
    {
     "name": "stdout",
     "output_type": "stream",
     "text": [
      "0\n"
     ]
    },
    {
     "name": "stderr",
     "output_type": "stream",
     "text": [
      "100%|██████████| 1/1 [00:00<00:00,  3.64it/s]\n",
      " 88%|████████▊ | 881/1000 [13:48<00:55,  2.14it/s]"
     ]
    },
    {
     "name": "stdout",
     "output_type": "stream",
     "text": [
      "4\n"
     ]
    },
    {
     "name": "stderr",
     "output_type": "stream",
     "text": [
      "0it [00:00, ?it/s]\n",
      " 88%|████████▊ | 882/1000 [13:48<00:46,  2.55it/s]"
     ]
    },
    {
     "name": "stdout",
     "output_type": "stream",
     "text": [
      "0\n"
     ]
    },
    {
     "name": "stderr",
     "output_type": "stream",
     "text": [
      "100%|██████████| 1/1 [00:00<00:00,  2.11it/s]\n",
      " 88%|████████▊ | 883/1000 [13:49<01:04,  1.81it/s]"
     ]
    },
    {
     "name": "stdout",
     "output_type": "stream",
     "text": [
      "1\n"
     ]
    },
    {
     "name": "stderr",
     "output_type": "stream",
     "text": [
      "0it [00:00, ?it/s]\n",
      " 88%|████████▊ | 884/1000 [13:49<00:54,  2.11it/s]"
     ]
    },
    {
     "name": "stdout",
     "output_type": "stream",
     "text": [
      "0\n"
     ]
    },
    {
     "name": "stderr",
     "output_type": "stream",
     "text": [
      "0it [00:00, ?it/s]\n",
      " 88%|████████▊ | 885/1000 [13:50<00:56,  2.04it/s]"
     ]
    },
    {
     "name": "stdout",
     "output_type": "stream",
     "text": [
      "0\n"
     ]
    },
    {
     "name": "stderr",
     "output_type": "stream",
     "text": [
      "0it [00:00, ?it/s]\n",
      " 89%|████████▊ | 886/1000 [13:50<00:48,  2.36it/s]"
     ]
    },
    {
     "name": "stdout",
     "output_type": "stream",
     "text": [
      "0\n"
     ]
    },
    {
     "name": "stderr",
     "output_type": "stream",
     "text": [
      "100%|██████████| 1/1 [00:00<00:00,  4.86it/s]\n",
      " 89%|████████▊ | 887/1000 [13:51<00:49,  2.29it/s]"
     ]
    },
    {
     "name": "stdout",
     "output_type": "stream",
     "text": [
      "1\n"
     ]
    },
    {
     "name": "stderr",
     "output_type": "stream",
     "text": [
      "0it [00:00, ?it/s]\n",
      " 89%|████████▉ | 888/1000 [13:51<00:48,  2.31it/s]"
     ]
    },
    {
     "name": "stdout",
     "output_type": "stream",
     "text": [
      "0\n"
     ]
    },
    {
     "name": "stderr",
     "output_type": "stream",
     "text": [
      "100%|██████████| 1/1 [00:00<00:00,  3.22it/s]\n",
      " 89%|████████▉ | 889/1000 [13:52<01:07,  1.64it/s]"
     ]
    },
    {
     "name": "stdout",
     "output_type": "stream",
     "text": [
      "4\n"
     ]
    },
    {
     "name": "stderr",
     "output_type": "stream",
     "text": [
      "0it [00:00, ?it/s]\n",
      " 89%|████████▉ | 890/1000 [13:52<00:53,  2.06it/s]"
     ]
    },
    {
     "name": "stdout",
     "output_type": "stream",
     "text": [
      "0\n"
     ]
    },
    {
     "name": "stderr",
     "output_type": "stream",
     "text": [
      "0it [00:00, ?it/s]\n",
      " 89%|████████▉ | 891/1000 [13:53<00:46,  2.34it/s]"
     ]
    },
    {
     "name": "stdout",
     "output_type": "stream",
     "text": [
      "0\n"
     ]
    },
    {
     "name": "stderr",
     "output_type": "stream",
     "text": [
      "0it [00:00, ?it/s]\n",
      " 89%|████████▉ | 892/1000 [13:53<00:39,  2.73it/s]"
     ]
    },
    {
     "name": "stdout",
     "output_type": "stream",
     "text": [
      "0\n"
     ]
    },
    {
     "name": "stderr",
     "output_type": "stream",
     "text": [
      "100%|██████████| 1/1 [00:01<00:00,  1.13s/it]\n",
      " 89%|████████▉ | 893/1000 [13:54<01:17,  1.39it/s]"
     ]
    },
    {
     "name": "stdout",
     "output_type": "stream",
     "text": [
      "16\n"
     ]
    },
    {
     "name": "stderr",
     "output_type": "stream",
     "text": [
      "0it [00:00, ?it/s]\n",
      " 89%|████████▉ | 894/1000 [13:55<01:03,  1.68it/s]"
     ]
    },
    {
     "name": "stdout",
     "output_type": "stream",
     "text": [
      "0\n"
     ]
    },
    {
     "name": "stderr",
     "output_type": "stream",
     "text": [
      "0it [00:00, ?it/s]\n",
      " 90%|████████▉ | 895/1000 [13:55<00:50,  2.09it/s]"
     ]
    },
    {
     "name": "stdout",
     "output_type": "stream",
     "text": [
      "0\n"
     ]
    },
    {
     "name": "stderr",
     "output_type": "stream",
     "text": [
      "0it [00:00, ?it/s]\n",
      " 90%|████████▉ | 896/1000 [13:55<00:42,  2.45it/s]"
     ]
    },
    {
     "name": "stdout",
     "output_type": "stream",
     "text": [
      "0\n"
     ]
    },
    {
     "name": "stderr",
     "output_type": "stream",
     "text": [
      "0it [00:00, ?it/s]\n",
      " 90%|████████▉ | 897/1000 [13:56<00:42,  2.40it/s]"
     ]
    },
    {
     "name": "stdout",
     "output_type": "stream",
     "text": [
      "0\n"
     ]
    },
    {
     "name": "stderr",
     "output_type": "stream",
     "text": [
      "0it [00:00, ?it/s]\n",
      " 90%|████████▉ | 898/1000 [13:56<00:42,  2.43it/s]"
     ]
    },
    {
     "name": "stdout",
     "output_type": "stream",
     "text": [
      "0\n"
     ]
    },
    {
     "name": "stderr",
     "output_type": "stream",
     "text": [
      "100%|██████████| 1/1 [00:00<00:00,  4.20it/s]\n",
      " 90%|████████▉ | 899/1000 [13:57<00:45,  2.21it/s]"
     ]
    },
    {
     "name": "stdout",
     "output_type": "stream",
     "text": [
      "1\n"
     ]
    },
    {
     "name": "stderr",
     "output_type": "stream",
     "text": [
      "0it [00:00, ?it/s]\n",
      " 90%|█████████ | 900/1000 [13:57<00:45,  2.18it/s]"
     ]
    },
    {
     "name": "stdout",
     "output_type": "stream",
     "text": [
      "0\n"
     ]
    },
    {
     "name": "stderr",
     "output_type": "stream",
     "text": [
      "0it [00:00, ?it/s]\n",
      " 90%|█████████ | 901/1000 [13:57<00:42,  2.33it/s]"
     ]
    },
    {
     "name": "stdout",
     "output_type": "stream",
     "text": [
      "0\n"
     ]
    },
    {
     "name": "stderr",
     "output_type": "stream",
     "text": [
      "0it [00:00, ?it/s]\n",
      " 90%|█████████ | 902/1000 [13:58<00:35,  2.79it/s]"
     ]
    },
    {
     "name": "stdout",
     "output_type": "stream",
     "text": [
      "0\n"
     ]
    },
    {
     "name": "stderr",
     "output_type": "stream",
     "text": [
      "0it [00:00, ?it/s]\n",
      " 90%|█████████ | 903/1000 [13:58<00:36,  2.64it/s]"
     ]
    },
    {
     "name": "stdout",
     "output_type": "stream",
     "text": [
      "0\n"
     ]
    },
    {
     "name": "stderr",
     "output_type": "stream",
     "text": [
      "100%|██████████| 1/1 [00:00<00:00,  1.02it/s]\n",
      " 90%|█████████ | 904/1000 [13:59<01:03,  1.52it/s]"
     ]
    },
    {
     "name": "stdout",
     "output_type": "stream",
     "text": [
      "2\n"
     ]
    },
    {
     "name": "stderr",
     "output_type": "stream",
     "text": [
      "100%|██████████| 1/1 [00:00<00:00,  2.42it/s]\n",
      " 90%|█████████ | 905/1000 [14:01<01:24,  1.13it/s]"
     ]
    },
    {
     "name": "stdout",
     "output_type": "stream",
     "text": [
      "4\n"
     ]
    },
    {
     "name": "stderr",
     "output_type": "stream",
     "text": [
      "0it [00:00, ?it/s]\n",
      " 91%|█████████ | 906/1000 [14:01<01:09,  1.36it/s]"
     ]
    },
    {
     "name": "stdout",
     "output_type": "stream",
     "text": [
      "0\n"
     ]
    },
    {
     "name": "stderr",
     "output_type": "stream",
     "text": [
      "0it [00:00, ?it/s]\n",
      " 91%|█████████ | 907/1000 [14:01<00:58,  1.59it/s]"
     ]
    },
    {
     "name": "stdout",
     "output_type": "stream",
     "text": [
      "0\n"
     ]
    },
    {
     "name": "stderr",
     "output_type": "stream",
     "text": [
      "0it [00:00, ?it/s]\n",
      " 91%|█████████ | 908/1000 [14:02<00:45,  2.02it/s]"
     ]
    },
    {
     "name": "stdout",
     "output_type": "stream",
     "text": [
      "0\n"
     ]
    },
    {
     "name": "stderr",
     "output_type": "stream",
     "text": [
      "0it [00:00, ?it/s]\n",
      " 91%|█████████ | 909/1000 [14:02<00:37,  2.45it/s]"
     ]
    },
    {
     "name": "stdout",
     "output_type": "stream",
     "text": [
      "0\n"
     ]
    },
    {
     "name": "stderr",
     "output_type": "stream",
     "text": [
      "100%|██████████| 1/1 [00:00<00:00,  2.48it/s]\n",
      " 91%|█████████ | 910/1000 [14:03<00:45,  2.00it/s]"
     ]
    },
    {
     "name": "stdout",
     "output_type": "stream",
     "text": [
      "12\n"
     ]
    },
    {
     "name": "stderr",
     "output_type": "stream",
     "text": [
      "100%|██████████| 1/1 [00:00<00:00,  2.19it/s]\n",
      " 91%|█████████ | 911/1000 [14:04<01:05,  1.36it/s]"
     ]
    },
    {
     "name": "stdout",
     "output_type": "stream",
     "text": [
      "17\n"
     ]
    },
    {
     "name": "stderr",
     "output_type": "stream",
     "text": [
      "100%|██████████| 1/1 [00:00<00:00,  2.16it/s]\n",
      " 91%|█████████ | 912/1000 [14:05<01:04,  1.36it/s]"
     ]
    },
    {
     "name": "stdout",
     "output_type": "stream",
     "text": [
      "1\n"
     ]
    },
    {
     "name": "stderr",
     "output_type": "stream",
     "text": [
      "100%|██████████| 1/1 [00:00<00:00,  2.37it/s]\n",
      " 91%|█████████▏| 913/1000 [14:06<01:12,  1.20it/s]"
     ]
    },
    {
     "name": "stdout",
     "output_type": "stream",
     "text": [
      "12\n"
     ]
    },
    {
     "name": "stderr",
     "output_type": "stream",
     "text": [
      "100%|██████████| 1/1 [00:00<00:00,  5.32it/s]\n",
      " 91%|█████████▏| 914/1000 [14:06<01:02,  1.39it/s]"
     ]
    },
    {
     "name": "stdout",
     "output_type": "stream",
     "text": [
      "1\n"
     ]
    },
    {
     "name": "stderr",
     "output_type": "stream",
     "text": [
      "0it [00:00, ?it/s]\n",
      " 92%|█████████▏| 915/1000 [14:06<00:49,  1.73it/s]"
     ]
    },
    {
     "name": "stdout",
     "output_type": "stream",
     "text": [
      "0\n"
     ]
    },
    {
     "name": "stderr",
     "output_type": "stream",
     "text": [
      "100%|██████████| 1/1 [00:00<00:00,  3.07it/s]\n",
      " 92%|█████████▏| 916/1000 [14:07<00:50,  1.65it/s]"
     ]
    },
    {
     "name": "stdout",
     "output_type": "stream",
     "text": [
      "14\n"
     ]
    },
    {
     "name": "stderr",
     "output_type": "stream",
     "text": [
      "0it [00:00, ?it/s]\n",
      " 92%|█████████▏| 917/1000 [14:07<00:45,  1.82it/s]"
     ]
    },
    {
     "name": "stdout",
     "output_type": "stream",
     "text": [
      "0\n"
     ]
    },
    {
     "name": "stderr",
     "output_type": "stream",
     "text": [
      "0it [00:00, ?it/s]\n",
      " 92%|█████████▏| 918/1000 [14:08<00:38,  2.11it/s]"
     ]
    },
    {
     "name": "stdout",
     "output_type": "stream",
     "text": [
      "0\n"
     ]
    },
    {
     "name": "stderr",
     "output_type": "stream",
     "text": [
      "100%|██████████| 1/1 [00:00<00:00,  2.73it/s]\n",
      " 92%|█████████▏| 919/1000 [14:08<00:42,  1.90it/s]"
     ]
    },
    {
     "name": "stdout",
     "output_type": "stream",
     "text": [
      "2\n"
     ]
    },
    {
     "name": "stderr",
     "output_type": "stream",
     "text": [
      "100%|██████████| 1/1 [00:00<00:00,  1.15it/s]\n",
      " 92%|█████████▏| 920/1000 [14:10<00:56,  1.43it/s]"
     ]
    },
    {
     "name": "stdout",
     "output_type": "stream",
     "text": [
      "1\n"
     ]
    },
    {
     "name": "stderr",
     "output_type": "stream",
     "text": [
      "0it [00:00, ?it/s]\n",
      " 92%|█████████▏| 921/1000 [14:10<00:43,  1.81it/s]"
     ]
    },
    {
     "name": "stdout",
     "output_type": "stream",
     "text": [
      "0\n"
     ]
    },
    {
     "name": "stderr",
     "output_type": "stream",
     "text": [
      "0it [00:00, ?it/s]\n",
      " 92%|█████████▏| 922/1000 [14:10<00:44,  1.76it/s]"
     ]
    },
    {
     "name": "stdout",
     "output_type": "stream",
     "text": [
      "0\n"
     ]
    },
    {
     "name": "stderr",
     "output_type": "stream",
     "text": [
      "100%|██████████| 2/2 [00:00<00:00,  2.30it/s]\n",
      " 92%|█████████▏| 923/1000 [14:12<01:05,  1.18it/s]"
     ]
    },
    {
     "name": "stdout",
     "output_type": "stream",
     "text": [
      "21\n"
     ]
    },
    {
     "name": "stderr",
     "output_type": "stream",
     "text": [
      "0it [00:00, ?it/s]\n",
      " 92%|█████████▏| 924/1000 [14:12<00:56,  1.34it/s]"
     ]
    },
    {
     "name": "stdout",
     "output_type": "stream",
     "text": [
      "0\n"
     ]
    },
    {
     "name": "stderr",
     "output_type": "stream",
     "text": [
      "0it [00:00, ?it/s]\n",
      " 92%|█████████▎| 925/1000 [14:13<00:44,  1.67it/s]"
     ]
    },
    {
     "name": "stdout",
     "output_type": "stream",
     "text": [
      "0\n"
     ]
    },
    {
     "name": "stderr",
     "output_type": "stream",
     "text": [
      "100%|██████████| 1/1 [00:00<00:00,  3.94it/s]\n",
      " 93%|█████████▎| 926/1000 [14:13<00:42,  1.75it/s]"
     ]
    },
    {
     "name": "stdout",
     "output_type": "stream",
     "text": [
      "4\n"
     ]
    },
    {
     "name": "stderr",
     "output_type": "stream",
     "text": [
      "100%|██████████| 1/1 [00:01<00:00,  1.17s/it]\n",
      " 93%|█████████▎| 927/1000 [14:15<01:08,  1.06it/s]"
     ]
    },
    {
     "name": "stdout",
     "output_type": "stream",
     "text": [
      "8\n"
     ]
    },
    {
     "name": "stderr",
     "output_type": "stream",
     "text": [
      "100%|██████████| 1/1 [00:00<00:00,  2.81it/s]\n",
      " 93%|█████████▎| 928/1000 [14:16<01:01,  1.18it/s]"
     ]
    },
    {
     "name": "stdout",
     "output_type": "stream",
     "text": [
      "1\n"
     ]
    },
    {
     "name": "stderr",
     "output_type": "stream",
     "text": [
      "0it [00:00, ?it/s]\n",
      " 93%|█████████▎| 929/1000 [14:16<00:46,  1.53it/s]"
     ]
    },
    {
     "name": "stdout",
     "output_type": "stream",
     "text": [
      "0\n"
     ]
    },
    {
     "name": "stderr",
     "output_type": "stream",
     "text": [
      "100%|██████████| 1/1 [00:00<00:00,  4.68it/s]\n",
      " 93%|█████████▎| 930/1000 [14:16<00:45,  1.54it/s]"
     ]
    },
    {
     "name": "stdout",
     "output_type": "stream",
     "text": [
      "2\n"
     ]
    },
    {
     "name": "stderr",
     "output_type": "stream",
     "text": [
      "100%|██████████| 1/1 [00:00<00:00,  2.08it/s]\n",
      " 93%|█████████▎| 931/1000 [14:17<00:51,  1.34it/s]"
     ]
    },
    {
     "name": "stdout",
     "output_type": "stream",
     "text": [
      "19\n"
     ]
    },
    {
     "name": "stderr",
     "output_type": "stream",
     "text": [
      "100%|██████████| 2/2 [00:01<00:00,  1.25it/s]\n",
      " 93%|█████████▎| 932/1000 [14:19<01:16,  1.12s/it]"
     ]
    },
    {
     "name": "stdout",
     "output_type": "stream",
     "text": [
      "30\n"
     ]
    },
    {
     "name": "stderr",
     "output_type": "stream",
     "text": [
      "0it [00:00, ?it/s]\n",
      " 93%|█████████▎| 933/1000 [14:20<00:57,  1.17it/s]"
     ]
    },
    {
     "name": "stdout",
     "output_type": "stream",
     "text": [
      "0\n"
     ]
    },
    {
     "name": "stderr",
     "output_type": "stream",
     "text": [
      "0it [00:00, ?it/s]\n",
      " 93%|█████████▎| 934/1000 [14:20<00:44,  1.48it/s]"
     ]
    },
    {
     "name": "stdout",
     "output_type": "stream",
     "text": [
      "0\n"
     ]
    },
    {
     "name": "stderr",
     "output_type": "stream",
     "text": [
      "100%|██████████| 1/1 [00:00<00:00,  2.60it/s]\n",
      " 94%|█████████▎| 935/1000 [14:21<00:43,  1.48it/s]"
     ]
    },
    {
     "name": "stdout",
     "output_type": "stream",
     "text": [
      "13\n"
     ]
    },
    {
     "name": "stderr",
     "output_type": "stream",
     "text": [
      "0it [00:00, ?it/s]\n",
      " 94%|█████████▎| 936/1000 [14:21<00:33,  1.89it/s]"
     ]
    },
    {
     "name": "stdout",
     "output_type": "stream",
     "text": [
      "0\n"
     ]
    },
    {
     "name": "stderr",
     "output_type": "stream",
     "text": [
      "100%|██████████| 2/2 [00:00<00:00,  2.56it/s]\n",
      " 94%|█████████▎| 937/1000 [14:22<00:48,  1.31it/s]"
     ]
    },
    {
     "name": "stdout",
     "output_type": "stream",
     "text": [
      "25\n"
     ]
    },
    {
     "name": "stderr",
     "output_type": "stream",
     "text": [
      "100%|██████████| 1/1 [00:00<00:00,  2.08it/s]\n",
      " 94%|█████████▍| 938/1000 [14:23<00:47,  1.30it/s]"
     ]
    },
    {
     "name": "stdout",
     "output_type": "stream",
     "text": [
      "3\n"
     ]
    },
    {
     "name": "stderr",
     "output_type": "stream",
     "text": [
      "100%|██████████| 1/1 [00:01<00:00,  1.27s/it]\n",
      " 94%|█████████▍| 939/1000 [14:24<01:02,  1.02s/it]"
     ]
    },
    {
     "name": "stdout",
     "output_type": "stream",
     "text": [
      "7\n"
     ]
    },
    {
     "name": "stderr",
     "output_type": "stream",
     "text": [
      "100%|██████████| 2/2 [00:00<00:00,  2.46it/s]\n",
      " 94%|█████████▍| 940/1000 [14:26<01:03,  1.06s/it]"
     ]
    },
    {
     "name": "stdout",
     "output_type": "stream",
     "text": [
      "29\n"
     ]
    },
    {
     "name": "stderr",
     "output_type": "stream",
     "text": [
      "100%|██████████| 1/1 [00:00<00:00,  2.28it/s]\n",
      " 94%|█████████▍| 941/1000 [14:26<00:57,  1.02it/s]"
     ]
    },
    {
     "name": "stdout",
     "output_type": "stream",
     "text": [
      "20\n"
     ]
    },
    {
     "name": "stderr",
     "output_type": "stream",
     "text": [
      "100%|██████████| 2/2 [00:00<00:00,  2.57it/s]\n",
      " 94%|█████████▍| 942/1000 [14:28<01:03,  1.10s/it]"
     ]
    },
    {
     "name": "stdout",
     "output_type": "stream",
     "text": [
      "34\n"
     ]
    },
    {
     "name": "stderr",
     "output_type": "stream",
     "text": [
      "100%|██████████| 1/1 [00:00<00:00,  3.21it/s]\n",
      " 94%|█████████▍| 943/1000 [14:28<00:56,  1.01it/s]"
     ]
    },
    {
     "name": "stdout",
     "output_type": "stream",
     "text": [
      "11\n"
     ]
    },
    {
     "name": "stderr",
     "output_type": "stream",
     "text": [
      "100%|██████████| 1/1 [00:00<00:00,  3.50it/s]\n",
      " 94%|█████████▍| 944/1000 [14:29<00:49,  1.14it/s]"
     ]
    },
    {
     "name": "stdout",
     "output_type": "stream",
     "text": [
      "7\n"
     ]
    },
    {
     "name": "stderr",
     "output_type": "stream",
     "text": [
      "100%|██████████| 1/1 [00:00<00:00,  4.00it/s]\n",
      " 94%|█████████▍| 945/1000 [14:30<00:44,  1.23it/s]"
     ]
    },
    {
     "name": "stdout",
     "output_type": "stream",
     "text": [
      "6\n"
     ]
    },
    {
     "name": "stderr",
     "output_type": "stream",
     "text": [
      "0it [00:00, ?it/s]\n",
      " 95%|█████████▍| 946/1000 [14:30<00:34,  1.58it/s]"
     ]
    },
    {
     "name": "stdout",
     "output_type": "stream",
     "text": [
      "0\n"
     ]
    },
    {
     "name": "stderr",
     "output_type": "stream",
     "text": [
      "100%|██████████| 1/1 [00:00<00:00,  4.30it/s]\n",
      " 95%|█████████▍| 947/1000 [14:31<00:32,  1.65it/s]"
     ]
    },
    {
     "name": "stdout",
     "output_type": "stream",
     "text": [
      "1\n"
     ]
    },
    {
     "name": "stderr",
     "output_type": "stream",
     "text": [
      "0it [00:00, ?it/s]\n",
      " 95%|█████████▍| 948/1000 [14:31<00:25,  2.04it/s]"
     ]
    },
    {
     "name": "stdout",
     "output_type": "stream",
     "text": [
      "0\n"
     ]
    },
    {
     "name": "stderr",
     "output_type": "stream",
     "text": [
      "0it [00:00, ?it/s]\n",
      " 95%|█████████▍| 949/1000 [14:31<00:21,  2.34it/s]"
     ]
    },
    {
     "name": "stdout",
     "output_type": "stream",
     "text": [
      "0\n"
     ]
    },
    {
     "name": "stderr",
     "output_type": "stream",
     "text": [
      "0it [00:00, ?it/s]\n",
      " 95%|█████████▌| 950/1000 [14:31<00:17,  2.84it/s]"
     ]
    },
    {
     "name": "stdout",
     "output_type": "stream",
     "text": [
      "0\n"
     ]
    },
    {
     "name": "stderr",
     "output_type": "stream",
     "text": [
      "100%|██████████| 1/1 [00:00<00:00,  4.35it/s]\n",
      " 95%|█████████▌| 951/1000 [14:32<00:20,  2.38it/s]"
     ]
    },
    {
     "name": "stdout",
     "output_type": "stream",
     "text": [
      "4\n"
     ]
    },
    {
     "name": "stderr",
     "output_type": "stream",
     "text": [
      "0it [00:00, ?it/s]\n",
      " 95%|█████████▌| 952/1000 [14:32<00:23,  2.03it/s]"
     ]
    },
    {
     "name": "stdout",
     "output_type": "stream",
     "text": [
      "0\n"
     ]
    },
    {
     "name": "stderr",
     "output_type": "stream",
     "text": [
      "0it [00:00, ?it/s]\n",
      " 95%|█████████▌| 953/1000 [14:33<00:23,  2.04it/s]"
     ]
    },
    {
     "name": "stdout",
     "output_type": "stream",
     "text": [
      "0\n"
     ]
    },
    {
     "name": "stderr",
     "output_type": "stream",
     "text": [
      "100%|██████████| 1/1 [00:00<00:00,  3.67it/s]\n",
      " 95%|█████████▌| 954/1000 [14:33<00:22,  2.03it/s]"
     ]
    },
    {
     "name": "stdout",
     "output_type": "stream",
     "text": [
      "5\n"
     ]
    },
    {
     "name": "stderr",
     "output_type": "stream",
     "text": [
      "0it [00:00, ?it/s]\n",
      " 96%|█████████▌| 955/1000 [14:34<00:17,  2.53it/s]"
     ]
    },
    {
     "name": "stdout",
     "output_type": "stream",
     "text": [
      "0\n"
     ]
    },
    {
     "name": "stderr",
     "output_type": "stream",
     "text": [
      "0it [00:00, ?it/s]\n",
      " 96%|█████████▌| 956/1000 [14:34<00:14,  2.97it/s]"
     ]
    },
    {
     "name": "stdout",
     "output_type": "stream",
     "text": [
      "0\n"
     ]
    },
    {
     "name": "stderr",
     "output_type": "stream",
     "text": [
      "100%|██████████| 1/1 [00:00<00:00,  1.74it/s]\n",
      " 96%|█████████▌| 957/1000 [14:35<00:21,  2.03it/s]"
     ]
    },
    {
     "name": "stdout",
     "output_type": "stream",
     "text": [
      "9\n"
     ]
    },
    {
     "name": "stderr",
     "output_type": "stream",
     "text": [
      "0it [00:00, ?it/s]\n",
      " 96%|█████████▌| 958/1000 [14:35<00:19,  2.18it/s]"
     ]
    },
    {
     "name": "stdout",
     "output_type": "stream",
     "text": [
      "0\n"
     ]
    },
    {
     "name": "stderr",
     "output_type": "stream",
     "text": [
      "0it [00:00, ?it/s]\n",
      " 96%|█████████▌| 959/1000 [14:35<00:15,  2.62it/s]"
     ]
    },
    {
     "name": "stdout",
     "output_type": "stream",
     "text": [
      "0\n"
     ]
    },
    {
     "name": "stderr",
     "output_type": "stream",
     "text": [
      "100%|██████████| 1/1 [00:00<00:00,  1.56it/s]\n",
      " 96%|█████████▌| 960/1000 [14:36<00:21,  1.84it/s]"
     ]
    },
    {
     "name": "stdout",
     "output_type": "stream",
     "text": [
      "1\n"
     ]
    },
    {
     "name": "stderr",
     "output_type": "stream",
     "text": [
      "100%|██████████| 1/1 [00:00<00:00,  2.87it/s]\n",
      " 96%|█████████▌| 961/1000 [14:37<00:21,  1.77it/s]"
     ]
    },
    {
     "name": "stdout",
     "output_type": "stream",
     "text": [
      "5\n"
     ]
    },
    {
     "name": "stderr",
     "output_type": "stream",
     "text": [
      "0it [00:00, ?it/s]\n",
      " 96%|█████████▌| 962/1000 [14:37<00:17,  2.17it/s]"
     ]
    },
    {
     "name": "stdout",
     "output_type": "stream",
     "text": [
      "0\n"
     ]
    },
    {
     "name": "stderr",
     "output_type": "stream",
     "text": [
      "0it [00:00, ?it/s]\n",
      " 96%|█████████▋| 963/1000 [14:37<00:14,  2.62it/s]"
     ]
    },
    {
     "name": "stdout",
     "output_type": "stream",
     "text": [
      "0\n"
     ]
    },
    {
     "name": "stderr",
     "output_type": "stream",
     "text": [
      "0it [00:00, ?it/s]\n",
      " 96%|█████████▋| 964/1000 [14:37<00:11,  3.14it/s]"
     ]
    },
    {
     "name": "stdout",
     "output_type": "stream",
     "text": [
      "0\n"
     ]
    },
    {
     "name": "stderr",
     "output_type": "stream",
     "text": [
      "0it [00:00, ?it/s]\n",
      " 96%|█████████▋| 965/1000 [14:38<00:17,  1.97it/s]"
     ]
    },
    {
     "name": "stdout",
     "output_type": "stream",
     "text": [
      "0\n"
     ]
    },
    {
     "name": "stderr",
     "output_type": "stream",
     "text": [
      "0it [00:00, ?it/s]\n",
      " 97%|█████████▋| 966/1000 [14:39<00:14,  2.30it/s]"
     ]
    },
    {
     "name": "stdout",
     "output_type": "stream",
     "text": [
      "0\n"
     ]
    },
    {
     "name": "stderr",
     "output_type": "stream",
     "text": [
      "0it [00:00, ?it/s]\n",
      " 97%|█████████▋| 967/1000 [14:39<00:12,  2.69it/s]"
     ]
    },
    {
     "name": "stdout",
     "output_type": "stream",
     "text": [
      "0\n"
     ]
    },
    {
     "name": "stderr",
     "output_type": "stream",
     "text": [
      "0it [00:00, ?it/s]\n",
      " 97%|█████████▋| 968/1000 [14:39<00:10,  2.98it/s]"
     ]
    },
    {
     "name": "stdout",
     "output_type": "stream",
     "text": [
      "0\n"
     ]
    },
    {
     "name": "stderr",
     "output_type": "stream",
     "text": [
      "0it [00:00, ?it/s]\n",
      " 97%|█████████▋| 969/1000 [14:39<00:09,  3.40it/s]"
     ]
    },
    {
     "name": "stdout",
     "output_type": "stream",
     "text": [
      "0\n"
     ]
    },
    {
     "name": "stderr",
     "output_type": "stream",
     "text": [
      "0it [00:00, ?it/s]\n",
      " 97%|█████████▋| 970/1000 [14:40<00:14,  2.03it/s]"
     ]
    },
    {
     "name": "stdout",
     "output_type": "stream",
     "text": [
      "0\n"
     ]
    },
    {
     "name": "stderr",
     "output_type": "stream",
     "text": [
      "0it [00:00, ?it/s]\n",
      " 97%|█████████▋| 971/1000 [14:41<00:13,  2.12it/s]"
     ]
    },
    {
     "name": "stdout",
     "output_type": "stream",
     "text": [
      "0\n"
     ]
    },
    {
     "name": "stderr",
     "output_type": "stream",
     "text": [
      "100%|██████████| 1/1 [00:00<00:00,  4.06it/s]\n",
      " 97%|█████████▋| 972/1000 [14:41<00:13,  2.11it/s]"
     ]
    },
    {
     "name": "stdout",
     "output_type": "stream",
     "text": [
      "3\n"
     ]
    },
    {
     "name": "stderr",
     "output_type": "stream",
     "text": [
      "0it [00:00, ?it/s]\n",
      " 97%|█████████▋| 973/1000 [14:42<00:12,  2.14it/s]"
     ]
    },
    {
     "name": "stdout",
     "output_type": "stream",
     "text": [
      "0\n"
     ]
    },
    {
     "name": "stderr",
     "output_type": "stream",
     "text": [
      "0it [00:00, ?it/s]\n",
      " 97%|█████████▋| 974/1000 [14:42<00:09,  2.61it/s]"
     ]
    },
    {
     "name": "stdout",
     "output_type": "stream",
     "text": [
      "0\n"
     ]
    },
    {
     "name": "stderr",
     "output_type": "stream",
     "text": [
      "0it [00:00, ?it/s]\n",
      " 98%|█████████▊| 975/1000 [14:42<00:09,  2.55it/s]"
     ]
    },
    {
     "name": "stdout",
     "output_type": "stream",
     "text": [
      "0\n"
     ]
    },
    {
     "name": "stderr",
     "output_type": "stream",
     "text": [
      "100%|██████████| 1/1 [00:00<00:00,  2.05it/s]\n",
      " 98%|█████████▊| 976/1000 [14:43<00:14,  1.65it/s]"
     ]
    },
    {
     "name": "stdout",
     "output_type": "stream",
     "text": [
      "19\n"
     ]
    },
    {
     "name": "stderr",
     "output_type": "stream",
     "text": [
      "100%|██████████| 2/2 [00:00<00:00,  3.03it/s]\n",
      " 98%|█████████▊| 977/1000 [14:44<00:17,  1.33it/s]"
     ]
    },
    {
     "name": "stdout",
     "output_type": "stream",
     "text": [
      "25\n"
     ]
    },
    {
     "name": "stderr",
     "output_type": "stream",
     "text": [
      "100%|██████████| 7/7 [00:03<00:00,  1.91it/s]\n",
      " 98%|█████████▊| 978/1000 [14:48<00:38,  1.74s/it]"
     ]
    },
    {
     "name": "stdout",
     "output_type": "stream",
     "text": [
      "127\n"
     ]
    },
    {
     "name": "stderr",
     "output_type": "stream",
     "text": [
      "100%|██████████| 4/4 [00:01<00:00,  2.24it/s]\n",
      " 98%|█████████▊| 979/1000 [14:51<00:39,  1.86s/it]"
     ]
    },
    {
     "name": "stdout",
     "output_type": "stream",
     "text": [
      "73\n"
     ]
    },
    {
     "name": "stderr",
     "output_type": "stream",
     "text": [
      "0it [00:00, ?it/s]\n",
      " 98%|█████████▊| 980/1000 [14:51<00:27,  1.38s/it]"
     ]
    },
    {
     "name": "stdout",
     "output_type": "stream",
     "text": [
      "0\n"
     ]
    },
    {
     "name": "stderr",
     "output_type": "stream",
     "text": [
      "100%|██████████| 1/1 [00:00<00:00,  4.63it/s]\n",
      " 98%|█████████▊| 981/1000 [14:51<00:21,  1.13s/it]"
     ]
    },
    {
     "name": "stdout",
     "output_type": "stream",
     "text": [
      "2\n"
     ]
    },
    {
     "name": "stderr",
     "output_type": "stream",
     "text": [
      "100%|██████████| 1/1 [00:00<00:00,  2.05it/s]\n",
      " 98%|█████████▊| 982/1000 [14:52<00:17,  1.00it/s]"
     ]
    },
    {
     "name": "stdout",
     "output_type": "stream",
     "text": [
      "2\n"
     ]
    },
    {
     "name": "stderr",
     "output_type": "stream",
     "text": [
      "0it [00:00, ?it/s]\n",
      " 98%|█████████▊| 983/1000 [14:52<00:12,  1.33it/s]"
     ]
    },
    {
     "name": "stdout",
     "output_type": "stream",
     "text": [
      "0\n"
     ]
    },
    {
     "name": "stderr",
     "output_type": "stream",
     "text": [
      "0it [00:00, ?it/s]\n",
      " 98%|█████████▊| 984/1000 [14:52<00:09,  1.65it/s]"
     ]
    },
    {
     "name": "stdout",
     "output_type": "stream",
     "text": [
      "0\n"
     ]
    },
    {
     "name": "stderr",
     "output_type": "stream",
     "text": [
      "100%|██████████| 1/1 [00:00<00:00,  3.37it/s]\n",
      " 98%|█████████▊| 985/1000 [14:53<00:09,  1.61it/s]"
     ]
    },
    {
     "name": "stdout",
     "output_type": "stream",
     "text": [
      "10\n"
     ]
    },
    {
     "name": "stderr",
     "output_type": "stream",
     "text": [
      "0it [00:00, ?it/s]\n",
      " 99%|█████████▊| 986/1000 [14:53<00:07,  1.83it/s]"
     ]
    },
    {
     "name": "stdout",
     "output_type": "stream",
     "text": [
      "0\n"
     ]
    },
    {
     "name": "stderr",
     "output_type": "stream",
     "text": [
      "0it [00:00, ?it/s]\n",
      " 99%|█████████▊| 987/1000 [14:54<00:05,  2.21it/s]"
     ]
    },
    {
     "name": "stdout",
     "output_type": "stream",
     "text": [
      "0\n"
     ]
    },
    {
     "name": "stderr",
     "output_type": "stream",
     "text": [
      "100%|██████████| 1/1 [00:00<00:00,  1.84it/s]\n",
      " 99%|█████████▉| 988/1000 [14:55<00:06,  1.78it/s]"
     ]
    },
    {
     "name": "stdout",
     "output_type": "stream",
     "text": [
      "2\n"
     ]
    },
    {
     "name": "stderr",
     "output_type": "stream",
     "text": [
      "0it [00:00, ?it/s]\n",
      " 99%|█████████▉| 989/1000 [14:55<00:05,  1.87it/s]"
     ]
    },
    {
     "name": "stdout",
     "output_type": "stream",
     "text": [
      "0\n"
     ]
    },
    {
     "name": "stderr",
     "output_type": "stream",
     "text": [
      "0it [00:00, ?it/s]\n",
      " 99%|█████████▉| 990/1000 [14:55<00:04,  2.28it/s]"
     ]
    },
    {
     "name": "stdout",
     "output_type": "stream",
     "text": [
      "0\n"
     ]
    },
    {
     "name": "stderr",
     "output_type": "stream",
     "text": [
      "0it [00:00, ?it/s]\n",
      " 99%|█████████▉| 991/1000 [14:56<00:03,  2.49it/s]"
     ]
    },
    {
     "name": "stdout",
     "output_type": "stream",
     "text": [
      "0\n"
     ]
    },
    {
     "name": "stderr",
     "output_type": "stream",
     "text": [
      "0it [00:00, ?it/s]\n",
      " 99%|█████████▉| 992/1000 [14:56<00:02,  2.93it/s]"
     ]
    },
    {
     "name": "stdout",
     "output_type": "stream",
     "text": [
      "0\n"
     ]
    },
    {
     "name": "stderr",
     "output_type": "stream",
     "text": [
      "100%|██████████| 1/1 [00:00<00:00,  1.59it/s]\n",
      " 99%|█████████▉| 993/1000 [14:57<00:03,  1.92it/s]"
     ]
    },
    {
     "name": "stdout",
     "output_type": "stream",
     "text": [
      "2\n"
     ]
    },
    {
     "name": "stderr",
     "output_type": "stream",
     "text": [
      "0it [00:00, ?it/s]\n",
      " 99%|█████████▉| 994/1000 [14:57<00:02,  2.32it/s]"
     ]
    },
    {
     "name": "stdout",
     "output_type": "stream",
     "text": [
      "0\n"
     ]
    },
    {
     "name": "stderr",
     "output_type": "stream",
     "text": [
      "0it [00:00, ?it/s]\n",
      "100%|█████████▉| 995/1000 [14:57<00:01,  2.80it/s]"
     ]
    },
    {
     "name": "stdout",
     "output_type": "stream",
     "text": [
      "0\n"
     ]
    },
    {
     "name": "stderr",
     "output_type": "stream",
     "text": [
      "100%|██████████| 2/2 [00:01<00:00,  1.28it/s]\n",
      "100%|█████████▉| 996/1000 [14:59<00:03,  1.14it/s]"
     ]
    },
    {
     "name": "stdout",
     "output_type": "stream",
     "text": [
      "22\n"
     ]
    },
    {
     "name": "stderr",
     "output_type": "stream",
     "text": [
      "100%|██████████| 1/1 [00:00<00:00,  1.62it/s]\n",
      "100%|█████████▉| 997/1000 [15:00<00:02,  1.06it/s]"
     ]
    },
    {
     "name": "stdout",
     "output_type": "stream",
     "text": [
      "11\n"
     ]
    },
    {
     "name": "stderr",
     "output_type": "stream",
     "text": [
      "0it [00:00, ?it/s]\n",
      "100%|█████████▉| 998/1000 [15:01<00:01,  1.26it/s]"
     ]
    },
    {
     "name": "stdout",
     "output_type": "stream",
     "text": [
      "0\n"
     ]
    },
    {
     "name": "stderr",
     "output_type": "stream",
     "text": [
      "0it [00:00, ?it/s]\n",
      "100%|█████████▉| 999/1000 [15:01<00:00,  1.63it/s]"
     ]
    },
    {
     "name": "stdout",
     "output_type": "stream",
     "text": [
      "0\n"
     ]
    },
    {
     "name": "stderr",
     "output_type": "stream",
     "text": [
      "0it [00:00, ?it/s]\n",
      "100%|██████████| 1000/1000 [15:01<00:00,  1.11it/s]"
     ]
    },
    {
     "name": "stdout",
     "output_type": "stream",
     "text": [
      "0\n"
     ]
    },
    {
     "name": "stderr",
     "output_type": "stream",
     "text": [
      "\n"
     ]
    }
   ],
   "source": [
    "vic_postcodes = constants.postcodes['VIC']\n",
    "\n",
    "domain_links = set()\n",
    "\n",
    "for i in tqdm(range(len(vic_postcodes))):\n",
    "    current_links = domain_property_links(vic_postcodes[i])\n",
    "    domain_links = domain_links | current_links\n",
    "    \n",
    "    print(len(current_links))"
   ]
  },
  {
   "cell_type": "code",
   "execution_count": 3,
   "metadata": {},
   "outputs": [
    {
     "data": {
      "text/plain": [
       "15353"
      ]
     },
     "execution_count": 3,
     "metadata": {},
     "output_type": "execute_result"
    }
   ],
   "source": [
    "len(domain_links)"
   ]
  },
  {
   "cell_type": "code",
   "execution_count": 4,
   "metadata": {},
   "outputs": [
    {
     "data": {
      "text/html": [
       "<div>\n",
       "<style scoped>\n",
       "    .dataframe tbody tr th:only-of-type {\n",
       "        vertical-align: middle;\n",
       "    }\n",
       "\n",
       "    .dataframe tbody tr th {\n",
       "        vertical-align: top;\n",
       "    }\n",
       "\n",
       "    .dataframe thead th {\n",
       "        text-align: right;\n",
       "    }\n",
       "</style>\n",
       "<table border=\"1\" class=\"dataframe\">\n",
       "  <thead>\n",
       "    <tr style=\"text-align: right;\">\n",
       "      <th></th>\n",
       "      <th>rentalMethod</th>\n",
       "      <th>address</th>\n",
       "      <th>suburb</th>\n",
       "      <th>bedrooms</th>\n",
       "      <th>bathrooms</th>\n",
       "      <th>parking</th>\n",
       "      <th>postcode</th>\n",
       "      <th>state</th>\n",
       "      <th>primaryPropertyType</th>\n",
       "      <th>secondaryPropertyType</th>\n",
       "      <th>agency</th>\n",
       "      <th>latitude</th>\n",
       "      <th>longitude</th>\n",
       "      <th>nearBySchools</th>\n",
       "    </tr>\n",
       "  </thead>\n",
       "  <tbody>\n",
       "    <tr>\n",
       "      <th>0</th>\n",
       "      <td>rent</td>\n",
       "      <td>108 Holdsworth Road, North Bendigo VIC 3550</td>\n",
       "      <td>North Bendigo</td>\n",
       "      <td>3</td>\n",
       "      <td>1</td>\n",
       "      <td>1</td>\n",
       "      <td>3550</td>\n",
       "      <td>VIC</td>\n",
       "      <td>House</td>\n",
       "      <td>House</td>\n",
       "      <td>McKean McGregor Real Estate Pty Ltd</td>\n",
       "      <td>-36.734203</td>\n",
       "      <td>144.270595</td>\n",
       "      <td>[Lightning Reef Primary School, St Peter's Sch...</td>\n",
       "    </tr>\n",
       "    <tr>\n",
       "      <th>0</th>\n",
       "      <td>rent</td>\n",
       "      <td>3/139 Rokewood Crescent, Meadow Heights VIC 3048</td>\n",
       "      <td>Meadow Heights</td>\n",
       "      <td>2</td>\n",
       "      <td>1</td>\n",
       "      <td>1</td>\n",
       "      <td>3048</td>\n",
       "      <td>VIC</td>\n",
       "      <td>Apartment</td>\n",
       "      <td>Apartment / Unit / Flat</td>\n",
       "      <td>First National Real Estate Meadow Heights</td>\n",
       "      <td>-37.654017</td>\n",
       "      <td>144.916260</td>\n",
       "      <td>[Bethal Primary School, St Mary's Coptic Ortho...</td>\n",
       "    </tr>\n",
       "    <tr>\n",
       "      <th>0</th>\n",
       "      <td>rent</td>\n",
       "      <td>55 Keith Street, Alphington VIC 3078</td>\n",
       "      <td>Alphington</td>\n",
       "      <td>3</td>\n",
       "      <td>1</td>\n",
       "      <td>2</td>\n",
       "      <td>3078</td>\n",
       "      <td>VIC</td>\n",
       "      <td>House</td>\n",
       "      <td>House</td>\n",
       "      <td>Thomas Quixley Fairfield Pty Ltd</td>\n",
       "      <td>-37.770772</td>\n",
       "      <td>145.029680</td>\n",
       "      <td>[Mary Immaculate School, St Bernadette's Schoo...</td>\n",
       "    </tr>\n",
       "    <tr>\n",
       "      <th>0</th>\n",
       "      <td>rent</td>\n",
       "      <td>7/13 Motherwell Street, South Yarra VIC 3141</td>\n",
       "      <td>South Yarra</td>\n",
       "      <td>1</td>\n",
       "      <td>1</td>\n",
       "      <td>1</td>\n",
       "      <td>3141</td>\n",
       "      <td>VIC</td>\n",
       "      <td>Apartment</td>\n",
       "      <td>Apartment / Unit / Flat</td>\n",
       "      <td>Xynergy Realty Oakleigh</td>\n",
       "      <td>-37.845513</td>\n",
       "      <td>145.000493</td>\n",
       "      <td>[Toorak Primary School, Kamaruka - Primary Cam...</td>\n",
       "    </tr>\n",
       "    <tr>\n",
       "      <th>0</th>\n",
       "      <td>rent</td>\n",
       "      <td>5/57-59 High Street Road, Ashwood VIC 3147</td>\n",
       "      <td>Ashwood</td>\n",
       "      <td>2</td>\n",
       "      <td>1</td>\n",
       "      <td>1</td>\n",
       "      <td>3147</td>\n",
       "      <td>VIC</td>\n",
       "      <td>House</td>\n",
       "      <td>House</td>\n",
       "      <td>Biggin &amp; Scott Glen Waverley</td>\n",
       "      <td>-37.866010</td>\n",
       "      <td>145.096627</td>\n",
       "      <td>[Ashwood High School, Berengarra School - Café...</td>\n",
       "    </tr>\n",
       "    <tr>\n",
       "      <th>...</th>\n",
       "      <td>...</td>\n",
       "      <td>...</td>\n",
       "      <td>...</td>\n",
       "      <td>...</td>\n",
       "      <td>...</td>\n",
       "      <td>...</td>\n",
       "      <td>...</td>\n",
       "      <td>...</td>\n",
       "      <td>...</td>\n",
       "      <td>...</td>\n",
       "      <td>...</td>\n",
       "      <td>...</td>\n",
       "      <td>...</td>\n",
       "      <td>...</td>\n",
       "    </tr>\n",
       "    <tr>\n",
       "      <th>0</th>\n",
       "      <td>rent</td>\n",
       "      <td>4A Keith Grove, Ringwood VIC 3134</td>\n",
       "      <td>Ringwood</td>\n",
       "      <td>3</td>\n",
       "      <td>2</td>\n",
       "      <td>1</td>\n",
       "      <td>3134</td>\n",
       "      <td>VIC</td>\n",
       "      <td>House</td>\n",
       "      <td>House</td>\n",
       "      <td>Philip Webb Mitcham</td>\n",
       "      <td>-37.821106</td>\n",
       "      <td>145.222511</td>\n",
       "      <td>[Our Lady of Perpetual Help School, St Mary’s ...</td>\n",
       "    </tr>\n",
       "    <tr>\n",
       "      <th>0</th>\n",
       "      <td>rent</td>\n",
       "      <td>2B High Street, Windsor VIC 3181</td>\n",
       "      <td>Windsor</td>\n",
       "      <td>2</td>\n",
       "      <td>1</td>\n",
       "      <td>0</td>\n",
       "      <td>3181</td>\n",
       "      <td>VIC</td>\n",
       "      <td>House</td>\n",
       "      <td>House</td>\n",
       "      <td>SP3 Real Estate Consultants &amp; Valuers</td>\n",
       "      <td>-37.850813</td>\n",
       "      <td>144.984513</td>\n",
       "      <td>[Wesley College, Wesley College - St Kilda Roa...</td>\n",
       "    </tr>\n",
       "    <tr>\n",
       "      <th>0</th>\n",
       "      <td>rent</td>\n",
       "      <td>129 Curtain Street, Carlton North VIC 3054</td>\n",
       "      <td>Carlton North</td>\n",
       "      <td>3</td>\n",
       "      <td>1</td>\n",
       "      <td>0</td>\n",
       "      <td>3054</td>\n",
       "      <td>VIC</td>\n",
       "      <td>House</td>\n",
       "      <td>House</td>\n",
       "      <td>Nelson Alexander | Carlton</td>\n",
       "      <td>-37.788715</td>\n",
       "      <td>144.969454</td>\n",
       "      <td>[Carlton North Primary School, Hester Hornbroo...</td>\n",
       "    </tr>\n",
       "    <tr>\n",
       "      <th>0</th>\n",
       "      <td>rent</td>\n",
       "      <td>16/131 Riversdale Road, Hawthorn VIC 3122</td>\n",
       "      <td>Hawthorn</td>\n",
       "      <td>1</td>\n",
       "      <td>1</td>\n",
       "      <td>1</td>\n",
       "      <td>3122</td>\n",
       "      <td>VIC</td>\n",
       "      <td>Apartment</td>\n",
       "      <td>Apartment / Unit / Flat</td>\n",
       "      <td>LITTLE Real Estate Victoria</td>\n",
       "      <td>-37.828836</td>\n",
       "      <td>145.037646</td>\n",
       "      <td>[St Joseph's School, Erasmus Primary School, G...</td>\n",
       "    </tr>\n",
       "    <tr>\n",
       "      <th>0</th>\n",
       "      <td>rent</td>\n",
       "      <td>2/3 Ada Street, Doncaster VIC 3108</td>\n",
       "      <td>Doncaster</td>\n",
       "      <td>3</td>\n",
       "      <td>2</td>\n",
       "      <td>2</td>\n",
       "      <td>3108</td>\n",
       "      <td>VIC</td>\n",
       "      <td>Townhouse/Villa</td>\n",
       "      <td>Townhouse</td>\n",
       "      <td>ASL Real Estate</td>\n",
       "      <td>-37.789347</td>\n",
       "      <td>145.120472</td>\n",
       "      <td>[Birralee Primary School, St Gregory the Great...</td>\n",
       "    </tr>\n",
       "  </tbody>\n",
       "</table>\n",
       "<p>15349 rows × 14 columns</p>\n",
       "</div>"
      ],
      "text/plain": [
       "   rentalMethod                                           address  \\\n",
       "0          rent       108 Holdsworth Road, North Bendigo VIC 3550   \n",
       "0          rent  3/139 Rokewood Crescent, Meadow Heights VIC 3048   \n",
       "0          rent              55 Keith Street, Alphington VIC 3078   \n",
       "0          rent      7/13 Motherwell Street, South Yarra VIC 3141   \n",
       "0          rent        5/57-59 High Street Road, Ashwood VIC 3147   \n",
       "..          ...                                               ...   \n",
       "0          rent                 4A Keith Grove, Ringwood VIC 3134   \n",
       "0          rent                  2B High Street, Windsor VIC 3181   \n",
       "0          rent        129 Curtain Street, Carlton North VIC 3054   \n",
       "0          rent         16/131 Riversdale Road, Hawthorn VIC 3122   \n",
       "0          rent                2/3 Ada Street, Doncaster VIC 3108   \n",
       "\n",
       "            suburb bedrooms bathrooms parking postcode state  \\\n",
       "0    North Bendigo        3         1       1     3550   VIC   \n",
       "0   Meadow Heights        2         1       1     3048   VIC   \n",
       "0       Alphington        3         1       2     3078   VIC   \n",
       "0      South Yarra        1         1       1     3141   VIC   \n",
       "0          Ashwood        2         1       1     3147   VIC   \n",
       "..             ...      ...       ...     ...      ...   ...   \n",
       "0         Ringwood        3         2       1     3134   VIC   \n",
       "0          Windsor        2         1       0     3181   VIC   \n",
       "0    Carlton North        3         1       0     3054   VIC   \n",
       "0         Hawthorn        1         1       1     3122   VIC   \n",
       "0        Doncaster        3         2       2     3108   VIC   \n",
       "\n",
       "   primaryPropertyType    secondaryPropertyType  \\\n",
       "0                House                    House   \n",
       "0            Apartment  Apartment / Unit / Flat   \n",
       "0                House                    House   \n",
       "0            Apartment  Apartment / Unit / Flat   \n",
       "0                House                    House   \n",
       "..                 ...                      ...   \n",
       "0                House                    House   \n",
       "0                House                    House   \n",
       "0                House                    House   \n",
       "0            Apartment  Apartment / Unit / Flat   \n",
       "0      Townhouse/Villa                Townhouse   \n",
       "\n",
       "                                       agency   latitude   longitude  \\\n",
       "0         McKean McGregor Real Estate Pty Ltd -36.734203  144.270595   \n",
       "0   First National Real Estate Meadow Heights -37.654017  144.916260   \n",
       "0            Thomas Quixley Fairfield Pty Ltd -37.770772  145.029680   \n",
       "0                     Xynergy Realty Oakleigh -37.845513  145.000493   \n",
       "0                Biggin & Scott Glen Waverley -37.866010  145.096627   \n",
       "..                                        ...        ...         ...   \n",
       "0                         Philip Webb Mitcham -37.821106  145.222511   \n",
       "0       SP3 Real Estate Consultants & Valuers -37.850813  144.984513   \n",
       "0                  Nelson Alexander | Carlton -37.788715  144.969454   \n",
       "0                 LITTLE Real Estate Victoria -37.828836  145.037646   \n",
       "0                             ASL Real Estate -37.789347  145.120472   \n",
       "\n",
       "                                        nearBySchools  \n",
       "0   [Lightning Reef Primary School, St Peter's Sch...  \n",
       "0   [Bethal Primary School, St Mary's Coptic Ortho...  \n",
       "0   [Mary Immaculate School, St Bernadette's Schoo...  \n",
       "0   [Toorak Primary School, Kamaruka - Primary Cam...  \n",
       "0   [Ashwood High School, Berengarra School - Café...  \n",
       "..                                                ...  \n",
       "0   [Our Lady of Perpetual Help School, St Mary’s ...  \n",
       "0   [Wesley College, Wesley College - St Kilda Roa...  \n",
       "0   [Carlton North Primary School, Hester Hornbroo...  \n",
       "0   [St Joseph's School, Erasmus Primary School, G...  \n",
       "0   [Birralee Primary School, St Gregory the Great...  \n",
       "\n",
       "[15349 rows x 14 columns]"
      ]
     },
     "execution_count": 4,
     "metadata": {},
     "output_type": "execute_result"
    }
   ],
   "source": [
    "domain_properties_info(domain_links)"
   ]
  },
  {
   "cell_type": "code",
   "execution_count": 6,
   "metadata": {},
   "outputs": [
    {
     "data": {
      "text/plain": [
       "15353"
      ]
     },
     "execution_count": 6,
     "metadata": {},
     "output_type": "execute_result"
    }
   ],
   "source": [
    "len(domain_links)"
   ]
  },
  {
   "cell_type": "code",
   "execution_count": 7,
   "metadata": {},
   "outputs": [
    {
     "data": {
      "text/plain": [
       "{'https://www.domain.com.au/108-holdsworth-road-north-bendigo-vic-3550-16036378',\n",
       " 'https://www.domain.com.au/3-139-rokewood-crescent-meadow-heights-vic-3048-16051701',\n",
       " 'https://www.domain.com.au/55-keith-street-alphington-vic-3078-16067580',\n",
       " 'https://www.domain.com.au/7-13-motherwell-street-south-yarra-vic-3141-16052497',\n",
       " 'https://www.domain.com.au/5-57-59-high-street-road-ashwood-vic-3147-15937215',\n",
       " 'https://www.domain.com.au/106-5-7-montrose-street-hawthorn-east-vic-3123-16065496',\n",
       " 'https://www.domain.com.au/4-113-115-albert-street-geelong-west-vic-3218-16064852',\n",
       " 'https://www.domain.com.au/54-gower-street-kensington-vic-3031-16049077',\n",
       " 'https://www.domain.com.au/3-14-view-point-street-ararat-vic-3377-16051340',\n",
       " 'https://www.domain.com.au/62-belmont-road-croydon-south-vic-3136-16016795',\n",
       " 'https://www.domain.com.au/24-keskadale-way-clyde-north-vic-3978-16063062',\n",
       " 'https://www.domain.com.au/2606-103-south-wharf-drive-docklands-vic-3008-16058225',\n",
       " 'https://www.domain.com.au/10g-71-henry-street-kensington-vic-3031-16048978',\n",
       " 'https://www.domain.com.au/2-2-boondara-grove-st-kilda-east-vic-3183-16008131',\n",
       " 'https://www.domain.com.au/15-sprinter-way-winter-valley-vic-3358-16049768',\n",
       " 'https://www.domain.com.au/2-maimones-road-werribee-south-vic-3030-16067849',\n",
       " 'https://www.domain.com.au/6-narebar-street-bell-park-vic-3215-10669451',\n",
       " 'https://www.domain.com.au/23-sequoia-drive-kalkallo-vic-3064-16058922',\n",
       " 'https://www.domain.com.au/1004-38-albert-road-south-melbourne-vic-3205-16030415',\n",
       " 'https://www.domain.com.au/214-evans-road-cranbourne-west-vic-3977-15882095',\n",
       " 'https://www.domain.com.au/104-157-park-road-cheltenham-vic-3192-16032225',\n",
       " 'https://www.domain.com.au/91-songlark-crescent-werribee-vic-3030-16033971',\n",
       " 'https://www.domain.com.au/8-78-wellington-clayton-vic-3168-16067029',\n",
       " 'https://www.domain.com.au/131-edwin-street-heidelberg-heights-vic-3081-16067707',\n",
       " 'https://www.domain.com.au/2-616-gilbert-road-reservoir-vic-3073-16030025',\n",
       " 'https://www.domain.com.au/1d-wilmot-street-malvern-east-vic-3145-16032542',\n",
       " 'https://www.domain.com.au/9-825-park-street-brunswick-vic-3056-16019686',\n",
       " 'https://www.domain.com.au/1-171b-lygon-street-brunswick-vic-3056-13609722',\n",
       " 'https://www.domain.com.au/36-beryl-st-glen-iris-vic-3146-15975095',\n",
       " 'https://www.domain.com.au/45-spring-street-thomastown-vic-3074-16064468',\n",
       " 'https://www.domain.com.au/1612-160-victoria-street-carlton-vic-3053-15811561',\n",
       " 'https://www.domain.com.au/2-147-orange-avenue-mildura-vic-3500-16032415',\n",
       " 'https://www.domain.com.au/3-reilly-street-springvale-vic-3171-16029971',\n",
       " 'https://www.domain.com.au/2-2a-rupert-street-ringwood-vic-3134-16046333',\n",
       " 'https://www.domain.com.au/32-1-gatehouse-drive-kensington-vic-3031-16064953',\n",
       " 'https://www.domain.com.au/92-boardwalk-boulevard-point-cook-vic-3030-16067015',\n",
       " 'https://www.domain.com.au/704-36-regent-street-richmond-vic-3121-14076460',\n",
       " 'https://www.domain.com.au/66-erica-avenue-st-albans-vic-3021-15924127',\n",
       " 'https://www.domain.com.au/1-1306-mair-street-lake-wendouree-vic-3350-15558262',\n",
       " 'https://www.domain.com.au/43-bagshot-circuit-mernda-vic-3754-16036819',\n",
       " 'https://www.domain.com.au/16-lilian-parade-ringwood-vic-3134-16065729',\n",
       " 'https://www.domain.com.au/2-91-numurkah-road-shepparton-vic-3630-16068623',\n",
       " 'https://www.domain.com.au/26-55-alexandra-st-st-kilda-east-vic-3183-16067159',\n",
       " 'https://www.domain.com.au/71-hourigan-road-morwell-vic-3840-15988478',\n",
       " 'https://www.domain.com.au/28-ross-cres-heathmont-vic-3135-16067432',\n",
       " 'https://www.domain.com.au/6-jasper-way-strathtulloh-vic-3338-16049385',\n",
       " 'https://www.domain.com.au/12-brook-drive-altona-vic-3018-13148717',\n",
       " 'https://www.domain.com.au/26-214-kambrook-road-caulfield-north-vic-3161-16040341',\n",
       " 'https://www.domain.com.au/125-116-130-main-drive-macleod-vic-3085-10723268',\n",
       " 'https://www.domain.com.au/2-217-buckley-street-seddon-vic-3011-15850994',\n",
       " 'https://www.domain.com.au/18-henry-street-west-wonthaggi-vic-3995-15979909',\n",
       " 'https://www.domain.com.au/1-greenwood-drive-kennington-vic-3550-16057930',\n",
       " 'https://www.domain.com.au/2-17-green-street-ivanhoe-vic-3079-16062979',\n",
       " 'https://www.domain.com.au/14-creswick-street-laverton-vic-3028-16009578',\n",
       " 'https://www.domain.com.au/1-1-parrot-court-carrum-downs-vic-3201-15559146',\n",
       " 'https://www.domain.com.au/50-mason-street-newport-vic-3015-15437766',\n",
       " 'https://www.domain.com.au/62-21-trickey-avenue-sydenham-vic-3037-16045388',\n",
       " 'https://www.domain.com.au/2-6-bridges-avenue-mooroolbark-vic-3138-16043918',\n",
       " 'https://www.domain.com.au/3-bown-court-brighton-east-vic-3187-15919106',\n",
       " 'https://www.domain.com.au/310-dandenong-road-st-kilda-east-vic-3183-14226103',\n",
       " 'https://www.domain.com.au/14-christmas-street-northcote-vic-3070-16031347',\n",
       " 'https://www.domain.com.au/11a-afton-street-north-bendigo-vic-3550-15598360',\n",
       " 'https://www.domain.com.au/399-station-street-carlton-north-vic-3054-15970633',\n",
       " 'https://www.domain.com.au/17-leon-drive-weir-views-vic-3338-16016201',\n",
       " 'https://www.domain.com.au/4-87-denham-street-hawthorn-vic-3122-10439304',\n",
       " 'https://www.domain.com.au/28-17-river-road-horsham-vic-3400-15330834',\n",
       " 'https://www.domain.com.au/12-bella-julia-place-lara-vic-3212-16062186',\n",
       " 'https://www.domain.com.au/325-111-punt-road-windsor-vic-3181-14394537',\n",
       " 'https://www.domain.com.au/5-361-royal-parade-parkville-vic-3052-15967737',\n",
       " 'https://www.domain.com.au/14-thwaites-road-tarneit-vic-3029-16020184',\n",
       " 'https://www.domain.com.au/1-69-murray-street-coburg-vic-3058-16069605',\n",
       " 'https://www.domain.com.au/7-rosewall-ct-wimbledon-heights-vic-3922-15172520',\n",
       " 'https://www.domain.com.au/16-whirrakee-parade-huntly-vic-3551-16052526',\n",
       " 'https://www.domain.com.au/115-main-street-thomastown-vic-3074-16061020',\n",
       " 'https://www.domain.com.au/27-ian-street-noble-park-vic-3174-12153626',\n",
       " 'https://www.domain.com.au/g04-77-riversdale-road-hawthorn-vic-3122-16033404',\n",
       " 'https://www.domain.com.au/3-norham-court-berwick-vic-3806-16039115',\n",
       " 'https://www.domain.com.au/307-1c-michael-street-brunswick-vic-3056-16069494',\n",
       " 'https://www.domain.com.au/10-parlington-street-canterbury-vic-3126-15932891',\n",
       " 'https://www.domain.com.au/1210-570-lygon-street-carlton-north-vic-3054-16070890',\n",
       " 'https://www.domain.com.au/101-182-206-lygon-street-brunswick-east-vic-3057-16026125',\n",
       " 'https://www.domain.com.au/2-toorak-avenue-mildura-vic-3500-16064161',\n",
       " 'https://www.domain.com.au/15-ajax-street-drouin-vic-3818-16066886',\n",
       " 'https://www.domain.com.au/1-22-green-street-airport-west-vic-3042-15978026',\n",
       " 'https://www.domain.com.au/50-lincoln-drive-bulleen-vic-3105-14769487',\n",
       " 'https://www.domain.com.au/50-north-avenue-bentleigh-vic-3204-16071383',\n",
       " 'https://www.domain.com.au/41-mulquiney-crescent-highton-vic-3216-15998171',\n",
       " 'https://www.domain.com.au/4-242-melrose-drive-tullamarine-vic-3043-16010921',\n",
       " 'https://www.domain.com.au/126-anzac-avenue-seymour-vic-3660-15676343',\n",
       " 'https://www.domain.com.au/65-francis-street-yarraville-vic-3013-16065715',\n",
       " 'https://www.domain.com.au/46-william-street-glenroy-vic-3046-14842519',\n",
       " 'https://www.domain.com.au/307-15-bond-street-caulfield-north-vic-3161-16036443',\n",
       " 'https://www.domain.com.au/2-274-domain-road-south-yarra-vic-3141-16059950',\n",
       " 'https://www.domain.com.au/746-whitehorse-road-mont-albert-vic-3127-16053066',\n",
       " 'https://www.domain.com.au/273-burwood-street-burwood-east-vic-3151-15184526',\n",
       " 'https://www.domain.com.au/106-1344-dandenong-road-hughesdale-vic-3166-16066505',\n",
       " 'https://www.domain.com.au/488-swanston-street-carlton-vic-3053-14941810',\n",
       " 'https://www.domain.com.au/19-dromana-street-alfredton-vic-3350-16036505',\n",
       " 'https://www.domain.com.au/3-35-ernest-street-sunshine-vic-3020-12868938',\n",
       " 'https://www.domain.com.au/105-288-albert-street-brunswick-vic-3056-14220402',\n",
       " 'https://www.domain.com.au/96-christmas-street-northcote-vic-3070-15935750',\n",
       " 'https://www.domain.com.au/8b-highbury-grove-prahran-vic-3181-15809710',\n",
       " 'https://www.domain.com.au/6-thrums-road-mambourin-vic-3024-16040228',\n",
       " 'https://www.domain.com.au/11-446-station-street-bonbeach-vic-3196-16067622',\n",
       " 'https://www.domain.com.au/64-bennett-street-long-gully-vic-3550-16046430',\n",
       " 'https://www.domain.com.au/2-15-leyden-street-brunswick-east-vic-3057-16033367',\n",
       " 'https://www.domain.com.au/109-83-tram-road-doncaster-vic-3108-15991803',\n",
       " 'https://www.domain.com.au/7-7-southey-street-elwood-vic-3184-15994275',\n",
       " 'https://www.domain.com.au/2-1949-dandenong-road-clayton-vic-3168-15724656',\n",
       " 'https://www.domain.com.au/23-houston-drive-thornhill-park-vic-3335-15910084',\n",
       " 'https://www.domain.com.au/1-53-stockdale-avenue-clayton-vic-3168-16059541',\n",
       " 'https://www.domain.com.au/606-201-high-street-prahran-vic-3181-15308189',\n",
       " 'https://www.domain.com.au/23-belmore-street-yarrawonga-vic-3730-16009902',\n",
       " 'https://www.domain.com.au/64-glyndon-road-camberwell-vic-3124-16063463',\n",
       " 'https://www.domain.com.au/20-elizabeth-street-moonee-ponds-vic-3039-15990433',\n",
       " 'https://www.domain.com.au/8-1-27-punt-street-craigieburn-vic-3064-15746310',\n",
       " 'https://www.domain.com.au/10-williams-road-prahran-vic-3181-14330700',\n",
       " 'https://www.domain.com.au/12-melville-close-keilor-vic-3036-16055854',\n",
       " 'https://www.domain.com.au/81-baxter-street-bendigo-vic-3550-14118884',\n",
       " 'https://www.domain.com.au/607-393-spencer-street-west-melbourne-vic-3003-15987350',\n",
       " 'https://www.domain.com.au/5-merino-avenue-dallas-vic-3047-16042335',\n",
       " 'https://www.domain.com.au/106-breakneck-yarra-glen-vic-3775-15651424',\n",
       " 'https://www.domain.com.au/2-3-5-grandview-avenue-maribyrnong-vic-3032-16031730',\n",
       " 'https://www.domain.com.au/carspace-cage-610-st-kilda-road-melbourne-vic-3004-16010221',\n",
       " 'https://www.domain.com.au/2-137-cross-s-road-traralgon-vic-3844-16055256',\n",
       " 'https://www.domain.com.au/1013-628-flinders-street-docklands-vic-3008-16045063',\n",
       " 'https://www.domain.com.au/3-15-pine-avenue-elwood-vic-3184-16050509',\n",
       " 'https://www.domain.com.au/805-8-marmion-place-docklands-vic-3008-16070708',\n",
       " 'https://www.domain.com.au/91-watton-street-penshurst-vic-3289-16063987',\n",
       " 'https://www.domain.com.au/607-121-rosslyn-street-west-melbourne-vic-3003-14647065',\n",
       " 'https://www.domain.com.au/123-tambet-street-bentleigh-east-vic-3165-15993837',\n",
       " 'https://www.domain.com.au/c16-1-5-grantham-street-brunswick-west-vic-3055-16065002',\n",
       " 'https://www.domain.com.au/21-grandview-grove-northcote-vic-3070-16033965',\n",
       " 'https://www.domain.com.au/173-lord-street-richmond-vic-3121-15980242',\n",
       " 'https://www.domain.com.au/1903-61-63-haig-street-southbank-vic-3006-16059477',\n",
       " 'https://www.domain.com.au/56-railway-parade-deer-park-vic-3023-16013104',\n",
       " 'https://www.domain.com.au/20-sunnyside-drive-berwick-vic-3806-16052476',\n",
       " 'https://www.domain.com.au/4-coronation-street-sunshine-north-vic-3020-16009866',\n",
       " 'https://www.domain.com.au/39-birchgrove-crescent-templestowe-vic-3106-15962985',\n",
       " 'https://www.domain.com.au/2213-60-kavanagh-street-southbank-vic-3006-16068125',\n",
       " 'https://www.domain.com.au/8-115-victoria-road-hawthorn-east-vic-3123-16017107',\n",
       " 'https://www.domain.com.au/3301-245-city-road-southbank-vic-3006-16060520',\n",
       " 'https://www.domain.com.au/45-eagle-bay-terrace-paynesville-vic-3880-16057448',\n",
       " 'https://www.domain.com.au/21-bond-street-mount-waverley-vic-3149-16050709',\n",
       " 'https://www.domain.com.au/1-90-110-smythe-street-portarlington-vic-3223-11326068',\n",
       " 'https://www.domain.com.au/4-36-aberdeen-road-prahran-vic-3181-16042420',\n",
       " 'https://www.domain.com.au/14-avenue-athol-canterbury-vic-3126-16070437',\n",
       " 'https://www.domain.com.au/12-heron-crescent-barwon-heads-vic-3227-15785000',\n",
       " 'https://www.domain.com.au/12-waterbird-circuit-weir-views-vic-3338-15993660',\n",
       " 'https://www.domain.com.au/36-red-robin-drive-winter-valley-vic-3358-16046755',\n",
       " 'https://www.domain.com.au/30-plumpton-avenue-oak-park-vic-3046-15942318',\n",
       " 'https://www.domain.com.au/21-789-sydney-road-coburg-vic-3058-15339237',\n",
       " 'https://www.domain.com.au/71-creekside-drive-curlewis-vic-3222-16049772',\n",
       " 'https://www.domain.com.au/unit-6-125-ferguson-street-williamstown-vic-3016-16022370',\n",
       " 'https://www.domain.com.au/32-westbourne-street-strathtulloh-vic-3338-16067000',\n",
       " 'https://www.domain.com.au/51-princes-street-williamstown-vic-3016-14334571',\n",
       " 'https://www.domain.com.au/111-378-390-saint-georges-road-fitzroy-north-vic-3068-16057525',\n",
       " 'https://www.domain.com.au/15-avondale-avenue-st-albans-vic-3021-15049739',\n",
       " 'https://www.domain.com.au/1000-north-road-bentleigh-east-vic-3165-12664806',\n",
       " 'https://www.domain.com.au/2-3-bamfield-road-heidelberg-heights-vic-3081-15322728',\n",
       " 'https://www.domain.com.au/2-5-o-connor-street-black-rock-vic-3193-16056969',\n",
       " 'https://www.domain.com.au/53-1-sandilands-street-south-melbourne-vic-3205-16053515',\n",
       " 'https://www.domain.com.au/1-29-corio-street-shepparton-vic-3630-16040049',\n",
       " 'https://www.domain.com.au/12-trainers-way-clyde-north-vic-3978-15133477',\n",
       " 'https://www.domain.com.au/47-heysen-dr-sunbury-vic-3429-16054550',\n",
       " 'https://www.domain.com.au/2-malden-street-footscray-vic-3011-16069974',\n",
       " 'https://www.domain.com.au/1-54-oreilly-road-tarneit-vic-3029-16051886',\n",
       " 'https://www.domain.com.au/9-dickens-street-strathtulloh-vic-3338-16041661',\n",
       " 'https://www.domain.com.au/10-11-13-mcclares-road-vermont-vic-3133-16066504',\n",
       " 'https://www.domain.com.au/10-reddrop-court-altona-meadows-vic-3028-16064764',\n",
       " 'https://www.domain.com.au/54-sycamore-crescent-campbellfield-vic-3061-16017063',\n",
       " 'https://www.domain.com.au/1a-gould-street-coburg-north-vic-3058-16048554',\n",
       " 'https://www.domain.com.au/15-steele-street-caulfield-south-vic-3162-16027448',\n",
       " 'https://www.domain.com.au/48-murray-road-thornhill-park-vic-3335-15164411',\n",
       " 'https://www.domain.com.au/2-24-bond-street-ringwood-vic-3134-15909923',\n",
       " 'https://www.domain.com.au/4912-160-victoria-st-carlton-vic-3053-15307932',\n",
       " 'https://www.domain.com.au/31-austin-road-seaford-vic-3198-16046945',\n",
       " 'https://www.domain.com.au/4-swan-street-werribee-vic-3030-16058263',\n",
       " 'https://www.domain.com.au/101-35-43-high-street-glen-iris-vic-3146-15737264',\n",
       " 'https://www.domain.com.au/85-moore-road-airport-west-vic-3042-16065128',\n",
       " 'https://www.domain.com.au/6-silver-leaf-way-delacombe-vic-3356-16067018',\n",
       " 'https://www.domain.com.au/10-130-rathmines-road-hawthorn-east-vic-3123-15911307',\n",
       " 'https://www.domain.com.au/37-kireep-road-balwyn-vic-3103-16071098',\n",
       " 'https://www.domain.com.au/1-211-aberdeen-street-newtown-vic-3220-16056750',\n",
       " 'https://www.domain.com.au/7-183-kooyong-road-toorak-vic-3142-15009682',\n",
       " 'https://www.domain.com.au/53-dorothy-avenue-belmont-vic-3216-15979485',\n",
       " 'https://www.domain.com.au/21-valentine-grove-armadale-vic-3143-16040936',\n",
       " 'https://www.domain.com.au/37-victoria-st-moe-vic-3825-16044311',\n",
       " 'https://www.domain.com.au/1-45-may-street-glenroy-vic-3046-15962990',\n",
       " 'https://www.domain.com.au/19-361-royal-parade-parkville-vic-3052-15952990',\n",
       " 'https://www.domain.com.au/42-hunter-street-richmond-vic-3121-15922605',\n",
       " 'https://www.domain.com.au/4-rose-street-bentleigh-vic-3204-15936464',\n",
       " 'https://www.domain.com.au/5-temt-terrace-grovedale-vic-3216-16009859',\n",
       " 'https://www.domain.com.au/1-13-maryn-close-berwick-vic-3806-16064136',\n",
       " 'https://www.domain.com.au/510-270-king-street-melbourne-vic-3000-16046257',\n",
       " 'https://www.domain.com.au/10-2-dundas-street-thornbury-vic-3071-15988678',\n",
       " 'https://www.domain.com.au/6-1-park-street-pascoe-vale-vic-3044-16000291',\n",
       " 'https://www.domain.com.au/13-780-warrigal-rd-malvern-east-vic-3145-15359332',\n",
       " 'https://www.domain.com.au/2-8-time-lane-south-yarra-vic-3141-15969890',\n",
       " 'https://www.domain.com.au/3516-70-southbank-boulevard-southbank-vic-3006-16023848',\n",
       " 'https://www.domain.com.au/28-walter-st-williamstown-north-vic-3016-14144044',\n",
       " 'https://www.domain.com.au/4-409-hawthorn-road-caulfield-south-vic-3162-15159412',\n",
       " 'https://www.domain.com.au/13-walker-street-dalyston-vic-3992-15999449',\n",
       " 'https://www.domain.com.au/1107-5-sutherland-street-melbourne-vic-3000-16067378',\n",
       " 'https://www.domain.com.au/3-20-fulton-road-blackburn-south-vic-3130-16052837',\n",
       " 'https://www.domain.com.au/carpark2810-81-a-beckett-street-melbourne-vic-3000-16043866',\n",
       " 'https://www.domain.com.au/8-4-hopetoun-green-caroline-springs-vic-3023-15350741',\n",
       " 'https://www.domain.com.au/7b-norland-street-cheltenham-vic-3192-16026228',\n",
       " 'https://www.domain.com.au/43-goldsbrough-walk-kensington-vic-3031-16051743',\n",
       " 'https://www.domain.com.au/70-garibaldi-street-traralgon-vic-3844-16026312',\n",
       " 'https://www.domain.com.au/13-32-34-albion-road-box-hill-vic-3128-16064968',\n",
       " 'https://www.domain.com.au/7-lambert-avenue-sunbury-vic-3429-16048963',\n",
       " 'https://www.domain.com.au/2-14-mckenzie-street-kerang-vic-3579-14537729',\n",
       " 'https://www.domain.com.au/49-newport-avenue-williams-landing-vic-3027-16024426',\n",
       " 'https://www.domain.com.au/18-little-chipping-drive-chirnside-park-vic-3116-16062021',\n",
       " 'https://www.domain.com.au/47-florizel-street-glen-iris-vic-3146-16022064',\n",
       " 'https://www.domain.com.au/7-raphael-court-scoresby-vic-3179-16045048',\n",
       " 'https://www.domain.com.au/18b-perth-street-prahran-vic-3181-16030109',\n",
       " 'https://www.domain.com.au/3-35-jackson-street-croydon-vic-3136-16002168',\n",
       " 'https://www.domain.com.au/30-peppermint-grove-knoxfield-vic-3180-16063899',\n",
       " 'https://www.domain.com.au/13-17-colac-grove-belmont-vic-3216-16056447',\n",
       " 'https://www.domain.com.au/32-cornish-rd-mooroopna-vic-3629-16049378',\n",
       " 'https://www.domain.com.au/224-burwood-highway-burwood-vic-3125-8431378',\n",
       " 'https://www.domain.com.au/12-60-66-patterson-road-bentleigh-vic-3204-16033032',\n",
       " 'https://www.domain.com.au/53-david-street-brunswick-vic-3056-16046348',\n",
       " 'https://www.domain.com.au/21-117-bouverie-street-carlton-vic-3053-16053125',\n",
       " 'https://www.domain.com.au/5-129-corrigan-road-noble-park-vic-3174-12021834',\n",
       " 'https://www.domain.com.au/1-rattray-avenue-wangaratta-vic-3677-16011588',\n",
       " 'https://www.domain.com.au/103-25-rothschild-street-glen-huntly-vic-3163-13432510',\n",
       " 'https://www.domain.com.au/5608a-250-spencer-street-melbourne-vic-3000-16071349',\n",
       " 'https://www.domain.com.au/4-101-103-synnot-street-werribee-vic-3030-16010193',\n",
       " 'https://www.domain.com.au/1-26-vincent-street-mulgrave-vic-3170-16050410',\n",
       " 'https://www.domain.com.au/22-clowes-street-kyneton-vic-3444-16064081',\n",
       " 'https://www.domain.com.au/4-222-224-melrose-drive-tullamarine-vic-3043-16067257',\n",
       " 'https://www.domain.com.au/20-st-james-avenue-bentleigh-vic-3204-15941446',\n",
       " 'https://www.domain.com.au/50-palmer-avenue-point-cook-vic-3030-16015474',\n",
       " 'https://www.domain.com.au/yarrawonga-vic-3730-15172602',\n",
       " 'https://www.domain.com.au/1-18-king-street-dallas-vic-3047-15415466',\n",
       " 'https://www.domain.com.au/1-71-washington-street-traralgon-vic-3844-15445580',\n",
       " 'https://www.domain.com.au/47-harfield-avenue-mickleham-vic-3064-16048593',\n",
       " 'https://www.domain.com.au/12-monomeith-street-mooroolbark-vic-3138-16070555',\n",
       " 'https://www.domain.com.au/20-libau-avenue-bell-park-vic-3215-16068325',\n",
       " 'https://www.domain.com.au/1003a-ripon-street-south-redan-vic-3350-15478496',\n",
       " 'https://www.domain.com.au/4-young-street-springvale-vic-3171-15990319',\n",
       " 'https://www.domain.com.au/8-higgins-walk-st-albans-vic-3021-16012472',\n",
       " 'https://www.domain.com.au/44-mimosa-way-burnside-heights-vic-3023-16041727',\n",
       " 'https://www.domain.com.au/5-lawrance-street-murrumbeena-vic-3163-16040608',\n",
       " 'https://www.domain.com.au/18-bourke-crescent-geelong-vic-3220-16001132',\n",
       " 'https://www.domain.com.au/25-belvoir-gardens-derrimut-vic-3026-16000922',\n",
       " 'https://www.domain.com.au/303-217-a-beckett-street-melbourne-vic-3000-16038255',\n",
       " 'https://www.domain.com.au/27-tanner-street-richmond-vic-3121-16005160',\n",
       " 'https://www.domain.com.au/10-18-gerald-street-murrumbeena-vic-3163-16063451',\n",
       " 'https://www.domain.com.au/4-eaglevale-road-weir-views-vic-3338-15647377',\n",
       " 'https://www.domain.com.au/9-20-kooyong-road-caulfield-north-vic-3161-16071029',\n",
       " 'https://www.domain.com.au/38-madigan-road-lancefield-vic-3435-16025027',\n",
       " 'https://www.domain.com.au/140-spray-street-rosebud-vic-3939-16041729',\n",
       " 'https://www.domain.com.au/21-irymple-avenue-kew-east-vic-3102-16025020',\n",
       " 'https://www.domain.com.au/g04-108-munster-terrace-north-melbourne-vic-3051-15989752',\n",
       " 'https://www.domain.com.au/104-fenwick-street-carlton-north-vic-3054-16022300',\n",
       " 'https://www.domain.com.au/101-4-short-street-boronia-vic-3155-16024262',\n",
       " 'https://www.domain.com.au/3a-116-130-main-drive-macleod-vic-3085-9465250',\n",
       " 'https://www.domain.com.au/12-albion-street-sebastopol-vic-3356-16032339',\n",
       " 'https://www.domain.com.au/32-younger-street-wangaratta-vic-3677-14748333',\n",
       " 'https://www.domain.com.au/12-the-habitat-metung-vic-3904-15261698',\n",
       " 'https://www.domain.com.au/8-denman-avenue-edithvale-vic-3196-15709015',\n",
       " 'https://www.domain.com.au/11-lovell-drive-st-albans-vic-3021-16001425',\n",
       " 'https://www.domain.com.au/2-8-balmoral-street-braybrook-vic-3019-16049994',\n",
       " 'https://www.domain.com.au/516-4-10-daly-street-south-yarra-vic-3141-16052557',\n",
       " 'https://www.domain.com.au/6-howe-court-thomastown-vic-3074-9620387',\n",
       " 'https://www.domain.com.au/2101-200-spencer-st-melbourne-vic-3000-11931687',\n",
       " 'https://www.domain.com.au/3-breydon-court-st-albans-vic-3021-15943983',\n",
       " 'https://www.domain.com.au/1-2-callanish-road-camberwell-vic-3124-14427463',\n",
       " 'https://www.domain.com.au/1-178-lower-heidelberg-road-ivanhoe-east-vic-3079-16063140',\n",
       " 'https://www.domain.com.au/10-49-grange-road-toorak-vic-3142-16059453',\n",
       " 'https://www.domain.com.au/2-32-central-avenue-boronia-vic-3155-16045870',\n",
       " 'https://www.domain.com.au/3-26-olive-grove-parkdale-vic-3195-16053127',\n",
       " 'https://www.domain.com.au/40-selbourne-street-strathtulloh-vic-3338-16019507',\n",
       " 'https://www.domain.com.au/1-63-65-thomson-street-sale-vic-3850-15511116',\n",
       " 'https://www.domain.com.au/4-13-fishburn-grove-harkness-vic-3337-16048665',\n",
       " 'https://www.domain.com.au/106-duke-street-braybrook-vic-3019-15980884',\n",
       " 'https://www.domain.com.au/3-219-como-parade-east-parkdale-vic-3195-16060137',\n",
       " 'https://www.domain.com.au/2-homage-avenue-fraser-rise-vic-3336-16007037',\n",
       " 'https://www.domain.com.au/27-37-hotham-street-st-kilda-east-vic-3183-16024874',\n",
       " 'https://www.domain.com.au/3-54-mcnicholl-way-delahey-vic-3037-11164722',\n",
       " 'https://www.domain.com.au/9-aldren-place-bundoora-vic-3083-15994096',\n",
       " 'https://www.domain.com.au/15-bond-avenue-blackburn-south-vic-3130-16068036',\n",
       " 'https://www.domain.com.au/65-springleaf-avenue-clyde-north-vic-3978-16066424',\n",
       " 'https://www.domain.com.au/4-bendoc-street-wollert-vic-3750-16044254',\n",
       " 'https://www.domain.com.au/4-28-bordeaux-street-avondale-heights-vic-3034-10270578',\n",
       " 'https://www.domain.com.au/503-999-whitehorse-road-box-hill-vic-3128-14354487',\n",
       " 'https://www.domain.com.au/2-8-wellington-crescent-east-melbourne-vic-3002-16030634',\n",
       " 'https://www.domain.com.au/3-402-high-street-northcote-vic-3070-16061634',\n",
       " 'https://www.domain.com.au/1-19-arndt-road-pascoe-vale-vic-3044-16021996',\n",
       " 'https://www.domain.com.au/23-bay-street-brighton-vic-3186-15865642',\n",
       " 'https://www.domain.com.au/704-99-palmerston-crescent-south-melbourne-vic-3205-14718565',\n",
       " 'https://www.domain.com.au/1-186-easey-street-collingwood-vic-3066-11777233',\n",
       " 'https://www.domain.com.au/3-4-lithgow-avenue-blackburn-vic-3130-15559608',\n",
       " 'https://www.domain.com.au/room-6-1-dempster-street-west-footscray-vic-3012-15851803',\n",
       " 'https://www.domain.com.au/96a-silvereye-crescent-werribee-vic-3030-15726092',\n",
       " 'https://www.domain.com.au/2-33-stanhope-street-broadmeadows-vic-3047-16048311',\n",
       " 'https://www.domain.com.au/5-fellows-street-mitcham-vic-3132-15232735',\n",
       " 'https://www.domain.com.au/10-rose-avenue-dandenong-north-vic-3175-12029879',\n",
       " 'https://www.domain.com.au/1-691-hawthorn-road-brighton-east-vic-3187-15813396',\n",
       " 'https://www.domain.com.au/34-elsey-road-reservoir-vic-3073-14659624',\n",
       " 'https://www.domain.com.au/3-matthew-court-sebastopol-vic-3356-16071012',\n",
       " 'https://www.domain.com.au/15-connel-drive-melton-south-vic-3338-16069452',\n",
       " 'https://www.domain.com.au/5-419-waverley-road-malvern-east-vic-3145-16061833',\n",
       " 'https://www.domain.com.au/1-111-kilby-rd-kew-east-vic-3102-15997818',\n",
       " 'https://www.domain.com.au/5803-370-queen-street-melbourne-vic-3000-16064139',\n",
       " 'https://www.domain.com.au/11-matong-road-mount-eliza-vic-3930-16056509',\n",
       " 'https://www.domain.com.au/19-243-flemington-road-north-melbourne-vic-3051-15406854',\n",
       " 'https://www.domain.com.au/2-8-kelvin-grove-springvale-vic-3171-16046865',\n",
       " 'https://www.domain.com.au/1-elsworth-drive-strathfieldsaye-vic-3551-16040569',\n",
       " 'https://www.domain.com.au/202-263a-springvale-road-glen-waverley-vic-3150-14662672',\n",
       " 'https://www.domain.com.au/14-matlock-road-wantirna-south-vic-3152-15929033',\n",
       " 'https://www.domain.com.au/unit-11-40-44-edgevale-road-kew-vic-3101-15992046',\n",
       " 'https://www.domain.com.au/12-67-ballarat-road-footscray-vic-3011-16032139',\n",
       " 'https://www.domain.com.au/66-kynoch-lane-maribyrnong-vic-3032-10755801',\n",
       " 'https://www.domain.com.au/88-bowen-street-warragul-vic-3820-16065459',\n",
       " 'https://www.domain.com.au/68-valiant-road-smythes-creek-vic-3351-16068963',\n",
       " 'https://www.domain.com.au/1-11-johnstone-street-malvern-vic-3144-16047628',\n",
       " 'https://www.domain.com.au/7-33-osborne-avenue-glen-iris-vic-3146-15911408',\n",
       " 'https://www.domain.com.au/1-35-kitchener-grove-preston-vic-3072-16060088',\n",
       " 'https://www.domain.com.au/603-spencer-street-west-melbourne-vic-3003-16065963',\n",
       " 'https://www.domain.com.au/12-currie-street-charlton-vic-3525-16068841',\n",
       " 'https://www.domain.com.au/brighton-vic-3186-9024129',\n",
       " 'https://www.domain.com.au/119-rae-street-fitzroy-north-vic-3068-16069137',\n",
       " 'https://www.domain.com.au/4-9-warrigal-rd-hughesdale-vic-3166-13105099',\n",
       " 'https://www.domain.com.au/723-mt-alexander-road-moonee-ponds-vic-3039-16066798',\n",
       " 'https://www.domain.com.au/8-narrumburn-road-clayton-south-vic-3169-16051548',\n",
       " 'https://www.domain.com.au/13-silverleaf-drive-melton-vic-3337-14362565',\n",
       " 'https://www.domain.com.au/5-tedesco-circuit-williamstown-north-vic-3016-15992207',\n",
       " 'https://www.domain.com.au/1-38-churchill-avenue-maidstone-vic-3012-16052616',\n",
       " 'https://www.domain.com.au/43-elsternwick-way-craigieburn-vic-3064-16022743',\n",
       " 'https://www.domain.com.au/27-chapel-mews-south-yarra-vic-3141-15201547',\n",
       " 'https://www.domain.com.au/716-528-swanston-street-carlton-vic-3053-14399584',\n",
       " 'https://www.domain.com.au/29-dumfries-way-wantirna-vic-3152-15982386',\n",
       " 'https://www.domain.com.au/23-sullivan-street-daylesford-vic-3460-16044069',\n",
       " 'https://www.domain.com.au/22-apium-street-clyde-vic-3978-16052548',\n",
       " 'https://www.domain.com.au/6-fairfield-avenue-camberwell-vic-3124-16071381',\n",
       " 'https://www.domain.com.au/40-westcott-parade-rockbank-vic-3335-15171397',\n",
       " 'https://www.domain.com.au/43a-oakbank-street-newport-vic-3015-16018966',\n",
       " 'https://www.domain.com.au/11-rawson-avenue-sunshine-vic-3020-16063980',\n",
       " 'https://www.domain.com.au/6-90-110-smythe-street-portarlington-vic-3223-11326073',\n",
       " 'https://www.domain.com.au/22-fyfe-street-hamilton-vic-3300-16040168',\n",
       " 'https://www.domain.com.au/15-collier-road-kilsyth-vic-3137-16057957',\n",
       " 'https://www.domain.com.au/16-eacott-street-longwarry-vic-3816-16069903',\n",
       " 'https://www.domain.com.au/4-34-44-regent-street-elsternwick-vic-3185-16013496',\n",
       " 'https://www.domain.com.au/1601-568-st-kilda-road-melbourne-vic-3004-16050644',\n",
       " 'https://www.domain.com.au/1-239-mont-albert-road-surrey-hills-vic-3127-15999916',\n",
       " 'https://www.domain.com.au/103-munro-street-coburg-vic-3058-16062702',\n",
       " 'https://www.domain.com.au/donnybrook-vic-3064-15692399',\n",
       " 'https://www.domain.com.au/2-berala-place-mill-park-vic-3082-16054522',\n",
       " 'https://www.domain.com.au/99-wellington-rd-portland-vic-3305-16040823',\n",
       " 'https://www.domain.com.au/2307-14-16-the-esplanade-st-kilda-vic-3182-15976614',\n",
       " 'https://www.domain.com.au/2-bostock-avenue-barwon-heads-vic-3227-15899209',\n",
       " 'https://www.domain.com.au/901-89-gladstone-street-south-melbourne-vic-3205-16050512',\n",
       " 'https://www.domain.com.au/6-heads-road-donvale-vic-3111-16027997',\n",
       " 'https://www.domain.com.au/36b-thomasina-street-bentleigh-east-vic-3165-16031812',\n",
       " 'https://www.domain.com.au/3-prestige-drive-kalkallo-vic-3064-16059802',\n",
       " 'https://www.domain.com.au/docklands-vic-3008-15941156',\n",
       " 'https://www.domain.com.au/699-stud-road-scoresby-vic-3179-14415273',\n",
       " 'https://www.domain.com.au/5a-44-60-jacksons-road-mulgrave-vic-3170-15983879',\n",
       " 'https://www.domain.com.au/23-williams-road-laverton-vic-3028-15217092',\n",
       " 'https://www.domain.com.au/rear-1-melissa-st-strathmore-vic-3041-15993305',\n",
       " 'https://www.domain.com.au/103-parer-street-burwood-vic-3125-15202686',\n",
       " 'https://www.domain.com.au/1-32-golflinks-avenue-oakleigh-vic-3166-15483087',\n",
       " 'https://www.domain.com.au/112-270-high-st-windsor-vic-3181-16050408',\n",
       " 'https://www.domain.com.au/8-laird-drive-altona-meadows-vic-3028-15425312',\n",
       " 'https://www.domain.com.au/81-harborne-street-macleod-vic-3085-16045116',\n",
       " 'https://www.domain.com.au/40-gay-street-benalla-vic-3672-12981632',\n",
       " 'https://www.domain.com.au/room-5-32-34-churchill-avenue-flora-hill-vic-3550-15549984',\n",
       " 'https://www.domain.com.au/2-gray-street-bentleigh-east-vic-3165-16024793',\n",
       " 'https://www.domain.com.au/215-12-queens-road-melbourne-vic-3004-16053299',\n",
       " 'https://www.domain.com.au/2-350-beaconsfield-parade-st-kilda-west-vic-3182-16001303',\n",
       " 'https://www.domain.com.au/4-diosma-court-narre-warren-vic-3805-16042880',\n",
       " 'https://www.domain.com.au/2a-ann-court-aspendale-vic-3195-15997788',\n",
       " 'https://www.domain.com.au/8-42-strabane-avenue-mont-albert-north-vic-3129-15998116',\n",
       " 'https://www.domain.com.au/7-silverleaf-drive-melton-vic-3337-15988479',\n",
       " 'https://www.domain.com.au/49-murray-street-wonthaggi-vic-3995-16046098',\n",
       " 'https://www.domain.com.au/150-vearings-road-wollert-vic-3750-16048299',\n",
       " 'https://www.domain.com.au/1408-103-south-wharf-drive-docklands-vic-3008-15393921',\n",
       " 'https://www.domain.com.au/18-131-parker-street-templestowe-vic-3106-15402197',\n",
       " 'https://www.domain.com.au/503-19-poplar-street-box-hill-vic-3128-15246021',\n",
       " 'https://www.domain.com.au/60-dunfermline-avenue-greenvale-vic-3059-16043247',\n",
       " 'https://www.domain.com.au/3-5-station-street-norlane-vic-3214-16064608',\n",
       " 'https://www.domain.com.au/7-pippin-court-darley-vic-3340-16049781',\n",
       " 'https://www.domain.com.au/20-mckillop-way-fraser-rise-vic-3336-16059916',\n",
       " 'https://www.domain.com.au/59-grantham-terrace-mulgrave-vic-3170-16059149',\n",
       " 'https://www.domain.com.au/8-mt-eccles-place-caroline-springs-vic-3023-16065217',\n",
       " 'https://www.domain.com.au/1-17a-john-street-blackburn-vic-3130-16061806',\n",
       " 'https://www.domain.com.au/2-67b-tivoli-road-south-yarra-vic-3141-9807428',\n",
       " 'https://www.domain.com.au/1-62-collins-street-st-albans-vic-3021-16051675',\n",
       " 'https://www.domain.com.au/5-21-everett-street-brunswick-west-vic-3055-16047719',\n",
       " 'https://www.domain.com.au/43-bangalore-street-kensington-vic-3031-16060846',\n",
       " 'https://www.domain.com.au/56-long-forest-avenue-melton-west-vic-3337-16006243',\n",
       " 'https://www.domain.com.au/7-kookaburra-drive-armstrong-creek-vic-3217-16070135',\n",
       " 'https://www.domain.com.au/406-339-mitcham-road-mitcham-vic-3132-16026562',\n",
       " 'https://www.domain.com.au/3-50-normanby-avenue-thornbury-vic-3071-16060065',\n",
       " 'https://www.domain.com.au/30-parkin-avenue-cheltenham-vic-3192-16064722',\n",
       " 'https://www.domain.com.au/4-ponderosa-way-mildura-vic-3500-16054757',\n",
       " 'https://www.domain.com.au/505-69-71-stead-street-south-melbourne-vic-3205-16048036',\n",
       " 'https://www.domain.com.au/gazebo-motel-84-88-main-street-strathmerton-vic-3641-14164509',\n",
       " 'https://www.domain.com.au/5-8-romawi-street-altona-vic-3018-15984859',\n",
       " 'https://www.domain.com.au/211-10-clinch-avenue-preston-vic-3072-16060564',\n",
       " 'https://www.domain.com.au/71-riversdale-road-hawthorn-vic-3122-8431399',\n",
       " 'https://www.domain.com.au/g04-12-major-street-highett-vic-3190-15263650',\n",
       " 'https://www.domain.com.au/18-aitkenside-avenue-highton-vic-3216-16059727',\n",
       " 'https://www.domain.com.au/135-abekcett-street-melbourne-vic-3000-16060673',\n",
       " 'https://www.domain.com.au/13-sherwood-street-tarneit-vic-3029-16063167',\n",
       " 'https://www.domain.com.au/104-226-waverley-road-malvern-east-vic-3145-16064029',\n",
       " 'https://www.domain.com.au/19-balvicar-way-mernda-vic-3754-16069664',\n",
       " 'https://www.domain.com.au/44-broadhurst-way-caroline-springs-vic-3023-14931937',\n",
       " 'https://www.domain.com.au/24-rodney-avenue-coburg-north-vic-3058-15991108',\n",
       " 'https://www.domain.com.au/26-bianca-boulevard-tarneit-vic-3029-9972272',\n",
       " 'https://www.domain.com.au/46-holberry-str-broadmeadows-vic-3047-13324685',\n",
       " 'https://www.domain.com.au/24-burunda-road-rosebud-vic-3939-16054768',\n",
       " 'https://www.domain.com.au/16-raglan-street-south-melbourne-vic-3205-15819974',\n",
       " 'https://www.domain.com.au/303-133-droop-street-footscray-vic-3011-8581639',\n",
       " 'https://www.domain.com.au/19a-lawson-parade-heidelberg-heights-vic-3081-16060505',\n",
       " 'https://www.domain.com.au/1-32-percy-street-portland-vic-3305-14240791',\n",
       " 'https://www.domain.com.au/503-243-franklin-street-melbourne-vic-3000-16064073',\n",
       " 'https://www.domain.com.au/4-grinstead-court-craigieburn-vic-3064-16018898',\n",
       " 'https://www.domain.com.au/21a-smith-street-north-bendigo-vic-3550-11423279',\n",
       " 'https://www.domain.com.au/2-25-somerville-road-yarraville-vic-3013-14374333',\n",
       " 'https://www.domain.com.au/310-1-foundry-road-sunshine-vic-3020-16060092',\n",
       " 'https://www.domain.com.au/2-evans-street-morwell-vic-3840-15927228',\n",
       " 'https://www.domain.com.au/2-81-maxweld-street-ardeer-vic-3022-16029034',\n",
       " 'https://www.domain.com.au/21-south-hampton-drive-point-cook-vic-3030-16051246',\n",
       " 'https://www.domain.com.au/162-bellair-street-kensington-vic-3031-13762595',\n",
       " 'https://www.domain.com.au/44-nelson-street-wonthaggi-vic-3995-15995922',\n",
       " 'https://www.domain.com.au/311-632-doncaster-road-doncaster-vic-3108-16036530',\n",
       " 'https://www.domain.com.au/house-28-margaret-street-south-yarra-vic-3141-16007021',\n",
       " 'https://www.domain.com.au/13-nouvel-crescent-corinella-vic-3984-15980446',\n",
       " 'https://www.domain.com.au/l8-8-pearl-river-road-docklands-vic-3008-16049817',\n",
       " 'https://www.domain.com.au/25-berger-street-dallas-vic-3047-16067823',\n",
       " 'https://www.domain.com.au/7-4-gipps-avenue-mordialloc-vic-3195-15925516',\n",
       " 'https://www.domain.com.au/8-697-barkly-street-west-footscray-vic-3012-16065481',\n",
       " 'https://www.domain.com.au/1-honeypot-close-knoxfield-vic-3180-16054530',\n",
       " 'https://www.domain.com.au/2-4-wonga-lane-mccrae-vic-3938-16038687',\n",
       " 'https://www.domain.com.au/114-palmerston-crescent-south-melbourne-vic-3205-14311354',\n",
       " 'https://www.domain.com.au/7-gamble-street-oakleigh-east-vic-3166-12682900',\n",
       " 'https://www.domain.com.au/2-50-clyde-street-box-hill-north-vic-3129-16062494',\n",
       " 'https://www.domain.com.au/1-3-robin-street-altona-vic-3018-16066708',\n",
       " 'https://www.domain.com.au/137-middleborough-road-box-hill-south-vic-3128-16034946',\n",
       " 'https://www.domain.com.au/6-14-victoria-street-williamstown-vic-3016-16045555',\n",
       " 'https://www.domain.com.au/2-82-hawthorn-road-caulfield-north-vic-3161-16029917',\n",
       " 'https://www.domain.com.au/63-saffron-street-newtown-vic-3220-16069650',\n",
       " 'https://www.domain.com.au/20-legg-walk-epping-vic-3076-16048852',\n",
       " 'https://www.domain.com.au/5-51-53-helms-street-newcomb-vic-3219-16064254',\n",
       " 'https://www.domain.com.au/7-nevada-street-balwyn-north-vic-3104-16055843',\n",
       " 'https://www.domain.com.au/540-canning-street-carlton-north-vic-3054-16018530',\n",
       " 'https://www.domain.com.au/4-10-cullimore-court-dandenong-south-vic-3175-16010016',\n",
       " 'https://www.domain.com.au/2-112-severn-street-yarraville-vic-3013-15946453',\n",
       " 'https://www.domain.com.au/11-misty-close-berwick-vic-3806-16069134',\n",
       " 'https://www.domain.com.au/6-cerulean-drive-officer-vic-3809-16066518',\n",
       " 'https://www.domain.com.au/2-5-duncan-court-noble-park-vic-3174-16053915',\n",
       " 'https://www.domain.com.au/3-7-bonfield-avenue-hawthorn-east-vic-3123-16069549',\n",
       " 'https://www.domain.com.au/13-6-8-buckland-drive-mallacoota-vic-3892-15302830',\n",
       " 'https://www.domain.com.au/1-5-blanch-street-preston-vic-3072-15298034',\n",
       " 'https://www.domain.com.au/92-sovereign-manors-crescent-rowville-vic-3178-16061102',\n",
       " 'https://www.domain.com.au/8-119-blackshaws-road-newport-vic-3015-15964001',\n",
       " 'https://www.domain.com.au/6-pascal-crescent-kalkallo-vic-3064-16063627',\n",
       " 'https://www.domain.com.au/32-salmond-street-deer-park-vic-3023-16015708',\n",
       " 'https://www.domain.com.au/1-2-sturt-st-essendon-vic-3040-16032752',\n",
       " 'https://www.domain.com.au/14-36-kensington-road-south-yarra-vic-3141-15855946',\n",
       " 'https://www.domain.com.au/2-11-memorial-avenue-epping-vic-3076-16063103',\n",
       " 'https://www.domain.com.au/48-halstead-street-caulfield-north-vic-3161-16052578',\n",
       " 'https://www.domain.com.au/28-dalmahoy-court-shepparton-vic-3630-16038078',\n",
       " 'https://www.domain.com.au/2-61-eskdale-road-caulfield-north-vic-3161-16046268',\n",
       " 'https://www.domain.com.au/8-19-robin-drive-carrum-downs-vic-3201-16062965',\n",
       " 'https://www.domain.com.au/3-24-bath-street-mornington-vic-3931-16050874',\n",
       " 'https://www.domain.com.au/22-may-street-kilmore-vic-3764-15997710',\n",
       " 'https://www.domain.com.au/20-marija-crescent-berwick-vic-3806-13369590',\n",
       " 'https://www.domain.com.au/murrumbeena-vic-3163-15679923',\n",
       " 'https://www.domain.com.au/13-elysium-crescent-oakleigh-east-vic-3166-14248950',\n",
       " 'https://www.domain.com.au/28-fold-circuit-bonnie-brook-vic-3335-16056983',\n",
       " 'https://www.domain.com.au/4-rosseau-street-williamstown-vic-3016-15935870',\n",
       " 'https://www.domain.com.au/23-higgins-way-truganina-vic-3029-16055329',\n",
       " 'https://www.domain.com.au/7-barossa-walk-clayton-south-vic-3169-16049585',\n",
       " 'https://www.domain.com.au/6-806-808-warrigal-road-malvern-east-vic-3145-14895144',\n",
       " 'https://www.domain.com.au/45-durack-circuit-taylors-hill-vic-3037-16023906',\n",
       " 'https://www.domain.com.au/106-mollison-street-bendigo-vic-3550-14284805',\n",
       " 'https://www.domain.com.au/3-lime-ct-bellfield-vic-3081-13422950',\n",
       " 'https://www.domain.com.au/705-89-gladstone-street-south-melbourne-vic-3205-16058273',\n",
       " 'https://www.domain.com.au/3-13-state-street-oakleigh-east-vic-3166-16054316',\n",
       " 'https://www.domain.com.au/1-12-louis-avenue-dandenong-vic-3175-16055691',\n",
       " 'https://www.domain.com.au/601-915-collins-street-docklands-vic-3008-14884704',\n",
       " 'https://www.domain.com.au/1-brownhill-street-bundoora-vic-3083-16008399',\n",
       " 'https://www.domain.com.au/112-koornang-road-carnegie-vic-3163-16040993',\n",
       " 'https://www.domain.com.au/1510-22-24-jane-bell-lane-melbourne-vic-3000-16018405',\n",
       " 'https://www.domain.com.au/108-55-camberwell-road-hawthorn-east-vic-3123-15847018',\n",
       " 'https://www.domain.com.au/1-27-birdwood-street-dandenong-vic-3175-16065363',\n",
       " 'https://www.domain.com.au/3-83-francis-street-belmont-vic-3216-15379206',\n",
       " 'https://www.domain.com.au/101-65-stables-circuit-doncaster-vic-3108-15989946',\n",
       " 'https://www.domain.com.au/107d-56-kambrook-road-caulfield-north-vic-3161-11015060',\n",
       " 'https://www.domain.com.au/14-sally-court-traralgon-vic-3844-15998053',\n",
       " 'https://www.domain.com.au/85-diamond-avenue-albanvale-vic-3021-16059489',\n",
       " 'https://www.domain.com.au/21-2-monash-green-drive-clayton-vic-3168-16001953',\n",
       " 'https://www.domain.com.au/8-midewin-way-wyndham-vale-vic-3024-16029453',\n",
       " 'https://www.domain.com.au/1-green-street-long-gully-vic-3550-16048626',\n",
       " 'https://www.domain.com.au/3-45-alexandra-avenue-south-yarra-vic-3141-16027200',\n",
       " 'https://www.domain.com.au/31-arthur-street-coburg-north-vic-3058-15914389',\n",
       " 'https://www.domain.com.au/36-seychelles-street-point-cook-vic-3030-16055097',\n",
       " 'https://www.domain.com.au/943-old-calder-highway-keilor-vic-3036-16032644',\n",
       " 'https://www.domain.com.au/2-88-beatty-street-ivanhoe-vic-3079-16058584',\n",
       " 'https://www.domain.com.au/4-35-paxton-street-malvern-east-vic-3145-16008619',\n",
       " 'https://www.domain.com.au/304-757-toorak-road-hawthorn-east-vic-3123-16005527',\n",
       " 'https://www.domain.com.au/11-presidents-avenue-ocean-grove-vic-3226-16057427',\n",
       " 'https://www.domain.com.au/8-pommel-crescent-epping-vic-3076-16012038',\n",
       " 'https://www.domain.com.au/7-wentworth-road-melton-south-vic-3338-16064683',\n",
       " 'https://www.domain.com.au/7-mccubbin-street-footscray-vic-3011-15925804',\n",
       " 'https://www.domain.com.au/2-moule-avenue-balwyn-north-vic-3104-15871076',\n",
       " 'https://www.domain.com.au/26-1-villiers-street-north-melbourne-vic-3051-16035745',\n",
       " 'https://www.domain.com.au/2-470-glen-eira-road-caulfield-north-vic-3161-16067387',\n",
       " 'https://www.domain.com.au/10-leicester-street-fitzroy-vic-3065-15807552',\n",
       " 'https://www.domain.com.au/5-45-evansdale-road-hawthorn-vic-3122-16037622',\n",
       " 'https://www.domain.com.au/1-41-woornack-road-carnegie-vic-3163-16048332',\n",
       " 'https://www.domain.com.au/227-17-23-lynch-street-hawthorn-vic-3122-16053259',\n",
       " 'https://www.domain.com.au/15-93-stevedore-street-williamstown-vic-3016-16048219',\n",
       " 'https://www.domain.com.au/2-3-10-roseberry-grove-glen-huntly-vic-3163-16048201',\n",
       " 'https://www.domain.com.au/8-alison-street-mckinnon-vic-3204-16050952',\n",
       " 'https://www.domain.com.au/202-1-kennedy-avenue-richmond-vic-3121-9083115',\n",
       " 'https://www.domain.com.au/3-48-kay-street-traralgon-vic-3844-10273362',\n",
       " 'https://www.domain.com.au/805-81-queens-road-melbourne-vic-3004-16067649',\n",
       " 'https://www.domain.com.au/189-burke-road-glen-iris-vic-3146-15976752',\n",
       " 'https://www.domain.com.au/809-80-clarendon-street-southbank-vic-3006-16028966',\n",
       " 'https://www.domain.com.au/17-antionette-drive-bonshaw-vic-3352-16018360',\n",
       " 'https://www.domain.com.au/2-12-chastleton-avenue-toorak-vic-3142-16065282',\n",
       " 'https://www.domain.com.au/28-waxflower-crescent-bundoora-vic-3083-16061173',\n",
       " 'https://www.domain.com.au/4701-38-rose-lane-melbourne-vic-3000-16042961',\n",
       " 'https://www.domain.com.au/16a-gillingham-crescent-craigieburn-vic-3064-16017757',\n",
       " 'https://www.domain.com.au/28-1-25-bellevue-avenue-doncaster-east-vic-3109-16060900',\n",
       " 'https://www.domain.com.au/39-jervois-street-st-kilda-east-vic-3183-16058531',\n",
       " 'https://www.domain.com.au/110-250-elizabeth-street-melbourne-vic-3000-16011228',\n",
       " 'https://www.domain.com.au/6-89-denham-street-hawthorn-vic-3122-16047537',\n",
       " 'https://www.domain.com.au/5-dundee-place-wantirna-vic-3152-16015278',\n",
       " 'https://www.domain.com.au/57-maya-avenue-thornhill-park-vic-3335-16046112',\n",
       " 'https://www.domain.com.au/7-council-street-hawthorn-east-vic-3123-16040990',\n",
       " 'https://www.domain.com.au/3-115-the-parade-ascot-vale-vic-3032-16062302',\n",
       " 'https://www.domain.com.au/62-ferguson-road-shepparton-vic-3630-14462954',\n",
       " 'https://www.domain.com.au/10-40-gorge-road-south-morang-vic-3752-16051604',\n",
       " 'https://www.domain.com.au/108-lord-street-richmond-vic-3121-16053494',\n",
       " 'https://www.domain.com.au/4-walpole-avenue-indented-head-vic-3223-11326103',\n",
       " 'https://www.domain.com.au/10-tarwarri-avenue-capel-sound-vic-3940-16051837',\n",
       " 'https://www.domain.com.au/74-barrett-street-albert-park-vic-3206-16052698',\n",
       " 'https://www.domain.com.au/2-30-nariel-road-kings-park-vic-3021-16045731',\n",
       " 'https://www.domain.com.au/5-protea-way-cobblebank-vic-3338-16053465',\n",
       " 'https://www.domain.com.au/22-ridgewell-crescent-officer-vic-3809-16054702',\n",
       " 'https://www.domain.com.au/3-17-finningley-drive-tullamarine-vic-3043-16056891',\n",
       " 'https://www.domain.com.au/2406-241-city-road-southbank-vic-3006-16049151',\n",
       " 'https://www.domain.com.au/4-29-hemmings-street-dandenong-vic-3175-16001981',\n",
       " 'https://www.domain.com.au/705-196-albert-road-south-melbourne-vic-3205-16027523',\n",
       " 'https://www.domain.com.au/rooms-at-125-arthur-street-bundoora-vic-3083-15932021',\n",
       " 'https://www.domain.com.au/60a-hayes-rd-strathmore-vic-3041-16005532',\n",
       " 'https://www.domain.com.au/39-hocking-drive-ocean-grove-vic-3226-15949974',\n",
       " 'https://www.domain.com.au/110-68-la-trobe-street-melbourne-vic-3000-15919318',\n",
       " 'https://www.domain.com.au/56-leopold-crescent-hampton-park-vic-3976-16062874',\n",
       " 'https://www.domain.com.au/37-victoria-street-brunswick-east-vic-3057-16056576',\n",
       " 'https://www.domain.com.au/2-40-glendale-avenue-epping-vic-3076-16054795',\n",
       " 'https://www.domain.com.au/415-74-queens-road-melbourne-3004-vic-3004-10840290',\n",
       " 'https://www.domain.com.au/21-rodd-st-dandenong-vic-3175-16016318',\n",
       " 'https://www.domain.com.au/6-48-50-pearl-drive-craigieburn-vic-3064-15973131',\n",
       " 'https://www.domain.com.au/2-11-dahmen-street-carrum-vic-3197-16050421',\n",
       " 'https://www.domain.com.au/10-33-charnwood-road-st-kilda-vic-3182-16060203',\n",
       " 'https://www.domain.com.au/7a-9-beach-street-port-melbourne-vic-3207-16049345',\n",
       " 'https://www.domain.com.au/ap2-1-29-browns-road-clayton-vic-3168-15726278',\n",
       " 'https://www.domain.com.au/3-121-grange-boulevard-bundoora-vic-3083-16058704',\n",
       " 'https://www.domain.com.au/6-218-wattletree-road-malvern-vic-3144-15992525',\n",
       " 'https://www.domain.com.au/3-11-peter-court-dandenong-vic-3175-16030329',\n",
       " 'https://www.domain.com.au/1311-18-mount-alexander-rd-travancore-vic-3032-12074974',\n",
       " 'https://www.domain.com.au/4-50-coorigil-road-carnegie-vic-3163-15995402',\n",
       " 'https://www.domain.com.au/5-27-albion-road-box-hill-vic-3128-16041156',\n",
       " 'https://www.domain.com.au/19-rainford-place-armstrong-creek-vic-3217-16064759',\n",
       " 'https://www.domain.com.au/711a-400-burwood-highway-wantirna-south-vic-3152-16042182',\n",
       " 'https://www.domain.com.au/519-152-sturt-street-southbank-vic-3006-12154090',\n",
       " 'https://www.domain.com.au/7-nirimba-ct-ascot-vic-3551-16058195',\n",
       " 'https://www.domain.com.au/2006-3-yarra-street-south-yarra-vic-3141-16053933',\n",
       " 'https://www.domain.com.au/4-centre-avenue-warragul-vic-3820-16052340',\n",
       " 'https://www.domain.com.au/4-46-westbury-street-st-kilda-east-vic-3183-15261056',\n",
       " 'https://www.domain.com.au/64-kansas-avenue-bell-post-hill-vic-3215-16063699',\n",
       " 'https://www.domain.com.au/1-151-were-street-brighton-vic-3186-16067051',\n",
       " 'https://www.domain.com.au/107-lyons-street-port-melbourne-vic-3207-16069564',\n",
       " 'https://www.domain.com.au/14-freiberger-grove-clyde-north-vic-3978-16017129',\n",
       " 'https://www.domain.com.au/2-32-nowie-street-swan-hill-vic-3585-16048252',\n",
       " 'https://www.domain.com.au/3806-500-elizabeth-st-melbourne-vic-3000-16010119',\n",
       " 'https://www.domain.com.au/g17-386-burwood-highway-burwood-vic-3125-8750659',\n",
       " 'https://www.domain.com.au/401-879-881-dandenong-road-malvern-east-vic-3145-16036158',\n",
       " 'https://www.domain.com.au/3-15-worthing-road-highett-vic-3190-16028666',\n",
       " 'https://www.domain.com.au/34a-childs-street-melton-south-vic-3338-16005942',\n",
       " 'https://www.domain.com.au/491-abbotsford-street-north-melbourne-vic-3051-15903804',\n",
       " 'https://www.domain.com.au/8-130-nicholson-street-fitzroy-vic-3065-16069751',\n",
       " 'https://www.domain.com.au/7-nan-street-box-hill-north-vic-3129-15989492',\n",
       " 'https://www.domain.com.au/1-15-boronia-grove-doncaster-east-vic-3109-16061099',\n",
       " 'https://www.domain.com.au/forest-hill-vic-3131-14942595',\n",
       " 'https://www.domain.com.au/241-harbour-esplanade-docklands-vic-3008-16014491',\n",
       " 'https://www.domain.com.au/6-144-brighton-road-elsternwick-vic-3185-16064538',\n",
       " 'https://www.domain.com.au/186-princess-road-corio-vic-3214-15981699',\n",
       " 'https://www.domain.com.au/504-36-lynch-street-hawthorn-vic-3122-14996633',\n",
       " 'https://www.domain.com.au/233-gisborne-melton-road-kurunjang-vic-3337-16036916',\n",
       " 'https://www.domain.com.au/15-paterson-street-rosebud-vic-3939-16043200',\n",
       " 'https://www.domain.com.au/37-garnet-street-sunshine-north-vic-3020-15998792',\n",
       " 'https://www.domain.com.au/malvern-vic-3144-8671356',\n",
       " 'https://www.domain.com.au/93-merton-street-altona-meadows-vic-3028-16034514',\n",
       " 'https://www.domain.com.au/3-503-lydiard-street-north-soldiers-hill-vic-3350-14788274',\n",
       " 'https://www.domain.com.au/495-middleborough-road-box-hill-north-vic-3129-15968608',\n",
       " 'https://www.domain.com.au/20-lyall-street-cranbourne-vic-3977-16024037',\n",
       " 'https://www.domain.com.au/88-atherstone-boulevard-strathtulloh-vic-3338-16055107',\n",
       " 'https://www.domain.com.au/19-wylie-way-point-cook-vic-3030-16067719',\n",
       " 'https://www.domain.com.au/1-24-bennett-street-richmond-vic-3121-11795188',\n",
       " 'https://www.domain.com.au/4509-60-a-beckett-st-melbourne-vic-3000-14965185',\n",
       " 'https://www.domain.com.au/120-127-mc-kenzie-street-wonthaggi-vic-3995-9901737',\n",
       " 'https://www.domain.com.au/10-232-nicholson-street-footscray-vic-3011-15858977',\n",
       " 'https://www.domain.com.au/17-201-graham-street-port-melbourne-vic-3207-16052558',\n",
       " 'https://www.domain.com.au/905-570-swanston-street-carlton-vic-3053-15956450',\n",
       " 'https://www.domain.com.au/32-fisken-street-ballan-vic-3342-16029942',\n",
       " 'https://www.domain.com.au/clyde-five-road-clyde-vic-3978-15944898',\n",
       " 'https://www.domain.com.au/3-17-robyn-street-doncaster-vic-3108-16066159',\n",
       " 'https://www.domain.com.au/3-142-cooper-street-essendon-vic-3040-16048234',\n",
       " 'https://www.domain.com.au/6-kent-court-shepparton-vic-3630-16059571',\n",
       " 'https://www.domain.com.au/87-were-street-brighton-vic-3186-15895978',\n",
       " 'https://www.domain.com.au/9-kipling-court-bundoora-vic-3083-16055144',\n",
       " 'https://www.domain.com.au/2-24-woornack-road-carnegie-vic-3163-16034833',\n",
       " 'https://www.domain.com.au/57-summerhill-road-footscray-vic-3011-16033293',\n",
       " 'https://www.domain.com.au/2-40c-victory-boulevard-ashburton-vic-3147-16027815',\n",
       " 'https://www.domain.com.au/32-scenic-drive-apollo-bay-vic-3233-15792837',\n",
       " 'https://www.domain.com.au/3-1-robyn-avenue-albanvale-vic-3021-16021679',\n",
       " 'https://www.domain.com.au/5-310-beach-road-black-rock-vic-3193-16061407',\n",
       " 'https://www.domain.com.au/57-centenary-avenue-melton-vic-3337-16062706',\n",
       " 'https://www.domain.com.au/38-vaughan-cres-kew-vic-3101-16067471',\n",
       " 'https://www.domain.com.au/30-parrakeet-road-werribee-vic-3030-16063464',\n",
       " 'https://www.domain.com.au/2-53-rayner-street-altona-vic-3018-16019948',\n",
       " 'https://www.domain.com.au/1-56-orton-street-ocean-grove-vic-3226-16061005',\n",
       " 'https://www.domain.com.au/7-george-street-rye-vic-3941-16064329',\n",
       " 'https://www.domain.com.au/603-8-exploration-lane-melbourne-vic-3000-16023509',\n",
       " 'https://www.domain.com.au/9-14-abeckett-street-prahran-vic-3181-15834798',\n",
       " 'https://www.domain.com.au/2-8-windermere-crescent-gladstone-park-vic-3043-16045715',\n",
       " 'https://www.domain.com.au/173-hughes-parade-reservoir-vic-3073-16053114',\n",
       " 'https://www.domain.com.au/1205-443-upper-heidelberg-road-ivanhoe-vic-3079-15786129',\n",
       " 'https://www.domain.com.au/3-7-campbell-street-wonthaggi-vic-3995-16048475',\n",
       " 'https://www.domain.com.au/10-311-dandenong-road-prahran-vic-3181-16029800',\n",
       " 'https://www.domain.com.au/302-1-balston-street-southbank-vic-3006-16062200',\n",
       " 'https://www.domain.com.au/12-1a-main-drive-bundoora-vic-3083-15948201',\n",
       " 'https://www.domain.com.au/104-121-power-street-hawthorn-vic-3122-16019521',\n",
       " 'https://www.domain.com.au/213-109-111-carrington-road-box-hill-vic-3128-15999383',\n",
       " 'https://www.domain.com.au/10-reverence-drive-rockbank-vic-3335-15260347',\n",
       " 'https://www.domain.com.au/2-raleigh-street-malvern-vic-3144-16068340',\n",
       " 'https://www.domain.com.au/golden-point-vic-3465-15186010',\n",
       " 'https://www.domain.com.au/94-helen-street-northcote-vic-3070-16059106',\n",
       " 'https://www.domain.com.au/2-gardiner-street-berwick-vic-3806-15961602',\n",
       " 'https://www.domain.com.au/7-151-neerim-road-glen-huntly-vic-3163-14978068',\n",
       " 'https://www.domain.com.au/2-19-hillcrest-avenue-chadstone-vic-3148-15269444',\n",
       " 'https://www.domain.com.au/2-155-157-oakleigh-road-carnegie-vic-3163-16064409',\n",
       " 'https://www.domain.com.au/312-bellerine-street-south-geelong-vic-3220-15980135',\n",
       " 'https://www.domain.com.au/106-459-royal-parade-parkville-vic-3052-16069952',\n",
       " 'https://www.domain.com.au/10-oakbank-drive-mount-helen-vic-3350-16059008',\n",
       " 'https://www.domain.com.au/210-96-charles-street-fitzroy-vic-3065-16031499',\n",
       " 'https://www.domain.com.au/32-140-queens-parade-fitzroy-north-vic-3068-16052989',\n",
       " 'https://www.domain.com.au/202-616-618-warrigal-road-malvern-east-vic-3145-16034773',\n",
       " 'https://www.domain.com.au/2-9-hampton-road-essendon-west-vic-3040-16052689',\n",
       " 'https://www.domain.com.au/11-grenda-drive-mill-park-vic-3082-16063339',\n",
       " 'https://www.domain.com.au/360-the-esplanade-indented-head-vic-3223-16044390',\n",
       " 'https://www.domain.com.au/8-97-elgin-street-carlton-vic-3053-16045636',\n",
       " 'https://www.domain.com.au/2104-35-malcolm-road-south-yarra-vic-3141-16003221',\n",
       " 'https://www.domain.com.au/34-conway-street-tarneit-vic-3029-15316276',\n",
       " 'https://www.domain.com.au/278-gooch-street-thornbury-vic-3071-16008520',\n",
       " 'https://www.domain.com.au/2-clarendon-street-dromana-vic-3936-15992928',\n",
       " 'https://www.domain.com.au/8-713-princes-highway-springvale-vic-3171-16066570',\n",
       " 'https://www.domain.com.au/2-68-ormond-road-ascot-vale-vic-3032-16031424',\n",
       " 'https://www.domain.com.au/c705-111-canning-street-north-melbourne-vic-3051-15980449',\n",
       " 'https://www.domain.com.au/102-353-napier-street-fitzroy-vic-3065-16029257',\n",
       " 'https://www.domain.com.au/139-station-st-burwood-vic-3125-16071546',\n",
       " 'https://www.domain.com.au/3-110-albert-street-preston-vic-3072-16013508',\n",
       " 'https://www.domain.com.au/42-swanburra-drive-charlemont-vic-3217-16070717',\n",
       " 'https://www.domain.com.au/89-argyll-street-malvern-east-vic-3145-15886872',\n",
       " 'https://www.domain.com.au/1-588-blackburn-road-glen-waverley-vic-3150-16052457',\n",
       " 'https://www.domain.com.au/173-williamson-street-kennington-vic-3550-15963361',\n",
       " 'https://www.domain.com.au/18-27-montague-street-highton-vic-3216-16025069',\n",
       " 'https://www.domain.com.au/2-36-harmony-drive-tarneit-vic-3029-16067130',\n",
       " 'https://www.domain.com.au/213-65-dudley-street-west-melbourne-vic-3003-14293867',\n",
       " 'https://www.domain.com.au/12a-310-bangerang-road-echuca-village-vic-3564-16063235',\n",
       " 'https://www.domain.com.au/26-claire-way-tarneit-vic-3029-16042740',\n",
       " 'https://www.domain.com.au/3-9-matlock-street-camberwell-vic-3124-16037769',\n",
       " 'https://www.domain.com.au/76-mosaic-drive-lalor-vic-3075-16006254',\n",
       " 'https://www.domain.com.au/68-nurlendi-road-vermont-vic-3133-16053162',\n",
       " 'https://www.domain.com.au/unit-109-7-cowra-st-brighton-vic-3186-16058546',\n",
       " 'https://www.domain.com.au/304-58-la-trobe-street-melbourne-vic-3000-16069105',\n",
       " 'https://www.domain.com.au/13a-murrong-avenue-bentleigh-east-vic-3165-14331854',\n",
       " 'https://www.domain.com.au/26-mount-vista-close-new-gisborne-vic-3438-16059763',\n",
       " 'https://www.domain.com.au/24-28-potts-road-langwarrin-vic-3910-16031932',\n",
       " 'https://www.domain.com.au/12-22-the-esplanade-st-kilda-vic-3182-16059331',\n",
       " 'https://www.domain.com.au/2602-1-13-point-park-crescent-docklands-vic-3008-16055059',\n",
       " 'https://www.domain.com.au/10-14-ballantyne-street-thornbury-vic-3071-16070960',\n",
       " 'https://www.domain.com.au/1-15-leigh-road-croydon-vic-3136-16057722',\n",
       " 'https://www.domain.com.au/30-beau-vista-drive-traralgon-vic-3844-16065244',\n",
       " 'https://www.domain.com.au/18-allitt-avenue-belmont-vic-3216-16023278',\n",
       " 'https://www.domain.com.au/11-bromley-circuit-thornhill-park-vic-3335-16009097',\n",
       " 'https://www.domain.com.au/6301b-639-little-lonsdale-street-melbourne-vic-3000-16070331',\n",
       " 'https://www.domain.com.au/6-halcyon-court-doncaster-east-vic-3109-15933892',\n",
       " 'https://www.domain.com.au/414-118-franklin-street-melbourne-vic-3004-16064689',\n",
       " 'https://www.domain.com.au/3-98-ashley-street-maidstone-vic-3012-16061480',\n",
       " 'https://www.domain.com.au/4-camberwell-parade-mickleham-vic-3064-16052575',\n",
       " 'https://www.domain.com.au/235-moores-rd-clyde-vic-3978-15898908',\n",
       " 'https://www.domain.com.au/g09-59-earl-street-kew-vic-3101-14910454',\n",
       " 'https://www.domain.com.au/304n-515-545-rathdowne-street-carlton-vic-3053-15943349',\n",
       " 'https://www.domain.com.au/6-23-carlisle-avenue-st-kilda-east-vic-3183-10234512',\n",
       " 'https://www.domain.com.au/241-538-little-lonsdale-street-melbourne-vic-3000-13038412',\n",
       " 'https://www.domain.com.au/6-28-tulip-grove-cheltenham-vic-3192-16053829',\n",
       " 'https://www.domain.com.au/105-1045-burke-road-hawthorn-east-vic-3123-16067517',\n",
       " 'https://www.domain.com.au/781-park-street-brunswick-vic-3056-16035035',\n",
       " 'https://www.domain.com.au/702-chintin-road-monegeetta-vic-3433-15979678',\n",
       " 'https://www.domain.com.au/808-600-doncaster-road-doncaster-vic-3108-16025939',\n",
       " 'https://www.domain.com.au/11-avoca-street-yarraville-vic-3013-14894112',\n",
       " 'https://www.domain.com.au/82-nicholas-street-ashburton-vic-3147-15875187',\n",
       " 'https://www.domain.com.au/33-sweeney-drive-narre-warren-vic-3805-14380860',\n",
       " 'https://www.domain.com.au/1216-199-william-street-melbourne-vic-3000-15245682',\n",
       " 'https://www.domain.com.au/51-clara-avenue-truganina-vic-3029-16041224',\n",
       " 'https://www.domain.com.au/6-30-westbury-street-st-kilda-east-vic-3183-15132614',\n",
       " 'https://www.domain.com.au/325-collins-street-melbourne-vic-3000-14154581',\n",
       " 'https://www.domain.com.au/705-422-collins-street-melbourne-vic-3000-14626477',\n",
       " 'https://www.domain.com.au/163-browns-scarsdale-rd-scarsdale-vic-3351-16051341',\n",
       " 'https://www.domain.com.au/60-karbeethong-avenue-mallacoota-vic-3892-13296316',\n",
       " 'https://www.domain.com.au/26-dalziell-crescent-cranbourne-north-vic-3977-15314137',\n",
       " 'https://www.domain.com.au/73-baden-powell-drive-tarneit-vic-3029-16060546',\n",
       " 'https://www.domain.com.au/2-20-bellevue-street-richmond-vic-3121-16065218',\n",
       " 'https://www.domain.com.au/110-80-la-scala-avenue-maribyrnong-vic-3032-15274976',\n",
       " 'https://www.domain.com.au/5-manuka-grove-wyndham-vale-vic-3024-16034240',\n",
       " 'https://www.domain.com.au/3-12-starcross-avenue-croydon-vic-3136-16029202',\n",
       " 'https://www.domain.com.au/59-irwin-ave-altona-north-vic-3025-15922509',\n",
       " 'https://www.domain.com.au/163-wanda-street-mulgrave-vic-3170-16020299',\n",
       " 'https://www.domain.com.au/lot-521-22-hilda-drive-brookfield-vic-3338-13472069',\n",
       " 'https://www.domain.com.au/g31-386-burwood-highway-burwood-vic-3125-8750753',\n",
       " 'https://www.domain.com.au/2-12-14-pacific-drive-torquay-vic-3228-15888004',\n",
       " 'https://www.domain.com.au/8-angler-lane-maribyrnong-vic-3032-16069008',\n",
       " 'https://www.domain.com.au/103-336-south-road-hampton-east-vic-3188-16043377',\n",
       " 'https://www.domain.com.au/2-4-hatfield-court-west-footscray-vic-3012-15830573',\n",
       " 'https://www.domain.com.au/9-8-grandview-grove-prahran-vic-3181-9574908',\n",
       " 'https://www.domain.com.au/30-charlotte-crescent-wyndham-vale-vic-3024-16062514',\n",
       " 'https://www.domain.com.au/2-23-merlyn-avenue-clayton-south-vic-3169-9967004',\n",
       " 'https://www.domain.com.au/42-fairhall-avenue-werribee-vic-3030-15283423',\n",
       " 'https://www.domain.com.au/2-186-grimshaw-street-greensborough-vic-3088-16062078',\n",
       " 'https://www.domain.com.au/2-13-king-georges-ave-mornington-vic-3931-16066328',\n",
       " 'https://www.domain.com.au/37-henrietta-street-hawthorn-vic-3122-15958478',\n",
       " 'https://www.domain.com.au/8-westbourne-road-kensington-vic-3031-15931848',\n",
       " 'https://www.domain.com.au/3-143-gardenia-road-lalor-vic-3075-16034567',\n",
       " 'https://www.domain.com.au/1-octavia-court-burwood-vic-3125-15999942',\n",
       " 'https://www.domain.com.au/15-18-20-fewster-street-hampton-vic-3188-16067939',\n",
       " 'https://www.domain.com.au/18-hampshire-road-forest-hill-vic-3131-15956629',\n",
       " 'https://www.domain.com.au/4-252-williamsons-road-templestowe-vic-3106-15980164',\n",
       " 'https://www.domain.com.au/11-obrien-drive-alfredton-vic-3350-16036684',\n",
       " 'https://www.domain.com.au/35-szer-way-carrum-downs-vic-3201-16069678',\n",
       " 'https://www.domain.com.au/66-ellsworth-crescent-camberwell-vic-3124-16016170',\n",
       " 'https://www.domain.com.au/34-1495-1499-malvern-road-glen-iris-vic-3146-16034039',\n",
       " 'https://www.domain.com.au/4-1-kingsley-street-camberwell-vic-3124-16067581',\n",
       " 'https://www.domain.com.au/35-77-bayswater-road-croydon-vic-3136-16009159',\n",
       " 'https://www.domain.com.au/3507-200-spencer-street-melbourne-vic-3000-16037975',\n",
       " 'https://www.domain.com.au/38-roy-street-wangaratta-vic-3677-9423320',\n",
       " 'https://www.domain.com.au/7-15-woodvale-close-essendon-vic-3040-16062264',\n",
       " 'https://www.domain.com.au/1-cinerea-avenue-ferntree-gully-vic-3156-16052317',\n",
       " 'https://www.domain.com.au/132-23-blackwood-street-north-melbourne-vic-3051-16050208',\n",
       " 'https://www.domain.com.au/3a-donnelly-court-dandenong-north-vic-3175-16051258',\n",
       " 'https://www.domain.com.au/5-258-warrigal-road-cheltenham-vic-3192-16055699',\n",
       " 'https://www.domain.com.au/8-k3-union-street-windsor-vic-3181-16042862',\n",
       " 'https://www.domain.com.au/11-8-10-argus-street-cheltenham-vic-3192-16027239',\n",
       " 'https://www.domain.com.au/12-cameo-lane-point-lonsdale-vic-3225-15984378',\n",
       " 'https://www.domain.com.au/42-o-grady-street-clifton-hill-vic-3068-16059929',\n",
       " 'https://www.domain.com.au/2-marks-street-coburg-vic-3058-15997804',\n",
       " 'https://www.domain.com.au/8-8-grange-road-alphington-vic-3078-16034856',\n",
       " 'https://www.domain.com.au/elwood-vic-3184-16053550',\n",
       " 'https://www.domain.com.au/64-fairhaven-boulevard-melton-west-vic-3337-16038164',\n",
       " 'https://www.domain.com.au/1-peppermint-court-altona-meadows-vic-3028-16038884',\n",
       " 'https://www.domain.com.au/11-230-elgin-street-carlton-vic-3053-16029059',\n",
       " 'https://www.domain.com.au/11-43-45-beaufort-road-croydon-vic-3136-16025650',\n",
       " 'https://www.domain.com.au/49-grieve-parade-altona-vic-3018-16068694',\n",
       " 'https://www.domain.com.au/7-2-newmarket-way-flemington-vic-3031-16052040',\n",
       " 'https://www.domain.com.au/1a-ormond-street-pascoe-vale-vic-3044-16017281',\n",
       " 'https://www.domain.com.au/10-ashdown-court-bundoora-vic-3083-15711818',\n",
       " 'https://www.domain.com.au/302-14-david-street-richmond-vic-3121-14692179',\n",
       " 'https://www.domain.com.au/37-bonar-heidelberg-heights-vic-3081-11085618',\n",
       " 'https://www.domain.com.au/12-crellin-grove-camberwell-vic-3124-16017163',\n",
       " 'https://www.domain.com.au/12-herbert-street-boronia-vic-3155-15299840',\n",
       " 'https://www.domain.com.au/2-24-princes-street-st-kilda-vic-3182-16060642',\n",
       " 'https://www.domain.com.au/403-93-furlong-road-cairnlea-vic-3023-16067822',\n",
       " 'https://www.domain.com.au/5-22a-fernhill-road-sandringham-vic-3191-15942967',\n",
       " 'https://www.domain.com.au/10-woodville-park-drive-hoppers-crossing-vic-3029-16046617',\n",
       " 'https://www.domain.com.au/22-belmont-street-clayton-vic-3168-16057968',\n",
       " 'https://www.domain.com.au/rear-941-high-street-reservoir-vic-3073-16048274',\n",
       " 'https://www.domain.com.au/1-144-churchill-avenue-braybrook-vic-3019-16002486',\n",
       " 'https://www.domain.com.au/27c-glendale-avenue-templestowe-vic-3106-15900330',\n",
       " 'https://www.domain.com.au/5-80-queens-road-melbourne-vic-3004-16043395',\n",
       " 'https://www.domain.com.au/3-30-logan-street-hamlyn-heights-vic-3215-16054463',\n",
       " 'https://www.domain.com.au/6-thomas-road-red-hill-south-vic-3937-15759376',\n",
       " 'https://www.domain.com.au/92-grant-road-somerville-vic-3912-16027403',\n",
       " 'https://www.domain.com.au/4-33-bent-street-altona-vic-3018-15661073',\n",
       " 'https://www.domain.com.au/313-140-little-collins-street-melbourne-vic-3000-16065982',\n",
       " 'https://www.domain.com.au/8-6-lytton-street-glenroy-vic-3046-16066557',\n",
       " 'https://www.domain.com.au/52-54-tinning-street-brunswick-vic-3056-16061469',\n",
       " 'https://www.domain.com.au/92-contingent-street-trafalgar-vic-3824-16070307',\n",
       " 'https://www.domain.com.au/144-essex-street-west-footscray-vic-3012-12809587',\n",
       " 'https://www.domain.com.au/8a-10-clifton-street-prahran-vic-3181-14526296',\n",
       " 'https://www.domain.com.au/1001-628-flinders-street-docklands-vic-3008-16065736',\n",
       " 'https://www.domain.com.au/158-mitchell-street-bendigo-vic-3550-14254937',\n",
       " 'https://www.domain.com.au/4-29-pine-avenue-elwood-vic-3184-16007886',\n",
       " 'https://www.domain.com.au/2-401-alma-road-caulfield-north-vic-3161-16062629',\n",
       " 'https://www.domain.com.au/8-8-avoca-avenue-elwood-vic-3184-16008708',\n",
       " 'https://www.domain.com.au/1-36-illuka-crescent-mount-waverley-vic-3149-16070562',\n",
       " 'https://www.domain.com.au/86-barkly-street-fitzroy-north-vic-3068-16057414',\n",
       " 'https://www.domain.com.au/13-tribe-street-south-melbourne-vic-3205-16070468',\n",
       " 'https://www.domain.com.au/167-barkly-street-brunswick-vic-3056-15876911',\n",
       " 'https://www.domain.com.au/1053-dandenong-road-malvern-east-vic-3145-15902441',\n",
       " 'https://www.domain.com.au/201-650-centre-road-bentleigh-east-vic-3165-13931323',\n",
       " 'https://www.domain.com.au/1-105-boyd-street-dandenong-north-vic-3175-13642420',\n",
       " 'https://www.domain.com.au/1-8-may-street-elwood-vic-3184-16064751',\n",
       " 'https://www.domain.com.au/52-charles-street-wallan-vic-3756-16040281',\n",
       " 'https://www.domain.com.au/8-vale-street-north-melbourne-vic-3051-8434061',\n",
       " 'https://www.domain.com.au/2-68-heyington-avenue-thomastown-vic-3074-16070846',\n",
       " 'https://www.domain.com.au/6-520-moreland-road-brunswick-west-vic-3055-16033465',\n",
       " 'https://www.domain.com.au/96-shafer-road-blackburn-north-vic-3130-16066555',\n",
       " 'https://www.domain.com.au/2-7-greenleaf-circuit-tarneit-vic-3029-16046654',\n",
       " 'https://www.domain.com.au/7-nemet-court-noble-park-north-vic-3174-16042637',\n",
       " 'https://www.domain.com.au/1-mckenna-street-avondale-heights-vic-3034-14790706',\n",
       " 'https://www.domain.com.au/12-springbank-street-tullamarine-vic-3043-16067258',\n",
       " 'https://www.domain.com.au/504-330-lygon-street-brunswick-east-vic-3057-10225477',\n",
       " 'https://www.domain.com.au/2-11-regent-street-mount-waverley-vic-3149-15972151',\n",
       " 'https://www.domain.com.au/2-villea-avenue-grovedale-vic-3216-16011377',\n",
       " 'https://www.domain.com.au/8-16-chapel-street-st-kilda-vic-3182-16068250',\n",
       " 'https://www.domain.com.au/5-501-orrong-road-armadale-vic-3143-15997722',\n",
       " 'https://www.domain.com.au/2-25-williams-road-laverton-vic-3028-14995653',\n",
       " 'https://www.domain.com.au/502d-21-robert-street-collingwood-vic-3066-15056729',\n",
       " 'https://www.domain.com.au/21-field-street-manor-lakes-vic-3024-16046438',\n",
       " 'https://www.domain.com.au/108-marlborough-street-bentleigh-east-vic-3165-16032380',\n",
       " 'https://www.domain.com.au/bright-vic-3741-15923345',\n",
       " 'https://www.domain.com.au/20-clairmont-avenue-cranbourne-vic-3977-16063083',\n",
       " 'https://www.domain.com.au/2-20-screen-street-frankston-vic-3199-16060182',\n",
       " 'https://www.domain.com.au/8-77-river-street-richmond-vic-3121-14211014',\n",
       " 'https://www.domain.com.au/260-spencer-st-melbourne-vic-3000-16004965',\n",
       " 'https://www.domain.com.au/5-116-glass-street-essendon-vic-3040-16050356',\n",
       " 'https://www.domain.com.au/2-135-booran-road-caulfield-south-vic-3162-15992186',\n",
       " 'https://www.domain.com.au/3-4-allen-street-laverton-vic-3028-15597065',\n",
       " 'https://www.domain.com.au/114-evans-street-port-melbourne-vic-3207-16061520',\n",
       " 'https://www.domain.com.au/1-55-barkly-street-mordialloc-vic-3195-16004022',\n",
       " 'https://www.domain.com.au/4-cecil-walk-mickleham-vic-3064-16069443',\n",
       " 'https://www.domain.com.au/70-anzac-avenue-seymour-vic-3660-15772827',\n",
       " 'https://www.domain.com.au/1-62-tennyson-street-kew-vic-3101-16008207',\n",
       " 'https://www.domain.com.au/52-sargood-street-hampton-vic-3188-16053158',\n",
       " 'https://www.domain.com.au/138-curzon-street-north-melbourne-vic-3051-16052598',\n",
       " 'https://www.domain.com.au/45a-loch-park-road-traralgon-vic-3844-16063403',\n",
       " 'https://www.domain.com.au/3-77-edinburgh-street-richmond-vic-3121-15192143',\n",
       " 'https://www.domain.com.au/1005-warrenheip-street-buninyong-vic-3357-15986327',\n",
       " 'https://www.domain.com.au/15-40-harold-street-hawthorn-east-vic-3123-16066989',\n",
       " 'https://www.domain.com.au/1-9-barnato-grove-armadale-vic-3143-16046213',\n",
       " 'https://www.domain.com.au/tarneit-vic-3029-14956493',\n",
       " 'https://www.domain.com.au/131-barrs-road-horsham-vic-3400-16037213',\n",
       " 'https://www.domain.com.au/23-melville-st-tarneit-vic-3029-15784192',\n",
       " 'https://www.domain.com.au/3-raymond-grv-caulfield-south-vic-3162-16062955',\n",
       " 'https://www.domain.com.au/2-50-normanby-avenue-thornbury-vic-3071-15975690',\n",
       " 'https://www.domain.com.au/47-chambers-street-myrtleford-vic-3737-12185796',\n",
       " 'https://www.domain.com.au/43-postema-drive-point-cook-vic-3030-16043540',\n",
       " 'https://www.domain.com.au/38-400-victoria-parade-east-melbourne-vic-3002-12863768',\n",
       " 'https://www.domain.com.au/11a-smith-st-bentleigh-vic-3204-12680078',\n",
       " 'https://www.domain.com.au/16b-sandy-mount-avenue-inverloch-vic-3996-16006035',\n",
       " 'https://www.domain.com.au/15-beatrix-circuit-officer-vic-3809-13412640',\n",
       " 'https://www.domain.com.au/42-clyde-street-ferntree-gully-vic-3156-16058230',\n",
       " 'https://www.domain.com.au/7-helen-crescent-sale-vic-3850-16069520',\n",
       " 'https://www.domain.com.au/1-25-eumeralla-road-caulfield-south-vic-3162-16063185',\n",
       " 'https://www.domain.com.au/windsor-vic-3181-16065698',\n",
       " 'https://www.domain.com.au/2-16-rosa-street-templestowe-lower-vic-3107-15954609',\n",
       " 'https://www.domain.com.au/2-birdwood-street-balwyn-vic-3103-15823995',\n",
       " 'https://www.domain.com.au/120-6-lisson-grove-hawthorn-vic-3122-16043082',\n",
       " 'https://www.domain.com.au/403-1-olive-york-way-brunswick-west-vic-3055-15420143',\n",
       " 'https://www.domain.com.au/211-316-neerim-road-carnegie-vic-3163-16057849',\n",
       " 'https://www.domain.com.au/401-82-hawdon-street-heidelberg-vic-3084-16051158',\n",
       " 'https://www.domain.com.au/101-154-francis-street-yarraville-vic-3013-15721162',\n",
       " 'https://www.domain.com.au/109-easey-street-collingwood-vic-3066-16021861',\n",
       " 'https://www.domain.com.au/1-21-morell-street-glenroy-vic-3046-16024655',\n",
       " 'https://www.domain.com.au/125-alma-road-st-kilda-east-vic-3183-14354811',\n",
       " 'https://www.domain.com.au/52-ontario-avenue-corio-vic-3214-16061139',\n",
       " 'https://www.domain.com.au/c2-64-66-keilor-road-essendon-north-vic-3041-15455993',\n",
       " 'https://www.domain.com.au/21-coastwatch-road-point-cook-vic-3030-16038323',\n",
       " 'https://www.domain.com.au/3-122-glen-huntly-road-elwood-vic-3184-15701278',\n",
       " 'https://www.domain.com.au/9-27-robe-street-st-kilda-vic-3182-16064598',\n",
       " 'https://www.domain.com.au/9-kiah-street-glen-waverley-vic-3150-16021877',\n",
       " 'https://www.domain.com.au/284a-tucker-rd-ormond-vic-3204-16070662',\n",
       " 'https://www.domain.com.au/18-20-landor-close-hoppers-crossing-vic-3029-16011239',\n",
       " 'https://www.domain.com.au/162-westbourne-road-kensington-vic-3031-12032161',\n",
       " 'https://www.domain.com.au/45-anaconda-road-narre-warren-vic-3805-16062442',\n",
       " 'https://www.domain.com.au/rm5-16-wickham-avenue-forest-hill-vic-3131-16025019',\n",
       " 'https://www.domain.com.au/30-antoinette-avenue-bonshaw-vic-3352-16020815',\n",
       " 'https://www.domain.com.au/99-sevenoaks-road-burwood-east-vic-3151-15819001',\n",
       " 'https://www.domain.com.au/68-lehmanns-road-wollert-vic-3750-16055928',\n",
       " 'https://www.domain.com.au/6-satsuma-avenue-berwick-vic-3806-16030995',\n",
       " 'https://www.domain.com.au/2-3-suffolk-street-reservoir-vic-3073-16014345',\n",
       " 'https://www.domain.com.au/2-old-orchard-way-doncaster-vic-3108-16050051',\n",
       " 'https://www.domain.com.au/262-dromana-parade-safety-beach-vic-3936-16047681',\n",
       " 'https://www.domain.com.au/203b-19-south-street-hadfield-vic-3046-15981530',\n",
       " 'https://www.domain.com.au/3-402-nepean-highway-frankston-vic-3199-16060278',\n",
       " 'https://www.domain.com.au/110-park-street-moonee-ponds-vic-3039-16009078',\n",
       " 'https://www.domain.com.au/2-17-neilson-street-bayswater-vic-3153-16040397',\n",
       " 'https://www.domain.com.au/1-70-metung-street-balwyn-vic-3103-16036857',\n",
       " 'https://www.domain.com.au/6-331-inkerman-st-st-kilda-east-vic-3183-15014867',\n",
       " 'https://www.domain.com.au/901-36-la-trobe-melbourne-vic-3000-15985608',\n",
       " 'https://www.domain.com.au/50-bloomfield-avenue-maribyrnong-vic-3032-16060896',\n",
       " 'https://www.domain.com.au/10-93-97-edwardes-street-reservoir-vic-3073-16068699',\n",
       " 'https://www.domain.com.au/14-burgundy-drive-wyndham-vale-vic-3024-16042739',\n",
       " 'https://www.domain.com.au/7-winnows-street-officer-vic-3809-16066531',\n",
       " 'https://www.domain.com.au/13-falu-parade-tarneit-vic-3029-16064915',\n",
       " 'https://www.domain.com.au/19-kemp-avenue-thomastown-vic-3074-16003264',\n",
       " 'https://www.domain.com.au/17-mclachlan-drive-williams-landing-vic-3027-16050630',\n",
       " 'https://www.domain.com.au/3-leddy-street-forest-hill-vic-3131-15343424',\n",
       " 'https://www.domain.com.au/44-tyrone-street-south-yarra-vic-3141-15999415',\n",
       " 'https://www.domain.com.au/101-43-45-the-avenue-balaclava-vic-3183-16048916',\n",
       " 'https://www.domain.com.au/52-kangaroo-road-craigieburn-vic-3064-16027412',\n",
       " 'https://www.domain.com.au/26-vail-street-prahran-vic-3181-16064768',\n",
       " 'https://www.domain.com.au/units-1-11-279-wyndham-street-shepparton-vic-3630-8618235',\n",
       " 'https://www.domain.com.au/2-24-silvercreek-drive-lynbrook-vic-3975-16063921',\n",
       " 'https://www.domain.com.au/truganina-vic-3029-14987610',\n",
       " 'https://www.domain.com.au/9-silver-street-donnybrook-vic-3064-16012550',\n",
       " 'https://www.domain.com.au/9-13-mcculloch-street-essendon-vic-3040-16071277',\n",
       " 'https://www.domain.com.au/1-578-moreland-road-brunswick-west-vic-3055-11743812',\n",
       " 'https://www.domain.com.au/10-57-caroline-st-clifton-hill-vic-3068-10715203',\n",
       " 'https://www.domain.com.au/31-bowen-crescent-burwood-east-vic-3151-16058965',\n",
       " 'https://www.domain.com.au/16-tassel-drive-warragul-vic-3820-16040547',\n",
       " 'https://www.domain.com.au/4-42-swift-street-thornbury-vic-3071-16066422',\n",
       " 'https://www.domain.com.au/26a-bonny-street-bentleigh-east-vic-3165-16058750',\n",
       " 'https://www.domain.com.au/1-13-cedar-street-doveton-vic-3177-16008783',\n",
       " 'https://www.domain.com.au/1-12-kelvin-grove-springvale-vic-3171-16020530',\n",
       " 'https://www.domain.com.au/12-51-delbridge-street-fitzroy-north-vic-3068-16055989',\n",
       " 'https://www.domain.com.au/11-blossom-drive-doveton-vic-3177-16065797',\n",
       " 'https://www.domain.com.au/2-wedd-street-cheltenham-vic-3192-16009427',\n",
       " 'https://www.domain.com.au/69-augustine-terrace-glenroy-vic-3046-15719941',\n",
       " 'https://www.domain.com.au/28-elmwood-circuit-wodonga-vic-3690-16058917',\n",
       " 'https://www.domain.com.au/6-korong-court-mornington-vic-3931-16034549',\n",
       " 'https://www.domain.com.au/1205-105-batman-st-west-melbourne-vic-3003-16026541',\n",
       " 'https://www.domain.com.au/foster-vic-3960-15139196',\n",
       " 'https://www.domain.com.au/51-378-390-st-georges-road-fitzroy-north-vic-3068-16059230',\n",
       " 'https://www.domain.com.au/12-gertrude-street-prahran-vic-3181-16058002',\n",
       " 'https://www.domain.com.au/11-3-payne-street-caulfield-north-vic-3161-16044246',\n",
       " 'https://www.domain.com.au/14-6-ridley-street-albion-vic-3020-16031691',\n",
       " 'https://www.domain.com.au/15-marble-drive-cobblebank-vic-3338-16031214',\n",
       " 'https://www.domain.com.au/10-37-elphin-grove-hawthorn-vic-3122-16061604',\n",
       " 'https://www.domain.com.au/13-balcombe-street-mornington-vic-3931-16055425',\n",
       " 'https://www.domain.com.au/2-124-126-harold-road-noble-park-vic-3174-16051462',\n",
       " 'https://www.domain.com.au/13-marshy-way-donnybrook-vic-3064-15473524',\n",
       " 'https://www.domain.com.au/166-alfrieda-street-st-albans-vic-3021-16067684',\n",
       " 'https://www.domain.com.au/149-william-street-st-albans-vic-3021-14703544',\n",
       " 'https://www.domain.com.au/9-17-tulloch-street-deer-park-vic-3023-15974597',\n",
       " 'https://www.domain.com.au/20-leigh-street-huntingdale-vic-3166-16057274',\n",
       " 'https://www.domain.com.au/3-106-kororoit-creek-road-williamstown-vic-3016-16027528',\n",
       " 'https://www.domain.com.au/1b-378-390-st-georges-road-fitzroy-north-vic-3068-16044547',\n",
       " 'https://www.domain.com.au/2-3-linton-avenue-moe-vic-3825-16052615',\n",
       " 'https://www.domain.com.au/17-the-avenue-malvern-east-vic-3145-15817377',\n",
       " 'https://www.domain.com.au/94-langdon-drive-mernda-vic-3754-13926650',\n",
       " 'https://www.domain.com.au/19-parkview-terrace-chirnside-park-vic-3116-16066086',\n",
       " 'https://www.domain.com.au/30-miller-street-bendigo-vic-3550-16057501',\n",
       " 'https://www.domain.com.au/house-139-prospect-hill-road-canterbury-vic-3126-16065600',\n",
       " 'https://www.domain.com.au/2-173-yarra-street-geelong-vic-3220-16043527',\n",
       " 'https://www.domain.com.au/14-1-3-princess-street-st-albans-vic-3021-12667721',\n",
       " 'https://www.domain.com.au/29-melview-drive-ringwood-north-vic-3134-16052408',\n",
       " 'https://www.domain.com.au/1-11-catalpa-street-doveton-vic-3177-16026145',\n",
       " 'https://www.domain.com.au/24-3-holmes-street-brunswick-east-vic-3057-14697446',\n",
       " 'https://www.domain.com.au/12-31-35-brunnings-road-carrum-downs-vic-3201-16025157',\n",
       " 'https://www.domain.com.au/6-42-brougham-street-north-melbourne-vic-3051-16070072',\n",
       " 'https://www.domain.com.au/2-1-barwon-street-glenroy-vic-3046-16054075',\n",
       " 'https://www.domain.com.au/6-124-alexandra-street-st-kilda-east-vic-3183-14820675',\n",
       " 'https://www.domain.com.au/16-coolavin-road-noble-park-north-vic-3174-16002526',\n",
       " 'https://www.domain.com.au/2-3-dobson-court-pakenham-vic-3810-16009034',\n",
       " 'https://www.domain.com.au/3-115-glenroy-road-glenroy-vic-3046-16013239',\n",
       " 'https://www.domain.com.au/1502-260-city-rd-southbank-vic-3006-15952607',\n",
       " 'https://www.domain.com.au/10-91-grosvenor-street-st-kilda-east-vic-3183-15991988',\n",
       " 'https://www.domain.com.au/18-scotts-street-bentleigh-vic-3204-15794681',\n",
       " 'https://www.domain.com.au/2-60-austin-street-hawkesdale-vic-3287-16055234',\n",
       " 'https://www.domain.com.au/37-ruthven-way-mambourin-vic-3024-16031844',\n",
       " 'https://www.domain.com.au/248-north-boundary-road-hamilton-vic-3300-16068756',\n",
       " 'https://www.domain.com.au/14-the-avenue-parkville-vic-3052-15926516',\n",
       " 'https://www.domain.com.au/1-18-hughes-crescent-dandenong-north-vic-3175-16021824',\n",
       " 'https://www.domain.com.au/10-powrie-court-ringwood-north-vic-3134-16063087',\n",
       " 'https://www.domain.com.au/7-15-moore-street-moonee-ponds-vic-3039-15997979',\n",
       " 'https://www.domain.com.au/5008-639-little-lonsdale-street-melbourne-vic-3000-16051266',\n",
       " 'https://www.domain.com.au/3-37-bristol-rd-torquay-vic-3228-16034359',\n",
       " 'https://www.domain.com.au/4-317-riversdale-road-hawthorn-east-vic-3123-10321666',\n",
       " 'https://www.domain.com.au/2-8-lorensen-avenue-coburg-north-vic-3058-16031724',\n",
       " 'https://www.domain.com.au/70-grange-road-sandringham-vic-3191-15978678',\n",
       " 'https://www.domain.com.au/17-katoomba-street-hampton-east-vic-3188-16038452',\n",
       " 'https://www.domain.com.au/2115-ballarto-road-clyde-vic-3978-16016686',\n",
       " 'https://www.domain.com.au/4-67-walsh-street-south-yarra-vic-3141-16063567',\n",
       " 'https://www.domain.com.au/13-rothesay-avenue-elwood-vic-3184-15971618',\n",
       " 'https://www.domain.com.au/91-george-street-scoresby-vic-3179-16064863',\n",
       " 'https://www.domain.com.au/1-nauru-court-berwick-vic-3806-16064094',\n",
       " 'https://www.domain.com.au/6-76-canterbury-road-toorak-vic-3142-15996950',\n",
       " 'https://www.domain.com.au/2-4-ravensthorpe-crescent-narre-warren-vic-3805-16050471',\n",
       " 'https://www.domain.com.au/4-10-eglinton-street-kew-vic-3101-15822739',\n",
       " 'https://www.domain.com.au/9-mcgregor-street-pascoe-vale-vic-3044-16060954',\n",
       " 'https://www.domain.com.au/1-14-mckenzie-street-kerang-vic-3579-14462212',\n",
       " 'https://www.domain.com.au/17a-talbot-avenue-st-kilda-east-vic-3183-15652989',\n",
       " 'https://www.domain.com.au/12-akkersley-drive-truganina-vic-3029-15319375',\n",
       " 'https://www.domain.com.au/49-katrina-street-blackburn-north-vic-3130-15866956',\n",
       " 'https://www.domain.com.au/3-191-main-street-elliminyt-vic-3250-16015389',\n",
       " 'https://www.domain.com.au/56-chateau-promenade-deanside-vic-3336-15946089',\n",
       " 'https://www.domain.com.au/1101-77-river-street-south-yarra-vic-3141-15537769',\n",
       " 'https://www.domain.com.au/1-neptune-street-st-kilda-vic-3182-16039862',\n",
       " ...}"
      ]
     },
     "execution_count": 7,
     "metadata": {},
     "output_type": "execute_result"
    }
   ],
   "source": [
    "domain_links"
   ]
  },
  {
   "cell_type": "code",
   "execution_count": 16,
   "metadata": {},
   "outputs": [],
   "source": [
    "with open('2022-09-04.VIC.domain.pickle', 'wb') as file:\n",
    "    pickle.dump(domain_links, file , protocol=pickle.HIGHEST_PROTOCOL)"
   ]
  },
  {
   "cell_type": "code",
   "execution_count": null,
   "metadata": {},
   "outputs": [],
   "source": [
    "os."
   ]
  },
  {
   "cell_type": "code",
   "execution_count": 5,
   "metadata": {},
   "outputs": [
    {
     "data": {
      "text/plain": [
       "15353"
      ]
     },
     "execution_count": 5,
     "metadata": {},
     "output_type": "execute_result"
    }
   ],
   "source": [
    "with open('2022-09-04.VIC.domain.pickle', 'rb') as file:\n",
    "    links = pickle.load(file)\n",
    "\n",
    "len(links)"
   ]
  },
  {
   "cell_type": "code",
   "execution_count": 8,
   "metadata": {},
   "outputs": [
    {
     "data": {
      "text/plain": [
       "'https://www.domain.com.au/119-victoria-street-fitzroy-vic-3065-16023904'"
      ]
     },
     "execution_count": 8,
     "metadata": {},
     "output_type": "execute_result"
    }
   ],
   "source": [
    "list(links)[0]"
   ]
  },
  {
   "cell_type": "code",
   "execution_count": null,
   "metadata": {},
   "outputs": [],
   "source": []
  }
 ],
 "metadata": {
  "kernelspec": {
   "display_name": "Python 3 (ipykernel)",
   "language": "python",
   "name": "python3"
  },
  "language_info": {
   "codemirror_mode": {
    "name": "ipython",
    "version": 3
   },
   "file_extension": ".py",
   "mimetype": "text/x-python",
   "name": "python",
   "nbconvert_exporter": "python",
   "pygments_lexer": "ipython3",
   "version": "3.10.5"
  },
  "vscode": {
   "interpreter": {
    "hash": "183132b451050d377b0440a650259019ec3f60ba0d844e8e7e0c0f7121c63925"
   }
  }
 },
 "nbformat": 4,
 "nbformat_minor": 2
}
