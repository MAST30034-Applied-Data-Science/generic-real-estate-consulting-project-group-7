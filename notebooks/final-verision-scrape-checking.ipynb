{
 "cells": [
  {
   "cell_type": "code",
   "execution_count": 1,
   "metadata": {},
   "outputs": [],
   "source": [
    "import os\n",
    "os.chdir('../scripts')"
   ]
  },
  {
   "cell_type": "code",
   "execution_count": 2,
   "metadata": {},
   "outputs": [
    {
     "name": "stdout",
     "output_type": "stream",
     "text": [
      "Already Create Paths\n",
      "Start url scrapping process...\n",
      "178.99461793899536 seconds to scarping from domain website\n"
     ]
    }
   ],
   "source": [
    "from domain_scraper import download\n",
    "\n",
    "download.download_all()"
   ]
  },
  {
   "cell_type": "code",
   "execution_count": 3,
   "metadata": {},
   "outputs": [
    {
     "name": "stderr",
     "output_type": "stream",
     "text": [
      "Setting default log level to \"WARN\".\n",
      "To adjust logging level use sc.setLogLevel(newLevel). For SparkR, use setLogLevel(newLevel).\n"
     ]
    },
    {
     "name": "stdout",
     "output_type": "stream",
     "text": [
      "22/09/05 22:19:34 WARN NativeCodeLoader: Unable to load native-hadoop library for your platform... using builtin-java classes where applicable\n",
      "22/09/05 22:19:35 WARN Utils: Service 'SparkUI' could not bind on port 4040. Attempting port 4041.\n"
     ]
    }
   ],
   "source": [
    "# import required libraries\n",
    "from pyspark.sql import SparkSession, functions as F\n",
    "from pyspark.sql.functions import col, isnan, when, count, mean, udf, split, unix_timestamp, from_unixtime, lower\n",
    "from pyspark.sql.types import StringType, IntegerType, FloatType\n",
    "\n",
    "# init SparkSession class\n",
    "spark = (\n",
    "    # if available consider use yarn master node\n",
    "    SparkSession.builder.master(\"local[*]\") \n",
    "    \n",
    "    # spark executor env configuration\n",
    "    .config(\"spark.executor.memory\", \"8g\")\n",
    "    .config(\"spark.driver.memory\", \"16g\")\n",
    "    .config(\"spark.executor.cores\", \"2\")\n",
    "    .config(\"spark.executor.instances\", \"6\")\n",
    "    .config(\"spark.sql.session.timeZone\", \"Etc/UTC\")\n",
    "    \n",
    "    # jvm memory configuration\n",
    "    .config(\"spark.memory.offHeap.enabled\", \"true\")\n",
    "    .config(\"spark.memory.offHeap.size\", \"8g\")\n",
    "    \n",
    "    # parquet file load configuration\n",
    "    .config(\"spark.sql.repl.eagerEval.enabled\", 'true')\n",
    "    .config(\"spark.sql.parquet.cacheMetadata\", 'true')\n",
    "    \n",
    "    # build the session\n",
    "    .appName(\"Pyspark Start Template\") # change app name here\n",
    "    .getOrCreate()\n",
    ")\n",
    "\n",
    "# change default log level\n",
    "spark.sparkContext.setLogLevel('ERROR')\n",
    "\n",
    "# import libaries\n",
    "import pandas as pd\n",
    "import seaborn as sns\n",
    "import geopandas as gdp\n",
    "import numpy as np\n",
    "import matplotlib.pyplot as plt\n",
    "import scipy as sp\n",
    "import os\n",
    "import geopandas as gpd\n",
    "import folium\n",
    "# WARNNING message is result by JVM environment setting.\n",
    "\n",
    "\n",
    "from pyspark.ml.feature import VectorAssembler\n",
    "from pyspark.ml.regression import LinearRegression\n",
    "from pyspark.ml.evaluation import RegressionEvaluator\n",
    "from pyspark.ml.feature import PCA\n",
    "from statsmodels.api import families\n",
    "from statsmodels.formula.api import ols, glm\n",
    "from pyspark.mllib.linalg import SparseVector\n",
    "from pyspark.mllib.regression import LabeledPoint\n",
    "from pyspark.mllib.regression import LinearRegressionWithSGD, LassoWithSGD\n",
    "\n",
    "from sklearn.model_selection import train_test_split"
   ]
  },
  {
   "cell_type": "code",
   "execution_count": 4,
   "metadata": {},
   "outputs": [
    {
     "name": "stderr",
     "output_type": "stream",
     "text": [
      "                                                                                \r"
     ]
    },
    {
     "data": {
      "text/html": [
       "<table border='1'>\n",
       "<tr><th>property_id</th><th>street</th><th>suburb</th><th>state</th><th>postcode</th><th>latitude</th><th>longitude</th><th>price</th><th>bedrooms</th><th>bathrooms</th><th>parking</th><th>property_type</th><th>is_rural</th><th>land_size</th><th>land_unit</th><th>is_retirement</th><th>url</th></tr>\n",
       "<tr><td>13671355</td><td>104/300 Swanston ...</td><td>MELBOURNE</td><td>VIC</td><td>3000</td><td>-37.8106079</td><td>144.964584</td><td>$550</td><td>2</td><td>1</td><td>0</td><td>Apartment / Unit ...</td><td>false</td><td>0</td><td>m²</td><td>false</td><td>https://www.domai...</td></tr>\n",
       "<tr><td>14535732</td><td>708/228 A&#x27;BECKETT...</td><td>MELBOURNE</td><td>VIC</td><td>3000</td><td>-37.8101921</td><td>144.9566</td><td>$500</td><td>2</td><td>1</td><td>0</td><td>Apartment / Unit ...</td><td>false</td><td>0</td><td>m²</td><td>false</td><td>https://www.domai...</td></tr>\n",
       "<tr><td>15302782</td><td>504/350 La Trobe ...</td><td>MELBOURNE</td><td>VIC</td><td>3000</td><td>-37.81068</td><td>144.959274</td><td>$395 per week</td><td>2</td><td>1</td><td>0</td><td>Apartment / Unit ...</td><td>false</td><td>0</td><td>m²</td><td>false</td><td>https://www.domai...</td></tr>\n",
       "<tr><td>15841654</td><td>285 La Trobe Street</td><td>MELBOURNE</td><td>VIC</td><td>3000</td><td>-37.8107338</td><td>144.960815</td><td>$65 per week</td><td>1</td><td>1</td><td>1</td><td>Apartment / Unit ...</td><td>false</td><td>0</td><td>m²</td><td>false</td><td>https://www.domai...</td></tr>\n",
       "<tr><td>15920687</td><td>8092Y/33 Rose Lane</td><td>MELBOURNE</td><td>VIC</td><td>3000</td><td>-37.8150139</td><td>144.953873</td><td>$60 per week</td><td>1</td><td>1</td><td>1</td><td>Apartment / Unit ...</td><td>false</td><td>0</td><td>m²</td><td>false</td><td>https://www.domai...</td></tr>\n",
       "<tr><td>16062720</td><td>1206/118 Russell ...</td><td>MELBOURNE</td><td>VIC</td><td>3000</td><td>-37.8135872</td><td>144.968719</td><td>$550 per week</td><td>2</td><td>1</td><td>0</td><td>Apartment / Unit ...</td><td>false</td><td>0</td><td>m²</td><td>false</td><td>https://www.domai...</td></tr>\n",
       "<tr><td>16063139</td><td>625/118 Franklin ...</td><td>MELBOURNE</td><td>VIC</td><td>3000</td><td>-37.8082047</td><td>144.958908</td><td>$530</td><td>3</td><td>2</td><td>0</td><td>Apartment / Unit ...</td><td>false</td><td>0</td><td>m²</td><td>false</td><td>https://www.domai...</td></tr>\n",
       "<tr><td>16063884</td><td>5401/464 Collins ...</td><td>MELBOURNE</td><td>VIC</td><td>3000</td><td>-37.8175621</td><td>144.958588</td><td>$2500 Per Week</td><td>3</td><td>3</td><td>2</td><td>Apartment / Unit ...</td><td>false</td><td>0</td><td>m²</td><td>false</td><td>https://www.domai...</td></tr>\n",
       "<tr><td>16064379</td><td>1106/555 Flinders...</td><td>MELBOURNE</td><td>VIC</td><td>3000</td><td>-37.8209724</td><td>144.956482</td><td>$370 per week</td><td>1</td><td>1</td><td>0</td><td>Apartment / Unit ...</td><td>false</td><td>0</td><td>m²</td><td>false</td><td>https://www.domai...</td></tr>\n",
       "<tr><td>16065974</td><td>1211/260 Spencer ...</td><td>MELBOURNE</td><td>VIC</td><td>3000</td><td>-37.8145638</td><td>144.952286</td><td>$700</td><td>2</td><td>2</td><td>0</td><td>Apartment / Unit ...</td><td>false</td><td>0</td><td>m²</td><td>false</td><td>https://www.domai...</td></tr>\n",
       "<tr><td>16066003</td><td>1007/238 Flinders St</td><td>MELBOURNE</td><td>VIC</td><td>3000</td><td>-37.8175163</td><td>144.966492</td><td>$320</td><td>1</td><td>1</td><td>0</td><td>Apartment / Unit ...</td><td>false</td><td>0</td><td>m²</td><td>false</td><td>https://www.domai...</td></tr>\n",
       "<tr><td>16067117</td><td>3405/288 Spencer ...</td><td>MELBOURNE</td><td>VIC</td><td>3000</td><td>-37.8137741</td><td>144.952087</td><td>$440</td><td>1</td><td>1</td><td>0</td><td>Apartment / Unit ...</td><td>false</td><td>0</td><td>m²</td><td>false</td><td>https://www.domai...</td></tr>\n",
       "<tr><td>16067459</td><td>3902/220 Spencer ...</td><td>MELBOURNE</td><td>VIC</td><td>3000</td><td>-37.8157158</td><td>144.952957</td><td>$650 per week</td><td>2</td><td>2</td><td>1</td><td>Apartment / Unit ...</td><td>false</td><td>0</td><td>m²</td><td>false</td><td>https://www.domai...</td></tr>\n",
       "<tr><td>16068338</td><td>816/101 Therry St</td><td>MELBOURNE</td><td>VIC</td><td>3000</td><td>-37.807415</td><td>144.959122</td><td>New apartment No ...</td><td>2</td><td>2</td><td>0</td><td>Apartment / Unit ...</td><td>false</td><td>0</td><td>m²</td><td>false</td><td>https://www.domai...</td></tr>\n",
       "<tr><td>16069017</td><td>701/101 Therry St</td><td>MELBOURNE</td><td>VIC</td><td>3000</td><td>-37.807415</td><td>144.959122</td><td>NEW corner apartm...</td><td>1</td><td>1</td><td>0</td><td>Apartment / Unit ...</td><td>false</td><td>0</td><td>m²</td><td>false</td><td>https://www.domai...</td></tr>\n",
       "<tr><td>16069309</td><td>Unit 1713/200 Spe...</td><td>MELBOURNE</td><td>VIC</td><td>3000</td><td>-37.816227</td><td>144.953247</td><td>$440 per week</td><td>1</td><td>1</td><td>1</td><td>Apartment / Unit ...</td><td>false</td><td>0</td><td>m²</td><td>false</td><td>https://www.domai...</td></tr>\n",
       "<tr><td>16071670</td><td>1715/220 Spencer ...</td><td>MELBOURNE</td><td>VIC</td><td>3000</td><td>-37.8157158</td><td>144.952957</td><td>$600</td><td>2</td><td>2</td><td>1</td><td>Apartment / Unit ...</td><td>false</td><td>0</td><td>m²</td><td>false</td><td>https://www.domai...</td></tr>\n",
       "<tr><td>16071806</td><td>102/9 Bligh Place</td><td>MELBOURNE</td><td>VIC</td><td>3000</td><td>-37.817318</td><td>144.963715</td><td>$600</td><td>2</td><td>1</td><td>1</td><td>Apartment / Unit ...</td><td>false</td><td>0</td><td>m²</td><td>false</td><td>https://www.domai...</td></tr>\n",
       "<tr><td>16071839</td><td>611/408 Lonsdale ...</td><td>MELBOURNE</td><td>VIC</td><td>3000</td><td>-37.8126</td><td>144.9604</td><td>$350</td><td>1</td><td>1</td><td>0</td><td>Apartment / Unit ...</td><td>false</td><td>0</td><td>m²</td><td>false</td><td>https://www.domai...</td></tr>\n",
       "<tr><td>16072122</td><td>3/27 Flinders Lane</td><td>MELBOURNE</td><td>VIC</td><td>3000</td><td>-37.81473</td><td>144.973358</td><td>$420 per week</td><td>1</td><td>1</td><td>0</td><td>Apartment / Unit ...</td><td>false</td><td>0</td><td>m²</td><td>false</td><td>https://www.domai...</td></tr>\n",
       "</table>\n",
       "only showing top 20 rows\n"
      ],
      "text/plain": [
       "+-----------+--------------------+---------+-----+--------+-----------+----------+--------------------+--------+---------+-------+--------------------+--------+---------+---------+-------------+--------------------+\n",
       "|property_id|              street|   suburb|state|postcode|   latitude| longitude|               price|bedrooms|bathrooms|parking|       property_type|is_rural|land_size|land_unit|is_retirement|                 url|\n",
       "+-----------+--------------------+---------+-----+--------+-----------+----------+--------------------+--------+---------+-------+--------------------+--------+---------+---------+-------------+--------------------+\n",
       "|   13671355|104/300 Swanston ...|MELBOURNE|  VIC|    3000|-37.8106079|144.964584|                $550|       2|        1|      0|Apartment / Unit ...|   false|        0|       m²|        false|https://www.domai...|\n",
       "|   14535732|708/228 A'BECKETT...|MELBOURNE|  VIC|    3000|-37.8101921|  144.9566|                $500|       2|        1|      0|Apartment / Unit ...|   false|        0|       m²|        false|https://www.domai...|\n",
       "|   15302782|504/350 La Trobe ...|MELBOURNE|  VIC|    3000|  -37.81068|144.959274|       $395 per week|       2|        1|      0|Apartment / Unit ...|   false|        0|       m²|        false|https://www.domai...|\n",
       "|   15841654| 285 La Trobe Street|MELBOURNE|  VIC|    3000|-37.8107338|144.960815|        $65 per week|       1|        1|      1|Apartment / Unit ...|   false|        0|       m²|        false|https://www.domai...|\n",
       "|   15920687|  8092Y/33 Rose Lane|MELBOURNE|  VIC|    3000|-37.8150139|144.953873|        $60 per week|       1|        1|      1|Apartment / Unit ...|   false|        0|       m²|        false|https://www.domai...|\n",
       "|   16062720|1206/118 Russell ...|MELBOURNE|  VIC|    3000|-37.8135872|144.968719|       $550 per week|       2|        1|      0|Apartment / Unit ...|   false|        0|       m²|        false|https://www.domai...|\n",
       "|   16063139|625/118 Franklin ...|MELBOURNE|  VIC|    3000|-37.8082047|144.958908|                $530|       3|        2|      0|Apartment / Unit ...|   false|        0|       m²|        false|https://www.domai...|\n",
       "|   16063884|5401/464 Collins ...|MELBOURNE|  VIC|    3000|-37.8175621|144.958588|      $2500 Per Week|       3|        3|      2|Apartment / Unit ...|   false|        0|       m²|        false|https://www.domai...|\n",
       "|   16064379|1106/555 Flinders...|MELBOURNE|  VIC|    3000|-37.8209724|144.956482|       $370 per week|       1|        1|      0|Apartment / Unit ...|   false|        0|       m²|        false|https://www.domai...|\n",
       "|   16065974|1211/260 Spencer ...|MELBOURNE|  VIC|    3000|-37.8145638|144.952286|                $700|       2|        2|      0|Apartment / Unit ...|   false|        0|       m²|        false|https://www.domai...|\n",
       "|   16066003|1007/238 Flinders St|MELBOURNE|  VIC|    3000|-37.8175163|144.966492|                $320|       1|        1|      0|Apartment / Unit ...|   false|        0|       m²|        false|https://www.domai...|\n",
       "|   16067117|3405/288 Spencer ...|MELBOURNE|  VIC|    3000|-37.8137741|144.952087|                $440|       1|        1|      0|Apartment / Unit ...|   false|        0|       m²|        false|https://www.domai...|\n",
       "|   16067459|3902/220 Spencer ...|MELBOURNE|  VIC|    3000|-37.8157158|144.952957|       $650 per week|       2|        2|      1|Apartment / Unit ...|   false|        0|       m²|        false|https://www.domai...|\n",
       "|   16068338|   816/101 Therry St|MELBOURNE|  VIC|    3000| -37.807415|144.959122|New apartment No ...|       2|        2|      0|Apartment / Unit ...|   false|        0|       m²|        false|https://www.domai...|\n",
       "|   16069017|   701/101 Therry St|MELBOURNE|  VIC|    3000| -37.807415|144.959122|NEW corner apartm...|       1|        1|      0|Apartment / Unit ...|   false|        0|       m²|        false|https://www.domai...|\n",
       "|   16069309|Unit 1713/200 Spe...|MELBOURNE|  VIC|    3000| -37.816227|144.953247|       $440 per week|       1|        1|      1|Apartment / Unit ...|   false|        0|       m²|        false|https://www.domai...|\n",
       "|   16071670|1715/220 Spencer ...|MELBOURNE|  VIC|    3000|-37.8157158|144.952957|                $600|       2|        2|      1|Apartment / Unit ...|   false|        0|       m²|        false|https://www.domai...|\n",
       "|   16071806|   102/9 Bligh Place|MELBOURNE|  VIC|    3000| -37.817318|144.963715|                $600|       2|        1|      1|Apartment / Unit ...|   false|        0|       m²|        false|https://www.domai...|\n",
       "|   16071839|611/408 Lonsdale ...|MELBOURNE|  VIC|    3000|   -37.8126|  144.9604|                $350|       1|        1|      0|Apartment / Unit ...|   false|        0|       m²|        false|https://www.domai...|\n",
       "|   16072122|  3/27 Flinders Lane|MELBOURNE|  VIC|    3000|  -37.81473|144.973358|       $420 per week|       1|        1|      0|Apartment / Unit ...|   false|        0|       m²|        false|https://www.domai...|\n",
       "+-----------+--------------------+---------+-----+--------+-----------+----------+--------------------+--------+---------+-------+--------------------+--------+---------+---------+-------------+--------------------+\n",
       "only showing top 20 rows"
      ]
     },
     "execution_count": 4,
     "metadata": {},
     "output_type": "execute_result"
    }
   ],
   "source": [
    "sdf = spark.read.parquet('../data/raw/domain_data/*', hearders = True)\n",
    "\n",
    "sdf"
   ]
  },
  {
   "cell_type": "code",
   "execution_count": 5,
   "metadata": {},
   "outputs": [
    {
     "name": "stderr",
     "output_type": "stream",
     "text": [
      "                                                                                \r"
     ]
    },
    {
     "data": {
      "text/plain": [
       "15439"
      ]
     },
     "execution_count": 5,
     "metadata": {},
     "output_type": "execute_result"
    }
   ],
   "source": [
    "sdf.count()"
   ]
  },
  {
   "cell_type": "code",
   "execution_count": null,
   "metadata": {},
   "outputs": [],
   "source": []
  }
 ],
 "metadata": {
  "kernelspec": {
   "display_name": "Python 3.10.4 ('ADS')",
   "language": "python",
   "name": "python3"
  },
  "language_info": {
   "codemirror_mode": {
    "name": "ipython",
    "version": 3
   },
   "file_extension": ".py",
   "mimetype": "text/x-python",
   "name": "python",
   "nbconvert_exporter": "python",
   "pygments_lexer": "ipython3",
   "version": "3.10.4"
  },
  "orig_nbformat": 4,
  "vscode": {
   "interpreter": {
    "hash": "183132b451050d377b0440a650259019ec3f60ba0d844e8e7e0c0f7121c63925"
   }
  }
 },
 "nbformat": 4,
 "nbformat_minor": 2
}
