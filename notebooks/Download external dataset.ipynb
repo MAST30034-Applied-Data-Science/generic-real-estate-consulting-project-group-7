{
 "cells": [
  {
   "cell_type": "code",
   "execution_count": 26,
   "id": "d1fe40a0",
   "metadata": {},
   "outputs": [
    {
     "name": "stdout",
     "output_type": "stream",
     "text": [
      "Requirement already satisfied: gdown in /Users/guozixuan/opt/anaconda3/envs/myenv/lib/python3.8/site-packages (4.5.1)\n",
      "Requirement already satisfied: six in /Users/guozixuan/opt/anaconda3/envs/myenv/lib/python3.8/site-packages (from gdown) (1.16.0)\n",
      "Requirement already satisfied: filelock in /Users/guozixuan/opt/anaconda3/envs/myenv/lib/python3.8/site-packages (from gdown) (3.8.0)\n",
      "Requirement already satisfied: beautifulsoup4 in /Users/guozixuan/opt/anaconda3/envs/myenv/lib/python3.8/site-packages (from gdown) (4.11.1)\n",
      "Requirement already satisfied: requests[socks] in /Users/guozixuan/opt/anaconda3/envs/myenv/lib/python3.8/site-packages (from gdown) (2.28.1)\n",
      "Requirement already satisfied: tqdm in /Users/guozixuan/opt/anaconda3/envs/myenv/lib/python3.8/site-packages (from gdown) (4.64.0)\n",
      "Requirement already satisfied: soupsieve>1.2 in /Users/guozixuan/opt/anaconda3/envs/myenv/lib/python3.8/site-packages (from beautifulsoup4->gdown) (2.3.1)\n",
      "Requirement already satisfied: urllib3<1.27,>=1.21.1 in /Users/guozixuan/opt/anaconda3/envs/myenv/lib/python3.8/site-packages (from requests[socks]->gdown) (1.26.11)\n",
      "Requirement already satisfied: idna<4,>=2.5 in /Users/guozixuan/opt/anaconda3/envs/myenv/lib/python3.8/site-packages (from requests[socks]->gdown) (3.3)\n",
      "Requirement already satisfied: certifi>=2017.4.17 in /Users/guozixuan/opt/anaconda3/envs/myenv/lib/python3.8/site-packages (from requests[socks]->gdown) (2022.6.15)\n",
      "Requirement already satisfied: charset-normalizer<3,>=2 in /Users/guozixuan/opt/anaconda3/envs/myenv/lib/python3.8/site-packages (from requests[socks]->gdown) (2.1.0)\n",
      "Requirement already satisfied: PySocks!=1.5.7,>=1.5.6 in /Users/guozixuan/opt/anaconda3/envs/myenv/lib/python3.8/site-packages (from requests[socks]->gdown) (1.7.1)\n",
      "Note: you may need to restart the kernel to use updated packages.\n"
     ]
    }
   ],
   "source": [
    "pip install gdown"
   ]
  },
  {
   "cell_type": "code",
   "execution_count": 31,
   "id": "3a6dac44",
   "metadata": {},
   "outputs": [
    {
     "name": "stderr",
     "output_type": "stream",
     "text": [
      "Downloading...\n",
      "From: https://drive.google.com/uc?id=1J5fP5PAQSG2R6xn9mX3O0M4TlCX51kST\n",
      "To: /Users/guozixuan/Desktop/generic-real-estate-consulting-project-group-7/data/raw/train_station.csv\n",
      "100%|███████████████████████████████████████| 38.5k/38.5k [00:00<00:00, 488kB/s]\n"
     ]
    },
    {
     "data": {
      "text/plain": [
       "'../data/raw/train_station.csv'"
      ]
     },
     "execution_count": 31,
     "metadata": {},
     "output_type": "execute_result"
    }
   ],
   "source": [
    "# download train station dataset\n",
    "import gdown\n",
    "\n",
    "url_train = 'https://drive.google.com/uc?id=1J5fP5PAQSG2R6xn9mX3O0M4TlCX51kST'\n",
    "output_train = '../data/raw/train_station.csv'\n",
    "gdown.download(url_train, output_train, quiet=False)"
   ]
  },
  {
   "cell_type": "code",
   "execution_count": 32,
   "id": "d00ccf1e",
   "metadata": {},
   "outputs": [
    {
     "name": "stderr",
     "output_type": "stream",
     "text": [
      "Downloading...\n",
      "From: https://drive.google.com/uc?id=1auH1PvGb1X_auUWn-FjuhA0SirLRSK9J\n",
      "To: /Users/guozixuan/Desktop/generic-real-estate-consulting-project-group-7/data/raw/tram_stop.csv\n",
      "100%|█████████████████████████████████████████| 268k/268k [00:00<00:00, 827kB/s]\n"
     ]
    },
    {
     "data": {
      "text/plain": [
       "'../data/raw/tram_stop.csv'"
      ]
     },
     "execution_count": 32,
     "metadata": {},
     "output_type": "execute_result"
    }
   ],
   "source": [
    "# download tram stop dataset\n",
    "import gdown\n",
    "url_tram = 'https://drive.google.com/uc?id=1auH1PvGb1X_auUWn-FjuhA0SirLRSK9J'\n",
    "output_tram = '../data/raw/tram_stop.csv'\n",
    "gdown.download(url_tram, output_tram, quiet=False)"
   ]
  },
  {
   "cell_type": "code",
   "execution_count": 35,
   "id": "81e5890a",
   "metadata": {},
   "outputs": [
    {
     "name": "stderr",
     "output_type": "stream",
     "text": [
      "Downloading...\n",
      "From: https://drive.google.com/uc?id=1Lfyp0-99NIeE50nw-kcOG-jt9YXlMTkh\n",
      "To: /Users/guozixuan/Desktop/generic-real-estate-consulting-project-group-7/data/raw/bus_stop.csv\n",
      "100%|██████████████████████████████████████| 1.06M/1.06M [00:00<00:00, 1.74MB/s]\n"
     ]
    },
    {
     "data": {
      "text/plain": [
       "'../data/raw/bus_stop.csv'"
      ]
     },
     "execution_count": 35,
     "metadata": {},
     "output_type": "execute_result"
    }
   ],
   "source": [
    "# download bus stop dataset\n",
    "import gdown\n",
    "\n",
    "url_bus = 'https://drive.google.com/uc?id=1Lfyp0-99NIeE50nw-kcOG-jt9YXlMTkh'\n",
    "output_bus = '../data/raw/bus_stop.csv'\n",
    "gdown.download(url_bus, output_bus, quiet=False)"
   ]
  },
  {
   "cell_type": "code",
   "execution_count": null,
   "id": "7d70db0a",
   "metadata": {},
   "outputs": [],
   "source": []
  }
 ],
 "metadata": {
  "kernelspec": {
   "display_name": "Python 3 (ipykernel)",
   "language": "python",
   "name": "python3"
  },
  "language_info": {
   "codemirror_mode": {
    "name": "ipython",
    "version": 3
   },
   "file_extension": ".py",
   "mimetype": "text/x-python",
   "name": "python",
   "nbconvert_exporter": "python",
   "pygments_lexer": "ipython3",
   "version": "3.8.0"
  }
 },
 "nbformat": 4,
 "nbformat_minor": 5
}
