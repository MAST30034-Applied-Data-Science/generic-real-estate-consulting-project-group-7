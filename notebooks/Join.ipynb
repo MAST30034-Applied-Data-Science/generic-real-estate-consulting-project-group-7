{
 "cells": [
  {
   "cell_type": "code",
   "execution_count": 525,
   "id": "a11e4e00",
   "metadata": {},
   "outputs": [],
   "source": [
    "from bs4 import BeautifulSoup\n",
    "import requests\n",
    "\n",
    "import unicodedata\n",
    "from csv import writer\n",
    "import re\n",
    "\n",
    "import pandas as pd\n",
    "import numpy as np\n",
    "\n",
    "import json\n",
    "\n",
    "\n",
    "#spark session\n",
    "from pyspark.sql import SparkSession\n",
    "from functools import reduce\n",
    "from pyspark.sql import DataFrame\n",
    "from pyspark.sql import functions as F\n",
    "\n",
    "\n",
    "import os\n",
    "import re \n",
    "\n",
    "#folium\n",
    "import geopandas as gpd\n",
    "import re\n",
    "import folium"
   ]
  },
  {
   "cell_type": "code",
   "execution_count": 526,
   "id": "577b8732",
   "metadata": {
    "scrolled": true
   },
   "outputs": [],
   "source": [
    "# Create a spark session\n",
    "\n",
    "spark = (\n",
    "    SparkSession.builder.appName(\"MAST30034 Project 2\")\n",
    "    .config(\"spark.sql.repl.eagerEval.enabled\", True) \n",
    "    .config(\"spark.sql.parquet.cacheMetadata\", \"true\")\n",
    "    .getOrCreate()\n",
    ")\n",
    "\n",
    "#read in the parquet\n",
    "domain = spark.read.parquet('../data/raw/domain-website-data')\n"
   ]
  },
  {
   "cell_type": "code",
   "execution_count": 527,
   "id": "5ce2666c",
   "metadata": {},
   "outputs": [],
   "source": [
    "#drop NSW\n",
    "domain = domain.filter(F.col('state') == 'VIC')\n",
    "\n",
    "#drop column with too many missing values\n",
    "domain = domain.drop('land_size','land_unit','is_rural','is_retirement','url').toPandas()\n",
    "\n",
    "#filter property type, remove 'cat spcae' and 'Acreage / Semi-Rural'\n",
    "selected_property_type = ['Apartment / Unit / Flat', 'Studio', 'Townhouse',\n",
    "       'House', 'New House & Land', 'Semi-Detached', 'Villa', 'Terrace',\n",
    "       'Acreage / Semi-Rural', 'New Apartments / Off the Plan', 'Duplex',\n",
    "       'Unknown', 'Farm', 'Penthouse', 'Rural']\n",
    "\n",
    "domain= domain.loc[domain['property_type'].isin(selected_property_type)]"
   ]
  },
  {
   "cell_type": "code",
   "execution_count": 528,
   "id": "486ff41d",
   "metadata": {},
   "outputs": [],
   "source": [
    "#remove instance with 'carpark' in street name\n",
    "def carpark_flag(s):\n",
    "    pattern = re.compile('carpark|CP|car park|carspace')\n",
    "    match = re.match(pattern,s)\n",
    "    #o for non carpark, 1 for carpark\n",
    "    if match is None:\n",
    "        return 0\n",
    "    else:\n",
    "        return 1"
   ]
  },
  {
   "cell_type": "code",
   "execution_count": 529,
   "id": "691ddb70",
   "metadata": {},
   "outputs": [],
   "source": [
    "def get_rent(s):\n",
    "    pattern = re.compile('^( )*([0-9]*)( )*')\n",
    "    num = re.sub('(,)?', '',s)\n",
    "    num = re.sub('[^0-9]+', ' ',num)\n",
    "    match = re.match(pattern,num)[0].replace(\" \", \"\")\n",
    "\n",
    "    if match !='':\n",
    "        return match\n",
    "    else:\n",
    "        return 0"
   ]
  },
  {
   "cell_type": "code",
   "execution_count": 534,
   "id": "454185d4",
   "metadata": {},
   "outputs": [],
   "source": [
    "domain['street'] = domain['street'].str.lower()\n",
    "domain['carpark_flag'] = [carpark_flag(i) for i in domain['street']]\n",
    "domain['price_rent'] = [float(get_rent(i)) for i in domain['price']]\n",
    "domain['coordinate'] = domain[['longitude','latitude']].values.tolist()"
   ]
  },
  {
   "cell_type": "code",
   "execution_count": 535,
   "id": "30023a2b",
   "metadata": {},
   "outputs": [],
   "source": [
    "domain = domain[(domain.carpark_flag != 1) &\n",
    "               (domain.price_rent > 40)]\n"
   ]
  },
  {
   "cell_type": "code",
   "execution_count": null,
   "id": "9105d841",
   "metadata": {},
   "outputs": [],
   "source": []
  },
  {
   "cell_type": "code",
   "execution_count": null,
   "id": "001c0f33",
   "metadata": {},
   "outputs": [],
   "source": []
  },
  {
   "cell_type": "code",
   "execution_count": null,
   "id": "fadf0633",
   "metadata": {},
   "outputs": [],
   "source": []
  },
  {
   "cell_type": "code",
   "execution_count": 653,
   "id": "37bb1580",
   "metadata": {},
   "outputs": [],
   "source": [
    "\n",
    "domain_test = domain[domain['price_rent']<2000]\n",
    "domain_test = spark.createDataFrame(domain_test) "
   ]
  },
  {
   "cell_type": "code",
   "execution_count": 654,
   "id": "032163df",
   "metadata": {},
   "outputs": [],
   "source": [
    "import openrouteservice"
   ]
  },
  {
   "cell_type": "code",
   "execution_count": 655,
   "id": "8c1bf6ed",
   "metadata": {},
   "outputs": [],
   "source": [
    "#sample input [[13.42731, 52.51088], [13.384116, 52.533558]]\n",
    "# return dictionary of distance (m) and duration (s)\n",
    "def foot_dict(two_coordinates_list):\n",
    "    \n",
    "    route = client.directions(\n",
    "    coordinates=two_coordinates_list,\n",
    "    profile='foot-walking',\n",
    "    format='geojson',\n",
    "    options={\"avoid_features\": [\"steps\"]},\n",
    "    validate=False,\n",
    ")\n",
    "    distance_duration = route['features'][0]['properties']['summary']\n",
    "    return distance_duration\n",
    "\n",
    "\n",
    "def car_dict(two_coordinates_list):\n",
    "    \n",
    "    route = client.directions(\n",
    "    coordinates=two_coordinates_list,\n",
    "    profile='driving-car',\n",
    "    format='geojson',\n",
    "    validate=False,\n",
    ")\n",
    "    distance_duration = route['features'][0]['properties']['summary']\n",
    "    return distance_duration\n",
    "\n",
    "\n",
    "\n",
    "\n"
   ]
  },
  {
   "cell_type": "code",
   "execution_count": 661,
   "id": "275d2a58",
   "metadata": {},
   "outputs": [
    {
     "name": "stderr",
     "output_type": "stream",
     "text": [
      "/var/folders/7v/v1gh4ksn641cv86zx_w_yd840000gp/T/ipykernel_61531/4039256925.py:4: UserWarning: Geometry is in a geographic CRS. Results from 'centroid' are likely incorrect. Use 'GeoSeries.to_crs()' to re-project geometries to a projected CRS before this operation.\n",
      "\n",
      "  postcode_df['centroid'] = postcode_df['geometry'].centroid\n"
     ]
    }
   ],
   "source": [
    "#get centroid for CBD (postcode 3000)\n",
    "\n",
    "postcode_df = gpd.read_file(\"../data/raw/POSTCODE/POSTCODE_POLYGON.shp\")\n",
    "postcode_df['centroid'] = postcode_df['geometry'].centroid\n",
    "CBD_centroid = postcode_df.loc[postcode_df['POSTCODE'] == '3000']['centroid']\n",
    "CBD_centroid =[CBD_centroid.values.x[0],CBD_centroid.values.y[0]]"
   ]
  },
  {
   "cell_type": "code",
   "execution_count": 664,
   "id": "9aca6ec4",
   "metadata": {},
   "outputs": [],
   "source": [
    "def car_CBD_dict(coordinate):\n",
    "    \n",
    "    route = client.directions(\n",
    "    coordinates=[CBD_centroid,coordinate],\n",
    "    profile='driving-car',\n",
    "    validate=False,\n",
    ")\n",
    "    distance_duration = route['features'][0]['properties']['summary']\n",
    "    return distance_duration\n",
    "\n"
   ]
  },
  {
   "cell_type": "code",
   "execution_count": 665,
   "id": "a72e5031",
   "metadata": {},
   "outputs": [
    {
     "data": {
      "text/html": [
       "<table border='1'>\n",
       "<tr><th>property_id</th><th>street</th><th>suburb</th><th>state</th><th>postcode</th><th>latitude</th><th>longitude</th><th>price</th><th>bedrooms</th><th>bathrooms</th><th>parking</th><th>property_type</th><th>carpark_flag</th><th>price_rent</th><th>coordinate</th></tr>\n",
       "<tr><td>13671355</td><td>104/300 swanston ...</td><td>MELBOURNE</td><td>VIC</td><td>3000</td><td>-37.8106079</td><td>144.964584</td><td>$550</td><td>2</td><td>1</td><td>0</td><td>Apartment / Unit ...</td><td>0</td><td>550.0</td><td>[144.964584, -37....</td></tr>\n",
       "<tr><td>14868152</td><td>101/25-33 wills s...</td><td>MELBOURNE</td><td>VIC</td><td>3000</td><td>-37.8107758</td><td>144.956924</td><td>$400</td><td>1</td><td>1</td><td>0</td><td>Apartment / Unit ...</td><td>0</td><td>400.0</td><td>[144.956924, -37....</td></tr>\n",
       "<tr><td>15572564</td><td>2108/288 spencer ...</td><td>MELBOURNE</td><td>VIC</td><td>3000</td><td>-37.8137741</td><td>144.952087</td><td>$350</td><td>1</td><td>1</td><td>0</td><td>Apartment / Unit ...</td><td>0</td><td>350.0</td><td>[144.952087, -37....</td></tr>\n",
       "<tr><td>15831027</td><td>2201/288 spencer ...</td><td>MELBOURNE</td><td>VIC</td><td>3000</td><td>-37.8137741</td><td>144.952087</td><td>$400</td><td>1</td><td>1</td><td>0</td><td>Apartment / Unit ...</td><td>0</td><td>400.0</td><td>[144.952087, -37....</td></tr>\n",
       "<tr><td>15996004</td><td>502/5 sutherland ...</td><td>MELBOURNE</td><td>VIC</td><td>3000</td><td>-37.8114166</td><td>144.960846</td><td>$430 per week</td><td>1</td><td>1</td><td>0</td><td>Apartment / Unit ...</td><td>0</td><td>430.0</td><td>[144.960846, -37....</td></tr>\n",
       "<tr><td>16033929</td><td>4706/500 elizabet...</td><td>MELBOURNE</td><td>VIC</td><td>3000</td><td>-37.8072433</td><td>144.960281</td><td>$570 per week</td><td>2</td><td>2</td><td>0</td><td>Apartment / Unit ...</td><td>0</td><td>570.0</td><td>[144.960281, -37....</td></tr>\n",
       "<tr><td>16046123</td><td>2413/220 spencer ...</td><td>MELBOURNE</td><td>VIC</td><td>3000</td><td>-37.8157158</td><td>144.952957</td><td>$450 per week</td><td>2</td><td>2</td><td>1</td><td>Apartment / Unit ...</td><td>0</td><td>450.0</td><td>[144.952957, -37....</td></tr>\n",
       "<tr><td>16063063</td><td>3601/8 sutherland...</td><td>MELBOURNE</td><td>VIC</td><td>3000</td><td>-37.8112869</td><td>144.96106</td><td>$720 per week</td><td>3</td><td>2</td><td>0</td><td>Apartment / Unit ...</td><td>0</td><td>720.0</td><td>[144.96106, -37.8...</td></tr>\n",
       "<tr><td>16069309</td><td>unit 1713/200 spe...</td><td>MELBOURNE</td><td>VIC</td><td>3000</td><td>-37.816227</td><td>144.953247</td><td>$440 per week</td><td>1</td><td>1</td><td>1</td><td>Apartment / Unit ...</td><td>0</td><td>440.0</td><td>[144.953247, -37....</td></tr>\n",
       "<tr><td>16071670</td><td>1715/220 spencer ...</td><td>MELBOURNE</td><td>VIC</td><td>3000</td><td>-37.8157158</td><td>144.952957</td><td>$600</td><td>2</td><td>2</td><td>1</td><td>Apartment / Unit ...</td><td>0</td><td>600.0</td><td>[144.952957, -37....</td></tr>\n",
       "<tr><td>16071806</td><td>102/9 bligh place</td><td>MELBOURNE</td><td>VIC</td><td>3000</td><td>-37.817318</td><td>144.963715</td><td>$600</td><td>2</td><td>1</td><td>1</td><td>Apartment / Unit ...</td><td>0</td><td>600.0</td><td>[144.963715, -37....</td></tr>\n",
       "<tr><td>16072122</td><td>3/27 flinders lane</td><td>MELBOURNE</td><td>VIC</td><td>3000</td><td>-37.81473</td><td>144.973358</td><td>$420 per week</td><td>1</td><td>1</td><td>0</td><td>Apartment / Unit ...</td><td>0</td><td>420.0</td><td>[144.973358, -37....</td></tr>\n",
       "<tr><td>16073870</td><td>1211/200 spencer ...</td><td>MELBOURNE</td><td>VIC</td><td>3000</td><td>-37.816227</td><td>144.953247</td><td>$480 per week</td><td>1</td><td>1</td><td>1</td><td>Apartment / Unit ...</td><td>0</td><td>480.0</td><td>[144.953247, -37....</td></tr>\n",
       "<tr><td>16073890</td><td>1901/368 st kilda...</td><td>MELBOURNE</td><td>VIC</td><td>3000</td><td>-37.83181</td><td>144.971024</td><td>$1800 Per Week</td><td>3</td><td>2</td><td>2</td><td>Apartment / Unit ...</td><td>0</td><td>1800.0</td><td>[144.971024, -37....</td></tr>\n",
       "<tr><td>16074279</td><td>2905b/11 rose lane</td><td>MELBOURNE</td><td>VIC</td><td>3000</td><td>-37.8154449</td><td>144.954117</td><td>$575 per week</td><td>2</td><td>1</td><td>1</td><td>Apartment / Unit ...</td><td>0</td><td>575.0</td><td>[144.954117, -37....</td></tr>\n",
       "<tr><td>16076141</td><td>2004/288 spencer ...</td><td>MELBOURNE</td><td>VIC</td><td>3000</td><td>-37.8137741</td><td>144.952087</td><td>$360 Per Week</td><td>1</td><td>1</td><td>0</td><td>Apartment / Unit ...</td><td>0</td><td>360.0</td><td>[144.952087, -37....</td></tr>\n",
       "<tr><td>16076491</td><td>3510/442 elizabet...</td><td>MELBOURNE</td><td>VIC</td><td>3000</td><td>-37.80829</td><td>144.960846</td><td>$680</td><td>2</td><td>1</td><td>0</td><td>Apartment / Unit ...</td><td>0</td><td>680.0</td><td>[144.960846, -37....</td></tr>\n",
       "<tr><td>16076773</td><td>9/15 rankins lane</td><td>MELBOURNE</td><td>VIC</td><td>3000</td><td>-37.813942</td><td>144.9623</td><td>$900.00 per week</td><td>2</td><td>2</td><td>0</td><td>Apartment / Unit ...</td><td>0</td><td>900.0</td><td>[144.9623, -37.81...</td></tr>\n",
       "<tr><td>16076846</td><td>g11/61 mackenzie ...</td><td>MELBOURNE</td><td>VIC</td><td>3000</td><td>-37.8078728</td><td>144.966309</td><td>$550.00 per week</td><td>2</td><td>1</td><td>1</td><td>Apartment / Unit ...</td><td>0</td><td>550.0</td><td>[144.966309, -37....</td></tr>\n",
       "<tr><td>16076879</td><td>2205/22-24 jane b...</td><td>MELBOURNE</td><td>VIC</td><td>3000</td><td>-37.81022</td><td>144.966263</td><td>$550</td><td>2</td><td>1</td><td>0</td><td>Apartment / Unit ...</td><td>0</td><td>550.0</td><td>[144.966263, -37....</td></tr>\n",
       "</table>\n",
       "only showing top 20 rows\n"
      ],
      "text/plain": [
       "+-----------+--------------------+---------+-----+--------+-----------+----------+----------------+--------+---------+-------+--------------------+------------+----------+--------------------+\n",
       "|property_id|              street|   suburb|state|postcode|   latitude| longitude|           price|bedrooms|bathrooms|parking|       property_type|carpark_flag|price_rent|          coordinate|\n",
       "+-----------+--------------------+---------+-----+--------+-----------+----------+----------------+--------+---------+-------+--------------------+------------+----------+--------------------+\n",
       "|   13671355|104/300 swanston ...|MELBOURNE|  VIC|    3000|-37.8106079|144.964584|            $550|       2|        1|      0|Apartment / Unit ...|           0|     550.0|[144.964584, -37....|\n",
       "|   14868152|101/25-33 wills s...|MELBOURNE|  VIC|    3000|-37.8107758|144.956924|            $400|       1|        1|      0|Apartment / Unit ...|           0|     400.0|[144.956924, -37....|\n",
       "|   15572564|2108/288 spencer ...|MELBOURNE|  VIC|    3000|-37.8137741|144.952087|            $350|       1|        1|      0|Apartment / Unit ...|           0|     350.0|[144.952087, -37....|\n",
       "|   15831027|2201/288 spencer ...|MELBOURNE|  VIC|    3000|-37.8137741|144.952087|            $400|       1|        1|      0|Apartment / Unit ...|           0|     400.0|[144.952087, -37....|\n",
       "|   15996004|502/5 sutherland ...|MELBOURNE|  VIC|    3000|-37.8114166|144.960846|   $430 per week|       1|        1|      0|Apartment / Unit ...|           0|     430.0|[144.960846, -37....|\n",
       "|   16033929|4706/500 elizabet...|MELBOURNE|  VIC|    3000|-37.8072433|144.960281|   $570 per week|       2|        2|      0|Apartment / Unit ...|           0|     570.0|[144.960281, -37....|\n",
       "|   16046123|2413/220 spencer ...|MELBOURNE|  VIC|    3000|-37.8157158|144.952957|   $450 per week|       2|        2|      1|Apartment / Unit ...|           0|     450.0|[144.952957, -37....|\n",
       "|   16063063|3601/8 sutherland...|MELBOURNE|  VIC|    3000|-37.8112869| 144.96106|   $720 per week|       3|        2|      0|Apartment / Unit ...|           0|     720.0|[144.96106, -37.8...|\n",
       "|   16069309|unit 1713/200 spe...|MELBOURNE|  VIC|    3000| -37.816227|144.953247|   $440 per week|       1|        1|      1|Apartment / Unit ...|           0|     440.0|[144.953247, -37....|\n",
       "|   16071670|1715/220 spencer ...|MELBOURNE|  VIC|    3000|-37.8157158|144.952957|            $600|       2|        2|      1|Apartment / Unit ...|           0|     600.0|[144.952957, -37....|\n",
       "|   16071806|   102/9 bligh place|MELBOURNE|  VIC|    3000| -37.817318|144.963715|            $600|       2|        1|      1|Apartment / Unit ...|           0|     600.0|[144.963715, -37....|\n",
       "|   16072122|  3/27 flinders lane|MELBOURNE|  VIC|    3000|  -37.81473|144.973358|   $420 per week|       1|        1|      0|Apartment / Unit ...|           0|     420.0|[144.973358, -37....|\n",
       "|   16073870|1211/200 spencer ...|MELBOURNE|  VIC|    3000| -37.816227|144.953247|   $480 per week|       1|        1|      1|Apartment / Unit ...|           0|     480.0|[144.953247, -37....|\n",
       "|   16073890|1901/368 st kilda...|MELBOURNE|  VIC|    3000|  -37.83181|144.971024|  $1800 Per Week|       3|        2|      2|Apartment / Unit ...|           0|    1800.0|[144.971024, -37....|\n",
       "|   16074279|  2905b/11 rose lane|MELBOURNE|  VIC|    3000|-37.8154449|144.954117|   $575 per week|       2|        1|      1|Apartment / Unit ...|           0|     575.0|[144.954117, -37....|\n",
       "|   16076141|2004/288 spencer ...|MELBOURNE|  VIC|    3000|-37.8137741|144.952087|   $360 Per Week|       1|        1|      0|Apartment / Unit ...|           0|     360.0|[144.952087, -37....|\n",
       "|   16076491|3510/442 elizabet...|MELBOURNE|  VIC|    3000|  -37.80829|144.960846|            $680|       2|        1|      0|Apartment / Unit ...|           0|     680.0|[144.960846, -37....|\n",
       "|   16076773|   9/15 rankins lane|MELBOURNE|  VIC|    3000| -37.813942|  144.9623|$900.00 per week|       2|        2|      0|Apartment / Unit ...|           0|     900.0|[144.9623, -37.81...|\n",
       "|   16076846|g11/61 mackenzie ...|MELBOURNE|  VIC|    3000|-37.8078728|144.966309|$550.00 per week|       2|        1|      1|Apartment / Unit ...|           0|     550.0|[144.966309, -37....|\n",
       "|   16076879|2205/22-24 jane b...|MELBOURNE|  VIC|    3000|  -37.81022|144.966263|            $550|       2|        1|      0|Apartment / Unit ...|           0|     550.0|[144.966263, -37....|\n",
       "+-----------+--------------------+---------+-----+--------+-----------+----------+----------------+--------+---------+-------+--------------------+------------+----------+--------------------+\n",
       "only showing top 20 rows"
      ]
     },
     "execution_count": 665,
     "metadata": {},
     "output_type": "execute_result"
    }
   ],
   "source": [
    "domain_test"
   ]
  },
  {
   "cell_type": "code",
   "execution_count": null,
   "id": "f7208d9e",
   "metadata": {},
   "outputs": [],
   "source": []
  }
 ],
 "metadata": {
  "kernelspec": {
   "display_name": "Python 3 (ipykernel)",
   "language": "python",
   "name": "python3"
  },
  "language_info": {
   "codemirror_mode": {
    "name": "ipython",
    "version": 3
   },
   "file_extension": ".py",
   "mimetype": "text/x-python",
   "name": "python",
   "nbconvert_exporter": "python",
   "pygments_lexer": "ipython3",
   "version": "3.10.5"
  }
 },
 "nbformat": 4,
 "nbformat_minor": 5
}
