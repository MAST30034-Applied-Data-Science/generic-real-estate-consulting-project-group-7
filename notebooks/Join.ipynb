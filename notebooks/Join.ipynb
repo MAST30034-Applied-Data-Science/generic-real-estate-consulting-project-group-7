{
 "cells": [
  {
   "cell_type": "code",
   "execution_count": 525,
   "id": "a11e4e00",
   "metadata": {},
   "outputs": [],
   "source": [
    "from bs4 import BeautifulSoup\n",
    "import requests\n",
    "\n",
    "import unicodedata\n",
    "from csv import writer\n",
    "import re\n",
    "\n",
    "import pandas as pd\n",
    "import numpy as np\n",
    "\n",
    "import json\n",
    "\n",
    "\n",
    "#spark session\n",
    "from pyspark.sql import SparkSession\n",
    "from functools import reduce\n",
    "from pyspark.sql import DataFrame\n",
    "from pyspark.sql import functions as F\n",
    "\n",
    "\n",
    "import os\n",
    "import re \n",
    "\n",
    "#folium\n",
    "import geopandas as gpd\n",
    "import re\n",
    "import folium"
   ]
  },
  {
   "cell_type": "code",
   "execution_count": 526,
   "id": "577b8732",
   "metadata": {
    "scrolled": true
   },
   "outputs": [],
   "source": [
    "# Create a spark session\n",
    "\n",
    "spark = (\n",
    "    SparkSession.builder.appName(\"MAST30034 Project 2\")\n",
    "    .config(\"spark.sql.repl.eagerEval.enabled\", True) \n",
    "    .config(\"spark.sql.parquet.cacheMetadata\", \"true\")\n",
    "    .getOrCreate()\n",
    ")\n",
    "\n",
    "#read in the parquet\n",
    "domain = spark.read.parquet('../data/raw/domain-website-data')\n"
   ]
  },
  {
   "cell_type": "code",
   "execution_count": 527,
   "id": "5ce2666c",
   "metadata": {},
   "outputs": [],
   "source": [
    "#drop NSW\n",
    "domain = domain.filter(F.col('state') == 'VIC')\n",
    "\n",
    "#drop column with too many missing values\n",
    "domain = domain.drop('land_size','land_unit','is_rural','is_retirement','url').toPandas()\n",
    "\n",
    "#filter property type, remove 'cat spcae' and 'Acreage / Semi-Rural'\n",
    "selected_property_type = ['Apartment / Unit / Flat', 'Studio', 'Townhouse',\n",
    "       'House', 'New House & Land', 'Semi-Detached', 'Villa', 'Terrace',\n",
    "       'Acreage / Semi-Rural', 'New Apartments / Off the Plan', 'Duplex',\n",
    "       'Unknown', 'Farm', 'Penthouse', 'Rural']\n",
    "\n",
    "domain= domain.loc[domain['property_type'].isin(selected_property_type)]"
   ]
  },
  {
   "cell_type": "code",
   "execution_count": 528,
   "id": "486ff41d",
   "metadata": {},
   "outputs": [],
   "source": [
    "#remove instance with 'carpark' in street name\n",
    "def carpark_flag(s):\n",
    "    pattern = re.compile('carpark|CP|car park|carspace')\n",
    "    match = re.match(pattern,s)\n",
    "    #o for non carpark, 1 for carpark\n",
    "    if match is None:\n",
    "        return 0\n",
    "    else:\n",
    "        return 1"
   ]
  },
  {
   "cell_type": "code",
   "execution_count": 529,
   "id": "691ddb70",
   "metadata": {},
   "outputs": [],
   "source": [
    "def get_rent(s):\n",
    "    pattern = re.compile('^( )*([0-9]*)( )*')\n",
    "    num = re.sub('(,)?', '',s)\n",
    "    num = re.sub('[^0-9]+', ' ',num)\n",
    "    match = re.match(pattern,num)[0].replace(\" \", \"\")\n",
    "\n",
    "    if match !='':\n",
    "        return match\n",
    "    else:\n",
    "        return 0"
   ]
  },
  {
   "cell_type": "code",
   "execution_count": 534,
   "id": "454185d4",
   "metadata": {},
   "outputs": [],
   "source": [
    "domain['street'] = domain['street'].str.lower()\n",
    "domain['carpark_flag'] = [carpark_flag(i) for i in domain['street']]\n",
    "domain['price_rent'] = [float(get_rent(i)) for i in domain['price']]\n",
    "domain['coordinate'] = domain[['longitude','latitude']].values.tolist()"
   ]
  },
  {
   "cell_type": "code",
   "execution_count": 535,
   "id": "30023a2b",
   "metadata": {},
   "outputs": [],
   "source": [
    "domain = domain[(domain.carpark_flag != 1) &\n",
    "               (domain.price_rent > 40)]\n"
   ]
  },
  {
   "cell_type": "code",
   "execution_count": null,
   "id": "d2f8fb71",
   "metadata": {},
   "outputs": [],
   "source": []
  },
  {
   "cell_type": "code",
   "execution_count": null,
   "id": "fdbd9bed",
   "metadata": {},
   "outputs": [],
   "source": []
  },
  {
   "cell_type": "code",
   "execution_count": null,
   "id": "059e70e8",
   "metadata": {},
   "outputs": [],
   "source": []
  },
  {
   "cell_type": "code",
   "execution_count": 672,
   "id": "acca2793",
   "metadata": {},
   "outputs": [],
   "source": [
    "import openrouteservice\n",
    "domain_test = domain[domain['price_rent']<2000]\n",
    "#domain_test = spark.createDataFrame(domain_test) "
   ]
  },
  {
   "cell_type": "code",
   "execution_count": 679,
   "id": "7388a2e8",
   "metadata": {},
   "outputs": [],
   "source": [
    "#sample input [[13.42731, 52.51088], [13.384116, 52.533558]]\n",
    "# return dictionary of distance (m) and duration (s)\n",
    "def foot_dict(two_coordinates_list):\n",
    "    \n",
    "    route = client.directions(\n",
    "    coordinates=two_coordinates_list,\n",
    "    profile='foot-walking',\n",
    "    format='geojson',\n",
    "    options={\"avoid_features\": [\"steps\"]},\n",
    "    validate=False,\n",
    ")\n",
    "    distance_duration = route['features'][0]['properties']['summary']\n",
    "    return distance_duration\n",
    "\n",
    "\n",
    "def car_dict(two_coordinates_list):\n",
    "    \n",
    "    route = client.directions(\n",
    "    coordinates=two_coordinates_list,\n",
    "    profile='driving-car',\n",
    "    format='geojson',\n",
    "    validate=False,\n",
    ")\n",
    "    distance_duration = route['features'][0]['properties']['summary']\n",
    "    return distance_duration\n",
    "\n",
    "\n",
    "\n"
   ]
  },
  {
   "cell_type": "code",
   "execution_count": 680,
   "id": "50e10b58",
   "metadata": {},
   "outputs": [
    {
     "name": "stderr",
     "output_type": "stream",
     "text": [
      "/var/folders/7v/v1gh4ksn641cv86zx_w_yd840000gp/T/ipykernel_61531/3385975450.py:4: UserWarning: Geometry is in a geographic CRS. Results from 'centroid' are likely incorrect. Use 'GeoSeries.to_crs()' to re-project geometries to a projected CRS before this operation.\n",
      "\n",
      "  postcode_df['centroid'] = postcode_df['geometry'].centroid\n"
     ]
    }
   ],
   "source": [
    "#get centroid for CBD (postcode 3000)\n",
    "\n",
    "postcode_df = gpd.read_file(\"../data/raw/POSTCODE/POSTCODE_POLYGON.shp\")\n",
    "postcode_df['centroid'] = postcode_df['geometry'].centroid\n",
    "CBD_centroid = postcode_df.loc[postcode_df['POSTCODE'] == '3000']['centroid']\n",
    "CBD_centroid =[CBD_centroid.values.x[0],CBD_centroid.values.y[0]]"
   ]
  },
  {
   "cell_type": "code",
   "execution_count": 700,
   "id": "df64a287",
   "metadata": {},
   "outputs": [
    {
     "data": {
      "text/plain": [
       "0    [144.964584, -37.8106079]\n",
       "1    [144.956924, -37.8107758]\n",
       "2    [144.952087, -37.8137741]\n",
       "3    [144.952087, -37.8137741]\n",
       "4    [144.960846, -37.8114166]\n",
       "Name: coordinate, dtype: object"
      ]
     },
     "execution_count": 700,
     "metadata": {},
     "output_type": "execute_result"
    }
   ],
   "source": [
    "domain_test['coordinate'][:5]"
   ]
  },
  {
   "cell_type": "code",
   "execution_count": 711,
   "id": "2cd32caf",
   "metadata": {},
   "outputs": [],
   "source": [
    "def car_CBD_dict(coordinates_list):\n",
    "    dic = {'distance':[],'duration':[]}\n",
    "    for i in coordinates_list:\n",
    "        route = client.directions(\n",
    "        coordinates= [i, CBD_centroid],\n",
    "        profile='driving-car',\n",
    "        format='geojson',\n",
    "        validate=False,\n",
    "    )\n",
    "        dic['distance'].append(route['features'][0]['properties']['summary']['distance'])\n",
    "        dic['duration'].append(route['features'][0]['properties']['summary']['duration'])\n",
    "    return dic"
   ]
  },
  {
   "cell_type": "code",
   "execution_count": null,
   "id": "d605059a",
   "metadata": {},
   "outputs": [],
   "source": [
    "car_CBD_info = car_CBD_dict(domain_test['coordinate'][:])"
   ]
  },
  {
   "cell_type": "code",
   "execution_count": null,
   "id": "9e93cd72",
   "metadata": {},
   "outputs": [],
   "source": []
  }
 ],
 "metadata": {
  "kernelspec": {
   "display_name": "Python 3 (ipykernel)",
   "language": "python",
   "name": "python3"
  },
  "language_info": {
   "codemirror_mode": {
    "name": "ipython",
    "version": 3
   },
   "file_extension": ".py",
   "mimetype": "text/x-python",
   "name": "python",
   "nbconvert_exporter": "python",
   "pygments_lexer": "ipython3",
   "version": "3.10.5"
  }
 },
 "nbformat": 4,
 "nbformat_minor": 5
}
