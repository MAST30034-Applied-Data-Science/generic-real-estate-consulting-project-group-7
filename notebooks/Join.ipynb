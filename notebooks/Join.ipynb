{
 "cells": [
  {
   "cell_type": "code",
   "execution_count": 525,
   "id": "a11e4e00",
   "metadata": {},
   "outputs": [],
   "source": [
    "from bs4 import BeautifulSoup\n",
    "import requests\n",
    "\n",
    "import unicodedata\n",
    "from csv import writer\n",
    "import re\n",
    "\n",
    "import pandas as pd\n",
    "import numpy as np\n",
    "\n",
    "import json\n",
    "\n",
    "\n",
    "#spark session\n",
    "from pyspark.sql import SparkSession\n",
    "from functools import reduce\n",
    "from pyspark.sql import DataFrame\n",
    "from pyspark.sql import functions as F\n",
    "\n",
    "\n",
    "import os\n",
    "import re \n",
    "\n",
    "#folium\n",
    "import geopandas as gpd\n",
    "import re\n",
    "import folium"
   ]
  },
  {
   "cell_type": "code",
   "execution_count": 526,
   "id": "577b8732",
   "metadata": {
    "scrolled": true
   },
   "outputs": [],
   "source": [
    "# Create a spark session\n",
    "\n",
    "spark = (\n",
    "    SparkSession.builder.appName(\"MAST30034 Project 2\")\n",
    "    .config(\"spark.sql.repl.eagerEval.enabled\", True) \n",
    "    .config(\"spark.sql.parquet.cacheMetadata\", \"true\")\n",
    "    .getOrCreate()\n",
    ")\n",
    "\n",
    "#read in the parquet\n",
    "domain = spark.read.parquet('../data/raw/domain-website-data')\n"
   ]
  },
  {
   "cell_type": "code",
   "execution_count": 527,
   "id": "5ce2666c",
   "metadata": {},
   "outputs": [],
   "source": [
    "#drop NSW\n",
    "domain = domain.filter(F.col('state') == 'VIC')\n",
    "\n",
    "#drop column with too many missing values\n",
    "domain = domain.drop('land_size','land_unit','is_rural','is_retirement','url').toPandas()\n",
    "\n",
    "#filter property type, remove 'cat spcae' and 'Acreage / Semi-Rural'\n",
    "selected_property_type = ['Apartment / Unit / Flat', 'Studio', 'Townhouse',\n",
    "       'House', 'New House & Land', 'Semi-Detached', 'Villa', 'Terrace',\n",
    "       'Acreage / Semi-Rural', 'New Apartments / Off the Plan', 'Duplex',\n",
    "       'Unknown', 'Farm', 'Penthouse', 'Rural']\n",
    "\n",
    "domain= domain.loc[domain['property_type'].isin(selected_property_type)]"
   ]
  },
  {
   "cell_type": "code",
   "execution_count": 528,
   "id": "486ff41d",
   "metadata": {},
   "outputs": [],
   "source": [
    "#remove instance with 'carpark' in street name\n",
    "def carpark_flag(s):\n",
    "    pattern = re.compile('carpark|CP|car park|carspace')\n",
    "    match = re.match(pattern,s)\n",
    "    #o for non carpark, 1 for carpark\n",
    "    if match is None:\n",
    "        return 0\n",
    "    else:\n",
    "        return 1"
   ]
  },
  {
   "cell_type": "code",
   "execution_count": 529,
   "id": "691ddb70",
   "metadata": {},
   "outputs": [],
   "source": [
    "def get_rent(s):\n",
    "    pattern = re.compile('^( )*([0-9]*)( )*')\n",
    "    num = re.sub('(,)?', '',s)\n",
    "    num = re.sub('[^0-9]+', ' ',num)\n",
    "    match = re.match(pattern,num)[0].replace(\" \", \"\")\n",
    "\n",
    "    if match !='':\n",
    "        return match\n",
    "    else:\n",
    "        return 0"
   ]
  },
  {
   "cell_type": "code",
   "execution_count": 534,
   "id": "454185d4",
   "metadata": {},
   "outputs": [],
   "source": [
    "domain['street'] = domain['street'].str.lower()\n",
    "domain['carpark_flag'] = [carpark_flag(i) for i in domain['street']]\n",
    "domain['price_rent'] = [float(get_rent(i)) for i in domain['price']]\n",
    "domain['coordinate'] = domain[['longitude','latitude']].values.tolist()"
   ]
  },
  {
   "cell_type": "code",
   "execution_count": 535,
   "id": "30023a2b",
   "metadata": {},
   "outputs": [],
   "source": [
    "domain = domain[(domain.carpark_flag != 1) &\n",
    "               (domain.price_rent > 40)]\n"
   ]
  },
  {
   "cell_type": "code",
   "execution_count": 537,
   "id": "c7d8eaf4",
   "metadata": {},
   "outputs": [
    {
     "data": {
      "text/plain": [
       "0        [144.964584, -37.8106079]\n",
       "1        [144.956924, -37.8107758]\n",
       "2        [144.952087, -37.8137741]\n",
       "3        [144.952087, -37.8137741]\n",
       "4        [144.960846, -37.8114166]\n",
       "                   ...            \n",
       "15252     [145.127548, -37.052784]\n",
       "15254     [146.327637, -38.324482]\n",
       "15255    [145.363983, -37.8530846]\n",
       "15256       [146.6155, -38.068634]\n",
       "15257       [145.411179, -37.9051]\n",
       "Name: coordinate, Length: 14733, dtype: object"
      ]
     },
     "execution_count": 537,
     "metadata": {},
     "output_type": "execute_result"
    }
   ],
   "source": [
    "domain_test = domain[domain['price_rent']<2000]\n",
    "domain_test['coordinate']"
   ]
  },
  {
   "cell_type": "code",
   "execution_count": 498,
   "id": "032163df",
   "metadata": {},
   "outputs": [],
   "source": [
    "import openrouteservice"
   ]
  },
  {
   "cell_type": "code",
   "execution_count": 517,
   "id": "8300ee0a",
   "metadata": {},
   "outputs": [],
   "source": [
    "#sample input [[13.42731, 52.51088], [13.384116, 52.533558]], return \n",
    "def foot_dict(two_coordinates_list):\n",
    "    \n",
    "    route = client.directions(\n",
    "    coordinates=two_coordinates_list,\n",
    "    profile='foot-walking',\n",
    "    format='geojson',\n",
    "    options={\"avoid_features\": [\"steps\"]},\n",
    "    validate=False,\n",
    ")\n",
    "\n",
    "    #access foot distance\n",
    "    distance_duration = route['features'][0]['properties']['summary']\n",
    "    return distance_duration"
   ]
  },
  {
   "cell_type": "code",
   "execution_count": 538,
   "id": "5d879cb2",
   "metadata": {},
   "outputs": [
    {
     "data": {
      "text/plain": [
       "{'distance': 833.1, 'duration': 599.8}"
      ]
     },
     "execution_count": 538,
     "metadata": {},
     "output_type": "execute_result"
    }
   ],
   "source": [
    "#return duration in sec , distance in m\n",
    "foot_dict([domain_test['coordinate'][0],domain_test['coordinate'][1]])"
   ]
  },
  {
   "cell_type": "code",
   "execution_count": 539,
   "id": "0877d7aa",
   "metadata": {},
   "outputs": [
    {
     "data": {
      "text/plain": [
       "{'durations': [[0.0, 599.82], [599.82, 0.0]],\n",
       " 'distances': [[0.0, 833.1], [833.1, 0.0]],\n",
       " 'destinations': [{'location': [144.964549, -37.810687],\n",
       "   'snapped_distance': 9.34},\n",
       "  {'location': [144.957112, -37.810721], 'snapped_distance': 17.61}],\n",
       " 'sources': [{'location': [144.964549, -37.810687], 'snapped_distance': 9.34},\n",
       "  {'location': [144.957112, -37.810721], 'snapped_distance': 17.61}],\n",
       " 'metadata': {'attribution': 'openrouteservice.org | OpenStreetMap contributors',\n",
       "  'service': 'matrix',\n",
       "  'timestamp': 1662789191531,\n",
       "  'query': {'locations': [[144.964584, -37.8106079],\n",
       "    [144.956924, -37.8107758]],\n",
       "   'profile': 'foot-walking',\n",
       "   'responseType': 'json',\n",
       "   'metricsStrings': ['DISTANCE', 'DURATION'],\n",
       "   'metrics': ['distance', 'duration']},\n",
       "  'engine': {'version': '6.7.0',\n",
       "   'build_date': '2022-02-18T19:37:41Z',\n",
       "   'graph_date': '2022-08-30T10:07:49Z'}}}"
      ]
     },
     "execution_count": 539,
     "metadata": {},
     "output_type": "execute_result"
    }
   ],
   "source": [
    "coordinates= [domain_test['coordinate'][0],domain_test['coordinate'][1]]\n",
    "matrix = client.distance_matrix(\n",
    "    locations=coordinates,\n",
    "    profile='foot-walking',\n",
    "    metrics=['distance', 'duration'],\n",
    "    validate=False,\n",
    ")\n",
    "matrix"
   ]
  },
  {
   "cell_type": "code",
   "execution_count": 495,
   "id": "59b26143",
   "metadata": {},
   "outputs": [
    {
     "name": "stdout",
     "output_type": "stream",
     "text": [
      "Durations in secs: [[0.0, 2758.8, 3692.7, 3732.83], [2758.8, 0.0, 1986.95, 3954.29], [3692.7, 1986.95, 0.0, 2510.81], [3732.83, 3954.29, 2510.81, 0.0]]\n",
      "\n",
      "Distances in m: [[0.0, 3831.75, 5128.85, 5184.59], [3831.75, 0.0, 2759.72, 5492.19], [5128.85, 2759.72, 0.0, 3487.3], [5184.59, 5492.19, 3487.3, 0.0]]\n"
     ]
    },
    {
     "data": {
      "text/html": [
       "<div style=\"width:100%;\"><div style=\"position:relative;width:100%;height:0;padding-bottom:60%;\"><span style=\"color:#565656\">Make this Notebook Trusted to load map: File -> Trust Notebook</span><iframe srcdoc=\"&lt;!DOCTYPE html&gt;\n",
       "&lt;head&gt;    \n",
       "    &lt;meta http-equiv=&quot;content-type&quot; content=&quot;text/html; charset=UTF-8&quot; /&gt;\n",
       "    \n",
       "        &lt;script&gt;\n",
       "            L_NO_TOUCH = false;\n",
       "            L_DISABLE_3D = false;\n",
       "        &lt;/script&gt;\n",
       "    \n",
       "    &lt;style&gt;html, body {width: 100%;height: 100%;margin: 0;padding: 0;}&lt;/style&gt;\n",
       "    &lt;style&gt;#map {position:absolute;top:0;bottom:0;right:0;left:0;}&lt;/style&gt;\n",
       "    &lt;script src=&quot;https://cdn.jsdelivr.net/npm/leaflet@1.6.0/dist/leaflet.js&quot;&gt;&lt;/script&gt;\n",
       "    &lt;script src=&quot;https://code.jquery.com/jquery-1.12.4.min.js&quot;&gt;&lt;/script&gt;\n",
       "    &lt;script src=&quot;https://maxcdn.bootstrapcdn.com/bootstrap/3.2.0/js/bootstrap.min.js&quot;&gt;&lt;/script&gt;\n",
       "    &lt;script src=&quot;https://cdnjs.cloudflare.com/ajax/libs/Leaflet.awesome-markers/2.0.2/leaflet.awesome-markers.js&quot;&gt;&lt;/script&gt;\n",
       "    &lt;link rel=&quot;stylesheet&quot; href=&quot;https://cdn.jsdelivr.net/npm/leaflet@1.6.0/dist/leaflet.css&quot;/&gt;\n",
       "    &lt;link rel=&quot;stylesheet&quot; href=&quot;https://maxcdn.bootstrapcdn.com/bootstrap/3.2.0/css/bootstrap.min.css&quot;/&gt;\n",
       "    &lt;link rel=&quot;stylesheet&quot; href=&quot;https://maxcdn.bootstrapcdn.com/bootstrap/3.2.0/css/bootstrap-theme.min.css&quot;/&gt;\n",
       "    &lt;link rel=&quot;stylesheet&quot; href=&quot;https://maxcdn.bootstrapcdn.com/font-awesome/4.6.3/css/font-awesome.min.css&quot;/&gt;\n",
       "    &lt;link rel=&quot;stylesheet&quot; href=&quot;https://cdnjs.cloudflare.com/ajax/libs/Leaflet.awesome-markers/2.0.2/leaflet.awesome-markers.css&quot;/&gt;\n",
       "    &lt;link rel=&quot;stylesheet&quot; href=&quot;https://cdn.jsdelivr.net/gh/python-visualization/folium/folium/templates/leaflet.awesome.rotate.min.css&quot;/&gt;\n",
       "    \n",
       "            &lt;meta name=&quot;viewport&quot; content=&quot;width=device-width,\n",
       "                initial-scale=1.0, maximum-scale=1.0, user-scalable=no&quot; /&gt;\n",
       "            &lt;style&gt;\n",
       "                #map_c1efb43f9ade48df3587ee349d027393 {\n",
       "                    position: relative;\n",
       "                    width: 100.0%;\n",
       "                    height: 100.0%;\n",
       "                    left: 0.0%;\n",
       "                    top: 0.0%;\n",
       "                }\n",
       "            &lt;/style&gt;\n",
       "        \n",
       "&lt;/head&gt;\n",
       "&lt;body&gt;    \n",
       "    \n",
       "            &lt;div class=&quot;folium-map&quot; id=&quot;map_c1efb43f9ade48df3587ee349d027393&quot; &gt;&lt;/div&gt;\n",
       "        \n",
       "&lt;/body&gt;\n",
       "&lt;script&gt;    \n",
       "    \n",
       "            var map_c1efb43f9ade48df3587ee349d027393 = L.map(\n",
       "                &quot;map_c1efb43f9ade48df3587ee349d027393&quot;,\n",
       "                {\n",
       "                    center: [52.521861, 13.40744],\n",
       "                    crs: L.CRS.EPSG3857,\n",
       "                    zoom: 13,\n",
       "                    zoomControl: true,\n",
       "                    preferCanvas: false,\n",
       "                }\n",
       "            );\n",
       "\n",
       "            \n",
       "\n",
       "        \n",
       "    \n",
       "            var tile_layer_dafe0ddd160185631f1edd2c6d3067f7 = L.tileLayer(\n",
       "                &quot;https://cartodb-basemaps-{s}.global.ssl.fastly.net/light_all/{z}/{x}/{y}.png&quot;,\n",
       "                {&quot;attribution&quot;: &quot;\\u0026copy; \\u003ca href=\\&quot;http://www.openstreetmap.org/copyright\\&quot;\\u003eOpenStreetMap\\u003c/a\\u003e contributors \\u0026copy; \\u003ca href=\\&quot;http://cartodb.com/attributions\\&quot;\\u003eCartoDB\\u003c/a\\u003e, CartoDB \\u003ca href =\\&quot;http://cartodb.com/attributions\\&quot;\\u003eattributions\\u003c/a\\u003e&quot;, &quot;detectRetina&quot;: false, &quot;maxNativeZoom&quot;: 18, &quot;maxZoom&quot;: 18, &quot;minZoom&quot;: 0, &quot;noWrap&quot;: false, &quot;opacity&quot;: 1, &quot;subdomains&quot;: &quot;abc&quot;, &quot;tms&quot;: false}\n",
       "            ).addTo(map_c1efb43f9ade48df3587ee349d027393);\n",
       "        \n",
       "    \n",
       "            var marker_d1b290a3f18aef83a579cc1f84008958 = L.marker(\n",
       "                [52.533558, 13.384116],\n",
       "                {}\n",
       "            ).addTo(map_c1efb43f9ade48df3587ee349d027393);\n",
       "        \n",
       "    \n",
       "            var marker_e0bf4bd34b568e1c7123ab253dc8576f = L.marker(\n",
       "                [52.519355, 13.428726],\n",
       "                {}\n",
       "            ).addTo(map_c1efb43f9ade48df3587ee349d027393);\n",
       "        \n",
       "    \n",
       "            var marker_03f29f32bd45f0c0ad911ff6e744d6c1 = L.marker(\n",
       "                [52.498929, 13.41774],\n",
       "                {}\n",
       "            ).addTo(map_c1efb43f9ade48df3587ee349d027393);\n",
       "        \n",
       "    \n",
       "            var marker_1ff44dc0ad432a6a8e857cddf327616b = L.marker(\n",
       "                [52.496369, 13.374825],\n",
       "                {}\n",
       "            ).addTo(map_c1efb43f9ade48df3587ee349d027393);\n",
       "        \n",
       "&lt;/script&gt;\" style=\"position:absolute;width:100%;height:100%;left:0;top:0;border:none !important;\" allowfullscreen webkitallowfullscreen mozallowfullscreen></iframe></div></div>"
      ],
      "text/plain": [
       "<folium.folium.Map at 0x13343ecb0>"
      ]
     },
     "execution_count": 495,
     "metadata": {},
     "output_type": "execute_result"
    }
   ],
   "source": [
    "\n",
    "m = folium.Map(location=[52.521861, 13.40744], tiles='cartodbpositron', zoom_start=13)\n",
    "\n",
    "# Some coordinates in Berlin\n",
    "coordinates = [[13.384116, 52.533558], [13.428726, 52.519355], [13.41774, 52.498929], [13.374825, 52.496369]]\n",
    "\n",
    "matrix = client.distance_matrix(\n",
    "    locations=coordinates,\n",
    "    profile='foot-walking',\n",
    "    metrics=['distance', 'duration'],\n",
    "    validate=False,\n",
    ")\n",
    "\n",
    "for marker in coordinates:\n",
    "    folium.Marker(location=list(reversed(marker))).add_to(m)\n",
    "\n",
    "print(\"Durations in secs: {}\\n\".format(matrix['durations']))\n",
    "print(\"Distances in m: {}\".format(matrix['distances']))\n",
    "\n",
    "m"
   ]
  },
  {
   "cell_type": "code",
   "execution_count": null,
   "id": "175d7811",
   "metadata": {},
   "outputs": [],
   "source": []
  }
 ],
 "metadata": {
  "kernelspec": {
   "display_name": "Python 3 (ipykernel)",
   "language": "python",
   "name": "python3"
  },
  "language_info": {
   "codemirror_mode": {
    "name": "ipython",
    "version": 3
   },
   "file_extension": ".py",
   "mimetype": "text/x-python",
   "name": "python",
   "nbconvert_exporter": "python",
   "pygments_lexer": "ipython3",
   "version": "3.10.5"
  }
 },
 "nbformat": 4,
 "nbformat_minor": 5
}
