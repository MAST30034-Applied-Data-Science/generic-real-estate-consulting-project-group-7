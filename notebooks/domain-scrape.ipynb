{
 "cells": [
  {
   "cell_type": "markdown",
   "metadata": {},
   "source": [
    "# Domain Scrape"
   ]
  },
  {
   "cell_type": "code",
   "execution_count": 1,
   "metadata": {},
   "outputs": [],
   "source": [
    "from bs4 import BeautifulSoup\n",
    "import requests\n",
    "\n",
    "import unicodedata\n",
    "from csv import writer\n",
    "import re\n",
    "\n",
    "import pandas as pd\n",
    "import numpy as np\n",
    "\n",
    "import json"
   ]
  },
  {
   "cell_type": "code",
   "execution_count": 2,
   "metadata": {},
   "outputs": [],
   "source": [
    "headers = {\"User-Agent\":\n",
    "           \"Mozilla/5.0 (X11; CrOS x86_64 12871.102.0) AppleWebKit/537.36 (KHTML, like Gecko) Chrome/81.0.4044.141 Safari/537.36\"}\n",
    "\n",
    "# home url of domian.com australia\n",
    "home_url = \"https://www.domain.com.au\""
   ]
  },
  {
   "cell_type": "code",
   "execution_count": 3,
   "metadata": {},
   "outputs": [],
   "source": [
    "#postcode of properties\n",
    "postcode_list = [i for i in range(3000,3100)]"
   ]
  },
  {
   "cell_type": "code",
   "execution_count": 4,
   "metadata": {},
   "outputs": [],
   "source": [
    "# return unique extracted link for given postcode\n",
    "def link_by_postcode(postcode):\n",
    "    \n",
    "    # list to store all the urls of properties\n",
    "    list_of_links = []\n",
    "    \n",
    "    # store unique link\n",
    "    abc_links = [] \n",
    "    \n",
    "    # number of pages of search result are 50\n",
    "    page_numbers = list(range(50))[1:50]\n",
    "    \n",
    "    # for loop for all 50 search(melbourne region) pages\n",
    "    for page in page_numbers:\n",
    "\n",
    "        # extracting html document of search page\n",
    "        url = home_url + f\"/rent/melbourne-vic-{postcode}/?excludedeposittaken=1&page={page}\"\n",
    "\n",
    "        # parsing html document to 'lxml' format\n",
    "        bs_object = BeautifulSoup(requests.get(url, headers=headers).text, \"html.parser\")\n",
    "\n",
    "        #for each page\n",
    "        # finding all the links available in 'ul' tag whos 'data-testid' is 'results'\n",
    "        all_links = bs_object.find(\n",
    "            \"ul\", {\"data-testid\": \"results\"}).findAll(\"a\", href=re.compile(\"https://www.domain.com.au/*\"))\n",
    "\n",
    "        # inner loop to find links inside each property page because few properties are project so they have more properties inside their project page\n",
    "        for link1 in all_links:\n",
    "            # checking if it is a project and then performing similar above\n",
    "            if 'project' in link1.attrs['href']:\n",
    "                inner1_url = link1.attrs['href']\n",
    "                inner1_bsobj = BeautifulSoup(requests.get(inner1_url, headers=headers).text, \"html.parser\")\n",
    "                for link2 in inner1_bsobj.find(\"div\", {\"name\": \"listing-details__other-listings\"}).findAll(\"a\", href=re.compile(\"https://www.domain.com.au/*\")):\n",
    "                    if 'href' in link2.attrs:\n",
    "                        list_of_links.append(link2.attrs['href'])\n",
    "            else:\n",
    "                list_of_links.append(link1.attrs['href'])\n",
    "   \n",
    "    # remove deplicated links\n",
    "    for i in list_of_links: \n",
    "        if i not in abc_links: \n",
    "            abc_links.append(i) \n",
    "    return abc_links\n"
   ]
  },
  {
   "cell_type": "code",
   "execution_count": 5,
   "metadata": {},
   "outputs": [],
   "source": [
    "links_test =link_by_postcode(3000)"
   ]
  },
  {
   "cell_type": "code",
   "execution_count": 6,
   "metadata": {},
   "outputs": [],
   "source": [
    "# defining required regural expression for data extraction     \n",
    "pattern = re.compile(r'>(.+)<!.*>(.+?)</span>.*')\n",
    "pattern1 = re.compile(r'>(.+)<.')\n",
    "pattern2 = re.compile(r'destination=(.+)\" rel=.')\n",
    "#school\n",
    "pattern_school = re.compile(r'>(.+)<')\n",
    "pattern_distance = re.compile(r'\">(.+)<!')\n",
    "#street information\n",
    "pattern_address1 = re.compile(r'>(.+)<!.*>')\n",
    "pattern_address2 = re.compile(r'>(.+)<.')"
   ]
  },
  {
   "cell_type": "code",
   "execution_count": 7,
   "metadata": {},
   "outputs": [],
   "source": [
    "basic_feature_list = []\n",
    "\n",
    "\n",
    "# loop to iterate through each url\n",
    "for link in links_test[:10]:\n",
    "    \n",
    "    # opening urls\n",
    "    bs_object = BeautifulSoup(requests.get(link, headers=headers).text, \"html.parser\")\n",
    "    \n",
    "    # extracting address/name of property\n",
    "    property_name = bs_object.find(\"h1\", {\"class\": \"css-164r41r\"})\n",
    "    \n",
    "    # extracting baths, rooms, parking etc\n",
    "    all_basic_features = bs_object.find(\"div\", {\"class\": \"css-ghc6s4\"}).findAll(\"span\", {\"data-testid\": \"property-features-text-container\"})\n",
    "    \n",
    "    # extracting property price\n",
    "    property_price = bs_object.find(\"div\", {\"data-testid\": \"listing-details__summary-title\"})\n",
    "    \n",
    "    # extracting latitudes and longitudes\n",
    "    lat_long = bs_object.find(\"a\", {\"target\": \"_blank\", 'rel': \"noopener noreferer\"})\n",
    "    \n",
    "    #extract schoolname, school distance\n",
    "    # school= bs_object.find(\"div\", {\"data-testid\": \"listing-details__school-catchment\"}).findAll(\"h5\",{\"class\": \"css-5w5cop\"})\n",
    "    school_data = json.loads(bs_object.find(\"script\", {\"id\": \"__NEXT_DATA__\"}).text)\n",
    "    school = [s['name'] for s in school_data['props']['pageProps']['componentProps']['schoolCatchment']['schools']]\n",
    "    school_distance= [s['distance'] for s in school_data['props']['pageProps']['componentProps']['schoolCatchment']['schools']]\n",
    "  \n",
    "    # address info\n",
    "    address1 = bs_object.find(\"span\", {\"data-testid\": \"address-line1\"})\n",
    "    address2 = bs_object.find(\"span\", {\"data-testid\": \"address-line2\"})\n",
    "    \n",
    "    #recent rented\n",
    "    recent_rented_number = bs_object.find(\"div\", {\"class\": \"css-12uo2x5\"})\n",
    "    \n",
    "    # dictionary to store temporary data\n",
    "    basic_feature_dict = {}\n",
    "    \n",
    "    # few properties does not contain all the 4 features such as rooms, baths, parkings, area. So need to check\n",
    "    # how many features they contain\n",
    "    if len(all_basic_features) == 4:\n",
    "        basic_feature_dict[pattern.findall(str(all_basic_features[0]))[0][1]] = pattern.findall(str(all_basic_features[0]))[0][0]\n",
    "        basic_feature_dict[pattern.findall(str(all_basic_features[1]))[0][1]] = pattern.findall(str(all_basic_features[1]))[0][0]\n",
    "        basic_feature_dict[pattern.findall(str(all_basic_features[2]))[0][1]] = pattern.findall(str(all_basic_features[2]))[0][0]\n",
    "        basic_feature_dict[pattern.findall(str(all_basic_features[3]))[0][1]] = pattern.findall(str(all_basic_features[3]))[0][0]\n",
    "        \n",
    "    elif len(all_basic_features) == 3:\n",
    "        basic_feature_dict[pattern.findall(str(all_basic_features[0]))[0][1]] = pattern.findall(str(all_basic_features[0]))[0][0]\n",
    "        basic_feature_dict[pattern.findall(str(all_basic_features[1]))[0][1]] = pattern.findall(str(all_basic_features[1]))[0][0]\n",
    "        basic_feature_dict[pattern.findall(str(all_basic_features[2]))[0][1]] = pattern.findall(str(all_basic_features[2]))[0][0]\n",
    "        \n",
    "    elif len(all_basic_features) == 2:\n",
    "        basic_feature_dict[pattern.findall(str(all_basic_features[0]))[0][1]] = pattern.findall(str(all_basic_features[0]))[0][0]\n",
    "        basic_feature_dict[pattern.findall(str(all_basic_features[1]))[0][1]] = pattern.findall(str(all_basic_features[1]))[0][0]\n",
    "        \n",
    "    elif len(all_basic_features) == 1:\n",
    "        basic_feature_dict[pattern.findall(str(all_basic_features[0]))[0][1]] = pattern.findall(str(all_basic_features[0]))[0][0]\n",
    "\n",
    "        \n",
    "        \n",
    "    # putting 'none' if school is missing    \n",
    "    if school is None:\n",
    "        basic_feature_dict['school'] = None\n",
    "        \n",
    "    else:\n",
    "        basic_feature_dict['school'] = school\n",
    "    \n",
    "    # putting 'none' if school distance is missing   \n",
    "    if school_distance is None:\n",
    "        basic_feature_dict['school_distance'] = None\n",
    "        \n",
    "    else:\n",
    "        basic_feature_dict['school_distance'] = school_distance\n",
    "     \n",
    "    \n",
    "    \n",
    "    # putting 'none' if address(street) distance is missing   \n",
    "    if address1 is None:\n",
    "        basic_feature_dict['address1'] = None\n",
    "        \n",
    "    else:\n",
    "        basic_feature_dict['address1'] = pattern_address1.findall(str(address1))\n",
    "        \n",
    "    # putting 'none' if address2 is missing   \n",
    "    if address2 is None:\n",
    "        basic_feature_dict['address2'] = None\n",
    "        \n",
    "    else:\n",
    "        basic_feature_dict['address2'] = sum([pattern_address2.findall(str(i)) for i in address2],[])\n",
    "    \n",
    "        # putting 'none' if recent_rented number is missing   \n",
    "    if recent_rented_number is None:\n",
    "        basic_feature_dict['recent_rented_number'] = None\n",
    "        \n",
    "    else:\n",
    "        basic_feature_dict['recent_rented_number'] = pattern1.findall(str(recent_rented_number))[0]\n",
    "\n",
    "\n",
    "    # putting 'none' if price is missing    \n",
    "    if property_price is None:\n",
    "        basic_feature_dict['price'] = None\n",
    "        \n",
    "    else:\n",
    "        basic_feature_dict['price'] = pattern1.findall(str(property_price))[0]\n",
    "        \n",
    "    # putting 'none' if property name/address is missing       \n",
    "    if property_name is None:\n",
    "        basic_feature_dict['name'] = None\n",
    "        \n",
    "    else:\n",
    "        basic_feature_dict['name'] = pattern1.findall(str(property_name))[0]\n",
    "        \n",
    "    # putting 'none' if latitude and logitude are missing        \n",
    "    if lat_long is None:\n",
    "        basic_feature_dict['lat'] = None\n",
    "        basic_feature_dict['long'] = None\n",
    "        \n",
    "    else:\n",
    "        basic_feature_dict['lat'] = pattern2.findall(str(lat_long))[0].split(',')[0]\n",
    "        basic_feature_dict['long'] = pattern2.findall(str(lat_long))[0].split(',')[1]\n",
    "        \n",
    "    # appending all the data into a list\n",
    "    basic_feature_list.append(basic_feature_dict)"
   ]
  },
  {
   "cell_type": "code",
   "execution_count": 8,
   "metadata": {},
   "outputs": [],
   "source": [
    "# creating empty lists\n",
    "beds_list = []\n",
    "baths_list = []\n",
    "parking_list = []\n",
    "area_list = []\n",
    "name_list = []\n",
    "lat_list = []\n",
    "long_list = []\n",
    "price_list = []\n",
    "school_list = []\n",
    "school_distance_list =[]\n",
    "address1_list = []\n",
    "address2_list = []\n",
    "recent_rented_number_list = []\n",
    "recent_rented_price_list = []\n",
    "\n",
    "# interating through list created above with data\n",
    "for row in basic_feature_list:\n",
    "    \n",
    "    # checking if the row cointains 'Beds', 'Bed' or nothing\n",
    "    if 'Beds' in row:\n",
    "        beds_list.append(row['Beds'])\n",
    "    elif 'bed' in row:\n",
    "        beds_list.append(row['Bed'])\n",
    "    else:\n",
    "        beds_list.append(None)\n",
    "        \n",
    "    # checking if the row cointains 'Baths', 'Bath' or nothing    \n",
    "    if 'Baths' in row:\n",
    "        baths_list.append(row['Baths'])\n",
    "    elif 'Bath ' in row:\n",
    "        baths_list.append(row['Bath'])\n",
    "    else:\n",
    "        baths_list.append(None)\n",
    "        \n",
    "    # checking if the row cointains 'Parking', '-' or nothing     \n",
    "    if 'Parking' in row and row['Parking'] != '−':\n",
    "        parking_list.append(row['Parking'])\n",
    "    else:\n",
    "        parking_list.append(None)\n",
    "        \n",
    "    # checking if the row cointains ' ', or nothing. Because empty space (i.e. ' ') reprsents area  \n",
    "    if ' ' in row:\n",
    "        area_list.append(row[' '])\n",
    "    else:\n",
    "        area_list.append(None)\n",
    "    # checking if the row cointains 'name' that is address of property         \n",
    "    if 'name' in row:\n",
    "        name_list.append(row['name'])\n",
    "    else:\n",
    "        name_list.append(None)\n",
    "    \n",
    "    # checking if the row cointains 'price'         \n",
    "    if 'price' in row:\n",
    "        price_list.append(row['price'])\n",
    "    else:\n",
    "        price_list.append(None)        \n",
    "    \n",
    "    # checking if the row cointains 'lat' that is lattitude of property         \n",
    "    if 'lat' in row:\n",
    "        lat_list.append(row['lat'])\n",
    "    else:\n",
    "        lat_list.append(None)  \n",
    "        \n",
    "    # checking if the row cointains 'long' that is lattitude of property             \n",
    "    if 'long' in row:\n",
    "        long_list.append(row['long'])\n",
    "    else:\n",
    "        long_list.append(None)\n",
    "        \n",
    "    # checking if the row cointains 'school' that is lattitude of property             \n",
    "    if 'school' in row:\n",
    "        school_list.append(row['school'])\n",
    "    else:\n",
    "        school_list.append(None)\n",
    "        \n",
    "    # checking if the row cointains 'scholl_distance' that is lattitude of property             \n",
    "    if 'school_distance' in row:\n",
    "        school_distance_list.append(row['school_distance'])\n",
    "    else:\n",
    "        school_distance_list.append(None)\n",
    "        \n",
    "    # checking if the row cointains 'scholl_distance' that is lattitude of property             \n",
    "    if 'address1' in row:\n",
    "        address1_list.append(row['address1'])\n",
    "    else:\n",
    "        address1_list.append(None)\n",
    "        \n",
    "    # checking if the row cointains 'scholl_distance' that is lattitude of property             \n",
    "    if 'address2' in row:\n",
    "        address2_list.append(row['address2'])\n",
    "    else:\n",
    "        address2_list.append(None)\n",
    "        \n",
    "    # checking if the row cointains 'scholl_distance' that is lattitude of property             \n",
    "    if 'recent_rented_number' in row:\n",
    "        recent_rented_number_list.append(row['recent_rented_number'])\n",
    "    else:\n",
    "        recent_rented_number_list.append(None)\n",
    "    \n",
    "    # checking if the row cointains 'scholl_distance' that is lattitude of property             \n",
    "    if 'recent_rented_price' in row:\n",
    "        recent_rented_price_list.append(row['recent_rented_price'])\n",
    "    else:\n",
    "        recent_rented_price_list.append(None)"
   ]
  },
  {
   "cell_type": "code",
   "execution_count": 9,
   "metadata": {},
   "outputs": [],
   "source": [
    "#create dataframe \n",
    "house_dict = {}\n",
    "house_dict['Beds'] = beds_list\n",
    "house_dict['Baths'] = baths_list\n",
    "house_dict['Parking'] = parking_list\n",
    "house_dict['Area'] = area_list\n",
    "house_dict['Address'] = name_list\n",
    "house_dict['Latitude'] = lat_list\n",
    "house_dict['Longitude'] = long_list\n",
    "house_dict['Rent'] = price_list\n",
    "house_dict['School'] = school_list\n",
    "house_dict['School_distance'] = school_distance_list\n",
    "house_dict['Location_1'] = address1_list\n",
    "house_dict['Location_2'] = address2_list\n",
    "house_dict['recent_rented_number'] = recent_rented_number_list\n",
    "house_dict['recent_rented_price'] = recent_rented_price_list\n",
    "house_df = pd.DataFrame(house_dict)"
   ]
  },
  {
   "cell_type": "code",
   "execution_count": 10,
   "metadata": {},
   "outputs": [],
   "source": [
    "def remove_chars(s):\n",
    "    return re.sub('[^0-9.]+', '', s) \n",
    "\n",
    "def remove_squaremeter(s):\n",
    "    if s != None:\n",
    "        return remove_chars(s)\n",
    "    else:\n",
    "        return None"
   ]
  },
  {
   "cell_type": "code",
   "execution_count": 11,
   "metadata": {},
   "outputs": [],
   "source": [
    "#find pattern for week/annual rent\n",
    "year_pattern = r\"p.a.|annually|annual\"\n",
    "week_pattern = r\"pw|week\"\n",
    "\n",
    "regex_week_pattern = re.compile(week_pattern)\n",
    "regex_year_pattern = re.compile(year_pattern)\n",
    "\n",
    "#flag type of rent with 1(weekly), 0(annul), None(unknown)\n",
    "def type_flag(s):\n",
    "    # week rent\n",
    "    if (len(regex_week_pattern.findall(s.lower())) != 0 )& (len(regex_year_pattern.findall(s.lower())) == 0) :\n",
    "        return 1\n",
    "    # year rent\n",
    "    elif (len(regex_week_pattern.findall(s.lower())) == 0) & (len(regex_year_pattern.findall(s.lower())) != 0) :\n",
    "        return 0\n",
    "    # not speficied\n",
    "    else:\n",
    "        return None\n",
    "\n",
    "#convert rent to weekly rent\n",
    "#if not sure rent type, it will be considered as weekly rent\n",
    "def convert_rent(s):\n",
    "    # week rent\n",
    "    if (len(regex_week_pattern.findall(s.lower())) != 0 )& (len(regex_year_pattern.findall(s.lower())) == 0) :\n",
    "        return remove_chars(s)\n",
    "    # year rent\n",
    "    elif (len(regex_week_pattern.findall(s.lower())) == 0) & (len(regex_year_pattern.findall(s.lower())) != 0) :\n",
    "        return float(remove_chars(s))//12\n",
    "    # not speficied\n",
    "    else:\n",
    "        return remove_chars(s)\n",
    "\n",
    "\n",
    "house_df['Converted_Rent'] = [convert_rent(i) for i in price_list]\n",
    "house_df['Type'] = [type_flag(i) for i in price_list]"
   ]
  },
  {
   "cell_type": "code",
   "execution_count": 12,
   "metadata": {},
   "outputs": [],
   "source": [
    "#extract post code\n",
    "house_df['Postcode'] = house_df['Address'].str[-4:]\n",
    "\n",
    "#clean area\n",
    "house_df['Area'] = [remove_squaremeter(i) for i in area_list]"
   ]
  },
  {
   "cell_type": "code",
   "execution_count": 13,
   "metadata": {},
   "outputs": [
    {
     "data": {
      "text/html": [
       "<div>\n",
       "<style scoped>\n",
       "    .dataframe tbody tr th:only-of-type {\n",
       "        vertical-align: middle;\n",
       "    }\n",
       "\n",
       "    .dataframe tbody tr th {\n",
       "        vertical-align: top;\n",
       "    }\n",
       "\n",
       "    .dataframe thead th {\n",
       "        text-align: right;\n",
       "    }\n",
       "</style>\n",
       "<table border=\"1\" class=\"dataframe\">\n",
       "  <thead>\n",
       "    <tr style=\"text-align: right;\">\n",
       "      <th></th>\n",
       "      <th>Beds</th>\n",
       "      <th>Baths</th>\n",
       "      <th>Parking</th>\n",
       "      <th>Area</th>\n",
       "      <th>Address</th>\n",
       "      <th>Latitude</th>\n",
       "      <th>Longitude</th>\n",
       "      <th>Rent</th>\n",
       "      <th>School</th>\n",
       "      <th>School_distance</th>\n",
       "      <th>Location_1</th>\n",
       "      <th>Location_2</th>\n",
       "      <th>recent_rented_number</th>\n",
       "      <th>recent_rented_price</th>\n",
       "      <th>Converted_Rent</th>\n",
       "      <th>Type</th>\n",
       "      <th>Postcode</th>\n",
       "    </tr>\n",
       "  </thead>\n",
       "  <tbody>\n",
       "    <tr>\n",
       "      <th>0</th>\n",
       "      <td>2</td>\n",
       "      <td>None</td>\n",
       "      <td>None</td>\n",
       "      <td>None</td>\n",
       "      <td>605/455 Elizabeth Street Melbourne VIC 3000</td>\n",
       "      <td>-37.8084293</td>\n",
       "      <td>144.9602064</td>\n",
       "      <td>$500 per week</td>\n",
       "      <td>[Eltham College - Lonsdale Street Campus, Rive...</td>\n",
       "      <td>[463.3611599786358, 588.5331765906494, 695.270...</td>\n",
       "      <td>[455 Elizabeth St]</td>\n",
       "      <td>[Melbourne, VIC, 3000]</td>\n",
       "      <td>81</td>\n",
       "      <td>None</td>\n",
       "      <td>500</td>\n",
       "      <td>1.0</td>\n",
       "      <td>3000</td>\n",
       "    </tr>\n",
       "    <tr>\n",
       "      <th>1</th>\n",
       "      <td>None</td>\n",
       "      <td>None</td>\n",
       "      <td>1</td>\n",
       "      <td>None</td>\n",
       "      <td>309/9 Commercial Road Melbourne VIC 3004</td>\n",
       "      <td>-37.8456125</td>\n",
       "      <td>144.9793561</td>\n",
       "      <td>$500 per week</td>\n",
       "      <td>[SEDA College (Victoria) - Tennis - Albert Par...</td>\n",
       "      <td>[196.76699981293854, 433.2955593802291, 726.22...</td>\n",
       "      <td>[9 Commercial Rd]</td>\n",
       "      <td>[Melbourne, VIC, 3004]</td>\n",
       "      <td>71</td>\n",
       "      <td>None</td>\n",
       "      <td>500</td>\n",
       "      <td>1.0</td>\n",
       "      <td>3004</td>\n",
       "    </tr>\n",
       "    <tr>\n",
       "      <th>2</th>\n",
       "      <td>2</td>\n",
       "      <td>2</td>\n",
       "      <td>1</td>\n",
       "      <td>None</td>\n",
       "      <td>314/499 St Kilda Road Melbourne VIC 3004</td>\n",
       "      <td>-37.8431328</td>\n",
       "      <td>144.9793408</td>\n",
       "      <td>$900 per week (unfurnished)</td>\n",
       "      <td>[SEDA College (Victoria) - Tennis - Albert Par...</td>\n",
       "      <td>[147.59638689110963, 586.8570067562501, 678.78...</td>\n",
       "      <td>[499 St Kilda Rd]</td>\n",
       "      <td>[Melbourne, VIC, 3004]</td>\n",
       "      <td>276</td>\n",
       "      <td>None</td>\n",
       "      <td>900</td>\n",
       "      <td>1.0</td>\n",
       "      <td>3004</td>\n",
       "    </tr>\n",
       "    <tr>\n",
       "      <th>3</th>\n",
       "      <td>None</td>\n",
       "      <td>None</td>\n",
       "      <td>1</td>\n",
       "      <td>None</td>\n",
       "      <td>Unit 1713/200 Spencer St Melbourne VIC 3000</td>\n",
       "      <td>-37.816228</td>\n",
       "      <td>144.9532465</td>\n",
       "      <td>$440 per week</td>\n",
       "      <td>[Eltham College - King Street Campus, Ozford C...</td>\n",
       "      <td>[241.54098639384102, 397.47737499083695, 398.5...</td>\n",
       "      <td>[200 Spencer St]</td>\n",
       "      <td>[Melbourne, VIC, 3000]</td>\n",
       "      <td>506</td>\n",
       "      <td>None</td>\n",
       "      <td>440</td>\n",
       "      <td>1.0</td>\n",
       "      <td>3000</td>\n",
       "    </tr>\n",
       "    <tr>\n",
       "      <th>4</th>\n",
       "      <td>None</td>\n",
       "      <td>None</td>\n",
       "      <td>None</td>\n",
       "      <td>None</td>\n",
       "      <td>701/101 Therry St Melbourne VIC 3000</td>\n",
       "      <td>-37.8074149</td>\n",
       "      <td>144.9591227</td>\n",
       "      <td>NEW corner apartment Keep your bond</td>\n",
       "      <td>[River Nile School, Simonds Catholic College, ...</td>\n",
       "      <td>[444.35865271135503, 572.3778370522139, 577.38...</td>\n",
       "      <td>[Therry St]</td>\n",
       "      <td>[Melbourne, VIC, 3000]</td>\n",
       "      <td>1380</td>\n",
       "      <td>None</td>\n",
       "      <td></td>\n",
       "      <td>NaN</td>\n",
       "      <td>3000</td>\n",
       "    </tr>\n",
       "    <tr>\n",
       "      <th>5</th>\n",
       "      <td>2</td>\n",
       "      <td>2</td>\n",
       "      <td>None</td>\n",
       "      <td>None</td>\n",
       "      <td>816/101 Therry St Melbourne VIC 3000</td>\n",
       "      <td>-37.8074149</td>\n",
       "      <td>144.9591227</td>\n",
       "      <td>New apartment No bond needed Pets welcome</td>\n",
       "      <td>[River Nile School, Simonds Catholic College, ...</td>\n",
       "      <td>[444.35865271135503, 572.3778370522139, 577.38...</td>\n",
       "      <td>[Therry St]</td>\n",
       "      <td>[Melbourne, VIC, 3000]</td>\n",
       "      <td>1380</td>\n",
       "      <td>None</td>\n",
       "      <td></td>\n",
       "      <td>NaN</td>\n",
       "      <td>3000</td>\n",
       "    </tr>\n",
       "    <tr>\n",
       "      <th>6</th>\n",
       "      <td>2</td>\n",
       "      <td>2</td>\n",
       "      <td>2</td>\n",
       "      <td>None</td>\n",
       "      <td>303/250 St Kilda Road Melbourne VIC 3004</td>\n",
       "      <td>-37.8259165</td>\n",
       "      <td>144.9705248</td>\n",
       "      <td>$1395 Per Week</td>\n",
       "      <td>[Hester Hornbrook Academy, Melbourne Grammar S...</td>\n",
       "      <td>[745.7774466794033, 866.7220566327758, 961.355...</td>\n",
       "      <td>None</td>\n",
       "      <td>None</td>\n",
       "      <td>None</td>\n",
       "      <td>None</td>\n",
       "      <td>1395</td>\n",
       "      <td>1.0</td>\n",
       "      <td>3004</td>\n",
       "    </tr>\n",
       "    <tr>\n",
       "      <th>7</th>\n",
       "      <td>None</td>\n",
       "      <td>None</td>\n",
       "      <td>1</td>\n",
       "      <td>None</td>\n",
       "      <td>805/81 Queens Road Melbourne VIC 3004</td>\n",
       "      <td>-37.853804</td>\n",
       "      <td>144.9798785</td>\n",
       "      <td>$380 weekly</td>\n",
       "      <td>[Wesley College - St Kilda Road Junior Campus,...</td>\n",
       "      <td>[246.02949240830281, 586.9835254409847, 1034.4...</td>\n",
       "      <td>[81 Queens Rd]</td>\n",
       "      <td>[Melbourne, VIC, 3004]</td>\n",
       "      <td>78</td>\n",
       "      <td>None</td>\n",
       "      <td>380</td>\n",
       "      <td>1.0</td>\n",
       "      <td>3004</td>\n",
       "    </tr>\n",
       "    <tr>\n",
       "      <th>8</th>\n",
       "      <td>2</td>\n",
       "      <td>2</td>\n",
       "      <td>1</td>\n",
       "      <td>None</td>\n",
       "      <td>3902/220 Spencer Street Melbourne VIC 3000</td>\n",
       "      <td>-37.8157157</td>\n",
       "      <td>144.9529559</td>\n",
       "      <td>$650 per week</td>\n",
       "      <td>[Eltham College - King Street Campus, Ozford C...</td>\n",
       "      <td>[291.8975714410087, 352.5634804374277, 353.655...</td>\n",
       "      <td>[220 Spencer St]</td>\n",
       "      <td>[Melbourne, VIC, 3000]</td>\n",
       "      <td>1151</td>\n",
       "      <td>None</td>\n",
       "      <td>650</td>\n",
       "      <td>1.0</td>\n",
       "      <td>3000</td>\n",
       "    </tr>\n",
       "    <tr>\n",
       "      <th>9</th>\n",
       "      <td>None</td>\n",
       "      <td>None</td>\n",
       "      <td>None</td>\n",
       "      <td>None</td>\n",
       "      <td>3405/288 Spencer Street Melbourne VIC 3000</td>\n",
       "      <td>-37.813775</td>\n",
       "      <td>144.9520948</td>\n",
       "      <td>$440</td>\n",
       "      <td>[Ozford College - Ozford College Campus, Ozfor...</td>\n",
       "      <td>[240.2562788817361, 241.10246190089674, 307.86...</td>\n",
       "      <td>[288 Spencer St]</td>\n",
       "      <td>[Melbourne, VIC, 3000]</td>\n",
       "      <td>315</td>\n",
       "      <td>None</td>\n",
       "      <td>440</td>\n",
       "      <td>NaN</td>\n",
       "      <td>3000</td>\n",
       "    </tr>\n",
       "  </tbody>\n",
       "</table>\n",
       "</div>"
      ],
      "text/plain": [
       "   Beds Baths Parking  Area                                      Address  \\\n",
       "0     2  None    None  None  605/455 Elizabeth Street Melbourne VIC 3000   \n",
       "1  None  None       1  None     309/9 Commercial Road Melbourne VIC 3004   \n",
       "2     2     2       1  None     314/499 St Kilda Road Melbourne VIC 3004   \n",
       "3  None  None       1  None  Unit 1713/200 Spencer St Melbourne VIC 3000   \n",
       "4  None  None    None  None         701/101 Therry St Melbourne VIC 3000   \n",
       "5     2     2    None  None         816/101 Therry St Melbourne VIC 3000   \n",
       "6     2     2       2  None     303/250 St Kilda Road Melbourne VIC 3004   \n",
       "7  None  None       1  None        805/81 Queens Road Melbourne VIC 3004   \n",
       "8     2     2       1  None   3902/220 Spencer Street Melbourne VIC 3000   \n",
       "9  None  None    None  None   3405/288 Spencer Street Melbourne VIC 3000   \n",
       "\n",
       "      Latitude    Longitude                                       Rent  \\\n",
       "0  -37.8084293  144.9602064                              $500 per week   \n",
       "1  -37.8456125  144.9793561                              $500 per week   \n",
       "2  -37.8431328  144.9793408                $900 per week (unfurnished)   \n",
       "3   -37.816228  144.9532465                              $440 per week   \n",
       "4  -37.8074149  144.9591227        NEW corner apartment Keep your bond   \n",
       "5  -37.8074149  144.9591227  New apartment No bond needed Pets welcome   \n",
       "6  -37.8259165  144.9705248                             $1395 Per Week   \n",
       "7   -37.853804  144.9798785                                $380 weekly   \n",
       "8  -37.8157157  144.9529559                              $650 per week   \n",
       "9   -37.813775  144.9520948                                       $440   \n",
       "\n",
       "                                              School  \\\n",
       "0  [Eltham College - Lonsdale Street Campus, Rive...   \n",
       "1  [SEDA College (Victoria) - Tennis - Albert Par...   \n",
       "2  [SEDA College (Victoria) - Tennis - Albert Par...   \n",
       "3  [Eltham College - King Street Campus, Ozford C...   \n",
       "4  [River Nile School, Simonds Catholic College, ...   \n",
       "5  [River Nile School, Simonds Catholic College, ...   \n",
       "6  [Hester Hornbrook Academy, Melbourne Grammar S...   \n",
       "7  [Wesley College - St Kilda Road Junior Campus,...   \n",
       "8  [Eltham College - King Street Campus, Ozford C...   \n",
       "9  [Ozford College - Ozford College Campus, Ozfor...   \n",
       "\n",
       "                                     School_distance          Location_1  \\\n",
       "0  [463.3611599786358, 588.5331765906494, 695.270...  [455 Elizabeth St]   \n",
       "1  [196.76699981293854, 433.2955593802291, 726.22...   [9 Commercial Rd]   \n",
       "2  [147.59638689110963, 586.8570067562501, 678.78...   [499 St Kilda Rd]   \n",
       "3  [241.54098639384102, 397.47737499083695, 398.5...    [200 Spencer St]   \n",
       "4  [444.35865271135503, 572.3778370522139, 577.38...         [Therry St]   \n",
       "5  [444.35865271135503, 572.3778370522139, 577.38...         [Therry St]   \n",
       "6  [745.7774466794033, 866.7220566327758, 961.355...                None   \n",
       "7  [246.02949240830281, 586.9835254409847, 1034.4...      [81 Queens Rd]   \n",
       "8  [291.8975714410087, 352.5634804374277, 353.655...    [220 Spencer St]   \n",
       "9  [240.2562788817361, 241.10246190089674, 307.86...    [288 Spencer St]   \n",
       "\n",
       "               Location_2 recent_rented_number recent_rented_price  \\\n",
       "0  [Melbourne, VIC, 3000]                   81                None   \n",
       "1  [Melbourne, VIC, 3004]                   71                None   \n",
       "2  [Melbourne, VIC, 3004]                  276                None   \n",
       "3  [Melbourne, VIC, 3000]                  506                None   \n",
       "4  [Melbourne, VIC, 3000]                 1380                None   \n",
       "5  [Melbourne, VIC, 3000]                 1380                None   \n",
       "6                    None                 None                None   \n",
       "7  [Melbourne, VIC, 3004]                   78                None   \n",
       "8  [Melbourne, VIC, 3000]                 1151                None   \n",
       "9  [Melbourne, VIC, 3000]                  315                None   \n",
       "\n",
       "  Converted_Rent  Type Postcode  \n",
       "0            500   1.0     3000  \n",
       "1            500   1.0     3004  \n",
       "2            900   1.0     3004  \n",
       "3            440   1.0     3000  \n",
       "4                  NaN     3000  \n",
       "5                  NaN     3000  \n",
       "6           1395   1.0     3004  \n",
       "7            380   1.0     3004  \n",
       "8            650   1.0     3000  \n",
       "9            440   NaN     3000  "
      ]
     },
     "execution_count": 13,
     "metadata": {},
     "output_type": "execute_result"
    }
   ],
   "source": [
    "house_df"
   ]
  },
  {
   "cell_type": "code",
   "execution_count": null,
   "metadata": {},
   "outputs": [],
   "source": []
  },
  {
   "cell_type": "code",
   "execution_count": null,
   "metadata": {},
   "outputs": [],
   "source": []
  },
  {
   "cell_type": "code",
   "execution_count": null,
   "metadata": {},
   "outputs": [],
   "source": []
  },
  {
   "cell_type": "code",
   "execution_count": null,
   "metadata": {},
   "outputs": [],
   "source": []
  },
  {
   "cell_type": "code",
   "execution_count": 14,
   "metadata": {},
   "outputs": [
    {
     "data": {
      "text/plain": [
       "['Eltham College - Lonsdale Street Campus',\n",
       " 'River Nile School',\n",
       " 'Ozford College',\n",
       " 'Ozford College - Ozford College Campus',\n",
       " 'Simonds Catholic College',\n",
       " 'Haileybury Girls College - City Campus',\n",
       " \"St Joseph's Flexible Learning Centre\",\n",
       " \"Stott's Colleges\",\n",
       " 'Eltham College - King Street Campus',\n",
       " 'Holmes Grammar School',\n",
       " 'Carlton Gardens Primary School',\n",
       " 'University High School']"
      ]
     },
     "execution_count": 14,
     "metadata": {},
     "output_type": "execute_result"
    }
   ],
   "source": [
    "house_df['School'][0]"
   ]
  },
  {
   "cell_type": "code",
   "execution_count": 15,
   "metadata": {},
   "outputs": [
    {
     "data": {
      "text/plain": [
       "[463.3611599786358,\n",
       " 588.5331765906494,\n",
       " 695.2706405483688,\n",
       " 696.2817703768635,\n",
       " 700.2580984189686,\n",
       " 700.4924347307267,\n",
       " 724.9315920000029,\n",
       " 976.7186990778307,\n",
       " 1046.7892028267775,\n",
       " 1082.5430994556723,\n",
       " 1083.2267912562145,\n",
       " 1329.1968129939876]"
      ]
     },
     "execution_count": 15,
     "metadata": {},
     "output_type": "execute_result"
    }
   ],
   "source": [
    "house_df['School_distance'][0]"
   ]
  },
  {
   "cell_type": "code",
   "execution_count": 16,
   "metadata": {},
   "outputs": [],
   "source": [
    "bs_object = BeautifulSoup(\n",
    "    requests.get(\"https://www.domain.com.au/1-watson-street-armadale-vic-3143-16061315\",\n",
    "                 headers=headers).text, \"html.parser\")"
   ]
  },
  {
   "cell_type": "code",
   "execution_count": 17,
   "metadata": {},
   "outputs": [
    {
     "data": {
      "text/plain": [
       "['Loreto Mandeville Hall',\n",
       " 'Armadale Primary School',\n",
       " 'Our Lady of Lourdes School',\n",
       " 'The King David School - The Rebecca Magid Centre',\n",
       " \"Lauriston Girls' School\",\n",
       " 'The King David School',\n",
       " \"Lauriston Girls' School - Blairholme Campus\",\n",
       " 'The King David School - Junior School',\n",
       " 'Geelong Grammar School - Toorak campus',\n",
       " \"St Catherine's School\",\n",
       " 'De La Salle College - Kinnoull Campus',\n",
       " 'Auburn High School',\n",
       " 'Port Phillip Specialist School',\n",
       " 'Southern Autistic School']"
      ]
     },
     "execution_count": 17,
     "metadata": {},
     "output_type": "execute_result"
    }
   ],
   "source": [
    "school_data = json.loads(bs_object.find(\"script\", {\"id\": \"__NEXT_DATA__\"}).text)\n",
    "school = [s['name'] for s in school_data['props']['pageProps']['componentProps']['schoolCatchment']['schools']]\n",
    "school"
   ]
  },
  {
   "cell_type": "code",
   "execution_count": 18,
   "metadata": {},
   "outputs": [],
   "source": [
    "schools = pd.DataFrame(school)"
   ]
  },
  {
   "cell_type": "code",
   "execution_count": 19,
   "metadata": {},
   "outputs": [
    {
     "data": {
      "text/html": [
       "<div>\n",
       "<style scoped>\n",
       "    .dataframe tbody tr th:only-of-type {\n",
       "        vertical-align: middle;\n",
       "    }\n",
       "\n",
       "    .dataframe tbody tr th {\n",
       "        vertical-align: top;\n",
       "    }\n",
       "\n",
       "    .dataframe thead th {\n",
       "        text-align: right;\n",
       "    }\n",
       "</style>\n",
       "<table border=\"1\" class=\"dataframe\">\n",
       "  <thead>\n",
       "    <tr style=\"text-align: right;\">\n",
       "      <th></th>\n",
       "      <th>0</th>\n",
       "    </tr>\n",
       "  </thead>\n",
       "  <tbody>\n",
       "    <tr>\n",
       "      <th>0</th>\n",
       "      <td>Loreto Mandeville Hall</td>\n",
       "    </tr>\n",
       "    <tr>\n",
       "      <th>1</th>\n",
       "      <td>Armadale Primary School</td>\n",
       "    </tr>\n",
       "    <tr>\n",
       "      <th>2</th>\n",
       "      <td>Our Lady of Lourdes School</td>\n",
       "    </tr>\n",
       "    <tr>\n",
       "      <th>3</th>\n",
       "      <td>The King David School - The Rebecca Magid Centre</td>\n",
       "    </tr>\n",
       "    <tr>\n",
       "      <th>4</th>\n",
       "      <td>Lauriston Girls' School</td>\n",
       "    </tr>\n",
       "    <tr>\n",
       "      <th>5</th>\n",
       "      <td>The King David School</td>\n",
       "    </tr>\n",
       "    <tr>\n",
       "      <th>6</th>\n",
       "      <td>Lauriston Girls' School - Blairholme Campus</td>\n",
       "    </tr>\n",
       "    <tr>\n",
       "      <th>7</th>\n",
       "      <td>The King David School - Junior School</td>\n",
       "    </tr>\n",
       "    <tr>\n",
       "      <th>8</th>\n",
       "      <td>Geelong Grammar School - Toorak campus</td>\n",
       "    </tr>\n",
       "    <tr>\n",
       "      <th>9</th>\n",
       "      <td>St Catherine's School</td>\n",
       "    </tr>\n",
       "    <tr>\n",
       "      <th>10</th>\n",
       "      <td>De La Salle College - Kinnoull Campus</td>\n",
       "    </tr>\n",
       "    <tr>\n",
       "      <th>11</th>\n",
       "      <td>Auburn High School</td>\n",
       "    </tr>\n",
       "    <tr>\n",
       "      <th>12</th>\n",
       "      <td>Port Phillip Specialist School</td>\n",
       "    </tr>\n",
       "    <tr>\n",
       "      <th>13</th>\n",
       "      <td>Southern Autistic School</td>\n",
       "    </tr>\n",
       "  </tbody>\n",
       "</table>\n",
       "</div>"
      ],
      "text/plain": [
       "                                                   0\n",
       "0                             Loreto Mandeville Hall\n",
       "1                            Armadale Primary School\n",
       "2                         Our Lady of Lourdes School\n",
       "3   The King David School - The Rebecca Magid Centre\n",
       "4                            Lauriston Girls' School\n",
       "5                              The King David School\n",
       "6        Lauriston Girls' School - Blairholme Campus\n",
       "7              The King David School - Junior School\n",
       "8             Geelong Grammar School - Toorak campus\n",
       "9                              St Catherine's School\n",
       "10             De La Salle College - Kinnoull Campus\n",
       "11                                Auburn High School\n",
       "12                    Port Phillip Specialist School\n",
       "13                          Southern Autistic School"
      ]
     },
     "execution_count": 19,
     "metadata": {},
     "output_type": "execute_result"
    }
   ],
   "source": [
    "schools"
   ]
  },
  {
   "cell_type": "code",
   "execution_count": 20,
   "metadata": {},
   "outputs": [],
   "source": [
    "school= bs_object.find(\"div\", {\"data-testid\": \"listing-details__school-catchment\"}).findAll(\"h5\",{\"class\": \"css-5w5cop\"})"
   ]
  },
  {
   "cell_type": "code",
   "execution_count": 21,
   "metadata": {},
   "outputs": [
    {
     "data": {
      "text/plain": [
       "[<h5 class=\"css-5w5cop\" data-testid=\"fe-co-school-catchment-school-title\" itemprop=\"name\">Armadale Primary School</h5>,\n",
       " <h5 class=\"css-5w5cop\" data-testid=\"fe-co-school-catchment-school-title\" itemprop=\"name\">Auburn High School</h5>,\n",
       " <h5 class=\"css-5w5cop\" data-testid=\"fe-co-school-catchment-school-title\" itemprop=\"name\">Port Phillip Specialist School</h5>]"
      ]
     },
     "execution_count": 21,
     "metadata": {},
     "output_type": "execute_result"
    }
   ],
   "source": [
    "school"
   ]
  },
  {
   "cell_type": "code",
   "execution_count": null,
   "metadata": {},
   "outputs": [],
   "source": []
  },
  {
   "cell_type": "code",
   "execution_count": 22,
   "metadata": {},
   "outputs": [
    {
     "data": {
      "text/html": [
       "<div>\n",
       "<style scoped>\n",
       "    .dataframe tbody tr th:only-of-type {\n",
       "        vertical-align: middle;\n",
       "    }\n",
       "\n",
       "    .dataframe tbody tr th {\n",
       "        vertical-align: top;\n",
       "    }\n",
       "\n",
       "    .dataframe thead th {\n",
       "        text-align: right;\n",
       "    }\n",
       "</style>\n",
       "<table border=\"1\" class=\"dataframe\">\n",
       "  <thead>\n",
       "    <tr style=\"text-align: right;\">\n",
       "      <th></th>\n",
       "      <th>Beds</th>\n",
       "      <th>Baths</th>\n",
       "      <th>Parking</th>\n",
       "      <th>Area</th>\n",
       "      <th>Address</th>\n",
       "      <th>Latitude</th>\n",
       "      <th>Longitude</th>\n",
       "      <th>Rent</th>\n",
       "      <th>School</th>\n",
       "      <th>School_distance</th>\n",
       "      <th>Location_1</th>\n",
       "      <th>Location_2</th>\n",
       "      <th>recent_rented_number</th>\n",
       "      <th>recent_rented_price</th>\n",
       "      <th>Converted_Rent</th>\n",
       "      <th>Type</th>\n",
       "      <th>Postcode</th>\n",
       "    </tr>\n",
       "  </thead>\n",
       "  <tbody>\n",
       "    <tr>\n",
       "      <th>0</th>\n",
       "      <td>2</td>\n",
       "      <td>None</td>\n",
       "      <td>None</td>\n",
       "      <td>None</td>\n",
       "      <td>605/455 Elizabeth Street Melbourne VIC 3000</td>\n",
       "      <td>-37.8084293</td>\n",
       "      <td>144.9602064</td>\n",
       "      <td>$500 per week</td>\n",
       "      <td>[Eltham College - Lonsdale Street Campus, Rive...</td>\n",
       "      <td>[463.3611599786358, 588.5331765906494, 695.270...</td>\n",
       "      <td>[455 Elizabeth St]</td>\n",
       "      <td>[Melbourne, VIC, 3000]</td>\n",
       "      <td>81</td>\n",
       "      <td>None</td>\n",
       "      <td>500</td>\n",
       "      <td>1.0</td>\n",
       "      <td>3000</td>\n",
       "    </tr>\n",
       "    <tr>\n",
       "      <th>1</th>\n",
       "      <td>None</td>\n",
       "      <td>None</td>\n",
       "      <td>1</td>\n",
       "      <td>None</td>\n",
       "      <td>309/9 Commercial Road Melbourne VIC 3004</td>\n",
       "      <td>-37.8456125</td>\n",
       "      <td>144.9793561</td>\n",
       "      <td>$500 per week</td>\n",
       "      <td>[SEDA College (Victoria) - Tennis - Albert Par...</td>\n",
       "      <td>[196.76699981293854, 433.2955593802291, 726.22...</td>\n",
       "      <td>[9 Commercial Rd]</td>\n",
       "      <td>[Melbourne, VIC, 3004]</td>\n",
       "      <td>71</td>\n",
       "      <td>None</td>\n",
       "      <td>500</td>\n",
       "      <td>1.0</td>\n",
       "      <td>3004</td>\n",
       "    </tr>\n",
       "    <tr>\n",
       "      <th>2</th>\n",
       "      <td>2</td>\n",
       "      <td>2</td>\n",
       "      <td>1</td>\n",
       "      <td>None</td>\n",
       "      <td>314/499 St Kilda Road Melbourne VIC 3004</td>\n",
       "      <td>-37.8431328</td>\n",
       "      <td>144.9793408</td>\n",
       "      <td>$900 per week (unfurnished)</td>\n",
       "      <td>[SEDA College (Victoria) - Tennis - Albert Par...</td>\n",
       "      <td>[147.59638689110963, 586.8570067562501, 678.78...</td>\n",
       "      <td>[499 St Kilda Rd]</td>\n",
       "      <td>[Melbourne, VIC, 3004]</td>\n",
       "      <td>276</td>\n",
       "      <td>None</td>\n",
       "      <td>900</td>\n",
       "      <td>1.0</td>\n",
       "      <td>3004</td>\n",
       "    </tr>\n",
       "    <tr>\n",
       "      <th>3</th>\n",
       "      <td>None</td>\n",
       "      <td>None</td>\n",
       "      <td>1</td>\n",
       "      <td>None</td>\n",
       "      <td>Unit 1713/200 Spencer St Melbourne VIC 3000</td>\n",
       "      <td>-37.816228</td>\n",
       "      <td>144.9532465</td>\n",
       "      <td>$440 per week</td>\n",
       "      <td>[Eltham College - King Street Campus, Ozford C...</td>\n",
       "      <td>[241.54098639384102, 397.47737499083695, 398.5...</td>\n",
       "      <td>[200 Spencer St]</td>\n",
       "      <td>[Melbourne, VIC, 3000]</td>\n",
       "      <td>506</td>\n",
       "      <td>None</td>\n",
       "      <td>440</td>\n",
       "      <td>1.0</td>\n",
       "      <td>3000</td>\n",
       "    </tr>\n",
       "    <tr>\n",
       "      <th>4</th>\n",
       "      <td>None</td>\n",
       "      <td>None</td>\n",
       "      <td>None</td>\n",
       "      <td>None</td>\n",
       "      <td>701/101 Therry St Melbourne VIC 3000</td>\n",
       "      <td>-37.8074149</td>\n",
       "      <td>144.9591227</td>\n",
       "      <td>NEW corner apartment Keep your bond</td>\n",
       "      <td>[River Nile School, Simonds Catholic College, ...</td>\n",
       "      <td>[444.35865271135503, 572.3778370522139, 577.38...</td>\n",
       "      <td>[Therry St]</td>\n",
       "      <td>[Melbourne, VIC, 3000]</td>\n",
       "      <td>1380</td>\n",
       "      <td>None</td>\n",
       "      <td></td>\n",
       "      <td>NaN</td>\n",
       "      <td>3000</td>\n",
       "    </tr>\n",
       "    <tr>\n",
       "      <th>5</th>\n",
       "      <td>2</td>\n",
       "      <td>2</td>\n",
       "      <td>None</td>\n",
       "      <td>None</td>\n",
       "      <td>816/101 Therry St Melbourne VIC 3000</td>\n",
       "      <td>-37.8074149</td>\n",
       "      <td>144.9591227</td>\n",
       "      <td>New apartment No bond needed Pets welcome</td>\n",
       "      <td>[River Nile School, Simonds Catholic College, ...</td>\n",
       "      <td>[444.35865271135503, 572.3778370522139, 577.38...</td>\n",
       "      <td>[Therry St]</td>\n",
       "      <td>[Melbourne, VIC, 3000]</td>\n",
       "      <td>1380</td>\n",
       "      <td>None</td>\n",
       "      <td></td>\n",
       "      <td>NaN</td>\n",
       "      <td>3000</td>\n",
       "    </tr>\n",
       "    <tr>\n",
       "      <th>6</th>\n",
       "      <td>2</td>\n",
       "      <td>2</td>\n",
       "      <td>2</td>\n",
       "      <td>None</td>\n",
       "      <td>303/250 St Kilda Road Melbourne VIC 3004</td>\n",
       "      <td>-37.8259165</td>\n",
       "      <td>144.9705248</td>\n",
       "      <td>$1395 Per Week</td>\n",
       "      <td>[Hester Hornbrook Academy, Melbourne Grammar S...</td>\n",
       "      <td>[745.7774466794033, 866.7220566327758, 961.355...</td>\n",
       "      <td>None</td>\n",
       "      <td>None</td>\n",
       "      <td>None</td>\n",
       "      <td>None</td>\n",
       "      <td>1395</td>\n",
       "      <td>1.0</td>\n",
       "      <td>3004</td>\n",
       "    </tr>\n",
       "    <tr>\n",
       "      <th>7</th>\n",
       "      <td>None</td>\n",
       "      <td>None</td>\n",
       "      <td>1</td>\n",
       "      <td>None</td>\n",
       "      <td>805/81 Queens Road Melbourne VIC 3004</td>\n",
       "      <td>-37.853804</td>\n",
       "      <td>144.9798785</td>\n",
       "      <td>$380 weekly</td>\n",
       "      <td>[Wesley College - St Kilda Road Junior Campus,...</td>\n",
       "      <td>[246.02949240830281, 586.9835254409847, 1034.4...</td>\n",
       "      <td>[81 Queens Rd]</td>\n",
       "      <td>[Melbourne, VIC, 3004]</td>\n",
       "      <td>78</td>\n",
       "      <td>None</td>\n",
       "      <td>380</td>\n",
       "      <td>1.0</td>\n",
       "      <td>3004</td>\n",
       "    </tr>\n",
       "    <tr>\n",
       "      <th>8</th>\n",
       "      <td>2</td>\n",
       "      <td>2</td>\n",
       "      <td>1</td>\n",
       "      <td>None</td>\n",
       "      <td>3902/220 Spencer Street Melbourne VIC 3000</td>\n",
       "      <td>-37.8157157</td>\n",
       "      <td>144.9529559</td>\n",
       "      <td>$650 per week</td>\n",
       "      <td>[Eltham College - King Street Campus, Ozford C...</td>\n",
       "      <td>[291.8975714410087, 352.5634804374277, 353.655...</td>\n",
       "      <td>[220 Spencer St]</td>\n",
       "      <td>[Melbourne, VIC, 3000]</td>\n",
       "      <td>1151</td>\n",
       "      <td>None</td>\n",
       "      <td>650</td>\n",
       "      <td>1.0</td>\n",
       "      <td>3000</td>\n",
       "    </tr>\n",
       "    <tr>\n",
       "      <th>9</th>\n",
       "      <td>None</td>\n",
       "      <td>None</td>\n",
       "      <td>None</td>\n",
       "      <td>None</td>\n",
       "      <td>3405/288 Spencer Street Melbourne VIC 3000</td>\n",
       "      <td>-37.813775</td>\n",
       "      <td>144.9520948</td>\n",
       "      <td>$440</td>\n",
       "      <td>[Ozford College - Ozford College Campus, Ozfor...</td>\n",
       "      <td>[240.2562788817361, 241.10246190089674, 307.86...</td>\n",
       "      <td>[288 Spencer St]</td>\n",
       "      <td>[Melbourne, VIC, 3000]</td>\n",
       "      <td>315</td>\n",
       "      <td>None</td>\n",
       "      <td>440</td>\n",
       "      <td>NaN</td>\n",
       "      <td>3000</td>\n",
       "    </tr>\n",
       "  </tbody>\n",
       "</table>\n",
       "</div>"
      ],
      "text/plain": [
       "   Beds Baths Parking  Area                                      Address  \\\n",
       "0     2  None    None  None  605/455 Elizabeth Street Melbourne VIC 3000   \n",
       "1  None  None       1  None     309/9 Commercial Road Melbourne VIC 3004   \n",
       "2     2     2       1  None     314/499 St Kilda Road Melbourne VIC 3004   \n",
       "3  None  None       1  None  Unit 1713/200 Spencer St Melbourne VIC 3000   \n",
       "4  None  None    None  None         701/101 Therry St Melbourne VIC 3000   \n",
       "5     2     2    None  None         816/101 Therry St Melbourne VIC 3000   \n",
       "6     2     2       2  None     303/250 St Kilda Road Melbourne VIC 3004   \n",
       "7  None  None       1  None        805/81 Queens Road Melbourne VIC 3004   \n",
       "8     2     2       1  None   3902/220 Spencer Street Melbourne VIC 3000   \n",
       "9  None  None    None  None   3405/288 Spencer Street Melbourne VIC 3000   \n",
       "\n",
       "      Latitude    Longitude                                       Rent  \\\n",
       "0  -37.8084293  144.9602064                              $500 per week   \n",
       "1  -37.8456125  144.9793561                              $500 per week   \n",
       "2  -37.8431328  144.9793408                $900 per week (unfurnished)   \n",
       "3   -37.816228  144.9532465                              $440 per week   \n",
       "4  -37.8074149  144.9591227        NEW corner apartment Keep your bond   \n",
       "5  -37.8074149  144.9591227  New apartment No bond needed Pets welcome   \n",
       "6  -37.8259165  144.9705248                             $1395 Per Week   \n",
       "7   -37.853804  144.9798785                                $380 weekly   \n",
       "8  -37.8157157  144.9529559                              $650 per week   \n",
       "9   -37.813775  144.9520948                                       $440   \n",
       "\n",
       "                                              School  \\\n",
       "0  [Eltham College - Lonsdale Street Campus, Rive...   \n",
       "1  [SEDA College (Victoria) - Tennis - Albert Par...   \n",
       "2  [SEDA College (Victoria) - Tennis - Albert Par...   \n",
       "3  [Eltham College - King Street Campus, Ozford C...   \n",
       "4  [River Nile School, Simonds Catholic College, ...   \n",
       "5  [River Nile School, Simonds Catholic College, ...   \n",
       "6  [Hester Hornbrook Academy, Melbourne Grammar S...   \n",
       "7  [Wesley College - St Kilda Road Junior Campus,...   \n",
       "8  [Eltham College - King Street Campus, Ozford C...   \n",
       "9  [Ozford College - Ozford College Campus, Ozfor...   \n",
       "\n",
       "                                     School_distance          Location_1  \\\n",
       "0  [463.3611599786358, 588.5331765906494, 695.270...  [455 Elizabeth St]   \n",
       "1  [196.76699981293854, 433.2955593802291, 726.22...   [9 Commercial Rd]   \n",
       "2  [147.59638689110963, 586.8570067562501, 678.78...   [499 St Kilda Rd]   \n",
       "3  [241.54098639384102, 397.47737499083695, 398.5...    [200 Spencer St]   \n",
       "4  [444.35865271135503, 572.3778370522139, 577.38...         [Therry St]   \n",
       "5  [444.35865271135503, 572.3778370522139, 577.38...         [Therry St]   \n",
       "6  [745.7774466794033, 866.7220566327758, 961.355...                None   \n",
       "7  [246.02949240830281, 586.9835254409847, 1034.4...      [81 Queens Rd]   \n",
       "8  [291.8975714410087, 352.5634804374277, 353.655...    [220 Spencer St]   \n",
       "9  [240.2562788817361, 241.10246190089674, 307.86...    [288 Spencer St]   \n",
       "\n",
       "               Location_2 recent_rented_number recent_rented_price  \\\n",
       "0  [Melbourne, VIC, 3000]                   81                None   \n",
       "1  [Melbourne, VIC, 3004]                   71                None   \n",
       "2  [Melbourne, VIC, 3004]                  276                None   \n",
       "3  [Melbourne, VIC, 3000]                  506                None   \n",
       "4  [Melbourne, VIC, 3000]                 1380                None   \n",
       "5  [Melbourne, VIC, 3000]                 1380                None   \n",
       "6                    None                 None                None   \n",
       "7  [Melbourne, VIC, 3004]                   78                None   \n",
       "8  [Melbourne, VIC, 3000]                 1151                None   \n",
       "9  [Melbourne, VIC, 3000]                  315                None   \n",
       "\n",
       "  Converted_Rent  Type Postcode  \n",
       "0            500   1.0     3000  \n",
       "1            500   1.0     3004  \n",
       "2            900   1.0     3004  \n",
       "3            440   1.0     3000  \n",
       "4                  NaN     3000  \n",
       "5                  NaN     3000  \n",
       "6           1395   1.0     3004  \n",
       "7            380   1.0     3004  \n",
       "8            650   1.0     3000  \n",
       "9            440   NaN     3000  "
      ]
     },
     "execution_count": 22,
     "metadata": {},
     "output_type": "execute_result"
    }
   ],
   "source": [
    "house_df"
   ]
  },
  {
   "cell_type": "code",
   "execution_count": 23,
   "metadata": {},
   "outputs": [
    {
     "name": "stderr",
     "output_type": "stream",
     "text": [
      "Setting default log level to \"WARN\".\n",
      "To adjust logging level use sc.setLogLevel(newLevel). For SparkR, use setLogLevel(newLevel).\n"
     ]
    },
    {
     "name": "stdout",
     "output_type": "stream",
     "text": [
      "22/09/02 23:18:27 WARN NativeCodeLoader: Unable to load native-hadoop library for your platform... using builtin-java classes where applicable\n"
     ]
    }
   ],
   "source": [
    "# import required libraries\n",
    "from pyspark.sql import SparkSession, functions as F\n",
    "from pyspark.sql.functions import col, isnan, when, count, mean, udf, split, unix_timestamp, from_unixtime\n",
    "from pyspark.sql.types import StringType, IntegerType\n",
    "\n",
    "# init SparkSession class\n",
    "spark = (\n",
    "    # if available consider use yarn master node\n",
    "    SparkSession.builder.master(\"local[*]\") \n",
    "    \n",
    "    # spark executor env configuration\n",
    "    .config(\"spark.executor.memory\", \"8g\")\n",
    "    .config(\"spark.driver.memory\", \"16g\")\n",
    "    .config(\"spark.executor.cores\", \"2\")\n",
    "    .config(\"spark.executor.instances\", \"6\")\n",
    "    .config(\"spark.sql.session.timeZone\", \"Etc/UTC\")\n",
    "    \n",
    "    # jvm memory configuration\n",
    "    .config(\"spark.memory.offHeap.enabled\", \"true\")\n",
    "    .config(\"spark.memory.offHeap.size\", \"8g\")\n",
    "    \n",
    "    # parquet file load configuration\n",
    "    .config(\"spark.sql.repl.eagerEval.enabled\", 'true')\n",
    "    .config(\"spark.sql.parquet.cacheMetadata\", 'true')\n",
    "    \n",
    "    # build the session\n",
    "    .appName(\"Pyspark Start Template\") # change app name here\n",
    "    .getOrCreate()\n",
    ")\n",
    "\n",
    "# change default log level\n",
    "spark.sparkContext.setLogLevel('ERROR')\n",
    "\n",
    "# import libaries\n",
    "import pandas as pd\n",
    "import seaborn as sns"
   ]
  },
  {
   "cell_type": "code",
   "execution_count": 24,
   "metadata": {},
   "outputs": [
    {
     "name": "stdout",
     "output_type": "stream",
     "text": [
      "<class 'pandas.core.frame.DataFrame'>\n",
      "RangeIndex: 10 entries, 0 to 9\n",
      "Data columns (total 17 columns):\n",
      " #   Column                Non-Null Count  Dtype  \n",
      "---  ------                --------------  -----  \n",
      " 0   Beds                  5 non-null      object \n",
      " 1   Baths                 4 non-null      object \n",
      " 2   Parking               6 non-null      object \n",
      " 3   Area                  0 non-null      object \n",
      " 4   Address               10 non-null     object \n",
      " 5   Latitude              10 non-null     object \n",
      " 6   Longitude             10 non-null     object \n",
      " 7   Rent                  10 non-null     object \n",
      " 8   School                10 non-null     object \n",
      " 9   School_distance       10 non-null     object \n",
      " 10  Location_1            9 non-null      object \n",
      " 11  Location_2            9 non-null      object \n",
      " 12  recent_rented_number  9 non-null      object \n",
      " 13  recent_rented_price   0 non-null      object \n",
      " 14  Converted_Rent        10 non-null     object \n",
      " 15  Type                  7 non-null      float64\n",
      " 16  Postcode              10 non-null     object \n",
      "dtypes: float64(1), object(16)\n",
      "memory usage: 1.5+ KB\n"
     ]
    }
   ],
   "source": [
    "house_df.info()"
   ]
  },
  {
   "cell_type": "code",
   "execution_count": 25,
   "metadata": {},
   "outputs": [],
   "source": [
    "house_df.to_parquet('../data/1.parquet')"
   ]
  },
  {
   "cell_type": "code",
   "execution_count": 26,
   "metadata": {},
   "outputs": [
    {
     "name": "stderr",
     "output_type": "stream",
     "text": [
      "                                                                                \r"
     ]
    },
    {
     "data": {
      "text/html": [
       "<table border='1'>\n",
       "<tr><th>Beds</th><th>Baths</th><th>Parking</th><th>Area</th><th>Address</th><th>Latitude</th><th>Longitude</th><th>Rent</th><th>School</th><th>School_distance</th><th>Location_1</th><th>Location_2</th><th>recent_rented_number</th><th>recent_rented_price</th><th>Converted_Rent</th><th>Type</th><th>Postcode</th></tr>\n",
       "<tr><td>2</td><td>null</td><td>null</td><td>null</td><td>605/455 Elizabeth...</td><td>-37.8084293</td><td>144.9602064</td><td>$500 per week</td><td>[Eltham College -...</td><td>[463.361159978635...</td><td>[455 Elizabeth St]</td><td>[Melbourne, VIC, ...</td><td>81</td><td>null</td><td>500</td><td>1.0</td><td>3000</td></tr>\n",
       "<tr><td>null</td><td>null</td><td>1</td><td>null</td><td>309/9 Commercial ...</td><td>-37.8456125</td><td>144.9793561</td><td>$500 per week</td><td>[SEDA College (Vi...</td><td>[196.766999812938...</td><td>[9 Commercial Rd]</td><td>[Melbourne, VIC, ...</td><td>71</td><td>null</td><td>500</td><td>1.0</td><td>3004</td></tr>\n",
       "<tr><td>2</td><td>2</td><td>1</td><td>null</td><td>314/499 St Kilda ...</td><td>-37.8431328</td><td>144.9793408</td><td>$900 per week (un...</td><td>[SEDA College (Vi...</td><td>[147.596386891109...</td><td>[499 St Kilda Rd]</td><td>[Melbourne, VIC, ...</td><td>276</td><td>null</td><td>900</td><td>1.0</td><td>3004</td></tr>\n",
       "<tr><td>null</td><td>null</td><td>1</td><td>null</td><td>Unit 1713/200 Spe...</td><td>-37.816228</td><td>144.9532465</td><td>$440 per week</td><td>[Eltham College -...</td><td>[241.540986393841...</td><td>[200 Spencer St]</td><td>[Melbourne, VIC, ...</td><td>506</td><td>null</td><td>440</td><td>1.0</td><td>3000</td></tr>\n",
       "<tr><td>null</td><td>null</td><td>null</td><td>null</td><td>701/101 Therry St...</td><td>-37.8074149</td><td>144.9591227</td><td>NEW corner apartm...</td><td>[River Nile Schoo...</td><td>[444.358652711355...</td><td>[Therry St]</td><td>[Melbourne, VIC, ...</td><td>1380</td><td>null</td><td></td><td>null</td><td>3000</td></tr>\n",
       "</table>\n"
      ],
      "text/plain": [
       "+----+-----+-------+----+--------------------+-----------+-----------+--------------------+--------------------+--------------------+------------------+--------------------+--------------------+-------------------+--------------+----+--------+\n",
       "|Beds|Baths|Parking|Area|             Address|   Latitude|  Longitude|                Rent|              School|     School_distance|        Location_1|          Location_2|recent_rented_number|recent_rented_price|Converted_Rent|Type|Postcode|\n",
       "+----+-----+-------+----+--------------------+-----------+-----------+--------------------+--------------------+--------------------+------------------+--------------------+--------------------+-------------------+--------------+----+--------+\n",
       "|   2| null|   null|null|605/455 Elizabeth...|-37.8084293|144.9602064|       $500 per week|[Eltham College -...|[463.361159978635...|[455 Elizabeth St]|[Melbourne, VIC, ...|                  81|               null|           500| 1.0|    3000|\n",
       "|null| null|      1|null|309/9 Commercial ...|-37.8456125|144.9793561|       $500 per week|[SEDA College (Vi...|[196.766999812938...| [9 Commercial Rd]|[Melbourne, VIC, ...|                  71|               null|           500| 1.0|    3004|\n",
       "|   2|    2|      1|null|314/499 St Kilda ...|-37.8431328|144.9793408|$900 per week (un...|[SEDA College (Vi...|[147.596386891109...| [499 St Kilda Rd]|[Melbourne, VIC, ...|                 276|               null|           900| 1.0|    3004|\n",
       "|null| null|      1|null|Unit 1713/200 Spe...| -37.816228|144.9532465|       $440 per week|[Eltham College -...|[241.540986393841...|  [200 Spencer St]|[Melbourne, VIC, ...|                 506|               null|           440| 1.0|    3000|\n",
       "|null| null|   null|null|701/101 Therry St...|-37.8074149|144.9591227|NEW corner apartm...|[River Nile Schoo...|[444.358652711355...|       [Therry St]|[Melbourne, VIC, ...|                1380|               null|              |null|    3000|\n",
       "+----+-----+-------+----+--------------------+-----------+-----------+--------------------+--------------------+--------------------+------------------+--------------------+--------------------+-------------------+--------------+----+--------+"
      ]
     },
     "execution_count": 26,
     "metadata": {},
     "output_type": "execute_result"
    }
   ],
   "source": [
    "pdf = spark.read.parquet(\"../data/1.parquet\", header=True)\n",
    "pdf.limit(5)"
   ]
  },
  {
   "cell_type": "code",
   "execution_count": 27,
   "metadata": {},
   "outputs": [
    {
     "name": "stdout",
     "output_type": "stream",
     "text": [
      "root\n",
      " |-- Beds: string (nullable = true)\n",
      " |-- Baths: string (nullable = true)\n",
      " |-- Parking: string (nullable = true)\n",
      " |-- Area: integer (nullable = true)\n",
      " |-- Address: string (nullable = true)\n",
      " |-- Latitude: string (nullable = true)\n",
      " |-- Longitude: string (nullable = true)\n",
      " |-- Rent: string (nullable = true)\n",
      " |-- School: array (nullable = true)\n",
      " |    |-- element: string (containsNull = true)\n",
      " |-- School_distance: array (nullable = true)\n",
      " |    |-- element: double (containsNull = true)\n",
      " |-- Location_1: array (nullable = true)\n",
      " |    |-- element: string (containsNull = true)\n",
      " |-- Location_2: array (nullable = true)\n",
      " |    |-- element: string (containsNull = true)\n",
      " |-- recent_rented_number: string (nullable = true)\n",
      " |-- recent_rented_price: integer (nullable = true)\n",
      " |-- Converted_Rent: string (nullable = true)\n",
      " |-- Type: double (nullable = true)\n",
      " |-- Postcode: string (nullable = true)\n",
      "\n"
     ]
    }
   ],
   "source": [
    "pdf.printSchema()"
   ]
  },
  {
   "cell_type": "code",
   "execution_count": null,
   "metadata": {},
   "outputs": [],
   "source": []
  },
  {
   "cell_type": "code",
   "execution_count": null,
   "metadata": {},
   "outputs": [],
   "source": []
  },
  {
   "cell_type": "code",
   "execution_count": null,
   "metadata": {},
   "outputs": [],
   "source": []
  },
  {
   "cell_type": "code",
   "execution_count": null,
   "metadata": {},
   "outputs": [],
   "source": []
  },
  {
   "cell_type": "code",
   "execution_count": 1,
   "metadata": {},
   "outputs": [],
   "source": [
    "import os\n",
    "os.chdir('../scripts')\n",
    "\n",
    "from scrape_domain import *\n",
    "from constants import *\n",
    "from utils import *"
   ]
  },
  {
   "cell_type": "code",
   "execution_count": 2,
   "metadata": {},
   "outputs": [
    {
     "name": "stderr",
     "output_type": "stream",
     "text": [
      "100%|██████████| 30/30 [00:12<00:00,  2.41it/s]\n",
      "  0%|          | 1/1000 [00:13<3:46:46, 13.62s/it]"
     ]
    },
    {
     "name": "stdout",
     "output_type": "stream",
     "text": [
      "588\n"
     ]
    },
    {
     "name": "stderr",
     "output_type": "stream",
     "text": [
      "0it [00:00, ?it/s]\n",
      "  0%|          | 2/1000 [00:13<1:35:11,  5.72s/it]"
     ]
    },
    {
     "name": "stdout",
     "output_type": "stream",
     "text": [
      "0\n"
     ]
    },
    {
     "name": "stderr",
     "output_type": "stream",
     "text": [
      "100%|██████████| 3/3 [00:01<00:00,  2.70it/s]\n",
      "  0%|          | 3/1000 [00:15<1:03:30,  3.82s/it]"
     ]
    },
    {
     "name": "stdout",
     "output_type": "stream",
     "text": [
      "46\n"
     ]
    },
    {
     "name": "stderr",
     "output_type": "stream",
     "text": [
      "100%|██████████| 4/4 [00:02<00:00,  1.67it/s]\n",
      "  0%|          | 4/1000 [00:18<58:18,  3.51s/it]  "
     ]
    },
    {
     "name": "stdout",
     "output_type": "stream",
     "text": [
      "76\n"
     ]
    },
    {
     "name": "stderr",
     "output_type": "stream",
     "text": [
      "100%|██████████| 5/5 [00:02<00:00,  1.78it/s]\n",
      "  0%|          | 5/1000 [00:21<57:26,  3.46s/it]"
     ]
    },
    {
     "name": "stdout",
     "output_type": "stream",
     "text": [
      "90\n"
     ]
    },
    {
     "name": "stderr",
     "output_type": "stream",
     "text": [
      "0it [00:00, ?it/s]\n",
      "  1%|          | 6/1000 [00:22<39:29,  2.38s/it]"
     ]
    },
    {
     "name": "stdout",
     "output_type": "stream",
     "text": [
      "0\n"
     ]
    },
    {
     "name": "stderr",
     "output_type": "stream",
     "text": [
      "100%|██████████| 12/12 [00:04<00:00,  2.63it/s]\n",
      "  1%|          | 7/1000 [00:27<54:08,  3.27s/it]"
     ]
    },
    {
     "name": "stdout",
     "output_type": "stream",
     "text": [
      "221\n"
     ]
    },
    {
     "name": "stderr",
     "output_type": "stream",
     "text": [
      "0it [00:00, ?it/s]\n",
      "  1%|          | 8/1000 [00:27<38:07,  2.31s/it]"
     ]
    },
    {
     "name": "stdout",
     "output_type": "stream",
     "text": [
      "0\n"
     ]
    },
    {
     "name": "stderr",
     "output_type": "stream",
     "text": [
      "100%|██████████| 7/7 [00:02<00:00,  2.44it/s]\n",
      "  1%|          | 9/1000 [00:30<43:15,  2.62s/it]"
     ]
    },
    {
     "name": "stdout",
     "output_type": "stream",
     "text": [
      "140\n"
     ]
    },
    {
     "name": "stderr",
     "output_type": "stream",
     "text": [
      "0it [00:00, ?it/s]\n",
      "  1%|          | 10/1000 [00:31<31:29,  1.91s/it]"
     ]
    },
    {
     "name": "stdout",
     "output_type": "stream",
     "text": [
      "0\n"
     ]
    },
    {
     "name": "stderr",
     "output_type": "stream",
     "text": [
      "0it [00:00, ?it/s]\n",
      "  1%|          | 11/1000 [00:31<23:29,  1.42s/it]"
     ]
    },
    {
     "name": "stdout",
     "output_type": "stream",
     "text": [
      "0\n"
     ]
    },
    {
     "name": "stderr",
     "output_type": "stream",
     "text": [
      "100%|██████████| 10/10 [00:04<00:00,  2.12it/s]\n",
      "  1%|          | 12/1000 [00:36<41:48,  2.54s/it]"
     ]
    },
    {
     "name": "stdout",
     "output_type": "stream",
     "text": [
      "199\n"
     ]
    },
    {
     "name": "stderr",
     "output_type": "stream",
     "text": [
      "100%|██████████| 7/7 [00:02<00:00,  2.43it/s]\n",
      "  1%|▏         | 13/1000 [00:39<45:02,  2.74s/it]"
     ]
    },
    {
     "name": "stdout",
     "output_type": "stream",
     "text": [
      "126\n"
     ]
    },
    {
     "name": "stderr",
     "output_type": "stream",
     "text": [
      "100%|██████████| 5/5 [00:01<00:00,  2.92it/s]\n",
      "  1%|▏         | 14/1000 [00:41<41:47,  2.54s/it]"
     ]
    },
    {
     "name": "stdout",
     "output_type": "stream",
     "text": [
      "83\n"
     ]
    },
    {
     "name": "stderr",
     "output_type": "stream",
     "text": [
      "0it [00:00, ?it/s]\n",
      "  2%|▏         | 15/1000 [00:42<30:26,  1.85s/it]"
     ]
    },
    {
     "name": "stdout",
     "output_type": "stream",
     "text": [
      "0\n"
     ]
    },
    {
     "name": "stderr",
     "output_type": "stream",
     "text": [
      "100%|██████████| 4/4 [00:01<00:00,  2.25it/s]\n",
      "  2%|▏         | 16/1000 [00:44<31:37,  1.93s/it]"
     ]
    },
    {
     "name": "stdout",
     "output_type": "stream",
     "text": [
      "79\n"
     ]
    },
    {
     "name": "stderr",
     "output_type": "stream",
     "text": [
      "100%|██████████| 4/4 [00:02<00:00,  1.59it/s]\n",
      "  2%|▏         | 17/1000 [00:46<36:12,  2.21s/it]"
     ]
    },
    {
     "name": "stdout",
     "output_type": "stream",
     "text": [
      "71\n"
     ]
    },
    {
     "name": "stderr",
     "output_type": "stream",
     "text": [
      "0it [00:00, ?it/s]\n",
      "  2%|▏         | 18/1000 [00:47<26:25,  1.61s/it]"
     ]
    },
    {
     "name": "stdout",
     "output_type": "stream",
     "text": [
      "0\n"
     ]
    },
    {
     "name": "stderr",
     "output_type": "stream",
     "text": [
      "100%|██████████| 3/3 [00:01<00:00,  1.82it/s]\n",
      "  2%|▏         | 19/1000 [00:49<28:19,  1.73s/it]"
     ]
    },
    {
     "name": "stdout",
     "output_type": "stream",
     "text": [
      "56\n"
     ]
    },
    {
     "name": "stderr",
     "output_type": "stream",
     "text": [
      "100%|██████████| 2/2 [00:01<00:00,  1.60it/s]\n",
      "  2%|▏         | 20/1000 [00:50<28:07,  1.72s/it]"
     ]
    },
    {
     "name": "stdout",
     "output_type": "stream",
     "text": [
      "27\n"
     ]
    },
    {
     "name": "stderr",
     "output_type": "stream",
     "text": [
      "100%|██████████| 7/7 [00:02<00:00,  2.82it/s]\n",
      "  2%|▏         | 21/1000 [00:53<33:42,  2.07s/it]"
     ]
    },
    {
     "name": "stdout",
     "output_type": "stream",
     "text": [
      "123\n"
     ]
    },
    {
     "name": "stderr",
     "output_type": "stream",
     "text": [
      "100%|██████████| 7/7 [00:02<00:00,  2.82it/s]\n",
      "  2%|▏         | 22/1000 [00:56<37:57,  2.33s/it]"
     ]
    },
    {
     "name": "stdout",
     "output_type": "stream",
     "text": [
      "134\n"
     ]
    },
    {
     "name": "stderr",
     "output_type": "stream",
     "text": [
      "100%|██████████| 1/1 [00:00<00:00,  2.81it/s]\n",
      "  2%|▏         | 23/1000 [00:57<29:56,  1.84s/it]"
     ]
    },
    {
     "name": "stdout",
     "output_type": "stream",
     "text": [
      "17\n"
     ]
    },
    {
     "name": "stderr",
     "output_type": "stream",
     "text": [
      "100%|██████████| 6/6 [00:02<00:00,  2.37it/s]\n",
      "  2%|▏         | 24/1000 [01:00<35:04,  2.16s/it]"
     ]
    },
    {
     "name": "stdout",
     "output_type": "stream",
     "text": [
      "102\n"
     ]
    },
    {
     "name": "stderr",
     "output_type": "stream",
     "text": [
      "100%|██████████| 7/7 [00:03<00:00,  2.10it/s]\n",
      "  2%|▎         | 25/1000 [01:04<42:37,  2.62s/it]"
     ]
    },
    {
     "name": "stdout",
     "output_type": "stream",
     "text": [
      "121\n"
     ]
    },
    {
     "name": "stderr",
     "output_type": "stream",
     "text": [
      "100%|██████████| 3/3 [00:01<00:00,  2.35it/s]\n",
      "  3%|▎         | 26/1000 [01:05<37:50,  2.33s/it]"
     ]
    },
    {
     "name": "stdout",
     "output_type": "stream",
     "text": [
      "42\n"
     ]
    },
    {
     "name": "stderr",
     "output_type": "stream",
     "text": [
      "100%|██████████| 1/1 [00:00<00:00,  1.61it/s]\n",
      "  3%|▎         | 27/1000 [01:06<30:58,  1.91s/it]"
     ]
    },
    {
     "name": "stdout",
     "output_type": "stream",
     "text": [
      "9\n"
     ]
    },
    {
     "name": "stderr",
     "output_type": "stream",
     "text": [
      "100%|██████████| 2/2 [00:00<00:00,  3.33it/s]\n",
      "  3%|▎         | 28/1000 [01:07<27:53,  1.72s/it]"
     ]
    },
    {
     "name": "stdout",
     "output_type": "stream",
     "text": [
      "21\n"
     ]
    },
    {
     "name": "stderr",
     "output_type": "stream",
     "text": [
      "100%|██████████| 5/5 [00:02<00:00,  2.09it/s]\n",
      "  3%|▎         | 29/1000 [01:10<33:19,  2.06s/it]"
     ]
    },
    {
     "name": "stdout",
     "output_type": "stream",
     "text": [
      "88\n"
     ]
    },
    {
     "name": "stderr",
     "output_type": "stream",
     "text": [
      "100%|██████████| 13/13 [00:05<00:00,  2.22it/s]\n",
      "  3%|▎         | 30/1000 [01:17<53:49,  3.33s/it]"
     ]
    },
    {
     "name": "stdout",
     "output_type": "stream",
     "text": [
      "257\n"
     ]
    },
    {
     "name": "stderr",
     "output_type": "stream",
     "text": [
      "100%|██████████| 14/14 [00:07<00:00,  1.90it/s]\n",
      "  3%|▎         | 31/1000 [01:24<1:16:00,  4.71s/it]"
     ]
    },
    {
     "name": "stdout",
     "output_type": "stream",
     "text": [
      "271\n"
     ]
    },
    {
     "name": "stderr",
     "output_type": "stream",
     "text": [
      "100%|██████████| 6/6 [00:03<00:00,  1.61it/s]\n",
      "  3%|▎         | 32/1000 [01:29<1:14:58,  4.65s/it]"
     ]
    },
    {
     "name": "stdout",
     "output_type": "stream",
     "text": [
      "119\n"
     ]
    },
    {
     "name": "stderr",
     "output_type": "stream",
     "text": [
      "100%|██████████| 7/7 [00:03<00:00,  2.29it/s]\n",
      "  3%|▎         | 33/1000 [01:33<1:10:51,  4.40s/it]"
     ]
    },
    {
     "name": "stdout",
     "output_type": "stream",
     "text": [
      "137\n"
     ]
    },
    {
     "name": "stderr",
     "output_type": "stream",
     "text": [
      "100%|██████████| 2/2 [00:00<00:00,  3.08it/s]\n",
      "  3%|▎         | 34/1000 [01:34<54:25,  3.38s/it]  "
     ]
    },
    {
     "name": "stdout",
     "output_type": "stream",
     "text": [
      "25\n"
     ]
    },
    {
     "name": "stderr",
     "output_type": "stream",
     "text": [
      "100%|██████████| 2/2 [00:00<00:00,  2.17it/s]\n",
      "  4%|▎         | 35/1000 [01:35<44:28,  2.76s/it]"
     ]
    },
    {
     "name": "stdout",
     "output_type": "stream",
     "text": [
      "28\n"
     ]
    },
    {
     "name": "stderr",
     "output_type": "stream",
     "text": [
      "0it [00:00, ?it/s]\n",
      "  4%|▎         | 36/1000 [01:35<31:57,  1.99s/it]"
     ]
    },
    {
     "name": "stdout",
     "output_type": "stream",
     "text": [
      "0\n"
     ]
    },
    {
     "name": "stderr",
     "output_type": "stream",
     "text": [
      "100%|██████████| 1/1 [00:00<00:00,  4.29it/s]\n",
      "  4%|▎         | 37/1000 [01:36<25:22,  1.58s/it]"
     ]
    },
    {
     "name": "stdout",
     "output_type": "stream",
     "text": [
      "4\n"
     ]
    },
    {
     "name": "stderr",
     "output_type": "stream",
     "text": [
      "100%|██████████| 3/3 [00:01<00:00,  1.83it/s]\n",
      "  4%|▍         | 38/1000 [01:38<27:34,  1.72s/it]"
     ]
    },
    {
     "name": "stdout",
     "output_type": "stream",
     "text": [
      "44\n"
     ]
    },
    {
     "name": "stderr",
     "output_type": "stream",
     "text": [
      "100%|██████████| 1/1 [00:00<00:00,  2.82it/s]\n",
      "  4%|▍         | 39/1000 [01:39<22:57,  1.43s/it]"
     ]
    },
    {
     "name": "stdout",
     "output_type": "stream",
     "text": [
      "15\n"
     ]
    },
    {
     "name": "stderr",
     "output_type": "stream",
     "text": [
      "100%|██████████| 5/5 [00:02<00:00,  1.87it/s]\n",
      "  4%|▍         | 40/1000 [01:42<31:20,  1.96s/it]"
     ]
    },
    {
     "name": "stdout",
     "output_type": "stream",
     "text": [
      "81\n"
     ]
    },
    {
     "name": "stderr",
     "output_type": "stream",
     "text": [
      "100%|██████████| 6/6 [00:02<00:00,  2.13it/s]\n",
      "  4%|▍         | 41/1000 [01:45<36:59,  2.31s/it]"
     ]
    },
    {
     "name": "stdout",
     "output_type": "stream",
     "text": [
      "111\n"
     ]
    },
    {
     "name": "stderr",
     "output_type": "stream",
     "text": [
      "100%|██████████| 2/2 [00:01<00:00,  1.85it/s]\n",
      "  4%|▍         | 42/1000 [01:47<33:02,  2.07s/it]"
     ]
    },
    {
     "name": "stdout",
     "output_type": "stream",
     "text": [
      "34\n"
     ]
    },
    {
     "name": "stderr",
     "output_type": "stream",
     "text": [
      "100%|██████████| 3/3 [00:01<00:00,  1.88it/s]\n",
      "  4%|▍         | 43/1000 [01:49<32:35,  2.04s/it]"
     ]
    },
    {
     "name": "stdout",
     "output_type": "stream",
     "text": [
      "44\n"
     ]
    },
    {
     "name": "stderr",
     "output_type": "stream",
     "text": [
      "100%|██████████| 3/3 [00:01<00:00,  2.37it/s]\n",
      "  4%|▍         | 44/1000 [01:50<32:08,  2.02s/it]"
     ]
    },
    {
     "name": "stdout",
     "output_type": "stream",
     "text": [
      "43\n"
     ]
    },
    {
     "name": "stderr",
     "output_type": "stream",
     "text": [
      "100%|██████████| 5/5 [00:02<00:00,  1.99it/s]\n",
      "  4%|▍         | 45/1000 [01:53<36:13,  2.28s/it]"
     ]
    },
    {
     "name": "stdout",
     "output_type": "stream",
     "text": [
      "91\n"
     ]
    },
    {
     "name": "stderr",
     "output_type": "stream",
     "text": [
      "0it [00:00, ?it/s]\n",
      "  5%|▍         | 46/1000 [01:54<27:08,  1.71s/it]"
     ]
    },
    {
     "name": "stdout",
     "output_type": "stream",
     "text": [
      "0\n"
     ]
    },
    {
     "name": "stderr",
     "output_type": "stream",
     "text": [
      "100%|██████████| 8/8 [00:04<00:00,  1.68it/s]\n",
      "  5%|▍         | 47/1000 [01:59<45:29,  2.86s/it]"
     ]
    },
    {
     "name": "stdout",
     "output_type": "stream",
     "text": [
      "142\n"
     ]
    },
    {
     "name": "stderr",
     "output_type": "stream",
     "text": [
      "100%|██████████| 3/3 [00:01<00:00,  2.74it/s]\n",
      "  5%|▍         | 48/1000 [02:01<39:29,  2.49s/it]"
     ]
    },
    {
     "name": "stdout",
     "output_type": "stream",
     "text": [
      "56\n"
     ]
    },
    {
     "name": "stderr",
     "output_type": "stream",
     "text": [
      "100%|██████████| 2/2 [00:00<00:00,  2.60it/s]\n",
      "  5%|▍         | 49/1000 [02:02<33:21,  2.10s/it]"
     ]
    },
    {
     "name": "stdout",
     "output_type": "stream",
     "text": [
      "22\n"
     ]
    },
    {
     "name": "stderr",
     "output_type": "stream",
     "text": [
      "100%|██████████| 1/1 [00:00<00:00,  3.12it/s]\n",
      "  5%|▌         | 50/1000 [02:03<26:51,  1.70s/it]"
     ]
    },
    {
     "name": "stdout",
     "output_type": "stream",
     "text": [
      "13\n"
     ]
    },
    {
     "name": "stderr",
     "output_type": "stream",
     "text": [
      "0it [00:00, ?it/s]\n",
      "  5%|▌         | 51/1000 [02:03<19:49,  1.25s/it]"
     ]
    },
    {
     "name": "stdout",
     "output_type": "stream",
     "text": [
      "0\n"
     ]
    },
    {
     "name": "stderr",
     "output_type": "stream",
     "text": [
      "100%|██████████| 6/6 [00:02<00:00,  2.31it/s]\n",
      "  5%|▌         | 52/1000 [02:06<29:04,  1.84s/it]"
     ]
    },
    {
     "name": "stdout",
     "output_type": "stream",
     "text": [
      "115\n"
     ]
    },
    {
     "name": "stderr",
     "output_type": "stream",
     "text": [
      "100%|██████████| 3/3 [00:01<00:00,  2.82it/s]\n",
      "  5%|▌         | 53/1000 [02:08<27:03,  1.71s/it]"
     ]
    },
    {
     "name": "stdout",
     "output_type": "stream",
     "text": [
      "43\n"
     ]
    },
    {
     "name": "stderr",
     "output_type": "stream",
     "text": [
      "100%|██████████| 8/8 [00:04<00:00,  1.65it/s]\n",
      "  5%|▌         | 54/1000 [02:13<44:24,  2.82s/it]"
     ]
    },
    {
     "name": "stdout",
     "output_type": "stream",
     "text": [
      "160\n"
     ]
    },
    {
     "name": "stderr",
     "output_type": "stream",
     "text": [
      "100%|██████████| 3/3 [00:01<00:00,  2.07it/s]\n",
      "  6%|▌         | 55/1000 [02:15<39:37,  2.52s/it]"
     ]
    },
    {
     "name": "stdout",
     "output_type": "stream",
     "text": [
      "53\n"
     ]
    },
    {
     "name": "stderr",
     "output_type": "stream",
     "text": [
      "100%|██████████| 5/5 [00:02<00:00,  1.97it/s]\n",
      "  6%|▌         | 56/1000 [02:18<41:52,  2.66s/it]"
     ]
    },
    {
     "name": "stdout",
     "output_type": "stream",
     "text": [
      "93\n"
     ]
    },
    {
     "name": "stderr",
     "output_type": "stream",
     "text": [
      "100%|██████████| 8/8 [00:03<00:00,  2.08it/s]\n",
      "  6%|▌         | 57/1000 [02:22<49:43,  3.16s/it]"
     ]
    },
    {
     "name": "stdout",
     "output_type": "stream",
     "text": [
      "144\n"
     ]
    },
    {
     "name": "stderr",
     "output_type": "stream",
     "text": [
      "100%|██████████| 5/5 [00:03<00:00,  1.64it/s]\n",
      "  6%|▌         | 58/1000 [02:26<51:28,  3.28s/it]"
     ]
    },
    {
     "name": "stdout",
     "output_type": "stream",
     "text": [
      "87\n"
     ]
    },
    {
     "name": "stderr",
     "output_type": "stream",
     "text": [
      "100%|██████████| 6/6 [00:03<00:00,  1.99it/s]\n",
      "  6%|▌         | 59/1000 [02:30<53:38,  3.42s/it]"
     ]
    },
    {
     "name": "stdout",
     "output_type": "stream",
     "text": [
      "116\n"
     ]
    },
    {
     "name": "stderr",
     "output_type": "stream",
     "text": [
      "100%|██████████| 1/1 [00:00<00:00,  1.40it/s]\n",
      "  6%|▌         | 60/1000 [02:31<42:30,  2.71s/it]"
     ]
    },
    {
     "name": "stdout",
     "output_type": "stream",
     "text": [
      "17\n"
     ]
    },
    {
     "name": "stderr",
     "output_type": "stream",
     "text": [
      "100%|██████████| 2/2 [00:00<00:00,  2.80it/s]\n",
      "  6%|▌         | 61/1000 [02:32<35:08,  2.25s/it]"
     ]
    },
    {
     "name": "stdout",
     "output_type": "stream",
     "text": [
      "35\n"
     ]
    },
    {
     "name": "stderr",
     "output_type": "stream",
     "text": [
      "100%|██████████| 1/1 [00:00<00:00,  3.20it/s]\n",
      "  6%|▌         | 62/1000 [02:32<27:23,  1.75s/it]"
     ]
    },
    {
     "name": "stdout",
     "output_type": "stream",
     "text": [
      "6\n"
     ]
    },
    {
     "name": "stderr",
     "output_type": "stream",
     "text": [
      "0it [00:00, ?it/s]\n",
      "  6%|▋         | 63/1000 [02:33<20:27,  1.31s/it]"
     ]
    },
    {
     "name": "stdout",
     "output_type": "stream",
     "text": [
      "0\n"
     ]
    },
    {
     "name": "stderr",
     "output_type": "stream",
     "text": [
      "100%|██████████| 1/1 [00:00<00:00,  1.87it/s]\n",
      "  6%|▋         | 64/1000 [02:34<19:41,  1.26s/it]"
     ]
    },
    {
     "name": "stdout",
     "output_type": "stream",
     "text": [
      "1\n"
     ]
    },
    {
     "name": "stderr",
     "output_type": "stream",
     "text": [
      "100%|██████████| 10/10 [00:04<00:00,  2.20it/s]\n",
      "  6%|▋         | 65/1000 [02:39<38:30,  2.47s/it]"
     ]
    },
    {
     "name": "stdout",
     "output_type": "stream",
     "text": [
      "191\n"
     ]
    },
    {
     "name": "stderr",
     "output_type": "stream",
     "text": [
      "100%|██████████| 3/3 [00:01<00:00,  2.28it/s]\n",
      "  7%|▋         | 66/1000 [02:41<35:16,  2.27s/it]"
     ]
    },
    {
     "name": "stdout",
     "output_type": "stream",
     "text": [
      "60\n"
     ]
    },
    {
     "name": "stderr",
     "output_type": "stream",
     "text": [
      "100%|██████████| 3/3 [00:01<00:00,  2.41it/s]\n",
      "  7%|▋         | 67/1000 [02:43<32:52,  2.11s/it]"
     ]
    },
    {
     "name": "stdout",
     "output_type": "stream",
     "text": [
      "51\n"
     ]
    },
    {
     "name": "stderr",
     "output_type": "stream",
     "text": [
      "100%|██████████| 3/3 [00:01<00:00,  2.33it/s]\n",
      "  7%|▋         | 68/1000 [02:44<31:23,  2.02s/it]"
     ]
    },
    {
     "name": "stdout",
     "output_type": "stream",
     "text": [
      "51\n"
     ]
    },
    {
     "name": "stderr",
     "output_type": "stream",
     "text": [
      "100%|██████████| 5/5 [00:02<00:00,  2.10it/s]\n",
      "  7%|▋         | 69/1000 [02:47<35:01,  2.26s/it]"
     ]
    },
    {
     "name": "stdout",
     "output_type": "stream",
     "text": [
      "86\n"
     ]
    },
    {
     "name": "stderr",
     "output_type": "stream",
     "text": [
      "0it [00:00, ?it/s]\n",
      "  7%|▋         | 70/1000 [02:48<25:56,  1.67s/it]"
     ]
    },
    {
     "name": "stdout",
     "output_type": "stream",
     "text": [
      "0\n"
     ]
    },
    {
     "name": "stderr",
     "output_type": "stream",
     "text": [
      "100%|██████████| 6/6 [00:02<00:00,  2.32it/s]\n",
      "  7%|▋         | 71/1000 [02:51<32:37,  2.11s/it]"
     ]
    },
    {
     "name": "stdout",
     "output_type": "stream",
     "text": [
      "106\n"
     ]
    },
    {
     "name": "stderr",
     "output_type": "stream",
     "text": [
      "100%|██████████| 4/4 [00:01<00:00,  2.20it/s]\n",
      "  7%|▋         | 72/1000 [02:53<33:11,  2.15s/it]"
     ]
    },
    {
     "name": "stdout",
     "output_type": "stream",
     "text": [
      "65\n"
     ]
    },
    {
     "name": "stderr",
     "output_type": "stream",
     "text": [
      "100%|██████████| 7/7 [00:02<00:00,  2.35it/s]\n",
      "  7%|▋         | 73/1000 [02:56<39:36,  2.56s/it]"
     ]
    },
    {
     "name": "stdout",
     "output_type": "stream",
     "text": [
      "135\n"
     ]
    },
    {
     "name": "stderr",
     "output_type": "stream",
     "text": [
      "100%|██████████| 9/9 [00:03<00:00,  2.63it/s]\n",
      "  7%|▋         | 74/1000 [03:00<46:04,  2.99s/it]"
     ]
    },
    {
     "name": "stdout",
     "output_type": "stream",
     "text": [
      "177\n"
     ]
    },
    {
     "name": "stderr",
     "output_type": "stream",
     "text": [
      "100%|██████████| 3/3 [00:01<00:00,  2.73it/s]\n",
      "  8%|▊         | 75/1000 [03:02<38:54,  2.52s/it]"
     ]
    },
    {
     "name": "stdout",
     "output_type": "stream",
     "text": [
      "52\n"
     ]
    },
    {
     "name": "stderr",
     "output_type": "stream",
     "text": [
      "100%|██████████| 2/2 [00:01<00:00,  1.76it/s]\n",
      "  8%|▊         | 76/1000 [03:03<34:21,  2.23s/it]"
     ]
    },
    {
     "name": "stdout",
     "output_type": "stream",
     "text": [
      "34\n"
     ]
    },
    {
     "name": "stderr",
     "output_type": "stream",
     "text": [
      "100%|██████████| 3/3 [00:01<00:00,  2.20it/s]\n",
      "  8%|▊         | 77/1000 [03:05<32:21,  2.10s/it]"
     ]
    },
    {
     "name": "stdout",
     "output_type": "stream",
     "text": [
      "52\n"
     ]
    },
    {
     "name": "stderr",
     "output_type": "stream",
     "text": [
      "0it [00:00, ?it/s]\n",
      "  8%|▊         | 78/1000 [03:05<23:37,  1.54s/it]"
     ]
    },
    {
     "name": "stdout",
     "output_type": "stream",
     "text": [
      "0\n"
     ]
    },
    {
     "name": "stderr",
     "output_type": "stream",
     "text": [
      "100%|██████████| 3/3 [00:01<00:00,  1.97it/s]\n",
      "  8%|▊         | 79/1000 [03:07<25:56,  1.69s/it]"
     ]
    },
    {
     "name": "stdout",
     "output_type": "stream",
     "text": [
      "58\n"
     ]
    },
    {
     "name": "stderr",
     "output_type": "stream",
     "text": [
      "100%|██████████| 3/3 [00:01<00:00,  2.81it/s]\n",
      "  8%|▊         | 80/1000 [03:09<24:45,  1.61s/it]"
     ]
    },
    {
     "name": "stdout",
     "output_type": "stream",
     "text": [
      "57\n"
     ]
    },
    {
     "name": "stderr",
     "output_type": "stream",
     "text": [
      "0it [00:00, ?it/s]\n",
      "  8%|▊         | 81/1000 [03:09<18:57,  1.24s/it]"
     ]
    },
    {
     "name": "stdout",
     "output_type": "stream",
     "text": [
      "0\n"
     ]
    },
    {
     "name": "stderr",
     "output_type": "stream",
     "text": [
      "100%|██████████| 3/3 [00:01<00:00,  2.63it/s]\n",
      "  8%|▊         | 82/1000 [03:11<20:03,  1.31s/it]"
     ]
    },
    {
     "name": "stdout",
     "output_type": "stream",
     "text": [
      "50\n"
     ]
    },
    {
     "name": "stderr",
     "output_type": "stream",
     "text": [
      "100%|██████████| 2/2 [00:00<00:00,  2.85it/s]\n",
      "  8%|▊         | 83/1000 [03:12<18:58,  1.24s/it]"
     ]
    },
    {
     "name": "stdout",
     "output_type": "stream",
     "text": [
      "34\n"
     ]
    },
    {
     "name": "stderr",
     "output_type": "stream",
     "text": [
      "100%|██████████| 6/6 [00:02<00:00,  2.21it/s]\n",
      "  8%|▊         | 84/1000 [03:15<28:20,  1.86s/it]"
     ]
    },
    {
     "name": "stdout",
     "output_type": "stream",
     "text": [
      "116\n"
     ]
    },
    {
     "name": "stderr",
     "output_type": "stream",
     "text": [
      "100%|██████████| 4/4 [00:01<00:00,  2.76it/s]\n",
      "  8%|▊         | 85/1000 [03:17<29:24,  1.93s/it]"
     ]
    },
    {
     "name": "stdout",
     "output_type": "stream",
     "text": [
      "65\n"
     ]
    },
    {
     "name": "stderr",
     "output_type": "stream",
     "text": [
      "100%|██████████| 3/3 [00:01<00:00,  2.12it/s]\n",
      "  9%|▊         | 86/1000 [03:19<28:52,  1.90s/it]"
     ]
    },
    {
     "name": "stdout",
     "output_type": "stream",
     "text": [
      "50\n"
     ]
    },
    {
     "name": "stderr",
     "output_type": "stream",
     "text": [
      "0it [00:00, ?it/s]\n",
      "  9%|▊         | 87/1000 [03:19<21:27,  1.41s/it]"
     ]
    },
    {
     "name": "stdout",
     "output_type": "stream",
     "text": [
      "0\n"
     ]
    },
    {
     "name": "stderr",
     "output_type": "stream",
     "text": [
      "100%|██████████| 1/1 [00:00<00:00,  2.76it/s]\n",
      "  9%|▉         | 88/1000 [03:20<18:02,  1.19s/it]"
     ]
    },
    {
     "name": "stdout",
     "output_type": "stream",
     "text": [
      "17\n"
     ]
    },
    {
     "name": "stderr",
     "output_type": "stream",
     "text": [
      "100%|██████████| 2/2 [00:00<00:00,  3.05it/s]\n",
      "  9%|▉         | 89/1000 [03:21<17:43,  1.17s/it]"
     ]
    },
    {
     "name": "stdout",
     "output_type": "stream",
     "text": [
      "34\n"
     ]
    },
    {
     "name": "stderr",
     "output_type": "stream",
     "text": [
      "100%|██████████| 1/1 [00:00<00:00,  3.30it/s]\n",
      "  9%|▉         | 90/1000 [03:22<15:35,  1.03s/it]"
     ]
    },
    {
     "name": "stdout",
     "output_type": "stream",
     "text": [
      "9\n"
     ]
    },
    {
     "name": "stderr",
     "output_type": "stream",
     "text": [
      "100%|██████████| 1/1 [00:00<00:00,  3.89it/s]\n",
      "  9%|▉         | 91/1000 [03:22<13:53,  1.09it/s]"
     ]
    },
    {
     "name": "stdout",
     "output_type": "stream",
     "text": [
      "1\n"
     ]
    },
    {
     "name": "stderr",
     "output_type": "stream",
     "text": [
      "0it [00:00, ?it/s]\n",
      "  9%|▉         | 92/1000 [03:23<10:40,  1.42it/s]"
     ]
    },
    {
     "name": "stdout",
     "output_type": "stream",
     "text": [
      "0\n"
     ]
    },
    {
     "name": "stderr",
     "output_type": "stream",
     "text": [
      "0it [00:00, ?it/s]\n",
      "  9%|▉         | 93/1000 [03:23<08:57,  1.69it/s]"
     ]
    },
    {
     "name": "stdout",
     "output_type": "stream",
     "text": [
      "0\n"
     ]
    },
    {
     "name": "stderr",
     "output_type": "stream",
     "text": [
      "100%|██████████| 1/1 [00:00<00:00,  3.66it/s]\n",
      "  9%|▉         | 94/1000 [03:24<08:36,  1.75it/s]"
     ]
    },
    {
     "name": "stdout",
     "output_type": "stream",
     "text": [
      "5\n"
     ]
    },
    {
     "name": "stderr",
     "output_type": "stream",
     "text": [
      "100%|██████████| 1/1 [00:00<00:00,  2.23it/s]\n",
      " 10%|▉         | 95/1000 [03:24<10:12,  1.48it/s]"
     ]
    },
    {
     "name": "stdout",
     "output_type": "stream",
     "text": [
      "7\n"
     ]
    },
    {
     "name": "stderr",
     "output_type": "stream",
     "text": [
      "100%|██████████| 1/1 [00:00<00:00,  2.21it/s]\n",
      " 10%|▉         | 96/1000 [03:25<10:40,  1.41it/s]"
     ]
    },
    {
     "name": "stdout",
     "output_type": "stream",
     "text": [
      "14\n"
     ]
    },
    {
     "name": "stderr",
     "output_type": "stream",
     "text": [
      "0it [00:00, ?it/s]\n",
      " 10%|▉         | 97/1000 [03:26<08:56,  1.68it/s]"
     ]
    },
    {
     "name": "stdout",
     "output_type": "stream",
     "text": [
      "0\n"
     ]
    },
    {
     "name": "stderr",
     "output_type": "stream",
     "text": [
      "0it [00:00, ?it/s]\n",
      " 10%|▉         | 98/1000 [03:26<07:38,  1.97it/s]"
     ]
    },
    {
     "name": "stdout",
     "output_type": "stream",
     "text": [
      "0\n"
     ]
    },
    {
     "name": "stderr",
     "output_type": "stream",
     "text": [
      "0it [00:00, ?it/s]\n",
      " 10%|▉         | 99/1000 [03:26<08:02,  1.87it/s]"
     ]
    },
    {
     "name": "stdout",
     "output_type": "stream",
     "text": [
      "0\n"
     ]
    },
    {
     "name": "stderr",
     "output_type": "stream",
     "text": [
      "100%|██████████| 1/1 [00:00<00:00,  3.15it/s]\n",
      " 10%|█         | 100/1000 [03:27<08:00,  1.87it/s]"
     ]
    },
    {
     "name": "stdout",
     "output_type": "stream",
     "text": [
      "3\n"
     ]
    },
    {
     "name": "stderr",
     "output_type": "stream",
     "text": [
      "0it [00:00, ?it/s]\n",
      " 10%|█         | 101/1000 [03:27<06:27,  2.32it/s]"
     ]
    },
    {
     "name": "stdout",
     "output_type": "stream",
     "text": [
      "0\n"
     ]
    },
    {
     "name": "stderr",
     "output_type": "stream",
     "text": [
      "100%|██████████| 5/5 [00:02<00:00,  2.13it/s]\n",
      " 10%|█         | 102/1000 [03:30<16:52,  1.13s/it]"
     ]
    },
    {
     "name": "stdout",
     "output_type": "stream",
     "text": [
      "97\n"
     ]
    },
    {
     "name": "stderr",
     "output_type": "stream",
     "text": [
      "100%|██████████| 1/1 [00:00<00:00,  2.85it/s]\n",
      " 10%|█         | 103/1000 [03:31<16:00,  1.07s/it]"
     ]
    },
    {
     "name": "stdout",
     "output_type": "stream",
     "text": [
      "18\n"
     ]
    },
    {
     "name": "stderr",
     "output_type": "stream",
     "text": [
      "100%|██████████| 3/3 [00:01<00:00,  2.36it/s]\n",
      " 10%|█         | 104/1000 [03:33<19:32,  1.31s/it]"
     ]
    },
    {
     "name": "stdout",
     "output_type": "stream",
     "text": [
      "42\n"
     ]
    },
    {
     "name": "stderr",
     "output_type": "stream",
     "text": [
      "100%|██████████| 3/3 [00:01<00:00,  2.19it/s]\n",
      " 10%|█         | 105/1000 [03:35<22:23,  1.50s/it]"
     ]
    },
    {
     "name": "stdout",
     "output_type": "stream",
     "text": [
      "43\n"
     ]
    },
    {
     "name": "stderr",
     "output_type": "stream",
     "text": [
      "100%|██████████| 2/2 [00:00<00:00,  2.59it/s]\n",
      " 11%|█         | 106/1000 [03:36<20:34,  1.38s/it]"
     ]
    },
    {
     "name": "stdout",
     "output_type": "stream",
     "text": [
      "25\n"
     ]
    },
    {
     "name": "stderr",
     "output_type": "stream",
     "text": [
      "100%|██████████| 2/2 [00:00<00:00,  2.76it/s]\n",
      " 11%|█         | 107/1000 [03:37<19:01,  1.28s/it]"
     ]
    },
    {
     "name": "stdout",
     "output_type": "stream",
     "text": [
      "23\n"
     ]
    },
    {
     "name": "stderr",
     "output_type": "stream",
     "text": [
      "100%|██████████| 1/1 [00:00<00:00,  2.12it/s]\n",
      " 11%|█         | 108/1000 [03:38<17:04,  1.15s/it]"
     ]
    },
    {
     "name": "stdout",
     "output_type": "stream",
     "text": [
      "16\n"
     ]
    },
    {
     "name": "stderr",
     "output_type": "stream",
     "text": [
      "100%|██████████| 4/4 [00:01<00:00,  2.25it/s]\n",
      " 11%|█         | 109/1000 [03:40<21:36,  1.46s/it]"
     ]
    },
    {
     "name": "stdout",
     "output_type": "stream",
     "text": [
      "77\n"
     ]
    },
    {
     "name": "stderr",
     "output_type": "stream",
     "text": [
      "100%|██████████| 3/3 [00:01<00:00,  1.59it/s]\n",
      " 11%|█         | 110/1000 [03:42<25:06,  1.69s/it]"
     ]
    },
    {
     "name": "stdout",
     "output_type": "stream",
     "text": [
      "51\n"
     ]
    },
    {
     "name": "stderr",
     "output_type": "stream",
     "text": [
      "0it [00:00, ?it/s]\n",
      " 11%|█         | 111/1000 [03:42<18:26,  1.24s/it]"
     ]
    },
    {
     "name": "stdout",
     "output_type": "stream",
     "text": [
      "0\n"
     ]
    },
    {
     "name": "stderr",
     "output_type": "stream",
     "text": [
      "100%|██████████| 1/1 [00:00<00:00,  2.32it/s]\n",
      " 11%|█         | 112/1000 [03:43<16:18,  1.10s/it]"
     ]
    },
    {
     "name": "stdout",
     "output_type": "stream",
     "text": [
      "17\n"
     ]
    },
    {
     "name": "stderr",
     "output_type": "stream",
     "text": [
      "0it [00:00, ?it/s]\n",
      " 11%|█▏        | 113/1000 [03:43<13:12,  1.12it/s]"
     ]
    },
    {
     "name": "stdout",
     "output_type": "stream",
     "text": [
      "0\n"
     ]
    },
    {
     "name": "stderr",
     "output_type": "stream",
     "text": [
      "100%|██████████| 1/1 [00:00<00:00,  3.78it/s]\n",
      " 11%|█▏        | 114/1000 [03:44<12:37,  1.17it/s]"
     ]
    },
    {
     "name": "stdout",
     "output_type": "stream",
     "text": [
      "5\n"
     ]
    },
    {
     "name": "stderr",
     "output_type": "stream",
     "text": [
      "100%|██████████| 1/1 [00:00<00:00,  4.27it/s]\n",
      " 12%|█▏        | 115/1000 [03:45<10:50,  1.36it/s]"
     ]
    },
    {
     "name": "stdout",
     "output_type": "stream",
     "text": [
      "1\n"
     ]
    },
    {
     "name": "stderr",
     "output_type": "stream",
     "text": [
      "100%|██████████| 1/1 [00:00<00:00,  5.02it/s]\n",
      " 12%|█▏        | 116/1000 [03:45<09:17,  1.59it/s]"
     ]
    },
    {
     "name": "stdout",
     "output_type": "stream",
     "text": [
      "1\n"
     ]
    },
    {
     "name": "stderr",
     "output_type": "stream",
     "text": [
      "100%|██████████| 1/1 [00:00<00:00,  2.61it/s]\n",
      " 12%|█▏        | 117/1000 [03:46<10:42,  1.38it/s]"
     ]
    },
    {
     "name": "stdout",
     "output_type": "stream",
     "text": [
      "12\n"
     ]
    },
    {
     "name": "stderr",
     "output_type": "stream",
     "text": [
      "0it [00:00, ?it/s]\n",
      " 12%|█▏        | 118/1000 [03:47<10:37,  1.38it/s]"
     ]
    },
    {
     "name": "stdout",
     "output_type": "stream",
     "text": [
      "0\n"
     ]
    },
    {
     "name": "stderr",
     "output_type": "stream",
     "text": [
      "0it [00:00, ?it/s]\n",
      " 12%|█▏        | 119/1000 [03:47<08:38,  1.70it/s]"
     ]
    },
    {
     "name": "stdout",
     "output_type": "stream",
     "text": [
      "0\n"
     ]
    },
    {
     "name": "stderr",
     "output_type": "stream",
     "text": [
      "0it [00:00, ?it/s]\n",
      " 12%|█▏        | 120/1000 [03:47<07:03,  2.08it/s]"
     ]
    },
    {
     "name": "stdout",
     "output_type": "stream",
     "text": [
      "0\n"
     ]
    },
    {
     "name": "stderr",
     "output_type": "stream",
     "text": [
      "0it [00:00, ?it/s]\n",
      " 12%|█▏        | 121/1000 [03:47<05:45,  2.55it/s]"
     ]
    },
    {
     "name": "stdout",
     "output_type": "stream",
     "text": [
      "0\n"
     ]
    },
    {
     "name": "stderr",
     "output_type": "stream",
     "text": [
      "100%|██████████| 11/11 [00:04<00:00,  2.34it/s]\n",
      " 12%|█▏        | 122/1000 [03:53<26:37,  1.82s/it]"
     ]
    },
    {
     "name": "stdout",
     "output_type": "stream",
     "text": [
      "219\n"
     ]
    },
    {
     "name": "stderr",
     "output_type": "stream",
     "text": [
      "100%|██████████| 8/8 [00:03<00:00,  2.16it/s]\n",
      " 12%|█▏        | 123/1000 [03:57<36:57,  2.53s/it]"
     ]
    },
    {
     "name": "stdout",
     "output_type": "stream",
     "text": [
      "159\n"
     ]
    },
    {
     "name": "stderr",
     "output_type": "stream",
     "text": [
      "100%|██████████| 6/6 [00:02<00:00,  2.15it/s]\n",
      " 12%|█▏        | 124/1000 [04:00<40:17,  2.76s/it]"
     ]
    },
    {
     "name": "stdout",
     "output_type": "stream",
     "text": [
      "112\n"
     ]
    },
    {
     "name": "stderr",
     "output_type": "stream",
     "text": [
      "100%|██████████| 5/5 [00:02<00:00,  2.49it/s]\n",
      " 12%|█▎        | 125/1000 [04:03<39:08,  2.68s/it]"
     ]
    },
    {
     "name": "stdout",
     "output_type": "stream",
     "text": [
      "83\n"
     ]
    },
    {
     "name": "stderr",
     "output_type": "stream",
     "text": [
      "100%|██████████| 4/4 [00:03<00:00,  1.23it/s]\n",
      " 13%|█▎        | 126/1000 [04:06<43:04,  2.96s/it]"
     ]
    },
    {
     "name": "stdout",
     "output_type": "stream",
     "text": [
      "80\n"
     ]
    },
    {
     "name": "stderr",
     "output_type": "stream",
     "text": [
      "100%|██████████| 2/2 [00:00<00:00,  3.20it/s]\n",
      " 13%|█▎        | 127/1000 [04:07<34:40,  2.38s/it]"
     ]
    },
    {
     "name": "stdout",
     "output_type": "stream",
     "text": [
      "24\n"
     ]
    },
    {
     "name": "stderr",
     "output_type": "stream",
     "text": [
      "100%|██████████| 4/4 [00:01<00:00,  2.02it/s]\n",
      " 13%|█▎        | 128/1000 [04:10<35:05,  2.41s/it]"
     ]
    },
    {
     "name": "stdout",
     "output_type": "stream",
     "text": [
      "61\n"
     ]
    },
    {
     "name": "stderr",
     "output_type": "stream",
     "text": [
      "100%|██████████| 7/7 [00:02<00:00,  2.49it/s]\n",
      " 13%|█▎        | 129/1000 [04:13<38:24,  2.65s/it]"
     ]
    },
    {
     "name": "stdout",
     "output_type": "stream",
     "text": [
      "126\n"
     ]
    },
    {
     "name": "stderr",
     "output_type": "stream",
     "text": [
      "100%|██████████| 3/3 [00:01<00:00,  2.29it/s]\n",
      " 13%|█▎        | 130/1000 [04:15<34:17,  2.37s/it]"
     ]
    },
    {
     "name": "stdout",
     "output_type": "stream",
     "text": [
      "42\n"
     ]
    },
    {
     "name": "stderr",
     "output_type": "stream",
     "text": [
      "100%|██████████| 4/4 [00:02<00:00,  1.98it/s]\n",
      " 13%|█▎        | 131/1000 [04:17<34:13,  2.36s/it]"
     ]
    },
    {
     "name": "stdout",
     "output_type": "stream",
     "text": [
      "61\n"
     ]
    },
    {
     "name": "stderr",
     "output_type": "stream",
     "text": [
      "100%|██████████| 3/3 [00:01<00:00,  2.63it/s]\n",
      " 13%|█▎        | 132/1000 [04:19<31:03,  2.15s/it]"
     ]
    },
    {
     "name": "stdout",
     "output_type": "stream",
     "text": [
      "49\n"
     ]
    },
    {
     "name": "stderr",
     "output_type": "stream",
     "text": [
      "100%|██████████| 2/2 [00:01<00:00,  1.66it/s]\n",
      " 13%|█▎        | 133/1000 [04:20<28:43,  1.99s/it]"
     ]
    },
    {
     "name": "stdout",
     "output_type": "stream",
     "text": [
      "28\n"
     ]
    },
    {
     "name": "stderr",
     "output_type": "stream",
     "text": [
      "100%|██████████| 2/2 [00:00<00:00,  2.99it/s]\n",
      " 13%|█▎        | 134/1000 [04:21<24:27,  1.69s/it]"
     ]
    },
    {
     "name": "stdout",
     "output_type": "stream",
     "text": [
      "23\n"
     ]
    },
    {
     "name": "stderr",
     "output_type": "stream",
     "text": [
      "100%|██████████| 3/3 [00:02<00:00,  1.17it/s]\n",
      " 14%|█▎        | 135/1000 [04:24<29:43,  2.06s/it]"
     ]
    },
    {
     "name": "stdout",
     "output_type": "stream",
     "text": [
      "58\n"
     ]
    },
    {
     "name": "stderr",
     "output_type": "stream",
     "text": [
      "100%|██████████| 2/2 [00:00<00:00,  2.42it/s]\n",
      " 14%|█▎        | 136/1000 [04:25<25:47,  1.79s/it]"
     ]
    },
    {
     "name": "stdout",
     "output_type": "stream",
     "text": [
      "25\n"
     ]
    },
    {
     "name": "stderr",
     "output_type": "stream",
     "text": [
      "100%|██████████| 3/3 [00:01<00:00,  2.32it/s]\n",
      " 14%|█▎        | 137/1000 [04:27<25:02,  1.74s/it]"
     ]
    },
    {
     "name": "stdout",
     "output_type": "stream",
     "text": [
      "56\n"
     ]
    },
    {
     "name": "stderr",
     "output_type": "stream",
     "text": [
      "100%|██████████| 1/1 [00:00<00:00,  2.64it/s]\n",
      " 14%|█▍        | 138/1000 [04:28<20:24,  1.42s/it]"
     ]
    },
    {
     "name": "stdout",
     "output_type": "stream",
     "text": [
      "10\n"
     ]
    },
    {
     "name": "stderr",
     "output_type": "stream",
     "text": [
      "100%|██████████| 1/1 [00:00<00:00,  2.38it/s]\n",
      " 14%|█▍        | 139/1000 [04:29<18:32,  1.29s/it]"
     ]
    },
    {
     "name": "stdout",
     "output_type": "stream",
     "text": [
      "20\n"
     ]
    },
    {
     "name": "stderr",
     "output_type": "stream",
     "text": [
      "100%|██████████| 1/1 [00:00<00:00,  3.80it/s]\n",
      " 14%|█▍        | 140/1000 [04:29<14:59,  1.05s/it]"
     ]
    },
    {
     "name": "stdout",
     "output_type": "stream",
     "text": [
      "3\n"
     ]
    },
    {
     "name": "stderr",
     "output_type": "stream",
     "text": [
      "100%|██████████| 1/1 [00:00<00:00,  3.29it/s]\n",
      " 14%|█▍        | 141/1000 [04:30<13:34,  1.05it/s]"
     ]
    },
    {
     "name": "stdout",
     "output_type": "stream",
     "text": [
      "11\n"
     ]
    },
    {
     "name": "stderr",
     "output_type": "stream",
     "text": [
      "100%|██████████| 13/13 [00:06<00:00,  1.94it/s]\n",
      " 14%|█▍        | 142/1000 [04:37<39:47,  2.78s/it]"
     ]
    },
    {
     "name": "stdout",
     "output_type": "stream",
     "text": [
      "252\n"
     ]
    },
    {
     "name": "stderr",
     "output_type": "stream",
     "text": [
      "100%|██████████| 4/4 [00:01<00:00,  2.45it/s]\n",
      " 14%|█▍        | 143/1000 [04:39<36:39,  2.57s/it]"
     ]
    },
    {
     "name": "stdout",
     "output_type": "stream",
     "text": [
      "75\n"
     ]
    },
    {
     "name": "stderr",
     "output_type": "stream",
     "text": [
      "100%|██████████| 2/2 [00:00<00:00,  2.43it/s]\n",
      " 14%|█▍        | 144/1000 [04:40<30:43,  2.15s/it]"
     ]
    },
    {
     "name": "stdout",
     "output_type": "stream",
     "text": [
      "39\n"
     ]
    },
    {
     "name": "stderr",
     "output_type": "stream",
     "text": [
      "100%|██████████| 2/2 [00:00<00:00,  2.76it/s]\n",
      " 14%|█▍        | 145/1000 [04:41<26:08,  1.83s/it]"
     ]
    },
    {
     "name": "stdout",
     "output_type": "stream",
     "text": [
      "32\n"
     ]
    },
    {
     "name": "stderr",
     "output_type": "stream",
     "text": [
      "100%|██████████| 5/5 [00:02<00:00,  2.44it/s]\n",
      " 15%|█▍        | 146/1000 [04:44<28:38,  2.01s/it]"
     ]
    },
    {
     "name": "stdout",
     "output_type": "stream",
     "text": [
      "90\n"
     ]
    },
    {
     "name": "stderr",
     "output_type": "stream",
     "text": [
      "100%|██████████| 5/5 [00:02<00:00,  2.38it/s]\n",
      " 15%|█▍        | 147/1000 [04:46<31:21,  2.21s/it]"
     ]
    },
    {
     "name": "stdout",
     "output_type": "stream",
     "text": [
      "86\n"
     ]
    },
    {
     "name": "stderr",
     "output_type": "stream",
     "text": [
      "100%|██████████| 2/2 [00:00<00:00,  2.13it/s]\n",
      " 15%|█▍        | 148/1000 [04:48<27:35,  1.94s/it]"
     ]
    },
    {
     "name": "stdout",
     "output_type": "stream",
     "text": [
      "34\n"
     ]
    },
    {
     "name": "stderr",
     "output_type": "stream",
     "text": [
      "100%|██████████| 2/2 [00:00<00:00,  2.98it/s]\n",
      " 15%|█▍        | 149/1000 [04:49<23:34,  1.66s/it]"
     ]
    },
    {
     "name": "stdout",
     "output_type": "stream",
     "text": [
      "28\n"
     ]
    },
    {
     "name": "stderr",
     "output_type": "stream",
     "text": [
      "100%|██████████| 3/3 [00:01<00:00,  2.71it/s]\n",
      " 15%|█▌        | 150/1000 [04:50<22:56,  1.62s/it]"
     ]
    },
    {
     "name": "stdout",
     "output_type": "stream",
     "text": [
      "56\n"
     ]
    },
    {
     "name": "stderr",
     "output_type": "stream",
     "text": [
      "100%|██████████| 5/5 [00:01<00:00,  2.64it/s]\n",
      " 15%|█▌        | 151/1000 [04:52<25:32,  1.81s/it]"
     ]
    },
    {
     "name": "stdout",
     "output_type": "stream",
     "text": [
      "83\n"
     ]
    },
    {
     "name": "stderr",
     "output_type": "stream",
     "text": [
      "100%|██████████| 2/2 [00:00<00:00,  2.87it/s]\n",
      " 15%|█▌        | 152/1000 [04:54<22:42,  1.61s/it]"
     ]
    },
    {
     "name": "stdout",
     "output_type": "stream",
     "text": [
      "30\n"
     ]
    },
    {
     "name": "stderr",
     "output_type": "stream",
     "text": [
      "100%|██████████| 3/3 [00:01<00:00,  2.47it/s]\n",
      " 15%|█▌        | 153/1000 [04:55<23:38,  1.67s/it]"
     ]
    },
    {
     "name": "stdout",
     "output_type": "stream",
     "text": [
      "49\n"
     ]
    },
    {
     "name": "stderr",
     "output_type": "stream",
     "text": [
      "100%|██████████| 1/1 [00:00<00:00,  2.97it/s]\n",
      " 15%|█▌        | 154/1000 [04:56<19:51,  1.41s/it]"
     ]
    },
    {
     "name": "stdout",
     "output_type": "stream",
     "text": [
      "19\n"
     ]
    },
    {
     "name": "stderr",
     "output_type": "stream",
     "text": [
      "100%|██████████| 1/1 [00:00<00:00,  2.71it/s]\n",
      " 16%|█▌        | 155/1000 [04:57<16:28,  1.17s/it]"
     ]
    },
    {
     "name": "stdout",
     "output_type": "stream",
     "text": [
      "1\n"
     ]
    },
    {
     "name": "stderr",
     "output_type": "stream",
     "text": [
      "100%|██████████| 2/2 [00:02<00:00,  1.05s/it]\n",
      " 16%|█▌        | 156/1000 [04:59<21:47,  1.55s/it]"
     ]
    },
    {
     "name": "stdout",
     "output_type": "stream",
     "text": [
      "27\n"
     ]
    },
    {
     "name": "stderr",
     "output_type": "stream",
     "text": [
      "100%|██████████| 2/2 [00:00<00:00,  2.12it/s]\n",
      " 16%|█▌        | 157/1000 [05:00<20:41,  1.47s/it]"
     ]
    },
    {
     "name": "stdout",
     "output_type": "stream",
     "text": [
      "25\n"
     ]
    },
    {
     "name": "stderr",
     "output_type": "stream",
     "text": [
      "0it [00:00, ?it/s]\n",
      " 16%|█▌        | 158/1000 [05:01<15:25,  1.10s/it]"
     ]
    },
    {
     "name": "stdout",
     "output_type": "stream",
     "text": [
      "0\n"
     ]
    },
    {
     "name": "stderr",
     "output_type": "stream",
     "text": [
      "100%|██████████| 1/1 [00:00<00:00,  5.33it/s]\n",
      " 16%|█▌        | 159/1000 [05:01<12:37,  1.11it/s]"
     ]
    },
    {
     "name": "stdout",
     "output_type": "stream",
     "text": [
      "2\n"
     ]
    },
    {
     "name": "stderr",
     "output_type": "stream",
     "text": [
      "100%|██████████| 1/1 [00:00<00:00,  4.59it/s]\n",
      " 16%|█▌        | 160/1000 [05:02<11:11,  1.25it/s]"
     ]
    },
    {
     "name": "stdout",
     "output_type": "stream",
     "text": [
      "1\n"
     ]
    },
    {
     "name": "stderr",
     "output_type": "stream",
     "text": [
      "100%|██████████| 1/1 [00:00<00:00,  4.06it/s]\n",
      " 16%|█▌        | 161/1000 [05:02<10:15,  1.36it/s]"
     ]
    },
    {
     "name": "stdout",
     "output_type": "stream",
     "text": [
      "1\n"
     ]
    },
    {
     "name": "stderr",
     "output_type": "stream",
     "text": [
      "100%|██████████| 5/5 [00:01<00:00,  2.62it/s]\n",
      " 16%|█▌        | 162/1000 [05:05<16:31,  1.18s/it]"
     ]
    },
    {
     "name": "stdout",
     "output_type": "stream",
     "text": [
      "88\n"
     ]
    },
    {
     "name": "stderr",
     "output_type": "stream",
     "text": [
      "100%|██████████| 4/4 [00:02<00:00,  1.86it/s]\n",
      " 16%|█▋        | 163/1000 [05:07<22:21,  1.60s/it]"
     ]
    },
    {
     "name": "stdout",
     "output_type": "stream",
     "text": [
      "63\n"
     ]
    },
    {
     "name": "stderr",
     "output_type": "stream",
     "text": [
      "100%|██████████| 7/7 [00:03<00:00,  2.31it/s]\n",
      " 16%|█▋        | 164/1000 [05:11<30:03,  2.16s/it]"
     ]
    },
    {
     "name": "stdout",
     "output_type": "stream",
     "text": [
      "136\n"
     ]
    },
    {
     "name": "stderr",
     "output_type": "stream",
     "text": [
      "0it [00:00, ?it/s]\n",
      " 16%|█▋        | 165/1000 [05:11<21:58,  1.58s/it]"
     ]
    },
    {
     "name": "stdout",
     "output_type": "stream",
     "text": [
      "0\n"
     ]
    },
    {
     "name": "stderr",
     "output_type": "stream",
     "text": [
      "100%|██████████| 4/4 [00:01<00:00,  2.10it/s]\n",
      " 17%|█▋        | 166/1000 [05:13<25:37,  1.84s/it]"
     ]
    },
    {
     "name": "stdout",
     "output_type": "stream",
     "text": [
      "73\n"
     ]
    },
    {
     "name": "stderr",
     "output_type": "stream",
     "text": [
      "100%|██████████| 4/4 [00:01<00:00,  2.54it/s]\n",
      " 17%|█▋        | 167/1000 [05:15<26:22,  1.90s/it]"
     ]
    },
    {
     "name": "stdout",
     "output_type": "stream",
     "text": [
      "80\n"
     ]
    },
    {
     "name": "stderr",
     "output_type": "stream",
     "text": [
      "100%|██████████| 1/1 [00:00<00:00,  1.91it/s]\n",
      " 17%|█▋        | 168/1000 [05:16<22:16,  1.61s/it]"
     ]
    },
    {
     "name": "stdout",
     "output_type": "stream",
     "text": [
      "18\n"
     ]
    },
    {
     "name": "stderr",
     "output_type": "stream",
     "text": [
      "100%|██████████| 6/6 [00:03<00:00,  1.92it/s]\n",
      " 17%|█▋        | 169/1000 [05:20<30:36,  2.21s/it]"
     ]
    },
    {
     "name": "stdout",
     "output_type": "stream",
     "text": [
      "116\n"
     ]
    },
    {
     "name": "stderr",
     "output_type": "stream",
     "text": [
      "100%|██████████| 2/2 [00:00<00:00,  2.92it/s]\n",
      " 17%|█▋        | 170/1000 [05:21<26:11,  1.89s/it]"
     ]
    },
    {
     "name": "stdout",
     "output_type": "stream",
     "text": [
      "40\n"
     ]
    },
    {
     "name": "stderr",
     "output_type": "stream",
     "text": [
      "100%|██████████| 2/2 [00:00<00:00,  2.68it/s]\n",
      " 17%|█▋        | 171/1000 [05:22<23:47,  1.72s/it]"
     ]
    },
    {
     "name": "stdout",
     "output_type": "stream",
     "text": [
      "26\n"
     ]
    },
    {
     "name": "stderr",
     "output_type": "stream",
     "text": [
      "100%|██████████| 3/3 [00:00<00:00,  3.05it/s]\n",
      " 17%|█▋        | 172/1000 [05:24<22:17,  1.62s/it]"
     ]
    },
    {
     "name": "stdout",
     "output_type": "stream",
     "text": [
      "44\n"
     ]
    },
    {
     "name": "stderr",
     "output_type": "stream",
     "text": [
      "100%|██████████| 1/1 [00:00<00:00,  3.73it/s]\n",
      " 17%|█▋        | 173/1000 [05:24<17:59,  1.30s/it]"
     ]
    },
    {
     "name": "stdout",
     "output_type": "stream",
     "text": [
      "11\n"
     ]
    },
    {
     "name": "stderr",
     "output_type": "stream",
     "text": [
      "100%|██████████| 1/1 [00:00<00:00,  2.10it/s]\n",
      " 17%|█▋        | 174/1000 [05:25<15:59,  1.16s/it]"
     ]
    },
    {
     "name": "stdout",
     "output_type": "stream",
     "text": [
      "20\n"
     ]
    },
    {
     "name": "stderr",
     "output_type": "stream",
     "text": [
      "100%|██████████| 4/4 [00:01<00:00,  2.11it/s]\n",
      " 18%|█▊        | 175/1000 [05:27<20:30,  1.49s/it]"
     ]
    },
    {
     "name": "stdout",
     "output_type": "stream",
     "text": [
      "76\n"
     ]
    },
    {
     "name": "stderr",
     "output_type": "stream",
     "text": [
      "100%|██████████| 7/7 [00:02<00:00,  2.62it/s]\n",
      " 18%|█▊        | 176/1000 [05:30<26:53,  1.96s/it]"
     ]
    },
    {
     "name": "stdout",
     "output_type": "stream",
     "text": [
      "136\n"
     ]
    },
    {
     "name": "stderr",
     "output_type": "stream",
     "text": [
      "0it [00:00, ?it/s]\n",
      " 18%|█▊        | 177/1000 [05:31<19:38,  1.43s/it]"
     ]
    },
    {
     "name": "stdout",
     "output_type": "stream",
     "text": [
      "0\n"
     ]
    },
    {
     "name": "stderr",
     "output_type": "stream",
     "text": [
      "100%|██████████| 2/2 [00:00<00:00,  2.42it/s]\n",
      " 18%|█▊        | 178/1000 [05:32<18:34,  1.36s/it]"
     ]
    },
    {
     "name": "stdout",
     "output_type": "stream",
     "text": [
      "26\n"
     ]
    },
    {
     "name": "stderr",
     "output_type": "stream",
     "text": [
      "100%|██████████| 1/1 [00:00<00:00,  2.15it/s]\n",
      " 18%|█▊        | 179/1000 [05:33<16:53,  1.23s/it]"
     ]
    },
    {
     "name": "stdout",
     "output_type": "stream",
     "text": [
      "20\n"
     ]
    },
    {
     "name": "stderr",
     "output_type": "stream",
     "text": [
      "100%|██████████| 1/1 [00:00<00:00,  3.43it/s]\n",
      " 18%|█▊        | 180/1000 [05:33<13:58,  1.02s/it]"
     ]
    },
    {
     "name": "stdout",
     "output_type": "stream",
     "text": [
      "7\n"
     ]
    },
    {
     "name": "stderr",
     "output_type": "stream",
     "text": [
      "100%|██████████| 1/1 [00:00<00:00,  3.17it/s]\n",
      " 18%|█▊        | 181/1000 [05:34<12:06,  1.13it/s]"
     ]
    },
    {
     "name": "stdout",
     "output_type": "stream",
     "text": [
      "6\n"
     ]
    },
    {
     "name": "stderr",
     "output_type": "stream",
     "text": [
      "100%|██████████| 10/10 [00:04<00:00,  2.17it/s]\n",
      " 18%|█▊        | 182/1000 [05:39<29:45,  2.18s/it]"
     ]
    },
    {
     "name": "stdout",
     "output_type": "stream",
     "text": [
      "184\n"
     ]
    },
    {
     "name": "stderr",
     "output_type": "stream",
     "text": [
      "100%|██████████| 11/11 [00:04<00:00,  2.44it/s]\n",
      " 18%|█▊        | 183/1000 [05:44<40:32,  2.98s/it]"
     ]
    },
    {
     "name": "stdout",
     "output_type": "stream",
     "text": [
      "204\n"
     ]
    },
    {
     "name": "stderr",
     "output_type": "stream",
     "text": [
      "100%|██████████| 7/7 [00:03<00:00,  2.26it/s]\n",
      " 18%|█▊        | 184/1000 [05:47<42:43,  3.14s/it]"
     ]
    },
    {
     "name": "stdout",
     "output_type": "stream",
     "text": [
      "125\n"
     ]
    },
    {
     "name": "stderr",
     "output_type": "stream",
     "text": [
      "100%|██████████| 6/6 [00:02<00:00,  2.03it/s]\n",
      " 18%|█▊        | 185/1000 [05:51<44:16,  3.26s/it]"
     ]
    },
    {
     "name": "stdout",
     "output_type": "stream",
     "text": [
      "113\n"
     ]
    },
    {
     "name": "stderr",
     "output_type": "stream",
     "text": [
      "100%|██████████| 3/3 [00:01<00:00,  2.28it/s]\n",
      " 19%|█▊        | 186/1000 [05:53<37:59,  2.80s/it]"
     ]
    },
    {
     "name": "stdout",
     "output_type": "stream",
     "text": [
      "53\n"
     ]
    },
    {
     "name": "stderr",
     "output_type": "stream",
     "text": [
      "100%|██████████| 6/6 [00:02<00:00,  2.11it/s]\n",
      " 19%|█▊        | 187/1000 [05:56<40:07,  2.96s/it]"
     ]
    },
    {
     "name": "stdout",
     "output_type": "stream",
     "text": [
      "106\n"
     ]
    },
    {
     "name": "stderr",
     "output_type": "stream",
     "text": [
      "100%|██████████| 3/3 [00:01<00:00,  2.60it/s]\n",
      " 19%|█▉        | 188/1000 [05:57<34:09,  2.52s/it]"
     ]
    },
    {
     "name": "stdout",
     "output_type": "stream",
     "text": [
      "51\n"
     ]
    },
    {
     "name": "stderr",
     "output_type": "stream",
     "text": [
      "100%|██████████| 3/3 [00:01<00:00,  2.89it/s]\n",
      " 19%|█▉        | 189/1000 [05:59<31:14,  2.31s/it]"
     ]
    },
    {
     "name": "stdout",
     "output_type": "stream",
     "text": [
      "42\n"
     ]
    },
    {
     "name": "stderr",
     "output_type": "stream",
     "text": [
      "100%|██████████| 1/1 [00:00<00:00,  2.34it/s]\n",
      " 19%|█▉        | 190/1000 [06:00<25:03,  1.86s/it]"
     ]
    },
    {
     "name": "stdout",
     "output_type": "stream",
     "text": [
      "20\n"
     ]
    },
    {
     "name": "stderr",
     "output_type": "stream",
     "text": [
      "100%|██████████| 2/2 [00:01<00:00,  1.20it/s]\n",
      " 19%|█▉        | 191/1000 [06:02<25:40,  1.90s/it]"
     ]
    },
    {
     "name": "stdout",
     "output_type": "stream",
     "text": [
      "28\n"
     ]
    },
    {
     "name": "stderr",
     "output_type": "stream",
     "text": [
      "100%|██████████| 1/1 [00:00<00:00,  3.01it/s]\n",
      " 19%|█▉        | 192/1000 [06:03<20:32,  1.53s/it]"
     ]
    },
    {
     "name": "stdout",
     "output_type": "stream",
     "text": [
      "18\n"
     ]
    },
    {
     "name": "stderr",
     "output_type": "stream",
     "text": [
      "100%|██████████| 3/3 [00:01<00:00,  1.61it/s]\n",
      " 19%|█▉        | 193/1000 [06:05<23:25,  1.74s/it]"
     ]
    },
    {
     "name": "stdout",
     "output_type": "stream",
     "text": [
      "59\n"
     ]
    },
    {
     "name": "stderr",
     "output_type": "stream",
     "text": [
      "100%|██████████| 2/2 [00:00<00:00,  3.56it/s]\n",
      " 19%|█▉        | 194/1000 [06:06<20:10,  1.50s/it]"
     ]
    },
    {
     "name": "stdout",
     "output_type": "stream",
     "text": [
      "24\n"
     ]
    },
    {
     "name": "stderr",
     "output_type": "stream",
     "text": [
      "100%|██████████| 3/3 [00:01<00:00,  2.38it/s]\n",
      " 20%|█▉        | 195/1000 [06:08<21:36,  1.61s/it]"
     ]
    },
    {
     "name": "stdout",
     "output_type": "stream",
     "text": [
      "41\n"
     ]
    },
    {
     "name": "stderr",
     "output_type": "stream",
     "text": [
      "100%|██████████| 3/3 [00:01<00:00,  2.47it/s]\n",
      " 20%|█▉        | 196/1000 [06:09<21:38,  1.62s/it]"
     ]
    },
    {
     "name": "stdout",
     "output_type": "stream",
     "text": [
      "55\n"
     ]
    },
    {
     "name": "stderr",
     "output_type": "stream",
     "text": [
      "100%|██████████| 2/2 [00:01<00:00,  1.91it/s]\n",
      " 20%|█▉        | 197/1000 [06:11<20:43,  1.55s/it]"
     ]
    },
    {
     "name": "stdout",
     "output_type": "stream",
     "text": [
      "28\n"
     ]
    },
    {
     "name": "stderr",
     "output_type": "stream",
     "text": [
      "100%|██████████| 2/2 [00:00<00:00,  3.42it/s]\n",
      " 20%|█▉        | 198/1000 [06:12<18:23,  1.38s/it]"
     ]
    },
    {
     "name": "stdout",
     "output_type": "stream",
     "text": [
      "22\n"
     ]
    },
    {
     "name": "stderr",
     "output_type": "stream",
     "text": [
      "100%|██████████| 2/2 [00:00<00:00,  2.24it/s]\n",
      " 20%|█▉        | 199/1000 [06:13<17:48,  1.33s/it]"
     ]
    },
    {
     "name": "stdout",
     "output_type": "stream",
     "text": [
      "30\n"
     ]
    },
    {
     "name": "stderr",
     "output_type": "stream",
     "text": [
      "100%|██████████| 6/6 [00:03<00:00,  1.81it/s]\n",
      " 20%|██        | 200/1000 [06:17<27:35,  2.07s/it]"
     ]
    },
    {
     "name": "stdout",
     "output_type": "stream",
     "text": [
      "104\n"
     ]
    },
    {
     "name": "stderr",
     "output_type": "stream",
     "text": [
      "100%|██████████| 1/1 [00:00<00:00,  2.22it/s]\n",
      " 20%|██        | 201/1000 [06:18<22:25,  1.68s/it]"
     ]
    },
    {
     "name": "stdout",
     "output_type": "stream",
     "text": [
      "14\n"
     ]
    },
    {
     "name": "stderr",
     "output_type": "stream",
     "text": [
      "100%|██████████| 1/1 [00:00<00:00,  2.00it/s]\n",
      " 20%|██        | 202/1000 [06:18<19:09,  1.44s/it]"
     ]
    },
    {
     "name": "stdout",
     "output_type": "stream",
     "text": [
      "19\n"
     ]
    },
    {
     "name": "stderr",
     "output_type": "stream",
     "text": [
      "100%|██████████| 1/1 [00:00<00:00,  3.32it/s]\n",
      " 20%|██        | 203/1000 [06:19<15:48,  1.19s/it]"
     ]
    },
    {
     "name": "stdout",
     "output_type": "stream",
     "text": [
      "3\n"
     ]
    },
    {
     "name": "stderr",
     "output_type": "stream",
     "text": [
      "0it [00:00, ?it/s]\n",
      " 20%|██        | 204/1000 [06:19<11:45,  1.13it/s]"
     ]
    },
    {
     "name": "stdout",
     "output_type": "stream",
     "text": [
      "0\n"
     ]
    },
    {
     "name": "stderr",
     "output_type": "stream",
     "text": [
      "100%|██████████| 6/6 [00:02<00:00,  2.19it/s]\n",
      " 20%|██        | 205/1000 [06:22<21:04,  1.59s/it]"
     ]
    },
    {
     "name": "stdout",
     "output_type": "stream",
     "text": [
      "115\n"
     ]
    },
    {
     "name": "stderr",
     "output_type": "stream",
     "text": [
      "100%|██████████| 4/4 [00:01<00:00,  2.53it/s]\n",
      " 21%|██        | 206/1000 [06:24<22:25,  1.69s/it]"
     ]
    },
    {
     "name": "stdout",
     "output_type": "stream",
     "text": [
      "77\n"
     ]
    },
    {
     "name": "stderr",
     "output_type": "stream",
     "text": [
      "100%|██████████| 2/2 [00:00<00:00,  2.13it/s]\n",
      " 21%|██        | 207/1000 [06:26<20:48,  1.57s/it]"
     ]
    },
    {
     "name": "stdout",
     "output_type": "stream",
     "text": [
      "30\n"
     ]
    },
    {
     "name": "stderr",
     "output_type": "stream",
     "text": [
      "100%|██████████| 4/4 [00:01<00:00,  2.22it/s]\n",
      " 21%|██        | 208/1000 [06:28<23:16,  1.76s/it]"
     ]
    },
    {
     "name": "stdout",
     "output_type": "stream",
     "text": [
      "62\n"
     ]
    },
    {
     "name": "stderr",
     "output_type": "stream",
     "text": [
      "0it [00:00, ?it/s]\n",
      " 21%|██        | 209/1000 [06:28<16:58,  1.29s/it]"
     ]
    },
    {
     "name": "stdout",
     "output_type": "stream",
     "text": [
      "0\n"
     ]
    },
    {
     "name": "stderr",
     "output_type": "stream",
     "text": [
      "0it [00:00, ?it/s]\n",
      " 21%|██        | 210/1000 [06:28<13:00,  1.01it/s]"
     ]
    },
    {
     "name": "stdout",
     "output_type": "stream",
     "text": [
      "0\n"
     ]
    },
    {
     "name": "stderr",
     "output_type": "stream",
     "text": [
      "0it [00:00, ?it/s]\n",
      " 21%|██        | 211/1000 [06:29<09:48,  1.34it/s]"
     ]
    },
    {
     "name": "stdout",
     "output_type": "stream",
     "text": [
      "0\n"
     ]
    },
    {
     "name": "stderr",
     "output_type": "stream",
     "text": [
      "100%|██████████| 1/1 [00:00<00:00,  4.74it/s]\n",
      " 21%|██        | 212/1000 [06:29<08:36,  1.53it/s]"
     ]
    },
    {
     "name": "stdout",
     "output_type": "stream",
     "text": [
      "1\n"
     ]
    },
    {
     "name": "stderr",
     "output_type": "stream",
     "text": [
      "100%|██████████| 2/2 [00:00<00:00,  2.31it/s]\n",
      " 21%|██▏       | 213/1000 [06:30<11:13,  1.17it/s]"
     ]
    },
    {
     "name": "stdout",
     "output_type": "stream",
     "text": [
      "34\n"
     ]
    },
    {
     "name": "stderr",
     "output_type": "stream",
     "text": [
      "100%|██████████| 1/1 [00:00<00:00,  3.72it/s]\n",
      " 21%|██▏       | 214/1000 [06:31<10:04,  1.30it/s]"
     ]
    },
    {
     "name": "stdout",
     "output_type": "stream",
     "text": [
      "4\n"
     ]
    },
    {
     "name": "stderr",
     "output_type": "stream",
     "text": [
      "100%|██████████| 2/2 [00:00<00:00,  2.51it/s]\n",
      " 22%|██▏       | 215/1000 [06:32<11:30,  1.14it/s]"
     ]
    },
    {
     "name": "stdout",
     "output_type": "stream",
     "text": [
      "37\n"
     ]
    },
    {
     "name": "stderr",
     "output_type": "stream",
     "text": [
      "100%|██████████| 3/3 [00:01<00:00,  2.76it/s]\n",
      " 22%|██▏       | 216/1000 [06:34<14:02,  1.07s/it]"
     ]
    },
    {
     "name": "stdout",
     "output_type": "stream",
     "text": [
      "42\n"
     ]
    },
    {
     "name": "stderr",
     "output_type": "stream",
     "text": [
      "100%|██████████| 7/7 [00:02<00:00,  2.48it/s]\n",
      " 22%|██▏       | 217/1000 [06:37<22:11,  1.70s/it]"
     ]
    },
    {
     "name": "stdout",
     "output_type": "stream",
     "text": [
      "123\n"
     ]
    },
    {
     "name": "stderr",
     "output_type": "stream",
     "text": [
      "100%|██████████| 4/4 [00:01<00:00,  2.17it/s]\n",
      " 22%|██▏       | 218/1000 [06:39<25:44,  1.98s/it]"
     ]
    },
    {
     "name": "stdout",
     "output_type": "stream",
     "text": [
      "80\n"
     ]
    },
    {
     "name": "stderr",
     "output_type": "stream",
     "text": [
      "100%|██████████| 3/3 [00:01<00:00,  2.71it/s]\n",
      " 22%|██▏       | 219/1000 [06:41<24:51,  1.91s/it]"
     ]
    },
    {
     "name": "stdout",
     "output_type": "stream",
     "text": [
      "55\n"
     ]
    },
    {
     "name": "stderr",
     "output_type": "stream",
     "text": [
      "100%|██████████| 2/2 [00:00<00:00,  3.50it/s]\n",
      " 22%|██▏       | 220/1000 [06:42<21:21,  1.64s/it]"
     ]
    },
    {
     "name": "stdout",
     "output_type": "stream",
     "text": [
      "25\n"
     ]
    },
    {
     "name": "stderr",
     "output_type": "stream",
     "text": [
      "100%|██████████| 4/4 [00:02<00:00,  1.74it/s]\n",
      " 22%|██▏       | 221/1000 [06:45<25:46,  1.98s/it]"
     ]
    },
    {
     "name": "stdout",
     "output_type": "stream",
     "text": [
      "78\n"
     ]
    },
    {
     "name": "stderr",
     "output_type": "stream",
     "text": [
      "0it [00:00, ?it/s]\n",
      " 22%|██▏       | 222/1000 [06:45<18:45,  1.45s/it]"
     ]
    },
    {
     "name": "stdout",
     "output_type": "stream",
     "text": [
      "0\n"
     ]
    },
    {
     "name": "stderr",
     "output_type": "stream",
     "text": [
      "100%|██████████| 2/2 [00:00<00:00,  2.63it/s]\n",
      " 22%|██▏       | 223/1000 [06:46<17:24,  1.34s/it]"
     ]
    },
    {
     "name": "stdout",
     "output_type": "stream",
     "text": [
      "28\n"
     ]
    },
    {
     "name": "stderr",
     "output_type": "stream",
     "text": [
      "100%|██████████| 3/3 [00:01<00:00,  2.06it/s]\n",
      " 22%|██▏       | 224/1000 [06:49<21:08,  1.63s/it]"
     ]
    },
    {
     "name": "stdout",
     "output_type": "stream",
     "text": [
      "45\n"
     ]
    },
    {
     "name": "stderr",
     "output_type": "stream",
     "text": [
      "100%|██████████| 1/1 [00:00<00:00,  2.93it/s]\n",
      " 22%|██▎       | 225/1000 [06:49<17:07,  1.33s/it]"
     ]
    },
    {
     "name": "stdout",
     "output_type": "stream",
     "text": [
      "11\n"
     ]
    },
    {
     "name": "stderr",
     "output_type": "stream",
     "text": [
      "100%|██████████| 1/1 [00:00<00:00,  2.53it/s]\n",
      " 23%|██▎       | 226/1000 [06:50<14:39,  1.14s/it]"
     ]
    },
    {
     "name": "stdout",
     "output_type": "stream",
     "text": [
      "11\n"
     ]
    },
    {
     "name": "stderr",
     "output_type": "stream",
     "text": [
      "100%|██████████| 2/2 [00:00<00:00,  2.39it/s]\n",
      " 23%|██▎       | 227/1000 [06:51<15:16,  1.19s/it]"
     ]
    },
    {
     "name": "stdout",
     "output_type": "stream",
     "text": [
      "36\n"
     ]
    },
    {
     "name": "stderr",
     "output_type": "stream",
     "text": [
      "100%|██████████| 1/1 [00:00<00:00,  2.45it/s]\n",
      " 23%|██▎       | 228/1000 [06:52<13:35,  1.06s/it]"
     ]
    },
    {
     "name": "stdout",
     "output_type": "stream",
     "text": [
      "20\n"
     ]
    },
    {
     "name": "stderr",
     "output_type": "stream",
     "text": [
      "100%|██████████| 2/2 [00:00<00:00,  2.47it/s]\n",
      " 23%|██▎       | 229/1000 [06:53<14:01,  1.09s/it]"
     ]
    },
    {
     "name": "stdout",
     "output_type": "stream",
     "text": [
      "22\n"
     ]
    },
    {
     "name": "stderr",
     "output_type": "stream",
     "text": [
      "0it [00:00, ?it/s]\n",
      " 23%|██▎       | 230/1000 [06:53<10:29,  1.22it/s]"
     ]
    },
    {
     "name": "stdout",
     "output_type": "stream",
     "text": [
      "0\n"
     ]
    },
    {
     "name": "stderr",
     "output_type": "stream",
     "text": [
      "100%|██████████| 1/1 [00:00<00:00,  3.70it/s]\n",
      " 23%|██▎       | 231/1000 [06:54<10:01,  1.28it/s]"
     ]
    },
    {
     "name": "stdout",
     "output_type": "stream",
     "text": [
      "2\n"
     ]
    },
    {
     "name": "stderr",
     "output_type": "stream",
     "text": [
      "0it [00:00, ?it/s]\n",
      " 23%|██▎       | 232/1000 [06:54<07:47,  1.64it/s]"
     ]
    },
    {
     "name": "stdout",
     "output_type": "stream",
     "text": [
      "0\n"
     ]
    },
    {
     "name": "stderr",
     "output_type": "stream",
     "text": [
      "0it [00:00, ?it/s]\n",
      " 23%|██▎       | 233/1000 [06:54<06:08,  2.08it/s]"
     ]
    },
    {
     "name": "stdout",
     "output_type": "stream",
     "text": [
      "0\n"
     ]
    },
    {
     "name": "stderr",
     "output_type": "stream",
     "text": [
      "100%|██████████| 1/1 [00:00<00:00,  3.94it/s]\n",
      " 23%|██▎       | 234/1000 [06:55<06:09,  2.07it/s]"
     ]
    },
    {
     "name": "stdout",
     "output_type": "stream",
     "text": [
      "10\n"
     ]
    },
    {
     "name": "stderr",
     "output_type": "stream",
     "text": [
      "0it [00:00, ?it/s]\n",
      " 24%|██▎       | 235/1000 [06:55<05:12,  2.45it/s]"
     ]
    },
    {
     "name": "stdout",
     "output_type": "stream",
     "text": [
      "0\n"
     ]
    },
    {
     "name": "stderr",
     "output_type": "stream",
     "text": [
      "0it [00:00, ?it/s]\n",
      " 24%|██▎       | 236/1000 [06:55<04:19,  2.94it/s]"
     ]
    },
    {
     "name": "stdout",
     "output_type": "stream",
     "text": [
      "0\n"
     ]
    },
    {
     "name": "stderr",
     "output_type": "stream",
     "text": [
      "100%|██████████| 1/1 [00:00<00:00,  5.35it/s]\n",
      " 24%|██▎       | 237/1000 [06:56<04:43,  2.69it/s]"
     ]
    },
    {
     "name": "stdout",
     "output_type": "stream",
     "text": [
      "1\n"
     ]
    },
    {
     "name": "stderr",
     "output_type": "stream",
     "text": [
      "0it [00:00, ?it/s]\n",
      " 24%|██▍       | 238/1000 [06:56<04:04,  3.12it/s]"
     ]
    },
    {
     "name": "stdout",
     "output_type": "stream",
     "text": [
      "0\n"
     ]
    },
    {
     "name": "stderr",
     "output_type": "stream",
     "text": [
      "0it [00:00, ?it/s]\n",
      " 24%|██▍       | 239/1000 [06:56<03:40,  3.46it/s]"
     ]
    },
    {
     "name": "stdout",
     "output_type": "stream",
     "text": [
      "0\n"
     ]
    },
    {
     "name": "stderr",
     "output_type": "stream",
     "text": [
      "100%|██████████| 1/1 [00:00<00:00,  2.85it/s]\n",
      " 24%|██▍       | 240/1000 [06:57<05:26,  2.33it/s]"
     ]
    },
    {
     "name": "stdout",
     "output_type": "stream",
     "text": [
      "1\n"
     ]
    },
    {
     "name": "stderr",
     "output_type": "stream",
     "text": [
      "100%|██████████| 1/1 [00:00<00:00,  5.30it/s]\n",
      " 24%|██▍       | 241/1000 [06:57<06:02,  2.09it/s]"
     ]
    },
    {
     "name": "stdout",
     "output_type": "stream",
     "text": [
      "1\n"
     ]
    },
    {
     "name": "stderr",
     "output_type": "stream",
     "text": [
      "100%|██████████| 1/1 [00:00<00:00,  3.83it/s]\n",
      " 24%|██▍       | 242/1000 [06:58<06:09,  2.05it/s]"
     ]
    },
    {
     "name": "stdout",
     "output_type": "stream",
     "text": [
      "3\n"
     ]
    },
    {
     "name": "stderr",
     "output_type": "stream",
     "text": [
      "100%|██████████| 1/1 [00:00<00:00,  3.57it/s]\n",
      " 24%|██▍       | 243/1000 [06:58<06:21,  1.98it/s]"
     ]
    },
    {
     "name": "stdout",
     "output_type": "stream",
     "text": [
      "1\n"
     ]
    },
    {
     "name": "stderr",
     "output_type": "stream",
     "text": [
      "0it [00:00, ?it/s]\n",
      " 24%|██▍       | 244/1000 [06:59<05:33,  2.27it/s]"
     ]
    },
    {
     "name": "stdout",
     "output_type": "stream",
     "text": [
      "0\n"
     ]
    },
    {
     "name": "stderr",
     "output_type": "stream",
     "text": [
      "0it [00:00, ?it/s]\n",
      " 24%|██▍       | 245/1000 [06:59<04:38,  2.71it/s]"
     ]
    },
    {
     "name": "stdout",
     "output_type": "stream",
     "text": [
      "0\n"
     ]
    },
    {
     "name": "stderr",
     "output_type": "stream",
     "text": [
      "0it [00:00, ?it/s]\n",
      " 25%|██▍       | 246/1000 [06:59<04:01,  3.12it/s]"
     ]
    },
    {
     "name": "stdout",
     "output_type": "stream",
     "text": [
      "0\n"
     ]
    },
    {
     "name": "stderr",
     "output_type": "stream",
     "text": [
      "0it [00:00, ?it/s]\n",
      " 25%|██▍       | 247/1000 [06:59<03:41,  3.40it/s]"
     ]
    },
    {
     "name": "stdout",
     "output_type": "stream",
     "text": [
      "0\n"
     ]
    },
    {
     "name": "stderr",
     "output_type": "stream",
     "text": [
      "0it [00:00, ?it/s]\n",
      " 25%|██▍       | 248/1000 [07:00<03:17,  3.80it/s]"
     ]
    },
    {
     "name": "stdout",
     "output_type": "stream",
     "text": [
      "0\n"
     ]
    },
    {
     "name": "stderr",
     "output_type": "stream",
     "text": [
      "0it [00:00, ?it/s]\n",
      " 25%|██▍       | 249/1000 [07:00<03:27,  3.62it/s]"
     ]
    },
    {
     "name": "stdout",
     "output_type": "stream",
     "text": [
      "0\n"
     ]
    },
    {
     "name": "stderr",
     "output_type": "stream",
     "text": [
      "100%|██████████| 1/1 [00:00<00:00,  4.07it/s]\n",
      " 25%|██▌       | 250/1000 [07:00<04:15,  2.94it/s]"
     ]
    },
    {
     "name": "stdout",
     "output_type": "stream",
     "text": [
      "2\n"
     ]
    },
    {
     "name": "stderr",
     "output_type": "stream",
     "text": [
      "100%|██████████| 1/1 [00:00<00:00,  3.48it/s]\n",
      " 25%|██▌       | 251/1000 [07:01<05:08,  2.42it/s]"
     ]
    },
    {
     "name": "stdout",
     "output_type": "stream",
     "text": [
      "8\n"
     ]
    },
    {
     "name": "stderr",
     "output_type": "stream",
     "text": [
      "100%|██████████| 1/1 [00:00<00:00,  2.12it/s]\n",
      " 25%|██▌       | 252/1000 [07:02<06:04,  2.05it/s]"
     ]
    },
    {
     "name": "stdout",
     "output_type": "stream",
     "text": [
      "1\n"
     ]
    },
    {
     "name": "stderr",
     "output_type": "stream",
     "text": [
      "0it [00:00, ?it/s]\n",
      " 25%|██▌       | 253/1000 [07:03<08:18,  1.50it/s]"
     ]
    },
    {
     "name": "stdout",
     "output_type": "stream",
     "text": [
      "0\n"
     ]
    },
    {
     "name": "stderr",
     "output_type": "stream",
     "text": [
      "0it [00:00, ?it/s]\n",
      " 25%|██▌       | 254/1000 [07:03<06:39,  1.87it/s]"
     ]
    },
    {
     "name": "stdout",
     "output_type": "stream",
     "text": [
      "0\n"
     ]
    },
    {
     "name": "stderr",
     "output_type": "stream",
     "text": [
      "0it [00:00, ?it/s]\n",
      " 26%|██▌       | 255/1000 [07:03<05:43,  2.17it/s]"
     ]
    },
    {
     "name": "stdout",
     "output_type": "stream",
     "text": [
      "0\n"
     ]
    },
    {
     "name": "stderr",
     "output_type": "stream",
     "text": [
      "0it [00:00, ?it/s]\n",
      " 26%|██▌       | 256/1000 [07:03<04:38,  2.67it/s]"
     ]
    },
    {
     "name": "stdout",
     "output_type": "stream",
     "text": [
      "0\n"
     ]
    },
    {
     "name": "stderr",
     "output_type": "stream",
     "text": [
      "0it [00:00, ?it/s]\n",
      " 26%|██▌       | 257/1000 [07:04<03:54,  3.17it/s]"
     ]
    },
    {
     "name": "stdout",
     "output_type": "stream",
     "text": [
      "0\n"
     ]
    },
    {
     "name": "stderr",
     "output_type": "stream",
     "text": [
      "0it [00:00, ?it/s]\n",
      " 26%|██▌       | 258/1000 [07:04<03:29,  3.54it/s]"
     ]
    },
    {
     "name": "stdout",
     "output_type": "stream",
     "text": [
      "0\n"
     ]
    },
    {
     "name": "stderr",
     "output_type": "stream",
     "text": [
      "0it [00:00, ?it/s]\n",
      " 26%|██▌       | 259/1000 [07:04<03:17,  3.75it/s]"
     ]
    },
    {
     "name": "stdout",
     "output_type": "stream",
     "text": [
      "0\n"
     ]
    },
    {
     "name": "stderr",
     "output_type": "stream",
     "text": [
      "0it [00:00, ?it/s]\n",
      " 26%|██▌       | 260/1000 [07:04<03:05,  4.00it/s]"
     ]
    },
    {
     "name": "stdout",
     "output_type": "stream",
     "text": [
      "0\n"
     ]
    },
    {
     "name": "stderr",
     "output_type": "stream",
     "text": [
      "100%|██████████| 1/1 [00:00<00:00,  2.79it/s]\n",
      " 26%|██▌       | 261/1000 [07:05<06:30,  1.89it/s]"
     ]
    },
    {
     "name": "stdout",
     "output_type": "stream",
     "text": [
      "1\n"
     ]
    },
    {
     "name": "stderr",
     "output_type": "stream",
     "text": [
      "0it [00:00, ?it/s]\n",
      " 26%|██▌       | 262/1000 [07:06<06:48,  1.81it/s]"
     ]
    },
    {
     "name": "stdout",
     "output_type": "stream",
     "text": [
      "0\n"
     ]
    },
    {
     "name": "stderr",
     "output_type": "stream",
     "text": [
      "0it [00:00, ?it/s]\n",
      " 26%|██▋       | 263/1000 [07:07<06:35,  1.86it/s]"
     ]
    },
    {
     "name": "stdout",
     "output_type": "stream",
     "text": [
      "0\n"
     ]
    },
    {
     "name": "stderr",
     "output_type": "stream",
     "text": [
      "0it [00:00, ?it/s]\n",
      " 26%|██▋       | 264/1000 [07:07<05:17,  2.32it/s]"
     ]
    },
    {
     "name": "stdout",
     "output_type": "stream",
     "text": [
      "0\n"
     ]
    },
    {
     "name": "stderr",
     "output_type": "stream",
     "text": [
      "100%|██████████| 1/1 [00:00<00:00,  3.26it/s]\n",
      " 26%|██▋       | 265/1000 [07:07<05:29,  2.23it/s]"
     ]
    },
    {
     "name": "stdout",
     "output_type": "stream",
     "text": [
      "1\n"
     ]
    },
    {
     "name": "stderr",
     "output_type": "stream",
     "text": [
      "0it [00:00, ?it/s]\n",
      " 27%|██▋       | 266/1000 [07:07<04:34,  2.68it/s]"
     ]
    },
    {
     "name": "stdout",
     "output_type": "stream",
     "text": [
      "0\n"
     ]
    },
    {
     "name": "stderr",
     "output_type": "stream",
     "text": [
      "0it [00:00, ?it/s]\n",
      " 27%|██▋       | 267/1000 [07:08<03:55,  3.11it/s]"
     ]
    },
    {
     "name": "stdout",
     "output_type": "stream",
     "text": [
      "0\n"
     ]
    },
    {
     "name": "stderr",
     "output_type": "stream",
     "text": [
      "0it [00:00, ?it/s]\n",
      " 27%|██▋       | 268/1000 [07:08<03:31,  3.46it/s]"
     ]
    },
    {
     "name": "stdout",
     "output_type": "stream",
     "text": [
      "0\n"
     ]
    },
    {
     "name": "stderr",
     "output_type": "stream",
     "text": [
      "100%|██████████| 1/1 [00:00<00:00,  4.26it/s]\n",
      " 27%|██▋       | 269/1000 [07:08<04:15,  2.86it/s]"
     ]
    },
    {
     "name": "stdout",
     "output_type": "stream",
     "text": [
      "1\n"
     ]
    },
    {
     "name": "stderr",
     "output_type": "stream",
     "text": [
      "100%|██████████| 1/1 [00:00<00:00,  5.61it/s]\n",
      " 27%|██▋       | 270/1000 [07:09<05:00,  2.43it/s]"
     ]
    },
    {
     "name": "stdout",
     "output_type": "stream",
     "text": [
      "1\n"
     ]
    },
    {
     "name": "stderr",
     "output_type": "stream",
     "text": [
      "100%|██████████| 1/1 [00:00<00:00,  4.26it/s]\n",
      " 27%|██▋       | 271/1000 [07:09<05:28,  2.22it/s]"
     ]
    },
    {
     "name": "stdout",
     "output_type": "stream",
     "text": [
      "2\n"
     ]
    },
    {
     "name": "stderr",
     "output_type": "stream",
     "text": [
      "0it [00:00, ?it/s]\n",
      " 27%|██▋       | 272/1000 [07:10<04:34,  2.66it/s]"
     ]
    },
    {
     "name": "stdout",
     "output_type": "stream",
     "text": [
      "0\n"
     ]
    },
    {
     "name": "stderr",
     "output_type": "stream",
     "text": [
      "100%|██████████| 1/1 [00:00<00:00,  4.85it/s]\n",
      " 27%|██▋       | 273/1000 [07:10<04:54,  2.47it/s]"
     ]
    },
    {
     "name": "stdout",
     "output_type": "stream",
     "text": [
      "1\n"
     ]
    },
    {
     "name": "stderr",
     "output_type": "stream",
     "text": [
      "100%|██████████| 1/1 [00:00<00:00,  3.63it/s]\n",
      " 27%|██▋       | 274/1000 [07:11<05:11,  2.33it/s]"
     ]
    },
    {
     "name": "stdout",
     "output_type": "stream",
     "text": [
      "1\n"
     ]
    },
    {
     "name": "stderr",
     "output_type": "stream",
     "text": [
      "0it [00:00, ?it/s]\n",
      " 28%|██▊       | 275/1000 [07:11<04:27,  2.71it/s]"
     ]
    },
    {
     "name": "stdout",
     "output_type": "stream",
     "text": [
      "0\n"
     ]
    },
    {
     "name": "stderr",
     "output_type": "stream",
     "text": [
      "0it [00:00, ?it/s]\n",
      " 28%|██▊       | 276/1000 [07:11<03:54,  3.08it/s]"
     ]
    },
    {
     "name": "stdout",
     "output_type": "stream",
     "text": [
      "0\n"
     ]
    },
    {
     "name": "stderr",
     "output_type": "stream",
     "text": [
      "0it [00:00, ?it/s]\n",
      " 28%|██▊       | 277/1000 [07:11<03:41,  3.27it/s]"
     ]
    },
    {
     "name": "stdout",
     "output_type": "stream",
     "text": [
      "0\n"
     ]
    },
    {
     "name": "stderr",
     "output_type": "stream",
     "text": [
      "100%|██████████| 1/1 [00:00<00:00,  4.75it/s]\n",
      " 28%|██▊       | 278/1000 [07:12<04:21,  2.76it/s]"
     ]
    },
    {
     "name": "stdout",
     "output_type": "stream",
     "text": [
      "1\n"
     ]
    },
    {
     "name": "stderr",
     "output_type": "stream",
     "text": [
      "0it [00:00, ?it/s]\n",
      " 28%|██▊       | 279/1000 [07:12<03:57,  3.04it/s]"
     ]
    },
    {
     "name": "stdout",
     "output_type": "stream",
     "text": [
      "0\n"
     ]
    },
    {
     "name": "stderr",
     "output_type": "stream",
     "text": [
      "0it [00:00, ?it/s]\n",
      " 28%|██▊       | 280/1000 [07:12<03:29,  3.43it/s]"
     ]
    },
    {
     "name": "stdout",
     "output_type": "stream",
     "text": [
      "0\n"
     ]
    },
    {
     "name": "stderr",
     "output_type": "stream",
     "text": [
      "100%|██████████| 3/3 [00:01<00:00,  2.67it/s]\n",
      " 28%|██▊       | 281/1000 [07:14<08:55,  1.34it/s]"
     ]
    },
    {
     "name": "stdout",
     "output_type": "stream",
     "text": [
      "41\n"
     ]
    },
    {
     "name": "stderr",
     "output_type": "stream",
     "text": [
      "0it [00:00, ?it/s]\n",
      " 28%|██▊       | 282/1000 [07:14<07:31,  1.59it/s]"
     ]
    },
    {
     "name": "stdout",
     "output_type": "stream",
     "text": [
      "0\n"
     ]
    },
    {
     "name": "stderr",
     "output_type": "stream",
     "text": [
      "0it [00:00, ?it/s]\n",
      " 28%|██▊       | 283/1000 [07:15<06:09,  1.94it/s]"
     ]
    },
    {
     "name": "stdout",
     "output_type": "stream",
     "text": [
      "0\n"
     ]
    },
    {
     "name": "stderr",
     "output_type": "stream",
     "text": [
      "0it [00:00, ?it/s]\n",
      " 28%|██▊       | 284/1000 [07:15<04:56,  2.41it/s]"
     ]
    },
    {
     "name": "stdout",
     "output_type": "stream",
     "text": [
      "0\n"
     ]
    },
    {
     "name": "stderr",
     "output_type": "stream",
     "text": [
      "100%|██████████| 1/1 [00:00<00:00,  4.12it/s]\n",
      " 28%|██▊       | 285/1000 [07:15<05:34,  2.14it/s]"
     ]
    },
    {
     "name": "stdout",
     "output_type": "stream",
     "text": [
      "3\n"
     ]
    },
    {
     "name": "stderr",
     "output_type": "stream",
     "text": [
      "0it [00:00, ?it/s]\n",
      " 29%|██▊       | 286/1000 [07:16<04:38,  2.56it/s]"
     ]
    },
    {
     "name": "stdout",
     "output_type": "stream",
     "text": [
      "0\n"
     ]
    },
    {
     "name": "stderr",
     "output_type": "stream",
     "text": [
      "0it [00:00, ?it/s]\n",
      " 29%|██▊       | 287/1000 [07:16<03:56,  3.02it/s]"
     ]
    },
    {
     "name": "stdout",
     "output_type": "stream",
     "text": [
      "0\n"
     ]
    },
    {
     "name": "stderr",
     "output_type": "stream",
     "text": [
      "100%|██████████| 1/1 [00:00<00:00,  4.53it/s]\n",
      " 29%|██▉       | 288/1000 [07:17<06:26,  1.84it/s]"
     ]
    },
    {
     "name": "stdout",
     "output_type": "stream",
     "text": [
      "2\n"
     ]
    },
    {
     "name": "stderr",
     "output_type": "stream",
     "text": [
      "0it [00:00, ?it/s]\n",
      " 29%|██▉       | 289/1000 [07:17<05:05,  2.33it/s]"
     ]
    },
    {
     "name": "stdout",
     "output_type": "stream",
     "text": [
      "0\n"
     ]
    },
    {
     "name": "stderr",
     "output_type": "stream",
     "text": [
      "100%|██████████| 1/1 [00:00<00:00,  4.34it/s]\n",
      " 29%|██▉       | 290/1000 [07:18<05:36,  2.11it/s]"
     ]
    },
    {
     "name": "stdout",
     "output_type": "stream",
     "text": [
      "1\n"
     ]
    },
    {
     "name": "stderr",
     "output_type": "stream",
     "text": [
      "0it [00:00, ?it/s]\n",
      " 29%|██▉       | 291/1000 [07:18<04:33,  2.59it/s]"
     ]
    },
    {
     "name": "stdout",
     "output_type": "stream",
     "text": [
      "0\n"
     ]
    },
    {
     "name": "stderr",
     "output_type": "stream",
     "text": [
      "0it [00:00, ?it/s]\n",
      " 29%|██▉       | 292/1000 [07:18<03:51,  3.06it/s]"
     ]
    },
    {
     "name": "stdout",
     "output_type": "stream",
     "text": [
      "0\n"
     ]
    },
    {
     "name": "stderr",
     "output_type": "stream",
     "text": [
      "0it [00:00, ?it/s]\n",
      " 29%|██▉       | 293/1000 [07:18<03:51,  3.05it/s]"
     ]
    },
    {
     "name": "stdout",
     "output_type": "stream",
     "text": [
      "0\n"
     ]
    },
    {
     "name": "stderr",
     "output_type": "stream",
     "text": [
      "0it [00:00, ?it/s]\n",
      " 29%|██▉       | 294/1000 [07:19<04:12,  2.80it/s]"
     ]
    },
    {
     "name": "stdout",
     "output_type": "stream",
     "text": [
      "0\n"
     ]
    },
    {
     "name": "stderr",
     "output_type": "stream",
     "text": [
      "0it [00:00, ?it/s]\n",
      " 30%|██▉       | 295/1000 [07:19<03:52,  3.03it/s]"
     ]
    },
    {
     "name": "stdout",
     "output_type": "stream",
     "text": [
      "0\n"
     ]
    },
    {
     "name": "stderr",
     "output_type": "stream",
     "text": [
      "0it [00:00, ?it/s]\n",
      " 30%|██▉       | 296/1000 [07:19<03:22,  3.47it/s]"
     ]
    },
    {
     "name": "stdout",
     "output_type": "stream",
     "text": [
      "0\n"
     ]
    },
    {
     "name": "stderr",
     "output_type": "stream",
     "text": [
      "0it [00:00, ?it/s]\n",
      " 30%|██▉       | 297/1000 [07:19<03:07,  3.76it/s]"
     ]
    },
    {
     "name": "stdout",
     "output_type": "stream",
     "text": [
      "0\n"
     ]
    },
    {
     "name": "stderr",
     "output_type": "stream",
     "text": [
      "0it [00:00, ?it/s]\n",
      " 30%|██▉       | 298/1000 [07:20<03:00,  3.89it/s]"
     ]
    },
    {
     "name": "stdout",
     "output_type": "stream",
     "text": [
      "0\n"
     ]
    },
    {
     "name": "stderr",
     "output_type": "stream",
     "text": [
      "0it [00:00, ?it/s]\n",
      " 30%|██▉       | 299/1000 [07:20<02:45,  4.23it/s]"
     ]
    },
    {
     "name": "stdout",
     "output_type": "stream",
     "text": [
      "0\n"
     ]
    },
    {
     "name": "stderr",
     "output_type": "stream",
     "text": [
      "0it [00:00, ?it/s]\n",
      " 30%|███       | 300/1000 [07:20<02:39,  4.39it/s]"
     ]
    },
    {
     "name": "stdout",
     "output_type": "stream",
     "text": [
      "0\n"
     ]
    },
    {
     "name": "stderr",
     "output_type": "stream",
     "text": [
      "100%|██████████| 1/1 [00:00<00:00,  3.34it/s]\n",
      " 30%|███       | 301/1000 [07:21<04:16,  2.73it/s]"
     ]
    },
    {
     "name": "stdout",
     "output_type": "stream",
     "text": [
      "11\n"
     ]
    },
    {
     "name": "stderr",
     "output_type": "stream",
     "text": [
      "0it [00:00, ?it/s]\n",
      " 30%|███       | 302/1000 [07:21<03:45,  3.10it/s]"
     ]
    },
    {
     "name": "stdout",
     "output_type": "stream",
     "text": [
      "0\n"
     ]
    },
    {
     "name": "stderr",
     "output_type": "stream",
     "text": [
      "100%|██████████| 1/1 [00:00<00:00,  3.68it/s]\n",
      " 30%|███       | 303/1000 [07:21<04:26,  2.62it/s]"
     ]
    },
    {
     "name": "stdout",
     "output_type": "stream",
     "text": [
      "1\n"
     ]
    },
    {
     "name": "stderr",
     "output_type": "stream",
     "text": [
      "0it [00:00, ?it/s]\n",
      " 30%|███       | 304/1000 [07:22<04:07,  2.81it/s]"
     ]
    },
    {
     "name": "stdout",
     "output_type": "stream",
     "text": [
      "0\n"
     ]
    },
    {
     "name": "stderr",
     "output_type": "stream",
     "text": [
      "0it [00:00, ?it/s]\n",
      " 30%|███       | 305/1000 [07:22<05:31,  2.10it/s]"
     ]
    },
    {
     "name": "stdout",
     "output_type": "stream",
     "text": [
      "0\n"
     ]
    },
    {
     "name": "stderr",
     "output_type": "stream",
     "text": [
      "100%|██████████| 1/1 [00:00<00:00,  3.31it/s]\n",
      " 31%|███       | 306/1000 [07:23<05:59,  1.93it/s]"
     ]
    },
    {
     "name": "stdout",
     "output_type": "stream",
     "text": [
      "20\n"
     ]
    },
    {
     "name": "stderr",
     "output_type": "stream",
     "text": [
      "0it [00:00, ?it/s]\n",
      " 31%|███       | 307/1000 [07:23<04:50,  2.39it/s]"
     ]
    },
    {
     "name": "stdout",
     "output_type": "stream",
     "text": [
      "0\n"
     ]
    },
    {
     "name": "stderr",
     "output_type": "stream",
     "text": [
      "0it [00:00, ?it/s]\n",
      " 31%|███       | 308/1000 [07:24<04:14,  2.72it/s]"
     ]
    },
    {
     "name": "stdout",
     "output_type": "stream",
     "text": [
      "0\n"
     ]
    },
    {
     "name": "stderr",
     "output_type": "stream",
     "text": [
      "0it [00:00, ?it/s]\n",
      " 31%|███       | 309/1000 [07:24<04:14,  2.72it/s]"
     ]
    },
    {
     "name": "stdout",
     "output_type": "stream",
     "text": [
      "0\n"
     ]
    },
    {
     "name": "stderr",
     "output_type": "stream",
     "text": [
      "0it [00:00, ?it/s]\n",
      " 31%|███       | 310/1000 [07:24<03:47,  3.04it/s]"
     ]
    },
    {
     "name": "stdout",
     "output_type": "stream",
     "text": [
      "0\n"
     ]
    },
    {
     "name": "stderr",
     "output_type": "stream",
     "text": [
      "0it [00:00, ?it/s]\n",
      " 31%|███       | 311/1000 [07:24<03:26,  3.34it/s]"
     ]
    },
    {
     "name": "stdout",
     "output_type": "stream",
     "text": [
      "0\n"
     ]
    },
    {
     "name": "stderr",
     "output_type": "stream",
     "text": [
      "0it [00:00, ?it/s]\n",
      " 31%|███       | 312/1000 [07:25<03:08,  3.65it/s]"
     ]
    },
    {
     "name": "stdout",
     "output_type": "stream",
     "text": [
      "0\n"
     ]
    },
    {
     "name": "stderr",
     "output_type": "stream",
     "text": [
      "0it [00:00, ?it/s]\n",
      " 31%|███▏      | 313/1000 [07:25<03:09,  3.63it/s]"
     ]
    },
    {
     "name": "stdout",
     "output_type": "stream",
     "text": [
      "0\n"
     ]
    },
    {
     "name": "stderr",
     "output_type": "stream",
     "text": [
      "0it [00:00, ?it/s]\n",
      " 31%|███▏      | 314/1000 [07:25<02:57,  3.87it/s]"
     ]
    },
    {
     "name": "stdout",
     "output_type": "stream",
     "text": [
      "0\n"
     ]
    },
    {
     "name": "stderr",
     "output_type": "stream",
     "text": [
      "0it [00:00, ?it/s]\n",
      " 32%|███▏      | 315/1000 [07:25<02:57,  3.87it/s]"
     ]
    },
    {
     "name": "stdout",
     "output_type": "stream",
     "text": [
      "0\n"
     ]
    },
    {
     "name": "stderr",
     "output_type": "stream",
     "text": [
      "100%|██████████| 1/1 [00:00<00:00,  3.68it/s]\n",
      " 32%|███▏      | 316/1000 [07:26<04:01,  2.83it/s]"
     ]
    },
    {
     "name": "stdout",
     "output_type": "stream",
     "text": [
      "4\n"
     ]
    },
    {
     "name": "stderr",
     "output_type": "stream",
     "text": [
      "0it [00:00, ?it/s]\n",
      " 32%|███▏      | 317/1000 [07:26<03:54,  2.92it/s]"
     ]
    },
    {
     "name": "stdout",
     "output_type": "stream",
     "text": [
      "0\n"
     ]
    },
    {
     "name": "stderr",
     "output_type": "stream",
     "text": [
      "0it [00:00, ?it/s]\n",
      " 32%|███▏      | 318/1000 [07:27<03:41,  3.08it/s]"
     ]
    },
    {
     "name": "stdout",
     "output_type": "stream",
     "text": [
      "0\n"
     ]
    },
    {
     "name": "stderr",
     "output_type": "stream",
     "text": [
      "100%|██████████| 1/1 [00:00<00:00,  4.36it/s]\n",
      " 32%|███▏      | 319/1000 [07:27<04:15,  2.66it/s]"
     ]
    },
    {
     "name": "stdout",
     "output_type": "stream",
     "text": [
      "1\n"
     ]
    },
    {
     "name": "stderr",
     "output_type": "stream",
     "text": [
      "0it [00:00, ?it/s]\n",
      " 32%|███▏      | 320/1000 [07:27<04:00,  2.82it/s]"
     ]
    },
    {
     "name": "stdout",
     "output_type": "stream",
     "text": [
      "0\n"
     ]
    },
    {
     "name": "stderr",
     "output_type": "stream",
     "text": [
      "0it [00:00, ?it/s]\n",
      " 32%|███▏      | 321/1000 [07:28<03:30,  3.22it/s]"
     ]
    },
    {
     "name": "stdout",
     "output_type": "stream",
     "text": [
      "0\n"
     ]
    },
    {
     "name": "stderr",
     "output_type": "stream",
     "text": [
      "0it [00:00, ?it/s]\n",
      " 32%|███▏      | 322/1000 [07:28<03:20,  3.39it/s]"
     ]
    },
    {
     "name": "stdout",
     "output_type": "stream",
     "text": [
      "0\n"
     ]
    },
    {
     "name": "stderr",
     "output_type": "stream",
     "text": [
      "0it [00:00, ?it/s]\n",
      " 32%|███▏      | 323/1000 [07:28<03:13,  3.51it/s]"
     ]
    },
    {
     "name": "stdout",
     "output_type": "stream",
     "text": [
      "0\n"
     ]
    },
    {
     "name": "stderr",
     "output_type": "stream",
     "text": [
      "0it [00:00, ?it/s]\n",
      " 32%|███▏      | 324/1000 [07:28<02:56,  3.84it/s]"
     ]
    },
    {
     "name": "stdout",
     "output_type": "stream",
     "text": [
      "0\n"
     ]
    },
    {
     "name": "stderr",
     "output_type": "stream",
     "text": [
      "100%|██████████| 1/1 [00:00<00:00,  3.70it/s]\n",
      " 32%|███▎      | 325/1000 [07:29<03:36,  3.12it/s]"
     ]
    },
    {
     "name": "stdout",
     "output_type": "stream",
     "text": [
      "1\n"
     ]
    },
    {
     "name": "stderr",
     "output_type": "stream",
     "text": [
      "0it [00:00, ?it/s]\n",
      " 33%|███▎      | 326/1000 [07:29<03:12,  3.50it/s]"
     ]
    },
    {
     "name": "stdout",
     "output_type": "stream",
     "text": [
      "0\n"
     ]
    },
    {
     "name": "stderr",
     "output_type": "stream",
     "text": [
      "0it [00:00, ?it/s]\n",
      " 33%|███▎      | 327/1000 [07:30<04:41,  2.39it/s]"
     ]
    },
    {
     "name": "stdout",
     "output_type": "stream",
     "text": [
      "0\n"
     ]
    },
    {
     "name": "stderr",
     "output_type": "stream",
     "text": [
      "0it [00:00, ?it/s]\n",
      " 33%|███▎      | 328/1000 [07:30<03:53,  2.87it/s]"
     ]
    },
    {
     "name": "stdout",
     "output_type": "stream",
     "text": [
      "0\n"
     ]
    },
    {
     "name": "stderr",
     "output_type": "stream",
     "text": [
      "0it [00:00, ?it/s]\n",
      " 33%|███▎      | 329/1000 [07:30<03:45,  2.98it/s]"
     ]
    },
    {
     "name": "stdout",
     "output_type": "stream",
     "text": [
      "0\n"
     ]
    },
    {
     "name": "stderr",
     "output_type": "stream",
     "text": [
      "100%|██████████| 1/1 [00:00<00:00,  4.39it/s]\n",
      " 33%|███▎      | 330/1000 [07:31<04:16,  2.62it/s]"
     ]
    },
    {
     "name": "stdout",
     "output_type": "stream",
     "text": [
      "1\n"
     ]
    },
    {
     "name": "stderr",
     "output_type": "stream",
     "text": [
      "0it [00:00, ?it/s]\n",
      " 33%|███▎      | 331/1000 [07:31<03:52,  2.88it/s]"
     ]
    },
    {
     "name": "stdout",
     "output_type": "stream",
     "text": [
      "0\n"
     ]
    },
    {
     "name": "stderr",
     "output_type": "stream",
     "text": [
      "100%|██████████| 1/1 [00:00<00:00,  3.30it/s]\n",
      " 33%|███▎      | 332/1000 [07:32<06:57,  1.60it/s]"
     ]
    },
    {
     "name": "stdout",
     "output_type": "stream",
     "text": [
      "2\n"
     ]
    },
    {
     "name": "stderr",
     "output_type": "stream",
     "text": [
      "100%|██████████| 1/1 [00:00<00:00,  3.86it/s]\n",
      " 33%|███▎      | 333/1000 [07:33<06:55,  1.61it/s]"
     ]
    },
    {
     "name": "stdout",
     "output_type": "stream",
     "text": [
      "1\n"
     ]
    },
    {
     "name": "stderr",
     "output_type": "stream",
     "text": [
      "0it [00:00, ?it/s]\n",
      " 33%|███▎      | 334/1000 [07:33<05:52,  1.89it/s]"
     ]
    },
    {
     "name": "stdout",
     "output_type": "stream",
     "text": [
      "0\n"
     ]
    },
    {
     "name": "stderr",
     "output_type": "stream",
     "text": [
      "0it [00:00, ?it/s]\n",
      " 34%|███▎      | 335/1000 [07:33<05:06,  2.17it/s]"
     ]
    },
    {
     "name": "stdout",
     "output_type": "stream",
     "text": [
      "0\n"
     ]
    },
    {
     "name": "stderr",
     "output_type": "stream",
     "text": [
      " 50%|█████     | 2/4 [00:01<00:01,  1.29it/s]\n",
      " 34%|███▎      | 335/1000 [07:36<15:05,  1.36s/it]\n"
     ]
    },
    {
     "ename": "AttributeError",
     "evalue": "'NoneType' object has no attribute 'text'",
     "output_type": "error",
     "traceback": [
      "\u001b[0;31m---------------------------------------------------------------------------\u001b[0m",
      "\u001b[0;31mAttributeError\u001b[0m                            Traceback (most recent call last)",
      "\u001b[1;32m/Users/quzihanwu/Desktop/generic-real-estate-consulting-project-group-7/notebooks/domain-scrape.ipynb Cell 39\u001b[0m in \u001b[0;36m<cell line: 5>\u001b[0;34m()\u001b[0m\n\u001b[1;32m      <a href='vscode-notebook-cell:/Users/quzihanwu/Desktop/generic-real-estate-consulting-project-group-7/notebooks/domain-scrape.ipynb#X54sZmlsZQ%3D%3D?line=2'>3</a>\u001b[0m domain_links \u001b[39m=\u001b[39m \u001b[39mset\u001b[39m()\n\u001b[1;32m      <a href='vscode-notebook-cell:/Users/quzihanwu/Desktop/generic-real-estate-consulting-project-group-7/notebooks/domain-scrape.ipynb#X54sZmlsZQ%3D%3D?line=4'>5</a>\u001b[0m \u001b[39mfor\u001b[39;00m i \u001b[39min\u001b[39;00m tqdm(\u001b[39mrange\u001b[39m(\u001b[39mlen\u001b[39m(vic_postcodes))):\n\u001b[0;32m----> <a href='vscode-notebook-cell:/Users/quzihanwu/Desktop/generic-real-estate-consulting-project-group-7/notebooks/domain-scrape.ipynb#X54sZmlsZQ%3D%3D?line=5'>6</a>\u001b[0m     current_links \u001b[39m=\u001b[39m domain_property_links(vic_postcodes[i])\n\u001b[1;32m      <a href='vscode-notebook-cell:/Users/quzihanwu/Desktop/generic-real-estate-consulting-project-group-7/notebooks/domain-scrape.ipynb#X54sZmlsZQ%3D%3D?line=6'>7</a>\u001b[0m     domain_links \u001b[39m=\u001b[39m domain_links \u001b[39m|\u001b[39m current_links\n\u001b[1;32m      <a href='vscode-notebook-cell:/Users/quzihanwu/Desktop/generic-real-estate-consulting-project-group-7/notebooks/domain-scrape.ipynb#X54sZmlsZQ%3D%3D?line=8'>9</a>\u001b[0m     \u001b[39mprint\u001b[39m(\u001b[39mlen\u001b[39m(current_links))\n",
      "File \u001b[0;32m~/Desktop/generic-real-estate-consulting-project-group-7/scripts/utils.py:84\u001b[0m, in \u001b[0;36mdomain_property_links\u001b[0;34m(postcode, delay, save_file)\u001b[0m\n\u001b[1;32m     81\u001b[0m bs_object \u001b[39m=\u001b[39m BeautifulSoup(response\u001b[39m.\u001b[39mtext, \u001b[39m\"\u001b[39m\u001b[39mhtml.parser\u001b[39m\u001b[39m\"\u001b[39m)\n\u001b[1;32m     83\u001b[0m \u001b[39m# obtain NextJS data\u001b[39;00m\n\u001b[0;32m---> 84\u001b[0m data \u001b[39m=\u001b[39m json\u001b[39m.\u001b[39mloads(bs_object\u001b[39m.\u001b[39;49mfind(\u001b[39m\"\u001b[39;49m\u001b[39mscript\u001b[39;49m\u001b[39m\"\u001b[39;49m, {\u001b[39m\"\u001b[39;49m\u001b[39mid\u001b[39;49m\u001b[39m\"\u001b[39;49m: \u001b[39m\"\u001b[39;49m\u001b[39m__NEXT_DATA__\u001b[39;49m\u001b[39m\"\u001b[39;49m})\u001b[39m.\u001b[39;49mtext)[\n\u001b[1;32m     85\u001b[0m     \u001b[39m\"\u001b[39m\u001b[39mprops\u001b[39m\u001b[39m\"\u001b[39m\n\u001b[1;32m     86\u001b[0m ]\n\u001b[1;32m     87\u001b[0m page_props \u001b[39m=\u001b[39m data[\u001b[39m\"\u001b[39m\u001b[39mpageProps\u001b[39m\u001b[39m\"\u001b[39m]\n\u001b[1;32m     88\u001b[0m component_props \u001b[39m=\u001b[39m page_props[\u001b[39m\"\u001b[39m\u001b[39mcomponentProps\u001b[39m\u001b[39m\"\u001b[39m]\n",
      "\u001b[0;31mAttributeError\u001b[0m: 'NoneType' object has no attribute 'text'"
     ]
    }
   ],
   "source": [
    "vic_postcodes = constants.postcodes['VIC']\n",
    "\n",
    "domain_links = set()\n",
    "\n",
    "for i in tqdm(range(len(vic_postcodes))):\n",
    "    current_links = domain_property_links(vic_postcodes[i])\n",
    "    domain_links = domain_links | current_links\n",
    "    \n",
    "    print(len(current_links))"
   ]
  },
  {
   "cell_type": "code",
   "execution_count": null,
   "metadata": {},
   "outputs": [
    {
     "data": {
      "text/plain": [
       "15354"
      ]
     },
     "execution_count": 4,
     "metadata": {},
     "output_type": "execute_result"
    }
   ],
   "source": [
    "len(domain_links)"
   ]
  },
  {
   "cell_type": "code",
   "execution_count": null,
   "metadata": {},
   "outputs": [
    {
     "data": {
      "text/plain": [
       "{'https://www.domain.com.au/6-9-eildon-road-st-kilda-vic-3182-16035949',\n",
       " 'https://www.domain.com.au/14-kippax-court-mount-waverley-vic-3149-16032538',\n",
       " 'https://www.domain.com.au/215-253-normanby-road-south-melbourne-vic-3205-16034152',\n",
       " 'https://www.domain.com.au/14-newcombe-court-wantirna-south-vic-3152-16039701',\n",
       " 'https://www.domain.com.au/99a-seventh-avenue-altona-north-vic-3025-16064939',\n",
       " 'https://www.domain.com.au/1-3-everglade-crescent-roxburgh-park-vic-3064-16024258',\n",
       " 'https://www.domain.com.au/154-morris-road-hoppers-crossing-vic-3029-16050164',\n",
       " 'https://www.domain.com.au/4-137-coppin-street-richmond-vic-3121-16069075',\n",
       " 'https://www.domain.com.au/57-grevillea-drive-mount-duneed-vic-3217-15015754',\n",
       " 'https://www.domain.com.au/1-rossi-street-ivanhoe-vic-3079-16051631',\n",
       " 'https://www.domain.com.au/2-20-surrey-road-south-yarra-vic-3141-16066354',\n",
       " 'https://www.domain.com.au/2a-ann-court-aspendale-vic-3195-15997788',\n",
       " 'https://www.domain.com.au/317-157-fitzroy-st-st-kilda-vic-3182-16052469',\n",
       " 'https://www.domain.com.au/311-88-cambridge-street-collingwood-vic-3066-16065500',\n",
       " 'https://www.domain.com.au/11-12-12-northside-drive-wollert-vic-3750-15906803',\n",
       " 'https://www.domain.com.au/6-28-eleanor-street-footscray-vic-3011-14838038',\n",
       " 'https://www.domain.com.au/23-higgins-way-truganina-vic-3029-15349401',\n",
       " 'https://www.domain.com.au/1003-180-city-road-southbank-vic-3006-16035630',\n",
       " 'https://www.domain.com.au/53-charlton-crescent-reservoir-vic-3073-15992467',\n",
       " 'https://www.domain.com.au/4-519-hampton-st-hampton-vic-3188-16050668',\n",
       " 'https://www.domain.com.au/2-286-oriel-road-heidelberg-west-vic-3081-15451725',\n",
       " 'https://www.domain.com.au/2-352-362-victoria-street-north-melbourne-vic-3051-16042287',\n",
       " 'https://www.domain.com.au/1205-91-galada-avenue-parkville-vic-3052-16022065',\n",
       " 'https://www.domain.com.au/52a-burrindi-road-caulfield-south-vic-3162-16063292',\n",
       " 'https://www.domain.com.au/12-balme-court-hoppers-crossing-vic-3029-16014211',\n",
       " 'https://www.domain.com.au/12-ormonde-esplanade-harkness-vic-3337-16063038',\n",
       " 'https://www.domain.com.au/103-2-dalgety-street-oakleigh-vic-3166-16053723',\n",
       " 'https://www.domain.com.au/5-protea-way-cobblebank-vic-3338-16053465',\n",
       " 'https://www.domain.com.au/65-bondi-parade-point-cook-vic-3030-16067399',\n",
       " 'https://www.domain.com.au/3-134-inkerman-street-st-kilda-vic-3182-14421181',\n",
       " 'https://www.domain.com.au/14-amity-way-cranbourne-west-vic-3977-16067969',\n",
       " 'https://www.domain.com.au/20-kent-street-kew-vic-3101-16016028',\n",
       " 'https://www.domain.com.au/11-rotherwood-drive-malvern-east-vic-3145-15971011',\n",
       " 'https://www.domain.com.au/17-meadenhall-drive-st-albans-park-vic-3219-16022435',\n",
       " 'https://www.domain.com.au/510-12-trenerry-crescent-abbotsford-vic-3067-16013248',\n",
       " 'https://www.domain.com.au/3-25-lansdowne-road-st-kilda-east-vic-3183-13095051',\n",
       " 'https://www.domain.com.au/37-saffron-drive-hallam-vic-3803-16053228',\n",
       " 'https://www.domain.com.au/154-pin-oak-crescent-flemington-vic-3031-16053478',\n",
       " 'https://www.domain.com.au/4-23-jane-street-morwell-vic-3840-16035744',\n",
       " 'https://www.domain.com.au/24b-orchid-avenue-capel-sound-vic-3940-16022792',\n",
       " 'https://www.domain.com.au/316-330-lygon-street-brunswick-east-vic-3057-15187572',\n",
       " 'https://www.domain.com.au/202-41-45-edgewater-boulevard-maribyrnong-vic-3032-16032185',\n",
       " 'https://www.domain.com.au/5-32-shepparson-avenue-carnegie-vic-3163-16038066',\n",
       " 'https://www.domain.com.au/101-154-francis-street-yarraville-vic-3013-15721162',\n",
       " 'https://www.domain.com.au/44-maloney-street-kensington-vic-3031-16038819',\n",
       " 'https://www.domain.com.au/108-best-street-fitzroy-north-vic-3068-16054451',\n",
       " 'https://www.domain.com.au/63-teague-crescent-braybrook-vic-3019-16067920',\n",
       " 'https://www.domain.com.au/4a-fetherston-street-armadale-vic-3143-15975645',\n",
       " 'https://www.domain.com.au/11-woodlee-rise-lilydale-vic-3140-15994195',\n",
       " 'https://www.domain.com.au/3-verona-street-vermont-vic-3133-16066537',\n",
       " 'https://www.domain.com.au/1-35-kitchener-grove-preston-vic-3072-16060089',\n",
       " 'https://www.domain.com.au/120-nott-street-port-melbourne-vic-3207-16063962',\n",
       " 'https://www.domain.com.au/85-gillies-street-maryborough-vic-3465-16055975',\n",
       " 'https://www.domain.com.au/2302-135-abeckett-street-melbourne-vic-3000-16049322',\n",
       " 'https://www.domain.com.au/19-carlyle-crescent-mont-albert-vic-3127-16010780',\n",
       " 'https://www.domain.com.au/222-416-st-kilda-road-melbourne-vic-3004-16063428',\n",
       " 'https://www.domain.com.au/54b-116-130-main-drive-macleod-vic-3085-8569042',\n",
       " 'https://www.domain.com.au/4-33-grice-street-essendon-vic-3040-15955204',\n",
       " 'https://www.domain.com.au/60-garden-street-south-yarra-vic-3141-8432995',\n",
       " 'https://www.domain.com.au/18-rogers-avenue-brighton-east-vic-3187-15971053',\n",
       " 'https://www.domain.com.au/1-36-illuka-crescent-mount-waverley-vic-3149-16070562',\n",
       " 'https://www.domain.com.au/18-francis-crescent-glen-iris-vic-3146-10566702',\n",
       " 'https://www.domain.com.au/2-19-sunray-avenue-cheltenham-vic-3192-15565622',\n",
       " 'https://www.domain.com.au/2-38-evans-street-moonee-ponds-vic-3039-16068474',\n",
       " 'https://www.domain.com.au/5-51-53-helms-street-newcomb-vic-3219-16064254',\n",
       " 'https://www.domain.com.au/609-668-swanston-street-carlton-vic-3053-16018872',\n",
       " 'https://www.domain.com.au/11-glenwood-court-cranbourne-vic-3977-16067184',\n",
       " 'https://www.domain.com.au/12a-durham-road-surrey-hills-vic-3127-15906985',\n",
       " 'https://www.domain.com.au/6-privet-court-doveton-vic-3177-15956876',\n",
       " 'https://www.domain.com.au/4-12-oxford-street-box-hill-vic-3128-15703416',\n",
       " 'https://www.domain.com.au/2-azure-close-irymple-vic-3498-15181657',\n",
       " 'https://www.domain.com.au/27-hourigan-way-werribee-vic-3030-16068277',\n",
       " 'https://www.domain.com.au/205-835-high-street-armadale-vic-3143-16026024',\n",
       " 'https://www.domain.com.au/15-61-james-street-dandenong-vic-3175-11271642',\n",
       " 'https://www.domain.com.au/4-15-lawn-crescent-braybrook-vic-3019-16009895',\n",
       " 'https://www.domain.com.au/7-devenish-way-st-leonards-vic-3223-16055609',\n",
       " 'https://www.domain.com.au/3-holmes-street-brunswick-east-vic-3057-12487177',\n",
       " 'https://www.domain.com.au/21-centreway-glenroy-vic-3046-16004258',\n",
       " 'https://www.domain.com.au/15-abingdon-boulevard-lara-vic-3212-16070700',\n",
       " 'https://www.domain.com.au/7-maple-close-harkness-vic-3337-14640846',\n",
       " 'https://www.domain.com.au/12-avonbury-drive-werribee-vic-3030-15855779',\n",
       " 'https://www.domain.com.au/12-walton-street-cowes-vic-3922-16069547',\n",
       " 'https://www.domain.com.au/15-marriott-drive-keysborough-vic-3173-16019001',\n",
       " 'https://www.domain.com.au/house-3-at-00-road-thoona-vic-3726-15865703',\n",
       " 'https://www.domain.com.au/2-16b-katoomba-street-hampton-east-vic-3188-16059107',\n",
       " 'https://www.domain.com.au/104-39-park-street-south-melbourne-vic-3205-15691858',\n",
       " 'https://www.domain.com.au/11-12-bartlett-street-hampton-east-vic-3188-16027263',\n",
       " 'https://www.domain.com.au/10-hillview-avenue-mount-waverley-vic-3149-15263569',\n",
       " 'https://www.domain.com.au/173-williamson-street-kennington-vic-3550-15963361',\n",
       " 'https://www.domain.com.au/46-robin-avenue-norlane-vic-3214-15788816',\n",
       " 'https://www.domain.com.au/143-riggall-street-broadmeadows-vic-3047-15080403',\n",
       " 'https://www.domain.com.au/201-1-delany-avenue-burwood-vic-3125-8598069',\n",
       " 'https://www.domain.com.au/1-shangrala-road-thornhill-park-vic-3335-16032745',\n",
       " 'https://www.domain.com.au/2-1-kurt-street-morwell-vic-3840-15988252',\n",
       " 'https://www.domain.com.au/3-892-high-st-armadale-vic-3143-16030517',\n",
       " 'https://www.domain.com.au/130-edgars-road-thomastown-vic-3074-14854364',\n",
       " 'https://www.domain.com.au/24-orrong-crescent-caulfield-north-vic-3161-16063914',\n",
       " 'https://www.domain.com.au/83-atkinson-street-templestowe-vic-3106-15996853',\n",
       " 'https://www.domain.com.au/2-seaview-drive-apollo-bay-vic-3233-13210947',\n",
       " 'https://www.domain.com.au/11-sunset-drive-sunset-strip-vic-3922-15898659',\n",
       " 'https://www.domain.com.au/52-54-osullivan-road-glen-waverley-vic-3150-15576679',\n",
       " 'https://www.domain.com.au/3704-100-harbour-esplanade-docklands-vic-3008-16061973',\n",
       " 'https://www.domain.com.au/4-2-glenarm-rd-glen-iris-vic-3146-15973174',\n",
       " 'https://www.domain.com.au/8-130-nicholson-street-fitzroy-vic-3065-16069751',\n",
       " 'https://www.domain.com.au/5-470-474-canterbury-road-forest-hill-vic-3131-15980614',\n",
       " 'https://www.domain.com.au/27-beech-street-wodonga-vic-3690-16066281',\n",
       " 'https://www.domain.com.au/138-471-malvern-road-south-yarra-vic-3141-16064830',\n",
       " 'https://www.domain.com.au/494-canning-street-carlton-north-vic-3054-15959352',\n",
       " 'https://www.domain.com.au/547-horsham-noradjuha-road-horsham-vic-3400-16063291',\n",
       " 'https://www.domain.com.au/3-27-calthorpe-street-gisborne-vic-3437-16018308',\n",
       " 'https://www.domain.com.au/12-orange-court-bellfield-vic-3081-15965433',\n",
       " 'https://www.domain.com.au/7-gomi-court-frankston-vic-3199-16042685',\n",
       " 'https://www.domain.com.au/1310-7-katherine-place-melbourne-vic-3000-16048520',\n",
       " 'https://www.domain.com.au/2-7-campbell-street-wonthaggi-vic-3995-16050257',\n",
       " 'https://www.domain.com.au/308-133-droop-street-footscray-vic-3011-9443851',\n",
       " 'https://www.domain.com.au/3-16-blenheim-street-bentleigh-east-vic-3165-16021914',\n",
       " 'https://www.domain.com.au/16-tassel-drive-warragul-vic-3820-16040547',\n",
       " 'https://www.domain.com.au/45-main-road-clayton-south-vic-3169-16040499',\n",
       " 'https://www.domain.com.au/4-moorhouse-street-camberwell-vic-3124-15956661',\n",
       " 'https://www.domain.com.au/24-spring-street-geelong-west-vic-3218-14556124',\n",
       " 'https://www.domain.com.au/5202-228-la-trobe-street-melbourne-vic-3000-15316700',\n",
       " 'https://www.domain.com.au/38-262-heidelberg-road-fairfield-vic-3078-16056607',\n",
       " 'https://www.domain.com.au/4-22-grattan-street-carlton-vic-3053-15844687',\n",
       " 'https://www.domain.com.au/2-19-21-rankins-road-kensington-vic-3031-14627532',\n",
       " 'https://www.domain.com.au/7-57-59-buckley-st-noble-park-vic-3174-16062223',\n",
       " 'https://www.domain.com.au/81-abeckett-street-melbourne-vic-3000-15291903',\n",
       " 'https://www.domain.com.au/5-33-james-street-windsor-vic-3181-15358365',\n",
       " 'https://www.domain.com.au/21-hourigan-road-morwell-vic-3840-16055315',\n",
       " 'https://www.domain.com.au/1-3-17-19-hazeldene-court-berwick-vic-3806-14611396',\n",
       " 'https://www.domain.com.au/109-44-spencer-street-melbourne-vic-3000-15870702',\n",
       " 'https://www.domain.com.au/23-margaret-street-newtown-vic-3220-15210898',\n",
       " 'https://www.domain.com.au/carpark-105-batman-street-west-melbourne-vic-3003-15775515',\n",
       " 'https://www.domain.com.au/37-kireep-road-balwyn-vic-3103-16071098',\n",
       " 'https://www.domain.com.au/44-cherrington-avenue-officer-vic-3809-16062647',\n",
       " 'https://www.domain.com.au/520-585-latrobe-street-melbourne-melbourne-vic-3000-11355962',\n",
       " 'https://www.domain.com.au/15-the-crest-bulleen-vic-3105-16051191',\n",
       " 'https://www.domain.com.au/3-123-shaftesbury-parade-thornbury-vic-3071-12027984',\n",
       " 'https://www.domain.com.au/4-40-murray-street-brunswick-west-vic-3055-15973697',\n",
       " 'https://www.domain.com.au/14-44-strettle-street-thornbury-vic-3071-16046757',\n",
       " 'https://www.domain.com.au/3-25a-havlin-street-bendigo-vic-3550-16046289',\n",
       " 'https://www.domain.com.au/106-river-street-newport-vic-3015-16019099',\n",
       " 'https://www.domain.com.au/124-rathdowne-street-carlton-vic-3053-16061533',\n",
       " 'https://www.domain.com.au/61-mckean-street-box-hill-north-vic-3129-16020174',\n",
       " 'https://www.domain.com.au/2-149-grange-rd-carnegie-vic-3163-16018696',\n",
       " 'https://www.domain.com.au/20-pottenger-way-st-albans-vic-3021-15991301',\n",
       " 'https://www.domain.com.au/57-lang-street-south-yarra-vic-3141-16052404',\n",
       " 'https://www.domain.com.au/114-beach-street-frankston-vic-3199-16040408',\n",
       " 'https://www.domain.com.au/6-1-south-avenue-bentleigh-vic-3204-15813700',\n",
       " 'https://www.domain.com.au/108-1375-burke-road-kew-vic-3101-14185784',\n",
       " 'https://www.domain.com.au/22-banole-avenue-prahran-vic-3181-16015493',\n",
       " 'https://www.domain.com.au/10-151-153-huntingdale-road-ashwood-vic-3147-16045883',\n",
       " 'https://www.domain.com.au/49-middle-park-drive-point-cook-vic-3030-16064924',\n",
       " 'https://www.domain.com.au/1-125-kambrook-road-caulfield-vic-3162-15931950',\n",
       " 'https://www.domain.com.au/4-409-hawthorn-road-caulfield-south-vic-3162-15159412',\n",
       " 'https://www.domain.com.au/1-40-wawunna-road-horsham-vic-3400-15987083',\n",
       " 'https://www.domain.com.au/414-118-franklin-street-melbourne-vic-3004-16064689',\n",
       " 'https://www.domain.com.au/1212-151-city-road-southbank-vic-3006-16063475',\n",
       " 'https://www.domain.com.au/152-alfrieda-street-st-albans-vic-3021-10881375',\n",
       " 'https://www.domain.com.au/3-72-leamington-street-reservoir-vic-3073-16055115',\n",
       " 'https://www.domain.com.au/3-30-logan-street-hamlyn-heights-vic-3215-16054463',\n",
       " 'https://www.domain.com.au/1-1-tinto-close-deer-park-vic-3023-16012401',\n",
       " 'https://www.domain.com.au/203-455-melbourne-road-newport-vic-3015-15964069',\n",
       " 'https://www.domain.com.au/11-russet-road-ringwood-east-vic-3135-16065472',\n",
       " 'https://www.domain.com.au/17-forest-street-collingwood-vic-3066-16038266',\n",
       " 'https://www.domain.com.au/41-kinchega-drive-shepparton-vic-3630-16041352',\n",
       " 'https://www.domain.com.au/2-611-glenferrie-road-hawthorn-vic-3122-15827198',\n",
       " 'https://www.domain.com.au/16-whalers-street-point-cook-vic-3030-16026355',\n",
       " 'https://www.domain.com.au/3-54-mcnicholl-way-delahey-vic-3037-11164722',\n",
       " 'https://www.domain.com.au/1-101-great-ryrie-street-heathmont-vic-3135-16006002',\n",
       " 'https://www.domain.com.au/187-karingal-drive-frankston-vic-3199-16066448',\n",
       " 'https://www.domain.com.au/181a-derby-street-pascoe-vale-vic-3044-15901842',\n",
       " 'https://www.domain.com.au/108-holdsworth-road-north-bendigo-vic-3550-16036378',\n",
       " 'https://www.domain.com.au/4-maserati-way-cranbourne-east-vic-3977-16005231',\n",
       " 'https://www.domain.com.au/27-495-royal-parade-parkville-vic-3052-15982108',\n",
       " 'https://www.domain.com.au/6-diane-crescent-mooroolbark-vic-3138-16048069',\n",
       " 'https://www.domain.com.au/1-66-mckimmies-road-lalor-vic-3075-15993099',\n",
       " 'https://www.domain.com.au/98-tyquin-street-laverton-vic-3028-15043640',\n",
       " 'https://www.domain.com.au/12-the-habitat-metung-vic-3904-15261698',\n",
       " 'https://www.domain.com.au/106-3-heatherbrae-avenue-east-ringwood-vic-3134-16034645',\n",
       " 'https://www.domain.com.au/4-30-ross-street-northcote-vic-3070-16045423',\n",
       " 'https://www.domain.com.au/11-riviera-crescent-ocean-grove-vic-3226-16043068',\n",
       " 'https://www.domain.com.au/30-maker-parade-echuca-vic-3564-16025042',\n",
       " 'https://www.domain.com.au/15-paterson-street-rosebud-vic-3939-16043200',\n",
       " 'https://www.domain.com.au/303-253-franklin-street-melbourne-vic-3000-16031112',\n",
       " 'https://www.domain.com.au/702-chintin-road-monegeetta-vic-3433-15979678',\n",
       " 'https://www.domain.com.au/218-146-bell-street-coburg-vic-3058-14842196',\n",
       " 'https://www.domain.com.au/2-53-55-finlay-street-albert-park-vic-3206-16039863',\n",
       " 'https://www.domain.com.au/35-meadow-drive-curlewis-vic-3222-16047870',\n",
       " 'https://www.domain.com.au/4-45-potter-street-dandenong-vic-3175-16052554',\n",
       " 'https://www.domain.com.au/4-centre-avenue-warragul-vic-3820-16052340',\n",
       " 'https://www.domain.com.au/107-801-whitehorse-road-mont-albert-vic-3127-16069503',\n",
       " 'https://www.domain.com.au/89-adele-avenue-ferntree-gully-vic-3156-12927380',\n",
       " 'https://www.domain.com.au/16-ventnor-street-balwyn-north-vic-3104-15896494',\n",
       " 'https://www.domain.com.au/8-pommel-crescent-epping-vic-3076-16012038',\n",
       " 'https://www.domain.com.au/1-18-raynes-street-balwyn-vic-3103-16054448',\n",
       " 'https://www.domain.com.au/b2-48-52-boadle-road-bundoora-vic-3083-15226773',\n",
       " 'https://www.domain.com.au/10-macqueen-street-mernda-vic-3754-16049940',\n",
       " 'https://www.domain.com.au/7-wimmera-street-ormond-vic-3204-16030398',\n",
       " 'https://www.domain.com.au/4501-33-rose-lane-melbourne-vic-3000-16063319',\n",
       " 'https://www.domain.com.au/3-25-york-street-st-kilda-west-vic-3182-16030757',\n",
       " 'https://www.domain.com.au/23-blair-court-shepparton-vic-3630-16061981',\n",
       " 'https://www.domain.com.au/85-asbury-street-ocean-grove-vic-3226-14155173',\n",
       " 'https://www.domain.com.au/40-42-watts-road-nyora-vic-3987-15936521',\n",
       " 'https://www.domain.com.au/55-fairbairn-road-sunshine-west-vic-3020-15317909',\n",
       " 'https://www.domain.com.au/205-1059-1061-dandenong-road-malvern-east-vic-3145-16070994',\n",
       " 'https://www.domain.com.au/14-flamingo-court-norlane-vic-3214-16071276',\n",
       " 'https://www.domain.com.au/3-cremean-avenue-ivanhoe-vic-3079-16065737',\n",
       " 'https://www.domain.com.au/29-stable-street-pakenham-vic-3810-15790883',\n",
       " 'https://www.domain.com.au/4503-7-riverside-quay-southbank-vic-3006-16053764',\n",
       " 'https://www.domain.com.au/76-perrett-ave-st-albans-vic-3021-14893204',\n",
       " 'https://www.domain.com.au/13-zenith-st-pascoe-vale-vic-3044-16070386',\n",
       " 'https://www.domain.com.au/5-26-wolseley-crescent-blackburn-vic-3130-16050873',\n",
       " 'https://www.domain.com.au/24-gum-road-kings-park-vic-3021-16062587',\n",
       " 'https://www.domain.com.au/14-274-domain-road-south-yarra-vic-3141-16007207',\n",
       " 'https://www.domain.com.au/29-caspian-circuit-point-cook-vic-3030-16023583',\n",
       " 'https://www.domain.com.au/1000-north-road-bentleigh-east-vic-3165-12664806',\n",
       " 'https://www.domain.com.au/6-40-42-hemmings-street-dandenong-vic-3175-15989374',\n",
       " 'https://www.domain.com.au/106-1-major-st-highett-vic-3190-16043526',\n",
       " 'https://www.domain.com.au/6-307-309-bay-road-cheltenham-vic-3192-16016399',\n",
       " 'https://www.domain.com.au/21-harkaway-road-berwick-vic-3806-16062465',\n",
       " 'https://www.domain.com.au/7-9-11-nerissa-grove-oak-park-vic-3046-16059126',\n",
       " 'https://www.domain.com.au/10-10-12-james-street-box-hill-vic-3128-16058562',\n",
       " 'https://www.domain.com.au/26-melibee-st-blairgowrie-vic-3942-16028033',\n",
       " 'https://www.domain.com.au/1506b-639-little-lonsdale-street-melbourne-vic-3000-14620499',\n",
       " 'https://www.domain.com.au/20-macquarie-court-cranbourne-north-vic-3977-16069080',\n",
       " 'https://www.domain.com.au/6-stonehaven-road-traralgon-vic-3844-16063227',\n",
       " 'https://www.domain.com.au/506s-227-toorak-road-south-yarra-vic-3141-11560489',\n",
       " 'https://www.domain.com.au/3210-9-23-mackenzie-street-melbourne-vic-3000-16068040',\n",
       " 'https://www.domain.com.au/bright-vic-3741-15923345',\n",
       " 'https://www.domain.com.au/3815-228-la-trobe-street-melbourne-vic-3000-14985539',\n",
       " 'https://www.domain.com.au/14-athol-avenue-roxburgh-park-vic-3064-13592629',\n",
       " 'https://www.domain.com.au/1-4-cochrane-ct-essendon-vic-3040-15966249',\n",
       " 'https://www.domain.com.au/1-mulberry-parade-heidelberg-west-vic-3081-16045957',\n",
       " 'https://www.domain.com.au/2-14-victoria-street-williamstown-vic-3016-16043784',\n",
       " 'https://www.domain.com.au/8-6-empire-street-footscray-vic-3011-15895791',\n",
       " 'https://www.domain.com.au/1-28-kelvinside-road-noble-park-vic-3174-16047447',\n",
       " 'https://www.domain.com.au/6-169-171-raglan-street-preston-vic-3072-16059963',\n",
       " 'https://www.domain.com.au/29-birdie-view-cranbourne-north-vic-3977-16050430',\n",
       " 'https://www.domain.com.au/2-magnolia-court-frankston-vic-3199-16053733',\n",
       " 'https://www.domain.com.au/99-hall-avenue-altona-meadows-vic-3028-16049320',\n",
       " 'https://www.domain.com.au/2-205b-aspinall-street-kangaroo-flat-vic-3555-16052609',\n",
       " 'https://www.domain.com.au/2-428-nepean-highway-frankston-vic-3199-16062066',\n",
       " 'https://www.domain.com.au/8-116-holdsworth-road-bendigo-vic-3550-16035978',\n",
       " 'https://www.domain.com.au/148-brougham-street-kew-vic-3101-15300836',\n",
       " 'https://www.domain.com.au/77-crole-drive-warragul-vic-3820-16050042',\n",
       " 'https://www.domain.com.au/6-drum-st-rye-vic-3941-16057271',\n",
       " 'https://www.domain.com.au/406-339-mitcham-road-mitcham-vic-3132-16026562',\n",
       " 'https://www.domain.com.au/32-high-street-lismore-vic-3324-11757697',\n",
       " 'https://www.domain.com.au/13-honey-bee-run-goughs-bay-vic-3723-16057714',\n",
       " 'https://www.domain.com.au/12-59-westbank-terrace-richmond-vic-3121-16061650',\n",
       " 'https://www.domain.com.au/2-91-beach-road-sandringham-vic-3191-16053597',\n",
       " 'https://www.domain.com.au/2-40-wattle-road-hawthorn-vic-3122-16000940',\n",
       " 'https://www.domain.com.au/11-elizabeth-street-moonee-ponds-vic-3039-16023150',\n",
       " 'https://www.domain.com.au/2-11-merchiston-grove-strathmore-vic-3041-15989721',\n",
       " 'https://www.domain.com.au/2605-560-lonsdale-street-melbourne-vic-3000-16033660',\n",
       " 'https://www.domain.com.au/23-mcbean-street-clayton-vic-3168-11884444',\n",
       " 'https://www.domain.com.au/23-sullivan-street-daylesford-vic-3460-16044069',\n",
       " 'https://www.domain.com.au/14-methven-street-brunswick-east-vic-3057-15962832',\n",
       " 'https://www.domain.com.au/5-9-findon-street-hawthorn-vic-3122-15105908',\n",
       " 'https://www.domain.com.au/172a-retreat-road-spring-gully-vic-3550-16038821',\n",
       " 'https://www.domain.com.au/93-field-street-clifton-hill-vic-3068-16060054',\n",
       " 'https://www.domain.com.au/8-28-grey-street-st-kilda-vic-3182-16010560',\n",
       " 'https://www.domain.com.au/10-peacock-street-brunswick-west-vic-3055-15982289',\n",
       " 'https://www.domain.com.au/21-259-263-bellerine-street-south-geelong-vic-3220-15964112',\n",
       " 'https://www.domain.com.au/117-bickley-avenue-thomastown-vic-3074-16058090',\n",
       " 'https://www.domain.com.au/7-newbay-cl-barwon-heads-vic-3227-16043935',\n",
       " 'https://www.domain.com.au/12-claremont-street-fawkner-vic-3060-16032501',\n",
       " 'https://www.domain.com.au/43a-hunt-crescent-ascot-vale-vic-3032-16019158',\n",
       " 'https://www.domain.com.au/2-23-belfort-street-dandenong-vic-3175-16041074',\n",
       " 'https://www.domain.com.au/7-quigley-st-yinnar-vic-3869-16064656',\n",
       " 'https://www.domain.com.au/6-1-park-street-pascoe-vale-vic-3044-16000291',\n",
       " 'https://www.domain.com.au/3-9-ebony-parade-heidelberg-west-vic-3081-15903332',\n",
       " 'https://www.domain.com.au/1-18-bridge-road-barwon-heads-vic-3227-14194266',\n",
       " 'https://www.domain.com.au/18-surin-road-tarneit-vic-3029-16049946',\n",
       " 'https://www.domain.com.au/3-18-webb-street-altona-vic-3018-15994082',\n",
       " 'https://www.domain.com.au/2-259-clayton-road-clayton-vic-3168-15995421',\n",
       " 'https://www.domain.com.au/2-15-malane-street-ormond-vic-3204-16036547',\n",
       " 'https://www.domain.com.au/160-cleeland-street-dandenong-vic-3175-15157015',\n",
       " 'https://www.domain.com.au/158-mitchell-street-bendigo-vic-3550-14254937',\n",
       " 'https://www.domain.com.au/1-sanctuary-way-ascot-vale-vic-3032-16065444',\n",
       " 'https://www.domain.com.au/55-esplanade-west-port-melbourne-vic-3207-16069381',\n",
       " 'https://www.domain.com.au/1-magnolia-drive-forest-hill-vic-3131-16070670',\n",
       " 'https://www.domain.com.au/1-296-waiora-road-macleod-vic-3085-16037422',\n",
       " 'https://www.domain.com.au/4-grinstead-court-craigieburn-vic-3064-16018898',\n",
       " 'https://www.domain.com.au/35b-hawson-avenue-glen-huntly-vic-3163-15385741',\n",
       " 'https://www.domain.com.au/4-3-decathlon-street-bundoora-vic-3083-16062719',\n",
       " 'https://www.domain.com.au/12-leslie-court-hillside-vic-3037-16055005',\n",
       " 'https://www.domain.com.au/10a-murphy-street-altona-north-vic-3025-16052955',\n",
       " 'https://www.domain.com.au/2-153-warrandyte-road-langwarrin-vic-3910-16049027',\n",
       " 'https://www.domain.com.au/7-roseleigh-street-warragul-vic-3820-15932188',\n",
       " 'https://www.domain.com.au/2-17-greensborough-road-rosanna-vic-3084-15837153',\n",
       " 'https://www.domain.com.au/2-119-borg-crescent-scoresby-vic-3179-15971860',\n",
       " 'https://www.domain.com.au/47-guinane-avenue-hoppers-crossing-vic-3029-16047574',\n",
       " 'https://www.domain.com.au/clyde-north-vic-3978-15998586',\n",
       " 'https://www.domain.com.au/1712-105-batman-street-west-melbourne-vic-3003-16056626',\n",
       " 'https://www.domain.com.au/2-408-middleborough-road-blackburn-vic-3130-15991292',\n",
       " 'https://www.domain.com.au/231a-military-road-avondale-heights-vic-3034-15795964',\n",
       " 'https://www.domain.com.au/6-phyllis-street-bayswater-vic-3153-16069921',\n",
       " 'https://www.domain.com.au/161a-westbourne-grove-northcote-vic-3070-16055496',\n",
       " 'https://www.domain.com.au/224-wattle-valley-road-camberwell-vic-3124-16057933',\n",
       " 'https://www.domain.com.au/1204-31-spring-street-melbourne-vic-3000-15386634',\n",
       " 'https://www.domain.com.au/1-24-blind-creek-lane-wantirna-south-vic-3152-16069789',\n",
       " 'https://www.domain.com.au/1-18-myriong-street-clayton-vic-3168-16048711',\n",
       " 'https://www.domain.com.au/108-111-inkerman-street-st-kilda-vic-3182-16068925',\n",
       " 'https://www.domain.com.au/34-albert-street-fawkner-vic-3060-16054326',\n",
       " 'https://www.domain.com.au/4-carr-street-coburg-north-vic-3058-16068183',\n",
       " 'https://www.domain.com.au/43-sandygate-circuit-strathtulloh-vic-3338-16037499',\n",
       " 'https://www.domain.com.au/2-48-magnolia-road-gardenvale-vic-3185-16051707',\n",
       " 'https://www.domain.com.au/3-babar-drive-officer-vic-3809-16037698',\n",
       " 'https://www.domain.com.au/2-27-jordan-grove-glen-waverley-vic-3150-16037662',\n",
       " 'https://www.domain.com.au/1-29-volga-street-hadfield-vic-3046-16037252',\n",
       " 'https://www.domain.com.au/117-87-89-raleigh-street-essendon-vic-3040-15962894',\n",
       " 'https://www.domain.com.au/716-3-tarver-st-port-melbourne-vic-3207-15997610',\n",
       " 'https://www.domain.com.au/3-9-bartlett-street-preston-vic-3072-15927548',\n",
       " 'https://www.domain.com.au/11-silver-leaf-way-winter-valley-vic-3358-15953918',\n",
       " 'https://www.domain.com.au/8-purslane-way-aintree-vic-3336-16057986',\n",
       " 'https://www.domain.com.au/5-elizabeth-street-bayswater-vic-3153-15991892',\n",
       " 'https://www.domain.com.au/12-akkersley-drive-truganina-vic-3029-15319375',\n",
       " 'https://www.domain.com.au/22-phoenix-street-south-yarra-vic-3141-16054422',\n",
       " 'https://www.domain.com.au/238-middleborough-road-blackburn-south-vic-3130-15392010',\n",
       " 'https://www.domain.com.au/11-5-carmichael-street-west-footscray-vic-3012-13962813',\n",
       " 'https://www.domain.com.au/29-banole-avenue-prahran-vic-3181-15932990',\n",
       " 'https://www.domain.com.au/26-franklin-street-moorabbin-vic-3189-16020067',\n",
       " 'https://www.domain.com.au/305-albert-street-sebastopol-vic-3356-16068787',\n",
       " 'https://www.domain.com.au/1-17-muir-street-hawthorn-vic-3122-10524820',\n",
       " 'https://www.domain.com.au/73-yallambie-road-macleod-vic-3085-16056602',\n",
       " 'https://www.domain.com.au/4-10-eglinton-street-kew-vic-3101-15822739',\n",
       " 'https://www.domain.com.au/3-140-warrigal-road-camberwell-vic-3124-16007377',\n",
       " 'https://www.domain.com.au/3604-568-collins-street-melbourne-vic-3000-16041456',\n",
       " 'https://www.domain.com.au/538-22-barkly-street-brunswick-east-vic-3057-16070143',\n",
       " 'https://www.domain.com.au/19-stillman-street-richmond-vic-3121-14207172',\n",
       " 'https://www.domain.com.au/7-13-wedd-street-cheltenham-vic-3192-15901749',\n",
       " 'https://www.domain.com.au/21-tackle-drive-point-cook-vic-3030-16068814',\n",
       " 'https://www.domain.com.au/123-33-blackwood-street-north-melbourne-vic-3051-16066035',\n",
       " 'https://www.domain.com.au/1-avisha-way-greenvale-vic-3059-16059740',\n",
       " 'https://www.domain.com.au/9-98-thames-st-box-hill-vic-3128-15012666',\n",
       " 'https://www.domain.com.au/21-irymple-avenue-kew-east-vic-3102-16025020',\n",
       " 'https://www.domain.com.au/1-262-victoria-street-richmond-vic-3121-16055199',\n",
       " 'https://www.domain.com.au/6-42-hobbs-street-seddon-vic-3011-16038133',\n",
       " 'https://www.domain.com.au/310-59-stables-circuit-doncaster-vic-3108-16009538',\n",
       " 'https://www.domain.com.au/4-50-coorigil-road-carnegie-vic-3163-15995402',\n",
       " 'https://www.domain.com.au/54-o-grady-street-albert-park-vic-3206-16059651',\n",
       " 'https://www.domain.com.au/2-cardiff-street-bell-post-hill-vic-3215-16063931',\n",
       " 'https://www.domain.com.au/5-ravenswood-w-craigieburn-vic-3064-14734948',\n",
       " 'https://www.domain.com.au/1-194-dromana-parade-safety-beach-vic-3936-16068461',\n",
       " 'https://www.domain.com.au/13-saloon-circuit-clyde-north-vic-3978-15955834',\n",
       " 'https://www.domain.com.au/6-rochford-place-narre-warren-south-vic-3805-16069796',\n",
       " 'https://www.domain.com.au/5211-18-hoff-boulevard-southbank-vic-3006-16059380',\n",
       " 'https://www.domain.com.au/1-23-raymond-road-seaford-vic-3198-16038539',\n",
       " 'https://www.domain.com.au/513-54-nott-street-port-melbourne-vic-3207-16051478',\n",
       " 'https://www.domain.com.au/105-robinson-street-armstrong-creek-vic-3217-16040407',\n",
       " 'https://www.domain.com.au/334-morris-road-hoppers-crossing-vic-3029-16026049',\n",
       " 'https://www.domain.com.au/9-78-saltlake-boulevard-wollert-vic-3750-15965995',\n",
       " 'https://www.domain.com.au/45b-barry-street-reservoir-vic-3073-16059263',\n",
       " 'https://www.domain.com.au/63-king-george-parade-dandenong-vic-3175-15963386',\n",
       " 'https://www.domain.com.au/16-harold-street-moe-vic-3825-16041525',\n",
       " 'https://www.domain.com.au/6-46-leonard-avenue-noble-park-vic-3174-16064726',\n",
       " 'https://www.domain.com.au/11-9-herbert-street-st-kilda-vic-3182-16053135',\n",
       " 'https://www.domain.com.au/47a-king-street-dandenong-vic-3175-15930851',\n",
       " 'https://www.domain.com.au/93-oakdean-blvd-ocean-grove-vic-3226-16066142',\n",
       " 'https://www.domain.com.au/8-sheahans-road-templestowe-lower-vic-3107-16063336',\n",
       " 'https://www.domain.com.au/61-173-city-road-southbank-vic-3006-15933363',\n",
       " 'https://www.domain.com.au/9-293-297-plenty-road-preston-vic-3072-15789402',\n",
       " 'https://www.domain.com.au/3-101-103-orrong-crescent-caulfield-north-vic-3161-16046339',\n",
       " 'https://www.domain.com.au/20-clarevale-street-clayton-south-vic-3169-15962991',\n",
       " 'https://www.domain.com.au/3-30-hampton-road-essendon-west-vic-3040-11592876',\n",
       " 'https://www.domain.com.au/76-darebin-street-heidelberg-vic-3084-15633227',\n",
       " 'https://www.domain.com.au/23-bevis-street-bentleigh-east-vic-3165-15937718',\n",
       " 'https://www.domain.com.au/2-302-ninth-street-mildura-vic-3500-16049324',\n",
       " 'https://www.domain.com.au/31-chromite-circuit-weir-views-vic-3338-16022186',\n",
       " 'https://www.domain.com.au/7-lloyd-avenue-epping-vic-3076-15924535',\n",
       " 'https://www.domain.com.au/5-11-clyde-street-kew-east-vic-3102-16030040',\n",
       " 'https://www.domain.com.au/413-158-smith-street-collingwood-vic-3066-16023674',\n",
       " 'https://www.domain.com.au/26-budd-street-brighton-vic-3186-16038735',\n",
       " 'https://www.domain.com.au/4-findon-way-melton-west-vic-3337-13633556',\n",
       " 'https://www.domain.com.au/364-francis-street-yarraville-vic-3013-16050268',\n",
       " 'https://www.domain.com.au/2-11-norman-road-croydon-vic-3136-12716454',\n",
       " 'https://www.domain.com.au/2-52-childers-street-cranbourne-vic-3977-13535264',\n",
       " 'https://www.domain.com.au/2-helene-street-bulleen-vic-3105-15998599',\n",
       " 'https://www.domain.com.au/33-barkly-ave-armadale-vic-3143-16064100',\n",
       " 'https://www.domain.com.au/2-rose-court-jacana-vic-3047-15986576',\n",
       " 'https://www.domain.com.au/4-holbeck-place-craigieburn-vic-3064-16011628',\n",
       " 'https://www.domain.com.au/9-kiah-street-glen-waverley-vic-3150-16021877',\n",
       " 'https://www.domain.com.au/12-rodney-court-hoppers-crossing-vic-3029-16048930',\n",
       " 'https://www.domain.com.au/2-1-cudgewa-place-keilor-east-vic-3033-15609223',\n",
       " 'https://www.domain.com.au/5-76-dundas-street-thornbury-vic-3071-16041305',\n",
       " 'https://www.domain.com.au/15-mireland-street-clyde-north-vic-3978-16020708',\n",
       " 'https://www.domain.com.au/216-wendouree-parade-lake-wendouree-vic-3350-16032220',\n",
       " 'https://www.domain.com.au/b905-70-speakmen-street-kensington-vic-3031-15924532',\n",
       " 'https://www.domain.com.au/1818-39-coventry-street-southbank-vic-3006-15515742',\n",
       " 'https://www.domain.com.au/c101-5-flockhart-street-abbotsford-vic-3067-16040180',\n",
       " 'https://www.domain.com.au/14-feedwater-road-donnybrook-vic-3064-15835037',\n",
       " 'https://www.domain.com.au/22-strathmore-street-bentleigh-vic-3204-15858614',\n",
       " 'https://www.domain.com.au/4-1-marlo-court-broadmeadows-vic-3047-16062119',\n",
       " 'https://www.domain.com.au/8-2-malane-street-bentleigh-east-vic-3165-16052972',\n",
       " 'https://www.domain.com.au/10-elizabeth-street-croydon-vic-3136-16053430',\n",
       " 'https://www.domain.com.au/28-18-cochrane-street-brighton-vic-3186-15964549',\n",
       " 'https://www.domain.com.au/4-25-camden-street-balaclava-vic-3183-14463006',\n",
       " 'https://www.domain.com.au/218-melville-road-pascoe-vale-south-vic-3044-16032107',\n",
       " 'https://www.domain.com.au/1-21-morell-street-glenroy-vic-3046-16024655',\n",
       " 'https://www.domain.com.au/18-knightsford-avenue-clyde-vic-3978-16028604',\n",
       " 'https://www.domain.com.au/35-hackney-circuit-clyde-north-vic-3978-15362918',\n",
       " 'https://www.domain.com.au/77-henry-street-prahran-vic-3181-16029961',\n",
       " 'https://www.domain.com.au/309-50-janefield-drive-bundoora-vic-3083-16061657',\n",
       " 'https://www.domain.com.au/4-13-edith-street-dandenong-vic-3175-15981493',\n",
       " 'https://www.domain.com.au/1-48-arlington-st-ringwood-vic-3134-16039626',\n",
       " 'https://www.domain.com.au/1a-yera-crescent-rye-vic-3941-15270380',\n",
       " 'https://www.domain.com.au/287-carrick-drive-gladstone-park-vic-3043-16064301',\n",
       " 'https://www.domain.com.au/1-brierly-street-warrnambool-vic-3280-16043235',\n",
       " 'https://www.domain.com.au/16-3-wilks-street-caulfield-north-vic-3161-16009255',\n",
       " 'https://www.domain.com.au/4-553-toorak-road-toorak-vic-3142-16050069',\n",
       " 'https://www.domain.com.au/1-10-prospect-st-glenroy-vic-3046-16070690',\n",
       " 'https://www.domain.com.au/24-wilmot-road-shepparton-vic-3630-16016339',\n",
       " 'https://www.domain.com.au/4a-warrawee-drive-bundoora-vic-3083-15968421',\n",
       " 'https://www.domain.com.au/137-flemington-road-north-melbourne-vic-3051-13336355',\n",
       " 'https://www.domain.com.au/7-arthur-street-hastings-vic-3915-16057185',\n",
       " 'https://www.domain.com.au/1-18-king-street-dallas-vic-3047-15415466',\n",
       " 'https://www.domain.com.au/310-1065-heidelberg-road-ivanhoe-vic-3079-15988843',\n",
       " 'https://www.domain.com.au/33-deakin-street-bentleigh-east-vic-3165-16058445',\n",
       " 'https://www.domain.com.au/2509-228-la-trobe-street-melbourne-vic-3000-15384018',\n",
       " 'https://www.domain.com.au/303-118-pier-street-altona-vic-3018-15778075',\n",
       " 'https://www.domain.com.au/125-gower-street-preston-vic-3072-16009213',\n",
       " 'https://www.domain.com.au/5403-135-a-beckett-street-melbourne-vic-3000-15337093',\n",
       " 'https://www.domain.com.au/22-19-robe-street-st-kilda-vic-3182-16050877',\n",
       " 'https://www.domain.com.au/136-23-blackwood-street-north-melbourne-vic-3051-15980589',\n",
       " 'https://www.domain.com.au/7-isaacs-street-deanside-vic-3336-16019872',\n",
       " 'https://www.domain.com.au/29-forbes-ct-north-bendigo-vic-3550-16065271',\n",
       " 'https://www.domain.com.au/540-canning-street-carlton-north-vic-3054-16018530',\n",
       " 'https://www.domain.com.au/15-stourhead-avenue-mernda-vic-3754-16054616',\n",
       " 'https://www.domain.com.au/22-fairfield-crescent-diggers-rest-vic-3427-15997363',\n",
       " 'https://www.domain.com.au/102-30-station-street-fairfield-vic-3078-16018313',\n",
       " 'https://www.domain.com.au/37-cambridge-road-mooroolbark-vic-3138-16033468',\n",
       " 'https://www.domain.com.au/2-9-argyle-street-bentleigh-east-vic-3165-15982789',\n",
       " 'https://www.domain.com.au/1202-7-riverside-quay-southbank-vic-3006-16062240',\n",
       " 'https://www.domain.com.au/5-james-parade-malvern-east-vic-3145-16067384',\n",
       " 'https://www.domain.com.au/475-neerim-road-murrumbeena-vic-3163-16059927',\n",
       " 'https://www.domain.com.au/188-ferrars-street-south-melbourne-vic-3205-15960390',\n",
       " 'https://www.domain.com.au/48-wright-street-bendigo-vic-3550-16060683',\n",
       " 'https://www.domain.com.au/13-robertson-street-myrtleford-vic-3737-8411348',\n",
       " 'https://www.domain.com.au/504-639-lonsdale-street-melbourne-vic-3000-16038109',\n",
       " 'https://www.domain.com.au/28-buna-street-heidelberg-west-vic-3081-16051450',\n",
       " 'https://www.domain.com.au/8-everlasting-terrace-mount-duneed-vic-3217-15983183',\n",
       " 'https://www.domain.com.au/5-1016-toorak-road-camberwell-vic-3124-16068333',\n",
       " 'https://www.domain.com.au/1-8-cordina-court-warrnambool-vic-3280-16056608',\n",
       " 'https://www.domain.com.au/407-1525-dandenong-road-oakleigh-vic-3166-14878177',\n",
       " 'https://www.domain.com.au/107-casey-street-east-bendigo-vic-3550-13483320',\n",
       " 'https://www.domain.com.au/311-king-street-golden-square-vic-3555-16021620',\n",
       " 'https://www.domain.com.au/705-91-galada-parkville-vic-3052-13814750',\n",
       " 'https://www.domain.com.au/21-loller-street-brighton-vic-3186-15798304',\n",
       " 'https://www.domain.com.au/1402-63-whiteman-street-southbank-vic-3006-16009660',\n",
       " 'https://www.domain.com.au/26-bookham-circuit-kalkallo-vic-3064-16029276',\n",
       " 'https://www.domain.com.au/7-kay-court-broadmeadows-vic-3047-14434731',\n",
       " 'https://www.domain.com.au/3-arnot-court-croydon-vic-3136-16065100',\n",
       " 'https://www.domain.com.au/20-cherokee-parade-clyde-vic-3978-16053559',\n",
       " 'https://www.domain.com.au/2-6-neville-street-mentone-vic-3194-16067090',\n",
       " 'https://www.domain.com.au/9-highbury-street-west-footscray-vic-3012-16057865',\n",
       " 'https://www.domain.com.au/14-casino-court-peterborough-vic-3270-13903893',\n",
       " 'https://www.domain.com.au/8-179-mitchells-lane-sunbury-vic-3429-14191381',\n",
       " 'https://www.domain.com.au/3-6-gilmour-rd-camberwell-vic-3124-16066736',\n",
       " 'https://www.domain.com.au/1-57-swan-reach-road-swan-reach-vic-3903-15998634',\n",
       " 'https://www.domain.com.au/2-146-glen-iris-road-glen-iris-vic-3146-16040804',\n",
       " 'https://www.domain.com.au/46-powlett-street-altona-meadows-vic-3028-16065917',\n",
       " 'https://www.domain.com.au/60-macey-avenue-avondale-heights-vic-3034-9468099',\n",
       " 'https://www.domain.com.au/4-2-selwyn-avenue-elwood-vic-3184-16063201',\n",
       " 'https://www.domain.com.au/7-145-brighton-road-elwood-vic-3184-16063298',\n",
       " 'https://www.domain.com.au/4-1a-wattle-road-maidstone-vic-3012-16049769',\n",
       " 'https://www.domain.com.au/202a-168-victoria-road-northcote-vic-3070-15933273',\n",
       " 'https://www.domain.com.au/12-pantanal-road-tarneit-vic-3029-16052365',\n",
       " 'https://www.domain.com.au/2-airedale-avenue-hawthorn-east-vic-3123-16029073',\n",
       " 'https://www.domain.com.au/16-lyell-walk-forest-hill-vic-3131-15909711',\n",
       " 'https://www.domain.com.au/207-clayton-rd-clayton-vic-3168-16039962',\n",
       " 'https://www.domain.com.au/9-2-10-creekwood-drive-craigieburn-vic-3064-16048702',\n",
       " 'https://www.domain.com.au/18-philip-road-knoxfield-vic-3180-11574093',\n",
       " 'https://www.domain.com.au/112-115-neerim-road-glen-huntly-vic-3163-15249020',\n",
       " 'https://www.domain.com.au/29-anderson-street-werribee-vic-3030-16061083',\n",
       " 'https://www.domain.com.au/chirnside-park-vic-3116-11425011',\n",
       " 'https://www.domain.com.au/9b-holt-street-bendigo-vic-3550-12764042',\n",
       " 'https://www.domain.com.au/1-36-hotham-road-sorrento-vic-3943-16000807',\n",
       " 'https://www.domain.com.au/22-brunei-crescent-heidelberg-west-vic-3081-15876020',\n",
       " 'https://www.domain.com.au/11-mark-street-rosebud-vic-3939-15225769',\n",
       " 'https://www.domain.com.au/1-20-stanley-street-warrnambool-vic-3280-13783595',\n",
       " 'https://www.domain.com.au/295-inkerman-street-balaclava-vic-3183-16034828',\n",
       " 'https://www.domain.com.au/24-dreadnought-street-sandringham-vic-3191-16037409',\n",
       " 'https://www.domain.com.au/252a-glenlyon-rd-fitzroy-north-vic-3068-16003415',\n",
       " 'https://www.domain.com.au/71-ormond-road-moonee-ponds-vic-3039-16015621',\n",
       " 'https://www.domain.com.au/3-20-fulton-road-blackburn-south-vic-3130-16052837',\n",
       " 'https://www.domain.com.au/55-creswick-street-footscray-vic-3011-15925429',\n",
       " 'https://www.domain.com.au/40-brougham-street-north-melbourne-vic-3051-15304013',\n",
       " 'https://www.domain.com.au/10-elm-street-elsternwick-vic-3185-16039984',\n",
       " 'https://www.domain.com.au/211-59-thistlethwaite-street-south-melbourne-vic-3205-16062558',\n",
       " 'https://www.domain.com.au/21-shannahan-drive-norlane-vic-3214-13810482',\n",
       " 'https://www.domain.com.au/4-31-bayview-crescent-black-rock-vic-3193-16051099',\n",
       " 'https://www.domain.com.au/133-north-road-brighton-vic-3186-16017654',\n",
       " 'https://www.domain.com.au/39-turramurra-drive-keysborough-vic-3173-14954499',\n",
       " 'https://www.domain.com.au/408-51-gordon-street-footscray-vic-3011-15209484',\n",
       " 'https://www.domain.com.au/72-grandview-avenue-pascoe-vale-south-vic-3044-15307062',\n",
       " 'https://www.domain.com.au/6-6-hakatere-street-northcote-vic-3070-16035716',\n",
       " 'https://www.domain.com.au/2a-waters-drive-seaholme-vic-3018-16062356',\n",
       " 'https://www.domain.com.au/25-clairmont-avenue-cranbourne-vic-3977-16033931',\n",
       " 'https://www.domain.com.au/dg06-8-olive-york-way-brunswick-west-vic-3055-16036047',\n",
       " 'https://www.domain.com.au/201-220-burke-road-glen-iris-vic-3146-16030137',\n",
       " 'https://www.domain.com.au/8-107-army-road-pakenham-vic-3810-16061403',\n",
       " 'https://www.domain.com.au/28-urwin-street-yarraville-vic-3013-16034808',\n",
       " 'https://www.domain.com.au/north-melbourne-vic-3051-15922594',\n",
       " 'https://www.domain.com.au/22-77-alma-road-st-kilda-vic-3182-16065272',\n",
       " 'https://www.domain.com.au/593-elizabeth-street-melbourne-vic-3000-8434062',\n",
       " 'https://www.domain.com.au/119-charles-street-seddon-vic-3011-16044690',\n",
       " 'https://www.domain.com.au/3-anderson-street-newport-vic-3015-15668154',\n",
       " 'https://www.domain.com.au/214-33-quay-boulevard-werribee-south-vic-3030-16065655',\n",
       " 'https://www.domain.com.au/4-248-moreland-road-brunswick-vic-3056-15986254',\n",
       " 'https://www.domain.com.au/23-garnet-street-preston-vic-3072-16026292',\n",
       " 'https://www.domain.com.au/19-narcissus-avenue-boronia-vic-3155-15298291',\n",
       " 'https://www.domain.com.au/1-rowe-court-drysdale-vic-3222-16059275',\n",
       " 'https://www.domain.com.au/ssc-17-river-road-horsham-vic-3400-15529718',\n",
       " 'https://www.domain.com.au/3-47-austin-crescent-pascoe-vale-vic-3044-14955787',\n",
       " 'https://www.domain.com.au/2-15-loddon-avenue-reservoir-vic-3073-16026528',\n",
       " 'https://www.domain.com.au/59-head-st-brighton-vic-3186-16036962',\n",
       " 'https://www.domain.com.au/18-56-norton-road-croydon-vic-3136-16042590',\n",
       " 'https://www.domain.com.au/13-angaston-way-truganina-vic-3029-16030849',\n",
       " 'https://www.domain.com.au/37-stephenson-street-cremorne-vic-3121-15804110',\n",
       " 'https://www.domain.com.au/202-107-hawke-street-west-melbourne-vic-3003-16058186',\n",
       " 'https://www.domain.com.au/1-239-mont-albert-road-surrey-hills-vic-3127-15999916',\n",
       " 'https://www.domain.com.au/1-1-austin-street-hawthorn-vic-3122-16043288',\n",
       " 'https://www.domain.com.au/206-623-625-sydney-road-brunswick-vic-3056-16050536',\n",
       " 'https://www.domain.com.au/1-9-tranmere-avenue-carnegie-vic-3163-16052421',\n",
       " 'https://www.domain.com.au/62-summit-avenue-belmont-vic-3216-16039598',\n",
       " 'https://www.domain.com.au/38-mccarthy-court-wallan-vic-3756-14230683',\n",
       " 'https://www.domain.com.au/54-pentland-drive-narre-warren-vic-3805-16032758',\n",
       " 'https://www.domain.com.au/64-tristania-drive-point-cook-vic-3030-16005212',\n",
       " 'https://www.domain.com.au/47-hardy-street-south-yarra-vic-3141-16012936',\n",
       " 'https://www.domain.com.au/3-4-windsor-avenue-oakleigh-south-vic-3167-15306243',\n",
       " 'https://www.domain.com.au/3-17-cuthbert-street-broadmeadows-vic-3047-16047337',\n",
       " 'https://www.domain.com.au/9-8-grandview-grove-prahran-vic-3181-9574908',\n",
       " 'https://www.domain.com.au/28-doe-street-rye-vic-3941-15895120',\n",
       " 'https://www.domain.com.au/9-10-12-woorayl-street-carnegie-vic-3163-16069635',\n",
       " 'https://www.domain.com.au/82-exploration-avenue-werribee-vic-3030-16047483',\n",
       " 'https://www.domain.com.au/1492-malvern-road-glen-iris-vic-3146-16051441',\n",
       " 'https://www.domain.com.au/79-crole-drive-warragul-vic-3820-16049864',\n",
       " 'https://www.domain.com.au/5-62a-coghlan-street-niddrie-vic-3042-15900465',\n",
       " 'https://www.domain.com.au/5-3-stanley-ave-cheltenham-vic-3192-15832683',\n",
       " 'https://www.domain.com.au/1-11-evelyn-street-clayton-vic-3168-16045938',\n",
       " 'https://www.domain.com.au/90-union-street-windsor-vic-3181-15851270',\n",
       " 'https://www.domain.com.au/3-112-merrijig-drive-torquay-vic-3228-15721074',\n",
       " 'https://www.domain.com.au/812-29-31-market-street-melbourne-vic-3000-15555300',\n",
       " 'https://www.domain.com.au/27-santander-crescent-point-cook-vic-3030-16060908',\n",
       " 'https://www.domain.com.au/313-757-toorak-road-hawthorn-east-vic-3123-16046102',\n",
       " 'https://www.domain.com.au/3-42-banksia-grove-tullamarine-vic-3043-12290713',\n",
       " 'https://www.domain.com.au/45-murdock-street-brunswick-vic-3056-16035344',\n",
       " 'https://www.domain.com.au/5-14-barry-street-reservoir-vic-3073-16016763',\n",
       " 'https://www.domain.com.au/2-berala-place-mill-park-vic-3082-16054522',\n",
       " 'https://www.domain.com.au/33-albion-street-south-yarra-vic-3141-15939130',\n",
       " 'https://www.domain.com.au/2-19-hartwood-street-kew-east-vic-3102-16005554',\n",
       " 'https://www.domain.com.au/3-topaz-avenue-white-hills-vic-3550-15981743',\n",
       " 'https://www.domain.com.au/2b-high-street-windsor-vic-3181-15980574',\n",
       " 'https://www.domain.com.au/232-south-valley-road-highton-vic-3216-15866212',\n",
       " 'https://www.domain.com.au/12-297-pascoe-vale-road-essendon-vic-3040-16068731',\n",
       " 'https://www.domain.com.au/12-sorrenberg-street-point-cook-vic-3030-15335243',\n",
       " 'https://www.domain.com.au/6-eldale-avenue-greensborough-vic-3088-16065788',\n",
       " 'https://www.domain.com.au/31-fleetwood-drive-narre-warren-vic-3805-15345589',\n",
       " 'https://www.domain.com.au/703s-883-collins-street-docklands-vic-3008-15712107',\n",
       " 'https://www.domain.com.au/1-29-mary-street-kew-vic-3101-15088173',\n",
       " 'https://www.domain.com.au/6-30-westbury-street-st-kilda-east-vic-3183-15132614',\n",
       " 'https://www.domain.com.au/8-keats-court-truganina-vic-3029-16039299',\n",
       " 'https://www.domain.com.au/3-47-49-mcdonalds-road-epping-vic-3076-16068042',\n",
       " 'https://www.domain.com.au/38-steamboat-avenue-winter-valley-vic-3358-16067890',\n",
       " 'https://www.domain.com.au/3-53-margaret-street-werribee-vic-3030-16029037',\n",
       " 'https://www.domain.com.au/3-275-burnley-st-richmond-vic-3121-16056367',\n",
       " 'https://www.domain.com.au/28-elmwood-circuit-wodonga-vic-3690-16058917',\n",
       " 'https://www.domain.com.au/5-26-elm-grove-richmond-vic-3121-15981692',\n",
       " 'https://www.domain.com.au/13-buckland-circuit-werribee-vic-3030-16019777',\n",
       " 'https://www.domain.com.au/1-42a-hawthorn-grove-hawthorn-vic-3122-16067552',\n",
       " 'https://www.domain.com.au/g43-347-camberwell-road-camberwell-vic-3124-16066506',\n",
       " 'https://www.domain.com.au/3-8-ferguson-street-spotswood-vic-3015-13281311',\n",
       " 'https://www.domain.com.au/108-narr-maen-drive-croydon-hills-vic-3136-16018688',\n",
       " 'https://www.domain.com.au/75-bayview-road-yarraville-vic-3013-13368046',\n",
       " 'https://www.domain.com.au/1-307-309-bay-road-cheltenham-vic-3192-16070516',\n",
       " 'https://www.domain.com.au/52-marlborough-road-berwick-vic-3806-15761532',\n",
       " 'https://www.domain.com.au/1014-260-spencer-street-melbourne-vic-3000-16062005',\n",
       " 'https://www.domain.com.au/22-eldridge-street-footscray-vic-3011-16062878',\n",
       " 'https://www.domain.com.au/614-2-6-railway-road-cheltenham-vic-3192-15343299',\n",
       " 'https://www.domain.com.au/2-10-westley-street-ferntree-gully-vic-3156-13184110',\n",
       " 'https://www.domain.com.au/26-arrowhead-street-manor-lakes-vic-3024-15979494',\n",
       " 'https://www.domain.com.au/704-111-parkview-road-alphington-vic-3078-16069779',\n",
       " 'https://www.domain.com.au/1904-60-a-beckett-street-melbourne-vic-3000-12991464',\n",
       " 'https://www.domain.com.au/40-feathertop-avenue-weir-views-vic-3338-16059729',\n",
       " 'https://www.domain.com.au/5-hickling-lane-deanside-vic-3336-15994807',\n",
       " 'https://www.domain.com.au/1-2a-linlithgow-street-mitcham-vic-3132-16042100',\n",
       " 'https://www.domain.com.au/327-la-trobe-street-melbourne-vic-3000-14536973',\n",
       " 'https://www.domain.com.au/1115-55-merchant-street-docklands-vic-3008-16000836',\n",
       " 'https://www.domain.com.au/1-1178-sydney-rd-fawkner-vic-3060-15763724',\n",
       " 'https://www.domain.com.au/19-9-beach-street-port-melbourne-vic-3207-15975613',\n",
       " 'https://www.domain.com.au/floor7-387-395-docklands-drive-docklands-vic-3008-15996040',\n",
       " 'https://www.domain.com.au/32-485-st-kilda-road-melbourne-vic-3004-15960577',\n",
       " 'https://www.domain.com.au/24-union-street-windsor-vic-3181-16055616',\n",
       " 'https://www.domain.com.au/2-32-caroline-street-aberfeldie-vic-3040-16067388',\n",
       " 'https://www.domain.com.au/801-387-docklands-drive-docklands-vic-3008-16032494',\n",
       " 'https://www.domain.com.au/21-william-street-glenroy-vic-3046-15397787',\n",
       " 'https://www.domain.com.au/46-munro-street-kew-east-vic-3102-16024200',\n",
       " 'https://www.domain.com.au/2-187-bank-street-south-melbourne-vic-3205-16065978',\n",
       " 'https://www.domain.com.au/4-50-robert-street-bentleigh-vic-3204-15889622',\n",
       " 'https://www.domain.com.au/44-gibdon-street-burnley-vic-3121-16046879',\n",
       " 'https://www.domain.com.au/30-210-normanby-road-notting-hill-vic-3168-15659444',\n",
       " 'https://www.domain.com.au/9-11-troward-harvey-way-craigieburn-vic-3064-16064539',\n",
       " 'https://www.domain.com.au/21-blamey-street-bentleigh-east-vic-3165-16042113',\n",
       " 'https://www.domain.com.au/8-inverness-avenue-burwood-vic-3125-14317320',\n",
       " 'https://www.domain.com.au/8-suspension-street-ardeer-vic-3022-16041068',\n",
       " 'https://www.domain.com.au/12-digby-avenue-belmont-vic-3216-16059422',\n",
       " 'https://www.domain.com.au/50-elmtree-crescent-clyde-north-vic-3978-16019999',\n",
       " 'https://www.domain.com.au/311-1-grosvenor-street-doncaster-vic-3108-16050757',\n",
       " 'https://www.domain.com.au/21-rinford-street-maryborough-vic-3465-16000157',\n",
       " 'https://www.domain.com.au/2-81-mitford-street-elwood-vic-3184-16053745',\n",
       " 'https://www.domain.com.au/1-15-gilmour-road-bentleigh-vic-3204-15933472',\n",
       " 'https://www.domain.com.au/42-majestic-way-st-leonards-vic-3223-16017236',\n",
       " 'https://www.domain.com.au/168-the-boulevard-ivanhoe-east-vic-3079-16031243',\n",
       " 'https://www.domain.com.au/id-21099288-38-elizabeth-street-richmond-vic-3121-16056456',\n",
       " 'https://www.domain.com.au/docklands-vic-3008-15941156',\n",
       " 'https://www.domain.com.au/603-915-collins-street-docklands-vic-3008-16068878',\n",
       " 'https://www.domain.com.au/12-panorama-ave-sunset-strip-vic-3922-16051185',\n",
       " 'https://www.domain.com.au/9-whitegum-street-harkness-vic-3337-16069135',\n",
       " 'https://www.domain.com.au/5-144-kidds-road-doveton-vic-3177-16018899',\n",
       " 'https://www.domain.com.au/91-songlark-crescent-werribee-vic-3030-16033971',\n",
       " 'https://www.domain.com.au/9-dawe-court-hoppers-crossing-vic-3029-16058837',\n",
       " 'https://www.domain.com.au/3-beswick-street-street-clayton-south-vic-3169-16068239',\n",
       " 'https://www.domain.com.au/5-116-glass-street-essendon-vic-3040-16050356',\n",
       " 'https://www.domain.com.au/21-gladstone-street-kew-vic-3101-15613484',\n",
       " 'https://www.domain.com.au/g05-381-docklands-drive-docklands-vic-3008-15957823',\n",
       " 'https://www.domain.com.au/27a-hornby-street-brighton-east-vic-3187-15969782',\n",
       " 'https://www.domain.com.au/4-1-king-street-hastings-vic-3915-16070175',\n",
       " 'https://www.domain.com.au/45-ezra-street-cranbourne-east-vic-3977-16058117',\n",
       " 'https://www.domain.com.au/2-42-wackett-street-laverton-vic-3028-16044054',\n",
       " 'https://www.domain.com.au/106b-botanic-road-warrnambool-vic-3280-16056639',\n",
       " 'https://www.domain.com.au/1-21-logie-street-oakleigh-vic-3166-15999408',\n",
       " 'https://www.domain.com.au/88-rim-cross-drive-avondale-heights-vic-3034-16008213',\n",
       " 'https://www.domain.com.au/701-cosmopolitan-place-ballarat-central-vic-3350-16067472',\n",
       " 'https://www.domain.com.au/6-birch-avenue-tullamarine-vic-3043-16024633',\n",
       " 'https://www.domain.com.au/20-fydler-avenue-burnside-vic-3023-15952428',\n",
       " 'https://www.domain.com.au/575-settlement-road-cowes-vic-3922-15742229',\n",
       " 'https://www.domain.com.au/28-waxflower-crescent-bundoora-vic-3083-16061173',\n",
       " 'https://www.domain.com.au/7a-116-130-main-drive-macleod-vic-3085-8864772',\n",
       " 'https://www.domain.com.au/36-cloudburst-avenue-wyndham-vale-vic-3024-16069061',\n",
       " 'https://www.domain.com.au/8-180-riversdale-road-hawthorn-vic-3122-16005634',\n",
       " 'https://www.domain.com.au/10-12-barrett-street-cheltenham-vic-3192-16059886',\n",
       " 'https://www.domain.com.au/4-31-elgin-street-morwell-vic-3840-16068339',\n",
       " 'https://www.domain.com.au/106-205-207-ballarat-road-footscray-vic-3011-16004464',\n",
       " 'https://www.domain.com.au/76-485-489-st-kilda-road-melbourne-vic-3004-14868147',\n",
       " 'https://www.domain.com.au/37b-wotonga-drive-horsham-vic-3400-16070486',\n",
       " 'https://www.domain.com.au/99a-breed-street-traralgon-vic-3844-16070385',\n",
       " 'https://www.domain.com.au/2-moorhead-drive-mill-park-vic-3082-14885312',\n",
       " 'https://www.domain.com.au/28-conside-cres-torquay-vic-3228-16062678',\n",
       " 'https://www.domain.com.au/2-25-ross-street-doncaster-east-vic-3109-16008536',\n",
       " 'https://www.domain.com.au/1-33-calrossie-avenue-montmorency-vic-3094-12290288',\n",
       " 'https://www.domain.com.au/29-lorna-street-seaford-vic-3198-16064802',\n",
       " 'https://www.domain.com.au/31-strathmore-cres-hoppers-crossing-vic-3029-16032114',\n",
       " 'https://www.domain.com.au/120-daylesford-road-brown-hill-vic-3350-16033703',\n",
       " 'https://www.domain.com.au/52-everholme-drive-truganina-vic-3029-16059218',\n",
       " 'https://www.domain.com.au/1-232-view-street-bendigo-vic-3550-11202055',\n",
       " 'https://www.domain.com.au/3114-9-power-street-southbank-vic-3006-15976934',\n",
       " 'https://www.domain.com.au/23-hallam-street-quarry-hill-vic-3550-13276430',\n",
       " 'https://www.domain.com.au/2-burramine-road-glen-waverley-vic-3150-16065822',\n",
       " 'https://www.domain.com.au/6-21a-dickens-street-elwood-vic-3184-15995883',\n",
       " 'https://www.domain.com.au/10-33-carmichael-street-ivanhoe-east-vic-3079-16036590',\n",
       " 'https://www.domain.com.au/5-pisa-street-fraser-rise-vic-3336-15817219',\n",
       " 'https://www.domain.com.au/8-lawson-street-albion-vic-3020-13363169',\n",
       " 'https://www.domain.com.au/28-cameron-parade-bundoora-vic-3083-16050782',\n",
       " 'https://www.domain.com.au/1667-1669-malvern-road-glen-iris-vic-3146-16022120',\n",
       " 'https://www.domain.com.au/17-korumburra-close-norlane-vic-3214-16008540',\n",
       " 'https://www.domain.com.au/35-glenard-drive-eaglemont-vic-3084-16024653',\n",
       " 'https://www.domain.com.au/17-sandpiper-avenue-winter-valley-vic-3358-16041898',\n",
       " 'https://www.domain.com.au/403-28-queens-avenue-hawthorn-vic-3122-16022073',\n",
       " 'https://www.domain.com.au/3-matotek-court-mildura-vic-3500-16063019',\n",
       " 'https://www.domain.com.au/302-60-a-beckett-street-melbourne-vic-3000-15604666',\n",
       " 'https://www.domain.com.au/5-14-kelvinside-road-noble-park-vic-3174-16033796',\n",
       " 'https://www.domain.com.au/804-tress-street-mount-pleasant-vic-3350-16063263',\n",
       " 'https://www.domain.com.au/2-147-orange-avenue-mildura-vic-3500-16032415',\n",
       " 'https://www.domain.com.au/10-woodville-park-drive-hoppers-crossing-vic-3029-16046617',\n",
       " 'https://www.domain.com.au/6-169-ormond-road-elwood-vic-3184-16043779',\n",
       " 'https://www.domain.com.au/140-dendy-street-brighton-east-vic-3187-16006734',\n",
       " 'https://www.domain.com.au/1-5-balaclava-ave-altona-meadows-vic-3028-15167243',\n",
       " 'https://www.domain.com.au/21-rivergum-court-north-bendigo-vic-3550-16062929',\n",
       " 'https://www.domain.com.au/e323-11-flockhart-street-abbotsford-vic-3067-14856252',\n",
       " 'https://www.domain.com.au/138-lemon-avenue-mildura-vic-3500-14649174',\n",
       " 'https://www.domain.com.au/2-combay-street-bairnsdale-vic-3875-16061155',\n",
       " 'https://www.domain.com.au/10-prowse-walk-epping-vic-3076-16068038',\n",
       " 'https://www.domain.com.au/4-129-131-kambrook-road-caulfield-north-vic-3161-16064416',\n",
       " 'https://www.domain.com.au/6b-adrian-court-heathmont-vic-3135-16013485',\n",
       " 'https://www.domain.com.au/2-2-manna-gum-court-narre-warren-vic-3805-16041104',\n",
       " 'https://www.domain.com.au/31-renaissance-boulevard-mernda-vic-3754-16053386',\n",
       " 'https://www.domain.com.au/3-148-melville-road-pascoe-vale-south-vic-3044-12848096',\n",
       " 'https://www.domain.com.au/6b-sica-court-sydenham-vic-3037-16036421',\n",
       " 'https://www.domain.com.au/51-378-390-st-georges-road-fitzroy-north-vic-3068-16059230',\n",
       " 'https://www.domain.com.au/20-deutgam-street-werribee-vic-3030-16063527',\n",
       " 'https://www.domain.com.au/1-8-paula-crescent-doncaster-east-vic-3109-16067947',\n",
       " 'https://www.domain.com.au/7-cadillac-way-smythes-creek-vic-3351-16070199',\n",
       " 'https://www.domain.com.au/40-plume-drive-mernda-vic-3754-16043599',\n",
       " 'https://www.domain.com.au/424-rodier-street-canadian-vic-3350-16043555',\n",
       " 'https://www.domain.com.au/125-spencer-street-essendon-vic-3040-16025192',\n",
       " 'https://www.domain.com.au/29-910-canterbury-road-box-hill-south-vic-3128-15920309',\n",
       " 'https://www.domain.com.au/3-17-carey-street-hamlyn-heights-vic-3215-16044296',\n",
       " 'https://www.domain.com.au/2-bed-1-bath-48-cowper-street-footscray-vic-3011-16026261',\n",
       " 'https://www.domain.com.au/33-barry-street-birregurra-vic-3242-16024027',\n",
       " 'https://www.domain.com.au/93-gatehouse-drive-kensington-vic-3031-15112668',\n",
       " 'https://www.domain.com.au/5-22a-fernhill-road-sandringham-vic-3191-15942967',\n",
       " 'https://www.domain.com.au/23-oravel-street-balwyn-north-vic-3104-16042184',\n",
       " 'https://www.domain.com.au/54-gummow-street-swan-hill-vic-3585-16038807',\n",
       " 'https://www.domain.com.au/2605-100-lorimer-street-docklands-vic-3008-16064335',\n",
       " 'https://www.domain.com.au/5-baynton-street-heathcote-vic-3523-16045624',\n",
       " 'https://www.domain.com.au/506-45-claremont-street-south-yarra-vic-3141-15014125',\n",
       " 'https://www.domain.com.au/10-gray-street-springvale-vic-3171-16050594',\n",
       " 'https://www.domain.com.au/11-13-day-street-wodonga-vic-3690-14724423',\n",
       " 'https://www.domain.com.au/1-47-davies-street-hadfield-vic-3046-16067864',\n",
       " 'https://www.domain.com.au/200-roberts-street-yarraville-vic-3013-13329555',\n",
       " 'https://www.domain.com.au/14-36-kensington-road-south-yarra-vic-3141-15855946',\n",
       " 'https://www.domain.com.au/5-181-franklin-street-melbourne-vic-3000-9581545',\n",
       " 'https://www.domain.com.au/4-829-high-street-kew-east-vic-3102-16049165',\n",
       " 'https://www.domain.com.au/2-eastern-place-hawthorn-east-vic-3123-8431398',\n",
       " 'https://www.domain.com.au/26-jolimont-road-forest-hill-vic-3131-16060970',\n",
       " 'https://www.domain.com.au/13-bell-street-coburg-vic-3058-15969649',\n",
       " 'https://www.domain.com.au/32a-elizabeth-street-geelong-west-vic-3218-15871693',\n",
       " 'https://www.domain.com.au/52-koonawarra-street-clayton-vic-3168-16015573',\n",
       " 'https://www.domain.com.au/13-55-hotham-street-st-kilda-east-vic-3183-15965456',\n",
       " 'https://www.domain.com.au/8-parnell-crescent-gladstone-park-vic-3043-16014828',\n",
       " 'https://www.domain.com.au/3-132-nicholson-street-brunswick-east-vic-3057-16064390',\n",
       " 'https://www.domain.com.au/13-carloway-drive-mckenzie-hill-vic-3451-16057434',\n",
       " 'https://www.domain.com.au/2108-11-rose-lane-melbourne-vic-3000-16043123',\n",
       " 'https://www.domain.com.au/16-55-moreland-road-footscray-vic-3011-15995024',\n",
       " 'https://www.domain.com.au/1106-245-city-road-southbank-vic-3006-15182382',\n",
       " 'https://www.domain.com.au/6-williams-road-laverton-vic-3028-15715053',\n",
       " 'https://www.domain.com.au/47-betula-avenue-nunawading-vic-3131-14880655',\n",
       " 'https://www.domain.com.au/2-53-kellett-street-northcote-vic-3070-16016715',\n",
       " 'https://www.domain.com.au/26-devereaux-street-oak-park-vic-3046-16021009',\n",
       " 'https://www.domain.com.au/55-tobin-way-lyndhurst-vic-3975-16047589',\n",
       " 'https://www.domain.com.au/2-11-apsley-street-glenroy-vic-3046-15307058',\n",
       " 'https://www.domain.com.au/543-pascoe-vale-road-pascoe-vale-vic-3044-16056030',\n",
       " 'https://www.domain.com.au/91c-116-130-main-drive-macleod-vic-3085-8642936',\n",
       " 'https://www.domain.com.au/5-258-warrigal-road-cheltenham-vic-3192-16055699',\n",
       " 'https://www.domain.com.au/5-1-cooper-street-brunswick-west-vic-3055-15813128',\n",
       " 'https://www.domain.com.au/2a-ambon-street-ashburton-vic-3147-16033643',\n",
       " 'https://www.domain.com.au/3-adina-court-strathdale-vic-3550-16012767',\n",
       " 'https://www.domain.com.au/32a-cambra-road-belmont-vic-3216-16062658',\n",
       " 'https://www.domain.com.au/2105-39-lonsdale-street-melbourne-vic-3000-16061300',\n",
       " 'https://www.domain.com.au/5-55-victoria-street-brunswick-east-vic-3057-14599316',\n",
       " 'https://www.domain.com.au/2-4-gardiner-avenue-dandenong-north-vic-3175-16058237',\n",
       " 'https://www.domain.com.au/3-699-pascoe-vale-rd-glenroy-vic-3046-15884891',\n",
       " 'https://www.domain.com.au/80c-first-ave-altona-north-vic-3025-16056452',\n",
       " 'https://www.domain.com.au/13-gumbowie-avenue-clifton-springs-vic-3222-16063383',\n",
       " 'https://www.domain.com.au/15-daventry-street-reservoir-vic-3073-15999055',\n",
       " 'https://www.domain.com.au/1-chifley-circuit-burnside-heights-vic-3023-15983572',\n",
       " 'https://www.domain.com.au/10-49-59-coonans-rd-pascoe-vale-south-vic-3044-16050532',\n",
       " 'https://www.domain.com.au/20-elphin-street-newport-vic-3015-14080918',\n",
       " 'https://www.domain.com.au/4-13-elizabeth-street-oakleigh-east-vic-3166-16066381',\n",
       " 'https://www.domain.com.au/22-apium-street-clyde-vic-3978-16052548',\n",
       " 'https://www.domain.com.au/2-1-barwon-street-glenroy-vic-3046-16054075',\n",
       " 'https://www.domain.com.au/1a-asquith-street-box-hill-south-vic-3128-16069658',\n",
       " 'https://www.domain.com.au/1-18-hughes-crescent-dandenong-north-vic-3175-16021824',\n",
       " 'https://www.domain.com.au/10-k7-high-street-windsor-vic-3181-16063444',\n",
       " 'https://www.domain.com.au/1-309-barkers-road-kew-vic-3101-16066877',\n",
       " 'https://www.domain.com.au/10-howard-street-barooga-nsw-3644-16063637',\n",
       " 'https://www.domain.com.au/1-1-haven-court-cranbourne-vic-3977-16066375',\n",
       " 'https://www.domain.com.au/10-125-grange-road-glen-huntly-vic-3163-16062463',\n",
       " 'https://www.domain.com.au/24-bridge-street-port-melbourne-vic-3207-16041018',\n",
       " 'https://www.domain.com.au/15-beltons-way-doreen-vic-3754-15977417',\n",
       " 'https://www.domain.com.au/103-parer-street-burwood-vic-3125-15202686',\n",
       " 'https://www.domain.com.au/13-kernick-street-lucas-vic-3350-16059957',\n",
       " 'https://www.domain.com.au/40a-macedon-parade-wollert-vic-3750-15280632',\n",
       " 'https://www.domain.com.au/108-9-hewitt-avenue-footscray-vic-3011-16063229',\n",
       " 'https://www.domain.com.au/49-53-oceania-drive-curlewis-vic-3222-16048189',\n",
       " 'https://www.domain.com.au/119a-williamstown-road-seddon-vic-3011-16039735',\n",
       " 'https://www.domain.com.au/402-229-bridge-road-richmond-vic-3121-11706099',\n",
       " 'https://www.domain.com.au/4-50a-brunswick-road-brunswick-east-vic-3057-11894841',\n",
       " 'https://www.domain.com.au/2-1417-pascoe-vale-road-meadow-heights-vic-3048-16068500',\n",
       " 'https://www.domain.com.au/78c-116-130-main-drive-macleod-vic-3085-8431369',\n",
       " 'https://www.domain.com.au/4-clive-road-hawthorn-east-vic-3123-16042107',\n",
       " 'https://www.domain.com.au/7-lachlan-road-melton-south-vic-3338-15950626',\n",
       " 'https://www.domain.com.au/171-banksia-street-ivanhoe-vic-3079-16062201',\n",
       " 'https://www.domain.com.au/3-fairmead-place-narre-warren-south-vic-3805-16065945',\n",
       " 'https://www.domain.com.au/2-21-23-westgate-street-pascoe-vale-south-vic-3044-16060501',\n",
       " 'https://www.domain.com.au/308-2-willis-lane-hampton-vic-3188-15910160',\n",
       " 'https://www.domain.com.au/202-263a-springvale-road-glen-waverley-vic-3150-14662672',\n",
       " 'https://www.domain.com.au/13-9-fitzroy-street-st-kilda-vic-3182-16057589',\n",
       " 'https://www.domain.com.au/807-700-chapel-street-south-yarra-vic-3141-15989969',\n",
       " 'https://www.domain.com.au/9-balvicar-way-mernda-vic-3754-16057994',\n",
       " 'https://www.domain.com.au/401-118-kavanagh-street-southbank-vic-3006-16035988',\n",
       " 'https://www.domain.com.au/40-goulburn-street-seymour-vic-3660-16070123',\n",
       " 'https://www.domain.com.au/2-1079-high-street-reservoir-vic-3073-16068810',\n",
       " 'https://www.domain.com.au/27-hayes-drive-beechworth-vic-3747-16064670',\n",
       " 'https://www.domain.com.au/2-26-canterbury-road-blackburn-south-vic-3130-16067817',\n",
       " 'https://www.domain.com.au/2-01-15-collins-street-melbourne-vic-3000-15226362',\n",
       " 'https://www.domain.com.au/912-87-franklin-street-melbourne-vic-3000-16057832',\n",
       " 'https://www.domain.com.au/23-normdale-road-bentleigh-east-vic-3165-16051319',\n",
       " 'https://www.domain.com.au/20-marija-crescent-berwick-vic-3806-13369590',\n",
       " 'https://www.domain.com.au/41-glencairn-avenue-brighton-east-vic-3187-16031169',\n",
       " 'https://www.domain.com.au/120-albert-street-preston-vic-3072-16045605',\n",
       " 'https://www.domain.com.au/73-cala-street-west-footscray-vic-3012-16014124',\n",
       " 'https://www.domain.com.au/210-79-81-asling-street-brighton-vic-3186-16060948',\n",
       " 'https://www.domain.com.au/32-drover-avenue-manor-lakes-vic-3024-15730277',\n",
       " 'https://www.domain.com.au/520-488-swanston-street-carlton-vic-3053-15825137',\n",
       " 'https://www.domain.com.au/906-70-dorcas-street-southbank-vic-3006-16010058',\n",
       " 'https://www.domain.com.au/5-15-leigh-road-croydon-vic-3136-16050523',\n",
       " 'https://www.domain.com.au/887-fourteenth-street-mildura-vic-3500-16054012',\n",
       " 'https://www.domain.com.au/42-fernhurst-avenue-derrimut-vic-3026-16000113',\n",
       " 'https://www.domain.com.au/35-sussex-street-yarraville-vic-3013-16032465',\n",
       " 'https://www.domain.com.au/710-67-galada-avenue-parkville-vic-3052-16046651',\n",
       " 'https://www.domain.com.au/13-gloucester-way-melton-west-vic-3337-16050779',\n",
       " 'https://www.domain.com.au/6-1-gordon-st-tullamarine-vic-3043-16007738',\n",
       " 'https://www.domain.com.au/10-156a-napier-st-essendon-vic-3040-15990313',\n",
       " 'https://www.domain.com.au/3-44-milton-street-elwood-vic-3184-16068391',\n",
       " 'https://www.domain.com.au/213-33-cliveden-close-east-melbourne-vic-3002-15970802',\n",
       " 'https://www.domain.com.au/11-515-sydney-road-brunswick-vic-3056-13213750',\n",
       " 'https://www.domain.com.au/66-kay-street-carlton-vic-3053-16013125',\n",
       " 'https://www.domain.com.au/6-110-wellington-street-st-kilda-vic-3182-15747999',\n",
       " 'https://www.domain.com.au/9-caddy-court-reservoir-vic-3073-16063442',\n",
       " 'https://www.domain.com.au/308-8-montrose-street-hawthorn-east-vic-3123-16039853',\n",
       " 'https://www.domain.com.au/5-ruby-road-cobblebank-vic-3338-14404461',\n",
       " 'https://www.domain.com.au/30-armadale-drive-narre-warren-vic-3805-16062329',\n",
       " 'https://www.domain.com.au/30b-mckittrick-road-bentleigh-vic-3204-16060245',\n",
       " 'https://www.domain.com.au/17-perivale-crescent-wyndham-vale-vic-3024-16009465',\n",
       " 'https://www.domain.com.au/1-227-mcintyre-road-sunshine-north-vic-3020-15980229',\n",
       " 'https://www.domain.com.au/9-84-latrobe-street-mentone-vic-3194-16029501',\n",
       " 'https://www.domain.com.au/5-76-williams-road-prahran-vic-3181-15973890',\n",
       " 'https://www.domain.com.au/3-18-ellesmere-road-windsor-vic-3181-16038653',\n",
       " 'https://www.domain.com.au/1612-560-lonsdale-street-melbourne-vic-3000-15998709',\n",
       " 'https://www.domain.com.au/311-exhibition-st-melbourne-vic-3000-10919110',\n",
       " 'https://www.domain.com.au/12-regent-parade-cheltenham-vic-3192-16068746',\n",
       " 'https://www.domain.com.au/11-rumler-court-ballarat-north-vic-3350-16042626',\n",
       " 'https://www.domain.com.au/25-haig-street-mernda-vic-3754-14866362',\n",
       " 'https://www.domain.com.au/2-23-25-steet-street-footscray-vic-3011-16019022',\n",
       " 'https://www.domain.com.au/2810-7-riverside-quay-southbank-vic-3006-14489003',\n",
       " 'https://www.domain.com.au/20-millicent-parade-officer-vic-3809-16065043',\n",
       " 'https://www.domain.com.au/36-swan-street-keilor-park-vic-3042-16035689',\n",
       " 'https://www.domain.com.au/8-41-the-avenue-balaclava-vic-3183-16042123',\n",
       " 'https://www.domain.com.au/19-paso-grove-clyde-north-vic-3978-16045601',\n",
       " 'https://www.domain.com.au/2-16-lyon-street-essendon-vic-3040-16065350',\n",
       " 'https://www.domain.com.au/8-rowan-avenue-brooklyn-vic-3012-16069369',\n",
       " 'https://www.domain.com.au/316-445-royal-parade-parkville-vic-3052-16043834',\n",
       " 'https://www.domain.com.au/1-10-hermione-terrace-epping-vic-3076-16023998',\n",
       " 'https://www.domain.com.au/5-8-devorgilla-ave-toorak-vic-3142-16069740',\n",
       " 'https://www.domain.com.au/88-jenola-parade-wantirna-south-vic-3152-16044215',\n",
       " 'https://www.domain.com.au/4-40a-antibes-street-parkdale-vic-3195-16053981',\n",
       " 'https://www.domain.com.au/1108-58-jeffcott-street-west-melbourne-vic-3003-16062198',\n",
       " 'https://www.domain.com.au/31a-dennis-street-northcote-vic-3070-16031353',\n",
       " 'https://www.domain.com.au/12-buchan-green-pakenham-vic-3810-16053969',\n",
       " 'https://www.domain.com.au/560-victoria-parade-east-melbourne-vic-3002-15930944',\n",
       " 'https://www.domain.com.au/3-46-seymour-road-elsternwick-vic-3185-9737471',\n",
       " 'https://www.domain.com.au/7-wentworth-road-melton-south-vic-3338-16064683',\n",
       " 'https://www.domain.com.au/1-10-walker-street-brunswick-west-vic-3055-15960740',\n",
       " 'https://www.domain.com.au/3-33-shaftsbury-st-brunswick-vic-3056-14813886',\n",
       " 'https://www.domain.com.au/103-2-morton-avenue-carnegie-vic-3163-16061528',\n",
       " 'https://www.domain.com.au/24a-haughton-road-oakleigh-vic-3166-14582562',\n",
       " 'https://www.domain.com.au/9-lyndon-street-lalor-vic-3075-13460433',\n",
       " 'https://www.domain.com.au/5-85-whitehorse-road-blackburn-vic-3130-16054641',\n",
       " 'https://www.domain.com.au/89a-revell-street-blairgowrie-vic-3942-15297789',\n",
       " 'https://www.domain.com.au/84-tarneit-street-werribee-vic-3030-16018444',\n",
       " 'https://www.domain.com.au/7-14-16-broughton-road-surrey-hills-vic-3127-15963042',\n",
       " 'https://www.domain.com.au/10-betchworth-close-caroline-springs-vic-3023-16061967',\n",
       " 'https://www.domain.com.au/227-pascoe-vale-rd-essendon-vic-3040-12051807',\n",
       " 'https://www.domain.com.au/7-49-patterson-street-middle-park-vic-3206-15989597',\n",
       " 'https://www.domain.com.au/10-finnegan-way-officer-vic-3809-16051425',\n",
       " 'https://www.domain.com.au/36-murray-anderson-road-rosebud-vic-3939-16063290',\n",
       " 'https://www.domain.com.au/211-800-sydney-road-brunswick-vic-3056-16056009',\n",
       " 'https://www.domain.com.au/168-bellair-street-kensington-vic-3031-16036739',\n",
       " 'https://www.domain.com.au/303-263-franklin-street-melbourne-vic-3000-16060208',\n",
       " 'https://www.domain.com.au/60-dunfermline-avenue-greenvale-vic-3059-16043247',\n",
       " 'https://www.domain.com.au/21-131-riversdale-road-hawthorn-vic-3122-16065362',\n",
       " 'https://www.domain.com.au/87-were-street-brighton-vic-3186-15895978',\n",
       " 'https://www.domain.com.au/g07-59-droop-street-footscray-vic-3011-15574609',\n",
       " 'https://www.domain.com.au/29-upton-street-altona-vic-3018-16062503',\n",
       " 'https://www.domain.com.au/1-julie-street-bundoora-vic-3083-16035428',\n",
       " 'https://www.domain.com.au/58-victoria-street-rippleside-vic-3215-16068612',\n",
       " 'https://www.domain.com.au/70-auburn-parade-hawthorn-east-vic-3123-15945197',\n",
       " 'https://www.domain.com.au/48-joffre-street-noble-park-vic-3174-16038261',\n",
       " 'https://www.domain.com.au/17-antionette-drive-bonshaw-vic-3352-16018360',\n",
       " 'https://www.domain.com.au/1-6-bowden-street-horsham-vic-3400-16056638',\n",
       " 'https://www.domain.com.au/56-duke-street-windsor-vic-3181-16028542',\n",
       " 'https://www.domain.com.au/609-55-jeffcott-street-west-melbourne-vic-3003-16070410',\n",
       " 'https://www.domain.com.au/14-2-6-docker-street-richmond-vic-3121-12727119',\n",
       " 'https://www.domain.com.au/4-21-23-welfare-street-portarlington-vic-3223-15986738',\n",
       " 'https://www.domain.com.au/4901-560-lonsdale-street-melbourne-vic-3000-16064475',\n",
       " 'https://www.domain.com.au/33-rigel-road-lara-vic-3212-16047774',\n",
       " 'https://www.domain.com.au/78-sasses-avenue-bayswater-vic-3153-16051635',\n",
       " 'https://www.domain.com.au/68-dawley-circuit-werribee-vic-3030-16064062',\n",
       " 'https://www.domain.com.au/29-godfrey-avenue-st-kilda-east-vic-3183-15209891',\n",
       " 'https://www.domain.com.au/15-53-bishop-street-box-hill-vic-3128-16069095',\n",
       " 'https://www.domain.com.au/16-1-kooyong-road-armadale-vic-3143-15913121',\n",
       " 'https://www.domain.com.au/5-7-highview-court-pakenham-vic-3810-16063985',\n",
       " 'https://www.domain.com.au/12-17-moore-street-moonee-ponds-vic-3039-16000309',\n",
       " 'https://www.domain.com.au/2209-500-elizabeth-street-melbourne-vic-3000-16036247',\n",
       " 'https://www.domain.com.au/14-44-kororoit-creek-road-williamstown-north-vic-3016-15985799',\n",
       " 'https://www.domain.com.au/88-mt-pleasant-rd-belmont-vic-3216-16023960',\n",
       " 'https://www.domain.com.au/16-37-robinson-rd-hawthorn-vic-3122-16067583',\n",
       " 'https://www.domain.com.au/6-childs-place-roxburgh-park-vic-3064-16028808',\n",
       " 'https://www.domain.com.au/3-9-nicholas-street-lilydale-vic-3140-16029420',\n",
       " 'https://www.domain.com.au/8-perilla-court-corio-vic-3214-16067811',\n",
       " 'https://www.domain.com.au/2-westcott-parade-rockbank-vic-3335-16069514',\n",
       " 'https://www.domain.com.au/7-56-kooyong-road-caulfield-north-vic-3161-16054643',\n",
       " 'https://www.domain.com.au/23a-bruce-street-toorak-vic-3142-16012345',\n",
       " 'https://www.domain.com.au/51-grey-street-east-geelong-vic-3219-16045239',\n",
       " 'https://www.domain.com.au/26-mount-vista-close-new-gisborne-vic-3438-16059763',\n",
       " 'https://www.domain.com.au/g10-3-5-st-kilda-road-st-kilda-vic-3182-16055983',\n",
       " 'https://www.domain.com.au/41a-sydney-street-kilmore-vic-3764-16044723',\n",
       " 'https://www.domain.com.au/39-belmont-avenue-upwey-vic-3158-16061627',\n",
       " 'https://www.domain.com.au/206-455-graham-street-port-melbourne-vic-3207-15934399',\n",
       " 'https://www.domain.com.au/2-37-stockdale-avenue-clayton-vic-3168-14725614',\n",
       " 'https://www.domain.com.au/2-67-patterson-rd-bentleigh-vic-3204-14618216',\n",
       " 'https://www.domain.com.au/21-bermuda-drive-blackburn-south-vic-3130-14051028',\n",
       " 'https://www.domain.com.au/99-capital-avenue-glen-waverley-vic-3150-16059921',\n",
       " 'https://www.domain.com.au/1-9-hotham-street-hughesdale-vic-3166-15973984',\n",
       " 'https://www.domain.com.au/311-dandenong-road-prahran-east-vic-3181-14852743',\n",
       " 'https://www.domain.com.au/7-frankel-road-kalkallo-vic-3064-15218603',\n",
       " 'https://www.domain.com.au/26-malmsbury-street-kew-vic-3101-16051486',\n",
       " 'https://www.domain.com.au/7-101-lucerne-crescent-alphington-vic-3078-16026650',\n",
       " 'https://www.domain.com.au/5-alimar-court-brighton-vic-3186-15910332',\n",
       " 'https://www.domain.com.au/60-heathcote-grove-officer-vic-3809-16054111',\n",
       " 'https://www.domain.com.au/119-421-433-high-street-northcote-vic-3070-16010359',\n",
       " 'https://www.domain.com.au/7-bamburgh-street-werribee-vic-3030-16062136',\n",
       " 'https://www.domain.com.au/808-600-doncaster-road-doncaster-vic-3108-16025939',\n",
       " 'https://www.domain.com.au/4-swan-street-werribee-vic-3030-16058263',\n",
       " 'https://www.domain.com.au/113-436-burke-road-camberwell-vic-3124-16069716',\n",
       " 'https://www.domain.com.au/1-2-4-rosaline-avenue-mount-waverley-vic-3149-16039024',\n",
       " 'https://www.domain.com.au/1-98-100-chute-street-mordialloc-vic-3195-16053495',\n",
       " 'https://www.domain.com.au/2-11-regent-street-mount-waverley-vic-3149-15972151',\n",
       " 'https://www.domain.com.au/3-valewood-drive-kealba-vic-3021-16065053',\n",
       " 'https://www.domain.com.au/705-89-gladstone-street-south-melbourne-vic-3205-16058273',\n",
       " 'https://www.domain.com.au/188-williams-road-toorak-vic-3142-16006684',\n",
       " 'https://www.domain.com.au/1-18-johnson-street-capel-sound-vic-3940-16039887',\n",
       " 'https://www.domain.com.au/403-1-olive-york-way-brunswick-west-vic-3055-15420143',\n",
       " 'https://www.domain.com.au/316-150-kerr-street-fitzroy-vic-3065-16065765',\n",
       " 'https://www.domain.com.au/2-140-mt-alexander-road-travancore-vic-3032-15966877',\n",
       " 'https://www.domain.com.au/10-lydia-street-brunswick-vic-3056-16063117',\n",
       " 'https://www.domain.com.au/2-52-donegal-avenue-traralgon-vic-3844-16056670',\n",
       " 'https://www.domain.com.au/1-20-hubert-avenue-glenroy-vic-3046-16061495',\n",
       " 'https://www.domain.com.au/3-2-eileen-street-mildura-vic-3500-16027679',\n",
       " 'https://www.domain.com.au/405-20-queen-street-blackburn-vic-3130-12191790',\n",
       " 'https://www.domain.com.au/302-1-cook-street-hawthorn-vic-3122-16067480',\n",
       " 'https://www.domain.com.au/4d-longwarry-road-drouin-vic-3818-16053530',\n",
       " 'https://www.domain.com.au/329-vickers-street-sebastopol-vic-3356-16010675',\n",
       " 'https://www.domain.com.au/1-7-9-towerhill-road-frankston-vic-3199-15890255',\n",
       " 'https://www.domain.com.au/15-bond-avenue-blackburn-south-vic-3130-16068036',\n",
       " 'https://www.domain.com.au/3813-70-southbank-bvd-southbank-vic-3006-12754115',\n",
       " 'https://www.domain.com.au/64-kansas-avenue-bell-post-hill-vic-3215-16063699',\n",
       " 'https://www.domain.com.au/1-27-young-street-glen-iris-vic-3146-16067111',\n",
       " 'https://www.domain.com.au/2-98-leamington-street-reservoir-vic-3073-16024012',\n",
       " 'https://www.domain.com.au/540a-drummond-street-carlton-vic-3053-15907793',\n",
       " 'https://www.domain.com.au/120-dean-street-moonee-ponds-vic-3039-16042159',\n",
       " 'https://www.domain.com.au/42-174-peel-street-windsor-vic-3181-12744806',\n",
       " 'https://www.domain.com.au/31-ailsa-street-back-altona-meadows-vic-3028-15244434',\n",
       " 'https://www.domain.com.au/102-428-tooronga-road-hawthorn-east-vic-3123-15919861',\n",
       " 'https://www.domain.com.au/1-180-hilton-street-glenroy-vic-3046-16069905',\n",
       " 'https://www.domain.com.au/11-spruce-drive-rowville-vic-3178-16058353',\n",
       " 'https://www.domain.com.au/1-648-bell-street-pascoe-vale-south-vic-3044-16029084',\n",
       " 'https://www.domain.com.au/2-37-bourke-crescent-hoppers-crossing-vic-3029-16070241',\n",
       " 'https://www.domain.com.au/36a-thomasina-street-bentleigh-east-vic-3165-16031852',\n",
       " 'https://www.domain.com.au/44-grassbird-drive-point-cook-vic-3030-15447306',\n",
       " 'https://www.domain.com.au/11-obrien-drive-alfredton-vic-3350-16036684',\n",
       " 'https://www.domain.com.au/43-willow-avenue-rowville-vic-3178-16070954',\n",
       " 'https://www.domain.com.au/3-12-thea-avenue-balwyn-north-vic-3104-16062335',\n",
       " 'https://www.domain.com.au/68-princes-street-carlton-north-vic-3054-15972191',\n",
       " 'https://www.domain.com.au/4-vista-drive-melton-vic-3337-15221131',\n",
       " 'https://www.domain.com.au/25-vel-street-deanside-vic-3336-16027632',\n",
       " 'https://www.domain.com.au/77-rowes-lane-wallan-vic-3756-16030131',\n",
       " 'https://www.domain.com.au/3-5-wimbledon-avenue-elwood-vic-3184-16030345',\n",
       " 'https://www.domain.com.au/23-lyell-street-gisborne-vic-3437-16048323',\n",
       " 'https://www.domain.com.au/11-dianella-walkway-brunswick-east-vic-3057-16065146',\n",
       " 'https://www.domain.com.au/7-whistler-circuit-kalkallo-vic-3064-15368364',\n",
       " 'https://www.domain.com.au/3-75-77-darnley-street-braybrook-vic-3019-15945513',\n",
       " 'https://www.domain.com.au/77-john-liston-drive-newport-vic-3015-15854016',\n",
       " 'https://www.domain.com.au/2-184-mason-street-newport-vic-3015-16063614',\n",
       " 'https://www.domain.com.au/1-peppermint-court-altona-meadows-vic-3028-16038884',\n",
       " 'https://www.domain.com.au/1-584-morwell-avenue-bundoora-vic-3083-16059210',\n",
       " 'https://www.domain.com.au/35-eton-street-wendouree-vic-3355-16060481',\n",
       " 'https://www.domain.com.au/3817-228-la-trobe-street-melbourne-vic-3000-15368211',\n",
       " 'https://www.domain.com.au/3-prestige-drive-kalkallo-vic-3064-16059802',\n",
       " 'https://www.domain.com.au/2-2-6-docker-st-richmond-vic-3121-16043362',\n",
       " 'https://www.domain.com.au/1-46-koonawarra-street-clayton-vic-3168-11925681',\n",
       " 'https://www.domain.com.au/yarrawonga-vic-3730-15172602',\n",
       " 'https://www.domain.com.au/70-183-city-road-southbank-vic-3006-16053628',\n",
       " 'https://www.domain.com.au/65-francis-street-yarraville-vic-3013-16065715',\n",
       " 'https://www.domain.com.au/3-33-apex-avenue-belmont-vic-3216-15990046',\n",
       " 'https://www.domain.com.au/503-drummond-street-south-redan-vic-3350-16040716',\n",
       " 'https://www.domain.com.au/9-derby-street-northcote-vic-3070-15994063',\n",
       " 'https://www.domain.com.au/1-clyde-court-echuca-vic-3564-16071069',\n",
       " 'https://www.domain.com.au/12-sussex-court-tarneit-vic-3029-15513398',\n",
       " 'https://www.domain.com.au/1-grindall-way-point-cook-vic-3030-16045884',\n",
       " 'https://www.domain.com.au/1015-6-leicester-street-carlton-vic-3053-16050002',\n",
       " 'https://www.domain.com.au/103-39-park-street-south-melbourne-vic-3205-15691749',\n",
       " 'https://www.domain.com.au/516-480-riversdale-road-hawthorn-east-vic-3123-16067030',\n",
       " 'https://www.domain.com.au/17b-lisa-court-mildura-vic-3500-16041478',\n",
       " 'https://www.domain.com.au/161-lee-street-carlton-north-vic-3054-16049063',\n",
       " 'https://www.domain.com.au/1-13-peverill-street-deepdene-vic-3103-16051723',\n",
       " 'https://www.domain.com.au/54-marriage-road-brighton-east-vic-3187-16066345',\n",
       " 'https://www.domain.com.au/3-16-dooley-street-north-bendigo-vic-3550-16008332',\n",
       " 'https://www.domain.com.au/58-station-street-burwood-vic-3125-10635608',\n",
       " 'https://www.domain.com.au/1-34-empire-street-footscray-vic-3011-15995584',\n",
       " 'https://www.domain.com.au/2-8-lorensen-avenue-coburg-north-vic-3058-16031724',\n",
       " 'https://www.domain.com.au/12-mcmahons-road-coburg-north-vic-3058-16031841',\n",
       " 'https://www.domain.com.au/4-273-mansfield-street-thornbury-vic-3071-15945072',\n",
       " 'https://www.domain.com.au/10-8-monteith-crescent-endeavour-hills-vic-3802-10756495',\n",
       " 'https://www.domain.com.au/21-greenwood-drive-bundoora-vic-3083-15018147',\n",
       " 'https://www.domain.com.au/5-265-clayton-road-clayton-vic-3168-16059981',\n",
       " 'https://www.domain.com.au/20-41-43-leinster-grove-northcote-vic-3070-15934146',\n",
       " 'https://www.domain.com.au/304-cobden-street-mount-pleasant-vic-3350-16065180',\n",
       " ...}"
      ]
     },
     "execution_count": 37,
     "metadata": {},
     "output_type": "execute_result"
    }
   ],
   "source": [
    "domain_properties_info(domain_links)"
   ]
  },
  {
   "cell_type": "code",
   "execution_count": null,
   "metadata": {},
   "outputs": [],
   "source": []
  }
 ],
 "metadata": {
  "kernelspec": {
   "display_name": "Python 3.10.4 ('ADS')",
   "language": "python",
   "name": "python3"
  },
  "language_info": {
   "codemirror_mode": {
    "name": "ipython",
    "version": 3
   },
   "file_extension": ".py",
   "mimetype": "text/x-python",
   "name": "python",
   "nbconvert_exporter": "python",
   "pygments_lexer": "ipython3",
   "version": "3.10.4"
  },
  "orig_nbformat": 4,
  "vscode": {
   "interpreter": {
    "hash": "183132b451050d377b0440a650259019ec3f60ba0d844e8e7e0c0f7121c63925"
   }
  }
 },
 "nbformat": 4,
 "nbformat_minor": 2
}
