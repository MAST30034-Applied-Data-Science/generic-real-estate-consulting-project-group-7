{
 "cells": [
  {
   "cell_type": "markdown",
   "metadata": {},
   "source": [
    "## Download External Dataset"
   ]
  },
  {
   "cell_type": "markdown",
   "metadata": {},
   "source": [
    "### Table of Content\n",
    "- [Download External Dataset](#download-external-dataset)"
   ]
  },
  {
   "cell_type": "code",
   "execution_count": 1,
   "metadata": {},
   "outputs": [],
   "source": [
    "import pandas as pd\n",
    "import numpy as np\n",
    "from csv import writer\n",
    "import re\n",
    "import unicodedata\n",
    "import json\n",
    "import os\n",
    "\n",
    "from bs4 import BeautifulSoup\n",
    "import requests\n",
    "\n",
    "import geopandas as gpd\n",
    "import folium"
   ]
  },
  {
   "cell_type": "code",
   "execution_count": 2,
   "metadata": {},
   "outputs": [
    {
     "name": "stdout",
     "output_type": "stream",
     "text": [
      "22/09/16 17:07:21 WARN Utils: Your hostname, QuzihandeMacBook-Pro.local resolves to a loopback address: 127.0.0.1; using 192.168.96.115 instead (on interface en0)\n",
      "22/09/16 17:07:21 WARN Utils: Set SPARK_LOCAL_IP if you need to bind to another address\n"
     ]
    },
    {
     "name": "stderr",
     "output_type": "stream",
     "text": [
      "Setting default log level to \"WARN\".\n",
      "To adjust logging level use sc.setLogLevel(newLevel). For SparkR, use setLogLevel(newLevel).\n"
     ]
    },
    {
     "name": "stdout",
     "output_type": "stream",
     "text": [
      "22/09/16 17:07:21 WARN NativeCodeLoader: Unable to load native-hadoop library for your platform... using builtin-java classes where applicable\n"
     ]
    }
   ],
   "source": [
    "# import required libraries\n",
    "from pyspark.sql import SparkSession, functions as F\n",
    "from pyspark.sql.functions import col, isnan, when, count, mean, udf, split, unix_timestamp, from_unixtime, lower\n",
    "from pyspark.sql.types import StringType, IntegerType, FloatType\n",
    "\n",
    "# init SparkSession class\n",
    "spark = (\n",
    "    # if available consider use yarn master node\n",
    "    SparkSession.builder.master(\"local[*]\") \n",
    "    \n",
    "    # spark executor env configuration\n",
    "    .config(\"spark.executor.memory\", \"8g\")\n",
    "    .config(\"spark.driver.memory\", \"16g\")\n",
    "    .config(\"spark.executor.cores\", \"2\")\n",
    "    .config(\"spark.executor.instances\", \"6\")\n",
    "    .config(\"spark.sql.session.timeZone\", \"Etc/UTC\")\n",
    "    \n",
    "    # jvm memory configuration\n",
    "    .config(\"spark.memory.offHeap.enabled\", \"true\")\n",
    "    .config(\"spark.memory.offHeap.size\", \"8g\")\n",
    "    \n",
    "    # parquet file load configuration\n",
    "    .config(\"spark.sql.repl.eagerEval.enabled\", 'true')\n",
    "    .config(\"spark.sql.parquet.cacheMetadata\", 'true')\n",
    "    \n",
    "    # build the session\n",
    "    .appName(\"Pyspark Start Template\") # change app name here\n",
    "    .getOrCreate()\n",
    ")\n",
    "# change default log level\n",
    "spark.sparkContext.setLogLevel('ERROR')"
   ]
  },
  {
   "cell_type": "code",
   "execution_count": 3,
   "metadata": {},
   "outputs": [
    {
     "name": "stdout",
     "output_type": "stream",
     "text": [
      "Already Create Paths\n"
     ]
    }
   ],
   "source": [
    "OUTPUT_RELATIVE_PATH = \"../../data/\"\n",
    "\n",
    "def create_path():\n",
    "    \"\"\"\n",
    "    Create data path to save raw data\n",
    "    \"\"\"\n",
    "\n",
    "    path = [\"curated/external-data\",\"raw/external-data\"]\n",
    "    for target_dir in path:\n",
    "        if not os.path.exists(OUTPUT_RELATIVE_PATH + target_dir):\n",
    "            os.makedirs(OUTPUT_RELATIVE_PATH + target_dir)\n",
    "    print('Already Create Paths')\n",
    "\n",
    "create_path()"
   ]
  },
  {
   "cell_type": "code",
   "execution_count": 4,
   "metadata": {},
   "outputs": [],
   "source": [
    "# re to find lat and lon\n",
    "def point_to_coor(df):\n",
    "\n",
    "    df[\"lat\"] = float(re.findall(r\"\\d+\\.?\\d*\", df['geometry'][i])[0])\n",
    "    df[\"lon\"] = float(re.findall(r\"\\d+\\.?\\d*\", df['geometry'][i])[1])\n",
    "    return df\n"
   ]
  },
  {
   "cell_type": "code",
   "execution_count": 5,
   "metadata": {},
   "outputs": [],
   "source": [
    "output_dir = '../../data/raw/external-data/'"
   ]
  },
  {
   "cell_type": "markdown",
   "metadata": {},
   "source": [
    "### [property and elector count by postcode]('https://discover.data.vic.gov.au/dataset/victorian-electors-by-locality-postcode-and-electorates')"
   ]
  },
  {
   "cell_type": "code",
   "execution_count": 6,
   "metadata": {},
   "outputs": [],
   "source": [
    "LocalityFinder_postcode = pd.read_excel('../../data/raw/external-data/LocalityFinder_postcode.xlsx',\n",
    "                                        sheet_name= 'Place_Names_Electronic',\n",
    "                                        header=2)"
   ]
  },
  {
   "cell_type": "code",
   "execution_count": 7,
   "metadata": {},
   "outputs": [],
   "source": [
    "columns = ['Locality Name',          'Post_x000D_\\nCode',\n",
    "           'Property_x000D_\\nCount', 'Elector_x000D_\\nCount']\n",
    "           \n",
    "LocalityFinder_postcode = LocalityFinder_postcode[columns].rename(\n",
    "                                                                {'Post_x000D_\\nCode': 'postcode', \n",
    "                                                                'Locality Name':'suburb_name', \n",
    "                                                                'Property_x000D_\\nCount': 'property_count', \n",
    "                                                                'Elector_x000D_\\nCount':'elector_count'}, axis='columns')\n",
    "\n",
    "property_and_elector = LocalityFinder_postcode.groupby('postcode').sum()"
   ]
  },
  {
   "cell_type": "code",
   "execution_count": 8,
   "metadata": {},
   "outputs": [],
   "source": [
    "# output\n",
    "filename = 'property_and_elector_by_postcode.csv'\n",
    "output_dir_full = f'{output_dir}{filename}'\n",
    "property_and_elector.to_csv(output_dir_full)"
   ]
  },
  {
   "cell_type": "code",
   "execution_count": 11,
   "metadata": {},
   "outputs": [
    {
     "data": {
      "text/html": [
       "<div>\n",
       "<style scoped>\n",
       "    .dataframe tbody tr th:only-of-type {\n",
       "        vertical-align: middle;\n",
       "    }\n",
       "\n",
       "    .dataframe tbody tr th {\n",
       "        vertical-align: top;\n",
       "    }\n",
       "\n",
       "    .dataframe thead th {\n",
       "        text-align: right;\n",
       "    }\n",
       "</style>\n",
       "<table border=\"1\" class=\"dataframe\">\n",
       "  <thead>\n",
       "    <tr style=\"text-align: right;\">\n",
       "      <th></th>\n",
       "      <th>property_count</th>\n",
       "      <th>elector_count</th>\n",
       "    </tr>\n",
       "    <tr>\n",
       "      <th>postcode</th>\n",
       "      <th></th>\n",
       "      <th></th>\n",
       "    </tr>\n",
       "  </thead>\n",
       "  <tbody>\n",
       "    <tr>\n",
       "      <th>3000</th>\n",
       "      <td>15408</td>\n",
       "      <td>9168</td>\n",
       "    </tr>\n",
       "    <tr>\n",
       "      <th>3002</th>\n",
       "      <td>3308</td>\n",
       "      <td>3823</td>\n",
       "    </tr>\n",
       "    <tr>\n",
       "      <th>3003</th>\n",
       "      <td>3068</td>\n",
       "      <td>3265</td>\n",
       "    </tr>\n",
       "    <tr>\n",
       "      <th>3004</th>\n",
       "      <td>6439</td>\n",
       "      <td>6387</td>\n",
       "    </tr>\n",
       "    <tr>\n",
       "      <th>3006</th>\n",
       "      <td>10636</td>\n",
       "      <td>8631</td>\n",
       "    </tr>\n",
       "    <tr>\n",
       "      <th>...</th>\n",
       "      <td>...</td>\n",
       "      <td>...</td>\n",
       "    </tr>\n",
       "    <tr>\n",
       "      <th>3990</th>\n",
       "      <td>53</td>\n",
       "      <td>99</td>\n",
       "    </tr>\n",
       "    <tr>\n",
       "      <th>3991</th>\n",
       "      <td>199</td>\n",
       "      <td>336</td>\n",
       "    </tr>\n",
       "    <tr>\n",
       "      <th>3992</th>\n",
       "      <td>575</td>\n",
       "      <td>863</td>\n",
       "    </tr>\n",
       "    <tr>\n",
       "      <th>3995</th>\n",
       "      <td>5874</td>\n",
       "      <td>8574</td>\n",
       "    </tr>\n",
       "    <tr>\n",
       "      <th>3996</th>\n",
       "      <td>4069</td>\n",
       "      <td>4963</td>\n",
       "    </tr>\n",
       "  </tbody>\n",
       "</table>\n",
       "<p>694 rows × 2 columns</p>\n",
       "</div>"
      ],
      "text/plain": [
       "          property_count  elector_count\n",
       "postcode                               \n",
       "3000               15408           9168\n",
       "3002                3308           3823\n",
       "3003                3068           3265\n",
       "3004                6439           6387\n",
       "3006               10636           8631\n",
       "...                  ...            ...\n",
       "3990                  53             99\n",
       "3991                 199            336\n",
       "3992                 575            863\n",
       "3995                5874           8574\n",
       "3996                4069           4963\n",
       "\n",
       "[694 rows x 2 columns]"
      ]
     },
     "execution_count": 11,
     "metadata": {},
     "output_type": "execute_result"
    }
   ],
   "source": [
    "property_and_elector"
   ]
  },
  {
   "cell_type": "code",
   "execution_count": null,
   "metadata": {},
   "outputs": [],
   "source": []
  }
 ],
 "metadata": {
  "kernelspec": {
   "display_name": "ADS",
   "language": "python",
   "name": "ads"
  },
  "language_info": {
   "codemirror_mode": {
    "name": "ipython",
    "version": 3
   },
   "file_extension": ".py",
   "mimetype": "text/x-python",
   "name": "python",
   "nbconvert_exporter": "python",
   "pygments_lexer": "ipython3",
   "version": "3.10.4"
  },
  "orig_nbformat": 4,
  "vscode": {
   "interpreter": {
    "hash": "bbee7842ce8ba476870a006d5d5b68f11cea175afb0fea017b7f81beccf88892"
   }
  }
 },
 "nbformat": 4,
 "nbformat_minor": 2
}
