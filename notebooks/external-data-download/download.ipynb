{
 "cells": [
  {
   "cell_type": "code",
   "execution_count": 1,
   "metadata": {},
   "outputs": [],
   "source": [
    "import os\n",
    "os.chdir('../../scripts/external-data-download/')"
   ]
  },
  {
   "cell_type": "code",
   "execution_count": 2,
   "metadata": {},
   "outputs": [
    {
     "name": "stdout",
     "output_type": "stream",
     "text": [
      "Already Create Paths\n"
     ]
    }
   ],
   "source": [
    "OUTPUT_RELATIVE_PATH = \"../../data/\"\n",
    "def create_path():\n",
    "    \"\"\"\n",
    "        \n",
    "    \"\"\"\n",
    "    path = [\"external-raw-data\", \"curated/external-data\"]\n",
    "    for target_dir in path:\n",
    "        if not os.path.exists(OUTPUT_RELATIVE_PATH + target_dir):\n",
    "            os.makedirs(OUTPUT_RELATIVE_PATH + target_dir)\n",
    "    print('Already Create Paths')\n",
    "\n",
    "create_path()"
   ]
  },
  {
   "cell_type": "code",
   "execution_count": 3,
   "metadata": {},
   "outputs": [],
   "source": [
    "from download import download\n",
    "\n",
    "download.download_all()"
   ]
  }
 ],
 "metadata": {
  "kernelspec": {
   "display_name": "Python 3.10.4 ('ADS')",
   "language": "python",
   "name": "python3"
  },
  "language_info": {
   "codemirror_mode": {
    "name": "ipython",
    "version": 3
   },
   "file_extension": ".py",
   "mimetype": "text/x-python",
   "name": "python",
   "nbconvert_exporter": "python",
   "pygments_lexer": "ipython3",
   "version": "3.10.4"
  },
  "orig_nbformat": 4,
  "vscode": {
   "interpreter": {
    "hash": "183132b451050d377b0440a650259019ec3f60ba0d844e8e7e0c0f7121c63925"
   }
  }
 },
 "nbformat": 4,
 "nbformat_minor": 2
}
