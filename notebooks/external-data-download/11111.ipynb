{
 "cells": [
  {
   "cell_type": "code",
   "execution_count": 3,
   "metadata": {},
   "outputs": [],
   "source": [
    "from typing import Union\n",
    "from datetime import datetime\n",
    "import json\n",
    "import pickle\n",
    "import time\n",
    "\n",
    "import requests\n",
    "import pandas as pd\n",
    "import numpy as np\n",
    "from bs4 import BeautifulSoup\n",
    "import random\n",
    "\n",
    "user_agents = [\n",
    "    \"Mozilla/5.0 (X11; CrOS x86_64 12871.102.0) AppleWebKit/537.36 (KHTML, like Gecko) Chrome/81.0.4044.141 Safari/537.36\",\n",
    "    \"Mozilla/5.0 (Macintosh; Intel Mac OS X 10_9_2) AppleWebKit/537.75.14 (KHTML, like Gecko) Version/7.0.3 Safari/537.75.14\",\n",
    "    \"Mozilla/5.0 (compatible; MSIE 10.0; Windows NT 6.2; Win64; x64; Trident/6.0)\",\n",
    "    \"Opera/9.25 (Windows NT 5.1; U; en)\",\n",
    "    \"Mozilla/4.0 (compatible; MSIE 6.0; Windows NT 5.1; SV1; .NET CLR 1.1.4322; .NET CLR 2.0.50727)\",\n",
    "    \"Mozilla/5.0 (compatible; Konqueror/3.5; Linux) KHTML/3.5.5 (like Gecko) (Kubuntu)\",\n",
    "    \"Lynx/2.8.5rel.1 libwww-FM/2.14 SSL-MM/1.4.1 GNUTLS/1.2.9\",\n",
    "    \"Mozilla/5.0 (Macintosh; Intel Mac OS X 10_11_2) AppleWebKit/601.3.9 (KHTML, like Gecko) Version/9.0.2 Safari/601.3.9\",\n",
    "]\n",
    "\n",
    "home_url = {\n",
    "    \"domain\": \"https://www.domain.com.au\",\n",
    "    \"realestate\": \"https://www.realestate.com.au\",\n",
    "}"
   ]
  },
  {
   "cell_type": "code",
   "execution_count": 4,
   "metadata": {},
   "outputs": [],
   "source": [
    "def _domain_get_response(url: str) -> Union[dict, None]:\n",
    "    \"\"\"\n",
    "    Return data object from target url __NEXT_DATA__ section\n",
    "\n",
    "    Args:\n",
    "        postcode (int): victoria postcode\n",
    "        page (int): page number\n",
    "\n",
    "    Returns:\n",
    "        Union[dict, None]: data object\n",
    "    \"\"\"\n",
    "    \n",
    "    try:\n",
    "        response = requests.get(\n",
    "            url, headers={\"User-Agent\": random.choice(user_agents)}, timeout=5\n",
    "        )\n",
    "    except response.exceptions.Timeout:\n",
    "        return None\n",
    "\n",
    "    # parse http requests\n",
    "    bs_object = BeautifulSoup(response.text, \"html.parser\")\n",
    "\n",
    "    try:\n",
    "        data = json.loads(bs_object.find(\"script\", {\"id\": \"__NEXT_DATA__\"}).text)[\n",
    "            \"props\"\n",
    "        ][\"pageProps\"]\n",
    "        return data\n",
    "    except Exception:\n",
    "        return None"
   ]
  },
  {
   "cell_type": "code",
   "execution_count": 5,
   "metadata": {},
   "outputs": [
    {
     "ename": "TypeError",
     "evalue": "'NoneType' object is not subscriptable",
     "output_type": "error",
     "traceback": [
      "\u001b[0;31m---------------------------------------------------------------------------\u001b[0m",
      "\u001b[0;31mTypeError\u001b[0m                                 Traceback (most recent call last)",
      "\u001b[1;32m/Users/quzihanwu/Desktop/generic-real-estate-consulting-project-group-7/notebooks/external-data-download/11111.ipynb Cell 3\u001b[0m in \u001b[0;36m<cell line: 2>\u001b[0;34m()\u001b[0m\n\u001b[1;32m      <a href='vscode-notebook-cell:/Users/quzihanwu/Desktop/generic-real-estate-consulting-project-group-7/notebooks/external-data-download/11111.ipynb#X13sZmlsZQ%3D%3D?line=0'>1</a>\u001b[0m page_props \u001b[39m=\u001b[39m _domain_get_response(url)\n\u001b[0;32m----> <a href='vscode-notebook-cell:/Users/quzihanwu/Desktop/generic-real-estate-consulting-project-group-7/notebooks/external-data-download/11111.ipynb#X13sZmlsZQ%3D%3D?line=1'>2</a>\u001b[0m component_props \u001b[39m=\u001b[39m page_props[\u001b[39m\"\u001b[39;49m\u001b[39mcomponentProps\u001b[39;49m\u001b[39m\"\u001b[39;49m]\n",
      "\u001b[0;31mTypeError\u001b[0m: 'NoneType' object is not subscriptable"
     ]
    }
   ],
   "source": [
    "page_props = _domain_get_response(url)\n",
    "component_props = page_props[\"componentProps\"]"
   ]
  },
  {
   "cell_type": "code",
   "execution_count": null,
   "metadata": {},
   "outputs": [],
   "source": [
    "def _domain_nearby_schools(component_props: dict) -> list:\n",
    "    \"\"\"\n",
    "    Obtain school names based on given target property info page\n",
    "\n",
    "    Args:\n",
    "        componentProps (dict): webpage component description information\n",
    "\n",
    "    Returns:\n",
    "        list: list of nearby school names of a given property\n",
    "    \"\"\"\n",
    "    if \"schoolCatchment\" in component_props:\n",
    "        if \"schools\" in component_props[\"schoolCatchment\"]:\n",
    "            return list(\n",
    "                s[\"name\"] for s in component_props[\"schoolCatchment\"][\"schools\"]\n",
    "            )\n",
    "        else:\n",
    "            return list()"
   ]
  }
 ],
 "metadata": {
  "kernelspec": {
   "display_name": "Python 3.10.4 ('ADS')",
   "language": "python",
   "name": "python3"
  },
  "language_info": {
   "codemirror_mode": {
    "name": "ipython",
    "version": 3
   },
   "file_extension": ".py",
   "mimetype": "text/x-python",
   "name": "python",
   "nbconvert_exporter": "python",
   "pygments_lexer": "ipython3",
   "version": "3.10.4"
  },
  "orig_nbformat": 4,
  "vscode": {
   "interpreter": {
    "hash": "183132b451050d377b0440a650259019ec3f60ba0d844e8e7e0c0f7121c63925"
   }
  }
 },
 "nbformat": 4,
 "nbformat_minor": 2
}
