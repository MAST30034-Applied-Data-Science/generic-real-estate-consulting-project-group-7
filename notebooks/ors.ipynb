{
 "cells": [
  {
   "cell_type": "code",
   "execution_count": 11,
   "metadata": {},
   "outputs": [
    {
     "ename": "AttributeError",
     "evalue": "'dict' object has no attribute 'duration'",
     "output_type": "error",
     "traceback": [
      "\u001b[0;31m---------------------------------------------------------------------------\u001b[0m",
      "\u001b[0;31mAttributeError\u001b[0m                            Traceback (most recent call last)",
      "\u001b[1;32m/Users/quzihanwu/Desktop/generic-real-estate-consulting-project-group-7/notebooks/ors.ipynb Cell 1\u001b[0m in \u001b[0;36m<cell line: 14>\u001b[0;34m()\u001b[0m\n\u001b[1;32m     <a href='vscode-notebook-cell:/Users/quzihanwu/Desktop/generic-real-estate-consulting-project-group-7/notebooks/ors.ipynb#W0sZmlsZQ%3D%3D?line=9'>10</a>\u001b[0m route \u001b[39m=\u001b[39m client\u001b[39m.\u001b[39mdirections(coords, profile\u001b[39m=\u001b[39m\u001b[39m'\u001b[39m\u001b[39mdriving-car\u001b[39m\u001b[39m'\u001b[39m)\n\u001b[1;32m     <a href='vscode-notebook-cell:/Users/quzihanwu/Desktop/generic-real-estate-consulting-project-group-7/notebooks/ors.ipynb#W0sZmlsZQ%3D%3D?line=10'>11</a>\u001b[0m \u001b[39m# isochrones = client.isochrones(locations=coords[0], profile='driving-car', intervals=[600, 1200])\u001b[39;00m\n\u001b[1;32m     <a href='vscode-notebook-cell:/Users/quzihanwu/Desktop/generic-real-estate-consulting-project-group-7/notebooks/ors.ipynb#W0sZmlsZQ%3D%3D?line=11'>12</a>\u001b[0m \u001b[39m# matrix = client.matrix(locations=coords, profile='driving-car')\u001b[39;00m\n\u001b[0;32m---> <a href='vscode-notebook-cell:/Users/quzihanwu/Desktop/generic-real-estate-consulting-project-group-7/notebooks/ors.ipynb#W0sZmlsZQ%3D%3D?line=13'>14</a>\u001b[0m \u001b[39mprint\u001b[39m((route\u001b[39m.\u001b[39;49mduration, route\u001b[39m.\u001b[39mdistance, route\u001b[39m.\u001b[39mraw))\n",
      "\u001b[0;31mAttributeError\u001b[0m: 'dict' object has no attribute 'duration'"
     ]
    }
   ],
   "source": [
    "from routingpy import MapboxValhalla\n",
    "import openrouteservice\n",
    "from pprint import pprint\n",
    "\n",
    "\n",
    "# Some locations in Berlin\n",
    "coords = [[13.413706, 52.490202], [13.421838, 52.514105],\n",
    "          [13.453649, 52.507987], [13.401947, 52.543373]]\n",
    "client = openrouteservice.Client(key='5b3ce3597851110001cf62487134eb4caf4944e29142669d2da70f9b')\n",
    "route = client.directions(coords, profile='driving-car')\n",
    "decoded = convert.decode_polyline(geometry)\n",
    "# isochrones = client.isochrones(locations=coords[0], profile='driving-car', intervals=[600, 1200])\n",
    "# matrix = client.matrix(locations=coords, profile='driving-car')\n",
    "\n",
    "print((route.duration, route.distance, route.raw))\n",
    "# pprint((isochrones.raw, isochrones[0].geometry, isochrones[0].center, isochrones[0].interval))\n",
    "# pprint((matrix.durations, matrix.distances, matrix.raw))"
   ]
  },
  {
   "cell_type": "code",
   "execution_count": null,
   "metadata": {},
   "outputs": [],
   "source": []
  }
 ],
 "metadata": {
  "kernelspec": {
   "display_name": "ADS",
   "language": "python",
   "name": "ads"
  },
  "language_info": {
   "codemirror_mode": {
    "name": "ipython",
    "version": 3
   },
   "file_extension": ".py",
   "mimetype": "text/x-python",
   "name": "python",
   "nbconvert_exporter": "python",
   "pygments_lexer": "ipython3",
   "version": "3.10.4"
  },
  "orig_nbformat": 4
 },
 "nbformat": 4,
 "nbformat_minor": 2
}
