{
 "cells": [
  {
   "cell_type": "code",
   "execution_count": 1,
   "metadata": {},
   "outputs": [],
   "source": [
    "import os\n",
    "os.chdir('../scripts')\n",
    "\n",
    "from scrape_domain import *\n",
    "from constants import *\n",
    "from utils import *"
   ]
  },
  {
   "cell_type": "code",
   "execution_count": 2,
   "metadata": {},
   "outputs": [],
   "source": [
    "#find pattern for week/annual rent\n",
    "year_pattern = r\"p.a.|annually|annual\"\n",
    "week_pattern = r\"pw|week\"\n",
    "\n",
    "regex_week_pattern = re.compile(week_pattern)\n",
    "regex_year_pattern = re.compile(year_pattern)\n",
    "\n",
    "\n",
    "def remove_chars(s):\n",
    "    return re.sub('[^0-9.]+', '', s) \n",
    "\n",
    "#flag type of rent with 1(weekly), 0(annul), None(unknown)\n",
    "def type_flag(s):\n",
    "    # week rent\n",
    "    if (len(regex_week_pattern.findall(s.lower())) != 0 )& (len(regex_year_pattern.findall(s.lower())) == 0) :\n",
    "        return 1\n",
    "    # year rent\n",
    "    elif (len(regex_week_pattern.findall(s.lower())) == 0) & (len(regex_year_pattern.findall(s.lower())) != 0) :\n",
    "        return 0\n",
    "    # not speficied\n",
    "    else:\n",
    "        return None\n",
    "\n",
    "#convert rent to weekly rent\n",
    "#if not sure rent type, it will be considered as weekly rent\n",
    "def convert_rent(s):\n",
    "    # week rent\n",
    "    if (len(regex_week_pattern.findall(s.lower())) != 0 )& (len(regex_year_pattern.findall(s.lower())) == 0) :\n",
    "        return remove_chars(s)\n",
    "    # year rent\n",
    "    elif (len(regex_week_pattern.findall(s.lower())) == 0) & (len(regex_year_pattern.findall(s.lower())) != 0) :\n",
    "        return float(remove_chars(s))//12\n",
    "    # not speficied\n",
    "    else:\n",
    "        return remove_chars(s)"
   ]
  },
  {
   "cell_type": "code",
   "execution_count": 3,
   "metadata": {},
   "outputs": [],
   "source": [
    "\n",
    "#input url return dict\n",
    "def input_url_output_df(url_list):\n",
    "    basic_feature_list = []\n",
    "    for url in url_list  :\n",
    "        \n",
    "        link = url\n",
    "        \n",
    "        # opening urls\n",
    "        bs_object = BeautifulSoup(requests.get(link, headers=headers).text, \"html.parser\")\n",
    "\n",
    "        #recent rented\n",
    "        recent_rented_number = bs_object.find(\"div\", {\"class\": \"css-12uo2x5\"})\n",
    "\n",
    "        #neighbourhood family vs single ratio\n",
    "        neighb_family = bs_object.find(\"span\", {\"class\": \"css-1ruej2h\"})\n",
    "        neighb_single = bs_object.find(\"span\", {\"class\": \"css-1ymya4c\"})\n",
    "\n",
    "\n",
    "        #street owner vs renter\n",
    "        street_renter = bs_object.find(\"span\", {\"class\": \"css-1ejmyle\"})\n",
    "        street_owner = bs_object.find(\"span\", {\"class\": \"css-1jhlvvv\"})\n",
    "\n",
    "\n",
    "        #long term resident percentage\n",
    "        long_term_resi= bs_object.find(\"div\", {\"class\": \"css-ibsnk8\"})\n",
    "\n",
    "        # extracting property price\n",
    "        property_price = bs_object.find(\"div\", {\"data-testid\": \"listing-details__summary-title\"})\n",
    "\n",
    "\n",
    "\n",
    "        # dictionary to store temporary data\n",
    "        basic_feature_dict = {}\n",
    "        pattern1 = re.compile(r'>(.+)<.')\n",
    "\n",
    "        # putting 'none' if recent_rented number is missing   \n",
    "        if recent_rented_number is None:\n",
    "            basic_feature_dict['recent_rented_number'] = None\n",
    "\n",
    "        else:\n",
    "            basic_feature_dict['recent_rented_number'] = pattern1.findall(str(recent_rented_number))[0]\n",
    "\n",
    "\n",
    "\n",
    "        # putting 'none' if longterm resident number is missing   \n",
    "        if long_term_resi is None:\n",
    "            basic_feature_dict['long_term_resi_percentage'] = None\n",
    "\n",
    "        else:\n",
    "            basic_feature_dict['long_term_resi_percentage']  = float(str(long_term_resi.text[:-1]))/100\n",
    "\n",
    "\n",
    "\n",
    "        # putting 'none' if neighbourhood family/single number is missing   \n",
    "        if (neighb_family is None) |(neighb_single is None) :\n",
    "            basic_feature_dict['neighb_family_single_ratio'] = None\n",
    "\n",
    "        else:\n",
    "            #to avoid zero division\n",
    "            add_on = 0.000001\n",
    "            basic_feature_dict['neighb_family_single_ratio'] = float(str(neighb_family.text[:-1]))/(float(str(neighb_single.text[:-1]))+add_on)\n",
    "\n",
    "\n",
    "\n",
    "\n",
    "        # putting 'none' if street owener/renter number is missing   \n",
    "        if (street_owner is None) | (street_renter is None):\n",
    "            basic_feature_dict['street_renter_owner_ratio'] = None\n",
    "\n",
    "        else:\n",
    "            #to avoid zero division\n",
    "            add_on = 0.000001\n",
    "            basic_feature_dict['street_renter_owner_ratio'] = float(str(street_renter.text[:-1]))/(float(str(street_owner.text[:-1]))+add_on)\n",
    "\n",
    "\n",
    "\n",
    "        # putting 'none' if price is missing    \n",
    "        if property_price is None:\n",
    "            basic_feature_dict['price'] = None\n",
    "\n",
    "        else:\n",
    "            basic_feature_dict['price'] = pattern1.findall(str(property_price))[0]\n",
    "            \n",
    "         # appending all the data into a list\n",
    "        basic_feature_list.append(basic_feature_dict)\n",
    "        \n",
    "    return basic_feature_list\n",
    "        \n",
    "        "
   ]
  },
  {
   "cell_type": "code",
   "execution_count": 4,
   "metadata": {},
   "outputs": [],
   "source": [
    "def list_to_df(basic_feature_list):\n",
    "    \n",
    "    recent_rented_number_list = []\n",
    "    street_renter_owner_ratio_list = []\n",
    "    neighb_family_single_ratio_list = []\n",
    "    long_term_resi_percentage_list =[]\n",
    "    price_list = []\n",
    "\n",
    "    for row in basic_feature_list:\n",
    "        # checking if the row cointains 'price'         \n",
    "        if 'price' in row:\n",
    "            price_list.append(row['price'])\n",
    "        else:\n",
    "            price_list.append(None)        \n",
    "\n",
    "        # checking if the row cointains 'recent_rented_number'            \n",
    "        if 'recent_rented_number' in row:\n",
    "            recent_rented_number_list.append(row['recent_rented_number'])\n",
    "        else:\n",
    "            recent_rented_number_list.append(None)\n",
    "\n",
    "\n",
    "        # checking if the row cointains 'long_term_resi_percentage'            \n",
    "        if 'long_term_resi_percentage' in row:\n",
    "            long_term_resi_percentage_list.append(row['long_term_resi_percentage'])\n",
    "        else:\n",
    "            long_term_resi_percentage_list.append(None)\n",
    "\n",
    "        # checking if the row cointains 'street_renter_owner_ratio'            \n",
    "        if 'street_renter_owner_ratio' in row:\n",
    "            street_renter_owner_ratio_list.append(row['street_renter_owner_ratio'])\n",
    "        else:\n",
    "            street_renter_owner_ratio_list.append(None)\n",
    "\n",
    "        # checking if the row cointains 'neighb_family_single_ratio'            \n",
    "        if 'neighb_family_single_ratio' in row:\n",
    "            neighb_family_single_ratio_list.append(row['neighb_family_single_ratio'])\n",
    "        else:\n",
    "            neighb_family_single_ratio.append(None)\n",
    "        \n",
    "        \n",
    "    house_dict = {}    \n",
    "    house_dict['Rent'] = price_list\n",
    "    house_dict['street_renter_owner_ratio'] = street_renter_owner_ratio_list \n",
    "    house_dict['neighb_family_single_ratio'] = neighb_family_single_ratio_list\n",
    "    house_dict['long_term_resi_percentage'] = long_term_resi_percentage_list\n",
    "    house_df = pd.DataFrame(house_dict)\n",
    "    \n",
    "    house_df['Converted_Rent'] = [convert_rent(i) for i in price_list]\n",
    "    house_df['Type'] = [type_flag(i) for i in price_list]\n",
    "    return house_df\n",
    "\n"
   ]
  },
  {
   "cell_type": "code",
   "execution_count": 5,
   "metadata": {},
   "outputs": [
    {
     "name": "stderr",
     "output_type": "stream",
     "text": [
      "0it [00:00, ?it/s]/5 [00:00<?, ?it/s]\n",
      " 20%|██        | 1/5 [00:00<00:01,  3.88it/s]"
     ]
    },
    {
     "name": "stdout",
     "output_type": "stream",
     "text": [
      "0\n"
     ]
    },
    {
     "name": "stderr",
     "output_type": "stream",
     "text": [
      "0it [00:00, ?it/s]\n",
      " 40%|████      | 2/5 [00:00<00:00,  4.25it/s]"
     ]
    },
    {
     "name": "stdout",
     "output_type": "stream",
     "text": [
      "0\n"
     ]
    },
    {
     "name": "stderr",
     "output_type": "stream",
     "text": [
      "0it [00:00, ?it/s]\n",
      " 60%|██████    | 3/5 [00:00<00:00,  4.26it/s]"
     ]
    },
    {
     "name": "stdout",
     "output_type": "stream",
     "text": [
      "0\n"
     ]
    },
    {
     "name": "stderr",
     "output_type": "stream",
     "text": [
      "100%|██████████| 1/1 [00:00<00:00,  4.31it/s]\n",
      " 80%|████████  | 4/5 [00:01<00:00,  2.60it/s]"
     ]
    },
    {
     "name": "stdout",
     "output_type": "stream",
     "text": [
      "2\n"
     ]
    },
    {
     "name": "stderr",
     "output_type": "stream",
     "text": [
      "100%|██████████| 1/1 [00:00<00:00,  2.35it/s]\n",
      "100%|██████████| 5/5 [00:02<00:00,  2.41it/s]"
     ]
    },
    {
     "name": "stdout",
     "output_type": "stream",
     "text": [
      "4\n"
     ]
    },
    {
     "name": "stderr",
     "output_type": "stream",
     "text": [
      "\n"
     ]
    }
   ],
   "source": [
    "vic_postcodes = constants.postcodes['VIC_sample']\n",
    "\n",
    "domain_links = set()\n",
    "\n",
    "for i in tqdm(range(len(vic_postcodes))):\n",
    "    current_links = domain_property_links(vic_postcodes[i])\n",
    "    domain_links = domain_links | current_links\n",
    "    \n",
    "    print(len(current_links))"
   ]
  },
  {
   "cell_type": "code",
   "execution_count": 6,
   "metadata": {},
   "outputs": [],
   "source": [
    "with open('2022-09-05.VIC.domain.pickle', 'wb') as file:\n",
    "    pickle.dump(domain_links, file , protocol=pickle.HIGHEST_PROTOCOL)"
   ]
  },
  {
   "cell_type": "code",
   "execution_count": 12,
   "metadata": {},
   "outputs": [
    {
     "data": {
      "text/plain": [
       "6"
      ]
     },
     "execution_count": 12,
     "metadata": {},
     "output_type": "execute_result"
    }
   ],
   "source": [
    "with open('2022-09-05.VIC.domain.pickle', 'rb') as file:\n",
    "    links = pickle.load(file)\n",
    "\n",
    "len(links)"
   ]
  },
  {
   "cell_type": "code",
   "execution_count": 13,
   "metadata": {},
   "outputs": [],
   "source": [
    "df = pd.DataFrame(links)\n",
    "df.to_csv(r'../data/links_sample.csv')"
   ]
  },
  {
   "cell_type": "code",
   "execution_count": 8,
   "metadata": {},
   "outputs": [],
   "source": [
    "test_links = links"
   ]
  },
  {
   "cell_type": "code",
   "execution_count": 9,
   "metadata": {},
   "outputs": [],
   "source": [
    "output_list = input_url_output_df(test_links)"
   ]
  },
  {
   "cell_type": "code",
   "execution_count": 10,
   "metadata": {},
   "outputs": [],
   "source": [
    "df = list_to_df(output_list)"
   ]
  },
  {
   "cell_type": "code",
   "execution_count": 11,
   "metadata": {},
   "outputs": [
    {
     "data": {
      "text/html": [
       "<div>\n",
       "<style scoped>\n",
       "    .dataframe tbody tr th:only-of-type {\n",
       "        vertical-align: middle;\n",
       "    }\n",
       "\n",
       "    .dataframe tbody tr th {\n",
       "        vertical-align: top;\n",
       "    }\n",
       "\n",
       "    .dataframe thead th {\n",
       "        text-align: right;\n",
       "    }\n",
       "</style>\n",
       "<table border=\"1\" class=\"dataframe\">\n",
       "  <thead>\n",
       "    <tr style=\"text-align: right;\">\n",
       "      <th></th>\n",
       "      <th>Rent</th>\n",
       "      <th>street_renter_owner_ratio</th>\n",
       "      <th>neighb_family_single_ratio</th>\n",
       "      <th>long_term_resi_percentage</th>\n",
       "      <th>Converted_Rent</th>\n",
       "      <th>Type</th>\n",
       "    </tr>\n",
       "  </thead>\n",
       "  <tbody>\n",
       "    <tr>\n",
       "      <th>0</th>\n",
       "      <td>600 p/w</td>\n",
       "      <td>0.538462</td>\n",
       "      <td>4.263158</td>\n",
       "      <td>0.52</td>\n",
       "      <td>600</td>\n",
       "      <td>NaN</td>\n",
       "    </tr>\n",
       "    <tr>\n",
       "      <th>1</th>\n",
       "      <td>$550 p/w</td>\n",
       "      <td>0.052632</td>\n",
       "      <td>4.263158</td>\n",
       "      <td>0.52</td>\n",
       "      <td>550</td>\n",
       "      <td>NaN</td>\n",
       "    </tr>\n",
       "    <tr>\n",
       "      <th>2</th>\n",
       "      <td>$565 per week</td>\n",
       "      <td>0.000000</td>\n",
       "      <td>4.263158</td>\n",
       "      <td>0.52</td>\n",
       "      <td>565</td>\n",
       "      <td>1.0</td>\n",
       "    </tr>\n",
       "    <tr>\n",
       "      <th>3</th>\n",
       "      <td>$310.00 per week</td>\n",
       "      <td>NaN</td>\n",
       "      <td>5.250000</td>\n",
       "      <td>0.59</td>\n",
       "      <td>310.00</td>\n",
       "      <td>1.0</td>\n",
       "    </tr>\n",
       "    <tr>\n",
       "      <th>4</th>\n",
       "      <td>$310 Per week</td>\n",
       "      <td>NaN</td>\n",
       "      <td>5.250000</td>\n",
       "      <td>0.59</td>\n",
       "      <td>310</td>\n",
       "      <td>1.0</td>\n",
       "    </tr>\n",
       "    <tr>\n",
       "      <th>5</th>\n",
       "      <td>$510.00 per week</td>\n",
       "      <td>0.111111</td>\n",
       "      <td>4.263158</td>\n",
       "      <td>0.52</td>\n",
       "      <td>510.00</td>\n",
       "      <td>1.0</td>\n",
       "    </tr>\n",
       "  </tbody>\n",
       "</table>\n",
       "</div>"
      ],
      "text/plain": [
       "               Rent  street_renter_owner_ratio  neighb_family_single_ratio  \\\n",
       "0           600 p/w                   0.538462                    4.263158   \n",
       "1          $550 p/w                   0.052632                    4.263158   \n",
       "2     $565 per week                   0.000000                    4.263158   \n",
       "3  $310.00 per week                        NaN                    5.250000   \n",
       "4     $310 Per week                        NaN                    5.250000   \n",
       "5  $510.00 per week                   0.111111                    4.263158   \n",
       "\n",
       "   long_term_resi_percentage Converted_Rent  Type  \n",
       "0                       0.52            600   NaN  \n",
       "1                       0.52            550   NaN  \n",
       "2                       0.52            565   1.0  \n",
       "3                       0.59         310.00   1.0  \n",
       "4                       0.59            310   1.0  \n",
       "5                       0.52         510.00   1.0  "
      ]
     },
     "execution_count": 11,
     "metadata": {},
     "output_type": "execute_result"
    }
   ],
   "source": [
    "df"
   ]
  },
  {
   "cell_type": "code",
   "execution_count": null,
   "metadata": {},
   "outputs": [],
   "source": []
  }
 ],
 "metadata": {
  "kernelspec": {
   "display_name": "Python 3.10.4 ('ADS')",
   "language": "python",
   "name": "python3"
  },
  "language_info": {
   "codemirror_mode": {
    "name": "ipython",
    "version": 3
   },
   "file_extension": ".py",
   "mimetype": "text/x-python",
   "name": "python",
   "nbconvert_exporter": "python",
   "pygments_lexer": "ipython3",
   "version": "3.10.4"
  },
  "orig_nbformat": 4,
  "vscode": {
   "interpreter": {
    "hash": "183132b451050d377b0440a650259019ec3f60ba0d844e8e7e0c0f7121c63925"
   }
  }
 },
 "nbformat": 4,
 "nbformat_minor": 2
}
