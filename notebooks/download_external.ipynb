{
 "cells": [
  {
   "cell_type": "code",
   "execution_count": null,
   "id": "708174b8",
   "metadata": {},
   "outputs": [],
   "source": [
    "from bs4 import BeautifulSoup\n",
    "import requests\n",
    "\n",
    "import unicodedata\n",
    "from csv import writer\n",
    "import re\n",
    "\n",
    "import pandas as pd\n",
    "import numpy as np\n",
    "\n",
    "import json\n",
    "from pyspark.sql import SparkSession\n",
    "import os\n",
    "import re \n",
    "\n",
    "#folium\n",
    "import geopandas as gpd\n",
    "import re\n",
    "import folium"
   ]
  },
  {
   "cell_type": "code",
   "execution_count": null,
   "id": "ab529a61",
   "metadata": {},
   "outputs": [],
   "source": [
    "def point_to_coor(df):\n",
    "\n",
    "    df[\"lat\"] = float(re.findall(r\"\\d+\\.?\\d*\", df['geometry'][i])[0])\n",
    "    df[\"lon\"] = float(re.findall(r\"\\d+\\.?\\d*\", df['geometry'][i])[1])\n",
    "    return df\n"
   ]
  },
  {
   "cell_type": "code",
   "execution_count": null,
   "id": "e7c25704",
   "metadata": {},
   "outputs": [],
   "source": [
    "\n",
    "output_dir = '../data/raw/'\n",
    "\n"
   ]
  },
  {
   "cell_type": "code",
   "execution_count": null,
   "id": "86c4c56d",
   "metadata": {},
   "outputs": [],
   "source": [
    "'''\n",
    "\n",
    "\n",
    "property and elector count by postcode\n",
    "\n",
    "\n",
    "'''\n",
    "\n",
    "#url: https://discover.data.vic.gov.au/dataset/victorian-electors-by-locality-postcode-and-electorates \n",
    "\n",
    "\n",
    "columns = ['Locality Name','Post_x000D_\\nCode','Property_x000D_\\nCount','Elector_x000D_\\nCount']\n",
    "\n",
    "LocalityFinder_postcode = pd.read_excel('../data/raw/LocalityFinder_postcode.xlsx',\n",
    "                                        sheet_name= 'Place_Names_Electronic',\n",
    "                                        header=2)\n",
    "\n",
    "LocalityFinder_postcode= LocalityFinder_postcode[columns].rename({'Post_x000D_\\nCode': 'postcode',\n",
    "                                                             'Locality Name':'suburb_name',\n",
    "                                                             'Property_x000D_\\nCount': 'property_count',\n",
    "                                                            'Elector_x000D_\\nCount':'elector_count'}, axis='columns')\n",
    "property_and_elector = LocalityFinder_postcode.groupby('postcode').sum()\n",
    "\n",
    "#output\n",
    "filename = 'property_and_elector_by_postcode.csv'\n",
    "output_dir_full = f'{output_dir}{filename}'\n",
    "property_and_elector.to_csv(output_dir_full)"
   ]
  },
  {
   "cell_type": "code",
   "execution_count": null,
   "id": "b08a4d9c",
   "metadata": {},
   "outputs": [],
   "source": []
  },
  {
   "cell_type": "code",
   "execution_count": null,
   "id": "04c585c8",
   "metadata": {},
   "outputs": [],
   "source": [
    "\"\"\"\n",
    "Download PTV zip file\n",
    "1. open url: https://discover.data.vic.gov.au/dataset/ptv-metro-train-stations\n",
    "2. select PTV shape file, add to cart and check out with email\n",
    "3. open url in email recieved, download zip file\n",
    "4. find folder with name 'PTV'\n",
    "5. move folder under raw data folder\n",
    "\n",
    "\n",
    "\"\"\""
   ]
  },
  {
   "cell_type": "code",
   "execution_count": null,
   "id": "8328eed7",
   "metadata": {},
   "outputs": [],
   "source": [
    "#PTV\n",
    "ptv_df = gpd.read_file(\"../data/raw/PTV/PTV_METRO_TRAIN_STATION.shp\")\n",
    "\n",
    "\n",
    "#output\n",
    "filename = 'train_staiton.csv'\n",
    "output_dir_full = f'{output_dir}{filename}'\n",
    "ptv_df.to_csv(output_dir_full)"
   ]
  },
  {
   "cell_type": "code",
   "execution_count": null,
   "id": "0dc4c405",
   "metadata": {},
   "outputs": [],
   "source": []
  },
  {
   "cell_type": "code",
   "execution_count": null,
   "id": "2424fd37",
   "metadata": {},
   "outputs": [],
   "source": []
  },
  {
   "cell_type": "code",
   "execution_count": null,
   "id": "658f56bc",
   "metadata": {},
   "outputs": [],
   "source": []
  },
  {
   "cell_type": "code",
   "execution_count": null,
   "id": "2c913bcb",
   "metadata": {},
   "outputs": [],
   "source": [
    "\"\"\"\n",
    "Download FOI zip file\n",
    "1. open url:https://datashare.maps.vic.gov.au/search?md=019d7631-1234-5112-9f21-8f7346647b61\n",
    "2. add to cart and check out with email\n",
    "3. open url in email recieved, download zip file\n",
    "4. find folder with name 'VMFEAT'\n",
    "5. move folder under raw data folder\n",
    "\n",
    "\n",
    "\"\"\""
   ]
  },
  {
   "cell_type": "code",
   "execution_count": null,
   "id": "7539c908",
   "metadata": {},
   "outputs": [],
   "source": [
    "# sf stands for shape file\n",
    "sf = gpd.read_file(\"../data/raw/VMFEAT/FOI_POINT.shp\")\n",
    "VIC_FOI = sf.loc[sf['STATE']=='VIC']"
   ]
  },
  {
   "cell_type": "code",
   "execution_count": null,
   "id": "d2b997f7",
   "metadata": {},
   "outputs": [],
   "source": [
    "'''\n",
    "\n",
    "\n",
    "hospital\n",
    "\n",
    "\n",
    "'''\n",
    "comunity_sector = ['communication service','NAME','geometry']\n",
    "hospital = VIC_FOI.loc[VIC_FOI['FTYPE'] == 'hospital']\n",
    "hospital_df = hospital[hospital_columns]\n",
    "hospital_df = hospital_df.dropna(subset=['FEATSUBTYP','NAME','geometry'])\n",
    "\n",
    "\n",
    "#output\n",
    "filename = 'hospital.csv'\n",
    "output_dir_full = f'{output_dir}{filename}'\n",
    "hospital_df.to_csv(output_dir_full)"
   ]
  },
  {
   "cell_type": "code",
   "execution_count": null,
   "id": "c106811e",
   "metadata": {},
   "outputs": [],
   "source": [
    "'''\n",
    "\n",
    "emergency services: police station, amubulance\n",
    "\n",
    "\n",
    "'''\n",
    "#filter out important emergency sevice\n",
    "target_emergency_service= ['police station',\n",
    "                           'ambulance station',\n",
    "                           'fire station',\n",
    "                           'fire station (forest industry)']\n",
    "selected_columns = ['NAME_LABEL','FEATSUBTYP','geometry']\n",
    "\n",
    "emergency_service_df = VIC_FOI.loc[VIC_FOI['FTYPE'] == 'emergency facility'][selected_columns]\n",
    "emergency_service_df = emergency_service_df.loc[emergency_service_df['FEATSUBTYP']\\\n",
    "                                                .isin(target_emergency_service)]\n",
    "emergency_service_df = emergency_service_df.dropna(subset=['NAME_LABEL','geometry'])\n",
    "\n",
    "\n",
    "#output\n",
    "filename = 'emergency_service.csv'\n",
    "output_dir_full = f'{output_dir}{filename}'\n",
    "emergency_service_df.to_csv(output_dir_full)\n",
    "\n",
    "\n"
   ]
  },
  {
   "cell_type": "code",
   "execution_count": null,
   "id": "73b662ec",
   "metadata": {},
   "outputs": [],
   "source": [
    "'''\n",
    "\n",
    "\n",
    "public service: \n",
    "swimming pool,libary museum,art gallery\n",
    "\n",
    "\n",
    "'''\n",
    "service_type= ['sport facility',\n",
    "               'cultural centre',\n",
    "               'community space']\n",
    "\n",
    "public_service = VIC_FOI.loc[VIC_FOI['FTYPE']\\\n",
    "                             .isin(service_type)]\n",
    "target_service = ['camp ground',\n",
    "                  'swimming pool',\n",
    "                  'library',\n",
    "                  'museum',\n",
    "                  'art gallery',\n",
    "                  'aquarium',\n",
    "                  'observatory']\n",
    "selected_columns = ['FTYPE','FEATSUBTYP','NAME','geometry'] \n",
    "public_service = public_service.loc[public_service['FEATSUBTYP']\\\n",
    "                             .isin(target_service)][selected_columns]\n",
    "public_service_df = public_service.dropna(subset=['NAME','geometry'])\n",
    "\n",
    "\n",
    "#output\n",
    "filename = 'public_service.csv'\n",
    "output_dir_full = f'{output_dir}{filename}'\n",
    "public_service_df.to_csv(output_dir_full)\n",
    "\n",
    "\n"
   ]
  },
  {
   "cell_type": "code",
   "execution_count": null,
   "id": "66745599",
   "metadata": {},
   "outputs": [],
   "source": [
    "'''\n",
    "\n",
    "\n",
    "care facility (child,disability,aged)\n",
    "\n",
    "\n",
    "\n",
    "'''\n",
    "\n",
    "selected_columns = ['NAME_LABEL','FEATSUBTYP','geometry']\n",
    "care_facility_df = VIC_FOI.loc[VIC_FOI['FTYPE'] =='care facility'][selected_columns]\n",
    "\n",
    "#output\n",
    "filename = 'care_facility.csv'\n",
    "output_dir_full = f'{output_dir}{filename}'\n",
    "care_facility_df.to_csv(output_dir_full)\n",
    "\n",
    "\n"
   ]
  },
  {
   "cell_type": "code",
   "execution_count": null,
   "id": "97660703",
   "metadata": {},
   "outputs": [],
   "source": []
  },
  {
   "cell_type": "code",
   "execution_count": null,
   "id": "e6898f8b",
   "metadata": {},
   "outputs": [],
   "source": []
  },
  {
   "cell_type": "code",
   "execution_count": null,
   "id": "b04cd93b",
   "metadata": {},
   "outputs": [],
   "source": []
  }
 ],
 "metadata": {
  "kernelspec": {
   "display_name": "Python 3 (ipykernel)",
   "language": "python",
   "name": "python3"
  },
  "language_info": {
   "codemirror_mode": {
    "name": "ipython",
    "version": 3
   },
   "file_extension": ".py",
   "mimetype": "text/x-python",
   "name": "python",
   "nbconvert_exporter": "python",
   "pygments_lexer": "ipython3",
   "version": "3.10.5"
  }
 },
 "nbformat": 4,
 "nbformat_minor": 5
}
