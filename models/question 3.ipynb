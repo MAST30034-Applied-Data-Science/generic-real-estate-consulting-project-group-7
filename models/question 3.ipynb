{
 "cells": [
  {
   "cell_type": "markdown",
   "metadata": {},
   "source": [
    "# What are the most liveable and affordable suburbs according to your chosen metrics?"
   ]
  },
  {
   "cell_type": "code",
   "execution_count": 1,
   "metadata": {},
   "outputs": [
    {
     "name": "stdout",
     "output_type": "stream",
     "text": [
      "22/10/04 15:59:32 WARN Utils: Your hostname, QuzihandeMacBook-Pro.local resolves to a loopback address: 127.0.0.1; using 192.168.96.115 instead (on interface en0)\n",
      "22/10/04 15:59:32 WARN Utils: Set SPARK_LOCAL_IP if you need to bind to another address\n"
     ]
    },
    {
     "name": "stderr",
     "output_type": "stream",
     "text": [
      "Setting default log level to \"WARN\".\n",
      "To adjust logging level use sc.setLogLevel(newLevel). For SparkR, use setLogLevel(newLevel).\n"
     ]
    },
    {
     "name": "stdout",
     "output_type": "stream",
     "text": [
      "22/10/04 15:59:33 WARN NativeCodeLoader: Unable to load native-hadoop library for your platform... using builtin-java classes where applicable\n"
     ]
    }
   ],
   "source": [
    "# import library\n",
    "# read model data csv\n",
    "import pandas as pd\n",
    "\n",
    "#spark session\n",
    "from pyspark.sql import SparkSession\n",
    "spark = (\n",
    "    SparkSession.builder.appName(\"MAST30034 Project 2\")\n",
    "    .config(\"spark.sql.repl.eagerEval.enabled\", True) \n",
    "    .config(\"spark.sql.parquet.cacheMetadata\", \"true\")\n",
    "    .config(\"spark.sql.session.timeZone\", \"Etc/UTC\")\n",
    "    .getOrCreate()\n",
    ")"
   ]
  },
  {
   "cell_type": "markdown",
   "metadata": {},
   "source": [
    "## Preprocessing"
   ]
  },
  {
   "cell_type": "code",
   "execution_count": 2,
   "metadata": {},
   "outputs": [],
   "source": [
    "# properties data\n",
    "data = pd.read_csv(\"../data/curated/model-data/model-data.csv\").drop(columns = ['Unnamed: 0'])\n",
    "\n",
    "# aggregated external data by postcode\n",
    "external = pd.read_csv(\"../data/curated/model-data/external-features.csv\").drop(columns = ['Unnamed: 0'])\n",
    "\n",
    "# additional data needed\n",
    "public_service = pd.read_csv(\"../data/raw/external-data/public_service.csv\").drop(columns = ['Unnamed: 0'])\n",
    "emergency_service = pd.read_csv(\"../data/raw/external-data/emergency_service.csv\").drop(columns = ['Unnamed: 0'])\n",
    "hospital = pd.read_csv(\"../data/raw/external-data/hospital.csv\").drop(columns = ['Unnamed: 0'])"
   ]
  },
  {
   "cell_type": "code",
   "execution_count": 3,
   "metadata": {},
   "outputs": [],
   "source": [
    "selected_external_columns = ['postcode', 'public-service-duration', 'care-facility-duration', 'shopping-center-duration',\n",
    "                             'train-station-duration', 'hospital-duration', 'CBD-duration','emergency-service-duration',\n",
    "                             'property-count', 'elector-count', 'crime-rate', 'income',\n",
    "                             'pri-1-10', 'pri-11-50', 'pri-51-100','pri-101-150', 'pri-150+',\n",
    "                             'sec-1-10', 'sec-11-50', 'sec-51-100','sec-101-150',\n",
    "                             'sec-150+']"
   ]
  },
  {
   "cell_type": "code",
   "execution_count": 4,
   "metadata": {},
   "outputs": [],
   "source": [
    "# filter data\n",
    "data = data.loc[(data['price'] <= 1500) & (data['bedrooms'] <= 3)& (data['parking'] <= 5)]\n",
    "data = data.loc[(data['price'] <= 2000) & (data['bedrooms'] <= 5)& (data['parking'] <= 5)]"
   ]
  },
  {
   "cell_type": "code",
   "execution_count": 5,
   "metadata": {},
   "outputs": [],
   "source": [
    "# add rent proportion\n",
    "data['rent_proportion'] = (data['price'] / data['bedrooms'])/data['income']"
   ]
  },
  {
   "cell_type": "code",
   "execution_count": 6,
   "metadata": {},
   "outputs": [],
   "source": [
    "# add rent porpotion by postcode\n",
    "data_mean = data.groupby(['postcode']).mean()\n",
    "external  = external.merge(data_mean.rent_proportion, left_on=\"postcode\", right_on=\"postcode\", how='outer')"
   ]
  },
  {
   "cell_type": "code",
   "execution_count": 7,
   "metadata": {},
   "outputs": [],
   "source": [
    "# add external feautre count by postcode\n",
    "public_service_count = public_service.groupby('postcode').count().geometry.rename('public_service_count')\n",
    "hospital_count = hospital.groupby('postcode').count().geometry.rename('hospital_count')\n",
    "emergency_service_count = emergency_service.groupby('postcode').count().geometry.rename('emergency_service_count')"
   ]
  },
  {
   "cell_type": "code",
   "execution_count": 8,
   "metadata": {},
   "outputs": [],
   "source": [
    "# merge data\n",
    "external  = external.merge(hospital_count, left_on=\"postcode\", right_on=\"postcode\", how='left')\n",
    "external  = external.merge(public_service_count, left_on=\"postcode\", right_on=\"postcode\", how='left')\n",
    "external  = external.merge(emergency_service_count, left_on=\"postcode\", right_on=\"postcode\", how='left')"
   ]
  },
  {
   "cell_type": "code",
   "execution_count": 9,
   "metadata": {},
   "outputs": [],
   "source": [
    "# check it the property is affordable\n",
    "data['greater_than_30_percent_count'] = data['rent_proportion'] >= 0.3\n",
    "affordable_percentage = data.groupby(\"postcode\")[\"greater_than_30_percent_count\"]\\\n",
    "                            .mean()\\\n",
    "                            .rename('unaffordable_percentage')\n",
    "                            \n",
    "external  = external.merge(affordable_percentage, left_on=\"postcode\", right_on=\"postcode\", how='left')"
   ]
  },
  {
   "cell_type": "code",
   "execution_count": 10,
   "metadata": {},
   "outputs": [],
   "source": [
    "# selected columns we interested in based on livability index matrics\n",
    "livable_columns = ['postcode', 'hospital_count', 'public_service_count', 'emergency_service_count',\n",
    "                   'CBD-duration', 'train-station-duration', 'rent_proportion', 'income']\n",
    "external_selected = external[livable_columns]"
   ]
  },
  {
   "cell_type": "code",
   "execution_count": 11,
   "metadata": {},
   "outputs": [
    {
     "name": "stderr",
     "output_type": "stream",
     "text": [
      "/var/folders/nf/s3hrf4f94bx7d661b9kg76v80000gn/T/ipykernel_72465/4072582959.py:2: SettingWithCopyWarning: \n",
      "A value is trying to be set on a copy of a slice from a DataFrame.\n",
      "Try using .loc[row_indexer,col_indexer] = value instead\n",
      "\n",
      "See the caveats in the documentation: https://pandas.pydata.org/pandas-docs/stable/user_guide/indexing.html#returning-a-view-versus-a-copy\n",
      "  external_selected['hospital_count'] = external_selected['hospital_count'].fillna(0)\n",
      "/var/folders/nf/s3hrf4f94bx7d661b9kg76v80000gn/T/ipykernel_72465/4072582959.py:3: SettingWithCopyWarning: \n",
      "A value is trying to be set on a copy of a slice from a DataFrame.\n",
      "Try using .loc[row_indexer,col_indexer] = value instead\n",
      "\n",
      "See the caveats in the documentation: https://pandas.pydata.org/pandas-docs/stable/user_guide/indexing.html#returning-a-view-versus-a-copy\n",
      "  external_selected['public_service_count'] = external_selected['public_service_count'].fillna(0)\n",
      "/var/folders/nf/s3hrf4f94bx7d661b9kg76v80000gn/T/ipykernel_72465/4072582959.py:4: SettingWithCopyWarning: \n",
      "A value is trying to be set on a copy of a slice from a DataFrame.\n",
      "Try using .loc[row_indexer,col_indexer] = value instead\n",
      "\n",
      "See the caveats in the documentation: https://pandas.pydata.org/pandas-docs/stable/user_guide/indexing.html#returning-a-view-versus-a-copy\n",
      "  external_selected['emergency_service_count'] = external_selected['emergency_service_count'].fillna(0)\n"
     ]
    }
   ],
   "source": [
    "# replace nan with 0\n",
    "external_selected['hospital_count'] = external_selected['hospital_count'].fillna(0)\n",
    "external_selected['public_service_count'] = external_selected['public_service_count'].fillna(0)\n",
    "external_selected['emergency_service_count'] = external_selected['emergency_service_count'].fillna(0)"
   ]
  },
  {
   "cell_type": "code",
   "execution_count": 12,
   "metadata": {},
   "outputs": [
    {
     "data": {
      "text/html": [
       "<div>\n",
       "<style scoped>\n",
       "    .dataframe tbody tr th:only-of-type {\n",
       "        vertical-align: middle;\n",
       "    }\n",
       "\n",
       "    .dataframe tbody tr th {\n",
       "        vertical-align: top;\n",
       "    }\n",
       "\n",
       "    .dataframe thead th {\n",
       "        text-align: right;\n",
       "    }\n",
       "</style>\n",
       "<table border=\"1\" class=\"dataframe\">\n",
       "  <thead>\n",
       "    <tr style=\"text-align: right;\">\n",
       "      <th></th>\n",
       "      <th>postcode</th>\n",
       "      <th>hospital_count</th>\n",
       "      <th>public_service_count</th>\n",
       "      <th>emergency_service_count</th>\n",
       "      <th>CBD-duration</th>\n",
       "      <th>train-station-duration</th>\n",
       "      <th>rent_proportion</th>\n",
       "      <th>income</th>\n",
       "    </tr>\n",
       "  </thead>\n",
       "  <tbody>\n",
       "    <tr>\n",
       "      <th>69</th>\n",
       "      <td>3053</td>\n",
       "      <td>2.0</td>\n",
       "      <td>3.0</td>\n",
       "      <td>2.0</td>\n",
       "      <td>3.893333</td>\n",
       "      <td>16.598000</td>\n",
       "      <td>0.477835</td>\n",
       "      <td>633.0</td>\n",
       "    </tr>\n",
       "    <tr>\n",
       "      <th>108</th>\n",
       "      <td>3004</td>\n",
       "      <td>4.0</td>\n",
       "      <td>3.0</td>\n",
       "      <td>0.0</td>\n",
       "      <td>6.203333</td>\n",
       "      <td>16.598000</td>\n",
       "      <td>0.392007</td>\n",
       "      <td>994.0</td>\n",
       "    </tr>\n",
       "    <tr>\n",
       "      <th>110</th>\n",
       "      <td>3000</td>\n",
       "      <td>2.0</td>\n",
       "      <td>10.0</td>\n",
       "      <td>1.0</td>\n",
       "      <td>0.000000</td>\n",
       "      <td>1.701333</td>\n",
       "      <td>0.369239</td>\n",
       "      <td>994.0</td>\n",
       "    </tr>\n",
       "    <tr>\n",
       "      <th>124</th>\n",
       "      <td>3940</td>\n",
       "      <td>1.0</td>\n",
       "      <td>0.0</td>\n",
       "      <td>1.0</td>\n",
       "      <td>75.448333</td>\n",
       "      <td>16.598000</td>\n",
       "      <td>0.307927</td>\n",
       "      <td>641.0</td>\n",
       "    </tr>\n",
       "    <tr>\n",
       "      <th>176</th>\n",
       "      <td>3008</td>\n",
       "      <td>1.0</td>\n",
       "      <td>2.0</td>\n",
       "      <td>1.0</td>\n",
       "      <td>5.325000</td>\n",
       "      <td>3.836000</td>\n",
       "      <td>0.307030</td>\n",
       "      <td>1219.5</td>\n",
       "    </tr>\n",
       "    <tr>\n",
       "      <th>...</th>\n",
       "      <td>...</td>\n",
       "      <td>...</td>\n",
       "      <td>...</td>\n",
       "      <td>...</td>\n",
       "      <td>...</td>\n",
       "      <td>...</td>\n",
       "      <td>...</td>\n",
       "      <td>...</td>\n",
       "    </tr>\n",
       "    <tr>\n",
       "      <th>87</th>\n",
       "      <td>3039</td>\n",
       "      <td>1.0</td>\n",
       "      <td>1.0</td>\n",
       "      <td>2.0</td>\n",
       "      <td>12.945000</td>\n",
       "      <td>1.714333</td>\n",
       "      <td>0.159088</td>\n",
       "      <td>1611.0</td>\n",
       "    </tr>\n",
       "    <tr>\n",
       "      <th>81</th>\n",
       "      <td>3184</td>\n",
       "      <td>1.0</td>\n",
       "      <td>0.0</td>\n",
       "      <td>0.0</td>\n",
       "      <td>17.041667</td>\n",
       "      <td>16.598000</td>\n",
       "      <td>0.158534</td>\n",
       "      <td>1715.0</td>\n",
       "    </tr>\n",
       "    <tr>\n",
       "      <th>130</th>\n",
       "      <td>3204</td>\n",
       "      <td>2.0</td>\n",
       "      <td>1.0</td>\n",
       "      <td>0.0</td>\n",
       "      <td>26.365000</td>\n",
       "      <td>0.985667</td>\n",
       "      <td>0.157826</td>\n",
       "      <td>1538.0</td>\n",
       "    </tr>\n",
       "    <tr>\n",
       "      <th>144</th>\n",
       "      <td>3191</td>\n",
       "      <td>2.0</td>\n",
       "      <td>1.0</td>\n",
       "      <td>1.0</td>\n",
       "      <td>30.338333</td>\n",
       "      <td>1.746667</td>\n",
       "      <td>0.157612</td>\n",
       "      <td>1836.0</td>\n",
       "    </tr>\n",
       "    <tr>\n",
       "      <th>96</th>\n",
       "      <td>3075</td>\n",
       "      <td>0.0</td>\n",
       "      <td>1.0</td>\n",
       "      <td>0.0</td>\n",
       "      <td>27.021667</td>\n",
       "      <td>2.972667</td>\n",
       "      <td>0.156844</td>\n",
       "      <td>919.0</td>\n",
       "    </tr>\n",
       "  </tbody>\n",
       "</table>\n",
       "<p>90 rows × 8 columns</p>\n",
       "</div>"
      ],
      "text/plain": [
       "     postcode  hospital_count  public_service_count  emergency_service_count  \\\n",
       "69       3053             2.0                   3.0                      2.0   \n",
       "108      3004             4.0                   3.0                      0.0   \n",
       "110      3000             2.0                  10.0                      1.0   \n",
       "124      3940             1.0                   0.0                      1.0   \n",
       "176      3008             1.0                   2.0                      1.0   \n",
       "..        ...             ...                   ...                      ...   \n",
       "87       3039             1.0                   1.0                      2.0   \n",
       "81       3184             1.0                   0.0                      0.0   \n",
       "130      3204             2.0                   1.0                      0.0   \n",
       "144      3191             2.0                   1.0                      1.0   \n",
       "96       3075             0.0                   1.0                      0.0   \n",
       "\n",
       "     CBD-duration  train-station-duration  rent_proportion  income  \n",
       "69       3.893333               16.598000         0.477835   633.0  \n",
       "108      6.203333               16.598000         0.392007   994.0  \n",
       "110      0.000000                1.701333         0.369239   994.0  \n",
       "124     75.448333               16.598000         0.307927   641.0  \n",
       "176      5.325000                3.836000         0.307030  1219.5  \n",
       "..            ...                     ...              ...     ...  \n",
       "87      12.945000                1.714333         0.159088  1611.0  \n",
       "81      17.041667               16.598000         0.158534  1715.0  \n",
       "130     26.365000                0.985667         0.157826  1538.0  \n",
       "144     30.338333                1.746667         0.157612  1836.0  \n",
       "96      27.021667                2.972667         0.156844   919.0  \n",
       "\n",
       "[90 rows x 8 columns]"
      ]
     },
     "execution_count": 12,
     "metadata": {},
     "output_type": "execute_result"
    }
   ],
   "source": [
    "external_selected.sort_values(['rent_proportion'],ascending=False).head(90)"
   ]
  },
  {
   "cell_type": "code",
   "execution_count": 13,
   "metadata": {},
   "outputs": [],
   "source": [
    "lst1 = list(external_selected[external_selected['hospital_count'] >= 1]['postcode'])\n",
    "lst2 = list(external_selected[external_selected['public_service_count']>= 1]['postcode'])\n",
    "lst7 = list(external_selected[external_selected['emergency_service_count']>= 1]['postcode'])\n",
    "\n",
    "lst3 = list(external_selected[external_selected['train-station-duration'] <= 20]['postcode'])\n",
    "\n",
    "lst4_2 = list(external_selected[external_selected['rent_proportion']<= 0.17]['postcode'])\n",
    "lst4_1 = list(external_selected[external_selected['rent_proportion']<= 0.19]['postcode'])\n",
    "\n",
    "lst5 = list(external_selected[external_selected['income'] >= 1300]['postcode'])\n",
    "lst6 = list(external_selected[external_selected['CBD-duration'] <= 20]['postcode'])\n",
    "lst7 = list(external_selected[external_selected['emergency_service_count']>= 1]['postcode'])"
   ]
  },
  {
   "cell_type": "markdown",
   "metadata": {},
   "source": [
    "## Top 5 liveable and affordable suburbs"
   ]
  },
  {
   "cell_type": "code",
   "execution_count": 14,
   "metadata": {},
   "outputs": [
    {
     "data": {
      "text/plain": [
       "[3040, 3079, 3144, 3101, 3039]"
      ]
     },
     "execution_count": 14,
     "metadata": {},
     "output_type": "execute_result"
    }
   ],
   "source": [
    "# top 5: 'rent_proportion']<= 0.17\n",
    "list(set(lst1) & set(lst2) & set(lst3) & set(lst4_2) & set(lst5) & set(lst6) & set(lst7))"
   ]
  },
  {
   "cell_type": "markdown",
   "metadata": {},
   "source": [
    "## Top 10 liveable and affordable suburbs"
   ]
  },
  {
   "cell_type": "code",
   "execution_count": 15,
   "metadata": {},
   "outputs": [
    {
     "data": {
      "text/plain": [
       "[3040, 3078, 3079, 3144, 3052, 3056, 3121, 3122, 3101, 3039]"
      ]
     },
     "execution_count": 15,
     "metadata": {},
     "output_type": "execute_result"
    }
   ],
   "source": [
    "# top 10: 'rent_proportion']<= 0.19\n",
    "list(set(lst1) & set(lst2) & set(lst3)& set(lst4_1) & set(lst5) & set(lst6) & set(lst7))"
   ]
  },
  {
   "cell_type": "code",
   "execution_count": null,
   "metadata": {},
   "outputs": [],
   "source": []
  }
 ],
 "metadata": {
  "kernelspec": {
   "display_name": "Python 3.10.4 ('ADS')",
   "language": "python",
   "name": "python3"
  },
  "language_info": {
   "codemirror_mode": {
    "name": "ipython",
    "version": 3
   },
   "file_extension": ".py",
   "mimetype": "text/x-python",
   "name": "python",
   "nbconvert_exporter": "python",
   "pygments_lexer": "ipython3",
   "version": "3.10.4"
  },
  "orig_nbformat": 4,
  "vscode": {
   "interpreter": {
    "hash": "183132b451050d377b0440a650259019ec3f60ba0d844e8e7e0c0f7121c63925"
   }
  }
 },
 "nbformat": 4,
 "nbformat_minor": 2
}
