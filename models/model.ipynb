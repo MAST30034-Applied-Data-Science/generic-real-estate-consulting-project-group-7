{
 "cells": [
  {
   "cell_type": "code",
   "execution_count": 1,
   "metadata": {},
   "outputs": [],
   "source": [
    "import pandas as pd\n",
    "import numpy as np\n",
    "import pickle\n",
    "import seaborn as sns\n",
    "import matplotlib.pyplot as plt\n",
    "from scalecast.Forecaster import Forecaster\n",
    "import datetime\n",
    "\n",
    "from pandas.plotting import autocorrelation_plot\n",
    "# from pandas import datetime\n",
    "from pandas import DataFrame\n",
    "from statsmodels.tsa.arima_model import ARIMA\n",
    "from matplotlib import pyplot\n",
    "from statsmodels.tsa.arima_model import ARIMA\n",
    "import pmdarima as pm\n",
    "\n",
    "sns.set(rc = {'figure.figsize': (15,8)})"
   ]
  },
  {
   "cell_type": "code",
   "execution_count": 2,
   "metadata": {},
   "outputs": [
    {
     "data": {
      "text/html": [
       "<div>\n",
       "<style scoped>\n",
       "    .dataframe tbody tr th:only-of-type {\n",
       "        vertical-align: middle;\n",
       "    }\n",
       "\n",
       "    .dataframe tbody tr th {\n",
       "        vertical-align: top;\n",
       "    }\n",
       "\n",
       "    .dataframe thead th {\n",
       "        text-align: right;\n",
       "    }\n",
       "</style>\n",
       "<table border=\"1\" class=\"dataframe\">\n",
       "  <thead>\n",
       "    <tr style=\"text-align: right;\">\n",
       "      <th></th>\n",
       "      <th>postcode</th>\n",
       "      <th>latitude</th>\n",
       "      <th>longitude</th>\n",
       "      <th>bedrooms</th>\n",
       "      <th>bathrooms</th>\n",
       "      <th>property_type</th>\n",
       "      <th>price</th>\n",
       "      <th>postcode_property_count</th>\n",
       "      <th>public-service-duration</th>\n",
       "      <th>care-facility-duration</th>\n",
       "      <th>...</th>\n",
       "      <th>pri-1-10</th>\n",
       "      <th>pri-11-50</th>\n",
       "      <th>pri-51-100</th>\n",
       "      <th>pri-101-150</th>\n",
       "      <th>pri-150+</th>\n",
       "      <th>sec-1-10</th>\n",
       "      <th>sec-11-50</th>\n",
       "      <th>sec-51-100</th>\n",
       "      <th>sec-101-150</th>\n",
       "      <th>sec-150+</th>\n",
       "    </tr>\n",
       "  </thead>\n",
       "  <tbody>\n",
       "    <tr>\n",
       "      <th>0</th>\n",
       "      <td>3029</td>\n",
       "      <td>-37.836800</td>\n",
       "      <td>144.681992</td>\n",
       "      <td>3</td>\n",
       "      <td>2</td>\n",
       "      <td>House</td>\n",
       "      <td>410.0</td>\n",
       "      <td>264</td>\n",
       "      <td>3.611667</td>\n",
       "      <td>3.186500</td>\n",
       "      <td>...</td>\n",
       "      <td>0.0</td>\n",
       "      <td>1.0</td>\n",
       "      <td>0.0</td>\n",
       "      <td>0.0</td>\n",
       "      <td>0.0</td>\n",
       "      <td>0.0</td>\n",
       "      <td>0.0</td>\n",
       "      <td>1.0</td>\n",
       "      <td>1.0</td>\n",
       "      <td>8.0</td>\n",
       "    </tr>\n",
       "    <tr>\n",
       "      <th>1</th>\n",
       "      <td>3029</td>\n",
       "      <td>-37.858776</td>\n",
       "      <td>144.670990</td>\n",
       "      <td>4</td>\n",
       "      <td>2</td>\n",
       "      <td>House</td>\n",
       "      <td>420.0</td>\n",
       "      <td>264</td>\n",
       "      <td>3.611667</td>\n",
       "      <td>3.186500</td>\n",
       "      <td>...</td>\n",
       "      <td>0.0</td>\n",
       "      <td>1.0</td>\n",
       "      <td>0.0</td>\n",
       "      <td>0.0</td>\n",
       "      <td>0.0</td>\n",
       "      <td>0.0</td>\n",
       "      <td>0.0</td>\n",
       "      <td>1.0</td>\n",
       "      <td>1.0</td>\n",
       "      <td>8.0</td>\n",
       "    </tr>\n",
       "    <tr>\n",
       "      <th>2</th>\n",
       "      <td>3029</td>\n",
       "      <td>-37.831726</td>\n",
       "      <td>144.721200</td>\n",
       "      <td>4</td>\n",
       "      <td>2</td>\n",
       "      <td>New House &amp; Land</td>\n",
       "      <td>440.0</td>\n",
       "      <td>264</td>\n",
       "      <td>3.611667</td>\n",
       "      <td>3.186500</td>\n",
       "      <td>...</td>\n",
       "      <td>0.0</td>\n",
       "      <td>1.0</td>\n",
       "      <td>0.0</td>\n",
       "      <td>0.0</td>\n",
       "      <td>0.0</td>\n",
       "      <td>0.0</td>\n",
       "      <td>0.0</td>\n",
       "      <td>1.0</td>\n",
       "      <td>1.0</td>\n",
       "      <td>8.0</td>\n",
       "    </tr>\n",
       "    <tr>\n",
       "      <th>3</th>\n",
       "      <td>3029</td>\n",
       "      <td>-37.850758</td>\n",
       "      <td>144.712234</td>\n",
       "      <td>3</td>\n",
       "      <td>3</td>\n",
       "      <td>House</td>\n",
       "      <td>415.0</td>\n",
       "      <td>264</td>\n",
       "      <td>3.611667</td>\n",
       "      <td>3.186500</td>\n",
       "      <td>...</td>\n",
       "      <td>0.0</td>\n",
       "      <td>1.0</td>\n",
       "      <td>0.0</td>\n",
       "      <td>0.0</td>\n",
       "      <td>0.0</td>\n",
       "      <td>0.0</td>\n",
       "      <td>0.0</td>\n",
       "      <td>1.0</td>\n",
       "      <td>1.0</td>\n",
       "      <td>8.0</td>\n",
       "    </tr>\n",
       "    <tr>\n",
       "      <th>4</th>\n",
       "      <td>3029</td>\n",
       "      <td>-37.843980</td>\n",
       "      <td>144.717514</td>\n",
       "      <td>3</td>\n",
       "      <td>2</td>\n",
       "      <td>House</td>\n",
       "      <td>410.0</td>\n",
       "      <td>264</td>\n",
       "      <td>3.611667</td>\n",
       "      <td>3.186500</td>\n",
       "      <td>...</td>\n",
       "      <td>0.0</td>\n",
       "      <td>1.0</td>\n",
       "      <td>0.0</td>\n",
       "      <td>0.0</td>\n",
       "      <td>0.0</td>\n",
       "      <td>0.0</td>\n",
       "      <td>0.0</td>\n",
       "      <td>1.0</td>\n",
       "      <td>1.0</td>\n",
       "      <td>8.0</td>\n",
       "    </tr>\n",
       "    <tr>\n",
       "      <th>...</th>\n",
       "      <td>...</td>\n",
       "      <td>...</td>\n",
       "      <td>...</td>\n",
       "      <td>...</td>\n",
       "      <td>...</td>\n",
       "      <td>...</td>\n",
       "      <td>...</td>\n",
       "      <td>...</td>\n",
       "      <td>...</td>\n",
       "      <td>...</td>\n",
       "      <td>...</td>\n",
       "      <td>...</td>\n",
       "      <td>...</td>\n",
       "      <td>...</td>\n",
       "      <td>...</td>\n",
       "      <td>...</td>\n",
       "      <td>...</td>\n",
       "      <td>...</td>\n",
       "      <td>...</td>\n",
       "      <td>...</td>\n",
       "      <td>...</td>\n",
       "    </tr>\n",
       "    <tr>\n",
       "      <th>12122</th>\n",
       "      <td>3934</td>\n",
       "      <td>-38.248100</td>\n",
       "      <td>145.041611</td>\n",
       "      <td>3</td>\n",
       "      <td>2</td>\n",
       "      <td>Townhouse</td>\n",
       "      <td>625.0</td>\n",
       "      <td>13</td>\n",
       "      <td>14.985667</td>\n",
       "      <td>0.896667</td>\n",
       "      <td>...</td>\n",
       "      <td>0.0</td>\n",
       "      <td>0.0</td>\n",
       "      <td>0.0</td>\n",
       "      <td>0.0</td>\n",
       "      <td>0.0</td>\n",
       "      <td>0.0</td>\n",
       "      <td>0.0</td>\n",
       "      <td>0.0</td>\n",
       "      <td>1.0</td>\n",
       "      <td>1.0</td>\n",
       "    </tr>\n",
       "    <tr>\n",
       "      <th>12123</th>\n",
       "      <td>3934</td>\n",
       "      <td>-38.285440</td>\n",
       "      <td>144.995331</td>\n",
       "      <td>4</td>\n",
       "      <td>2</td>\n",
       "      <td>House</td>\n",
       "      <td>720.0</td>\n",
       "      <td>13</td>\n",
       "      <td>14.985667</td>\n",
       "      <td>0.896667</td>\n",
       "      <td>...</td>\n",
       "      <td>0.0</td>\n",
       "      <td>0.0</td>\n",
       "      <td>0.0</td>\n",
       "      <td>0.0</td>\n",
       "      <td>0.0</td>\n",
       "      <td>0.0</td>\n",
       "      <td>0.0</td>\n",
       "      <td>0.0</td>\n",
       "      <td>1.0</td>\n",
       "      <td>1.0</td>\n",
       "    </tr>\n",
       "    <tr>\n",
       "      <th>12124</th>\n",
       "      <td>3934</td>\n",
       "      <td>-38.250070</td>\n",
       "      <td>145.052078</td>\n",
       "      <td>4</td>\n",
       "      <td>2</td>\n",
       "      <td>House</td>\n",
       "      <td>700.0</td>\n",
       "      <td>13</td>\n",
       "      <td>14.985667</td>\n",
       "      <td>0.896667</td>\n",
       "      <td>...</td>\n",
       "      <td>0.0</td>\n",
       "      <td>0.0</td>\n",
       "      <td>0.0</td>\n",
       "      <td>0.0</td>\n",
       "      <td>0.0</td>\n",
       "      <td>0.0</td>\n",
       "      <td>0.0</td>\n",
       "      <td>0.0</td>\n",
       "      <td>1.0</td>\n",
       "      <td>1.0</td>\n",
       "    </tr>\n",
       "    <tr>\n",
       "      <th>12125</th>\n",
       "      <td>3934</td>\n",
       "      <td>-38.290226</td>\n",
       "      <td>145.016418</td>\n",
       "      <td>3</td>\n",
       "      <td>2</td>\n",
       "      <td>House</td>\n",
       "      <td>870.0</td>\n",
       "      <td>13</td>\n",
       "      <td>14.985667</td>\n",
       "      <td>0.896667</td>\n",
       "      <td>...</td>\n",
       "      <td>0.0</td>\n",
       "      <td>0.0</td>\n",
       "      <td>0.0</td>\n",
       "      <td>0.0</td>\n",
       "      <td>0.0</td>\n",
       "      <td>0.0</td>\n",
       "      <td>0.0</td>\n",
       "      <td>0.0</td>\n",
       "      <td>1.0</td>\n",
       "      <td>1.0</td>\n",
       "    </tr>\n",
       "    <tr>\n",
       "      <th>12126</th>\n",
       "      <td>3934</td>\n",
       "      <td>-38.271950</td>\n",
       "      <td>145.003632</td>\n",
       "      <td>4</td>\n",
       "      <td>3</td>\n",
       "      <td>House</td>\n",
       "      <td>1200.0</td>\n",
       "      <td>13</td>\n",
       "      <td>14.985667</td>\n",
       "      <td>0.896667</td>\n",
       "      <td>...</td>\n",
       "      <td>0.0</td>\n",
       "      <td>0.0</td>\n",
       "      <td>0.0</td>\n",
       "      <td>0.0</td>\n",
       "      <td>0.0</td>\n",
       "      <td>0.0</td>\n",
       "      <td>0.0</td>\n",
       "      <td>0.0</td>\n",
       "      <td>1.0</td>\n",
       "      <td>1.0</td>\n",
       "    </tr>\n",
       "  </tbody>\n",
       "</table>\n",
       "<p>12127 rows × 29 columns</p>\n",
       "</div>"
      ],
      "text/plain": [
       "       postcode   latitude   longitude  bedrooms  bathrooms     property_type  \\\n",
       "0          3029 -37.836800  144.681992         3          2             House   \n",
       "1          3029 -37.858776  144.670990         4          2             House   \n",
       "2          3029 -37.831726  144.721200         4          2  New House & Land   \n",
       "3          3029 -37.850758  144.712234         3          3             House   \n",
       "4          3029 -37.843980  144.717514         3          2             House   \n",
       "...         ...        ...         ...       ...        ...               ...   \n",
       "12122      3934 -38.248100  145.041611         3          2         Townhouse   \n",
       "12123      3934 -38.285440  144.995331         4          2             House   \n",
       "12124      3934 -38.250070  145.052078         4          2             House   \n",
       "12125      3934 -38.290226  145.016418         3          2             House   \n",
       "12126      3934 -38.271950  145.003632         4          3             House   \n",
       "\n",
       "        price  postcode_property_count  public-service-duration  \\\n",
       "0       410.0                      264                 3.611667   \n",
       "1       420.0                      264                 3.611667   \n",
       "2       440.0                      264                 3.611667   \n",
       "3       415.0                      264                 3.611667   \n",
       "4       410.0                      264                 3.611667   \n",
       "...       ...                      ...                      ...   \n",
       "12122   625.0                       13                14.985667   \n",
       "12123   720.0                       13                14.985667   \n",
       "12124   700.0                       13                14.985667   \n",
       "12125   870.0                       13                14.985667   \n",
       "12126  1200.0                       13                14.985667   \n",
       "\n",
       "       care-facility-duration  ...  pri-1-10  pri-11-50  pri-51-100  \\\n",
       "0                    3.186500  ...       0.0        1.0         0.0   \n",
       "1                    3.186500  ...       0.0        1.0         0.0   \n",
       "2                    3.186500  ...       0.0        1.0         0.0   \n",
       "3                    3.186500  ...       0.0        1.0         0.0   \n",
       "4                    3.186500  ...       0.0        1.0         0.0   \n",
       "...                       ...  ...       ...        ...         ...   \n",
       "12122                0.896667  ...       0.0        0.0         0.0   \n",
       "12123                0.896667  ...       0.0        0.0         0.0   \n",
       "12124                0.896667  ...       0.0        0.0         0.0   \n",
       "12125                0.896667  ...       0.0        0.0         0.0   \n",
       "12126                0.896667  ...       0.0        0.0         0.0   \n",
       "\n",
       "       pri-101-150  pri-150+  sec-1-10  sec-11-50  sec-51-100  sec-101-150  \\\n",
       "0              0.0       0.0       0.0        0.0         1.0          1.0   \n",
       "1              0.0       0.0       0.0        0.0         1.0          1.0   \n",
       "2              0.0       0.0       0.0        0.0         1.0          1.0   \n",
       "3              0.0       0.0       0.0        0.0         1.0          1.0   \n",
       "4              0.0       0.0       0.0        0.0         1.0          1.0   \n",
       "...            ...       ...       ...        ...         ...          ...   \n",
       "12122          0.0       0.0       0.0        0.0         0.0          1.0   \n",
       "12123          0.0       0.0       0.0        0.0         0.0          1.0   \n",
       "12124          0.0       0.0       0.0        0.0         0.0          1.0   \n",
       "12125          0.0       0.0       0.0        0.0         0.0          1.0   \n",
       "12126          0.0       0.0       0.0        0.0         0.0          1.0   \n",
       "\n",
       "       sec-150+  \n",
       "0           8.0  \n",
       "1           8.0  \n",
       "2           8.0  \n",
       "3           8.0  \n",
       "4           8.0  \n",
       "...         ...  \n",
       "12122       1.0  \n",
       "12123       1.0  \n",
       "12124       1.0  \n",
       "12125       1.0  \n",
       "12126       1.0  \n",
       "\n",
       "[12127 rows x 29 columns]"
      ]
     },
     "execution_count": 2,
     "metadata": {},
     "output_type": "execute_result"
    }
   ],
   "source": [
    "model_data = pd.read_csv('../data/curated/model-data/model-data.csv')\n",
    "model_data"
   ]
  },
  {
   "cell_type": "code",
   "execution_count": 3,
   "metadata": {},
   "outputs": [
    {
     "data": {
      "text/plain": [
       "Index(['postcode', 'latitude', 'longitude', 'bedrooms', 'bathrooms',\n",
       "       'property_type', 'price', 'postcode_property_count',\n",
       "       'public-service-duration', 'care-facility-duration',\n",
       "       'shopping-center-duration', 'train-station-duration',\n",
       "       'hospital-duration', 'CBD-duration', 'emergency-service-duration',\n",
       "       'property-count', 'elector-count', 'crime-rate', 'income', 'pri-1-10',\n",
       "       'pri-11-50', 'pri-51-100', 'pri-101-150', 'pri-150+', 'sec-1-10',\n",
       "       'sec-11-50', 'sec-51-100', 'sec-101-150', 'sec-150+'],\n",
       "      dtype='object')"
      ]
     },
     "execution_count": 3,
     "metadata": {},
     "output_type": "execute_result"
    }
   ],
   "source": [
    "model_data.columns"
   ]
  },
  {
   "cell_type": "code",
   "execution_count": 4,
   "metadata": {},
   "outputs": [],
   "source": [
    "model_data.insert(0, 'date', datetime.date.today())"
   ]
  },
  {
   "cell_type": "code",
   "execution_count": 5,
   "metadata": {},
   "outputs": [
    {
     "data": {
      "text/plain": [
       "Forecaster(\n",
       "    DateStartActuals=2022-09-28T00:00:00.000000000\n",
       "    DateEndActuals=2022-09-28T00:00:00.000000000\n",
       "    Freq=None\n",
       "    N_actuals=12127\n",
       "    ForecastLength=0\n",
       "    Xvars=[]\n",
       "    Differenced=0\n",
       "    TestLength=1\n",
       "    ValidationLength=1\n",
       "    ValidationMetric=rmse\n",
       "    ForecastsEvaluated=[]\n",
       "    CILevel=0.95\n",
       "    BootstrapSamples=100\n",
       "    CurrentEstimator=None\n",
       "    GridsFile=Grids\n",
       ")"
      ]
     },
     "execution_count": 5,
     "metadata": {},
     "output_type": "execute_result"
    }
   ],
   "source": [
    "f = Forecaster(y = model_data['price'], current_dates = model_data['date'])\n",
    "f"
   ]
  },
  {
   "cell_type": "code",
   "execution_count": 6,
   "metadata": {},
   "outputs": [
    {
     "data": {
      "image/png": "[encoded data removed]",
      "text/plain": [
       "<Figure size 1080x576 with 1 Axes>"
      ]
     },
     "metadata": {},
     "output_type": "display_data"
    }
   ],
   "source": [
    "f.plot_pacf(lags=26)\n",
    "plt.show()"
   ]
  },
  {
   "cell_type": "code",
   "execution_count": 7,
   "metadata": {},
   "outputs": [
    {
     "ename": "ValueError",
     "evalue": "You must specify a period or x must be a pandas object with a PeriodIndex or a DatetimeIndex with a freq not set to None",
     "output_type": "error",
     "traceback": [
      "\u001b[0;31m---------------------------------------------------------------------------\u001b[0m",
      "\u001b[0;31mValueError\u001b[0m                                Traceback (most recent call last)",
      "\u001b[1;32m/Users/quzihanwu/Desktop/generic-real-estate-consulting-project-group-7/models/model.ipynb Cell 7\u001b[0m in \u001b[0;36m<cell line: 1>\u001b[0;34m()\u001b[0m\n\u001b[0;32m----> <a href='vscode-notebook-cell:/Users/quzihanwu/Desktop/generic-real-estate-consulting-project-group-7/models/model.ipynb#X10sZmlsZQ%3D%3D?line=0'>1</a>\u001b[0m f\u001b[39m.\u001b[39;49mseasonal_decompose()\u001b[39m.\u001b[39mplot()\n\u001b[1;32m      <a href='vscode-notebook-cell:/Users/quzihanwu/Desktop/generic-real-estate-consulting-project-group-7/models/model.ipynb#X10sZmlsZQ%3D%3D?line=1'>2</a>\u001b[0m plt\u001b[39m.\u001b[39mshow()\n",
      "File \u001b[0;32m~/opt/anaconda3/envs/ADS/lib/python3.10/site-packages/scalecast/Forecaster.py:3156\u001b[0m, in \u001b[0;36mForecaster.seasonal_decompose\u001b[0;34m(self, diffy, train_only, **kwargs)\u001b[0m\n\u001b[1;32m   3154\u001b[0m X \u001b[39m=\u001b[39m pd\u001b[39m.\u001b[39mDataFrame({\u001b[39m\"\u001b[39m\u001b[39my\u001b[39m\u001b[39m\"\u001b[39m: y}, index\u001b[39m=\u001b[39mcurrent_dates)\n\u001b[1;32m   3155\u001b[0m X\u001b[39m.\u001b[39mindex\u001b[39m.\u001b[39mfreq \u001b[39m=\u001b[39m \u001b[39mself\u001b[39m\u001b[39m.\u001b[39mfreq\n\u001b[0;32m-> 3156\u001b[0m \u001b[39mreturn\u001b[39;00m seasonal_decompose(X\u001b[39m.\u001b[39;49mdropna(), \u001b[39m*\u001b[39;49m\u001b[39m*\u001b[39;49mkwargs)\n",
      "File \u001b[0;32m~/opt/anaconda3/envs/ADS/lib/python3.10/site-packages/statsmodels/tsa/seasonal.py:159\u001b[0m, in \u001b[0;36mseasonal_decompose\u001b[0;34m(x, model, filt, period, two_sided, extrapolate_trend)\u001b[0m\n\u001b[1;32m    157\u001b[0m         period \u001b[39m=\u001b[39m pfreq\n\u001b[1;32m    158\u001b[0m     \u001b[39melse\u001b[39;00m:\n\u001b[0;32m--> 159\u001b[0m         \u001b[39mraise\u001b[39;00m \u001b[39mValueError\u001b[39;00m(\n\u001b[1;32m    160\u001b[0m             \u001b[39m\"\u001b[39m\u001b[39mYou must specify a period or x must be a pandas object with \u001b[39m\u001b[39m\"\u001b[39m\n\u001b[1;32m    161\u001b[0m             \u001b[39m\"\u001b[39m\u001b[39ma PeriodIndex or a DatetimeIndex with a freq not set to None\u001b[39m\u001b[39m\"\u001b[39m\n\u001b[1;32m    162\u001b[0m         )\n\u001b[1;32m    163\u001b[0m \u001b[39mif\u001b[39;00m x\u001b[39m.\u001b[39mshape[\u001b[39m0\u001b[39m] \u001b[39m<\u001b[39m \u001b[39m2\u001b[39m \u001b[39m*\u001b[39m pfreq:\n\u001b[1;32m    164\u001b[0m     \u001b[39mraise\u001b[39;00m \u001b[39mValueError\u001b[39;00m(\n\u001b[1;32m    165\u001b[0m         \u001b[39mf\u001b[39m\u001b[39m\"\u001b[39m\u001b[39mx must have 2 complete cycles requires \u001b[39m\u001b[39m{\u001b[39;00m\u001b[39m2\u001b[39m \u001b[39m*\u001b[39m pfreq\u001b[39m}\u001b[39;00m\u001b[39m \u001b[39m\u001b[39m\"\u001b[39m\n\u001b[1;32m    166\u001b[0m         \u001b[39mf\u001b[39m\u001b[39m\"\u001b[39m\u001b[39mobservations. x only has \u001b[39m\u001b[39m{\u001b[39;00mx\u001b[39m.\u001b[39mshape[\u001b[39m0\u001b[39m]\u001b[39m}\u001b[39;00m\u001b[39m observation(s)\u001b[39m\u001b[39m\"\u001b[39m\n\u001b[1;32m    167\u001b[0m     )\n",
      "\u001b[0;31mValueError\u001b[0m: You must specify a period or x must be a pandas object with a PeriodIndex or a DatetimeIndex with a freq not set to None"
     ]
    }
   ],
   "source": [
    "f.seasonal_decompose().plot()\n",
    "plt.show()"
   ]
  },
  {
   "cell_type": "code",
   "execution_count": 8,
   "metadata": {},
   "outputs": [],
   "source": [
    "stat, pval, _, _, _, _ = f.adf_test(full_res=True)"
   ]
  },
  {
   "cell_type": "code",
   "execution_count": 9,
   "metadata": {},
   "outputs": [
    {
     "data": {
      "text/plain": [
       "-11.011673804214869"
      ]
     },
     "execution_count": 9,
     "metadata": {},
     "output_type": "execute_result"
    }
   ],
   "source": [
    "stat"
   ]
  },
  {
   "cell_type": "code",
   "execution_count": 11,
   "metadata": {},
   "outputs": [
    {
     "data": {
      "text/plain": [
       "6.302534912688659e-20"
      ]
     },
     "execution_count": 11,
     "metadata": {},
     "output_type": "execute_result"
    }
   ],
   "source": [
    "pval"
   ]
  },
  {
   "cell_type": "code",
   "execution_count": 13,
   "metadata": {},
   "outputs": [],
   "source": [
    "f.set_test_length(12)\n",
    "f.generate_future_dates(12)\n",
    "f.set_estimator('lstm')"
   ]
  },
  {
   "cell_type": "code",
   "execution_count": 14,
   "metadata": {},
   "outputs": [
    {
     "name": "stderr",
     "output_type": "stream",
     "text": [
      "2022-09-28 22:21:52.381390: I tensorflow/core/platform/cpu_feature_guard.cc:193] This TensorFlow binary is optimized with oneAPI Deep Neural Network Library (oneDNN) to use the following CPU instructions in performance-critical operations:  AVX2 AVX512F AVX512_VNNI FMA\n",
      "To enable them in other operations, rebuild TensorFlow with the appropriate compiler flags.\n",
      "2022-09-28 22:22:15.642918: I tensorflow/core/platform/cpu_feature_guard.cc:193] This TensorFlow binary is optimized with oneAPI Deep Neural Network Library (oneDNN) to use the following CPU instructions in performance-critical operations:  AVX2 AVX512F AVX512_VNNI FMA\n",
      "To enable them in other operations, rebuild TensorFlow with the appropriate compiler flags.\n"
     ]
    },
    {
     "name": "stdout",
     "output_type": "stream",
     "text": [
      "379/379 [==============================] - 2s 2ms/step - loss: 0.0477\n",
      "1/1 [==============================] - 0s 395ms/step\n",
      "379/379 [==============================] - 2s 2ms/step - loss: 0.0478\n",
      "1/1 [==============================] - 0s 462ms/step\n",
      "379/379 [==============================] - 1s 2ms/step\n"
     ]
    },
    {
     "data": {
      "text/plain": [
       "<AxesSubplot:xlabel='Date', ylabel='Values'>"
      ]
     },
     "execution_count": 14,
     "metadata": {},
     "output_type": "execute_result"
    },
    {
     "data": {
      "image/png": "[encoded data removed]",
      "text/plain": [
       "<Figure size 460.8x345.6 with 1 Axes>"
      ]
     },
     "metadata": {},
     "output_type": "display_data"
    }
   ],
   "source": [
    "f.manual_forecast(call_me='lstm_default')\n",
    "f.plot_test_set(ci=True)"
   ]
  },
  {
   "cell_type": "code",
   "execution_count": 15,
   "metadata": {},
   "outputs": [
    {
     "name": "stdout",
     "output_type": "stream",
     "text": [
      "378/378 [==============================] - 4s 7ms/step - loss: 0.0407\n",
      "1/1 [==============================] - 0s 451ms/step\n",
      "378/378 [==============================] - 6s 7ms/step - loss: 0.0422\n",
      "1/1 [==============================] - 0s 483ms/step\n",
      "378/378 [==============================] - 1s 2ms/step\n"
     ]
    },
    {
     "data": {
      "text/plain": [
       "<AxesSubplot:xlabel='Date', ylabel='Values'>"
      ]
     },
     "execution_count": 15,
     "metadata": {},
     "output_type": "execute_result"
    },
    {
     "data": {
      "image/png": "[encoded data removed]",
      "text/plain": [
       "<Figure size 460.8x345.6 with 1 Axes>"
      ]
     },
     "metadata": {},
     "output_type": "display_data"
    }
   ],
   "source": [
    "f.manual_forecast(call_me='lstm_24lags',lags=24)\n",
    "f.plot_test_set(ci=True)"
   ]
  },
  {
   "cell_type": "code",
   "execution_count": 16,
   "metadata": {},
   "outputs": [
    {
     "name": "stdout",
     "output_type": "stream",
     "text": [
      "Epoch 1/5\n",
      "302/302 [==============================] - 4s 8ms/step - loss: 0.0409 - val_loss: 0.0397\n",
      "Epoch 2/5\n",
      "302/302 [==============================] - 3s 9ms/step - loss: 0.0364 - val_loss: 0.0397\n",
      "Epoch 3/5\n",
      "302/302 [==============================] - 3s 9ms/step - loss: 0.0363 - val_loss: 0.0394\n",
      "Epoch 4/5\n",
      "302/302 [==============================] - 3s 11ms/step - loss: 0.0363 - val_loss: 0.0396\n",
      "Epoch 5/5\n",
      "302/302 [==============================] - 2s 8ms/step - loss: 0.0362 - val_loss: 0.0396\n",
      "1/1 [==============================] - 0s 403ms/step\n",
      "Epoch 1/5\n",
      "303/303 [==============================] - 5s 9ms/step - loss: 0.0428 - val_loss: 0.0396\n",
      "Epoch 2/5\n",
      "303/303 [==============================] - 2s 7ms/step - loss: 0.0364 - val_loss: 0.0398\n",
      "Epoch 3/5\n",
      "303/303 [==============================] - 2s 7ms/step - loss: 0.0364 - val_loss: 0.0394\n",
      "Epoch 4/5\n",
      "303/303 [==============================] - 2s 7ms/step - loss: 0.0363 - val_loss: 0.0393\n",
      "Epoch 5/5\n",
      "303/303 [==============================] - 2s 8ms/step - loss: 0.0363 - val_loss: 0.0403\n",
      "1/1 [==============================] - 0s 415ms/step\n",
      "378/378 [==============================] - 1s 2ms/step\n"
     ]
    },
    {
     "data": {
      "text/plain": [
       "<AxesSubplot:xlabel='Date', ylabel='Values'>"
      ]
     },
     "execution_count": 16,
     "metadata": {},
     "output_type": "execute_result"
    },
    {
     "data": {
      "image/png": "[encoded data removed]",
      "text/plain": [
       "<Figure size 460.8x345.6 with 1 Axes>"
      ]
     },
     "metadata": {},
     "output_type": "display_data"
    }
   ],
   "source": [
    "f.manual_forecast(call_me='lstm_24lags_5epochs',\n",
    "                  lags=24,\n",
    "                  epochs=5,\n",
    "                  validation_split=.2,\n",
    "                  shuffle=True)\n",
    "f.plot_test_set(ci=True)"
   ]
  },
  {
   "cell_type": "code",
   "execution_count": 17,
   "metadata": {},
   "outputs": [
    {
     "name": "stdout",
     "output_type": "stream",
     "text": [
      "Epoch 1/25\n",
      "302/302 [==============================] - 14s 25ms/step - loss: 0.0407 - val_loss: 0.0404\n",
      "Epoch 2/25\n",
      "302/302 [==============================] - 9s 28ms/step - loss: 0.0366 - val_loss: 0.0398\n",
      "Epoch 3/25\n",
      "302/302 [==============================] - 7s 25ms/step - loss: 0.0365 - val_loss: 0.0402\n",
      "Epoch 4/25\n",
      "302/302 [==============================] - 6s 21ms/step - loss: 0.0365 - val_loss: 0.0393\n",
      "Epoch 5/25\n",
      "302/302 [==============================] - 6s 21ms/step - loss: 0.0364 - val_loss: 0.0393\n",
      "Epoch 6/25\n",
      "302/302 [==============================] - 6s 19ms/step - loss: 0.0363 - val_loss: 0.0395\n",
      "Epoch 7/25\n",
      "302/302 [==============================] - 6s 21ms/step - loss: 0.0364 - val_loss: 0.0393\n",
      "Epoch 8/25\n",
      "302/302 [==============================] - 7s 24ms/step - loss: 0.0363 - val_loss: 0.0393\n",
      "Epoch 9/25\n",
      "302/302 [==============================] - 6s 20ms/step - loss: 0.0363 - val_loss: 0.0392\n",
      "Epoch 10/25\n",
      "302/302 [==============================] - 6s 19ms/step - loss: 0.0362 - val_loss: 0.0393\n",
      "Epoch 11/25\n",
      "302/302 [==============================] - 6s 18ms/step - loss: 0.0362 - val_loss: 0.0393\n",
      "Epoch 12/25\n",
      "302/302 [==============================] - 6s 18ms/step - loss: 0.0362 - val_loss: 0.0396\n",
      "Epoch 13/25\n",
      "302/302 [==============================] - 6s 18ms/step - loss: 0.0362 - val_loss: 0.0393\n",
      "Epoch 14/25\n",
      "302/302 [==============================] - 6s 21ms/step - loss: 0.0362 - val_loss: 0.0393\n",
      "1/1 [==============================] - 1s 1s/step\n",
      "Epoch 1/25\n",
      "303/303 [==============================] - 11s 22ms/step - loss: 0.0411 - val_loss: 0.0400\n",
      "Epoch 2/25\n",
      "303/303 [==============================] - 6s 18ms/step - loss: 0.0367 - val_loss: 0.0398\n",
      "Epoch 3/25\n",
      "303/303 [==============================] - 6s 19ms/step - loss: 0.0366 - val_loss: 0.0398\n",
      "Epoch 4/25\n",
      "303/303 [==============================] - 6s 19ms/step - loss: 0.0365 - val_loss: 0.0394\n",
      "Epoch 5/25\n",
      "303/303 [==============================] - 6s 19ms/step - loss: 0.0365 - val_loss: 0.0394\n",
      "Epoch 6/25\n",
      "303/303 [==============================] - 6s 20ms/step - loss: 0.0364 - val_loss: 0.0395\n",
      "Epoch 7/25\n",
      "303/303 [==============================] - 8s 26ms/step - loss: 0.0364 - val_loss: 0.0394\n",
      "Epoch 8/25\n",
      "303/303 [==============================] - 6s 19ms/step - loss: 0.0364 - val_loss: 0.0392\n",
      "Epoch 9/25\n",
      "303/303 [==============================] - 6s 20ms/step - loss: 0.0363 - val_loss: 0.0396\n",
      "Epoch 10/25\n",
      "303/303 [==============================] - 7s 24ms/step - loss: 0.0363 - val_loss: 0.0401\n",
      "Epoch 11/25\n",
      "303/303 [==============================] - 7s 24ms/step - loss: 0.0363 - val_loss: 0.0395\n",
      "Epoch 12/25\n",
      "303/303 [==============================] - 6s 19ms/step - loss: 0.0363 - val_loss: 0.0396\n",
      "Epoch 13/25\n",
      "303/303 [==============================] - 7s 24ms/step - loss: 0.0362 - val_loss: 0.0395\n",
      "1/1 [==============================] - 1s 1s/step\n",
      "378/378 [==============================] - 2s 4ms/step\n"
     ]
    },
    {
     "data": {
      "text/plain": [
       "<AxesSubplot:xlabel='Date', ylabel='Values'>"
      ]
     },
     "execution_count": 17,
     "metadata": {},
     "output_type": "execute_result"
    },
    {
     "data": {
      "image/png": "[encoded data removed]",
      "text/plain": [
       "<Figure size 460.8x345.6 with 1 Axes>"
      ]
     },
     "metadata": {},
     "output_type": "display_data"
    }
   ],
   "source": [
    "from tensorflow.keras.callbacks import EarlyStopping\n",
    "f.manual_forecast(call_me='lstm_24lags_earlystop_3layers',\n",
    "                  lags=24,\n",
    "                  epochs=25,\n",
    "                  validation_split=.2,\n",
    "                  shuffle=True,\n",
    "                  callbacks=EarlyStopping(monitor='val_loss',\n",
    "                                          patience=5),\n",
    "                  lstm_layer_sizes=(16,16,16),\n",
    "                  dropout=(0,0,0))\n",
    "f.plot_test_set(ci=True)"
   ]
  },
  {
   "cell_type": "code",
   "execution_count": 18,
   "metadata": {},
   "outputs": [
    {
     "name": "stdout",
     "output_type": "stream",
     "text": [
      "Epoch 1/15\n",
      "302/302 [==============================] - 28s 73ms/step - loss: 0.0384 - val_loss: 0.0398\n",
      "Epoch 2/15\n",
      "302/302 [==============================] - 20s 66ms/step - loss: 0.0367 - val_loss: 0.0397\n",
      "Epoch 3/15\n",
      "302/302 [==============================] - 25s 82ms/step - loss: 0.0366 - val_loss: 0.0397\n",
      "Epoch 4/15\n",
      "302/302 [==============================] - 27s 89ms/step - loss: 0.0366 - val_loss: 0.0394\n",
      "Epoch 5/15\n",
      "302/302 [==============================] - 26s 87ms/step - loss: 0.0364 - val_loss: 0.0399\n",
      "Epoch 6/15\n",
      "302/302 [==============================] - 27s 91ms/step - loss: 0.0364 - val_loss: 0.0405\n",
      "Epoch 7/15\n",
      "302/302 [==============================] - 19s 63ms/step - loss: 0.0364 - val_loss: 0.0396\n",
      "Epoch 8/15\n",
      "302/302 [==============================] - 19s 64ms/step - loss: 0.0363 - val_loss: 0.0393\n",
      "Epoch 9/15\n",
      "302/302 [==============================] - 24s 79ms/step - loss: 0.0362 - val_loss: 0.0401\n",
      "Epoch 10/15\n",
      "302/302 [==============================] - 23s 75ms/step - loss: 0.0363 - val_loss: 0.0392\n",
      "Epoch 11/15\n",
      "302/302 [==============================] - 20s 68ms/step - loss: 0.0362 - val_loss: 0.0397\n",
      "Epoch 12/15\n",
      "302/302 [==============================] - 27s 90ms/step - loss: 0.0362 - val_loss: 0.0395\n",
      "Epoch 13/15\n",
      "302/302 [==============================] - 19s 61ms/step - loss: 0.0362 - val_loss: 0.0394\n",
      "Epoch 14/15\n",
      "302/302 [==============================] - 22s 74ms/step - loss: 0.0362 - val_loss: 0.0395\n",
      "Epoch 15/15\n",
      "302/302 [==============================] - 26s 85ms/step - loss: 0.0362 - val_loss: 0.0392\n",
      "1/1 [==============================] - 2s 2s/step\n",
      "Epoch 1/15\n",
      "302/302 [==============================] - 27s 68ms/step - loss: 0.0387 - val_loss: 0.0400\n",
      "Epoch 2/15\n",
      "302/302 [==============================] - 19s 63ms/step - loss: 0.0369 - val_loss: 0.0400\n",
      "Epoch 3/15\n",
      "302/302 [==============================] - 25s 82ms/step - loss: 0.0367 - val_loss: 0.0396\n",
      "Epoch 4/15\n",
      "302/302 [==============================] - 21s 71ms/step - loss: 0.0366 - val_loss: 0.0397\n",
      "Epoch 5/15\n",
      "302/302 [==============================] - 22s 73ms/step - loss: 0.0365 - val_loss: 0.0395\n",
      "Epoch 6/15\n",
      "302/302 [==============================] - 20s 68ms/step - loss: 0.0364 - val_loss: 0.0396\n",
      "Epoch 7/15\n",
      "302/302 [==============================] - 23s 76ms/step - loss: 0.0363 - val_loss: 0.0393\n",
      "Epoch 8/15\n",
      "302/302 [==============================] - 18s 61ms/step - loss: 0.0363 - val_loss: 0.0395\n",
      "Epoch 9/15\n",
      "302/302 [==============================] - 20s 65ms/step - loss: 0.0363 - val_loss: 0.0391\n",
      "Epoch 10/15\n",
      "302/302 [==============================] - 27s 89ms/step - loss: 0.0363 - val_loss: 0.0390\n",
      "Epoch 11/15\n",
      "302/302 [==============================] - 19s 64ms/step - loss: 0.0363 - val_loss: 0.0395\n",
      "Epoch 12/15\n",
      "302/302 [==============================] - 24s 79ms/step - loss: 0.0362 - val_loss: 0.0393\n",
      "Epoch 13/15\n",
      "302/302 [==============================] - 22s 74ms/step - loss: 0.0362 - val_loss: 0.0393\n",
      "Epoch 14/15\n",
      "302/302 [==============================] - 23s 77ms/step - loss: 0.0362 - val_loss: 0.0393\n",
      "Epoch 15/15\n",
      "302/302 [==============================] - 21s 70ms/step - loss: 0.0362 - val_loss: 0.0393\n"
     ]
    },
    {
     "data": {
      "image/png": "[encoded data removed]",
      "text/plain": [
       "<Figure size 1080x576 with 1 Axes>"
      ]
     },
     "metadata": {},
     "output_type": "display_data"
    },
    {
     "name": "stdout",
     "output_type": "stream",
     "text": [
      "1/1 [==============================] - 2s 2s/step\n",
      "378/378 [==============================] - 8s 21ms/step\n"
     ]
    },
    {
     "data": {
      "text/plain": [
       "<AxesSubplot:xlabel='Date', ylabel='Values'>"
      ]
     },
     "execution_count": 18,
     "metadata": {},
     "output_type": "execute_result"
    },
    {
     "data": {
      "image/png": "[encoded data removed]",
      "text/plain": [
       "<Figure size 460.8x345.6 with 1 Axes>"
      ]
     },
     "metadata": {},
     "output_type": "display_data"
    }
   ],
   "source": [
    "f.manual_forecast(call_me='lstm_best',\n",
    "                  lags=36,\n",
    "                  batch_size=32,\n",
    "                  epochs=15,\n",
    "                  validation_split=.2,\n",
    "                  shuffle=True,\n",
    "                  activation='tanh',\n",
    "                  optimizer='Adam',\n",
    "                  learning_rate=0.001,\n",
    "                  lstm_layer_sizes=(72,)*4,\n",
    "                  dropout=(0,)*4,\n",
    "                  plot_loss=True)\n",
    "f.plot_test_set(order_by='LevelTestSetMAPE',models='top_2',ci=True)"
   ]
  },
  {
   "cell_type": "code",
   "execution_count": 19,
   "metadata": {},
   "outputs": [],
   "source": [
    "f.set_estimator('mlr') # 1. choose the mlr estimator\n",
    "f.add_ar_terms(24) # 2. add regressors (24 lagged terms)\n",
    "f.add_seasonal_regressors('month','quarter',dummy=True) # 2.\n",
    "f.add_seasonal_regressors('year') # 2.\n",
    "f.add_time_trend() # 2.\n",
    "f.diff() # 3. difference non-stationary data"
   ]
  },
  {
   "cell_type": "code",
   "execution_count": 20,
   "metadata": {},
   "outputs": [
    {
     "data": {
      "text/plain": [
       "<AxesSubplot:xlabel='Date', ylabel='Values'>"
      ]
     },
     "execution_count": 20,
     "metadata": {},
     "output_type": "execute_result"
    },
    {
     "data": {
      "image/png": "[encoded data removed]",
      "text/plain": [
       "<Figure size 460.8x345.6 with 1 Axes>"
      ]
     },
     "metadata": {},
     "output_type": "display_data"
    }
   ],
   "source": [
    "f.manual_forecast()\n",
    "f.plot_test_set(order_by='LevelTestSetMAPE',models='top_2')"
   ]
  },
  {
   "cell_type": "code",
   "execution_count": 21,
   "metadata": {},
   "outputs": [
    {
     "data": {
      "text/plain": [
       "<AxesSubplot:xlabel='Date', ylabel='Values'>"
      ]
     },
     "execution_count": 21,
     "metadata": {},
     "output_type": "execute_result"
    },
    {
     "data": {
      "image/png": "[encoded data removed]",
      "text/plain": [
       "<Figure size 460.8x345.6 with 1 Axes>"
      ]
     },
     "metadata": {},
     "output_type": "display_data"
    }
   ],
   "source": [
    "f.plot_test_set(models='mlr',ci=True)"
   ]
  },
  {
   "cell_type": "code",
   "execution_count": 22,
   "metadata": {},
   "outputs": [
    {
     "data": {
      "text/plain": [
       "<AxesSubplot:xlabel='Date', ylabel='Values'>"
      ]
     },
     "execution_count": 22,
     "metadata": {},
     "output_type": "execute_result"
    },
    {
     "data": {
      "image/png": "[encoded data removed]",
      "text/plain": [
       "<Figure size 460.8x345.6 with 1 Axes>"
      ]
     },
     "metadata": {},
     "output_type": "display_data"
    }
   ],
   "source": [
    "f.plot(models=['mlr','lstm_best'],\n",
    "       order_by='LevelTestSetMAPE',\n",
    "       level=True)"
   ]
  },
  {
   "cell_type": "code",
   "execution_count": 23,
   "metadata": {},
   "outputs": [
    {
     "data": {
      "text/html": [
       "<div>\n",
       "<style scoped>\n",
       "    .dataframe tbody tr th:only-of-type {\n",
       "        vertical-align: middle;\n",
       "    }\n",
       "\n",
       "    .dataframe tbody tr th {\n",
       "        vertical-align: top;\n",
       "    }\n",
       "\n",
       "    .dataframe thead th {\n",
       "        text-align: right;\n",
       "    }\n",
       "</style>\n",
       "<table border=\"1\" class=\"dataframe\">\n",
       "  <thead>\n",
       "    <tr style=\"text-align: right;\">\n",
       "      <th></th>\n",
       "      <th>ModelNickname</th>\n",
       "      <th>LevelTestSetMAPE</th>\n",
       "      <th>LevelTestSetRMSE</th>\n",
       "      <th>LevelTestSetR2</th>\n",
       "      <th>best_model</th>\n",
       "    </tr>\n",
       "  </thead>\n",
       "  <tbody>\n",
       "    <tr>\n",
       "      <th>0</th>\n",
       "      <td>mlr</td>\n",
       "      <td>0.378066</td>\n",
       "      <td>348.069077</td>\n",
       "      <td>-2.021105</td>\n",
       "      <td>True</td>\n",
       "    </tr>\n",
       "    <tr>\n",
       "      <th>1</th>\n",
       "      <td>lstm_best</td>\n",
       "      <td>0.391851</td>\n",
       "      <td>362.551999</td>\n",
       "      <td>-2.277748</td>\n",
       "      <td>False</td>\n",
       "    </tr>\n",
       "    <tr>\n",
       "      <th>2</th>\n",
       "      <td>lstm_default</td>\n",
       "      <td>0.402165</td>\n",
       "      <td>368.011348</td>\n",
       "      <td>-2.377205</td>\n",
       "      <td>False</td>\n",
       "    </tr>\n",
       "    <tr>\n",
       "      <th>3</th>\n",
       "      <td>lstm_24lags</td>\n",
       "      <td>0.409990</td>\n",
       "      <td>379.543137</td>\n",
       "      <td>-2.592173</td>\n",
       "      <td>False</td>\n",
       "    </tr>\n",
       "    <tr>\n",
       "      <th>4</th>\n",
       "      <td>lstm_24lags_earlystop_3layers</td>\n",
       "      <td>0.414276</td>\n",
       "      <td>373.676302</td>\n",
       "      <td>-2.481978</td>\n",
       "      <td>False</td>\n",
       "    </tr>\n",
       "    <tr>\n",
       "      <th>5</th>\n",
       "      <td>lstm_24lags_5epochs</td>\n",
       "      <td>0.416096</td>\n",
       "      <td>380.521374</td>\n",
       "      <td>-2.610714</td>\n",
       "      <td>False</td>\n",
       "    </tr>\n",
       "  </tbody>\n",
       "</table>\n",
       "</div>"
      ],
      "text/plain": [
       "                   ModelNickname  LevelTestSetMAPE  LevelTestSetRMSE  \\\n",
       "0                            mlr          0.378066        348.069077   \n",
       "1                      lstm_best          0.391851        362.551999   \n",
       "2                   lstm_default          0.402165        368.011348   \n",
       "3                    lstm_24lags          0.409990        379.543137   \n",
       "4  lstm_24lags_earlystop_3layers          0.414276        373.676302   \n",
       "5            lstm_24lags_5epochs          0.416096        380.521374   \n",
       "\n",
       "   LevelTestSetR2  best_model  \n",
       "0       -2.021105        True  \n",
       "1       -2.277748       False  \n",
       "2       -2.377205       False  \n",
       "3       -2.592173       False  \n",
       "4       -2.481978       False  \n",
       "5       -2.610714       False  "
      ]
     },
     "execution_count": 23,
     "metadata": {},
     "output_type": "execute_result"
    }
   ],
   "source": [
    "f.export('model_summaries',determine_best_by='LevelTestSetMAPE')[\n",
    "    ['ModelNickname',\n",
    "     'LevelTestSetMAPE',\n",
    "     'LevelTestSetRMSE',\n",
    "     'LevelTestSetR2',\n",
    "     'best_model']\n",
    "]"
   ]
  },
  {
   "cell_type": "code",
   "execution_count": 24,
   "metadata": {},
   "outputs": [
    {
     "data": {
      "text/html": [
       "<div>\n",
       "<style scoped>\n",
       "    .dataframe tbody tr th:only-of-type {\n",
       "        vertical-align: middle;\n",
       "    }\n",
       "\n",
       "    .dataframe tbody tr th {\n",
       "        vertical-align: top;\n",
       "    }\n",
       "\n",
       "    .dataframe thead th {\n",
       "        text-align: right;\n",
       "    }\n",
       "</style>\n",
       "<table border=\"1\" class=\"dataframe\">\n",
       "  <thead>\n",
       "    <tr style=\"text-align: right;\">\n",
       "      <th></th>\n",
       "      <th>date</th>\n",
       "      <th>postcode</th>\n",
       "      <th>latitude</th>\n",
       "      <th>longitude</th>\n",
       "      <th>bedrooms</th>\n",
       "      <th>bathrooms</th>\n",
       "      <th>property_type</th>\n",
       "      <th>price</th>\n",
       "      <th>postcode_property_count</th>\n",
       "      <th>public-service-duration</th>\n",
       "      <th>...</th>\n",
       "      <th>pri-1-10</th>\n",
       "      <th>pri-11-50</th>\n",
       "      <th>pri-51-100</th>\n",
       "      <th>pri-101-150</th>\n",
       "      <th>pri-150+</th>\n",
       "      <th>sec-1-10</th>\n",
       "      <th>sec-11-50</th>\n",
       "      <th>sec-51-100</th>\n",
       "      <th>sec-101-150</th>\n",
       "      <th>sec-150+</th>\n",
       "    </tr>\n",
       "  </thead>\n",
       "  <tbody>\n",
       "    <tr>\n",
       "      <th>0</th>\n",
       "      <td>2022-09-28</td>\n",
       "      <td>3029</td>\n",
       "      <td>-37.836800</td>\n",
       "      <td>144.681992</td>\n",
       "      <td>3</td>\n",
       "      <td>2</td>\n",
       "      <td>House</td>\n",
       "      <td>410.0</td>\n",
       "      <td>264</td>\n",
       "      <td>3.611667</td>\n",
       "      <td>...</td>\n",
       "      <td>0.0</td>\n",
       "      <td>1.0</td>\n",
       "      <td>0.0</td>\n",
       "      <td>0.0</td>\n",
       "      <td>0.0</td>\n",
       "      <td>0.0</td>\n",
       "      <td>0.0</td>\n",
       "      <td>1.0</td>\n",
       "      <td>1.0</td>\n",
       "      <td>8.0</td>\n",
       "    </tr>\n",
       "    <tr>\n",
       "      <th>1</th>\n",
       "      <td>2022-09-28</td>\n",
       "      <td>3029</td>\n",
       "      <td>-37.858776</td>\n",
       "      <td>144.670990</td>\n",
       "      <td>4</td>\n",
       "      <td>2</td>\n",
       "      <td>House</td>\n",
       "      <td>420.0</td>\n",
       "      <td>264</td>\n",
       "      <td>3.611667</td>\n",
       "      <td>...</td>\n",
       "      <td>0.0</td>\n",
       "      <td>1.0</td>\n",
       "      <td>0.0</td>\n",
       "      <td>0.0</td>\n",
       "      <td>0.0</td>\n",
       "      <td>0.0</td>\n",
       "      <td>0.0</td>\n",
       "      <td>1.0</td>\n",
       "      <td>1.0</td>\n",
       "      <td>8.0</td>\n",
       "    </tr>\n",
       "    <tr>\n",
       "      <th>2</th>\n",
       "      <td>2022-09-28</td>\n",
       "      <td>3029</td>\n",
       "      <td>-37.831726</td>\n",
       "      <td>144.721200</td>\n",
       "      <td>4</td>\n",
       "      <td>2</td>\n",
       "      <td>New House &amp; Land</td>\n",
       "      <td>440.0</td>\n",
       "      <td>264</td>\n",
       "      <td>3.611667</td>\n",
       "      <td>...</td>\n",
       "      <td>0.0</td>\n",
       "      <td>1.0</td>\n",
       "      <td>0.0</td>\n",
       "      <td>0.0</td>\n",
       "      <td>0.0</td>\n",
       "      <td>0.0</td>\n",
       "      <td>0.0</td>\n",
       "      <td>1.0</td>\n",
       "      <td>1.0</td>\n",
       "      <td>8.0</td>\n",
       "    </tr>\n",
       "    <tr>\n",
       "      <th>3</th>\n",
       "      <td>2022-09-28</td>\n",
       "      <td>3029</td>\n",
       "      <td>-37.850758</td>\n",
       "      <td>144.712234</td>\n",
       "      <td>3</td>\n",
       "      <td>3</td>\n",
       "      <td>House</td>\n",
       "      <td>415.0</td>\n",
       "      <td>264</td>\n",
       "      <td>3.611667</td>\n",
       "      <td>...</td>\n",
       "      <td>0.0</td>\n",
       "      <td>1.0</td>\n",
       "      <td>0.0</td>\n",
       "      <td>0.0</td>\n",
       "      <td>0.0</td>\n",
       "      <td>0.0</td>\n",
       "      <td>0.0</td>\n",
       "      <td>1.0</td>\n",
       "      <td>1.0</td>\n",
       "      <td>8.0</td>\n",
       "    </tr>\n",
       "    <tr>\n",
       "      <th>4</th>\n",
       "      <td>2022-09-28</td>\n",
       "      <td>3029</td>\n",
       "      <td>-37.843980</td>\n",
       "      <td>144.717514</td>\n",
       "      <td>3</td>\n",
       "      <td>2</td>\n",
       "      <td>House</td>\n",
       "      <td>410.0</td>\n",
       "      <td>264</td>\n",
       "      <td>3.611667</td>\n",
       "      <td>...</td>\n",
       "      <td>0.0</td>\n",
       "      <td>1.0</td>\n",
       "      <td>0.0</td>\n",
       "      <td>0.0</td>\n",
       "      <td>0.0</td>\n",
       "      <td>0.0</td>\n",
       "      <td>0.0</td>\n",
       "      <td>1.0</td>\n",
       "      <td>1.0</td>\n",
       "      <td>8.0</td>\n",
       "    </tr>\n",
       "    <tr>\n",
       "      <th>...</th>\n",
       "      <td>...</td>\n",
       "      <td>...</td>\n",
       "      <td>...</td>\n",
       "      <td>...</td>\n",
       "      <td>...</td>\n",
       "      <td>...</td>\n",
       "      <td>...</td>\n",
       "      <td>...</td>\n",
       "      <td>...</td>\n",
       "      <td>...</td>\n",
       "      <td>...</td>\n",
       "      <td>...</td>\n",
       "      <td>...</td>\n",
       "      <td>...</td>\n",
       "      <td>...</td>\n",
       "      <td>...</td>\n",
       "      <td>...</td>\n",
       "      <td>...</td>\n",
       "      <td>...</td>\n",
       "      <td>...</td>\n",
       "      <td>...</td>\n",
       "    </tr>\n",
       "    <tr>\n",
       "      <th>12122</th>\n",
       "      <td>2022-09-28</td>\n",
       "      <td>3934</td>\n",
       "      <td>-38.248100</td>\n",
       "      <td>145.041611</td>\n",
       "      <td>3</td>\n",
       "      <td>2</td>\n",
       "      <td>Townhouse</td>\n",
       "      <td>625.0</td>\n",
       "      <td>13</td>\n",
       "      <td>14.985667</td>\n",
       "      <td>...</td>\n",
       "      <td>0.0</td>\n",
       "      <td>0.0</td>\n",
       "      <td>0.0</td>\n",
       "      <td>0.0</td>\n",
       "      <td>0.0</td>\n",
       "      <td>0.0</td>\n",
       "      <td>0.0</td>\n",
       "      <td>0.0</td>\n",
       "      <td>1.0</td>\n",
       "      <td>1.0</td>\n",
       "    </tr>\n",
       "    <tr>\n",
       "      <th>12123</th>\n",
       "      <td>2022-09-28</td>\n",
       "      <td>3934</td>\n",
       "      <td>-38.285440</td>\n",
       "      <td>144.995331</td>\n",
       "      <td>4</td>\n",
       "      <td>2</td>\n",
       "      <td>House</td>\n",
       "      <td>720.0</td>\n",
       "      <td>13</td>\n",
       "      <td>14.985667</td>\n",
       "      <td>...</td>\n",
       "      <td>0.0</td>\n",
       "      <td>0.0</td>\n",
       "      <td>0.0</td>\n",
       "      <td>0.0</td>\n",
       "      <td>0.0</td>\n",
       "      <td>0.0</td>\n",
       "      <td>0.0</td>\n",
       "      <td>0.0</td>\n",
       "      <td>1.0</td>\n",
       "      <td>1.0</td>\n",
       "    </tr>\n",
       "    <tr>\n",
       "      <th>12124</th>\n",
       "      <td>2022-09-28</td>\n",
       "      <td>3934</td>\n",
       "      <td>-38.250070</td>\n",
       "      <td>145.052078</td>\n",
       "      <td>4</td>\n",
       "      <td>2</td>\n",
       "      <td>House</td>\n",
       "      <td>700.0</td>\n",
       "      <td>13</td>\n",
       "      <td>14.985667</td>\n",
       "      <td>...</td>\n",
       "      <td>0.0</td>\n",
       "      <td>0.0</td>\n",
       "      <td>0.0</td>\n",
       "      <td>0.0</td>\n",
       "      <td>0.0</td>\n",
       "      <td>0.0</td>\n",
       "      <td>0.0</td>\n",
       "      <td>0.0</td>\n",
       "      <td>1.0</td>\n",
       "      <td>1.0</td>\n",
       "    </tr>\n",
       "    <tr>\n",
       "      <th>12125</th>\n",
       "      <td>2022-09-28</td>\n",
       "      <td>3934</td>\n",
       "      <td>-38.290226</td>\n",
       "      <td>145.016418</td>\n",
       "      <td>3</td>\n",
       "      <td>2</td>\n",
       "      <td>House</td>\n",
       "      <td>870.0</td>\n",
       "      <td>13</td>\n",
       "      <td>14.985667</td>\n",
       "      <td>...</td>\n",
       "      <td>0.0</td>\n",
       "      <td>0.0</td>\n",
       "      <td>0.0</td>\n",
       "      <td>0.0</td>\n",
       "      <td>0.0</td>\n",
       "      <td>0.0</td>\n",
       "      <td>0.0</td>\n",
       "      <td>0.0</td>\n",
       "      <td>1.0</td>\n",
       "      <td>1.0</td>\n",
       "    </tr>\n",
       "    <tr>\n",
       "      <th>12126</th>\n",
       "      <td>2022-09-28</td>\n",
       "      <td>3934</td>\n",
       "      <td>-38.271950</td>\n",
       "      <td>145.003632</td>\n",
       "      <td>4</td>\n",
       "      <td>3</td>\n",
       "      <td>House</td>\n",
       "      <td>1200.0</td>\n",
       "      <td>13</td>\n",
       "      <td>14.985667</td>\n",
       "      <td>...</td>\n",
       "      <td>0.0</td>\n",
       "      <td>0.0</td>\n",
       "      <td>0.0</td>\n",
       "      <td>0.0</td>\n",
       "      <td>0.0</td>\n",
       "      <td>0.0</td>\n",
       "      <td>0.0</td>\n",
       "      <td>0.0</td>\n",
       "      <td>1.0</td>\n",
       "      <td>1.0</td>\n",
       "    </tr>\n",
       "  </tbody>\n",
       "</table>\n",
       "<p>12127 rows × 30 columns</p>\n",
       "</div>"
      ],
      "text/plain": [
       "             date  postcode   latitude   longitude  bedrooms  bathrooms  \\\n",
       "0      2022-09-28      3029 -37.836800  144.681992         3          2   \n",
       "1      2022-09-28      3029 -37.858776  144.670990         4          2   \n",
       "2      2022-09-28      3029 -37.831726  144.721200         4          2   \n",
       "3      2022-09-28      3029 -37.850758  144.712234         3          3   \n",
       "4      2022-09-28      3029 -37.843980  144.717514         3          2   \n",
       "...           ...       ...        ...         ...       ...        ...   \n",
       "12122  2022-09-28      3934 -38.248100  145.041611         3          2   \n",
       "12123  2022-09-28      3934 -38.285440  144.995331         4          2   \n",
       "12124  2022-09-28      3934 -38.250070  145.052078         4          2   \n",
       "12125  2022-09-28      3934 -38.290226  145.016418         3          2   \n",
       "12126  2022-09-28      3934 -38.271950  145.003632         4          3   \n",
       "\n",
       "          property_type   price  postcode_property_count  \\\n",
       "0                 House   410.0                      264   \n",
       "1                 House   420.0                      264   \n",
       "2      New House & Land   440.0                      264   \n",
       "3                 House   415.0                      264   \n",
       "4                 House   410.0                      264   \n",
       "...                 ...     ...                      ...   \n",
       "12122         Townhouse   625.0                       13   \n",
       "12123             House   720.0                       13   \n",
       "12124             House   700.0                       13   \n",
       "12125             House   870.0                       13   \n",
       "12126             House  1200.0                       13   \n",
       "\n",
       "       public-service-duration  ...  pri-1-10  pri-11-50  pri-51-100  \\\n",
       "0                     3.611667  ...       0.0        1.0         0.0   \n",
       "1                     3.611667  ...       0.0        1.0         0.0   \n",
       "2                     3.611667  ...       0.0        1.0         0.0   \n",
       "3                     3.611667  ...       0.0        1.0         0.0   \n",
       "4                     3.611667  ...       0.0        1.0         0.0   \n",
       "...                        ...  ...       ...        ...         ...   \n",
       "12122                14.985667  ...       0.0        0.0         0.0   \n",
       "12123                14.985667  ...       0.0        0.0         0.0   \n",
       "12124                14.985667  ...       0.0        0.0         0.0   \n",
       "12125                14.985667  ...       0.0        0.0         0.0   \n",
       "12126                14.985667  ...       0.0        0.0         0.0   \n",
       "\n",
       "       pri-101-150  pri-150+  sec-1-10  sec-11-50  sec-51-100  sec-101-150  \\\n",
       "0              0.0       0.0       0.0        0.0         1.0          1.0   \n",
       "1              0.0       0.0       0.0        0.0         1.0          1.0   \n",
       "2              0.0       0.0       0.0        0.0         1.0          1.0   \n",
       "3              0.0       0.0       0.0        0.0         1.0          1.0   \n",
       "4              0.0       0.0       0.0        0.0         1.0          1.0   \n",
       "...            ...       ...       ...        ...         ...          ...   \n",
       "12122          0.0       0.0       0.0        0.0         0.0          1.0   \n",
       "12123          0.0       0.0       0.0        0.0         0.0          1.0   \n",
       "12124          0.0       0.0       0.0        0.0         0.0          1.0   \n",
       "12125          0.0       0.0       0.0        0.0         0.0          1.0   \n",
       "12126          0.0       0.0       0.0        0.0         0.0          1.0   \n",
       "\n",
       "       sec-150+  \n",
       "0           8.0  \n",
       "1           8.0  \n",
       "2           8.0  \n",
       "3           8.0  \n",
       "4           8.0  \n",
       "...         ...  \n",
       "12122       1.0  \n",
       "12123       1.0  \n",
       "12124       1.0  \n",
       "12125       1.0  \n",
       "12126       1.0  \n",
       "\n",
       "[12127 rows x 30 columns]"
      ]
     },
     "execution_count": 24,
     "metadata": {},
     "output_type": "execute_result"
    }
   ],
   "source": [
    "model_data"
   ]
  },
  {
   "cell_type": "code",
   "execution_count": 5,
   "metadata": {},
   "outputs": [],
   "source": [
    "list_of_prediction = []"
   ]
  },
  {
   "cell_type": "code",
   "execution_count": 26,
   "metadata": {},
   "outputs": [
    {
     "ename": "AttributeError",
     "evalue": "'str' object has no attribute 'astype'",
     "output_type": "error",
     "traceback": [
      "\u001b[0;31m---------------------------------------------------------------------------\u001b[0m",
      "\u001b[0;31mAttributeError\u001b[0m                            Traceback (most recent call last)",
      "\u001b[1;32m/Users/quzihanwu/Desktop/generic-real-estate-consulting-project-group-7/models/model.ipynb Cell 24\u001b[0m in \u001b[0;36m<cell line: 1>\u001b[0;34m()\u001b[0m\n\u001b[1;32m      <a href='vscode-notebook-cell:/Users/quzihanwu/Desktop/generic-real-estate-consulting-project-group-7/models/model.ipynb#X33sZmlsZQ%3D%3D?line=1'>2</a>\u001b[0m data2 \u001b[39m=\u001b[39m model_data\u001b[39m.\u001b[39mloc[i]\u001b[39m.\u001b[39mT\n\u001b[1;32m      <a href='vscode-notebook-cell:/Users/quzihanwu/Desktop/generic-real-estate-consulting-project-group-7/models/model.ipynb#X33sZmlsZQ%3D%3D?line=2'>3</a>\u001b[0m data2 \u001b[39m=\u001b[39m data2[\u001b[39m0\u001b[39m]\n\u001b[0;32m----> <a href='vscode-notebook-cell:/Users/quzihanwu/Desktop/generic-real-estate-consulting-project-group-7/models/model.ipynb#X33sZmlsZQ%3D%3D?line=3'>4</a>\u001b[0m data2 \u001b[39m=\u001b[39m data2\u001b[39m.\u001b[39;49mastype(\u001b[39mfloat\u001b[39m)\n\u001b[1;32m      <a href='vscode-notebook-cell:/Users/quzihanwu/Desktop/generic-real-estate-consulting-project-group-7/models/model.ipynb#X33sZmlsZQ%3D%3D?line=4'>5</a>\u001b[0m model \u001b[39m=\u001b[39m pm\u001b[39m.\u001b[39mauto_arima(data2, \n\u001b[1;32m      <a href='vscode-notebook-cell:/Users/quzihanwu/Desktop/generic-real-estate-consulting-project-group-7/models/model.ipynb#X33sZmlsZQ%3D%3D?line=5'>6</a>\u001b[0m                       start_p \u001b[39m=\u001b[39m \u001b[39m1\u001b[39m,\n\u001b[1;32m      <a href='vscode-notebook-cell:/Users/quzihanwu/Desktop/generic-real-estate-consulting-project-group-7/models/model.ipynb#X33sZmlsZQ%3D%3D?line=6'>7</a>\u001b[0m                       start_1 \u001b[39m=\u001b[39m \u001b[39m1\u001b[39m, \n\u001b[0;32m   (...)\u001b[0m\n\u001b[1;32m     <a href='vscode-notebook-cell:/Users/quzihanwu/Desktop/generic-real-estate-consulting-project-group-7/models/model.ipynb#X33sZmlsZQ%3D%3D?line=17'>18</a>\u001b[0m                       suppress_warnings\u001b[39m=\u001b[39m\u001b[39mTrue\u001b[39;00m, \n\u001b[1;32m     <a href='vscode-notebook-cell:/Users/quzihanwu/Desktop/generic-real-estate-consulting-project-group-7/models/model.ipynb#X33sZmlsZQ%3D%3D?line=18'>19</a>\u001b[0m                       stepwise\u001b[39m=\u001b[39m\u001b[39mTrue\u001b[39;00m)\n\u001b[1;32m     <a href='vscode-notebook-cell:/Users/quzihanwu/Desktop/generic-real-estate-consulting-project-group-7/models/model.ipynb#X33sZmlsZQ%3D%3D?line=19'>20</a>\u001b[0m n_period \u001b[39m=\u001b[39m \u001b[39m1\u001b[39m\n",
      "\u001b[0;31mAttributeError\u001b[0m: 'str' object has no attribute 'astype'"
     ]
    }
   ],
   "source": [
    "for i in range (0, 5):\n",
    "    data2 = model_data.loc[i].T\n",
    "    data2 = data2[0]\n",
    "    data2 = data2.astype(float)\n",
    "    model = pm.auto_arima(data2, \n",
    "                          start_p = 1,\n",
    "                          start_1 = 1, \n",
    "                          test='adf',       \n",
    "                          max_p=5,\n",
    "                          max_q=5, \n",
    "                          m=2,              \n",
    "                          d=None,           \n",
    "                          seasonal=False, \n",
    "                          start_P=0, \n",
    "                          D=0, \n",
    "                          trace=True,\n",
    "                          error_action='ignore',  \n",
    "                          suppress_warnings=True, \n",
    "                          stepwise=True)\n",
    "    n_period = 1\n",
    "    fc, confint = model.predict(n_periods=n_period, return_conf_int=True)\n",
    "    fc = fc.tolist()\n",
    "    list_of_prediction.append(fc)"
   ]
  },
  {
   "cell_type": "code",
   "execution_count": 29,
   "metadata": {},
   "outputs": [],
   "source": [
    "data2 = model_data.loc[0].T\n",
    "data2 = data2[0]"
   ]
  },
  {
   "cell_type": "code",
   "execution_count": 30,
   "metadata": {},
   "outputs": [],
   "source": [
    "from pmdarima.arima.utils          import ndiffs\n",
    "from sklearn.metrics               import mean_squared_error\n",
    "from pandas.plotting               import autocorrelation_plot\n",
    "from statsmodels.tsa.stattools     import adfuller\n",
    "from statsmodels.tsa.arima.model   import ARIMA\n",
    "from statsmodels.graphics.tsaplots import plot_acf, plot_pacf"
   ]
  },
  {
   "cell_type": "code",
   "execution_count": 33,
   "metadata": {},
   "outputs": [
    {
     "ename": "ValueError",
     "evalue": "Pandas data cast to numpy dtype of object. Check input data with np.asarray(data).",
     "output_type": "error",
     "traceback": [
      "\u001b[0;31m---------------------------------------------------------------------------\u001b[0m",
      "\u001b[0;31mValueError\u001b[0m                                Traceback (most recent call last)",
      "\u001b[1;32m/Users/quzihanwu/Desktop/generic-real-estate-consulting-project-group-7/models/model.ipynb Cell 27\u001b[0m in \u001b[0;36m<cell line: 2>\u001b[0;34m()\u001b[0m\n\u001b[1;32m      <a href='vscode-notebook-cell:/Users/quzihanwu/Desktop/generic-real-estate-consulting-project-group-7/models/model.ipynb#X46sZmlsZQ%3D%3D?line=0'>1</a>\u001b[0m \u001b[39m# fit model\u001b[39;00m\n\u001b[0;32m----> <a href='vscode-notebook-cell:/Users/quzihanwu/Desktop/generic-real-estate-consulting-project-group-7/models/model.ipynb#X46sZmlsZQ%3D%3D?line=1'>2</a>\u001b[0m model \u001b[39m=\u001b[39m ARIMA(model_data, order\u001b[39m=\u001b[39;49m(\u001b[39m5\u001b[39;49m,\u001b[39m1\u001b[39;49m,\u001b[39m0\u001b[39;49m))\n\u001b[1;32m      <a href='vscode-notebook-cell:/Users/quzihanwu/Desktop/generic-real-estate-consulting-project-group-7/models/model.ipynb#X46sZmlsZQ%3D%3D?line=2'>3</a>\u001b[0m model_fit \u001b[39m=\u001b[39m model\u001b[39m.\u001b[39mfit()\n",
      "File \u001b[0;32m~/opt/anaconda3/envs/ADS/lib/python3.10/site-packages/statsmodels/tsa/arima/model.py:153\u001b[0m, in \u001b[0;36mARIMA.__init__\u001b[0;34m(self, endog, exog, order, seasonal_order, trend, enforce_stationarity, enforce_invertibility, concentrate_scale, trend_offset, dates, freq, missing, validate_specification)\u001b[0m\n\u001b[1;32m    146\u001b[0m     trend \u001b[39m=\u001b[39m \u001b[39m'\u001b[39m\u001b[39mn\u001b[39m\u001b[39m'\u001b[39m\n\u001b[1;32m    148\u001b[0m \u001b[39m# Construct the specification\u001b[39;00m\n\u001b[1;32m    149\u001b[0m \u001b[39m# (don't pass specific values of enforce stationarity/invertibility,\u001b[39;00m\n\u001b[1;32m    150\u001b[0m \u001b[39m# because we don't actually want to restrict the estimators based on\u001b[39;00m\n\u001b[1;32m    151\u001b[0m \u001b[39m# this criteria. Instead, we'll just make sure that the parameter\u001b[39;00m\n\u001b[1;32m    152\u001b[0m \u001b[39m# estimates from those methods satisfy the criteria.)\u001b[39;00m\n\u001b[0;32m--> 153\u001b[0m \u001b[39mself\u001b[39m\u001b[39m.\u001b[39m_spec_arima \u001b[39m=\u001b[39m SARIMAXSpecification(\n\u001b[1;32m    154\u001b[0m     endog, exog\u001b[39m=\u001b[39;49mexog, order\u001b[39m=\u001b[39;49morder, seasonal_order\u001b[39m=\u001b[39;49mseasonal_order,\n\u001b[1;32m    155\u001b[0m     trend\u001b[39m=\u001b[39;49mtrend, enforce_stationarity\u001b[39m=\u001b[39;49m\u001b[39mNone\u001b[39;49;00m, enforce_invertibility\u001b[39m=\u001b[39;49m\u001b[39mNone\u001b[39;49;00m,\n\u001b[1;32m    156\u001b[0m     concentrate_scale\u001b[39m=\u001b[39;49mconcentrate_scale, trend_offset\u001b[39m=\u001b[39;49mtrend_offset,\n\u001b[1;32m    157\u001b[0m     dates\u001b[39m=\u001b[39;49mdates, freq\u001b[39m=\u001b[39;49mfreq, missing\u001b[39m=\u001b[39;49mmissing,\n\u001b[1;32m    158\u001b[0m     validate_specification\u001b[39m=\u001b[39;49mvalidate_specification)\n\u001b[1;32m    159\u001b[0m exog \u001b[39m=\u001b[39m \u001b[39mself\u001b[39m\u001b[39m.\u001b[39m_spec_arima\u001b[39m.\u001b[39m_model\u001b[39m.\u001b[39mdata\u001b[39m.\u001b[39morig_exog\n\u001b[1;32m    161\u001b[0m \u001b[39m# Raise an error if we have a constant in an integrated model\u001b[39;00m\n",
      "File \u001b[0;32m~/opt/anaconda3/envs/ADS/lib/python3.10/site-packages/statsmodels/tsa/arima/specification.py:446\u001b[0m, in \u001b[0;36mSARIMAXSpecification.__init__\u001b[0;34m(self, endog, exog, order, seasonal_order, ar_order, diff, ma_order, seasonal_ar_order, seasonal_diff, seasonal_ma_order, seasonal_periods, trend, enforce_stationarity, enforce_invertibility, concentrate_scale, trend_offset, dates, freq, missing, validate_specification)\u001b[0m\n\u001b[1;32m    441\u001b[0m         exog \u001b[39m=\u001b[39m np\u001b[39m.\u001b[39mc_[trend_data, exog]\n\u001b[1;32m    443\u001b[0m \u001b[39m# Create an underlying time series model, to handle endog / exog,\u001b[39;00m\n\u001b[1;32m    444\u001b[0m \u001b[39m# especially validating shapes, retrieving names, and potentially\u001b[39;00m\n\u001b[1;32m    445\u001b[0m \u001b[39m# providing us with a time series index\u001b[39;00m\n\u001b[0;32m--> 446\u001b[0m \u001b[39mself\u001b[39m\u001b[39m.\u001b[39m_model \u001b[39m=\u001b[39m TimeSeriesModel(endog, exog\u001b[39m=\u001b[39;49mexog, dates\u001b[39m=\u001b[39;49mdates, freq\u001b[39m=\u001b[39;49mfreq,\n\u001b[1;32m    447\u001b[0m                               missing\u001b[39m=\u001b[39;49mmissing)\n\u001b[1;32m    448\u001b[0m \u001b[39mself\u001b[39m\u001b[39m.\u001b[39mendog \u001b[39m=\u001b[39m \u001b[39mNone\u001b[39;00m \u001b[39mif\u001b[39;00m faux_endog \u001b[39melse\u001b[39;00m \u001b[39mself\u001b[39m\u001b[39m.\u001b[39m_model\u001b[39m.\u001b[39mendog\n\u001b[1;32m    449\u001b[0m \u001b[39mself\u001b[39m\u001b[39m.\u001b[39mexog \u001b[39m=\u001b[39m \u001b[39mself\u001b[39m\u001b[39m.\u001b[39m_model\u001b[39m.\u001b[39mexog\n",
      "File \u001b[0;32m~/opt/anaconda3/envs/ADS/lib/python3.10/site-packages/statsmodels/tsa/base/tsa_model.py:468\u001b[0m, in \u001b[0;36mTimeSeriesModel.__init__\u001b[0;34m(self, endog, exog, dates, freq, missing, **kwargs)\u001b[0m\n\u001b[1;32m    465\u001b[0m \u001b[39mdef\u001b[39;00m \u001b[39m__init__\u001b[39m(\n\u001b[1;32m    466\u001b[0m     \u001b[39mself\u001b[39m, endog, exog\u001b[39m=\u001b[39m\u001b[39mNone\u001b[39;00m, dates\u001b[39m=\u001b[39m\u001b[39mNone\u001b[39;00m, freq\u001b[39m=\u001b[39m\u001b[39mNone\u001b[39;00m, missing\u001b[39m=\u001b[39m\u001b[39m\"\u001b[39m\u001b[39mnone\u001b[39m\u001b[39m\"\u001b[39m, \u001b[39m*\u001b[39m\u001b[39m*\u001b[39mkwargs\n\u001b[1;32m    467\u001b[0m ):\n\u001b[0;32m--> 468\u001b[0m     \u001b[39msuper\u001b[39;49m()\u001b[39m.\u001b[39;49m\u001b[39m__init__\u001b[39;49m(endog, exog, missing\u001b[39m=\u001b[39;49mmissing, \u001b[39m*\u001b[39;49m\u001b[39m*\u001b[39;49mkwargs)\n\u001b[1;32m    470\u001b[0m     \u001b[39m# Date handling in indexes\u001b[39;00m\n\u001b[1;32m    471\u001b[0m     \u001b[39mself\u001b[39m\u001b[39m.\u001b[39m_init_dates(dates, freq)\n",
      "File \u001b[0;32m~/opt/anaconda3/envs/ADS/lib/python3.10/site-packages/statsmodels/base/model.py:267\u001b[0m, in \u001b[0;36mLikelihoodModel.__init__\u001b[0;34m(self, endog, exog, **kwargs)\u001b[0m\n\u001b[1;32m    266\u001b[0m \u001b[39mdef\u001b[39;00m \u001b[39m__init__\u001b[39m(\u001b[39mself\u001b[39m, endog, exog\u001b[39m=\u001b[39m\u001b[39mNone\u001b[39;00m, \u001b[39m*\u001b[39m\u001b[39m*\u001b[39mkwargs):\n\u001b[0;32m--> 267\u001b[0m     \u001b[39msuper\u001b[39;49m()\u001b[39m.\u001b[39;49m\u001b[39m__init__\u001b[39;49m(endog, exog, \u001b[39m*\u001b[39;49m\u001b[39m*\u001b[39;49mkwargs)\n\u001b[1;32m    268\u001b[0m     \u001b[39mself\u001b[39m\u001b[39m.\u001b[39minitialize()\n",
      "File \u001b[0;32m~/opt/anaconda3/envs/ADS/lib/python3.10/site-packages/statsmodels/base/model.py:92\u001b[0m, in \u001b[0;36mModel.__init__\u001b[0;34m(self, endog, exog, **kwargs)\u001b[0m\n\u001b[1;32m     90\u001b[0m missing \u001b[39m=\u001b[39m kwargs\u001b[39m.\u001b[39mpop(\u001b[39m'\u001b[39m\u001b[39mmissing\u001b[39m\u001b[39m'\u001b[39m, \u001b[39m'\u001b[39m\u001b[39mnone\u001b[39m\u001b[39m'\u001b[39m)\n\u001b[1;32m     91\u001b[0m hasconst \u001b[39m=\u001b[39m kwargs\u001b[39m.\u001b[39mpop(\u001b[39m'\u001b[39m\u001b[39mhasconst\u001b[39m\u001b[39m'\u001b[39m, \u001b[39mNone\u001b[39;00m)\n\u001b[0;32m---> 92\u001b[0m \u001b[39mself\u001b[39m\u001b[39m.\u001b[39mdata \u001b[39m=\u001b[39m \u001b[39mself\u001b[39;49m\u001b[39m.\u001b[39;49m_handle_data(endog, exog, missing, hasconst,\n\u001b[1;32m     93\u001b[0m                               \u001b[39m*\u001b[39;49m\u001b[39m*\u001b[39;49mkwargs)\n\u001b[1;32m     94\u001b[0m \u001b[39mself\u001b[39m\u001b[39m.\u001b[39mk_constant \u001b[39m=\u001b[39m \u001b[39mself\u001b[39m\u001b[39m.\u001b[39mdata\u001b[39m.\u001b[39mk_constant\n\u001b[1;32m     95\u001b[0m \u001b[39mself\u001b[39m\u001b[39m.\u001b[39mexog \u001b[39m=\u001b[39m \u001b[39mself\u001b[39m\u001b[39m.\u001b[39mdata\u001b[39m.\u001b[39mexog\n",
      "File \u001b[0;32m~/opt/anaconda3/envs/ADS/lib/python3.10/site-packages/statsmodels/base/model.py:132\u001b[0m, in \u001b[0;36mModel._handle_data\u001b[0;34m(self, endog, exog, missing, hasconst, **kwargs)\u001b[0m\n\u001b[1;32m    131\u001b[0m \u001b[39mdef\u001b[39;00m \u001b[39m_handle_data\u001b[39m(\u001b[39mself\u001b[39m, endog, exog, missing, hasconst, \u001b[39m*\u001b[39m\u001b[39m*\u001b[39mkwargs):\n\u001b[0;32m--> 132\u001b[0m     data \u001b[39m=\u001b[39m handle_data(endog, exog, missing, hasconst, \u001b[39m*\u001b[39;49m\u001b[39m*\u001b[39;49mkwargs)\n\u001b[1;32m    133\u001b[0m     \u001b[39m# kwargs arrays could have changed, easier to just attach here\u001b[39;00m\n\u001b[1;32m    134\u001b[0m     \u001b[39mfor\u001b[39;00m key \u001b[39min\u001b[39;00m kwargs:\n",
      "File \u001b[0;32m~/opt/anaconda3/envs/ADS/lib/python3.10/site-packages/statsmodels/base/data.py:673\u001b[0m, in \u001b[0;36mhandle_data\u001b[0;34m(endog, exog, missing, hasconst, **kwargs)\u001b[0m\n\u001b[1;32m    670\u001b[0m     exog \u001b[39m=\u001b[39m np\u001b[39m.\u001b[39masarray(exog)\n\u001b[1;32m    672\u001b[0m klass \u001b[39m=\u001b[39m handle_data_class_factory(endog, exog)\n\u001b[0;32m--> 673\u001b[0m \u001b[39mreturn\u001b[39;00m klass(endog, exog\u001b[39m=\u001b[39;49mexog, missing\u001b[39m=\u001b[39;49mmissing, hasconst\u001b[39m=\u001b[39;49mhasconst,\n\u001b[1;32m    674\u001b[0m              \u001b[39m*\u001b[39;49m\u001b[39m*\u001b[39;49mkwargs)\n",
      "File \u001b[0;32m~/opt/anaconda3/envs/ADS/lib/python3.10/site-packages/statsmodels/base/data.py:82\u001b[0m, in \u001b[0;36mModelData.__init__\u001b[0;34m(self, endog, exog, missing, hasconst, **kwargs)\u001b[0m\n\u001b[1;32m     80\u001b[0m     \u001b[39mself\u001b[39m\u001b[39m.\u001b[39morig_endog \u001b[39m=\u001b[39m endog\n\u001b[1;32m     81\u001b[0m     \u001b[39mself\u001b[39m\u001b[39m.\u001b[39morig_exog \u001b[39m=\u001b[39m exog\n\u001b[0;32m---> 82\u001b[0m     \u001b[39mself\u001b[39m\u001b[39m.\u001b[39mendog, \u001b[39mself\u001b[39m\u001b[39m.\u001b[39mexog \u001b[39m=\u001b[39m \u001b[39mself\u001b[39;49m\u001b[39m.\u001b[39;49m_convert_endog_exog(endog, exog)\n\u001b[1;32m     84\u001b[0m \u001b[39mself\u001b[39m\u001b[39m.\u001b[39mconst_idx \u001b[39m=\u001b[39m \u001b[39mNone\u001b[39;00m\n\u001b[1;32m     85\u001b[0m \u001b[39mself\u001b[39m\u001b[39m.\u001b[39mk_constant \u001b[39m=\u001b[39m \u001b[39m0\u001b[39m\n",
      "File \u001b[0;32m~/opt/anaconda3/envs/ADS/lib/python3.10/site-packages/statsmodels/base/data.py:507\u001b[0m, in \u001b[0;36mPandasData._convert_endog_exog\u001b[0;34m(self, endog, exog)\u001b[0m\n\u001b[1;32m    505\u001b[0m exog \u001b[39m=\u001b[39m exog \u001b[39mif\u001b[39;00m exog \u001b[39mis\u001b[39;00m \u001b[39mNone\u001b[39;00m \u001b[39melse\u001b[39;00m np\u001b[39m.\u001b[39masarray(exog)\n\u001b[1;32m    506\u001b[0m \u001b[39mif\u001b[39;00m endog\u001b[39m.\u001b[39mdtype \u001b[39m==\u001b[39m \u001b[39mobject\u001b[39m \u001b[39mor\u001b[39;00m exog \u001b[39mis\u001b[39;00m \u001b[39mnot\u001b[39;00m \u001b[39mNone\u001b[39;00m \u001b[39mand\u001b[39;00m exog\u001b[39m.\u001b[39mdtype \u001b[39m==\u001b[39m \u001b[39mobject\u001b[39m:\n\u001b[0;32m--> 507\u001b[0m     \u001b[39mraise\u001b[39;00m \u001b[39mValueError\u001b[39;00m(\u001b[39m\"\u001b[39m\u001b[39mPandas data cast to numpy dtype of object. \u001b[39m\u001b[39m\"\u001b[39m\n\u001b[1;32m    508\u001b[0m                      \u001b[39m\"\u001b[39m\u001b[39mCheck input data with np.asarray(data).\u001b[39m\u001b[39m\"\u001b[39m)\n\u001b[1;32m    509\u001b[0m \u001b[39mreturn\u001b[39;00m \u001b[39msuper\u001b[39m(PandasData, \u001b[39mself\u001b[39m)\u001b[39m.\u001b[39m_convert_endog_exog(endog, exog)\n",
      "\u001b[0;31mValueError\u001b[0m: Pandas data cast to numpy dtype of object. Check input data with np.asarray(data)."
     ]
    }
   ],
   "source": [
    "# fit model\n",
    "model = ARIMA(model_data, order=(5,1,0))\n",
    "model_fit = model.fit()"
   ]
  },
  {
   "cell_type": "code",
   "execution_count": null,
   "metadata": {},
   "outputs": [],
   "source": []
  }
 ],
 "metadata": {
  "kernelspec": {
   "display_name": "Python 3.10.4 ('ADS')",
   "language": "python",
   "name": "python3"
  },
  "language_info": {
   "codemirror_mode": {
    "name": "ipython",
    "version": 3
   },
   "file_extension": ".py",
   "mimetype": "text/x-python",
   "name": "python",
   "nbconvert_exporter": "python",
   "pygments_lexer": "ipython3",
   "version": "3.10.4"
  },
  "orig_nbformat": 4,
  "vscode": {
   "interpreter": {
    "hash": "183132b451050d377b0440a650259019ec3f60ba0d844e8e7e0c0f7121c63925"
   }
  }
 },
 "nbformat": 4,
 "nbformat_minor": 2
}
