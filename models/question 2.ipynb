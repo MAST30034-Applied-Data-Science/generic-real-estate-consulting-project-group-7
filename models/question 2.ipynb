version https://git-lfs.github.com/spec/v1
oid sha256:917041c3f3aec988aab49a3a954ee3fc9be4b5dd46041ec3feedc3f8d465be7a
size 247144
