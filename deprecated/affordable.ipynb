version https://git-lfs.github.com/spec/v1
oid sha256:0d06ee0089bcbdee59e4d60db4473f22fb409f8d565de59c8a211c6670f6b79a
size 39217
