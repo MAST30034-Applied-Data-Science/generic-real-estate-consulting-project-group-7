{
 "cells": [
  {
   "cell_type": "code",
   "execution_count": 1,
   "metadata": {},
   "outputs": [],
   "source": [
    "import os\n",
    "os.chdir('../scripts')\n",
    "\n",
    "from scrape_domain import *\n",
    "from constants import *\n",
    "from utils import *"
   ]
  },
  {
   "cell_type": "code",
   "execution_count": 2,
   "metadata": {},
   "outputs": [],
   "source": [
    "#find pattern for week/annual rent\n",
    "year_pattern = r\"p.a.|annually|annual\"\n",
    "week_pattern = r\"pw|week\"\n",
    "\n",
    "regex_week_pattern = re.compile(week_pattern)\n",
    "regex_year_pattern = re.compile(year_pattern)\n",
    "\n",
    "\n",
    "def remove_chars(s):\n",
    "    return re.sub('[^0-9.]+', '', s) \n",
    "\n",
    "#flag type of rent with 1(weekly), 0(annul), None(unknown)\n",
    "def type_flag(s):\n",
    "    # week rent\n",
    "    if (len(regex_week_pattern.findall(s.lower())) != 0 )& (len(regex_year_pattern.findall(s.lower())) == 0) :\n",
    "        return 1\n",
    "    # year rent\n",
    "    elif (len(regex_week_pattern.findall(s.lower())) == 0) & (len(regex_year_pattern.findall(s.lower())) != 0) :\n",
    "        return 0\n",
    "    # not speficied\n",
    "    else:\n",
    "        return None\n",
    "\n",
    "#convert rent to weekly rent\n",
    "#if not sure rent type, it will be considered as weekly rent\n",
    "def convert_rent(s):\n",
    "    # week rent\n",
    "    if (len(regex_week_pattern.findall(s.lower())) != 0 )& (len(regex_year_pattern.findall(s.lower())) == 0) :\n",
    "        return remove_chars(s)\n",
    "    # year rent\n",
    "    elif (len(regex_week_pattern.findall(s.lower())) == 0) & (len(regex_year_pattern.findall(s.lower())) != 0) :\n",
    "        return float(remove_chars(s))//12\n",
    "    # not speficied\n",
    "    else:\n",
    "        return remove_chars(s)"
   ]
  },
  {
   "cell_type": "code",
   "execution_count": 3,
   "metadata": {},
   "outputs": [],
   "source": [
    "\n",
    "#input url return dict\n",
    "def input_url_output_df(url_list):\n",
    "    basic_feature_list = []\n",
    "    for url in url_list  :\n",
    "        \n",
    "        link = url\n",
    "        \n",
    "        # opening urls\n",
    "        bs_object = BeautifulSoup(requests.get(link, headers=headers).text, \"html.parser\")\n",
    "\n",
    "        #recent rented\n",
    "        recent_rented_number = bs_object.find(\"div\", {\"class\": \"css-12uo2x5\"})\n",
    "\n",
    "        #neighbourhood family vs single ratio\n",
    "        neighb_family = bs_object.find(\"span\", {\"class\": \"css-1ruej2h\"})\n",
    "        neighb_single = bs_object.find(\"span\", {\"class\": \"css-1ymya4c\"})\n",
    "\n",
    "\n",
    "        #street owner vs renter\n",
    "        street_renter = bs_object.find(\"span\", {\"class\": \"css-1ejmyle\"})\n",
    "        street_owner = bs_object.find(\"span\", {\"class\": \"css-1jhlvvv\"})\n",
    "\n",
    "\n",
    "        #long term resident percentage\n",
    "        long_term_resi= bs_object.find(\"div\", {\"class\": \"css-ibsnk8\"})\n",
    "\n",
    "        # extracting property price\n",
    "        property_price = bs_object.find(\"div\", {\"data-testid\": \"listing-details__summary-title\"})\n",
    "\n",
    "\n",
    "\n",
    "        # dictionary to store temporary data\n",
    "        basic_feature_dict = {}\n",
    "        pattern1 = re.compile(r'>(.+)<.')\n",
    "\n",
    "        # putting 'none' if recent_rented number is missing   \n",
    "        if recent_rented_number is None:\n",
    "            basic_feature_dict['recent_rented_number'] = None\n",
    "\n",
    "        else:\n",
    "            basic_feature_dict['recent_rented_number'] = pattern1.findall(str(recent_rented_number))[0]\n",
    "\n",
    "\n",
    "\n",
    "        # putting 'none' if longterm resident number is missing   \n",
    "        if long_term_resi is None:\n",
    "            basic_feature_dict['long_term_resi_percentage'] = None\n",
    "\n",
    "        else:\n",
    "            basic_feature_dict['long_term_resi_percentage']  = float(str(long_term_resi.text[:-1]))/100\n",
    "\n",
    "\n",
    "\n",
    "        # putting 'none' if neighbourhood family/single number is missing   \n",
    "        if (neighb_family is None) |(neighb_single is None) :\n",
    "            basic_feature_dict['neighb_family_single_ratio'] = None\n",
    "\n",
    "        else:\n",
    "            #to avoid zero division\n",
    "            add_on = 0.000001\n",
    "            basic_feature_dict['neighb_family_single_ratio'] = float(str(neighb_family.text[:-1]))/(float(str(neighb_single.text[:-1]))+add_on)\n",
    "\n",
    "\n",
    "\n",
    "\n",
    "        # putting 'none' if street owener/renter number is missing   \n",
    "        if (street_owner is None) | (street_renter is None):\n",
    "            basic_feature_dict['street_renter_owner_ratio'] = None\n",
    "\n",
    "        else:\n",
    "            #to avoid zero division\n",
    "            add_on = 0.000001\n",
    "            basic_feature_dict['street_renter_owner_ratio'] = float(str(street_renter.text[:-1]))/(float(str(street_owner.text[:-1]))+add_on)\n",
    "\n",
    "\n",
    "\n",
    "        # putting 'none' if price is missing    \n",
    "        if property_price is None:\n",
    "            basic_feature_dict['price'] = None\n",
    "\n",
    "        else:\n",
    "            basic_feature_dict['price'] = pattern1.findall(str(property_price))[0]\n",
    "            \n",
    "         # appending all the data into a list\n",
    "        basic_feature_list.append(basic_feature_dict)\n",
    "        \n",
    "    return basic_feature_list\n",
    "        \n",
    "        "
   ]
  },
  {
   "cell_type": "code",
   "execution_count": 4,
   "metadata": {},
   "outputs": [],
   "source": [
    "def list_to_df(basic_feature_list):\n",
    "    \n",
    "    recent_rented_number_list = []\n",
    "    street_renter_owner_ratio_list = []\n",
    "    neighb_family_single_ratio_list = []\n",
    "    long_term_resi_percentage_list =[]\n",
    "    price_list = []\n",
    "\n",
    "    for row in basic_feature_list:\n",
    "        # checking if the row cointains 'price'         \n",
    "        if 'price' in row:\n",
    "            price_list.append(row['price'])\n",
    "        else:\n",
    "            price_list.append(None)        \n",
    "\n",
    "        # checking if the row cointains 'recent_rented_number'            \n",
    "        if 'recent_rented_number' in row:\n",
    "            recent_rented_number_list.append(row['recent_rented_number'])\n",
    "        else:\n",
    "            recent_rented_number_list.append(None)\n",
    "\n",
    "\n",
    "        # checking if the row cointains 'long_term_resi_percentage'            \n",
    "        if 'long_term_resi_percentage' in row:\n",
    "            long_term_resi_percentage_list.append(row['long_term_resi_percentage'])\n",
    "        else:\n",
    "            long_term_resi_percentage_list.append(None)\n",
    "\n",
    "        # checking if the row cointains 'street_renter_owner_ratio'            \n",
    "        if 'street_renter_owner_ratio' in row:\n",
    "            street_renter_owner_ratio_list.append(row['street_renter_owner_ratio'])\n",
    "        else:\n",
    "            street_renter_owner_ratio_list.append(None)\n",
    "\n",
    "        # checking if the row cointains 'neighb_family_single_ratio'            \n",
    "        if 'neighb_family_single_ratio' in row:\n",
    "            neighb_family_single_ratio_list.append(row['neighb_family_single_ratio'])\n",
    "        else:\n",
    "            neighb_family_single_ratio.append(None)\n",
    "        \n",
    "        \n",
    "    house_dict = {}    \n",
    "    house_dict['Rent'] = price_list\n",
    "    house_dict['street_renter_owner_ratio'] = street_renter_owner_ratio_list \n",
    "    house_dict['neighb_family_single_ratio'] = neighb_family_single_ratio_list\n",
    "    house_dict['long_term_resi_percentage'] = long_term_resi_percentage_list\n",
    "    house_df = pd.DataFrame(house_dict)\n",
    "    \n",
    "    house_df['Converted_Rent'] = [convert_rent(i) for i in price_list]\n",
    "    house_df['Type'] = [type_flag(i) for i in price_list]\n",
    "    return house_df\n",
    "\n"
   ]
  },
  {
   "cell_type": "code",
   "execution_count": 5,
   "metadata": {},
   "outputs": [
    {
     "name": "stderr",
     "output_type": "stream",
     "text": [
      "0it [00:00, ?it/s]/100 [00:00<?, ?it/s]\n",
      "  1%|          | 1/100 [00:00<00:27,  3.57it/s]"
     ]
    },
    {
     "name": "stdout",
     "output_type": "stream",
     "text": [
      "0\n"
     ]
    },
    {
     "name": "stderr",
     "output_type": "stream",
     "text": [
      "0it [00:00, ?it/s]\n",
      "  2%|▏         | 2/100 [00:00<00:24,  3.93it/s]"
     ]
    },
    {
     "name": "stdout",
     "output_type": "stream",
     "text": [
      "0\n"
     ]
    },
    {
     "name": "stderr",
     "output_type": "stream",
     "text": [
      "0it [00:00, ?it/s]\n",
      "  3%|▎         | 3/100 [00:00<00:32,  2.96it/s]"
     ]
    },
    {
     "name": "stdout",
     "output_type": "stream",
     "text": [
      "0\n"
     ]
    },
    {
     "name": "stderr",
     "output_type": "stream",
     "text": [
      "100%|██████████| 1/1 [00:01<00:00,  1.05s/it]\n",
      "  4%|▍         | 4/100 [00:02<01:09,  1.38it/s]"
     ]
    },
    {
     "name": "stdout",
     "output_type": "stream",
     "text": [
      "2\n"
     ]
    },
    {
     "name": "stderr",
     "output_type": "stream",
     "text": [
      "100%|██████████| 1/1 [00:00<00:00,  1.05it/s]\n",
      "  5%|▌         | 5/100 [00:03<01:33,  1.02it/s]"
     ]
    },
    {
     "name": "stdout",
     "output_type": "stream",
     "text": [
      "4\n"
     ]
    },
    {
     "name": "stderr",
     "output_type": "stream",
     "text": [
      "0it [00:00, ?it/s]\n",
      "  6%|▌         | 6/100 [00:03<01:08,  1.37it/s]"
     ]
    },
    {
     "name": "stdout",
     "output_type": "stream",
     "text": [
      "0\n"
     ]
    },
    {
     "name": "stderr",
     "output_type": "stream",
     "text": [
      "0it [00:00, ?it/s]\n",
      "  7%|▋         | 7/100 [00:04<01:10,  1.32it/s]"
     ]
    },
    {
     "name": "stdout",
     "output_type": "stream",
     "text": [
      "0\n"
     ]
    },
    {
     "name": "stderr",
     "output_type": "stream",
     "text": [
      "0it [00:00, ?it/s]\n",
      "  8%|▊         | 8/100 [00:04<00:53,  1.71it/s]"
     ]
    },
    {
     "name": "stdout",
     "output_type": "stream",
     "text": [
      "0\n"
     ]
    },
    {
     "name": "stderr",
     "output_type": "stream",
     "text": [
      "0it [00:00, ?it/s]\n",
      "  9%|▉         | 9/100 [00:05<00:45,  2.00it/s]"
     ]
    },
    {
     "name": "stdout",
     "output_type": "stream",
     "text": [
      "0\n"
     ]
    },
    {
     "name": "stderr",
     "output_type": "stream",
     "text": [
      "100%|██████████| 1/1 [00:00<00:00,  1.89it/s]\n",
      " 10%|█         | 10/100 [00:06<00:55,  1.62it/s]"
     ]
    },
    {
     "name": "stdout",
     "output_type": "stream",
     "text": [
      "14\n"
     ]
    },
    {
     "name": "stderr",
     "output_type": "stream",
     "text": [
      "100%|██████████| 1/1 [00:00<00:00,  2.60it/s]\n",
      " 11%|█         | 11/100 [00:06<00:59,  1.50it/s]"
     ]
    },
    {
     "name": "stdout",
     "output_type": "stream",
     "text": [
      "19\n"
     ]
    },
    {
     "name": "stderr",
     "output_type": "stream",
     "text": [
      "100%|██████████| 1/1 [00:00<00:00,  3.13it/s]\n",
      " 12%|█▏        | 12/100 [00:07<00:59,  1.48it/s]"
     ]
    },
    {
     "name": "stdout",
     "output_type": "stream",
     "text": [
      "1\n"
     ]
    },
    {
     "name": "stderr",
     "output_type": "stream",
     "text": [
      "100%|██████████| 1/1 [00:00<00:00,  2.65it/s]\n",
      " 13%|█▎        | 13/100 [00:08<01:00,  1.44it/s]"
     ]
    },
    {
     "name": "stdout",
     "output_type": "stream",
     "text": [
      "12\n"
     ]
    },
    {
     "name": "stderr",
     "output_type": "stream",
     "text": [
      "100%|██████████| 1/1 [00:00<00:00,  3.93it/s]\n",
      " 14%|█▍        | 14/100 [00:08<00:55,  1.56it/s]"
     ]
    },
    {
     "name": "stdout",
     "output_type": "stream",
     "text": [
      "2\n"
     ]
    },
    {
     "name": "stderr",
     "output_type": "stream",
     "text": [
      "0it [00:00, ?it/s]\n",
      " 15%|█▌        | 15/100 [00:09<00:43,  1.94it/s]"
     ]
    },
    {
     "name": "stdout",
     "output_type": "stream",
     "text": [
      "0\n"
     ]
    },
    {
     "name": "stderr",
     "output_type": "stream",
     "text": [
      "100%|██████████| 1/1 [00:00<00:00,  1.72it/s]\n",
      " 16%|█▌        | 16/100 [00:10<00:54,  1.54it/s]"
     ]
    },
    {
     "name": "stdout",
     "output_type": "stream",
     "text": [
      "14\n"
     ]
    },
    {
     "name": "stderr",
     "output_type": "stream",
     "text": [
      "0it [00:00, ?it/s]\n",
      " 17%|█▋        | 17/100 [00:10<00:44,  1.85it/s]"
     ]
    },
    {
     "name": "stdout",
     "output_type": "stream",
     "text": [
      "0\n"
     ]
    },
    {
     "name": "stderr",
     "output_type": "stream",
     "text": [
      "0it [00:00, ?it/s]\n",
      " 18%|█▊        | 18/100 [00:10<00:37,  2.16it/s]"
     ]
    },
    {
     "name": "stdout",
     "output_type": "stream",
     "text": [
      "0\n"
     ]
    },
    {
     "name": "stderr",
     "output_type": "stream",
     "text": [
      "100%|██████████| 1/1 [00:00<00:00,  3.54it/s]\n",
      " 19%|█▉        | 19/100 [00:11<00:40,  1.98it/s]"
     ]
    },
    {
     "name": "stdout",
     "output_type": "stream",
     "text": [
      "2\n"
     ]
    },
    {
     "name": "stderr",
     "output_type": "stream",
     "text": [
      "100%|██████████| 1/1 [00:00<00:00,  3.17it/s]\n",
      " 20%|██        | 20/100 [00:11<00:45,  1.76it/s]"
     ]
    },
    {
     "name": "stdout",
     "output_type": "stream",
     "text": [
      "1\n"
     ]
    },
    {
     "name": "stderr",
     "output_type": "stream",
     "text": [
      "0it [00:00, ?it/s]\n",
      " 21%|██        | 21/100 [00:12<00:38,  2.06it/s]"
     ]
    },
    {
     "name": "stdout",
     "output_type": "stream",
     "text": [
      "0\n"
     ]
    },
    {
     "name": "stderr",
     "output_type": "stream",
     "text": [
      "0it [00:00, ?it/s]\n",
      " 22%|██▏       | 22/100 [00:12<00:33,  2.30it/s]"
     ]
    },
    {
     "name": "stdout",
     "output_type": "stream",
     "text": [
      "0\n"
     ]
    },
    {
     "name": "stderr",
     "output_type": "stream",
     "text": [
      "100%|██████████| 2/2 [00:01<00:00,  1.30it/s]\n",
      " 23%|██▎       | 23/100 [00:15<01:22,  1.07s/it]"
     ]
    },
    {
     "name": "stdout",
     "output_type": "stream",
     "text": [
      "22\n"
     ]
    },
    {
     "name": "stderr",
     "output_type": "stream",
     "text": [
      "0it [00:00, ?it/s]\n",
      " 24%|██▍       | 24/100 [00:15<01:03,  1.19it/s]"
     ]
    },
    {
     "name": "stdout",
     "output_type": "stream",
     "text": [
      "0\n"
     ]
    },
    {
     "name": "stderr",
     "output_type": "stream",
     "text": [
      "0it [00:00, ?it/s]\n",
      " 25%|██▌       | 25/100 [00:15<00:48,  1.55it/s]"
     ]
    },
    {
     "name": "stdout",
     "output_type": "stream",
     "text": [
      "0\n"
     ]
    },
    {
     "name": "stderr",
     "output_type": "stream",
     "text": [
      "100%|██████████| 1/1 [00:00<00:00,  3.97it/s]\n",
      " 26%|██▌       | 26/100 [00:16<00:47,  1.57it/s]"
     ]
    },
    {
     "name": "stdout",
     "output_type": "stream",
     "text": [
      "4\n"
     ]
    },
    {
     "name": "stderr",
     "output_type": "stream",
     "text": [
      "100%|██████████| 1/1 [00:00<00:00,  2.13it/s]\n",
      " 27%|██▋       | 27/100 [00:17<00:54,  1.34it/s]"
     ]
    },
    {
     "name": "stdout",
     "output_type": "stream",
     "text": [
      "8\n"
     ]
    },
    {
     "name": "stderr",
     "output_type": "stream",
     "text": [
      "100%|██████████| 1/1 [00:00<00:00,  4.25it/s]\n",
      " 28%|██▊       | 28/100 [00:17<00:47,  1.50it/s]"
     ]
    },
    {
     "name": "stdout",
     "output_type": "stream",
     "text": [
      "1\n"
     ]
    },
    {
     "name": "stderr",
     "output_type": "stream",
     "text": [
      "0it [00:00, ?it/s]\n",
      " 29%|██▉       | 29/100 [00:18<00:45,  1.57it/s]"
     ]
    },
    {
     "name": "stdout",
     "output_type": "stream",
     "text": [
      "0\n"
     ]
    },
    {
     "name": "stderr",
     "output_type": "stream",
     "text": [
      "100%|██████████| 1/1 [00:00<00:00,  3.01it/s]\n",
      " 30%|███       | 30/100 [00:18<00:45,  1.54it/s]"
     ]
    },
    {
     "name": "stdout",
     "output_type": "stream",
     "text": [
      "2\n"
     ]
    },
    {
     "name": "stderr",
     "output_type": "stream",
     "text": [
      "100%|██████████| 1/1 [00:00<00:00,  2.05it/s]\n",
      " 31%|███       | 31/100 [00:19<00:50,  1.37it/s]"
     ]
    },
    {
     "name": "stdout",
     "output_type": "stream",
     "text": [
      "19\n"
     ]
    },
    {
     "name": "stderr",
     "output_type": "stream",
     "text": [
      "100%|██████████| 2/2 [00:00<00:00,  2.83it/s]\n",
      " 32%|███▏      | 32/100 [00:21<01:02,  1.09it/s]"
     ]
    },
    {
     "name": "stdout",
     "output_type": "stream",
     "text": [
      "28\n"
     ]
    },
    {
     "name": "stderr",
     "output_type": "stream",
     "text": [
      "0it [00:00, ?it/s]\n",
      " 33%|███▎      | 33/100 [00:21<00:46,  1.43it/s]"
     ]
    },
    {
     "name": "stdout",
     "output_type": "stream",
     "text": [
      "0\n"
     ]
    },
    {
     "name": "stderr",
     "output_type": "stream",
     "text": [
      "0it [00:00, ?it/s]\n",
      " 34%|███▍      | 34/100 [00:21<00:35,  1.84it/s]"
     ]
    },
    {
     "name": "stdout",
     "output_type": "stream",
     "text": [
      "0\n"
     ]
    },
    {
     "name": "stderr",
     "output_type": "stream",
     "text": [
      "100%|██████████| 1/1 [00:00<00:00,  1.61it/s]\n",
      " 35%|███▌      | 35/100 [00:22<00:47,  1.38it/s]"
     ]
    },
    {
     "name": "stdout",
     "output_type": "stream",
     "text": [
      "14\n"
     ]
    },
    {
     "name": "stderr",
     "output_type": "stream",
     "text": [
      "0it [00:00, ?it/s]\n",
      " 36%|███▌      | 36/100 [00:23<00:39,  1.64it/s]"
     ]
    },
    {
     "name": "stdout",
     "output_type": "stream",
     "text": [
      "0\n"
     ]
    },
    {
     "name": "stderr",
     "output_type": "stream",
     "text": [
      "100%|██████████| 2/2 [00:01<00:00,  1.75it/s]\n",
      " 37%|███▋      | 37/100 [00:24<00:56,  1.11it/s]"
     ]
    },
    {
     "name": "stdout",
     "output_type": "stream",
     "text": [
      "26\n"
     ]
    },
    {
     "name": "stderr",
     "output_type": "stream",
     "text": [
      "100%|██████████| 1/1 [00:00<00:00,  2.25it/s]\n",
      " 38%|███▊      | 38/100 [00:25<00:53,  1.17it/s]"
     ]
    },
    {
     "name": "stdout",
     "output_type": "stream",
     "text": [
      "3\n"
     ]
    },
    {
     "name": "stderr",
     "output_type": "stream",
     "text": [
      "100%|██████████| 1/1 [00:00<00:00,  2.36it/s]\n",
      " 39%|███▉      | 39/100 [00:26<00:53,  1.15it/s]"
     ]
    },
    {
     "name": "stdout",
     "output_type": "stream",
     "text": [
      "7\n"
     ]
    },
    {
     "name": "stderr",
     "output_type": "stream",
     "text": [
      "100%|██████████| 2/2 [00:00<00:00,  2.15it/s]\n",
      " 40%|████      | 40/100 [00:27<01:03,  1.06s/it]"
     ]
    },
    {
     "name": "stdout",
     "output_type": "stream",
     "text": [
      "27\n"
     ]
    },
    {
     "name": "stderr",
     "output_type": "stream",
     "text": [
      "100%|██████████| 1/1 [00:00<00:00,  1.88it/s]\n",
      " 41%|████      | 41/100 [00:29<01:13,  1.24s/it]"
     ]
    },
    {
     "name": "stdout",
     "output_type": "stream",
     "text": [
      "20\n"
     ]
    },
    {
     "name": "stderr",
     "output_type": "stream",
     "text": [
      "100%|██████████| 2/2 [00:01<00:00,  1.40it/s]\n",
      " 42%|████▏     | 42/100 [00:31<01:28,  1.52s/it]"
     ]
    },
    {
     "name": "stdout",
     "output_type": "stream",
     "text": [
      "34\n"
     ]
    },
    {
     "name": "stderr",
     "output_type": "stream",
     "text": [
      "100%|██████████| 1/1 [00:00<00:00,  2.24it/s]\n",
      " 43%|████▎     | 43/100 [00:32<01:20,  1.42s/it]"
     ]
    },
    {
     "name": "stdout",
     "output_type": "stream",
     "text": [
      "8\n"
     ]
    },
    {
     "name": "stderr",
     "output_type": "stream",
     "text": [
      "100%|██████████| 1/1 [00:00<00:00,  2.64it/s]\n",
      " 44%|████▍     | 44/100 [00:33<01:07,  1.21s/it]"
     ]
    },
    {
     "name": "stdout",
     "output_type": "stream",
     "text": [
      "7\n"
     ]
    },
    {
     "name": "stderr",
     "output_type": "stream",
     "text": [
      "100%|██████████| 1/1 [00:00<00:00,  2.59it/s]\n",
      " 45%|████▌     | 45/100 [00:34<01:03,  1.15s/it]"
     ]
    },
    {
     "name": "stdout",
     "output_type": "stream",
     "text": [
      "5\n"
     ]
    },
    {
     "name": "stderr",
     "output_type": "stream",
     "text": [
      "0it [00:00, ?it/s]\n",
      " 46%|████▌     | 46/100 [00:34<00:47,  1.14it/s]"
     ]
    },
    {
     "name": "stdout",
     "output_type": "stream",
     "text": [
      "0\n"
     ]
    },
    {
     "name": "stderr",
     "output_type": "stream",
     "text": [
      "100%|██████████| 1/1 [00:00<00:00,  3.17it/s]\n",
      " 47%|████▋     | 47/100 [00:36<00:55,  1.05s/it]"
     ]
    },
    {
     "name": "stdout",
     "output_type": "stream",
     "text": [
      "1\n"
     ]
    },
    {
     "name": "stderr",
     "output_type": "stream",
     "text": [
      "0it [00:00, ?it/s]\n",
      " 48%|████▊     | 48/100 [00:36<00:41,  1.25it/s]"
     ]
    },
    {
     "name": "stdout",
     "output_type": "stream",
     "text": [
      "0\n"
     ]
    },
    {
     "name": "stderr",
     "output_type": "stream",
     "text": [
      "0it [00:00, ?it/s]\n",
      " 49%|████▉     | 49/100 [00:38<00:54,  1.08s/it]"
     ]
    },
    {
     "name": "stdout",
     "output_type": "stream",
     "text": [
      "0\n"
     ]
    },
    {
     "name": "stderr",
     "output_type": "stream",
     "text": [
      "0it [00:00, ?it/s]\n",
      " 50%|█████     | 50/100 [00:38<00:40,  1.22it/s]"
     ]
    },
    {
     "name": "stdout",
     "output_type": "stream",
     "text": [
      "0\n"
     ]
    },
    {
     "name": "stderr",
     "output_type": "stream",
     "text": [
      "100%|██████████| 1/1 [00:00<00:00,  3.14it/s]\n",
      " 51%|█████     | 51/100 [00:39<00:37,  1.32it/s]"
     ]
    },
    {
     "name": "stdout",
     "output_type": "stream",
     "text": [
      "4\n"
     ]
    },
    {
     "name": "stderr",
     "output_type": "stream",
     "text": [
      "0it [00:00, ?it/s]\n",
      " 52%|█████▏    | 52/100 [00:39<00:29,  1.62it/s]"
     ]
    },
    {
     "name": "stdout",
     "output_type": "stream",
     "text": [
      "0\n"
     ]
    },
    {
     "name": "stderr",
     "output_type": "stream",
     "text": [
      "0it [00:00, ?it/s]\n",
      " 53%|█████▎    | 53/100 [00:39<00:23,  2.00it/s]"
     ]
    },
    {
     "name": "stdout",
     "output_type": "stream",
     "text": [
      "0\n"
     ]
    },
    {
     "name": "stderr",
     "output_type": "stream",
     "text": [
      "100%|██████████| 1/1 [00:00<00:00,  2.06it/s]\n",
      " 54%|█████▍    | 54/100 [00:40<00:26,  1.73it/s]"
     ]
    },
    {
     "name": "stdout",
     "output_type": "stream",
     "text": [
      "5\n"
     ]
    },
    {
     "name": "stderr",
     "output_type": "stream",
     "text": [
      "0it [00:00, ?it/s]\n",
      " 55%|█████▌    | 55/100 [00:40<00:24,  1.85it/s]"
     ]
    },
    {
     "name": "stdout",
     "output_type": "stream",
     "text": [
      "0\n"
     ]
    },
    {
     "name": "stderr",
     "output_type": "stream",
     "text": [
      "0it [00:00, ?it/s]\n",
      " 56%|█████▌    | 56/100 [00:41<00:22,  1.93it/s]"
     ]
    },
    {
     "name": "stdout",
     "output_type": "stream",
     "text": [
      "0\n"
     ]
    },
    {
     "name": "stderr",
     "output_type": "stream",
     "text": [
      "100%|██████████| 1/1 [00:00<00:00,  2.60it/s]\n",
      " 57%|█████▋    | 57/100 [00:41<00:25,  1.72it/s]"
     ]
    },
    {
     "name": "stdout",
     "output_type": "stream",
     "text": [
      "8\n"
     ]
    },
    {
     "name": "stderr",
     "output_type": "stream",
     "text": [
      "0it [00:00, ?it/s]\n",
      " 58%|█████▊    | 58/100 [00:42<00:29,  1.42it/s]"
     ]
    },
    {
     "name": "stdout",
     "output_type": "stream",
     "text": [
      "0\n"
     ]
    },
    {
     "name": "stderr",
     "output_type": "stream",
     "text": [
      "0it [00:00, ?it/s]\n",
      " 59%|█████▉    | 59/100 [00:43<00:24,  1.64it/s]"
     ]
    },
    {
     "name": "stdout",
     "output_type": "stream",
     "text": [
      "0\n"
     ]
    },
    {
     "name": "stderr",
     "output_type": "stream",
     "text": [
      "100%|██████████| 1/1 [00:00<00:00,  4.09it/s]\n",
      " 60%|██████    | 60/100 [00:44<00:28,  1.39it/s]"
     ]
    },
    {
     "name": "stdout",
     "output_type": "stream",
     "text": [
      "1\n"
     ]
    },
    {
     "name": "stderr",
     "output_type": "stream",
     "text": [
      "100%|██████████| 1/1 [00:00<00:00,  1.57it/s]\n",
      " 61%|██████    | 61/100 [00:45<00:31,  1.23it/s]"
     ]
    },
    {
     "name": "stdout",
     "output_type": "stream",
     "text": [
      "5\n"
     ]
    },
    {
     "name": "stderr",
     "output_type": "stream",
     "text": [
      "0it [00:00, ?it/s]\n",
      " 62%|██████▏   | 62/100 [00:45<00:24,  1.57it/s]"
     ]
    },
    {
     "name": "stdout",
     "output_type": "stream",
     "text": [
      "0\n"
     ]
    },
    {
     "name": "stderr",
     "output_type": "stream",
     "text": [
      "0it [00:00, ?it/s]\n",
      " 63%|██████▎   | 63/100 [00:46<00:22,  1.63it/s]"
     ]
    },
    {
     "name": "stdout",
     "output_type": "stream",
     "text": [
      "0\n"
     ]
    },
    {
     "name": "stderr",
     "output_type": "stream",
     "text": [
      "0it [00:00, ?it/s]\n",
      " 64%|██████▍   | 64/100 [00:46<00:18,  1.94it/s]"
     ]
    },
    {
     "name": "stdout",
     "output_type": "stream",
     "text": [
      "0\n"
     ]
    },
    {
     "name": "stderr",
     "output_type": "stream",
     "text": [
      "0it [00:00, ?it/s]\n",
      " 65%|██████▌   | 65/100 [00:47<00:23,  1.48it/s]"
     ]
    },
    {
     "name": "stdout",
     "output_type": "stream",
     "text": [
      "0\n"
     ]
    },
    {
     "name": "stderr",
     "output_type": "stream",
     "text": [
      "0it [00:00, ?it/s]\n",
      " 66%|██████▌   | 66/100 [00:47<00:19,  1.79it/s]"
     ]
    },
    {
     "name": "stdout",
     "output_type": "stream",
     "text": [
      "0\n"
     ]
    },
    {
     "name": "stderr",
     "output_type": "stream",
     "text": [
      "0it [00:00, ?it/s]\n",
      " 67%|██████▋   | 67/100 [00:48<00:15,  2.14it/s]"
     ]
    },
    {
     "name": "stdout",
     "output_type": "stream",
     "text": [
      "0\n"
     ]
    },
    {
     "name": "stderr",
     "output_type": "stream",
     "text": [
      "0it [00:00, ?it/s]\n",
      " 68%|██████▊   | 68/100 [00:48<00:12,  2.48it/s]"
     ]
    },
    {
     "name": "stdout",
     "output_type": "stream",
     "text": [
      "0\n"
     ]
    },
    {
     "name": "stderr",
     "output_type": "stream",
     "text": [
      "0it [00:00, ?it/s]\n",
      " 69%|██████▉   | 69/100 [00:48<00:10,  2.90it/s]"
     ]
    },
    {
     "name": "stdout",
     "output_type": "stream",
     "text": [
      "0\n"
     ]
    },
    {
     "name": "stderr",
     "output_type": "stream",
     "text": [
      "0it [00:00, ?it/s]\n",
      " 70%|███████   | 70/100 [00:49<00:15,  1.93it/s]"
     ]
    },
    {
     "name": "stdout",
     "output_type": "stream",
     "text": [
      "0\n"
     ]
    },
    {
     "name": "stderr",
     "output_type": "stream",
     "text": [
      "0it [00:00, ?it/s]\n",
      " 71%|███████   | 71/100 [00:49<00:12,  2.27it/s]"
     ]
    },
    {
     "name": "stdout",
     "output_type": "stream",
     "text": [
      "0\n"
     ]
    },
    {
     "name": "stderr",
     "output_type": "stream",
     "text": [
      "100%|██████████| 1/1 [00:00<00:00,  2.95it/s]\n",
      " 72%|███████▏  | 72/100 [00:50<00:15,  1.85it/s]"
     ]
    },
    {
     "name": "stdout",
     "output_type": "stream",
     "text": [
      "3\n"
     ]
    },
    {
     "name": "stderr",
     "output_type": "stream",
     "text": [
      "0it [00:00, ?it/s]\n",
      " 73%|███████▎  | 73/100 [00:50<00:12,  2.10it/s]"
     ]
    },
    {
     "name": "stdout",
     "output_type": "stream",
     "text": [
      "0\n"
     ]
    },
    {
     "name": "stderr",
     "output_type": "stream",
     "text": [
      "0it [00:00, ?it/s]\n",
      " 74%|███████▍  | 74/100 [00:51<00:10,  2.37it/s]"
     ]
    },
    {
     "name": "stdout",
     "output_type": "stream",
     "text": [
      "0\n"
     ]
    },
    {
     "name": "stderr",
     "output_type": "stream",
     "text": [
      "0it [00:00, ?it/s]\n",
      " 75%|███████▌  | 75/100 [00:51<00:09,  2.76it/s]"
     ]
    },
    {
     "name": "stdout",
     "output_type": "stream",
     "text": [
      "0\n"
     ]
    },
    {
     "name": "stderr",
     "output_type": "stream",
     "text": [
      "100%|██████████| 1/1 [00:00<00:00,  2.32it/s]\n",
      " 76%|███████▌  | 76/100 [00:53<00:18,  1.30it/s]"
     ]
    },
    {
     "name": "stdout",
     "output_type": "stream",
     "text": [
      "19\n"
     ]
    },
    {
     "name": "stderr",
     "output_type": "stream",
     "text": [
      "100%|██████████| 2/2 [00:01<00:00,  1.81it/s]\n",
      " 77%|███████▋  | 77/100 [00:54<00:23,  1.00s/it]"
     ]
    },
    {
     "name": "stdout",
     "output_type": "stream",
     "text": [
      "24\n"
     ]
    },
    {
     "name": "stderr",
     "output_type": "stream",
     "text": [
      "100%|██████████| 7/7 [00:04<00:00,  1.65it/s]\n",
      " 78%|███████▊  | 78/100 [00:59<00:46,  2.12s/it]"
     ]
    },
    {
     "name": "stdout",
     "output_type": "stream",
     "text": [
      "129\n"
     ]
    },
    {
     "name": "stderr",
     "output_type": "stream",
     "text": [
      "100%|██████████| 4/4 [00:01<00:00,  2.26it/s]\n",
      " 79%|███████▉  | 79/100 [01:01<00:45,  2.18s/it]"
     ]
    },
    {
     "name": "stdout",
     "output_type": "stream",
     "text": [
      "74\n"
     ]
    },
    {
     "name": "stderr",
     "output_type": "stream",
     "text": [
      "0it [00:00, ?it/s]\n",
      " 80%|████████  | 80/100 [01:01<00:32,  1.62s/it]"
     ]
    },
    {
     "name": "stdout",
     "output_type": "stream",
     "text": [
      "0\n"
     ]
    },
    {
     "name": "stderr",
     "output_type": "stream",
     "text": [
      "100%|██████████| 1/1 [00:00<00:00,  3.61it/s]\n",
      " 81%|████████  | 81/100 [01:02<00:24,  1.30s/it]"
     ]
    },
    {
     "name": "stdout",
     "output_type": "stream",
     "text": [
      "2\n"
     ]
    },
    {
     "name": "stderr",
     "output_type": "stream",
     "text": [
      "100%|██████████| 1/1 [00:00<00:00,  4.40it/s]\n",
      " 82%|████████▏ | 82/100 [01:03<00:19,  1.11s/it]"
     ]
    },
    {
     "name": "stdout",
     "output_type": "stream",
     "text": [
      "2\n"
     ]
    },
    {
     "name": "stderr",
     "output_type": "stream",
     "text": [
      "0it [00:00, ?it/s]\n",
      " 83%|████████▎ | 83/100 [01:03<00:14,  1.20it/s]"
     ]
    },
    {
     "name": "stdout",
     "output_type": "stream",
     "text": [
      "0\n"
     ]
    },
    {
     "name": "stderr",
     "output_type": "stream",
     "text": [
      "0it [00:00, ?it/s]\n",
      " 84%|████████▍ | 84/100 [01:03<00:10,  1.49it/s]"
     ]
    },
    {
     "name": "stdout",
     "output_type": "stream",
     "text": [
      "0\n"
     ]
    },
    {
     "name": "stderr",
     "output_type": "stream",
     "text": [
      "100%|██████████| 1/1 [00:00<00:00,  2.24it/s]\n",
      " 85%|████████▌ | 85/100 [01:04<00:11,  1.36it/s]"
     ]
    },
    {
     "name": "stdout",
     "output_type": "stream",
     "text": [
      "11\n"
     ]
    },
    {
     "name": "stderr",
     "output_type": "stream",
     "text": [
      "0it [00:00, ?it/s]\n",
      " 86%|████████▌ | 86/100 [01:04<00:08,  1.66it/s]"
     ]
    },
    {
     "name": "stdout",
     "output_type": "stream",
     "text": [
      "0\n"
     ]
    },
    {
     "name": "stderr",
     "output_type": "stream",
     "text": [
      "0it [00:00, ?it/s]\n",
      " 87%|████████▋ | 87/100 [01:05<00:08,  1.60it/s]"
     ]
    },
    {
     "name": "stdout",
     "output_type": "stream",
     "text": [
      "0\n"
     ]
    },
    {
     "name": "stderr",
     "output_type": "stream",
     "text": [
      "100%|██████████| 1/1 [00:00<00:00,  1.09it/s]\n",
      " 88%|████████▊ | 88/100 [01:06<00:10,  1.19it/s]"
     ]
    },
    {
     "name": "stdout",
     "output_type": "stream",
     "text": [
      "2\n"
     ]
    },
    {
     "name": "stderr",
     "output_type": "stream",
     "text": [
      "0it [00:00, ?it/s]\n",
      " 89%|████████▉ | 89/100 [01:07<00:08,  1.35it/s]"
     ]
    },
    {
     "name": "stdout",
     "output_type": "stream",
     "text": [
      "0\n"
     ]
    },
    {
     "name": "stderr",
     "output_type": "stream",
     "text": [
      "0it [00:00, ?it/s]\n",
      " 90%|█████████ | 90/100 [01:07<00:05,  1.74it/s]"
     ]
    },
    {
     "name": "stdout",
     "output_type": "stream",
     "text": [
      "0\n"
     ]
    },
    {
     "name": "stderr",
     "output_type": "stream",
     "text": [
      "0it [00:00, ?it/s]\n",
      " 91%|█████████ | 91/100 [01:07<00:04,  2.14it/s]"
     ]
    },
    {
     "name": "stdout",
     "output_type": "stream",
     "text": [
      "0\n"
     ]
    },
    {
     "name": "stderr",
     "output_type": "stream",
     "text": [
      "0it [00:00, ?it/s]\n",
      " 92%|█████████▏| 92/100 [01:07<00:03,  2.58it/s]"
     ]
    },
    {
     "name": "stdout",
     "output_type": "stream",
     "text": [
      "0\n"
     ]
    },
    {
     "name": "stderr",
     "output_type": "stream",
     "text": [
      "100%|██████████| 1/1 [00:00<00:00,  1.88it/s]\n",
      " 93%|█████████▎| 93/100 [01:08<00:03,  1.97it/s]"
     ]
    },
    {
     "name": "stdout",
     "output_type": "stream",
     "text": [
      "2\n"
     ]
    },
    {
     "name": "stderr",
     "output_type": "stream",
     "text": [
      "0it [00:00, ?it/s]\n",
      " 94%|█████████▍| 94/100 [01:09<00:02,  2.16it/s]"
     ]
    },
    {
     "name": "stdout",
     "output_type": "stream",
     "text": [
      "0\n"
     ]
    },
    {
     "name": "stderr",
     "output_type": "stream",
     "text": [
      "0it [00:00, ?it/s]\n",
      " 95%|█████████▌| 95/100 [01:09<00:01,  2.61it/s]"
     ]
    },
    {
     "name": "stdout",
     "output_type": "stream",
     "text": [
      "0\n"
     ]
    },
    {
     "name": "stderr",
     "output_type": "stream",
     "text": [
      "100%|██████████| 2/2 [00:01<00:00,  1.42it/s]\n",
      " 96%|█████████▌| 96/100 [01:11<00:03,  1.21it/s]"
     ]
    },
    {
     "name": "stdout",
     "output_type": "stream",
     "text": [
      "22\n"
     ]
    },
    {
     "name": "stderr",
     "output_type": "stream",
     "text": [
      "100%|██████████| 1/1 [00:00<00:00,  1.66it/s]\n",
      " 97%|█████████▋| 97/100 [01:12<00:02,  1.18it/s]"
     ]
    },
    {
     "name": "stdout",
     "output_type": "stream",
     "text": [
      "9\n"
     ]
    },
    {
     "name": "stderr",
     "output_type": "stream",
     "text": [
      "0it [00:00, ?it/s]\n",
      " 98%|█████████▊| 98/100 [01:12<00:01,  1.41it/s]"
     ]
    },
    {
     "name": "stdout",
     "output_type": "stream",
     "text": [
      "0\n"
     ]
    },
    {
     "name": "stderr",
     "output_type": "stream",
     "text": [
      "0it [00:00, ?it/s]\n",
      " 99%|█████████▉| 99/100 [01:12<00:00,  1.80it/s]"
     ]
    },
    {
     "name": "stdout",
     "output_type": "stream",
     "text": [
      "0\n"
     ]
    },
    {
     "name": "stderr",
     "output_type": "stream",
     "text": [
      "0it [00:00, ?it/s]\n",
      "100%|██████████| 100/100 [01:12<00:00,  1.37it/s]"
     ]
    },
    {
     "name": "stdout",
     "output_type": "stream",
     "text": [
      "0\n"
     ]
    },
    {
     "name": "stderr",
     "output_type": "stream",
     "text": [
      "\n"
     ]
    }
   ],
   "source": [
    "vic_postcodes = constants.postcodes['VIC_sample']\n",
    "\n",
    "domain_links = set()\n",
    "\n",
    "for i in tqdm(range(len(vic_postcodes))):\n",
    "    current_links = domain_property_links(vic_postcodes[i])\n",
    "    domain_links = domain_links | current_links\n",
    "    \n",
    "    print(len(current_links))"
   ]
  },
  {
   "cell_type": "code",
   "execution_count": 6,
   "metadata": {},
   "outputs": [],
   "source": [
    "with open('2022-09-05.VIC.domain.pickle', 'wb') as file:\n",
    "    pickle.dump(domain_links, file , protocol=pickle.HIGHEST_PROTOCOL)"
   ]
  },
  {
   "cell_type": "code",
   "execution_count": 7,
   "metadata": {},
   "outputs": [
    {
     "data": {
      "text/plain": [
       "629"
      ]
     },
     "execution_count": 7,
     "metadata": {},
     "output_type": "execute_result"
    }
   ],
   "source": [
    "with open('2022-09-05.VIC.domain.pickle', 'rb') as file:\n",
    "    links = pickle.load(file)\n",
    "\n",
    "len(links)"
   ]
  },
  {
   "cell_type": "code",
   "execution_count": 8,
   "metadata": {},
   "outputs": [
    {
     "data": {
      "text/plain": [
       "{'https://www.domain.com.au/0-cnr-watson-rd-mcpherson-rd-leongatha-vic-3953-15592673',\n",
       " 'https://www.domain.com.au/1-1-haven-court-cranbourne-vic-3977-16066375',\n",
       " 'https://www.domain.com.au/1-10-bay-street-port-albert-vic-3971-9745101',\n",
       " 'https://www.domain.com.au/1-12-william-street-cranbourne-vic-3977-16063928',\n",
       " 'https://www.domain.com.au/1-14-meikle-street-meeniyan-vic-3956-16004995',\n",
       " 'https://www.domain.com.au/1-15-roadknight-street-lakes-entrance-vic-3909-16061234',\n",
       " 'https://www.domain.com.au/1-16-kent-street-mornington-vic-3931-16061709',\n",
       " 'https://www.domain.com.au/1-16-mckitterick-street-meeniyan-vic-3956-15920145',\n",
       " 'https://www.domain.com.au/1-171-comers-road-kalimna-west-vic-3909-16072320',\n",
       " 'https://www.domain.com.au/1-18-bayport-drive-langwarrin-vic-3910-16072133',\n",
       " 'https://www.domain.com.au/1-18-johnson-street-capel-sound-vic-3940-16039887',\n",
       " 'https://www.domain.com.au/1-18-stawell-street-cranbourne-vic-3977-16032807',\n",
       " 'https://www.domain.com.au/1-181-dromana-parade-safety-beach-vic-3936-15965849',\n",
       " 'https://www.domain.com.au/1-194-dromana-parade-safety-beach-vic-3936-16068461',\n",
       " 'https://www.domain.com.au/1-2-manatee-avenue-mount-eliza-vic-3930-16045272',\n",
       " 'https://www.domain.com.au/1-20-long-street-langwarrin-vic-3910-16045264',\n",
       " 'https://www.domain.com.au/1-24-florence-avenue-capel-sound-vic-3940-15879937',\n",
       " 'https://www.domain.com.au/1-2986-frankston-flinders-balnarring-vic-3926-16002809',\n",
       " 'https://www.domain.com.au/1-30-solander-street-dromana-vic-3936-16010716',\n",
       " 'https://www.domain.com.au/1-311-south-gippsland-highway-cranbourne-vic-3977-15013509',\n",
       " 'https://www.domain.com.au/1-32-34-graham-street-wonthaggi-vic-3995-16073531',\n",
       " 'https://www.domain.com.au/1-34-circle-drive-cranbourne-vic-3977-16046248',\n",
       " 'https://www.domain.com.au/1-34-swans-way-capel-sound-vic-3940-16073312',\n",
       " 'https://www.domain.com.au/1-35-william-street-korumburra-vic-3950-15783512',\n",
       " 'https://www.domain.com.au/1-36-hotham-road-sorrento-vic-3943-16000807',\n",
       " 'https://www.domain.com.au/1-4-lomica-drive-hastings-vic-3915-16036860',\n",
       " 'https://www.domain.com.au/1-4-sydney-st-somerville-vic-3912-14084357',\n",
       " 'https://www.domain.com.au/1-4-volitans-avenue-mount-eliza-vic-3930-15913760',\n",
       " 'https://www.domain.com.au/1-45-armstrong-road-mccrae-vic-3938-16044033',\n",
       " 'https://www.domain.com.au/1-45-richard-drive-langwarrin-vic-3910-14882541',\n",
       " 'https://www.domain.com.au/1-57-swan-reach-road-swan-reach-vic-3903-15998634',\n",
       " 'https://www.domain.com.au/1-6-bentley-road-mccrae-vic-3938-16053031',\n",
       " 'https://www.domain.com.au/1-6-bonito-st-mount-eliza-vic-3930-16059215',\n",
       " 'https://www.domain.com.au/1-63-circle-drive-cranbourne-vic-3977-16058836',\n",
       " 'https://www.domain.com.au/1-63-myer-street-lakes-entrance-vic-3909-16015323',\n",
       " 'https://www.domain.com.au/1-719-point-nepean-road-mccrae-vic-3938-16049112',\n",
       " 'https://www.domain.com.au/1-8-heather-avenue-sorrento-vic-3943-15238444',\n",
       " 'https://www.domain.com.au/1-8-victoria-crescent-safety-beach-vic-3936-16023473',\n",
       " 'https://www.domain.com.au/1-9-weeroona-street-rye-vic-3941-15689621',\n",
       " 'https://www.domain.com.au/1-baildor-court-cranbourne-vic-3977-16012383',\n",
       " 'https://www.domain.com.au/1-bianca-court-mornington-vic-3931-16020323',\n",
       " 'https://www.domain.com.au/1-birchmore-place-clyde-north-vic-3978-16057075',\n",
       " 'https://www.domain.com.au/1-blind-bight-road-blind-bight-vic-3980-15980692',\n",
       " 'https://www.domain.com.au/1-bluff-rd-merricks-beach-vic-3926-15995340',\n",
       " 'https://www.domain.com.au/1-cobain-way-cranbourne-east-vic-3977-16035847',\n",
       " 'https://www.domain.com.au/1-fiona-drive-cranbourne-south-vic-3977-15947357',\n",
       " 'https://www.domain.com.au/1-highland-avenue-hampton-park-vic-3976-16018801',\n",
       " 'https://www.domain.com.au/1-hume-court-cranbourne-north-vic-3977-14198934',\n",
       " 'https://www.domain.com.au/1-john-street-koo-wee-rup-vic-3981-14715379',\n",
       " 'https://www.domain.com.au/1-karmai-court-korumburra-vic-3950-15786393',\n",
       " 'https://www.domain.com.au/1-moreton-bay-boulevard-lyndhurst-vic-3975-15408229',\n",
       " 'https://www.domain.com.au/1-pedro-street-clyde-north-vic-3978-16069636',\n",
       " 'https://www.domain.com.au/1-ray-street-safety-beach-vic-3936-16048303',\n",
       " 'https://www.domain.com.au/1-royal-place-leongatha-vic-3953-16042411',\n",
       " 'https://www.domain.com.au/1-tamarama-close-tarwin-lower-vic-3956-16053631',\n",
       " 'https://www.domain.com.au/1-torney-street-cranbourne-east-vic-3977-16070323',\n",
       " 'https://www.domain.com.au/1-williamson-street-tootgarook-vic-3941-15919856',\n",
       " 'https://www.domain.com.au/10-3056-frankston-flinders-road-balnarring-vic-3926-16008933',\n",
       " 'https://www.domain.com.au/10-anglers-road-sunderland-bay-vic-3922-16028434',\n",
       " 'https://www.domain.com.au/10-brolga-street-clyde-north-vic-3978-16053300',\n",
       " 'https://www.domain.com.au/10-cabarita-point-kalimna-vic-3909-16073454',\n",
       " 'https://www.domain.com.au/10-compass-rise-hampton-park-vic-3976-15881886',\n",
       " 'https://www.domain.com.au/10-diplomat-crescent-cranbourne-south-vic-3977-16020517',\n",
       " 'https://www.domain.com.au/10-dueran-street-mount-eliza-vic-3930-16052920',\n",
       " 'https://www.domain.com.au/10-enright-street-botanic-ridge-vic-3977-16064078',\n",
       " 'https://www.domain.com.au/10-friar-street-blairgowrie-vic-3942-16050737',\n",
       " 'https://www.domain.com.au/10-hallam-road-hampton-park-vic-3976-16007222',\n",
       " 'https://www.domain.com.au/10-honeybrook-lane-clyde-vic-3978-15726619',\n",
       " 'https://www.domain.com.au/10-hopetoun-street-inverloch-vic-3996-15935242',\n",
       " 'https://www.domain.com.au/10-karoonda-street-capel-sound-vic-3940-16042345',\n",
       " 'https://www.domain.com.au/10-leslie-avenue-cowes-vic-3922-16042985',\n",
       " 'https://www.domain.com.au/10-maddock-drive-cranbourne-east-vic-3977-16056065',\n",
       " 'https://www.domain.com.au/10-quintino-walk-clyde-north-vic-3978-15323041',\n",
       " 'https://www.domain.com.au/10-tarwarri-avenue-capel-sound-vic-3940-16051837',\n",
       " 'https://www.domain.com.au/10-tawney-road-clyde-north-vic-3978-16016415',\n",
       " 'https://www.domain.com.au/10-tea-tree-court-lyndhurst-vic-3975-16065555',\n",
       " 'https://www.domain.com.au/100-glenelg-street-clyde-north-vic-3978-16014437',\n",
       " 'https://www.domain.com.au/102-john-street-tootgarook-vic-3941-16032076',\n",
       " 'https://www.domain.com.au/103-brights-drive-rye-vic-3941-16048929',\n",
       " 'https://www.domain.com.au/107-forest-dr-mount-martha-vic-3934-15957808',\n",
       " 'https://www.domain.com.au/10a-franklin-place-mornington-vic-3931-16011987',\n",
       " 'https://www.domain.com.au/11-andretti-avenue-lynbrook-vic-3975-15239385',\n",
       " 'https://www.domain.com.au/11-appaloosa-grove-clyde-north-vic-3978-16044357',\n",
       " 'https://www.domain.com.au/11-diane-court-somerville-vic-3912-16043279',\n",
       " 'https://www.domain.com.au/11-glenn-close-cranbourne-west-vic-3977-16072567',\n",
       " 'https://www.domain.com.au/11-glenwood-court-cranbourne-vic-3977-16067184',\n",
       " 'https://www.domain.com.au/11-hansens-lane-balnarring-beach-vic-3926-16017546',\n",
       " 'https://www.domain.com.au/11-kawana-mews-cranbourne-vic-3977-16037155',\n",
       " 'https://www.domain.com.au/11-manna-gum-drive-cowes-vic-3922-16039183',\n",
       " 'https://www.domain.com.au/11-mark-street-rosebud-vic-3939-15225769',\n",
       " 'https://www.domain.com.au/11-matong-road-mount-eliza-vic-3930-16056509',\n",
       " 'https://www.domain.com.au/11-murray-anderson-road-rosebud-vic-3939-16043889',\n",
       " 'https://www.domain.com.au/11-sunset-drive-sunset-strip-vic-3922-15898609',\n",
       " 'https://www.domain.com.au/11-sunset-drive-sunset-strip-vic-3922-15898659',\n",
       " 'https://www.domain.com.au/11-teneriffe-street-cranbourne-north-vic-3977-16054867',\n",
       " 'https://www.domain.com.au/11-watt-street-wonthaggi-vic-3995-16052601',\n",
       " 'https://www.domain.com.au/11-wattle-valley-close-lyndhurst-vic-3975-16016698',\n",
       " 'https://www.domain.com.au/116-courtenay-avenue-cranbourne-north-vic-3977-15742165',\n",
       " 'https://www.domain.com.au/11b-curtis-court-cranbourne-vic-3977-16065323',\n",
       " 'https://www.domain.com.au/12-786-esplanade-mornington-vic-3931-14113631',\n",
       " 'https://www.domain.com.au/12-allambi-avenue-capel-sound-vic-3940-16035244',\n",
       " 'https://www.domain.com.au/12-bales-road-cranbourne-east-vic-3977-16067425',\n",
       " 'https://www.domain.com.au/12-beacon-drive-cranbourne-north-vic-3977-16070575',\n",
       " 'https://www.domain.com.au/12-gawalla-street-rye-vic-3941-16058189',\n",
       " 'https://www.domain.com.au/12-morobe-street-sorrento-vic-3943-15917575',\n",
       " 'https://www.domain.com.au/12-morphetville-street-clyde-north-vic-3978-15989901',\n",
       " 'https://www.domain.com.au/12-panorama-ave-sunset-strip-vic-3922-16051185',\n",
       " 'https://www.domain.com.au/12-scorchin-drive-cranbourne-south-vic-3977-16063534',\n",
       " 'https://www.domain.com.au/12-the-habitat-metung-vic-3904-15261698',\n",
       " 'https://www.domain.com.au/12-the-heights-sorrento-vic-3943-15951991',\n",
       " 'https://www.domain.com.au/12-trainers-way-clyde-north-vic-3978-15133477',\n",
       " 'https://www.domain.com.au/12-walbrook-drive-clyde-north-vic-3978-16062755',\n",
       " 'https://www.domain.com.au/12-walton-street-cowes-vic-3922-16069547',\n",
       " 'https://www.domain.com.au/12-wilkiea-crescent-cranbourne-north-vic-3977-16045069',\n",
       " 'https://www.domain.com.au/120-127-mc-kenzie-street-wonthaggi-vic-3995-9901737',\n",
       " 'https://www.domain.com.au/122-heather-grove-clyde-north-vic-3978-15703400',\n",
       " 'https://www.domain.com.au/124-victoria-street-hastings-vic-3915-15019558',\n",
       " 'https://www.domain.com.au/13-bachli-street-rye-vic-3941-16058202',\n",
       " 'https://www.domain.com.au/13-balcombe-street-mornington-vic-3931-16055425',\n",
       " 'https://www.domain.com.au/13-cultivation-circuit-clyde-vic-3978-16053219',\n",
       " 'https://www.domain.com.au/13-houndsforth-street-cranbourne-east-vic-3977-16067635',\n",
       " 'https://www.domain.com.au/13-longbow-terrace-cranbourne-north-vic-3977-16050621',\n",
       " 'https://www.domain.com.au/13-mitre-court-cowes-vic-3922-16069776',\n",
       " 'https://www.domain.com.au/13-nouvel-crescent-corinella-vic-3984-15980446',\n",
       " 'https://www.domain.com.au/13-saloon-circuit-clyde-north-vic-3978-15955834',\n",
       " 'https://www.domain.com.au/13-serengeti-street-clyde-north-vic-3978-16052675',\n",
       " 'https://www.domain.com.au/13-walker-street-dalyston-vic-3992-15999449',\n",
       " 'https://www.domain.com.au/135-somerville-road-hampton-park-vic-3976-16062444',\n",
       " 'https://www.domain.com.au/13a-alameda-avenue-mornington-vic-3931-16031317',\n",
       " 'https://www.domain.com.au/14-amity-way-cranbourne-west-vic-3977-16067969',\n",
       " 'https://www.domain.com.au/14-freiberger-grove-clyde-north-vic-3978-16017129',\n",
       " 'https://www.domain.com.au/14-helm-avenue-safety-beach-vic-3936-16036435',\n",
       " 'https://www.domain.com.au/14-inverloch-parade-inverloch-vic-3996-16040296',\n",
       " 'https://www.domain.com.au/14-jefferson-avenue-cranbourne-north-vic-3977-16063276',\n",
       " 'https://www.domain.com.au/14-john-street-langwarrin-vic-3910-16069366',\n",
       " 'https://www.domain.com.au/14-john-william-drive-mount-martha-vic-3934-16066038',\n",
       " 'https://www.domain.com.au/14-manna-street-dromana-vic-3936-15863381',\n",
       " 'https://www.domain.com.au/14-patterson-street-safety-beach-vic-3936-16041036',\n",
       " 'https://www.domain.com.au/14-pier-street-rye-vic-3941-16040538',\n",
       " 'https://www.domain.com.au/14-pistachio-close-hampton-park-vic-3976-16017451',\n",
       " 'https://www.domain.com.au/14-rawls-street-cranbourne-vic-3977-16060869',\n",
       " 'https://www.domain.com.au/14-saint-mellion-court-cranbourne-vic-3977-16029587',\n",
       " 'https://www.domain.com.au/14-wilson-street-rosebud-vic-3939-16032171',\n",
       " 'https://www.domain.com.au/140-spray-street-rosebud-vic-3939-16041729',\n",
       " 'https://www.domain.com.au/142-sandhurst-boulevard-sandhurst-vic-3977-16051776',\n",
       " 'https://www.domain.com.au/144-sixth-avenue-rosebud-vic-3939-15500945',\n",
       " 'https://www.domain.com.au/15-26-green-island-avenue-mount-martha-vic-3934-16059419',\n",
       " 'https://www.domain.com.au/15-ballarto-road-clyde-vic-3978-16017377',\n",
       " 'https://www.domain.com.au/15-bazadaise-drive-clyde-north-vic-3978-16063989',\n",
       " 'https://www.domain.com.au/15-belfort-la-cranbourne-vic-3977-16065657',\n",
       " 'https://www.domain.com.au/15-blair-road-portsea-vic-3944-15841239',\n",
       " 'https://www.domain.com.au/15-cornell-place-hampton-park-vic-3976-16039827',\n",
       " 'https://www.domain.com.au/15-cornwell-crescent-cranbourne-east-vic-3977-14679720',\n",
       " 'https://www.domain.com.au/15-creighton-way-mornington-vic-3931-16070413',\n",
       " 'https://www.domain.com.au/15-gwenton-avenue-cranbourne-east-vic-3977-15960774',\n",
       " 'https://www.domain.com.au/15-mireland-street-clyde-north-vic-3978-16020708',\n",
       " 'https://www.domain.com.au/15-nouvel-crescent-corinella-vic-3984-16064645',\n",
       " 'https://www.domain.com.au/15-paxford-drive-cranbourne-north-vic-3977-16057777',\n",
       " 'https://www.domain.com.au/15-platypus-rise-botanic-ridge-vic-3977-16030295',\n",
       " 'https://www.domain.com.au/15-stellato-place-hampton-park-vic-3976-16025362',\n",
       " 'https://www.domain.com.au/15-whitsunday-ct-mount-martha-vic-3934-16034036',\n",
       " 'https://www.domain.com.au/16-102-victoria-street-hastings-vic-3915-16047443',\n",
       " 'https://www.domain.com.au/16-baynes-road-red-hill-south-vic-3937-16025343',\n",
       " 'https://www.domain.com.au/16-boldrewood-place-lynbrook-vic-3975-16046025',\n",
       " 'https://www.domain.com.au/16-kenneth-street-inverloch-vic-3996-15315976',\n",
       " 'https://www.domain.com.au/16-selandra-boulevard-clyde-north-vic-3978-16048212',\n",
       " 'https://www.domain.com.au/16-trawalla-court-hampton-park-vic-3976-15262389',\n",
       " 'https://www.domain.com.au/16-watson-road-leongatha-vic-3953-14833322',\n",
       " 'https://www.domain.com.au/161-centre-road-langwarrin-vic-3910-16059384',\n",
       " 'https://www.domain.com.au/16b-sandy-mount-avenue-inverloch-vic-3996-16006035',\n",
       " 'https://www.domain.com.au/17-15-truemans-road-capel-sound-vic-3940-16068660',\n",
       " 'https://www.domain.com.au/17-faolan-way-cranbourne-west-vic-3977-16070456',\n",
       " 'https://www.domain.com.au/17-metallic-way-cranbourne-south-vic-3977-16046082',\n",
       " 'https://www.domain.com.au/17-roborough-ave-mount-eliza-vic-3930-15119395',\n",
       " 'https://www.domain.com.au/17-tarawill-street-rye-vic-3941-14780987',\n",
       " 'https://www.domain.com.au/17-tarawill-street-rye-vic-3941-15436390',\n",
       " 'https://www.domain.com.au/17-vision-drive-hampton-park-vic-3976-15815228',\n",
       " 'https://www.domain.com.au/172-paterson-drive-lynbrook-vic-3975-16047000',\n",
       " 'https://www.domain.com.au/177-mountainview-boulevard-cranbourne-north-vic-3977-16055189',\n",
       " 'https://www.domain.com.au/178a-jetty-road-rosebud-vic-3939-16034145',\n",
       " 'https://www.domain.com.au/18-falcon-grove-metung-vic-3904-16039636',\n",
       " 'https://www.domain.com.au/18-formby-place-cranbourne-vic-3977-16068825',\n",
       " 'https://www.domain.com.au/18-henry-street-west-wonthaggi-vic-3995-15979909',\n",
       " 'https://www.domain.com.au/18-knightsford-avenue-clyde-vic-3978-16028604',\n",
       " 'https://www.domain.com.au/18-maroubra-drive-cape-woolamai-vic-3925-15190902',\n",
       " 'https://www.domain.com.au/18-olive-road-devon-meadows-vic-3977-16036466',\n",
       " 'https://www.domain.com.au/18-pluto-drive-venus-bay-vic-3956-16053331',\n",
       " 'https://www.domain.com.au/18-wicket-road-clyde-vic-3978-14499394',\n",
       " 'https://www.domain.com.au/185-centre-road-langwarrin-vic-3910-16070403',\n",
       " 'https://www.domain.com.au/18g-scott-street-cranbourne-vic-3977-16065944',\n",
       " 'https://www.domain.com.au/19-allambi-court-cranbourne-north-vic-3977-16058909',\n",
       " 'https://www.domain.com.au/19-anita-crescent-venus-bay-vic-3956-15983358',\n",
       " 'https://www.domain.com.au/19-brittle-gum-road-cranbourne-east-vic-3977-16057135',\n",
       " 'https://www.domain.com.au/19-duke-street-yarram-vic-3971-16063778',\n",
       " 'https://www.domain.com.au/19-grenaroff-walk-lyndhurst-vic-3975-16037211',\n",
       " 'https://www.domain.com.au/19-grenville-grove-capel-sound-vic-3940-16048876',\n",
       " 'https://www.domain.com.au/19-john-street-tootgarook-vic-3941-16034418',\n",
       " 'https://www.domain.com.au/19-keskadale-way-clyde-north-vic-3978-16053403',\n",
       " 'https://www.domain.com.au/19-paso-grove-clyde-north-vic-3978-16045601',\n",
       " 'https://www.domain.com.au/1a-alexandra-avenue-kalimna-vic-3909-16064131',\n",
       " 'https://www.domain.com.au/1a-lyon-street-rosebud-vic-3939-16059077',\n",
       " 'https://www.domain.com.au/1a-yera-crescent-rye-vic-3941-15270380',\n",
       " 'https://www.domain.com.au/2-10-ozone-street-rye-vic-3941-15953910',\n",
       " 'https://www.domain.com.au/2-11-hodgins-road-hastings-vic-3915-16031961',\n",
       " 'https://www.domain.com.au/2-13-king-georges-ave-mornington-vic-3931-16066328',\n",
       " 'https://www.domain.com.au/2-153-warrandyte-road-langwarrin-vic-3910-16049027',\n",
       " 'https://www.domain.com.au/2-16-stawell-street-cranbourne-vic-3977-15798469',\n",
       " 'https://www.domain.com.au/2-170-north-road-langwarrin-vic-3910-16071166',\n",
       " 'https://www.domain.com.au/2-171-comers-road-kalimna-vic-3909-16072322',\n",
       " 'https://www.domain.com.au/2-19-seaview-avenue-mornington-vic-3931-15991030',\n",
       " 'https://www.domain.com.au/2-20-irving-ct-capel-sound-vic-3940-16070716',\n",
       " 'https://www.domain.com.au/2-23-clarkestown-avenue-mount-eliza-vic-3930-16068399',\n",
       " 'https://www.domain.com.au/2-24-myers-road-bittern-vic-3918-16040301',\n",
       " 'https://www.domain.com.au/2-24-silvercreek-drive-lynbrook-vic-3975-16063921',\n",
       " 'https://www.domain.com.au/2-4-wonga-lane-mccrae-vic-3938-16038687',\n",
       " 'https://www.domain.com.au/2-40-the-fairway-hampton-park-vic-3976-16071599',\n",
       " 'https://www.domain.com.au/2-46-warrenwood-place-langwarrin-vic-3910-15929724',\n",
       " 'https://www.domain.com.au/2-5-northcote-terrace-mornington-vic-3931-16053456',\n",
       " 'https://www.domain.com.au/2-52-childers-street-cranbourne-vic-3977-13535264',\n",
       " 'https://www.domain.com.au/2-562-cape-paterson-road-cape-paterson-vic-3995-15997624',\n",
       " 'https://www.domain.com.au/2-63-myer-street-lakes-entrance-vic-3909-16015316',\n",
       " 'https://www.domain.com.au/2-7-campbell-street-wonthaggi-vic-3995-16050257',\n",
       " 'https://www.domain.com.au/2-arcadia-crescent-leongatha-vic-3953-16028086',\n",
       " 'https://www.domain.com.au/2-bayview-rd-mornington-vic-3931-16030697',\n",
       " 'https://www.domain.com.au/2-burdoo-street-rye-vic-3941-16073013',\n",
       " 'https://www.domain.com.au/2-clarendon-street-dromana-vic-3936-15992928',\n",
       " 'https://www.domain.com.au/2-craig-avenue-tyabb-vic-3913-16036858',\n",
       " 'https://www.domain.com.au/2-curlew-grove-metung-vic-3904-16000055',\n",
       " 'https://www.domain.com.au/2-dargo-street-lakes-entrance-vic-3909-16055651',\n",
       " 'https://www.domain.com.au/2-davit-court-safety-beach-vic-3936-16067964',\n",
       " 'https://www.domain.com.au/2-lisabritt-court-mount-martha-vic-3934-16063269',\n",
       " 'https://www.domain.com.au/2-nalong-street-rye-vic-3941-15886558',\n",
       " 'https://www.domain.com.au/2-napoli-court-smiths-beach-vic-3922-6918794',\n",
       " 'https://www.domain.com.au/2-park-street-coronet-bay-vic-3984-15974583',\n",
       " 'https://www.domain.com.au/2-pleasant-view-court-mount-martha-vic-3934-15912517',\n",
       " 'https://www.domain.com.au/2-portview-avenue-grantville-vic-3984-16058316',\n",
       " 'https://www.domain.com.au/2-reserve-road-somers-vic-3927-15337381',\n",
       " 'https://www.domain.com.au/2-seam-street-wonthaggi-vic-3995-16022026',\n",
       " 'https://www.domain.com.au/20-blaxland-avenue-cranbourne-north-vic-3977-16026903',\n",
       " 'https://www.domain.com.au/20-brunel-court-hampton-park-vic-3976-15253487',\n",
       " 'https://www.domain.com.au/20-cherokee-parade-clyde-vic-3978-16053559',\n",
       " 'https://www.domain.com.au/20-clairmont-avenue-cranbourne-vic-3977-16063083',\n",
       " 'https://www.domain.com.au/20-courtenay-avenue-cranbourne-north-vic-3977-16066322',\n",
       " 'https://www.domain.com.au/20-demmie-mews-lyndhurst-vic-3975-16026047',\n",
       " 'https://www.domain.com.au/20-fandango-street-clyde-north-vic-3978-16072010',\n",
       " 'https://www.domain.com.au/20-forton-crescent-cranbourne-west-vic-3977-16068120',\n",
       " 'https://www.domain.com.au/20-lyall-street-cranbourne-vic-3977-16024037',\n",
       " 'https://www.domain.com.au/20-macquarie-court-cranbourne-north-vic-3977-16069080',\n",
       " 'https://www.domain.com.au/20-spencer-circuit-cranbourne-east-vic-3977-15497295',\n",
       " 'https://www.domain.com.au/20-st-anns-road-flinders-vic-3929-16018197',\n",
       " 'https://www.domain.com.au/20-whitegum-way-cranbourne-north-vic-3977-13646734',\n",
       " 'https://www.domain.com.au/204-evans-road-cranbourne-west-vic-3977-16067869',\n",
       " 'https://www.domain.com.au/204a-stony-point-road-crib-point-vic-3919-16068170',\n",
       " 'https://www.domain.com.au/207-purves-road-arthurs-seat-vic-3936-16009377',\n",
       " 'https://www.domain.com.au/208-sandy-road-st-andrews-beach-vic-3941-15980053',\n",
       " 'https://www.domain.com.au/208-thompson-avenue-cowes-vic-3922-16020745',\n",
       " 'https://www.domain.com.au/21-cadogan-avenue-ventnor-vic-3922-16067343',\n",
       " 'https://www.domain.com.au/21-charolais-way-clyde-north-vic-3978-16071604',\n",
       " 'https://www.domain.com.au/21-henry-lawson-drive-lynbrook-vic-3975-16036032',\n",
       " 'https://www.domain.com.au/21-landra-street-rye-vic-3941-16030359',\n",
       " 'https://www.domain.com.au/21-marrone-boulevard-cranbourne-east-vic-3977-16023959',\n",
       " 'https://www.domain.com.au/21-pump-house-crescent-clyde-vic-3978-16066353',\n",
       " 'https://www.domain.com.au/21-thornell-street-clyde-north-vic-3978-16072472',\n",
       " 'https://www.domain.com.au/21-woolamai-grove-san-remo-vic-3925-15992942',\n",
       " 'https://www.domain.com.au/2110-ballarto-road-clyde-vic-3978-16055845',\n",
       " 'https://www.domain.com.au/2115-ballarto-road-clyde-vic-3978-16016686',\n",
       " 'https://www.domain.com.au/214-evans-road-cranbourne-west-vic-3977-15882095',\n",
       " 'https://www.domain.com.au/21a-113-country-club-drive-safety-beach-vic-3936-16057718',\n",
       " 'https://www.domain.com.au/22-apium-street-clyde-vic-3978-16052548',\n",
       " 'https://www.domain.com.au/22-braestar-st-cranbourne-vic-3977-16066437',\n",
       " 'https://www.domain.com.au/22-dan-morgan-drive-cranbourne-east-vic-3977-16029639',\n",
       " 'https://www.domain.com.au/22-flamingo-road-capel-sound-vic-3940-15661505',\n",
       " 'https://www.domain.com.au/22-grandview-grove-cowes-vic-3922-15466452',\n",
       " 'https://www.domain.com.au/22-lake-view-drive-safety-beach-vic-3936-16017184',\n",
       " 'https://www.domain.com.au/22-panoramic-avenue-dromana-vic-3936-16025096',\n",
       " 'https://www.domain.com.au/22-queenie-way-cranbourne-west-vic-3977-16025933',\n",
       " 'https://www.domain.com.au/22-tranter-square-lynbrook-vic-3975-16055360',\n",
       " 'https://www.domain.com.au/22-warranilla-avenue-rosebud-vic-3939-15932056',\n",
       " 'https://www.domain.com.au/229-st-germain-boulevard-clyde-north-vic-3978-16063829',\n",
       " 'https://www.domain.com.au/23-nelson-street-foster-vic-3960-15552498',\n",
       " 'https://www.domain.com.au/23-the-avenue-mccrae-vic-3938-16052952',\n",
       " 'https://www.domain.com.au/23-the-galley-capel-sound-vic-3940-15712861',\n",
       " 'https://www.domain.com.au/235-duncans-road-fish-creek-vic-3959-16070606',\n",
       " 'https://www.domain.com.au/235-moores-rd-clyde-vic-3978-15898908',\n",
       " 'https://www.domain.com.au/237-monahans-road-cranbourne-west-vic-3977-16065761',\n",
       " 'https://www.domain.com.au/24-28-potts-road-langwarrin-vic-3910-16031932',\n",
       " 'https://www.domain.com.au/24-burunda-road-rosebud-vic-3939-16054768',\n",
       " 'https://www.domain.com.au/24-campbell-drive-hampton-park-vic-3976-16062217',\n",
       " 'https://www.domain.com.au/24-keskadale-way-clyde-north-vic-3978-16063062',\n",
       " 'https://www.domain.com.au/24-naas-road-clyde-north-vic-3978-16072845',\n",
       " 'https://www.domain.com.au/24-pasadena-drive-cowes-vic-3922-15909070',\n",
       " 'https://www.domain.com.au/24-pasadena-street-rye-vic-3941-15297861',\n",
       " 'https://www.domain.com.au/24-robert-drive-cowes-vic-3922-15219413',\n",
       " 'https://www.domain.com.au/24-sunstone-street-cranbourne-east-vic-3977-16067590',\n",
       " 'https://www.domain.com.au/24-tulloch-street-botanic-ridge-vic-3977-16064573',\n",
       " 'https://www.domain.com.au/24-wattle-court-lang-lang-vic-3984-15478806',\n",
       " 'https://www.domain.com.au/24b-orchid-avenue-capel-sound-vic-3940-16022792',\n",
       " 'https://www.domain.com.au/25-365-pound-road-hampton-park-vic-3976-16070956',\n",
       " 'https://www.domain.com.au/25-clairmont-avenue-cranbourne-vic-3977-16033931',\n",
       " 'https://www.domain.com.au/25-mary-street-wonthaggi-vic-3995-16047418',\n",
       " 'https://www.domain.com.au/25-norwarran-way-langwarrin-vic-3910-16072042',\n",
       " 'https://www.domain.com.au/25-pacific-dr-balnarring-vic-3926-15880697',\n",
       " 'https://www.domain.com.au/25-renlik-circuit-cranbourne-north-vic-3977-15162115',\n",
       " 'https://www.domain.com.au/25-seaview-parade-dromana-vic-3936-16034394',\n",
       " 'https://www.domain.com.au/253-bayview-road-mccrae-vic-3938-16060903',\n",
       " 'https://www.domain.com.au/2541-frankston-flinders-road-bittern-vic-3918-16043833',\n",
       " 'https://www.domain.com.au/25a-veronica-street-inverloch-vic-3996-16006402',\n",
       " 'https://www.domain.com.au/26-30-mine-road-korumburra-vic-3950-12067157',\n",
       " 'https://www.domain.com.au/26-clarendon-street-cranbourne-vic-3977-15988754',\n",
       " 'https://www.domain.com.au/26-dalziell-crescent-cranbourne-north-vic-3977-15314137',\n",
       " 'https://www.domain.com.au/26-dana-avenue-blairgowrie-vic-3942-15338488',\n",
       " 'https://www.domain.com.au/26-eighth-avenue-rosebud-vic-3939-16042115',\n",
       " 'https://www.domain.com.au/26-freiberger-grove-clyde-north-vic-3978-16053273',\n",
       " 'https://www.domain.com.au/26-hardy-street-rye-vic-3941-16061749',\n",
       " 'https://www.domain.com.au/26-maddock-drive-cranbourne-east-vic-3977-16040040',\n",
       " 'https://www.domain.com.au/26-melibee-st-blairgowrie-vic-3942-16028033',\n",
       " 'https://www.domain.com.au/262-dromana-parade-safety-beach-vic-3936-16047681',\n",
       " 'https://www.domain.com.au/27-3374-point-nepean-road-sorrento-vic-3943-16012781',\n",
       " 'https://www.domain.com.au/27-birdie-view-cranbourne-north-vic-3977-16050121',\n",
       " 'https://www.domain.com.au/27-cilroy-crescent-cranbourne-south-vic-3977-16050682',\n",
       " 'https://www.domain.com.au/27-fourth-avenue-rosebud-vic-3939-16066222',\n",
       " 'https://www.domain.com.au/28-beachcomber-drive-inverloch-vic-3996-15920343',\n",
       " 'https://www.domain.com.au/28-cerberus-road-baxter-vic-3911-16049875',\n",
       " 'https://www.domain.com.au/28-doe-street-rye-vic-3941-15895120',\n",
       " 'https://www.domain.com.au/28-fig-street-dromana-vic-3936-16048130',\n",
       " 'https://www.domain.com.au/28-grace-street-cranbourne-vic-3977-16051968',\n",
       " 'https://www.domain.com.au/28-lexton-drive-langwarrin-vic-3910-16054563',\n",
       " 'https://www.domain.com.au/28-remus-circuit-cranbourne-west-vic-3977-16073565',\n",
       " 'https://www.domain.com.au/28-scott-street-cranbourne-vic-3977-16068480',\n",
       " 'https://www.domain.com.au/28-swindale-way-clyde-north-vic-3978-16040434',\n",
       " 'https://www.domain.com.au/28-troedel-street-pearcedale-vic-3912-16042875',\n",
       " 'https://www.domain.com.au/28-valencia-circuit-cranbourne-vic-3977-14646808',\n",
       " 'https://www.domain.com.au/29-birdie-view-cranbourne-north-vic-3977-16050430',\n",
       " 'https://www.domain.com.au/29-fitzwilliam-circuit-clyde-north-vic-3978-14467374',\n",
       " 'https://www.domain.com.au/29-lucid-crescent-clyde-vic-3978-16044697',\n",
       " 'https://www.domain.com.au/29-paterson-drive-lynbrook-vic-3975-16070031',\n",
       " 'https://www.domain.com.au/29-picnic-avenue-clyde-north-vic-3978-16018177',\n",
       " 'https://www.domain.com.au/29-princes-highway-lakes-entrance-vic-3909-16015217',\n",
       " 'https://www.domain.com.au/29-russell-crescent-sorrento-vic-3943-15759971',\n",
       " 'https://www.domain.com.au/2a-pearson-street-capel-sound-vic-3940-16058218',\n",
       " 'https://www.domain.com.au/3-11-hodgins-road-hastings-vic-3915-15384801',\n",
       " 'https://www.domain.com.au/3-147-mount-eliza-way-mount-eliza-vic-3930-15882867',\n",
       " 'https://www.domain.com.au/3-1587-point-nepean-road-capel-sound-vic-3940-15866870',\n",
       " 'https://www.domain.com.au/3-16-bay-road-mount-martha-vic-3934-16069533',\n",
       " 'https://www.domain.com.au/3-17-19-hampton-drive-hampton-park-vic-3976-16059234',\n",
       " 'https://www.domain.com.au/3-21-hunter-street-wonthaggi-vic-3995-16047784',\n",
       " 'https://www.domain.com.au/3-24-bath-street-mornington-vic-3931-16050874',\n",
       " 'https://www.domain.com.au/3-2986-frankston-flinders-road-balnarring-vic-3926-16069603',\n",
       " 'https://www.domain.com.au/3-3-graham-street-wonthaggi-vic-3995-16063382',\n",
       " 'https://www.domain.com.au/3-37-dunn-street-wonthaggi-vic-3995-16070310',\n",
       " 'https://www.domain.com.au/3-38-amelia-ave-mornington-vic-3931-16069476',\n",
       " 'https://www.domain.com.au/3-38-station-road-foster-vic-3960-16044290',\n",
       " 'https://www.domain.com.au/3-48-woyna-avenue-capel-sound-vic-3940-16070104',\n",
       " 'https://www.domain.com.au/3-5-the-avenue-mccrae-vic-3938-15242383',\n",
       " 'https://www.domain.com.au/3-57-swan-reach-road-swan-reach-vic-3903-16053754',\n",
       " 'https://www.domain.com.au/3-7-campbell-street-wonthaggi-vic-3995-16048475',\n",
       " 'https://www.domain.com.au/3-8-leicester-avenue-mount-eliza-vic-3930-16055430',\n",
       " 'https://www.domain.com.au/3-9-11-orme-street-lakes-entrance-vic-3909-15974726',\n",
       " 'https://www.domain.com.au/3-bernard-court-somerville-vic-3912-16060316',\n",
       " 'https://www.domain.com.au/3-catch-street-clyde-vic-3978-15996551',\n",
       " 'https://www.domain.com.au/3-erindale-street-cranbourne-west-vic-3977-12005940',\n",
       " 'https://www.domain.com.au/3-harry-street-cranbourne-vic-3977-16037118',\n",
       " 'https://www.domain.com.au/3-horne-ct-langwarrin-vic-3910-16067359',\n",
       " 'https://www.domain.com.au/3-lee-parade-leongatha-vic-3953-16038130',\n",
       " 'https://www.domain.com.au/3-mabillon-way-clyde-north-vic-3978-16065044',\n",
       " 'https://www.domain.com.au/3-murray-graham-place-metung-vic-3904-16039551',\n",
       " 'https://www.domain.com.au/3-ruffy-drive-cranbourne-vic-3977-16036486',\n",
       " 'https://www.domain.com.au/3-shelley-court-hampton-park-vic-3976-16056335',\n",
       " 'https://www.domain.com.au/3-stonecutters-road-portsea-vic-3944-15839853',\n",
       " 'https://www.domain.com.au/3-tilly-place-lynbrook-vic-3975-16039818',\n",
       " 'https://www.domain.com.au/30-edward-street-hastings-vic-3915-16050025',\n",
       " 'https://www.domain.com.au/30-leonard-drive-langwarrin-vic-3910-16017557',\n",
       " 'https://www.domain.com.au/30-ora-street-hampton-park-vic-3976-15200338',\n",
       " 'https://www.domain.com.au/30a-herbert-street-mornington-vic-3931-16065264',\n",
       " 'https://www.domain.com.au/31-chatfield-avenue-capel-sound-vic-3940-16061861',\n",
       " 'https://www.domain.com.au/31-maeve-circuit-clyde-north-vic-3978-14950725',\n",
       " 'https://www.domain.com.au/31-mcewan-drive-cranbourne-east-vic-3977-16049885',\n",
       " 'https://www.domain.com.au/31-station-street-lang-lang-vic-3984-16072463',\n",
       " 'https://www.domain.com.au/31-vicars-avenue-wonthaggi-vic-3995-16063805',\n",
       " 'https://www.domain.com.au/32-ravenswood-avenue-clyde-vic-3978-16000956',\n",
       " 'https://www.domain.com.au/33-bowman-drive-mornington-vic-3931-16009940',\n",
       " 'https://www.domain.com.au/33-clairmont-close-somerville-vic-3912-16057690',\n",
       " 'https://www.domain.com.au/33-dearing-avenue-cranbourne-vic-3977-15979327',\n",
       " 'https://www.domain.com.au/33-pardoner-road-rye-vic-3941-16034416',\n",
       " 'https://www.domain.com.au/33-ventasso-street-clyde-north-vic-3978-14890213',\n",
       " 'https://www.domain.com.au/336-eastbourne-road-rosebud-vic-3939-15957141',\n",
       " 'https://www.domain.com.au/34-carcoola-rise-clyde-north-vic-3978-15836279',\n",
       " 'https://www.domain.com.au/34-collison-road-cranbourne-east-vic-3977-16044113',\n",
       " 'https://www.domain.com.au/34-diplomat-crescent-cranbourne-south-vic-3977-16052506',\n",
       " 'https://www.domain.com.au/34-geraldine-drive-hampton-park-vic-3976-15756317',\n",
       " 'https://www.domain.com.au/34-kate-avenue-hampton-park-vic-3976-16056348',\n",
       " 'https://www.domain.com.au/34-martin-street-hastings-vic-3915-16039056',\n",
       " 'https://www.domain.com.au/34-precinct-walk-clyde-north-vic-3978-16062873',\n",
       " 'https://www.domain.com.au/34-sonia-crescent-pioneer-bay-vic-3984-14376304',\n",
       " 'https://www.domain.com.au/35-bernborough-avenue-cranbourne-west-vic-3977-16034690',\n",
       " 'https://www.domain.com.au/35-freshfields-drive-cranbourne-north-vic-3977-16064734',\n",
       " 'https://www.domain.com.au/35-hackney-circuit-clyde-north-vic-3978-15362918',\n",
       " 'https://www.domain.com.au/35-paterson-drive-lynbrook-vic-3975-15950326',\n",
       " 'https://www.domain.com.au/36-casuarina-drive-cape-schanck-vic-3939-15896559',\n",
       " 'https://www.domain.com.au/36-murray-anderson-road-rosebud-vic-3939-16063290',\n",
       " 'https://www.domain.com.au/36b-main-street-foster-vic-3960-12615953',\n",
       " 'https://www.domain.com.au/37-pier-st-rye-vic-3941-16025007',\n",
       " 'https://www.domain.com.au/37-the-grange-hampton-park-vic-3976-16000585',\n",
       " 'https://www.domain.com.au/37-woodvale-grove-rosebud-vic-3939-16056433',\n",
       " 'https://www.domain.com.au/3745-point-nepean-road-portsea-vic-3944-15895819',\n",
       " 'https://www.domain.com.au/3764-point-nepean-road-portsea-vic-3944-16061261',\n",
       " 'https://www.domain.com.au/38-alexander-avenue-rye-vic-3941-16039141',\n",
       " 'https://www.domain.com.au/38-lurline-street-cranbourne-vic-3977-16057708',\n",
       " 'https://www.domain.com.au/38-sixth-avenue-rosebud-vic-3939-16003274',\n",
       " 'https://www.domain.com.au/386-settlement-road-cowes-vic-3922-16047425',\n",
       " 'https://www.domain.com.au/39-gilmore-crescent-lynbrook-vic-3975-16018793',\n",
       " 'https://www.domain.com.au/3c-weir-street-rye-vic-3941-16061332',\n",
       " 'https://www.domain.com.au/4-1-king-street-hastings-vic-3915-16070175',\n",
       " 'https://www.domain.com.au/4-100-tanti-ave-mornington-vic-3931-16057624',\n",
       " 'https://www.domain.com.au/4-25-hodgkinson-street-dromana-vic-3936-15964737',\n",
       " 'https://www.domain.com.au/4-281-cranbourne-frankston-road-langwarrin-vic-3910-16067025',\n",
       " 'https://www.domain.com.au/4-3-5-leicester-avenue-mount-eliza-vic-3930-16062566',\n",
       " 'https://www.domain.com.au/4-5-hygeia-street-rye-vic-3941-13863012',\n",
       " 'https://www.domain.com.au/4-51-van-ness-avenue-mornington-vic-3931-16042811',\n",
       " 'https://www.domain.com.au/4-6-8-murray-court-cranbourne-vic-3977-16062984',\n",
       " 'https://www.domain.com.au/4-763-nepean-highway-mornington-vic-3931-16061532',\n",
       " 'https://www.domain.com.au/4-9-findlay-street-cowes-vic-3922-16063129',\n",
       " 'https://www.domain.com.au/4-ailsa-street-mount-martha-vic-3934-15939670',\n",
       " 'https://www.domain.com.au/4-amarillo-drive-cranbourne-south-vic-3977-16021927',\n",
       " 'https://www.domain.com.au/4-bass-horizon-promenade-coronet-bay-vic-3984-16008093',\n",
       " 'https://www.domain.com.au/4-douglas-court-cranbourne-west-vic-3977-16071605',\n",
       " 'https://www.domain.com.au/4-karmai-court-korumburra-vic-3950-16068020',\n",
       " 'https://www.domain.com.au/4-kay-st-blairgowrie-vic-3942-16044015',\n",
       " 'https://www.domain.com.au/4-lucerne-avenue-mornington-vic-3931-16060040',\n",
       " 'https://www.domain.com.au/4-madura-street-rosebud-vic-3939-15865874',\n",
       " 'https://www.domain.com.au/4-manoora-avenue-clyde-north-vic-3978-16038944',\n",
       " 'https://www.domain.com.au/4-maserati-way-cranbourne-east-vic-3977-16005231',\n",
       " 'https://www.domain.com.au/4-morey-street-north-wonthaggi-vic-3995-16045570',\n",
       " 'https://www.domain.com.au/4-randwick-lane-clyde-north-vic-3978-14433869',\n",
       " 'https://www.domain.com.au/4-robin-hill-drive-mornington-vic-3931-16067542',\n",
       " 'https://www.domain.com.au/40-42-watts-road-nyora-vic-3987-15936521',\n",
       " 'https://www.domain.com.au/40-arthurs-seat-road-red-hill-vic-3937-15762571',\n",
       " 'https://www.domain.com.au/40-josephine-avenue-cranbourne-north-vic-3977-16049047',\n",
       " 'https://www.domain.com.au/40-rosyth-road-rye-vic-3941-15957738',\n",
       " 'https://www.domain.com.au/40-ventnor-road-cowes-vic-3922-16072225',\n",
       " 'https://www.domain.com.au/402-eastbourne-road-capel-sound-vic-3940-16023099',\n",
       " 'https://www.domain.com.au/40a-seaview-court-nyora-vic-3987-15979691',\n",
       " 'https://www.domain.com.au/41-cabernet-drive-somerville-vic-3912-16070681',\n",
       " 'https://www.domain.com.au/42-bittern-dromana-road-balnarring-vic-3926-15989099',\n",
       " 'https://www.domain.com.au/42-huon-park-road-cranbourne-north-vic-3977-16057201',\n",
       " 'https://www.domain.com.au/42-matong-road-mount-eliza-vic-3930-16046763',\n",
       " 'https://www.domain.com.au/42-sunderland-bay-road-sunderland-bay-vic-3922-15381751',\n",
       " 'https://www.domain.com.au/42-waterman-drive-cranbourne-south-vic-3977-15975859',\n",
       " 'https://www.domain.com.au/43-courtenay-ave-cranbourne-north-vic-3977-16037855',\n",
       " 'https://www.domain.com.au/43-menzies-street-rye-vic-3941-15923858',\n",
       " 'https://www.domain.com.au/44-henry-street-koo-wee-rup-vic-3981-16018159',\n",
       " 'https://www.domain.com.au/44-nelson-street-wonthaggi-vic-3995-15995922',\n",
       " 'https://www.domain.com.au/44-st-andrews-drive-rye-vic-3941-15282555',\n",
       " 'https://www.domain.com.au/440-keys-road-flinders-vic-3929-16065322',\n",
       " 'https://www.domain.com.au/45-ashenden-square-rosebud-vic-3939-16059023',\n",
       " 'https://www.domain.com.au/45-ezra-street-cranbourne-east-vic-3977-16058117',\n",
       " 'https://www.domain.com.au/45-gleneagles-avenue-mornington-vic-3931-16072992',\n",
       " 'https://www.domain.com.au/46-pyrenees-road-clyde-vic-3978-16073406',\n",
       " 'https://www.domain.com.au/47-jarman-drive-langwarrin-vic-3910-16050539',\n",
       " 'https://www.domain.com.au/47-jessie-street-cranbourne-north-vic-3977-16072718',\n",
       " 'https://www.domain.com.au/47-kershope-view-clyde-north-vic-3978-16044694',\n",
       " 'https://www.domain.com.au/47-oceanaires-avenue-coronet-bay-vic-3984-15423900',\n",
       " 'https://www.domain.com.au/48-childers-street-cranbourne-vic-3977-14551946',\n",
       " 'https://www.domain.com.au/48-grande-belmond-avenue-clyde-vic-3978-16056446',\n",
       " 'https://www.domain.com.au/48-mccormicks-road-skye-vic-3977-16037623',\n",
       " 'https://www.domain.com.au/49-fifth-avenue-rosebud-vic-3939-16005918',\n",
       " 'https://www.domain.com.au/49-helm-ave-safety-beach-vic-3936-15978612',\n",
       " 'https://www.domain.com.au/49-murray-street-wonthaggi-vic-3995-16046098',\n",
       " 'https://www.domain.com.au/49-savoy-grove-cranbourne-north-vic-3977-15751808',\n",
       " 'https://www.domain.com.au/4a-kirrak-street-wonthaggi-vic-3995-15992847',\n",
       " 'https://www.domain.com.au/5-1-chatfield-avenue-capel-sound-vic-3940-15884888',\n",
       " 'https://www.domain.com.au/5-17-mccallum-street-hastings-vic-3915-15622781',\n",
       " 'https://www.domain.com.au/5-3070-frankston-flinders-road-balnarring-vic-3926-16048863',\n",
       " 'https://www.domain.com.au/5-8-winchester-street-foster-vic-3960-16059496',\n",
       " 'https://www.domain.com.au/5-89-dromana-parade-safety-beach-vic-3936-15602577',\n",
       " 'https://www.domain.com.au/5-ardent-court-hastings-vic-3915-16049288',\n",
       " 'https://www.domain.com.au/5-blainroe-crescent-cranbourne-vic-3977-16037624',\n",
       " 'https://www.domain.com.au/5-bruce-street-cranbourne-vic-3977-16056327',\n",
       " 'https://www.domain.com.au/5-elana-court-langwarrin-vic-3910-16062515',\n",
       " 'https://www.domain.com.au/5-grandview-avenue-rye-vic-3941-16072193',\n",
       " 'https://www.domain.com.au/5-hargood-place-cranbourne-east-vic-3977-15332155',\n",
       " 'https://www.domain.com.au/5-illaroo-street-capel-sound-vic-3940-16062205',\n",
       " 'https://www.domain.com.au/5-isaac-edey-place-hampton-park-vic-3976-16030545',\n",
       " 'https://www.domain.com.au/5-kawana-mews-cranbourne-vic-3977-16026932',\n",
       " 'https://www.domain.com.au/5-oaktree-drive-hampton-park-vic-3976-16015758',\n",
       " 'https://www.domain.com.au/5-walhallow-drive-clyde-north-vic-3978-16070200',\n",
       " 'https://www.domain.com.au/5-wendy-street-pioneer-bay-vic-3984-16050094',\n",
       " 'https://www.domain.com.au/5-woodland-way-fingal-vic-3939-16022366',\n",
       " 'https://www.domain.com.au/5-yewers-avenue-mount-eliza-vic-3930-16051199',\n",
       " 'https://www.domain.com.au/50-childers-street-cranbourne-vic-3977-16008793',\n",
       " 'https://www.domain.com.au/50-elmtree-crescent-clyde-north-vic-3978-16019999',\n",
       " 'https://www.domain.com.au/50-glenrose-boulevard-clyde-north-vic-3978-16042068',\n",
       " 'https://www.domain.com.au/50-james-road-bena-vic-3946-16025354',\n",
       " 'https://www.domain.com.au/51-murray-anderson-road-rosebud-vic-3939-16049880',\n",
       " 'https://www.domain.com.au/52-childers-street-cranbourne-vic-3977-13399198',\n",
       " 'https://www.domain.com.au/52-cornwell-crescent-cranbourne-east-vic-3977-16069365',\n",
       " 'https://www.domain.com.au/53-hotham-street-cranbourne-vic-3977-16041776',\n",
       " 'https://www.domain.com.au/53-lurline-street-cranbourne-vic-3977-15313582',\n",
       " 'https://www.domain.com.au/53-sonia-crescent-pioneer-bay-vic-3984-15946567',\n",
       " 'https://www.domain.com.au/53-toirram-crescent-cranbourne-vic-3977-15302555',\n",
       " 'https://www.domain.com.au/54-panorama-drive-mount-martha-vic-3934-16060000',\n",
       " 'https://www.domain.com.au/55-mcrae-drive-dalyston-vic-3992-16036286',\n",
       " 'https://www.domain.com.au/55-sweeneys-road-dumbalk-vic-3956-16022339',\n",
       " 'https://www.domain.com.au/55-tobin-way-lyndhurst-vic-3975-16047589',\n",
       " 'https://www.domain.com.au/56-circle-drive-north-cranbourne-vic-3977-16011543',\n",
       " 'https://www.domain.com.au/56-leopold-crescent-hampton-park-vic-3976-16062874',\n",
       " 'https://www.domain.com.au/56-may-gibbs-cres-lynbrook-vic-3975-16068070',\n",
       " 'https://www.domain.com.au/57-abbeyard-drive-clyde-vic-3978-16036812',\n",
       " 'https://www.domain.com.au/57-pitfield-avenue-cranbourne-east-vic-3977-16033427',\n",
       " 'https://www.domain.com.au/575-settlement-road-cowes-vic-3922-15742229',\n",
       " 'https://www.domain.com.au/59-billson-street-wonthaggi-vic-3995-16036564',\n",
       " 'https://www.domain.com.au/6-15-roadknight-street-lakes-entrance-vic-3909-16061233',\n",
       " 'https://www.domain.com.au/6-26-maxwell-street-mornington-vic-3931-16060633',\n",
       " 'https://www.domain.com.au/6-28-main-street-mornington-vic-3931-15972500',\n",
       " 'https://www.domain.com.au/6-46-mccormicks-road-skye-vic-3977-16061459',\n",
       " 'https://www.domain.com.au/6-50-mccormicks-road-skye-vic-3977-16012332',\n",
       " 'https://www.domain.com.au/6-7-nicholas-court-hastings-vic-3915-16056170',\n",
       " 'https://www.domain.com.au/6-bronson-circuit-cranbourne-north-vic-3977-16053779',\n",
       " 'https://www.domain.com.au/6-bruce-street-inverloch-vic-3996-16071116',\n",
       " 'https://www.domain.com.au/6-cabernet-drive-somerville-vic-3912-16052895',\n",
       " 'https://www.domain.com.au/6-drum-st-rye-vic-3941-16057271',\n",
       " 'https://www.domain.com.au/6-farey-avenue-dromana-vic-3936-15933448',\n",
       " 'https://www.domain.com.au/6-lonsdale-crescent-cranbourne-north-vic-3977-16045311',\n",
       " 'https://www.domain.com.au/6-naila-court-cranbourne-north-vic-3977-16042045',\n",
       " 'https://www.domain.com.au/6-pleasant-view-court-mount-martha-vic-3934-16066558',\n",
       " 'https://www.domain.com.au/6-roskopp-avenue-clyde-north-vic-3978-15993345',\n",
       " 'https://www.domain.com.au/6-sandarra-boulevard-sandhurst-vic-3977-16070215',\n",
       " 'https://www.domain.com.au/6-seaspray-court-hastings-vic-3915-15995352',\n",
       " 'https://www.domain.com.au/6-thomas-road-red-hill-south-vic-3937-15759376',\n",
       " 'https://www.domain.com.au/62-brocker-street-clyde-north-vic-3978-16069332',\n",
       " 'https://www.domain.com.au/62-tankard-drive-cranbourne-east-vic-3977-16039464',\n",
       " 'https://www.domain.com.au/64-dixon-street-inverloch-vic-3996-15951739',\n",
       " 'https://www.domain.com.au/65-creekside-street-clyde-vic-3978-16049230',\n",
       " 'https://www.domain.com.au/65-hoysted-avenue-cranbourne-north-vic-3977-16065484',\n",
       " 'https://www.domain.com.au/65-springleaf-avenue-clyde-north-vic-3978-16066424',\n",
       " 'https://www.domain.com.au/67-campbell-street-wonthaggi-vic-3995-16046284',\n",
       " 'https://www.domain.com.au/67-jetty-road-rosebud-vic-3939-15748425',\n",
       " 'https://www.domain.com.au/68-panorama-drive-cape-woolamai-vic-3925-15990301',\n",
       " 'https://www.domain.com.au/69-rossiter-retreat-cranbourne-north-vic-3977-16072266',\n",
       " 'https://www.domain.com.au/6a-elevation-crescent-san-remo-vic-3925-16021558',\n",
       " 'https://www.domain.com.au/7-121-mount-eliza-way-mount-eliza-vic-3930-15938304',\n",
       " 'https://www.domain.com.au/7-14-william-street-tyabb-vic-3913-15887037',\n",
       " 'https://www.domain.com.au/7-21-raymond-street-somerville-vic-3912-16057169',\n",
       " 'https://www.domain.com.au/7-3-5-cromdale-street-mount-martha-vic-3934-16068518',\n",
       " 'https://www.domain.com.au/7-65-potts-road-langwarrin-vic-3910-16055625',\n",
       " 'https://www.domain.com.au/7-arthur-street-hastings-vic-3915-16057185',\n",
       " 'https://www.domain.com.au/7-bayley-place-cranbourne-west-vic-3977-16033656',\n",
       " 'https://www.domain.com.au/7-dolphin-street-mount-eliza-vic-3930-16071418',\n",
       " 'https://www.domain.com.au/7-evans-street-rye-vic-3941-16010477',\n",
       " 'https://www.domain.com.au/7-forbes-street-safety-beach-vic-3936-16013010',\n",
       " 'https://www.domain.com.au/7-gawalla-street-rye-vic-3941-16041681',\n",
       " 'https://www.domain.com.au/7-george-street-rye-vic-3941-16064329',\n",
       " 'https://www.domain.com.au/7-gillyweed-avenue-clyde-north-vic-3978-14601307',\n",
       " 'https://www.domain.com.au/7-rosewall-ct-wimbledon-heights-vic-3922-15172520',\n",
       " 'https://www.domain.com.au/7-sunlight-avenue-clyde-north-vic-3978-16065161',\n",
       " 'https://www.domain.com.au/7-tiller-walk-mornington-vic-3931-16055414',\n",
       " 'https://www.domain.com.au/7-walhallow-drive-clyde-north-vic-3978-16070191',\n",
       " 'https://www.domain.com.au/70-queens-road-pearcedale-vic-3912-16004210',\n",
       " 'https://www.domain.com.au/715-meeniyan-mirboo-north-road-dumbalk-vic-3956-15992761',\n",
       " 'https://www.domain.com.au/715-meeniyan-mirboo-north-road-dumbalk-vic-3956-16023524',\n",
       " 'https://www.domain.com.au/74-korumburra-road-wonthaggi-vic-3995-16025342',\n",
       " 'https://www.domain.com.au/75-morningside-boulevard-cranbourne-west-vic-3977-16073322',\n",
       " 'https://www.domain.com.au/76-hutchinson-drive-lynbrook-vic-3975-15315722',\n",
       " 'https://www.domain.com.au/77-barkly-street-mornington-vic-3931-15969915',\n",
       " 'https://www.domain.com.au/77-garden-st-blairgowrie-vic-3942-15703946',\n",
       " 'https://www.domain.com.au/78-fourth-avenue-rosebud-vic-3939-16011050',\n",
       " 'https://www.domain.com.au/78a-toirram-crescent-cranbourne-vic-3977-16057344',\n",
       " 'https://www.domain.com.au/79-country-club-dr-safety-beach-vic-3936-16070406',\n",
       " 'https://www.domain.com.au/79-ian-road-mount-martha-vic-3934-16071695',\n",
       " 'https://www.domain.com.au/79-morningside-boulevard-cranbourne-west-vic-3977-16072699',\n",
       " 'https://www.domain.com.au/8-160-north-road-langwarrin-vic-3910-16043392',\n",
       " 'https://www.domain.com.au/8-168-canadian-bay-road-mount-eliza-vic-3930-16058812',\n",
       " 'https://www.domain.com.au/8-2-moorgate-avenue-mount-eliza-vic-3930-16067632',\n",
       " 'https://www.domain.com.au/8-atlantis-street-cowes-vic-3922-16051556',\n",
       " 'https://www.domain.com.au/8-canadian-bay-road-mount-eliza-vic-3930-15933451',\n",
       " 'https://www.domain.com.au/8-clifton-crescent-cowes-vic-3922-15909189',\n",
       " 'https://www.domain.com.au/8-floyd-circuit-cranbourne-vic-3977-16056860',\n",
       " 'https://www.domain.com.au/8-kamona-street-clyde-vic-3978-16066896',\n",
       " 'https://www.domain.com.au/8-keith-street-tootgarook-vic-3941-15941372',\n",
       " 'https://www.domain.com.au/8-raymond-street-mount-martha-vic-3934-16047477',\n",
       " 'https://www.domain.com.au/8-robin-street-lakes-entrance-vic-3909-12227216',\n",
       " 'https://www.domain.com.au/8-rohan-court-hampton-park-vic-3976-15381788',\n",
       " 'https://www.domain.com.au/8-shiels-street-cranbourne-east-vic-3977-15974868',\n",
       " 'https://www.domain.com.au/8-ventasso-street-clyde-north-vic-3978-16066911',\n",
       " 'https://www.domain.com.au/8-winona-rd-mount-eliza-vic-3930-16037188',\n",
       " 'https://www.domain.com.au/82-grandview-terrace-mount-martha-vic-3934-16070058',\n",
       " 'https://www.domain.com.au/84-broadway-capel-sound-vic-3940-16060440',\n",
       " 'https://www.domain.com.au/85-watt-street-wonthaggi-vic-3995-16018023',\n",
       " 'https://www.domain.com.au/86-hutchinson-drive-lynbrook-vic-3975-16011240',\n",
       " 'https://www.domain.com.au/89-third-avenue-rosebud-vic-3939-16072396',\n",
       " 'https://www.domain.com.au/89-wilsons-road-mornington-vic-3931-16061097',\n",
       " 'https://www.domain.com.au/89a-revell-street-blairgowrie-vic-3942-15297789',\n",
       " 'https://www.domain.com.au/9-deegan-way-cranbourne-east-vic-3977-10849669',\n",
       " 'https://www.domain.com.au/9-farnsworth-drive-cape-schanck-vic-3939-15916289',\n",
       " 'https://www.domain.com.au/9-fault-crescent-north-wonthaggi-vic-3995-16058265',\n",
       " 'https://www.domain.com.au/9-guineas-street-cranbourne-east-vic-3977-15991964',\n",
       " 'https://www.domain.com.au/9-harewood-street-tooradin-vic-3980-16066421',\n",
       " 'https://www.domain.com.au/9-lansdowne-street-blairgowrie-vic-3942-12127675',\n",
       " 'https://www.domain.com.au/9-redjim-way-clyde-vic-3978-16057142',\n",
       " 'https://www.domain.com.au/9-reid-parade-hastings-vic-3915-15342889',\n",
       " 'https://www.domain.com.au/9-saltbreeze-circuit-clyde-vic-3978-15346878',\n",
       " 'https://www.domain.com.au/9-sussex-avenue-mornington-vic-3931-13786612',\n",
       " 'https://www.domain.com.au/9-teatree-place-rosebud-vic-3939-16059517',\n",
       " 'https://www.domain.com.au/9-watson-road-sorrento-vic-3943-15805728',\n",
       " 'https://www.domain.com.au/9-woodland-avenue-mount-eliza-vic-3930-15904452',\n",
       " 'https://www.domain.com.au/90-manton-road-clyde-north-vic-3978-16019693',\n",
       " 'https://www.domain.com.au/90-the-grange-hampton-park-vic-3976-16066371',\n",
       " 'https://www.domain.com.au/900b-north-road-pearcedale-vic-3912-16060290',\n",
       " 'https://www.domain.com.au/91-hazel-road-kalimna-vic-3909-16055652',\n",
       " 'https://www.domain.com.au/92-grant-road-somerville-vic-3912-16027403',\n",
       " 'https://www.domain.com.au/930-point-nepean-road-rosebud-vic-3939-16059842',\n",
       " 'https://www.domain.com.au/938-nepean-highway-mornington-vic-3931-16033581',\n",
       " 'https://www.domain.com.au/95-yaralla-circuit-clyde-vic-3978-16040945',\n",
       " 'https://www.domain.com.au/99-endeavour-drive-cranbourne-north-vic-3977-16049095',\n",
       " 'https://www.domain.com.au/998-gelliondale-road-jack-river-vic-3971-16059350',\n",
       " 'https://www.domain.com.au/9a-robert-street-somerville-vic-3912-16073164',\n",
       " 'https://www.domain.com.au/a-5-foam-street-lakes-entrance-vic-3909-16066705',\n",
       " 'https://www.domain.com.au/b30-berth-martha-cove-marina-safety-beach-vic-3936-16020013',\n",
       " 'https://www.domain.com.au/blairgowrie-vic-3942-15804425',\n",
       " 'https://www.domain.com.au/clyde-five-road-clyde-vic-3978-15944898',\n",
       " 'https://www.domain.com.au/clyde-north-vic-3978-15998586',\n",
       " 'https://www.domain.com.au/clyde-north-vic-3978-16058033',\n",
       " 'https://www.domain.com.au/cranbourne-east-vic-3977-14972329',\n",
       " 'https://www.domain.com.au/foster-vic-3960-15139196',\n",
       " 'https://www.domain.com.au/inverloch-vic-3996-14434367',\n",
       " 'https://www.domain.com.au/marina-berth-martha-cove-waterway-safety-beach-vic-3936-10178708',\n",
       " 'https://www.domain.com.au/portsea-vic-3944-15375373',\n",
       " 'https://www.domain.com.au/rye-vic-3941-15680121',\n",
       " 'https://www.domain.com.au/unit-2-59-kangerong-avenue-dromana-vic-3936-15964512'}"
      ]
     },
     "execution_count": 8,
     "metadata": {},
     "output_type": "execute_result"
    }
   ],
   "source": [
    "links"
   ]
  },
  {
   "cell_type": "code",
   "execution_count": 9,
   "metadata": {},
   "outputs": [],
   "source": [
    "test_links = links"
   ]
  },
  {
   "cell_type": "code",
   "execution_count": 10,
   "metadata": {},
   "outputs": [],
   "source": [
    "output_list = input_url_output_df(test_links)"
   ]
  },
  {
   "cell_type": "code",
   "execution_count": 11,
   "metadata": {},
   "outputs": [],
   "source": [
    "df = list_to_df(output_list)"
   ]
  },
  {
   "cell_type": "code",
   "execution_count": 12,
   "metadata": {},
   "outputs": [
    {
     "data": {
      "text/html": [
       "<div>\n",
       "<style scoped>\n",
       "    .dataframe tbody tr th:only-of-type {\n",
       "        vertical-align: middle;\n",
       "    }\n",
       "\n",
       "    .dataframe tbody tr th {\n",
       "        vertical-align: top;\n",
       "    }\n",
       "\n",
       "    .dataframe thead th {\n",
       "        text-align: right;\n",
       "    }\n",
       "</style>\n",
       "<table border=\"1\" class=\"dataframe\">\n",
       "  <thead>\n",
       "    <tr style=\"text-align: right;\">\n",
       "      <th></th>\n",
       "      <th>Rent</th>\n",
       "      <th>street_renter_owner_ratio</th>\n",
       "      <th>neighb_family_single_ratio</th>\n",
       "      <th>long_term_resi_percentage</th>\n",
       "      <th>Converted_Rent</th>\n",
       "      <th>Type</th>\n",
       "    </tr>\n",
       "  </thead>\n",
       "  <tbody>\n",
       "    <tr>\n",
       "      <th>0</th>\n",
       "      <td>$850 per week</td>\n",
       "      <td>0.052632</td>\n",
       "      <td>6.142857</td>\n",
       "      <td>0.65</td>\n",
       "      <td>850</td>\n",
       "      <td>1.0</td>\n",
       "    </tr>\n",
       "    <tr>\n",
       "      <th>1</th>\n",
       "      <td>$450</td>\n",
       "      <td>0.250000</td>\n",
       "      <td>1.439024</td>\n",
       "      <td>0.60</td>\n",
       "      <td>450</td>\n",
       "      <td>NaN</td>\n",
       "    </tr>\n",
       "    <tr>\n",
       "      <th>2</th>\n",
       "      <td>$360.00 pw</td>\n",
       "      <td>0.250000</td>\n",
       "      <td>2.571428</td>\n",
       "      <td>0.70</td>\n",
       "      <td>360.00</td>\n",
       "      <td>1.0</td>\n",
       "    </tr>\n",
       "    <tr>\n",
       "      <th>3</th>\n",
       "      <td>$600 per week</td>\n",
       "      <td>0.052632</td>\n",
       "      <td>7.333333</td>\n",
       "      <td>0.73</td>\n",
       "      <td>600</td>\n",
       "      <td>1.0</td>\n",
       "    </tr>\n",
       "    <tr>\n",
       "      <th>4</th>\n",
       "      <td>UNDER APPLICATION Pending Commencement Date.</td>\n",
       "      <td>0.176471</td>\n",
       "      <td>2.030303</td>\n",
       "      <td>0.67</td>\n",
       "      <td>.</td>\n",
       "      <td>NaN</td>\n",
       "    </tr>\n",
       "    <tr>\n",
       "      <th>...</th>\n",
       "      <td>...</td>\n",
       "      <td>...</td>\n",
       "      <td>...</td>\n",
       "      <td>...</td>\n",
       "      <td>...</td>\n",
       "      <td>...</td>\n",
       "    </tr>\n",
       "    <tr>\n",
       "      <th>624</th>\n",
       "      <td>Under Application</td>\n",
       "      <td>0.250000</td>\n",
       "      <td>2.846154</td>\n",
       "      <td>0.57</td>\n",
       "      <td></td>\n",
       "      <td>NaN</td>\n",
       "    </tr>\n",
       "    <tr>\n",
       "      <th>625</th>\n",
       "      <td>$580 wk</td>\n",
       "      <td>NaN</td>\n",
       "      <td>5.250000</td>\n",
       "      <td>0.77</td>\n",
       "      <td>580</td>\n",
       "      <td>NaN</td>\n",
       "    </tr>\n",
       "    <tr>\n",
       "      <th>626</th>\n",
       "      <td>$575.00</td>\n",
       "      <td>NaN</td>\n",
       "      <td>11.499999</td>\n",
       "      <td>0.68</td>\n",
       "      <td>575.00</td>\n",
       "      <td>NaN</td>\n",
       "    </tr>\n",
       "    <tr>\n",
       "      <th>627</th>\n",
       "      <td>$420 per week</td>\n",
       "      <td>0.428571</td>\n",
       "      <td>4.555555</td>\n",
       "      <td>NaN</td>\n",
       "      <td>420</td>\n",
       "      <td>1.0</td>\n",
       "    </tr>\n",
       "    <tr>\n",
       "      <th>628</th>\n",
       "      <td>$680</td>\n",
       "      <td>NaN</td>\n",
       "      <td>3.761905</td>\n",
       "      <td>NaN</td>\n",
       "      <td>680</td>\n",
       "      <td>NaN</td>\n",
       "    </tr>\n",
       "  </tbody>\n",
       "</table>\n",
       "<p>629 rows × 6 columns</p>\n",
       "</div>"
      ],
      "text/plain": [
       "                                             Rent  street_renter_owner_ratio  \\\n",
       "0                                   $850 per week                   0.052632   \n",
       "1                                            $450                   0.250000   \n",
       "2                                      $360.00 pw                   0.250000   \n",
       "3                                   $600 per week                   0.052632   \n",
       "4    UNDER APPLICATION Pending Commencement Date.                   0.176471   \n",
       "..                                            ...                        ...   \n",
       "624                             Under Application                   0.250000   \n",
       "625                                       $580 wk                        NaN   \n",
       "626                                       $575.00                        NaN   \n",
       "627                                 $420 per week                   0.428571   \n",
       "628                                          $680                        NaN   \n",
       "\n",
       "     neighb_family_single_ratio  long_term_resi_percentage Converted_Rent  \\\n",
       "0                      6.142857                       0.65            850   \n",
       "1                      1.439024                       0.60            450   \n",
       "2                      2.571428                       0.70         360.00   \n",
       "3                      7.333333                       0.73            600   \n",
       "4                      2.030303                       0.67              .   \n",
       "..                          ...                        ...            ...   \n",
       "624                    2.846154                       0.57                  \n",
       "625                    5.250000                       0.77            580   \n",
       "626                   11.499999                       0.68         575.00   \n",
       "627                    4.555555                        NaN            420   \n",
       "628                    3.761905                        NaN            680   \n",
       "\n",
       "     Type  \n",
       "0     1.0  \n",
       "1     NaN  \n",
       "2     1.0  \n",
       "3     1.0  \n",
       "4     NaN  \n",
       "..    ...  \n",
       "624   NaN  \n",
       "625   NaN  \n",
       "626   NaN  \n",
       "627   1.0  \n",
       "628   NaN  \n",
       "\n",
       "[629 rows x 6 columns]"
      ]
     },
     "execution_count": 12,
     "metadata": {},
     "output_type": "execute_result"
    }
   ],
   "source": [
    "df"
   ]
  },
  {
   "cell_type": "code",
   "execution_count": null,
   "metadata": {},
   "outputs": [],
   "source": []
  }
 ],
 "metadata": {
  "kernelspec": {
   "display_name": "Python 3.10.4 ('ADS')",
   "language": "python",
   "name": "python3"
  },
  "language_info": {
   "codemirror_mode": {
    "name": "ipython",
    "version": 3
   },
   "file_extension": ".py",
   "mimetype": "text/x-python",
   "name": "python",
   "nbconvert_exporter": "python",
   "pygments_lexer": "ipython3",
   "version": "3.10.4"
  },
  "orig_nbformat": 4,
  "vscode": {
   "interpreter": {
    "hash": "183132b451050d377b0440a650259019ec3f60ba0d844e8e7e0c0f7121c63925"
   }
  }
 },
 "nbformat": 4,
 "nbformat_minor": 2
}
